{
 "cells": [
  {
   "cell_type": "markdown",
   "id": "4a909af5",
   "metadata": {},
   "source": [
    "# Azure GPT-3"
   ]
  },
  {
   "cell_type": "code",
   "execution_count": 1,
   "id": "c9b5ea16",
   "metadata": {},
   "outputs": [],
   "source": [
    "import os\n",
    "import openai\n",
    "\n",
    "openai.api_type = \"azure\"\n",
    "openai.api_key = os.getenv(\"OPENAI_API_KEY\")\n",
    "openai.api_base = \"https://gpt3testlearn.openai.azure.com/\"\n",
    "openai.api_version = \"2022-06-01-preview\""
   ]
  },
  {
   "cell_type": "code",
   "execution_count": 3,
   "id": "114d42cb",
   "metadata": {},
   "outputs": [
    {
     "name": "stdout",
     "output_type": "stream",
     "text": [
      "I am a digital assistant created by OpenAI. I can help you with tasks like scheduling, keeping track of your to-do list, and even sending emails on your behalf.\n"
     ]
    }
   ],
   "source": [
    "response = openai.Completion.create(\n",
    "        engine=\"TextDaVinci002\", #notice that the azure openAI engine is called \"TextDaVinci002\" and not \"text-davinci-002\"\n",
    "        prompt=\"Hi GPT-3, can you tell me something about yourself ?\",\n",
    "        temperature=0.2,\n",
    "        max_tokens=64,\n",
    "        top_p=1,\n",
    "        frequency_penalty=0,\n",
    "        presence_penalty=0\n",
    "    )\n",
    "\n",
    "print(response[\"choices\"][0][\"text\"].replace('\\n',''))"
   ]
  }
 ],
 "metadata": {
  "kernelspec": {
   "display_name": "Python 3.9.13 ('capstone')",
   "language": "python",
   "name": "python3"
  },
  "language_info": {
   "codemirror_mode": {
    "name": "ipython",
    "version": 3
   },
   "file_extension": ".py",
   "mimetype": "text/x-python",
   "name": "python",
   "nbconvert_exporter": "python",
   "pygments_lexer": "ipython3",
   "version": "3.9.13"
  },
  "orig_nbformat": 4,
  "vscode": {
   "interpreter": {
    "hash": "704de41e01197a30746b151404adacd0add7892f34f8424cc3bd8d3145daa0e1"
   }
  }
 },
 "nbformat": 4,
 "nbformat_minor": 2
}
