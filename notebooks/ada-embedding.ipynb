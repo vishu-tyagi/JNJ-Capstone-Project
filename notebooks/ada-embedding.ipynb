{
 "cells": [
  {
   "cell_type": "code",
   "execution_count": 3,
   "metadata": {},
   "outputs": [],
   "source": [
    "# !pip install -U sentence-transformers"
   ]
  },
  {
   "cell_type": "code",
   "execution_count": 29,
   "metadata": {},
   "outputs": [],
   "source": [
    "import nltk\n",
    "# nltk.download('stopwords')\n",
    "# nltk.download('punkt')\n",
    "# nltk.download('wordnet')\n",
    "# nltk.download('omw-1.4')\n",
    "import os, sys\n",
    "import time\n",
    "\n",
    "from pathlib import Path\n",
    "import logging\n",
    "import itertools\n",
    "from tqdm.auto import tqdm\n",
    "\n",
    "import numpy as np\n",
    "import pandas as pd\n",
    "import matplotlib.pyplot as plt\n",
    "import seaborn as sns\n",
    "from sklearn.model_selection import train_test_split\n",
    "\n",
    "\n",
    "import openai\n",
    "from sentence_transformers import SentenceTransformer\n",
    "from sklearn.cluster import KMeans\n",
    "\n",
    "from openai.embeddings_utils import (\n",
    "    get_embedding,\n",
    "    distances_from_embeddings,\n",
    "    tsne_components_from_embeddings,\n",
    "    pca_components_from_embeddings,\n",
    "    chart_from_components,\n",
    "    indices_of_nearest_neighbors_from_distances,\n",
    "    chart_from_components_3D\n",
    ")\n",
    "\n",
    "\n",
    "from capstone.config import CapstoneConfig\n",
    "from capstone.data_access import DataClass\n",
    "from capstone.features import Features\n",
    "from capstone.evaluation import CustomEvaluation\n",
    "from capstone.utils.constants import (\n",
    "    TEXT,\n",
    "    TARGET,\n",
    "    ORIGINAL_TEXT,\n",
    "    SPLIT,\n",
    "    DEVELOP,\n",
    "    TEST,\n",
    "    PREDICTION,\n",
    "    CORRECTED\n",
    ")\n",
    "\n",
    "import plotly.express as px\n",
    "\n",
    "sns.set_style(\"darkgrid\")\n",
    "PARENT_PATH = Path(os.getcwd()).parent.absolute()\n",
    "openai.api_key = os.getenv(\"OPENAI_API_KEY\")\n",
    "openai.organization = os.getenv(\"OPENAI_API_ORGANIZATION_KEY\")\n",
    "\n",
    "\n",
    "FORMAT = \"%(asctime)s - %(name)s - %(levelname)s - %(message)s\"\n",
    "logging.basicConfig(format=FORMAT, level=logging.INFO)"
   ]
  },
  {
   "cell_type": "code",
   "execution_count": 30,
   "metadata": {},
   "outputs": [
    {
     "data": {
      "text/html": [
       "<div>\n",
       "<style scoped>\n",
       "    .dataframe tbody tr th:only-of-type {\n",
       "        vertical-align: middle;\n",
       "    }\n",
       "\n",
       "    .dataframe tbody tr th {\n",
       "        vertical-align: top;\n",
       "    }\n",
       "\n",
       "    .dataframe thead th {\n",
       "        text-align: right;\n",
       "    }\n",
       "</style>\n",
       "<table border=\"1\" class=\"dataframe\">\n",
       "  <thead>\n",
       "    <tr style=\"text-align: right;\">\n",
       "      <th></th>\n",
       "      <th>Text</th>\n",
       "      <th>Standard mapping?</th>\n",
       "    </tr>\n",
       "  </thead>\n",
       "  <tbody>\n",
       "    <tr>\n",
       "      <th>0</th>\n",
       "      <td>General Quality System Requirements […] Manage...</td>\n",
       "      <td>[quality management, quality planning]</td>\n",
       "    </tr>\n",
       "    <tr>\n",
       "      <th>1</th>\n",
       "      <td>General Quality System Requirements […] Manage...</td>\n",
       "      <td>[quality management]</td>\n",
       "    </tr>\n",
       "    <tr>\n",
       "      <th>2</th>\n",
       "      <td>General Quality System Requirements […] Manage...</td>\n",
       "      <td>[quality management]</td>\n",
       "    </tr>\n",
       "  </tbody>\n",
       "</table>\n",
       "</div>"
      ],
      "text/plain": [
       "                                                Text  \\\n",
       "0  General Quality System Requirements […] Manage...   \n",
       "1  General Quality System Requirements […] Manage...   \n",
       "2  General Quality System Requirements […] Manage...   \n",
       "\n",
       "                        Standard mapping?  \n",
       "0  [quality management, quality planning]  \n",
       "1                    [quality management]  \n",
       "2                    [quality management]  "
      ]
     },
     "execution_count": 30,
     "metadata": {},
     "output_type": "execute_result"
    }
   ],
   "source": [
    "config = CapstoneConfig()\n",
    "config.CURRENT_PATH = PARENT_PATH\n",
    "\n",
    "data = DataClass(config)\n",
    "df = data.build()\n",
    "df.head(3)"
   ]
  },
  {
   "cell_type": "code",
   "execution_count": 31,
   "metadata": {},
   "outputs": [
    {
     "name": "stderr",
     "output_type": "stream",
     "text": [
      "2022-12-06 13:34:33,938 - capstone.utils.utils - INFO - func:clean took: 1.88 sec\n",
      "2022-12-06 13:34:34,548 - capstone.utils.utils - INFO - func:fit took: 2.49 sec\n",
      "2022-12-06 13:34:36,299 - capstone.utils.utils - INFO - func:clean took: 1.75 sec\n",
      "2022-12-06 13:34:36,529 - capstone.utils.utils - INFO - func:transform took: 1.98 sec\n",
      "2022-12-06 13:34:36,530 - capstone.utils.utils - INFO - func:fit_transform took: 4.48 sec\n",
      "2022-12-06 13:34:36,720 - capstone.utils.utils - INFO - func:clean took: 0.19 sec\n",
      "2022-12-06 13:34:36,748 - capstone.utils.utils - INFO - func:transform took: 0.22 sec\n",
      "2022-12-06 13:34:36,773 - capstone.utils.utils - INFO - func:build took: 4.73 sec\n"
     ]
    }
   ],
   "source": [
    "features = Features(config)\n",
    "df_features = features.build(df)"
   ]
  },
  {
   "cell_type": "code",
   "execution_count": 7,
   "metadata": {},
   "outputs": [],
   "source": [
    "# dev = df_features[df_features[SPLIT].isin([DEVELOP])].copy()\n",
    "# dev.reset_index(drop=True, inplace=True)\n",
    "# Y_dev = dev[features.mlb.classes_].copy()\n",
    "\n",
    "# test = df_features[df_features[SPLIT].isin([TEST])].copy()\n",
    "# test.reset_index(drop=True, inplace=True)\n",
    "# Y_test = test[features.mlb.classes_].copy()"
   ]
  },
  {
   "cell_type": "code",
   "execution_count": 8,
   "metadata": {},
   "outputs": [
    {
     "data": {
      "text/html": [
       "<div>\n",
       "<style scoped>\n",
       "    .dataframe tbody tr th:only-of-type {\n",
       "        vertical-align: middle;\n",
       "    }\n",
       "\n",
       "    .dataframe tbody tr th {\n",
       "        vertical-align: top;\n",
       "    }\n",
       "\n",
       "    .dataframe thead th {\n",
       "        text-align: right;\n",
       "    }\n",
       "</style>\n",
       "<table border=\"1\" class=\"dataframe\">\n",
       "  <thead>\n",
       "    <tr style=\"text-align: right;\">\n",
       "      <th></th>\n",
       "      <th>Text</th>\n",
       "      <th>Standard mapping?</th>\n",
       "    </tr>\n",
       "  </thead>\n",
       "  <tbody>\n",
       "    <tr>\n",
       "      <th>0</th>\n",
       "      <td>personnel personnel engaged nonclinical labora...</td>\n",
       "      <td>[non clinical research]</td>\n",
       "    </tr>\n",
       "    <tr>\n",
       "      <th>1</th>\n",
       "      <td>protocol document describes objective design m...</td>\n",
       "      <td>[clinical research]</td>\n",
       "    </tr>\n",
       "    <tr>\n",
       "      <th>2</th>\n",
       "      <td>control document document required quality man...</td>\n",
       "      <td>[documentation management, production process ...</td>\n",
       "    </tr>\n",
       "    <tr>\n",
       "      <th>3</th>\n",
       "      <td>qualification validation accordance gmp pharma...</td>\n",
       "      <td>[vmp]</td>\n",
       "    </tr>\n",
       "    <tr>\n",
       "      <th>4</th>\n",
       "      <td>product complaint complaint investigation foll...</td>\n",
       "      <td>[capa, nc, rca]</td>\n",
       "    </tr>\n",
       "    <tr>\n",
       "      <th>...</th>\n",
       "      <td>...</td>\n",
       "      <td>...</td>\n",
       "    </tr>\n",
       "    <tr>\n",
       "      <th>379</th>\n",
       "      <td>manufacturing control packaging operation ensu...</td>\n",
       "      <td>[labeling and packaging operations]</td>\n",
       "    </tr>\n",
       "    <tr>\n",
       "      <th>380</th>\n",
       "      <td>production manufacturing operation identificat...</td>\n",
       "      <td>[production process controls]</td>\n",
       "    </tr>\n",
       "    <tr>\n",
       "      <th>381</th>\n",
       "      <td>examination design class 4 ivd medical device ...</td>\n",
       "      <td>[audit inspection, production process controls]</td>\n",
       "    </tr>\n",
       "    <tr>\n",
       "      <th>382</th>\n",
       "      <td>financial aspect trial documented agreement sp...</td>\n",
       "      <td>[clinical research]</td>\n",
       "    </tr>\n",
       "    <tr>\n",
       "      <th>383</th>\n",
       "      <td>premise equipment air handling unit designed c...</td>\n",
       "      <td>[facilities, utilities and equipment]</td>\n",
       "    </tr>\n",
       "  </tbody>\n",
       "</table>\n",
       "<p>384 rows × 2 columns</p>\n",
       "</div>"
      ],
      "text/plain": [
       "                                                  Text  \\\n",
       "0    personnel personnel engaged nonclinical labora...   \n",
       "1    protocol document describes objective design m...   \n",
       "2    control document document required quality man...   \n",
       "3    qualification validation accordance gmp pharma...   \n",
       "4    product complaint complaint investigation foll...   \n",
       "..                                                 ...   \n",
       "379  manufacturing control packaging operation ensu...   \n",
       "380  production manufacturing operation identificat...   \n",
       "381  examination design class 4 ivd medical device ...   \n",
       "382  financial aspect trial documented agreement sp...   \n",
       "383  premise equipment air handling unit designed c...   \n",
       "\n",
       "                                     Standard mapping?  \n",
       "0                              [non clinical research]  \n",
       "1                                  [clinical research]  \n",
       "2    [documentation management, production process ...  \n",
       "3                                                [vmp]  \n",
       "4                                      [capa, nc, rca]  \n",
       "..                                                 ...  \n",
       "379                [labeling and packaging operations]  \n",
       "380                      [production process controls]  \n",
       "381    [audit inspection, production process controls]  \n",
       "382                                [clinical research]  \n",
       "383              [facilities, utilities and equipment]  \n",
       "\n",
       "[384 rows x 2 columns]"
      ]
     },
     "execution_count": 8,
     "metadata": {},
     "output_type": "execute_result"
    }
   ],
   "source": [
    "# test = test[[TEXT, TARGET]]\n",
    "# test"
   ]
  },
  {
   "cell_type": "code",
   "execution_count": 38,
   "metadata": {},
   "outputs": [],
   "source": [
    "df_features['num_labels'] = [len(df_features[TARGET][row]) for row in range(df_features.shape[0])]\n",
    "df_features['single_label'] = [df_features[TARGET][row][0] for row in range(df_features.shape[0])]\n",
    "df_single = df_features[df_features['num_labels']==1]\n",
    "df_single = df_single[[\"Original Text\",\"single_label\"]]\n",
    "df_single.reset_index(drop=True, inplace=True)"
   ]
  },
  {
   "cell_type": "code",
   "execution_count": 39,
   "metadata": {},
   "outputs": [
    {
     "data": {
      "text/html": [
       "<div>\n",
       "<style scoped>\n",
       "    .dataframe tbody tr th:only-of-type {\n",
       "        vertical-align: middle;\n",
       "    }\n",
       "\n",
       "    .dataframe tbody tr th {\n",
       "        vertical-align: top;\n",
       "    }\n",
       "\n",
       "    .dataframe thead th {\n",
       "        text-align: right;\n",
       "    }\n",
       "</style>\n",
       "<table border=\"1\" class=\"dataframe\">\n",
       "  <thead>\n",
       "    <tr style=\"text-align: right;\">\n",
       "      <th></th>\n",
       "      <th>Original Text</th>\n",
       "      <th>single_label</th>\n",
       "    </tr>\n",
       "  </thead>\n",
       "  <tbody>\n",
       "    <tr>\n",
       "      <th>0</th>\n",
       "      <td>Validation […] Process Validation Program […] ...</td>\n",
       "      <td>process &amp; packaging validation</td>\n",
       "    </tr>\n",
       "    <tr>\n",
       "      <th>1</th>\n",
       "      <td>Quality Documents and Records […]\\nDistributio...</td>\n",
       "      <td>documentation management</td>\n",
       "    </tr>\n",
       "    <tr>\n",
       "      <th>2</th>\n",
       "      <td>General requirements regarding clinical invest...</td>\n",
       "      <td>clinical research</td>\n",
       "    </tr>\n",
       "    <tr>\n",
       "      <th>3</th>\n",
       "      <td>Manufacturing control / Agreement […] The agre...</td>\n",
       "      <td>purchasing controls</td>\n",
       "    </tr>\n",
       "    <tr>\n",
       "      <th>4</th>\n",
       "      <td>General Quality System Requirements […] Risk M...</td>\n",
       "      <td>risk management</td>\n",
       "    </tr>\n",
       "    <tr>\n",
       "      <th>...</th>\n",
       "      <td>...</td>\n",
       "      <td>...</td>\n",
       "    </tr>\n",
       "    <tr>\n",
       "      <th>2782</th>\n",
       "      <td>There should be periodic requalification, as w...</td>\n",
       "      <td>change controls</td>\n",
       "    </tr>\n",
       "    <tr>\n",
       "      <th>2783</th>\n",
       "      <td>(a) Management should determine and provide ad...</td>\n",
       "      <td>quality management</td>\n",
       "    </tr>\n",
       "    <tr>\n",
       "      <th>2784</th>\n",
       "      <td>Manufacturing control / Packaging operations [...</td>\n",
       "      <td>labeling and packaging operations</td>\n",
       "    </tr>\n",
       "    <tr>\n",
       "      <th>2785</th>\n",
       "      <td>Production […] Manufacturing operations […] Id...</td>\n",
       "      <td>production process controls</td>\n",
       "    </tr>\n",
       "    <tr>\n",
       "      <th>2786</th>\n",
       "      <td>The financial aspects of the trial should be d...</td>\n",
       "      <td>clinical research</td>\n",
       "    </tr>\n",
       "  </tbody>\n",
       "</table>\n",
       "<p>2787 rows × 2 columns</p>\n",
       "</div>"
      ],
      "text/plain": [
       "                                          Original Text  \\\n",
       "0     Validation […] Process Validation Program […] ...   \n",
       "1     Quality Documents and Records […]\\nDistributio...   \n",
       "2     General requirements regarding clinical invest...   \n",
       "3     Manufacturing control / Agreement […] The agre...   \n",
       "4     General Quality System Requirements […] Risk M...   \n",
       "...                                                 ...   \n",
       "2782  There should be periodic requalification, as w...   \n",
       "2783  (a) Management should determine and provide ad...   \n",
       "2784  Manufacturing control / Packaging operations [...   \n",
       "2785  Production […] Manufacturing operations […] Id...   \n",
       "2786  The financial aspects of the trial should be d...   \n",
       "\n",
       "                           single_label  \n",
       "0        process & packaging validation  \n",
       "1              documentation management  \n",
       "2                     clinical research  \n",
       "3                   purchasing controls  \n",
       "4                       risk management  \n",
       "...                                 ...  \n",
       "2782                    change controls  \n",
       "2783                 quality management  \n",
       "2784  labeling and packaging operations  \n",
       "2785        production process controls  \n",
       "2786                  clinical research  \n",
       "\n",
       "[2787 rows x 2 columns]"
      ]
     },
     "execution_count": 39,
     "metadata": {},
     "output_type": "execute_result"
    }
   ],
   "source": [
    "df_single"
   ]
  },
  {
   "cell_type": "code",
   "execution_count": 40,
   "metadata": {},
   "outputs": [
    {
     "name": "stdout",
     "output_type": "stream",
     "text": [
      "(3831, 553)\n",
      "(2787, 2)\n"
     ]
    }
   ],
   "source": [
    "print(df_features.shape)\n",
    "print(df_single.shape)"
   ]
  },
  {
   "cell_type": "code",
   "execution_count": 41,
   "metadata": {},
   "outputs": [
    {
     "data": {
      "text/plain": [
       "single_label\n",
       "production process controls                388\n",
       "clinical research                          257\n",
       "labeling and packaging operations          225\n",
       "non clinical research                      174\n",
       "data management                            148\n",
       "purchasing controls                        144\n",
       "material and product controls              139\n",
       "risk management                            119\n",
       "quality management                          99\n",
       "design controls                             92\n",
       "laboratory controls                         87\n",
       "documentation management                    81\n",
       "stability programs                          81\n",
       "udi and serialization                       68\n",
       "vigilance                                   66\n",
       "qrb                                         59\n",
       "training                                    54\n",
       "samd                                        54\n",
       "audit inspection                            52\n",
       "medical device post market surveillance     48\n",
       "controled substances                        46\n",
       "process & packaging validation              43\n",
       "change controls                             41\n",
       "md product cybersecurity                    39\n",
       "calibration                                 36\n",
       "new product quality planning                36\n",
       "product returns                             35\n",
       "vmp                                         24\n",
       "csv                                         19\n",
       "identification and traceability             18\n",
       "quality planning                            12\n",
       "qsmr                                         3\n",
       "dtype: int64"
      ]
     },
     "execution_count": 41,
     "metadata": {},
     "output_type": "execute_result"
    }
   ],
   "source": [
    "df_single.value_counts('single_label')"
   ]
  },
  {
   "cell_type": "code",
   "execution_count": 12,
   "metadata": {},
   "outputs": [],
   "source": [
    "# train_ft.to_json(os.path.join(data.data_path, \"ft_training.jsonl\"), orient=\"records\", lines=True, force_ascii=False)\n",
    "# val_ft.to_json(os.path.join(data.data_path, \"ft_validation.jsonl\"), orient=\"records\", lines=True, force_ascii=False)"
   ]
  },
  {
   "cell_type": "code",
   "execution_count": 44,
   "metadata": {},
   "outputs": [],
   "source": [
    "# MODEL = \"ada:ft-columbia-university:jnj-multi-label-2022-12-01-01-02-06\"\n",
    "MODEL = \"text-similarity-ada-001\""
   ]
  },
  {
   "cell_type": "code",
   "execution_count": 50,
   "metadata": {},
   "outputs": [],
   "source": [
    "def get_embedding(text, engine = MODEL):\n",
    "\n",
    "    # replace newlines, which can negatively affect performance.\n",
    "    time.sleep(5)\n",
    "    text = text.replace(\"\\n\", \" \")\n",
    "\n",
    "    return openai.Embedding.create(input=[text], engine=engine)[\"data\"][0][\"embedding\"]"
   ]
  },
  {
   "cell_type": "code",
   "execution_count": 56,
   "metadata": {},
   "outputs": [],
   "source": [
    "import statistics\n",
    "def purity_score(labels, clusters, num_clusters):\n",
    "  labels_clusters = list(zip(labels, clusters))\n",
    "  purity_scores = []\n",
    "  for cluster in range(num_clusters):\n",
    "    #print(cluster)\n",
    "    cluster_i = [row for row in labels_clusters if row[1] == cluster]\n",
    "    #print(cluster_i)\n",
    "    cluster_i_label = [row[0] for row in cluster_i]\n",
    "    #print(cluster_i_label)\n",
    "    mode_label = statistics.mode(cluster_i_label)\n",
    "    purity = sum([label == mode_label for label in cluster_i_label])/len(cluster_i_label)\n",
    "    purity_scores.append(purity)\n",
    "    print('Purity socre for cluster ', cluster, ' is: ', '{0:.12f}'.format(purity), \"|   Mode label is:\", mode_label)\n",
    "  print('Average purity score over all clusters is: ', np.mean(purity_scores))"
   ]
  },
  {
   "cell_type": "code",
   "execution_count": 48,
   "metadata": {},
   "outputs": [
    {
     "data": {
      "text/html": [
       "<div>\n",
       "<style scoped>\n",
       "    .dataframe tbody tr th:only-of-type {\n",
       "        vertical-align: middle;\n",
       "    }\n",
       "\n",
       "    .dataframe tbody tr th {\n",
       "        vertical-align: top;\n",
       "    }\n",
       "\n",
       "    .dataframe thead th {\n",
       "        text-align: right;\n",
       "    }\n",
       "</style>\n",
       "<table border=\"1\" class=\"dataframe\">\n",
       "  <thead>\n",
       "    <tr style=\"text-align: right;\">\n",
       "      <th></th>\n",
       "      <th>Original Text</th>\n",
       "      <th>single_label</th>\n",
       "    </tr>\n",
       "  </thead>\n",
       "  <tbody>\n",
       "    <tr>\n",
       "      <th>0</th>\n",
       "      <td>Validation […] Process Validation Program […] ...</td>\n",
       "      <td>process &amp; packaging validation</td>\n",
       "    </tr>\n",
       "    <tr>\n",
       "      <th>1</th>\n",
       "      <td>At EU level, the following legislative acts ar...</td>\n",
       "      <td>md product cybersecurity</td>\n",
       "    </tr>\n",
       "    <tr>\n",
       "      <th>2</th>\n",
       "      <td>Contract Manufacture and Analysis […] The Cont...</td>\n",
       "      <td>audit inspection</td>\n",
       "    </tr>\n",
       "    <tr>\n",
       "      <th>3</th>\n",
       "      <td>The PSUR should be a “self-standing” document ...</td>\n",
       "      <td>medical device post market surveillance</td>\n",
       "    </tr>\n",
       "    <tr>\n",
       "      <th>4</th>\n",
       "      <td>Secure Design and Manufacture [...] \\nSafety, ...</td>\n",
       "      <td>md product cybersecurity</td>\n",
       "    </tr>\n",
       "    <tr>\n",
       "      <th>...</th>\n",
       "      <td>...</td>\n",
       "      <td>...</td>\n",
       "    </tr>\n",
       "    <tr>\n",
       "      <th>213</th>\n",
       "      <td>Medical Devices Registration and Filing […]  \\...</td>\n",
       "      <td>medical device post market surveillance</td>\n",
       "    </tr>\n",
       "    <tr>\n",
       "      <th>214</th>\n",
       "      <td>Self-inspection, quality audits and suppliers’...</td>\n",
       "      <td>audit inspection</td>\n",
       "    </tr>\n",
       "    <tr>\n",
       "      <th>215</th>\n",
       "      <td>IEC 80002(series) Medical device software: Pro...</td>\n",
       "      <td>md product cybersecurity</td>\n",
       "    </tr>\n",
       "    <tr>\n",
       "      <th>216</th>\n",
       "      <td>For each device manufacturers shall plan, esta...</td>\n",
       "      <td>medical device post market surveillance</td>\n",
       "    </tr>\n",
       "    <tr>\n",
       "      <th>217</th>\n",
       "      <td>Self Inspection […] \\nAll self inspections sho...</td>\n",
       "      <td>audit inspection</td>\n",
       "    </tr>\n",
       "  </tbody>\n",
       "</table>\n",
       "<p>218 rows × 2 columns</p>\n",
       "</div>"
      ],
      "text/plain": [
       "                                         Original Text  \\\n",
       "0    Validation […] Process Validation Program […] ...   \n",
       "1    At EU level, the following legislative acts ar...   \n",
       "2    Contract Manufacture and Analysis […] The Cont...   \n",
       "3    The PSUR should be a “self-standing” document ...   \n",
       "4    Secure Design and Manufacture [...] \\nSafety, ...   \n",
       "..                                                 ...   \n",
       "213  Medical Devices Registration and Filing […]  \\...   \n",
       "214  Self-inspection, quality audits and suppliers’...   \n",
       "215  IEC 80002(series) Medical device software: Pro...   \n",
       "216  For each device manufacturers shall plan, esta...   \n",
       "217  Self Inspection […] \\nAll self inspections sho...   \n",
       "\n",
       "                                single_label  \n",
       "0             process & packaging validation  \n",
       "1                   md product cybersecurity  \n",
       "2                           audit inspection  \n",
       "3    medical device post market surveillance  \n",
       "4                   md product cybersecurity  \n",
       "..                                       ...  \n",
       "213  medical device post market surveillance  \n",
       "214                         audit inspection  \n",
       "215                 md product cybersecurity  \n",
       "216  medical device post market surveillance  \n",
       "217                         audit inspection  \n",
       "\n",
       "[218 rows x 2 columns]"
      ]
     },
     "execution_count": 48,
     "metadata": {},
     "output_type": "execute_result"
    }
   ],
   "source": [
    "choice_of_label = ['medical device post market surveillance','process & packaging validation','md product cybersecurity','audit inspection','calibration']\n",
    "df_test = df_single[df_single['single_label'].isin(choice_of_label)]\n",
    "df_test.reset_index(drop=True, inplace=True)\n",
    "df_test"
   ]
  },
  {
   "cell_type": "code",
   "execution_count": 51,
   "metadata": {},
   "outputs": [
    {
     "name": "stderr",
     "output_type": "stream",
     "text": [
      "2022-12-06 15:25:34,788 - openai - INFO - message='Request to OpenAI API' method=post path=https://api.openai.com/v1/engines/text-similarity-ada-001/embeddings\n",
      "2022-12-06 15:25:35,330 - openai - INFO - message='OpenAI API response' path=https://api.openai.com/v1/engines/text-similarity-ada-001/embeddings processing_ms=117 request_id=989b9364814237dc7bbab784ac43a7ff response_code=200\n",
      "2022-12-06 15:25:40,336 - openai - INFO - message='Request to OpenAI API' method=post path=https://api.openai.com/v1/engines/text-similarity-ada-001/embeddings\n",
      "2022-12-06 15:25:40,419 - openai - INFO - message='OpenAI API response' path=https://api.openai.com/v1/engines/text-similarity-ada-001/embeddings processing_ms=15 request_id=b5f424a39e9d6887bf1aff5adea3b294 response_code=200\n",
      "2022-12-06 15:25:45,423 - openai - INFO - message='Request to OpenAI API' method=post path=https://api.openai.com/v1/engines/text-similarity-ada-001/embeddings\n",
      "2022-12-06 15:25:45,595 - openai - INFO - message='OpenAI API response' path=https://api.openai.com/v1/engines/text-similarity-ada-001/embeddings processing_ms=13 request_id=8b3a4e1dfbf5bbc4811d93f5f1d7bf21 response_code=200\n",
      "2022-12-06 15:25:50,598 - openai - INFO - message='Request to OpenAI API' method=post path=https://api.openai.com/v1/engines/text-similarity-ada-001/embeddings\n",
      "2022-12-06 15:25:50,697 - openai - INFO - message='OpenAI API response' path=https://api.openai.com/v1/engines/text-similarity-ada-001/embeddings processing_ms=15 request_id=9b77509e4e9b4fd583edb75d52acf2b8 response_code=200\n",
      "2022-12-06 15:25:55,702 - openai - INFO - message='Request to OpenAI API' method=post path=https://api.openai.com/v1/engines/text-similarity-ada-001/embeddings\n",
      "2022-12-06 15:25:55,790 - openai - INFO - message='OpenAI API response' path=https://api.openai.com/v1/engines/text-similarity-ada-001/embeddings processing_ms=14 request_id=09447fa7b5afcb8230b8fca348dadb01 response_code=200\n",
      "2022-12-06 15:26:00,796 - openai - INFO - message='Request to OpenAI API' method=post path=https://api.openai.com/v1/engines/text-similarity-ada-001/embeddings\n",
      "2022-12-06 15:26:00,939 - openai - INFO - message='OpenAI API response' path=https://api.openai.com/v1/engines/text-similarity-ada-001/embeddings processing_ms=15 request_id=c630922bd362c58777d19d5e8dc47bda response_code=200\n",
      "2022-12-06 15:26:05,942 - openai - INFO - message='Request to OpenAI API' method=post path=https://api.openai.com/v1/engines/text-similarity-ada-001/embeddings\n",
      "2022-12-06 15:26:06,070 - openai - INFO - message='OpenAI API response' path=https://api.openai.com/v1/engines/text-similarity-ada-001/embeddings processing_ms=16 request_id=9d2b9d3e4ce3250963b6acfd1219d658 response_code=200\n",
      "2022-12-06 15:26:11,078 - openai - INFO - message='Request to OpenAI API' method=post path=https://api.openai.com/v1/engines/text-similarity-ada-001/embeddings\n",
      "2022-12-06 15:26:11,214 - openai - INFO - message='OpenAI API response' path=https://api.openai.com/v1/engines/text-similarity-ada-001/embeddings processing_ms=12 request_id=59fcd6455abea42821ca699fdcbeec98 response_code=200\n",
      "2022-12-06 15:26:16,221 - openai - INFO - message='Request to OpenAI API' method=post path=https://api.openai.com/v1/engines/text-similarity-ada-001/embeddings\n",
      "2022-12-06 15:26:16,390 - openai - INFO - message='OpenAI API response' path=https://api.openai.com/v1/engines/text-similarity-ada-001/embeddings processing_ms=14 request_id=ca9f304676bfa47e675e0f0979f6bd29 response_code=200\n",
      "2022-12-06 15:26:21,396 - openai - INFO - message='Request to OpenAI API' method=post path=https://api.openai.com/v1/engines/text-similarity-ada-001/embeddings\n",
      "2022-12-06 15:26:21,481 - openai - INFO - message='OpenAI API response' path=https://api.openai.com/v1/engines/text-similarity-ada-001/embeddings processing_ms=11 request_id=ad72538fd04a15f2cae5c76cc509c998 response_code=200\n",
      "2022-12-06 15:26:26,488 - openai - INFO - message='Request to OpenAI API' method=post path=https://api.openai.com/v1/engines/text-similarity-ada-001/embeddings\n",
      "2022-12-06 15:26:26,574 - openai - INFO - message='OpenAI API response' path=https://api.openai.com/v1/engines/text-similarity-ada-001/embeddings processing_ms=14 request_id=cc4bc96f6b29106cfc517a87feb128ef response_code=200\n",
      "2022-12-06 15:26:31,579 - openai - INFO - message='Request to OpenAI API' method=post path=https://api.openai.com/v1/engines/text-similarity-ada-001/embeddings\n",
      "2022-12-06 15:26:31,719 - openai - INFO - message='OpenAI API response' path=https://api.openai.com/v1/engines/text-similarity-ada-001/embeddings processing_ms=12 request_id=2471d230591534f2e1dd0398e097212a response_code=200\n",
      "2022-12-06 15:26:36,722 - openai - INFO - message='Request to OpenAI API' method=post path=https://api.openai.com/v1/engines/text-similarity-ada-001/embeddings\n",
      "2022-12-06 15:26:36,904 - openai - INFO - message='OpenAI API response' path=https://api.openai.com/v1/engines/text-similarity-ada-001/embeddings processing_ms=110 request_id=67262e9b87e25fcb2fc7052b64e72c03 response_code=200\n",
      "2022-12-06 15:26:41,911 - openai - INFO - message='Request to OpenAI API' method=post path=https://api.openai.com/v1/engines/text-similarity-ada-001/embeddings\n",
      "2022-12-06 15:26:41,998 - openai - INFO - message='OpenAI API response' path=https://api.openai.com/v1/engines/text-similarity-ada-001/embeddings processing_ms=14 request_id=5d6761288c89a6d1a3dd677ee036b1a1 response_code=200\n",
      "2022-12-06 15:26:47,001 - openai - INFO - message='Request to OpenAI API' method=post path=https://api.openai.com/v1/engines/text-similarity-ada-001/embeddings\n",
      "2022-12-06 15:26:47,192 - openai - INFO - message='OpenAI API response' path=https://api.openai.com/v1/engines/text-similarity-ada-001/embeddings processing_ms=12 request_id=c0983efc26f714a79a5eb5b7f6bc49c0 response_code=200\n",
      "2022-12-06 15:26:52,197 - openai - INFO - message='Request to OpenAI API' method=post path=https://api.openai.com/v1/engines/text-similarity-ada-001/embeddings\n",
      "2022-12-06 15:26:52,285 - openai - INFO - message='OpenAI API response' path=https://api.openai.com/v1/engines/text-similarity-ada-001/embeddings processing_ms=16 request_id=73d7e573e50b4494e08ad26d61fead4f response_code=200\n",
      "2022-12-06 15:26:57,292 - openai - INFO - message='Request to OpenAI API' method=post path=https://api.openai.com/v1/engines/text-similarity-ada-001/embeddings\n",
      "2022-12-06 15:26:57,373 - openai - INFO - message='OpenAI API response' path=https://api.openai.com/v1/engines/text-similarity-ada-001/embeddings processing_ms=12 request_id=c9c7fe86d48767dd22b575e9aaea8ad8 response_code=200\n",
      "2022-12-06 15:27:02,379 - openai - INFO - message='Request to OpenAI API' method=post path=https://api.openai.com/v1/engines/text-similarity-ada-001/embeddings\n",
      "2022-12-06 15:27:02,553 - openai - INFO - message='OpenAI API response' path=https://api.openai.com/v1/engines/text-similarity-ada-001/embeddings processing_ms=13 request_id=6a0b0f829dd03633243269b9b8b4dffa response_code=200\n",
      "2022-12-06 15:27:07,560 - openai - INFO - message='Request to OpenAI API' method=post path=https://api.openai.com/v1/engines/text-similarity-ada-001/embeddings\n",
      "2022-12-06 15:27:07,646 - openai - INFO - message='OpenAI API response' path=https://api.openai.com/v1/engines/text-similarity-ada-001/embeddings processing_ms=13 request_id=c595ca724b49f3c7087d5f3e99644a29 response_code=200\n",
      "2022-12-06 15:27:12,653 - openai - INFO - message='Request to OpenAI API' method=post path=https://api.openai.com/v1/engines/text-similarity-ada-001/embeddings\n",
      "2022-12-06 15:27:12,734 - openai - INFO - message='OpenAI API response' path=https://api.openai.com/v1/engines/text-similarity-ada-001/embeddings processing_ms=12 request_id=9f77906464021e1796de1f89b247c8b8 response_code=200\n",
      "2022-12-06 15:27:17,740 - openai - INFO - message='Request to OpenAI API' method=post path=https://api.openai.com/v1/engines/text-similarity-ada-001/embeddings\n",
      "2022-12-06 15:27:17,915 - openai - INFO - message='OpenAI API response' path=https://api.openai.com/v1/engines/text-similarity-ada-001/embeddings processing_ms=13 request_id=0fb166efb3118111cba61004d3c5cd06 response_code=200\n",
      "2022-12-06 15:27:22,917 - openai - INFO - message='Request to OpenAI API' method=post path=https://api.openai.com/v1/engines/text-similarity-ada-001/embeddings\n",
      "2022-12-06 15:27:23,004 - openai - INFO - message='OpenAI API response' path=https://api.openai.com/v1/engines/text-similarity-ada-001/embeddings processing_ms=12 request_id=02875ac49a0caf69504c8cb540996617 response_code=200\n",
      "2022-12-06 15:27:28,010 - openai - INFO - message='Request to OpenAI API' method=post path=https://api.openai.com/v1/engines/text-similarity-ada-001/embeddings\n",
      "2022-12-06 15:27:28,105 - openai - INFO - message='OpenAI API response' path=https://api.openai.com/v1/engines/text-similarity-ada-001/embeddings processing_ms=17 request_id=c489545e6b1fcff6b17840cfc8831e2d response_code=200\n",
      "2022-12-06 15:27:33,112 - openai - INFO - message='Request to OpenAI API' method=post path=https://api.openai.com/v1/engines/text-similarity-ada-001/embeddings\n",
      "2022-12-06 15:27:33,202 - openai - INFO - message='OpenAI API response' path=https://api.openai.com/v1/engines/text-similarity-ada-001/embeddings processing_ms=13 request_id=6453237ef0de4dc230bab477047dcb05 response_code=200\n",
      "2022-12-06 15:27:38,209 - openai - INFO - message='Request to OpenAI API' method=post path=https://api.openai.com/v1/engines/text-similarity-ada-001/embeddings\n",
      "2022-12-06 15:27:38,362 - openai - INFO - message='OpenAI API response' path=https://api.openai.com/v1/engines/text-similarity-ada-001/embeddings processing_ms=79 request_id=13cb0e2cda3b2c9d0b53734cbead3dd3 response_code=200\n",
      "2022-12-06 15:27:43,368 - openai - INFO - message='Request to OpenAI API' method=post path=https://api.openai.com/v1/engines/text-similarity-ada-001/embeddings\n",
      "2022-12-06 15:27:43,456 - openai - INFO - message='OpenAI API response' path=https://api.openai.com/v1/engines/text-similarity-ada-001/embeddings processing_ms=14 request_id=b87c288bcea0e11284a9ee6fe380c873 response_code=200\n",
      "2022-12-06 15:27:48,461 - openai - INFO - message='Request to OpenAI API' method=post path=https://api.openai.com/v1/engines/text-similarity-ada-001/embeddings\n",
      "2022-12-06 15:27:48,546 - openai - INFO - message='OpenAI API response' path=https://api.openai.com/v1/engines/text-similarity-ada-001/embeddings processing_ms=13 request_id=a03a935e75a509f4623709034f523b99 response_code=200\n",
      "2022-12-06 15:27:53,553 - openai - INFO - message='Request to OpenAI API' method=post path=https://api.openai.com/v1/engines/text-similarity-ada-001/embeddings\n",
      "2022-12-06 15:27:53,638 - openai - INFO - message='OpenAI API response' path=https://api.openai.com/v1/engines/text-similarity-ada-001/embeddings processing_ms=14 request_id=685fde9bcdff2215d07535f0b50c0c31 response_code=200\n",
      "2022-12-06 15:27:58,644 - openai - INFO - message='Request to OpenAI API' method=post path=https://api.openai.com/v1/engines/text-similarity-ada-001/embeddings\n",
      "2022-12-06 15:27:58,727 - openai - INFO - message='OpenAI API response' path=https://api.openai.com/v1/engines/text-similarity-ada-001/embeddings processing_ms=15 request_id=a5cf0c1bc9c4b3ccb46bd3bba40c73b3 response_code=200\n",
      "2022-12-06 15:28:03,731 - openai - INFO - message='Request to OpenAI API' method=post path=https://api.openai.com/v1/engines/text-similarity-ada-001/embeddings\n",
      "2022-12-06 15:28:03,815 - openai - INFO - message='OpenAI API response' path=https://api.openai.com/v1/engines/text-similarity-ada-001/embeddings processing_ms=13 request_id=8a6a18a77e8bc202fe0b3c5c16fc9150 response_code=200\n",
      "2022-12-06 15:28:08,822 - openai - INFO - message='Request to OpenAI API' method=post path=https://api.openai.com/v1/engines/text-similarity-ada-001/embeddings\n",
      "2022-12-06 15:28:08,960 - openai - INFO - message='OpenAI API response' path=https://api.openai.com/v1/engines/text-similarity-ada-001/embeddings processing_ms=16 request_id=082a5b813844443ffe92753e344143de response_code=200\n",
      "2022-12-06 15:28:13,963 - openai - INFO - message='Request to OpenAI API' method=post path=https://api.openai.com/v1/engines/text-similarity-ada-001/embeddings\n",
      "2022-12-06 15:28:14,061 - openai - INFO - message='OpenAI API response' path=https://api.openai.com/v1/engines/text-similarity-ada-001/embeddings processing_ms=14 request_id=f8b8c83da5825413a6fc688acdff9b5d response_code=200\n",
      "2022-12-06 15:28:19,064 - openai - INFO - message='Request to OpenAI API' method=post path=https://api.openai.com/v1/engines/text-similarity-ada-001/embeddings\n",
      "2022-12-06 15:28:19,146 - openai - INFO - message='OpenAI API response' path=https://api.openai.com/v1/engines/text-similarity-ada-001/embeddings processing_ms=13 request_id=e2824ddddba08a6b1acc75090af31c99 response_code=200\n",
      "2022-12-06 15:28:24,153 - openai - INFO - message='Request to OpenAI API' method=post path=https://api.openai.com/v1/engines/text-similarity-ada-001/embeddings\n",
      "2022-12-06 15:28:24,237 - openai - INFO - message='OpenAI API response' path=https://api.openai.com/v1/engines/text-similarity-ada-001/embeddings processing_ms=13 request_id=818ab5f9dd20fcb02afe87ac7a9971fd response_code=200\n",
      "2022-12-06 15:28:29,241 - openai - INFO - message='Request to OpenAI API' method=post path=https://api.openai.com/v1/engines/text-similarity-ada-001/embeddings\n",
      "2022-12-06 15:28:29,328 - openai - INFO - message='OpenAI API response' path=https://api.openai.com/v1/engines/text-similarity-ada-001/embeddings processing_ms=14 request_id=04c4155e0bc327e9f823cfdd772e9b36 response_code=200\n",
      "2022-12-06 15:28:34,332 - openai - INFO - message='Request to OpenAI API' method=post path=https://api.openai.com/v1/engines/text-similarity-ada-001/embeddings\n",
      "2022-12-06 15:28:34,420 - openai - INFO - message='OpenAI API response' path=https://api.openai.com/v1/engines/text-similarity-ada-001/embeddings processing_ms=13 request_id=4a0a2a6adadb6eb7412046aa2e7f3a84 response_code=200\n",
      "2022-12-06 15:28:39,425 - openai - INFO - message='Request to OpenAI API' method=post path=https://api.openai.com/v1/engines/text-similarity-ada-001/embeddings\n",
      "2022-12-06 15:28:39,579 - openai - INFO - message='OpenAI API response' path=https://api.openai.com/v1/engines/text-similarity-ada-001/embeddings processing_ms=84 request_id=6a9cb5c96ba4cf4259ff4ee88ad62f87 response_code=200\n",
      "2022-12-06 15:28:44,585 - openai - INFO - message='Request to OpenAI API' method=post path=https://api.openai.com/v1/engines/text-similarity-ada-001/embeddings\n",
      "2022-12-06 15:28:44,668 - openai - INFO - message='OpenAI API response' path=https://api.openai.com/v1/engines/text-similarity-ada-001/embeddings processing_ms=14 request_id=3a06a7428ee7af0758d3de060036d0ba response_code=200\n",
      "2022-12-06 15:28:49,676 - openai - INFO - message='Request to OpenAI API' method=post path=https://api.openai.com/v1/engines/text-similarity-ada-001/embeddings\n",
      "2022-12-06 15:28:49,758 - openai - INFO - message='OpenAI API response' path=https://api.openai.com/v1/engines/text-similarity-ada-001/embeddings processing_ms=12 request_id=25e89c303c24cbfbe14fb80954fa8740 response_code=200\n",
      "2022-12-06 15:28:54,762 - openai - INFO - message='Request to OpenAI API' method=post path=https://api.openai.com/v1/engines/text-similarity-ada-001/embeddings\n",
      "2022-12-06 15:28:54,853 - openai - INFO - message='OpenAI API response' path=https://api.openai.com/v1/engines/text-similarity-ada-001/embeddings processing_ms=12 request_id=de7cf213178203462ebba91cd8b7a3d3 response_code=200\n",
      "2022-12-06 15:28:59,859 - openai - INFO - message='Request to OpenAI API' method=post path=https://api.openai.com/v1/engines/text-similarity-ada-001/embeddings\n",
      "2022-12-06 15:28:59,949 - openai - INFO - message='OpenAI API response' path=https://api.openai.com/v1/engines/text-similarity-ada-001/embeddings processing_ms=13 request_id=a6610f51de9a8d129eb3b6f142bbbfd6 response_code=200\n",
      "2022-12-06 15:29:04,953 - openai - INFO - message='Request to OpenAI API' method=post path=https://api.openai.com/v1/engines/text-similarity-ada-001/embeddings\n",
      "2022-12-06 15:29:05,032 - openai - INFO - message='OpenAI API response' path=https://api.openai.com/v1/engines/text-similarity-ada-001/embeddings processing_ms=14 request_id=5e4d786cc44a1a0f4fd9ebd0abb7eacc response_code=200\n",
      "2022-12-06 15:29:10,033 - openai - INFO - message='Request to OpenAI API' method=post path=https://api.openai.com/v1/engines/text-similarity-ada-001/embeddings\n",
      "2022-12-06 15:29:10,119 - openai - INFO - message='OpenAI API response' path=https://api.openai.com/v1/engines/text-similarity-ada-001/embeddings processing_ms=13 request_id=3f66abe7cac47b95600fbeea6c6153ce response_code=200\n",
      "2022-12-06 15:29:15,126 - openai - INFO - message='Request to OpenAI API' method=post path=https://api.openai.com/v1/engines/text-similarity-ada-001/embeddings\n",
      "2022-12-06 15:29:15,210 - openai - INFO - message='OpenAI API response' path=https://api.openai.com/v1/engines/text-similarity-ada-001/embeddings processing_ms=13 request_id=139ca2b82916fc5d1d4e5d2e386f74fb response_code=200\n",
      "2022-12-06 15:29:20,212 - openai - INFO - message='Request to OpenAI API' method=post path=https://api.openai.com/v1/engines/text-similarity-ada-001/embeddings\n",
      "2022-12-06 15:29:20,304 - openai - INFO - message='OpenAI API response' path=https://api.openai.com/v1/engines/text-similarity-ada-001/embeddings processing_ms=14 request_id=74381b57634bd6c2a9b1588f9b67d873 response_code=200\n",
      "2022-12-06 15:29:25,310 - openai - INFO - message='Request to OpenAI API' method=post path=https://api.openai.com/v1/engines/text-similarity-ada-001/embeddings\n",
      "2022-12-06 15:29:25,407 - openai - INFO - message='OpenAI API response' path=https://api.openai.com/v1/engines/text-similarity-ada-001/embeddings processing_ms=12 request_id=c8d8f48caaa85d45ca4b33b637d4a367 response_code=200\n",
      "2022-12-06 15:29:30,413 - openai - INFO - message='Request to OpenAI API' method=post path=https://api.openai.com/v1/engines/text-similarity-ada-001/embeddings\n",
      "2022-12-06 15:29:30,502 - openai - INFO - message='OpenAI API response' path=https://api.openai.com/v1/engines/text-similarity-ada-001/embeddings processing_ms=15 request_id=ef1f8076559e91712a8e73598f1826d4 response_code=200\n",
      "2022-12-06 15:29:35,510 - openai - INFO - message='Request to OpenAI API' method=post path=https://api.openai.com/v1/engines/text-similarity-ada-001/embeddings\n",
      "2022-12-06 15:29:35,595 - openai - INFO - message='OpenAI API response' path=https://api.openai.com/v1/engines/text-similarity-ada-001/embeddings processing_ms=13 request_id=92d94b1d6b908e197abb6dbe7983395d response_code=200\n",
      "2022-12-06 15:29:40,599 - openai - INFO - message='Request to OpenAI API' method=post path=https://api.openai.com/v1/engines/text-similarity-ada-001/embeddings\n",
      "2022-12-06 15:29:40,752 - openai - INFO - message='OpenAI API response' path=https://api.openai.com/v1/engines/text-similarity-ada-001/embeddings processing_ms=82 request_id=3f7fe448d0cecf45830bed1524ae5760 response_code=200\n",
      "2022-12-06 15:29:45,759 - openai - INFO - message='Request to OpenAI API' method=post path=https://api.openai.com/v1/engines/text-similarity-ada-001/embeddings\n",
      "2022-12-06 15:29:45,844 - openai - INFO - message='OpenAI API response' path=https://api.openai.com/v1/engines/text-similarity-ada-001/embeddings processing_ms=14 request_id=e4e94b2ab635261288b62478b62fc4cd response_code=200\n",
      "2022-12-06 15:29:50,846 - openai - INFO - message='Request to OpenAI API' method=post path=https://api.openai.com/v1/engines/text-similarity-ada-001/embeddings\n",
      "2022-12-06 15:29:50,934 - openai - INFO - message='OpenAI API response' path=https://api.openai.com/v1/engines/text-similarity-ada-001/embeddings processing_ms=14 request_id=24e055a1a676a6b94f07797978c52271 response_code=200\n",
      "2022-12-06 15:29:55,936 - openai - INFO - message='Request to OpenAI API' method=post path=https://api.openai.com/v1/engines/text-similarity-ada-001/embeddings\n",
      "2022-12-06 15:29:56,023 - openai - INFO - message='OpenAI API response' path=https://api.openai.com/v1/engines/text-similarity-ada-001/embeddings processing_ms=14 request_id=209cfea4a504e2af9c8c34d32b6476df response_code=200\n",
      "2022-12-06 15:30:01,029 - openai - INFO - message='Request to OpenAI API' method=post path=https://api.openai.com/v1/engines/text-similarity-ada-001/embeddings\n",
      "2022-12-06 15:30:01,118 - openai - INFO - message='OpenAI API response' path=https://api.openai.com/v1/engines/text-similarity-ada-001/embeddings processing_ms=19 request_id=9a74b07987064dc7349f202d593dbb35 response_code=200\n",
      "2022-12-06 15:30:06,125 - openai - INFO - message='Request to OpenAI API' method=post path=https://api.openai.com/v1/engines/text-similarity-ada-001/embeddings\n",
      "2022-12-06 15:30:06,222 - openai - INFO - message='OpenAI API response' path=https://api.openai.com/v1/engines/text-similarity-ada-001/embeddings processing_ms=14 request_id=df14805643d14860828b210854eeba75 response_code=200\n",
      "2022-12-06 15:30:11,225 - openai - INFO - message='Request to OpenAI API' method=post path=https://api.openai.com/v1/engines/text-similarity-ada-001/embeddings\n",
      "2022-12-06 15:30:11,314 - openai - INFO - message='OpenAI API response' path=https://api.openai.com/v1/engines/text-similarity-ada-001/embeddings processing_ms=14 request_id=9eca9085c14f336e6bc728c5ccb99165 response_code=200\n",
      "2022-12-06 15:30:16,318 - openai - INFO - message='Request to OpenAI API' method=post path=https://api.openai.com/v1/engines/text-similarity-ada-001/embeddings\n",
      "2022-12-06 15:30:16,406 - openai - INFO - message='OpenAI API response' path=https://api.openai.com/v1/engines/text-similarity-ada-001/embeddings processing_ms=13 request_id=9cf6c6527ae62bd23046012af6d92e28 response_code=200\n",
      "2022-12-06 15:30:21,411 - openai - INFO - message='Request to OpenAI API' method=post path=https://api.openai.com/v1/engines/text-similarity-ada-001/embeddings\n",
      "2022-12-06 15:30:21,493 - openai - INFO - message='OpenAI API response' path=https://api.openai.com/v1/engines/text-similarity-ada-001/embeddings processing_ms=13 request_id=ae28ae09211307ec649f68ae524fba68 response_code=200\n",
      "2022-12-06 15:30:26,500 - openai - INFO - message='Request to OpenAI API' method=post path=https://api.openai.com/v1/engines/text-similarity-ada-001/embeddings\n",
      "2022-12-06 15:30:26,591 - openai - INFO - message='OpenAI API response' path=https://api.openai.com/v1/engines/text-similarity-ada-001/embeddings processing_ms=16 request_id=e8b8f644ad1f35e5bd3e4ce866f57107 response_code=200\n",
      "2022-12-06 15:30:31,594 - openai - INFO - message='Request to OpenAI API' method=post path=https://api.openai.com/v1/engines/text-similarity-ada-001/embeddings\n",
      "2022-12-06 15:30:31,689 - openai - INFO - message='OpenAI API response' path=https://api.openai.com/v1/engines/text-similarity-ada-001/embeddings processing_ms=15 request_id=3c11e356716ec2c56205c849d2e46c1d response_code=200\n",
      "2022-12-06 15:30:36,693 - openai - INFO - message='Request to OpenAI API' method=post path=https://api.openai.com/v1/engines/text-similarity-ada-001/embeddings\n",
      "2022-12-06 15:30:36,776 - openai - INFO - message='OpenAI API response' path=https://api.openai.com/v1/engines/text-similarity-ada-001/embeddings processing_ms=14 request_id=df9c7991af1702bf07997f06d89ee589 response_code=200\n",
      "2022-12-06 15:30:41,779 - openai - INFO - message='Request to OpenAI API' method=post path=https://api.openai.com/v1/engines/text-similarity-ada-001/embeddings\n",
      "2022-12-06 15:30:41,929 - openai - INFO - message='OpenAI API response' path=https://api.openai.com/v1/engines/text-similarity-ada-001/embeddings processing_ms=77 request_id=8beb3d61861521202458b436c8261008 response_code=200\n",
      "2022-12-06 15:30:46,933 - openai - INFO - message='Request to OpenAI API' method=post path=https://api.openai.com/v1/engines/text-similarity-ada-001/embeddings\n",
      "2022-12-06 15:30:47,013 - openai - INFO - message='OpenAI API response' path=https://api.openai.com/v1/engines/text-similarity-ada-001/embeddings processing_ms=16 request_id=8ca0cb09c23a5bb6ae6092574f7730a9 response_code=200\n",
      "2022-12-06 15:30:52,025 - openai - INFO - message='Request to OpenAI API' method=post path=https://api.openai.com/v1/engines/text-similarity-ada-001/embeddings\n",
      "2022-12-06 15:30:52,127 - openai - INFO - message='OpenAI API response' path=https://api.openai.com/v1/engines/text-similarity-ada-001/embeddings processing_ms=14 request_id=adb9f6b2c7ab7e9f9142b86d821c283e response_code=200\n",
      "2022-12-06 15:30:57,135 - openai - INFO - message='Request to OpenAI API' method=post path=https://api.openai.com/v1/engines/text-similarity-ada-001/embeddings\n",
      "2022-12-06 15:30:57,232 - openai - INFO - message='OpenAI API response' path=https://api.openai.com/v1/engines/text-similarity-ada-001/embeddings processing_ms=13 request_id=cdc2efc2b9c7ab29b0a77c63de693f71 response_code=200\n",
      "2022-12-06 15:31:02,242 - openai - INFO - message='Request to OpenAI API' method=post path=https://api.openai.com/v1/engines/text-similarity-ada-001/embeddings\n",
      "2022-12-06 15:31:02,323 - openai - INFO - message='OpenAI API response' path=https://api.openai.com/v1/engines/text-similarity-ada-001/embeddings processing_ms=13 request_id=a13aebcd774247533c4b5219a049fdac response_code=200\n",
      "2022-12-06 15:31:07,326 - openai - INFO - message='Request to OpenAI API' method=post path=https://api.openai.com/v1/engines/text-similarity-ada-001/embeddings\n",
      "2022-12-06 15:31:07,519 - openai - INFO - message='OpenAI API response' path=https://api.openai.com/v1/engines/text-similarity-ada-001/embeddings processing_ms=12 request_id=afa6093376a2f513fcffb5f9e96008d7 response_code=200\n",
      "2022-12-06 15:31:12,526 - openai - INFO - message='Request to OpenAI API' method=post path=https://api.openai.com/v1/engines/text-similarity-ada-001/embeddings\n",
      "2022-12-06 15:31:12,619 - openai - INFO - message='OpenAI API response' path=https://api.openai.com/v1/engines/text-similarity-ada-001/embeddings processing_ms=13 request_id=b39fb36ed9332bae5d9687e7887c5220 response_code=200\n",
      "2022-12-06 15:31:17,631 - openai - INFO - message='Request to OpenAI API' method=post path=https://api.openai.com/v1/engines/text-similarity-ada-001/embeddings\n",
      "2022-12-06 15:31:17,715 - openai - INFO - message='OpenAI API response' path=https://api.openai.com/v1/engines/text-similarity-ada-001/embeddings processing_ms=14 request_id=4ea627e90cf63d8080fd0b46b58acf35 response_code=200\n",
      "2022-12-06 15:31:22,727 - openai - INFO - message='Request to OpenAI API' method=post path=https://api.openai.com/v1/engines/text-similarity-ada-001/embeddings\n",
      "2022-12-06 15:31:22,812 - openai - INFO - message='OpenAI API response' path=https://api.openai.com/v1/engines/text-similarity-ada-001/embeddings processing_ms=13 request_id=bc3f9fed114da8ba5daebcd553485251 response_code=200\n",
      "2022-12-06 15:31:27,823 - openai - INFO - message='Request to OpenAI API' method=post path=https://api.openai.com/v1/engines/text-similarity-ada-001/embeddings\n",
      "2022-12-06 15:31:27,916 - openai - INFO - message='OpenAI API response' path=https://api.openai.com/v1/engines/text-similarity-ada-001/embeddings processing_ms=14 request_id=c745b0d5fb31524d24d759e9c820a475 response_code=200\n",
      "2022-12-06 15:31:32,926 - openai - INFO - message='Request to OpenAI API' method=post path=https://api.openai.com/v1/engines/text-similarity-ada-001/embeddings\n",
      "2022-12-06 15:31:33,006 - openai - INFO - message='OpenAI API response' path=https://api.openai.com/v1/engines/text-similarity-ada-001/embeddings processing_ms=13 request_id=c3919b285a65263da39db8dd6da83d2c response_code=200\n",
      "2022-12-06 15:31:38,011 - openai - INFO - message='Request to OpenAI API' method=post path=https://api.openai.com/v1/engines/text-similarity-ada-001/embeddings\n",
      "2022-12-06 15:31:38,093 - openai - INFO - message='OpenAI API response' path=https://api.openai.com/v1/engines/text-similarity-ada-001/embeddings processing_ms=12 request_id=cdf5b8c46b2a7099411e00140aa0971c response_code=200\n",
      "2022-12-06 15:31:43,102 - openai - INFO - message='Request to OpenAI API' method=post path=https://api.openai.com/v1/engines/text-similarity-ada-001/embeddings\n",
      "2022-12-06 15:31:43,256 - openai - INFO - message='OpenAI API response' path=https://api.openai.com/v1/engines/text-similarity-ada-001/embeddings processing_ms=82 request_id=0a047459b2f804f62d8a61db681c366e response_code=200\n",
      "2022-12-06 15:31:48,265 - openai - INFO - message='Request to OpenAI API' method=post path=https://api.openai.com/v1/engines/text-similarity-ada-001/embeddings\n",
      "2022-12-06 15:31:48,357 - openai - INFO - message='OpenAI API response' path=https://api.openai.com/v1/engines/text-similarity-ada-001/embeddings processing_ms=17 request_id=c8c80e8e75ed1a40439e38508305ddac response_code=200\n",
      "2022-12-06 15:31:53,363 - openai - INFO - message='Request to OpenAI API' method=post path=https://api.openai.com/v1/engines/text-similarity-ada-001/embeddings\n",
      "2022-12-06 15:31:53,449 - openai - INFO - message='OpenAI API response' path=https://api.openai.com/v1/engines/text-similarity-ada-001/embeddings processing_ms=13 request_id=2fc0a9fe0fae4e4f586947054422e72f response_code=200\n",
      "2022-12-06 15:31:58,461 - openai - INFO - message='Request to OpenAI API' method=post path=https://api.openai.com/v1/engines/text-similarity-ada-001/embeddings\n",
      "2022-12-06 15:31:58,535 - openai - INFO - message='OpenAI API response' path=https://api.openai.com/v1/engines/text-similarity-ada-001/embeddings processing_ms=13 request_id=c015b8991b0ea7ebbcbc8c81d4490f80 response_code=200\n",
      "2022-12-06 15:32:03,544 - openai - INFO - message='Request to OpenAI API' method=post path=https://api.openai.com/v1/engines/text-similarity-ada-001/embeddings\n",
      "2022-12-06 15:32:03,628 - openai - INFO - message='OpenAI API response' path=https://api.openai.com/v1/engines/text-similarity-ada-001/embeddings processing_ms=13 request_id=a09d8925720ab8ebd6252f88bcbcc188 response_code=200\n",
      "2022-12-06 15:32:08,631 - openai - INFO - message='Request to OpenAI API' method=post path=https://api.openai.com/v1/engines/text-similarity-ada-001/embeddings\n",
      "2022-12-06 15:32:08,717 - openai - INFO - message='OpenAI API response' path=https://api.openai.com/v1/engines/text-similarity-ada-001/embeddings processing_ms=12 request_id=17451f265c1a88f30c924081789224d0 response_code=200\n",
      "2022-12-06 15:32:13,724 - openai - INFO - message='Request to OpenAI API' method=post path=https://api.openai.com/v1/engines/text-similarity-ada-001/embeddings\n",
      "2022-12-06 15:32:13,806 - openai - INFO - message='OpenAI API response' path=https://api.openai.com/v1/engines/text-similarity-ada-001/embeddings processing_ms=13 request_id=01a2eae10385d635a9ec7697641a0045 response_code=200\n",
      "2022-12-06 15:32:18,810 - openai - INFO - message='Request to OpenAI API' method=post path=https://api.openai.com/v1/engines/text-similarity-ada-001/embeddings\n",
      "2022-12-06 15:32:18,897 - openai - INFO - message='OpenAI API response' path=https://api.openai.com/v1/engines/text-similarity-ada-001/embeddings processing_ms=14 request_id=2c776f55e4e3a452ba0e6ae011c98490 response_code=200\n",
      "2022-12-06 15:32:23,908 - openai - INFO - message='Request to OpenAI API' method=post path=https://api.openai.com/v1/engines/text-similarity-ada-001/embeddings\n",
      "2022-12-06 15:32:23,996 - openai - INFO - message='OpenAI API response' path=https://api.openai.com/v1/engines/text-similarity-ada-001/embeddings processing_ms=13 request_id=d9f4d75aca36581837177916271e5100 response_code=200\n",
      "2022-12-06 15:32:29,002 - openai - INFO - message='Request to OpenAI API' method=post path=https://api.openai.com/v1/engines/text-similarity-ada-001/embeddings\n",
      "2022-12-06 15:32:29,084 - openai - INFO - message='OpenAI API response' path=https://api.openai.com/v1/engines/text-similarity-ada-001/embeddings processing_ms=11 request_id=34ce77aaca89d7e7c43c5d6766997641 response_code=200\n",
      "2022-12-06 15:32:34,091 - openai - INFO - message='Request to OpenAI API' method=post path=https://api.openai.com/v1/engines/text-similarity-ada-001/embeddings\n",
      "2022-12-06 15:32:34,178 - openai - INFO - message='OpenAI API response' path=https://api.openai.com/v1/engines/text-similarity-ada-001/embeddings processing_ms=13 request_id=0eada3bbd3a8969010f30a9ec909059e response_code=200\n",
      "2022-12-06 15:32:39,184 - openai - INFO - message='Request to OpenAI API' method=post path=https://api.openai.com/v1/engines/text-similarity-ada-001/embeddings\n",
      "2022-12-06 15:32:39,273 - openai - INFO - message='OpenAI API response' path=https://api.openai.com/v1/engines/text-similarity-ada-001/embeddings processing_ms=12 request_id=f052eb2e3fa1d4faef749641a34cc9a8 response_code=200\n",
      "2022-12-06 15:32:44,285 - openai - INFO - message='Request to OpenAI API' method=post path=https://api.openai.com/v1/engines/text-similarity-ada-001/embeddings\n",
      "2022-12-06 15:32:44,477 - openai - INFO - message='OpenAI API response' path=https://api.openai.com/v1/engines/text-similarity-ada-001/embeddings processing_ms=88 request_id=da8f81ba4c0c3a9722d974ff11dec350 response_code=200\n",
      "2022-12-06 15:32:49,489 - openai - INFO - message='Request to OpenAI API' method=post path=https://api.openai.com/v1/engines/text-similarity-ada-001/embeddings\n",
      "2022-12-06 15:32:49,580 - openai - INFO - message='OpenAI API response' path=https://api.openai.com/v1/engines/text-similarity-ada-001/embeddings processing_ms=13 request_id=487a38a536708f4bce9d87542d08592e response_code=200\n",
      "2022-12-06 15:32:54,591 - openai - INFO - message='Request to OpenAI API' method=post path=https://api.openai.com/v1/engines/text-similarity-ada-001/embeddings\n",
      "2022-12-06 15:32:54,687 - openai - INFO - message='OpenAI API response' path=https://api.openai.com/v1/engines/text-similarity-ada-001/embeddings processing_ms=14 request_id=66de6f424f18956f052ad3cac637d3d3 response_code=200\n",
      "2022-12-06 15:32:59,698 - openai - INFO - message='Request to OpenAI API' method=post path=https://api.openai.com/v1/engines/text-similarity-ada-001/embeddings\n",
      "2022-12-06 15:32:59,786 - openai - INFO - message='OpenAI API response' path=https://api.openai.com/v1/engines/text-similarity-ada-001/embeddings processing_ms=13 request_id=87b75cb59ef01ea3b874e6202c2b2694 response_code=200\n",
      "2022-12-06 15:33:04,792 - openai - INFO - message='Request to OpenAI API' method=post path=https://api.openai.com/v1/engines/text-similarity-ada-001/embeddings\n",
      "2022-12-06 15:33:04,879 - openai - INFO - message='OpenAI API response' path=https://api.openai.com/v1/engines/text-similarity-ada-001/embeddings processing_ms=15 request_id=02e72aa0642a822909ff1218d7c3ad65 response_code=200\n",
      "2022-12-06 15:33:09,886 - openai - INFO - message='Request to OpenAI API' method=post path=https://api.openai.com/v1/engines/text-similarity-ada-001/embeddings\n",
      "2022-12-06 15:33:09,969 - openai - INFO - message='OpenAI API response' path=https://api.openai.com/v1/engines/text-similarity-ada-001/embeddings processing_ms=15 request_id=5d77e8f0b1c1ed57d0530232ca08272b response_code=200\n",
      "2022-12-06 15:33:14,976 - openai - INFO - message='Request to OpenAI API' method=post path=https://api.openai.com/v1/engines/text-similarity-ada-001/embeddings\n",
      "2022-12-06 15:33:15,080 - openai - INFO - message='OpenAI API response' path=https://api.openai.com/v1/engines/text-similarity-ada-001/embeddings processing_ms=13 request_id=054c3293e5a3a50b1cebcf1677d9b145 response_code=200\n",
      "2022-12-06 15:33:20,085 - openai - INFO - message='Request to OpenAI API' method=post path=https://api.openai.com/v1/engines/text-similarity-ada-001/embeddings\n",
      "2022-12-06 15:33:20,176 - openai - INFO - message='OpenAI API response' path=https://api.openai.com/v1/engines/text-similarity-ada-001/embeddings processing_ms=14 request_id=e9f0041205d4d714625eed60ce8cc458 response_code=200\n",
      "2022-12-06 15:33:25,184 - openai - INFO - message='Request to OpenAI API' method=post path=https://api.openai.com/v1/engines/text-similarity-ada-001/embeddings\n",
      "2022-12-06 15:33:25,271 - openai - INFO - message='OpenAI API response' path=https://api.openai.com/v1/engines/text-similarity-ada-001/embeddings processing_ms=13 request_id=a4309fd66269072d2767d3fd7d371359 response_code=200\n",
      "2022-12-06 15:33:30,276 - openai - INFO - message='Request to OpenAI API' method=post path=https://api.openai.com/v1/engines/text-similarity-ada-001/embeddings\n",
      "2022-12-06 15:33:30,363 - openai - INFO - message='OpenAI API response' path=https://api.openai.com/v1/engines/text-similarity-ada-001/embeddings processing_ms=11 request_id=f7702b3cae72d5b45977741550bbc66f response_code=200\n",
      "2022-12-06 15:33:35,374 - openai - INFO - message='Request to OpenAI API' method=post path=https://api.openai.com/v1/engines/text-similarity-ada-001/embeddings\n",
      "2022-12-06 15:33:35,461 - openai - INFO - message='OpenAI API response' path=https://api.openai.com/v1/engines/text-similarity-ada-001/embeddings processing_ms=13 request_id=e0c7158bfa8bed5f17be1f461513e3c9 response_code=200\n",
      "2022-12-06 15:33:40,463 - openai - INFO - message='Request to OpenAI API' method=post path=https://api.openai.com/v1/engines/text-similarity-ada-001/embeddings\n",
      "2022-12-06 15:33:40,561 - openai - INFO - message='OpenAI API response' path=https://api.openai.com/v1/engines/text-similarity-ada-001/embeddings processing_ms=13 request_id=1b5ee81ae6d2132af7248e5254e07efd response_code=200\n",
      "2022-12-06 15:33:45,564 - openai - INFO - message='Request to OpenAI API' method=post path=https://api.openai.com/v1/engines/text-similarity-ada-001/embeddings\n",
      "2022-12-06 15:33:45,733 - openai - INFO - message='OpenAI API response' path=https://api.openai.com/v1/engines/text-similarity-ada-001/embeddings processing_ms=101 request_id=a1ac61dca542e01a30ac64749722c35f response_code=200\n",
      "2022-12-06 15:33:50,741 - openai - INFO - message='Request to OpenAI API' method=post path=https://api.openai.com/v1/engines/text-similarity-ada-001/embeddings\n",
      "2022-12-06 15:33:50,829 - openai - INFO - message='OpenAI API response' path=https://api.openai.com/v1/engines/text-similarity-ada-001/embeddings processing_ms=13 request_id=60543ac69afb9d6492f0ad2b94d70c5e response_code=200\n",
      "2022-12-06 15:33:55,839 - openai - INFO - message='Request to OpenAI API' method=post path=https://api.openai.com/v1/engines/text-similarity-ada-001/embeddings\n",
      "2022-12-06 15:33:56,248 - openai - INFO - message='OpenAI API response' path=https://api.openai.com/v1/engines/text-similarity-ada-001/embeddings processing_ms=13 request_id=35b170493e9f058ebacc139488262d43 response_code=200\n",
      "2022-12-06 15:34:01,259 - openai - INFO - message='Request to OpenAI API' method=post path=https://api.openai.com/v1/engines/text-similarity-ada-001/embeddings\n",
      "2022-12-06 15:34:01,344 - openai - INFO - message='OpenAI API response' path=https://api.openai.com/v1/engines/text-similarity-ada-001/embeddings processing_ms=14 request_id=c4f1df51865fbadc128634762c745ea7 response_code=200\n",
      "2022-12-06 15:34:06,350 - openai - INFO - message='Request to OpenAI API' method=post path=https://api.openai.com/v1/engines/text-similarity-ada-001/embeddings\n",
      "2022-12-06 15:34:06,629 - openai - INFO - message='OpenAI API response' path=https://api.openai.com/v1/engines/text-similarity-ada-001/embeddings processing_ms=13 request_id=9900ed7015e1aaff507d5a8e9058923b response_code=200\n",
      "2022-12-06 15:34:11,641 - openai - INFO - message='Request to OpenAI API' method=post path=https://api.openai.com/v1/engines/text-similarity-ada-001/embeddings\n",
      "2022-12-06 15:34:13,368 - openai - INFO - message='OpenAI API response' path=https://api.openai.com/v1/engines/text-similarity-ada-001/embeddings processing_ms=12 request_id=a412b888fdfb58b6c7e915fea3956420 response_code=200\n",
      "2022-12-06 15:34:18,378 - openai - INFO - message='Request to OpenAI API' method=post path=https://api.openai.com/v1/engines/text-similarity-ada-001/embeddings\n",
      "2022-12-06 15:34:19,409 - openai - INFO - message='OpenAI API response' path=https://api.openai.com/v1/engines/text-similarity-ada-001/embeddings processing_ms=15 request_id=aac5fecac2c57b3597e5453c43de4fc8 response_code=200\n",
      "2022-12-06 15:34:24,417 - openai - INFO - message='Request to OpenAI API' method=post path=https://api.openai.com/v1/engines/text-similarity-ada-001/embeddings\n",
      "2022-12-06 15:34:24,619 - openai - INFO - message='OpenAI API response' path=https://api.openai.com/v1/engines/text-similarity-ada-001/embeddings processing_ms=14 request_id=930f54a4e9425e590f5a70c8c7d310b5 response_code=200\n",
      "2022-12-06 15:34:29,627 - openai - INFO - message='Request to OpenAI API' method=post path=https://api.openai.com/v1/engines/text-similarity-ada-001/embeddings\n",
      "2022-12-06 15:34:29,716 - openai - INFO - message='OpenAI API response' path=https://api.openai.com/v1/engines/text-similarity-ada-001/embeddings processing_ms=14 request_id=ac5713e3530eac3e7b5d4969b7e34ea2 response_code=200\n",
      "2022-12-06 15:34:34,725 - openai - INFO - message='Request to OpenAI API' method=post path=https://api.openai.com/v1/engines/text-similarity-ada-001/embeddings\n",
      "2022-12-06 15:34:34,844 - openai - INFO - message='OpenAI API response' path=https://api.openai.com/v1/engines/text-similarity-ada-001/embeddings processing_ms=14 request_id=afba4665cef0f6a09ff944e80500b7d6 response_code=200\n",
      "2022-12-06 15:34:39,848 - openai - INFO - message='Request to OpenAI API' method=post path=https://api.openai.com/v1/engines/text-similarity-ada-001/embeddings\n",
      "2022-12-06 15:34:39,938 - openai - INFO - message='OpenAI API response' path=https://api.openai.com/v1/engines/text-similarity-ada-001/embeddings processing_ms=13 request_id=13b8333f715101c79e2fb45d8557ac9f response_code=200\n",
      "2022-12-06 15:34:44,943 - openai - INFO - message='Request to OpenAI API' method=post path=https://api.openai.com/v1/engines/text-similarity-ada-001/embeddings\n",
      "2022-12-06 15:34:45,726 - openai - INFO - message='OpenAI API response' path=https://api.openai.com/v1/engines/text-similarity-ada-001/embeddings processing_ms=14 request_id=e73cb17e97dea71692e22bc6346cf295 response_code=200\n",
      "2022-12-06 15:34:50,738 - openai - INFO - message='Request to OpenAI API' method=post path=https://api.openai.com/v1/engines/text-similarity-ada-001/embeddings\n",
      "2022-12-06 15:34:51,049 - openai - INFO - message='OpenAI API response' path=https://api.openai.com/v1/engines/text-similarity-ada-001/embeddings processing_ms=214 request_id=4d5e872b7730ae539bdc3ebc5425fcfd response_code=200\n",
      "2022-12-06 15:34:56,059 - openai - INFO - message='Request to OpenAI API' method=post path=https://api.openai.com/v1/engines/text-similarity-ada-001/embeddings\n",
      "2022-12-06 15:34:56,153 - openai - INFO - message='OpenAI API response' path=https://api.openai.com/v1/engines/text-similarity-ada-001/embeddings processing_ms=16 request_id=2967e9df948648870ab6112892802a27 response_code=200\n",
      "2022-12-06 15:35:01,162 - openai - INFO - message='Request to OpenAI API' method=post path=https://api.openai.com/v1/engines/text-similarity-ada-001/embeddings\n",
      "2022-12-06 15:35:01,495 - openai - INFO - message='OpenAI API response' path=https://api.openai.com/v1/engines/text-similarity-ada-001/embeddings processing_ms=12 request_id=0118af52506f096a73066f24bc07448f response_code=200\n",
      "2022-12-06 15:35:06,506 - openai - INFO - message='Request to OpenAI API' method=post path=https://api.openai.com/v1/engines/text-similarity-ada-001/embeddings\n",
      "2022-12-06 15:35:06,610 - openai - INFO - message='OpenAI API response' path=https://api.openai.com/v1/engines/text-similarity-ada-001/embeddings processing_ms=19 request_id=1109a46216d88c08ef47085a7b6c2ed9 response_code=200\n",
      "2022-12-06 15:35:11,614 - openai - INFO - message='Request to OpenAI API' method=post path=https://api.openai.com/v1/engines/text-similarity-ada-001/embeddings\n",
      "2022-12-06 15:35:11,861 - openai - INFO - message='OpenAI API response' path=https://api.openai.com/v1/engines/text-similarity-ada-001/embeddings processing_ms=14 request_id=b17a41795003f7b5b86cd874660c000a response_code=200\n",
      "2022-12-06 15:35:16,867 - openai - INFO - message='Request to OpenAI API' method=post path=https://api.openai.com/v1/engines/text-similarity-ada-001/embeddings\n",
      "2022-12-06 15:35:16,948 - openai - INFO - message='OpenAI API response' path=https://api.openai.com/v1/engines/text-similarity-ada-001/embeddings processing_ms=11 request_id=dd3d7fd191d62c7a1e8c511209d0a0fd response_code=200\n",
      "2022-12-06 15:35:21,956 - openai - INFO - message='Request to OpenAI API' method=post path=https://api.openai.com/v1/engines/text-similarity-ada-001/embeddings\n",
      "2022-12-06 15:35:22,046 - openai - INFO - message='OpenAI API response' path=https://api.openai.com/v1/engines/text-similarity-ada-001/embeddings processing_ms=13 request_id=78b27ee60b60873ab6534f27b5df630c response_code=200\n",
      "2022-12-06 15:35:27,056 - openai - INFO - message='Request to OpenAI API' method=post path=https://api.openai.com/v1/engines/text-similarity-ada-001/embeddings\n",
      "2022-12-06 15:35:27,204 - openai - INFO - message='OpenAI API response' path=https://api.openai.com/v1/engines/text-similarity-ada-001/embeddings processing_ms=14 request_id=a9403299e6267e572e4af99be6d7b5ce response_code=200\n",
      "2022-12-06 15:35:32,208 - openai - INFO - message='Request to OpenAI API' method=post path=https://api.openai.com/v1/engines/text-similarity-ada-001/embeddings\n",
      "2022-12-06 15:35:32,308 - openai - INFO - message='OpenAI API response' path=https://api.openai.com/v1/engines/text-similarity-ada-001/embeddings processing_ms=13 request_id=aa4bd11f9e128f87410c8557889c0608 response_code=200\n",
      "2022-12-06 15:35:37,311 - openai - INFO - message='Request to OpenAI API' method=post path=https://api.openai.com/v1/engines/text-similarity-ada-001/embeddings\n",
      "2022-12-06 15:35:37,423 - openai - INFO - message='OpenAI API response' path=https://api.openai.com/v1/engines/text-similarity-ada-001/embeddings processing_ms=12 request_id=dbe723da7253878a0f7493a50748c051 response_code=200\n",
      "2022-12-06 15:35:42,427 - openai - INFO - message='Request to OpenAI API' method=post path=https://api.openai.com/v1/engines/text-similarity-ada-001/embeddings\n",
      "2022-12-06 15:35:42,520 - openai - INFO - message='OpenAI API response' path=https://api.openai.com/v1/engines/text-similarity-ada-001/embeddings processing_ms=12 request_id=75d1394265a83d6ae00d8d6122af081b response_code=200\n",
      "2022-12-06 15:35:47,531 - openai - INFO - message='Request to OpenAI API' method=post path=https://api.openai.com/v1/engines/text-similarity-ada-001/embeddings\n",
      "2022-12-06 15:35:47,615 - openai - INFO - message='OpenAI API response' path=https://api.openai.com/v1/engines/text-similarity-ada-001/embeddings processing_ms=11 request_id=304cdd8551536ddb5c2356dc113d2cf6 response_code=200\n",
      "2022-12-06 15:35:52,623 - openai - INFO - message='Request to OpenAI API' method=post path=https://api.openai.com/v1/engines/text-similarity-ada-001/embeddings\n",
      "2022-12-06 15:35:52,828 - openai - INFO - message='OpenAI API response' path=https://api.openai.com/v1/engines/text-similarity-ada-001/embeddings processing_ms=115 request_id=b047b0e4eaf8f48ce883fd9c6cb93d90 response_code=200\n",
      "2022-12-06 15:35:57,839 - openai - INFO - message='Request to OpenAI API' method=post path=https://api.openai.com/v1/engines/text-similarity-ada-001/embeddings\n",
      "2022-12-06 15:35:57,925 - openai - INFO - message='OpenAI API response' path=https://api.openai.com/v1/engines/text-similarity-ada-001/embeddings processing_ms=12 request_id=742bc7d2a5aca99c5ae63c9a38d5f727 response_code=200\n",
      "2022-12-06 15:36:02,937 - openai - INFO - message='Request to OpenAI API' method=post path=https://api.openai.com/v1/engines/text-similarity-ada-001/embeddings\n",
      "2022-12-06 15:36:03,346 - openai - INFO - message='OpenAI API response' path=https://api.openai.com/v1/engines/text-similarity-ada-001/embeddings processing_ms=14 request_id=2336fa5174b42c811b1c5d3f6936aa79 response_code=200\n",
      "2022-12-06 15:36:08,355 - openai - INFO - message='Request to OpenAI API' method=post path=https://api.openai.com/v1/engines/text-similarity-ada-001/embeddings\n",
      "2022-12-06 15:36:08,746 - openai - INFO - message='OpenAI API response' path=https://api.openai.com/v1/engines/text-similarity-ada-001/embeddings processing_ms=13 request_id=7650e5748f4118ad264d1b3720ce9948 response_code=200\n",
      "2022-12-06 15:36:13,756 - openai - INFO - message='Request to OpenAI API' method=post path=https://api.openai.com/v1/engines/text-similarity-ada-001/embeddings\n",
      "2022-12-06 15:36:14,095 - openai - INFO - message='OpenAI API response' path=https://api.openai.com/v1/engines/text-similarity-ada-001/embeddings processing_ms=13 request_id=d5d3c06f5da31e9ce1110e6735de6b95 response_code=200\n",
      "2022-12-06 15:36:19,105 - openai - INFO - message='Request to OpenAI API' method=post path=https://api.openai.com/v1/engines/text-similarity-ada-001/embeddings\n",
      "2022-12-06 15:36:19,199 - openai - INFO - message='OpenAI API response' path=https://api.openai.com/v1/engines/text-similarity-ada-001/embeddings processing_ms=13 request_id=6c8d1ec02e2b7d9f7ad1ee232883e9ed response_code=200\n",
      "2022-12-06 15:36:24,208 - openai - INFO - message='Request to OpenAI API' method=post path=https://api.openai.com/v1/engines/text-similarity-ada-001/embeddings\n",
      "2022-12-06 15:36:24,392 - openai - INFO - message='OpenAI API response' path=https://api.openai.com/v1/engines/text-similarity-ada-001/embeddings processing_ms=14 request_id=7d9a1826abc550bad1b40d58a4a93cc3 response_code=200\n",
      "2022-12-06 15:36:29,404 - openai - INFO - message='Request to OpenAI API' method=post path=https://api.openai.com/v1/engines/text-similarity-ada-001/embeddings\n",
      "2022-12-06 15:36:29,506 - openai - INFO - message='OpenAI API response' path=https://api.openai.com/v1/engines/text-similarity-ada-001/embeddings processing_ms=11 request_id=ccbec18d88bbcabaeb3c9aea1c195087 response_code=200\n",
      "2022-12-06 15:36:34,514 - openai - INFO - message='Request to OpenAI API' method=post path=https://api.openai.com/v1/engines/text-similarity-ada-001/embeddings\n",
      "2022-12-06 15:36:34,615 - openai - INFO - message='OpenAI API response' path=https://api.openai.com/v1/engines/text-similarity-ada-001/embeddings processing_ms=16 request_id=efcc8e4667ea2916c6088f2b608ac74b response_code=200\n",
      "2022-12-06 15:36:39,627 - openai - INFO - message='Request to OpenAI API' method=post path=https://api.openai.com/v1/engines/text-similarity-ada-001/embeddings\n",
      "2022-12-06 15:36:39,723 - openai - INFO - message='OpenAI API response' path=https://api.openai.com/v1/engines/text-similarity-ada-001/embeddings processing_ms=12 request_id=b300c971a8e770d214e2fa0de1298932 response_code=200\n",
      "2022-12-06 15:36:44,726 - openai - INFO - message='Request to OpenAI API' method=post path=https://api.openai.com/v1/engines/text-similarity-ada-001/embeddings\n",
      "2022-12-06 15:36:44,814 - openai - INFO - message='OpenAI API response' path=https://api.openai.com/v1/engines/text-similarity-ada-001/embeddings processing_ms=13 request_id=b32394bb4cfe41509d1ead5aea6de84a response_code=200\n",
      "2022-12-06 15:36:49,821 - openai - INFO - message='Request to OpenAI API' method=post path=https://api.openai.com/v1/engines/text-similarity-ada-001/embeddings\n",
      "2022-12-06 15:36:49,938 - openai - INFO - message='OpenAI API response' path=https://api.openai.com/v1/engines/text-similarity-ada-001/embeddings processing_ms=14 request_id=4485a87cc352703290e84b531abc01bf response_code=200\n",
      "2022-12-06 15:36:54,941 - openai - INFO - message='Request to OpenAI API' method=post path=https://api.openai.com/v1/engines/text-similarity-ada-001/embeddings\n",
      "2022-12-06 15:36:55,569 - openai - INFO - message='OpenAI API response' path=https://api.openai.com/v1/engines/text-similarity-ada-001/embeddings processing_ms=415 request_id=7c42e5a77a4a43c6d3f38364a8ac3887 response_code=200\n",
      "2022-12-06 15:37:00,572 - openai - INFO - message='Request to OpenAI API' method=post path=https://api.openai.com/v1/engines/text-similarity-ada-001/embeddings\n",
      "2022-12-06 15:37:00,655 - openai - INFO - message='OpenAI API response' path=https://api.openai.com/v1/engines/text-similarity-ada-001/embeddings processing_ms=13 request_id=003f4972597fd803de0f551654da32de response_code=200\n",
      "2022-12-06 15:37:05,664 - openai - INFO - message='Request to OpenAI API' method=post path=https://api.openai.com/v1/engines/text-similarity-ada-001/embeddings\n",
      "2022-12-06 15:37:05,825 - openai - INFO - message='OpenAI API response' path=https://api.openai.com/v1/engines/text-similarity-ada-001/embeddings processing_ms=15 request_id=005267002e64eb2cd6f7de3e1e5fb1e3 response_code=200\n",
      "2022-12-06 15:37:10,830 - openai - INFO - message='Request to OpenAI API' method=post path=https://api.openai.com/v1/engines/text-similarity-ada-001/embeddings\n",
      "2022-12-06 15:37:10,926 - openai - INFO - message='OpenAI API response' path=https://api.openai.com/v1/engines/text-similarity-ada-001/embeddings processing_ms=12 request_id=ebc91a4cb3961a672ab2142f1ab34c28 response_code=200\n",
      "2022-12-06 15:37:15,934 - openai - INFO - message='Request to OpenAI API' method=post path=https://api.openai.com/v1/engines/text-similarity-ada-001/embeddings\n",
      "2022-12-06 15:37:16,043 - openai - INFO - message='OpenAI API response' path=https://api.openai.com/v1/engines/text-similarity-ada-001/embeddings processing_ms=14 request_id=9572634376d59762e82a7daf257ce481 response_code=200\n",
      "2022-12-06 15:37:21,054 - openai - INFO - message='Request to OpenAI API' method=post path=https://api.openai.com/v1/engines/text-similarity-ada-001/embeddings\n",
      "2022-12-06 15:37:21,289 - openai - INFO - message='OpenAI API response' path=https://api.openai.com/v1/engines/text-similarity-ada-001/embeddings processing_ms=13 request_id=27a5364263235cb0821ff8cd1f5e6a05 response_code=200\n",
      "2022-12-06 15:37:26,296 - openai - INFO - message='Request to OpenAI API' method=post path=https://api.openai.com/v1/engines/text-similarity-ada-001/embeddings\n",
      "2022-12-06 15:37:26,389 - openai - INFO - message='OpenAI API response' path=https://api.openai.com/v1/engines/text-similarity-ada-001/embeddings processing_ms=14 request_id=b272b082ac8d36a19272335fe6492941 response_code=200\n",
      "2022-12-06 15:37:31,396 - openai - INFO - message='Request to OpenAI API' method=post path=https://api.openai.com/v1/engines/text-similarity-ada-001/embeddings\n",
      "2022-12-06 15:37:31,480 - openai - INFO - message='OpenAI API response' path=https://api.openai.com/v1/engines/text-similarity-ada-001/embeddings processing_ms=13 request_id=420ccca0ba435fb3efcb3636c3fa2b04 response_code=200\n",
      "2022-12-06 15:37:36,491 - openai - INFO - message='Request to OpenAI API' method=post path=https://api.openai.com/v1/engines/text-similarity-ada-001/embeddings\n",
      "2022-12-06 15:37:36,938 - openai - INFO - message='OpenAI API response' path=https://api.openai.com/v1/engines/text-similarity-ada-001/embeddings processing_ms=14 request_id=4da85b92a0f484940ecda520c4bef840 response_code=200\n",
      "2022-12-06 15:37:41,946 - openai - INFO - message='Request to OpenAI API' method=post path=https://api.openai.com/v1/engines/text-similarity-ada-001/embeddings\n",
      "2022-12-06 15:37:42,034 - openai - INFO - message='OpenAI API response' path=https://api.openai.com/v1/engines/text-similarity-ada-001/embeddings processing_ms=13 request_id=80985fd22fdcdc558bd737100a59aa63 response_code=200\n",
      "2022-12-06 15:37:47,044 - openai - INFO - message='Request to OpenAI API' method=post path=https://api.openai.com/v1/engines/text-similarity-ada-001/embeddings\n",
      "2022-12-06 15:37:47,169 - openai - INFO - message='OpenAI API response' path=https://api.openai.com/v1/engines/text-similarity-ada-001/embeddings processing_ms=13 request_id=3325955b7571429b644deff769b1538b response_code=200\n",
      "2022-12-06 15:37:52,173 - openai - INFO - message='Request to OpenAI API' method=post path=https://api.openai.com/v1/engines/text-similarity-ada-001/embeddings\n",
      "2022-12-06 15:37:52,257 - openai - INFO - message='OpenAI API response' path=https://api.openai.com/v1/engines/text-similarity-ada-001/embeddings processing_ms=14 request_id=4d02319034594a141faef897ad61a639 response_code=200\n",
      "2022-12-06 15:37:57,260 - openai - INFO - message='Request to OpenAI API' method=post path=https://api.openai.com/v1/engines/text-similarity-ada-001/embeddings\n",
      "2022-12-06 15:37:58,034 - openai - INFO - message='OpenAI API response' path=https://api.openai.com/v1/engines/text-similarity-ada-001/embeddings processing_ms=495 request_id=d5f0e4150a2d553e0f0284a9ec37561e response_code=200\n",
      "2022-12-06 15:38:03,045 - openai - INFO - message='Request to OpenAI API' method=post path=https://api.openai.com/v1/engines/text-similarity-ada-001/embeddings\n",
      "2022-12-06 15:38:03,138 - openai - INFO - message='OpenAI API response' path=https://api.openai.com/v1/engines/text-similarity-ada-001/embeddings processing_ms=12 request_id=82e2e64cc8097cf88ddcf54087c56747 response_code=200\n",
      "2022-12-06 15:38:08,142 - openai - INFO - message='Request to OpenAI API' method=post path=https://api.openai.com/v1/engines/text-similarity-ada-001/embeddings\n",
      "2022-12-06 15:38:08,257 - openai - INFO - message='OpenAI API response' path=https://api.openai.com/v1/engines/text-similarity-ada-001/embeddings processing_ms=16 request_id=a5cc2a8a96f4bad829572a937a547e94 response_code=200\n",
      "2022-12-06 15:38:13,262 - openai - INFO - message='Request to OpenAI API' method=post path=https://api.openai.com/v1/engines/text-similarity-ada-001/embeddings\n",
      "2022-12-06 15:38:13,345 - openai - INFO - message='OpenAI API response' path=https://api.openai.com/v1/engines/text-similarity-ada-001/embeddings processing_ms=13 request_id=cd98b7b3a1d1b7c3215d06c205c3d807 response_code=200\n",
      "2022-12-06 15:38:18,354 - openai - INFO - message='Request to OpenAI API' method=post path=https://api.openai.com/v1/engines/text-similarity-ada-001/embeddings\n",
      "2022-12-06 15:38:18,441 - openai - INFO - message='OpenAI API response' path=https://api.openai.com/v1/engines/text-similarity-ada-001/embeddings processing_ms=14 request_id=948a1e0223fec35b2c1695caff238655 response_code=200\n",
      "2022-12-06 15:38:23,447 - openai - INFO - message='Request to OpenAI API' method=post path=https://api.openai.com/v1/engines/text-similarity-ada-001/embeddings\n",
      "2022-12-06 15:38:24,041 - openai - INFO - message='OpenAI API response' path=https://api.openai.com/v1/engines/text-similarity-ada-001/embeddings processing_ms=14 request_id=0e8e169b8b8e8cc7edb3217d1c08a1ba response_code=200\n",
      "2022-12-06 15:38:29,053 - openai - INFO - message='Request to OpenAI API' method=post path=https://api.openai.com/v1/engines/text-similarity-ada-001/embeddings\n",
      "2022-12-06 15:38:29,152 - openai - INFO - message='OpenAI API response' path=https://api.openai.com/v1/engines/text-similarity-ada-001/embeddings processing_ms=13 request_id=8c01c31430e1a955b45ba08098751744 response_code=200\n",
      "2022-12-06 15:38:34,156 - openai - INFO - message='Request to OpenAI API' method=post path=https://api.openai.com/v1/engines/text-similarity-ada-001/embeddings\n",
      "2022-12-06 15:38:34,240 - openai - INFO - message='OpenAI API response' path=https://api.openai.com/v1/engines/text-similarity-ada-001/embeddings processing_ms=11 request_id=2526cf4ca465b8c5609af6dbda5d5a79 response_code=200\n",
      "2022-12-06 15:38:39,252 - openai - INFO - message='Request to OpenAI API' method=post path=https://api.openai.com/v1/engines/text-similarity-ada-001/embeddings\n",
      "2022-12-06 15:38:39,343 - openai - INFO - message='OpenAI API response' path=https://api.openai.com/v1/engines/text-similarity-ada-001/embeddings processing_ms=14 request_id=bf7da1805390fcb1e46a856150733f62 response_code=200\n",
      "2022-12-06 15:38:44,346 - openai - INFO - message='Request to OpenAI API' method=post path=https://api.openai.com/v1/engines/text-similarity-ada-001/embeddings\n",
      "2022-12-06 15:38:44,539 - openai - INFO - message='OpenAI API response' path=https://api.openai.com/v1/engines/text-similarity-ada-001/embeddings processing_ms=15 request_id=14efc46844279018cfa2bc67eaf383ac response_code=200\n",
      "2022-12-06 15:38:49,544 - openai - INFO - message='Request to OpenAI API' method=post path=https://api.openai.com/v1/engines/text-similarity-ada-001/embeddings\n",
      "2022-12-06 15:38:49,632 - openai - INFO - message='OpenAI API response' path=https://api.openai.com/v1/engines/text-similarity-ada-001/embeddings processing_ms=13 request_id=02db3b353fe057ae46454481db79c732 response_code=200\n",
      "2022-12-06 15:38:54,639 - openai - INFO - message='Request to OpenAI API' method=post path=https://api.openai.com/v1/engines/text-similarity-ada-001/embeddings\n",
      "2022-12-06 15:38:54,782 - openai - INFO - message='OpenAI API response' path=https://api.openai.com/v1/engines/text-similarity-ada-001/embeddings processing_ms=14 request_id=d70667a55c5cd3b3407ad584e2145ccd response_code=200\n",
      "2022-12-06 15:38:59,794 - openai - INFO - message='Request to OpenAI API' method=post path=https://api.openai.com/v1/engines/text-similarity-ada-001/embeddings\n",
      "2022-12-06 15:39:00,077 - openai - INFO - message='OpenAI API response' path=https://api.openai.com/v1/engines/text-similarity-ada-001/embeddings processing_ms=104 request_id=8c573a2482bf9af7dcd053ab05a490e3 response_code=200\n",
      "2022-12-06 15:39:05,087 - openai - INFO - message='Request to OpenAI API' method=post path=https://api.openai.com/v1/engines/text-similarity-ada-001/embeddings\n",
      "2022-12-06 15:39:05,170 - openai - INFO - message='OpenAI API response' path=https://api.openai.com/v1/engines/text-similarity-ada-001/embeddings processing_ms=13 request_id=4fedf4267fb6a51c22531b1ec5df76d8 response_code=200\n",
      "2022-12-06 15:39:10,183 - openai - INFO - message='Request to OpenAI API' method=post path=https://api.openai.com/v1/engines/text-similarity-ada-001/embeddings\n",
      "2022-12-06 15:39:10,273 - openai - INFO - message='OpenAI API response' path=https://api.openai.com/v1/engines/text-similarity-ada-001/embeddings processing_ms=14 request_id=eeea8d1fd0252d52d6dd90244bb6128a response_code=200\n",
      "2022-12-06 15:39:15,278 - openai - INFO - message='Request to OpenAI API' method=post path=https://api.openai.com/v1/engines/text-similarity-ada-001/embeddings\n",
      "2022-12-06 15:39:15,405 - openai - INFO - message='OpenAI API response' path=https://api.openai.com/v1/engines/text-similarity-ada-001/embeddings processing_ms=15 request_id=a87807c0dab8c6934e46da47937505d8 response_code=200\n",
      "2022-12-06 15:39:20,407 - openai - INFO - message='Request to OpenAI API' method=post path=https://api.openai.com/v1/engines/text-similarity-ada-001/embeddings\n",
      "2022-12-06 15:39:20,504 - openai - INFO - message='OpenAI API response' path=https://api.openai.com/v1/engines/text-similarity-ada-001/embeddings processing_ms=16 request_id=e88d11abe23dc841af98674d11252af9 response_code=200\n",
      "2022-12-06 15:39:25,513 - openai - INFO - message='Request to OpenAI API' method=post path=https://api.openai.com/v1/engines/text-similarity-ada-001/embeddings\n",
      "2022-12-06 15:39:26,092 - openai - INFO - message='OpenAI API response' path=https://api.openai.com/v1/engines/text-similarity-ada-001/embeddings processing_ms=12 request_id=d3def2f742cbe0443cc40ec05f25afcf response_code=200\n",
      "2022-12-06 15:39:31,095 - openai - INFO - message='Request to OpenAI API' method=post path=https://api.openai.com/v1/engines/text-similarity-ada-001/embeddings\n",
      "2022-12-06 15:39:31,176 - openai - INFO - message='OpenAI API response' path=https://api.openai.com/v1/engines/text-similarity-ada-001/embeddings processing_ms=14 request_id=efb48f4f45db38d12e6f8eaaa6042fcd response_code=200\n",
      "2022-12-06 15:39:36,178 - openai - INFO - message='Request to OpenAI API' method=post path=https://api.openai.com/v1/engines/text-similarity-ada-001/embeddings\n",
      "2022-12-06 15:39:36,270 - openai - INFO - message='OpenAI API response' path=https://api.openai.com/v1/engines/text-similarity-ada-001/embeddings processing_ms=13 request_id=c75beef604c566e10bcb7a3f132f3342 response_code=200\n",
      "2022-12-06 15:39:41,273 - openai - INFO - message='Request to OpenAI API' method=post path=https://api.openai.com/v1/engines/text-similarity-ada-001/embeddings\n",
      "2022-12-06 15:39:41,368 - openai - INFO - message='OpenAI API response' path=https://api.openai.com/v1/engines/text-similarity-ada-001/embeddings processing_ms=12 request_id=7e5449638bedccf85ac6e2045f281c4b response_code=200\n",
      "2022-12-06 15:39:46,377 - openai - INFO - message='Request to OpenAI API' method=post path=https://api.openai.com/v1/engines/text-similarity-ada-001/embeddings\n",
      "2022-12-06 15:39:46,517 - openai - INFO - message='OpenAI API response' path=https://api.openai.com/v1/engines/text-similarity-ada-001/embeddings processing_ms=14 request_id=e56fbce2cabbd0fa5bbad35e4d92c179 response_code=200\n",
      "2022-12-06 15:39:51,524 - openai - INFO - message='Request to OpenAI API' method=post path=https://api.openai.com/v1/engines/text-similarity-ada-001/embeddings\n",
      "2022-12-06 15:39:51,867 - openai - INFO - message='OpenAI API response' path=https://api.openai.com/v1/engines/text-similarity-ada-001/embeddings processing_ms=13 request_id=60121c50f59d4b43df4166de267c8ea2 response_code=200\n",
      "2022-12-06 15:39:56,874 - openai - INFO - message='Request to OpenAI API' method=post path=https://api.openai.com/v1/engines/text-similarity-ada-001/embeddings\n",
      "2022-12-06 15:39:56,952 - openai - INFO - message='OpenAI API response' path=https://api.openai.com/v1/engines/text-similarity-ada-001/embeddings processing_ms=14 request_id=b640151433d2d8e7829122045b769d36 response_code=200\n",
      "2022-12-06 15:40:01,959 - openai - INFO - message='Request to OpenAI API' method=post path=https://api.openai.com/v1/engines/text-similarity-ada-001/embeddings\n",
      "2022-12-06 15:40:02,130 - openai - INFO - message='OpenAI API response' path=https://api.openai.com/v1/engines/text-similarity-ada-001/embeddings processing_ms=100 request_id=f4a5032116d44044a79f49f3eb0c0842 response_code=200\n",
      "2022-12-06 15:40:07,138 - openai - INFO - message='Request to OpenAI API' method=post path=https://api.openai.com/v1/engines/text-similarity-ada-001/embeddings\n",
      "2022-12-06 15:40:07,242 - openai - INFO - message='OpenAI API response' path=https://api.openai.com/v1/engines/text-similarity-ada-001/embeddings processing_ms=16 request_id=cdcf01f7270fa1b40d119dbc8d677b22 response_code=200\n",
      "2022-12-06 15:40:12,253 - openai - INFO - message='Request to OpenAI API' method=post path=https://api.openai.com/v1/engines/text-similarity-ada-001/embeddings\n",
      "2022-12-06 15:40:12,372 - openai - INFO - message='OpenAI API response' path=https://api.openai.com/v1/engines/text-similarity-ada-001/embeddings processing_ms=16 request_id=2da276e04d4280cb3ab0f67ce097ecc6 response_code=200\n",
      "2022-12-06 15:40:17,384 - openai - INFO - message='Request to OpenAI API' method=post path=https://api.openai.com/v1/engines/text-similarity-ada-001/embeddings\n",
      "2022-12-06 15:40:17,459 - openai - INFO - message='OpenAI API response' path=https://api.openai.com/v1/engines/text-similarity-ada-001/embeddings processing_ms=14 request_id=9806a3ab855bdc8bc31b77e890f347c5 response_code=200\n",
      "2022-12-06 15:40:22,469 - openai - INFO - message='Request to OpenAI API' method=post path=https://api.openai.com/v1/engines/text-similarity-ada-001/embeddings\n",
      "2022-12-06 15:40:22,555 - openai - INFO - message='OpenAI API response' path=https://api.openai.com/v1/engines/text-similarity-ada-001/embeddings processing_ms=12 request_id=d665c0f26a565625ab22227245f55106 response_code=200\n",
      "2022-12-06 15:40:27,563 - openai - INFO - message='Request to OpenAI API' method=post path=https://api.openai.com/v1/engines/text-similarity-ada-001/embeddings\n",
      "2022-12-06 15:40:27,647 - openai - INFO - message='OpenAI API response' path=https://api.openai.com/v1/engines/text-similarity-ada-001/embeddings processing_ms=13 request_id=4ca95de93c7e0d883ecf1ec63d32c0d5 response_code=200\n",
      "2022-12-06 15:40:32,654 - openai - INFO - message='Request to OpenAI API' method=post path=https://api.openai.com/v1/engines/text-similarity-ada-001/embeddings\n",
      "2022-12-06 15:40:32,741 - openai - INFO - message='OpenAI API response' path=https://api.openai.com/v1/engines/text-similarity-ada-001/embeddings processing_ms=12 request_id=18df3a4aad6386df9a563ef942c965f3 response_code=200\n",
      "2022-12-06 15:40:37,752 - openai - INFO - message='Request to OpenAI API' method=post path=https://api.openai.com/v1/engines/text-similarity-ada-001/embeddings\n",
      "2022-12-06 15:40:37,862 - openai - INFO - message='OpenAI API response' path=https://api.openai.com/v1/engines/text-similarity-ada-001/embeddings processing_ms=13 request_id=e0e1999137e09f38ea0fa3f99840fc9b response_code=200\n",
      "2022-12-06 15:40:42,869 - openai - INFO - message='Request to OpenAI API' method=post path=https://api.openai.com/v1/engines/text-similarity-ada-001/embeddings\n",
      "2022-12-06 15:40:42,958 - openai - INFO - message='OpenAI API response' path=https://api.openai.com/v1/engines/text-similarity-ada-001/embeddings processing_ms=14 request_id=8b1a23d24264f727ea0346d59925a6b2 response_code=200\n",
      "2022-12-06 15:40:47,968 - openai - INFO - message='Request to OpenAI API' method=post path=https://api.openai.com/v1/engines/text-similarity-ada-001/embeddings\n",
      "2022-12-06 15:40:48,057 - openai - INFO - message='OpenAI API response' path=https://api.openai.com/v1/engines/text-similarity-ada-001/embeddings processing_ms=12 request_id=294f26404f74005e2bc7b8882c581613 response_code=200\n",
      "2022-12-06 15:40:53,062 - openai - INFO - message='Request to OpenAI API' method=post path=https://api.openai.com/v1/engines/text-similarity-ada-001/embeddings\n",
      "2022-12-06 15:40:53,543 - openai - INFO - message='OpenAI API response' path=https://api.openai.com/v1/engines/text-similarity-ada-001/embeddings processing_ms=14 request_id=9697d0f2ff9d7ddb21bef87a1a9a53c2 response_code=200\n",
      "2022-12-06 15:40:58,552 - openai - INFO - message='Request to OpenAI API' method=post path=https://api.openai.com/v1/engines/text-similarity-ada-001/embeddings\n",
      "2022-12-06 15:40:58,638 - openai - INFO - message='OpenAI API response' path=https://api.openai.com/v1/engines/text-similarity-ada-001/embeddings processing_ms=15 request_id=5315460a898d938522fea5737eb06ecb response_code=200\n",
      "2022-12-06 15:41:03,650 - openai - INFO - message='Request to OpenAI API' method=post path=https://api.openai.com/v1/engines/text-similarity-ada-001/embeddings\n",
      "2022-12-06 15:41:03,822 - openai - INFO - message='OpenAI API response' path=https://api.openai.com/v1/engines/text-similarity-ada-001/embeddings processing_ms=98 request_id=59ab810e1bcf9de0c85f9c0f662c0938 response_code=200\n",
      "2022-12-06 15:41:08,834 - openai - INFO - message='Request to OpenAI API' method=post path=https://api.openai.com/v1/engines/text-similarity-ada-001/embeddings\n",
      "2022-12-06 15:41:08,926 - openai - INFO - message='OpenAI API response' path=https://api.openai.com/v1/engines/text-similarity-ada-001/embeddings processing_ms=16 request_id=d6753912fbcfddd14bb4853a39c7834d response_code=200\n",
      "2022-12-06 15:41:13,935 - openai - INFO - message='Request to OpenAI API' method=post path=https://api.openai.com/v1/engines/text-similarity-ada-001/embeddings\n",
      "2022-12-06 15:41:14,052 - openai - INFO - message='OpenAI API response' path=https://api.openai.com/v1/engines/text-similarity-ada-001/embeddings processing_ms=14 request_id=ed2836ef339593f7750726c891b99d30 response_code=200\n",
      "2022-12-06 15:41:19,065 - openai - INFO - message='Request to OpenAI API' method=post path=https://api.openai.com/v1/engines/text-similarity-ada-001/embeddings\n",
      "2022-12-06 15:41:19,308 - openai - INFO - message='OpenAI API response' path=https://api.openai.com/v1/engines/text-similarity-ada-001/embeddings processing_ms=15 request_id=a63ab2c9d16a51d9638b9137c5c5ef33 response_code=200\n",
      "2022-12-06 15:41:24,310 - openai - INFO - message='Request to OpenAI API' method=post path=https://api.openai.com/v1/engines/text-similarity-ada-001/embeddings\n",
      "2022-12-06 15:41:24,565 - openai - INFO - message='OpenAI API response' path=https://api.openai.com/v1/engines/text-similarity-ada-001/embeddings processing_ms=15 request_id=da699118f62b98241ebb19d6da7c3ca7 response_code=200\n",
      "2022-12-06 15:41:29,570 - openai - INFO - message='Request to OpenAI API' method=post path=https://api.openai.com/v1/engines/text-similarity-ada-001/embeddings\n",
      "2022-12-06 15:41:29,709 - openai - INFO - message='OpenAI API response' path=https://api.openai.com/v1/engines/text-similarity-ada-001/embeddings processing_ms=11 request_id=6e8be19851ea63698fabda272a81a354 response_code=200\n",
      "2022-12-06 15:41:34,718 - openai - INFO - message='Request to OpenAI API' method=post path=https://api.openai.com/v1/engines/text-similarity-ada-001/embeddings\n",
      "2022-12-06 15:41:34,888 - openai - INFO - message='OpenAI API response' path=https://api.openai.com/v1/engines/text-similarity-ada-001/embeddings processing_ms=14 request_id=274d163dcc45f8045aa53c14ccb34098 response_code=200\n",
      "2022-12-06 15:41:39,893 - openai - INFO - message='Request to OpenAI API' method=post path=https://api.openai.com/v1/engines/text-similarity-ada-001/embeddings\n",
      "2022-12-06 15:41:39,988 - openai - INFO - message='OpenAI API response' path=https://api.openai.com/v1/engines/text-similarity-ada-001/embeddings processing_ms=14 request_id=236be0e29f6672c0d9b97a30a98dd295 response_code=200\n",
      "2022-12-06 15:41:45,000 - openai - INFO - message='Request to OpenAI API' method=post path=https://api.openai.com/v1/engines/text-similarity-ada-001/embeddings\n",
      "2022-12-06 15:41:45,141 - openai - INFO - message='OpenAI API response' path=https://api.openai.com/v1/engines/text-similarity-ada-001/embeddings processing_ms=13 request_id=c690353dfe6a9d09b923421ec6ea42e8 response_code=200\n",
      "2022-12-06 15:41:50,151 - openai - INFO - message='Request to OpenAI API' method=post path=https://api.openai.com/v1/engines/text-similarity-ada-001/embeddings\n",
      "2022-12-06 15:41:50,584 - openai - INFO - message='OpenAI API response' path=https://api.openai.com/v1/engines/text-similarity-ada-001/embeddings processing_ms=13 request_id=227ac97b8595b928bacb7e85506a3c93 response_code=200\n",
      "2022-12-06 15:41:55,589 - openai - INFO - message='Request to OpenAI API' method=post path=https://api.openai.com/v1/engines/text-similarity-ada-001/embeddings\n",
      "2022-12-06 15:41:55,678 - openai - INFO - message='OpenAI API response' path=https://api.openai.com/v1/engines/text-similarity-ada-001/embeddings processing_ms=12 request_id=debc1fe90d1ab257ae84049f0bef33b5 response_code=200\n",
      "2022-12-06 15:42:00,684 - openai - INFO - message='Request to OpenAI API' method=post path=https://api.openai.com/v1/engines/text-similarity-ada-001/embeddings\n",
      "2022-12-06 15:42:00,777 - openai - INFO - message='OpenAI API response' path=https://api.openai.com/v1/engines/text-similarity-ada-001/embeddings processing_ms=14 request_id=987e31844c54a527717d24a3443aff13 response_code=200\n",
      "2022-12-06 15:42:05,784 - openai - INFO - message='Request to OpenAI API' method=post path=https://api.openai.com/v1/engines/text-similarity-ada-001/embeddings\n",
      "2022-12-06 15:42:06,249 - openai - INFO - message='OpenAI API response' path=https://api.openai.com/v1/engines/text-similarity-ada-001/embeddings processing_ms=87 request_id=5815b7df3c893bffbced1a03e93e4407 response_code=200\n",
      "2022-12-06 15:42:11,253 - openai - INFO - message='Request to OpenAI API' method=post path=https://api.openai.com/v1/engines/text-similarity-ada-001/embeddings\n",
      "2022-12-06 15:42:11,358 - openai - INFO - message='OpenAI API response' path=https://api.openai.com/v1/engines/text-similarity-ada-001/embeddings processing_ms=13 request_id=c8fd20fe0a60655cb8d249826ee1135a response_code=200\n",
      "2022-12-06 15:42:16,367 - openai - INFO - message='Request to OpenAI API' method=post path=https://api.openai.com/v1/engines/text-similarity-ada-001/embeddings\n",
      "2022-12-06 15:42:16,452 - openai - INFO - message='OpenAI API response' path=https://api.openai.com/v1/engines/text-similarity-ada-001/embeddings processing_ms=14 request_id=353e9cf61f461cd25e7c6bfa976deff3 response_code=200\n",
      "2022-12-06 15:42:21,460 - openai - INFO - message='Request to OpenAI API' method=post path=https://api.openai.com/v1/engines/text-similarity-ada-001/embeddings\n",
      "2022-12-06 15:42:21,548 - openai - INFO - message='OpenAI API response' path=https://api.openai.com/v1/engines/text-similarity-ada-001/embeddings processing_ms=14 request_id=4eb88164b414014e040cfeb6b847dec9 response_code=200\n",
      "2022-12-06 15:42:26,551 - openai - INFO - message='Request to OpenAI API' method=post path=https://api.openai.com/v1/engines/text-similarity-ada-001/embeddings\n",
      "2022-12-06 15:42:27,240 - openai - INFO - message='OpenAI API response' path=https://api.openai.com/v1/engines/text-similarity-ada-001/embeddings processing_ms=15 request_id=116535f066eabd727d1248166351cda0 response_code=200\n",
      "2022-12-06 15:42:32,244 - openai - INFO - message='Request to OpenAI API' method=post path=https://api.openai.com/v1/engines/text-similarity-ada-001/embeddings\n",
      "2022-12-06 15:42:32,872 - openai - INFO - message='OpenAI API response' path=https://api.openai.com/v1/engines/text-similarity-ada-001/embeddings processing_ms=15 request_id=8c7e037bd1590d3cfacf7c2a9a8b1cdc response_code=200\n",
      "2022-12-06 15:42:37,878 - openai - INFO - message='Request to OpenAI API' method=post path=https://api.openai.com/v1/engines/text-similarity-ada-001/embeddings\n",
      "2022-12-06 15:42:37,964 - openai - INFO - message='OpenAI API response' path=https://api.openai.com/v1/engines/text-similarity-ada-001/embeddings processing_ms=12 request_id=f850436fb3931c0bcb0e7021acef35ec response_code=200\n",
      "2022-12-06 15:42:42,976 - openai - INFO - message='Request to OpenAI API' method=post path=https://api.openai.com/v1/engines/text-similarity-ada-001/embeddings\n",
      "2022-12-06 15:42:43,055 - openai - INFO - message='OpenAI API response' path=https://api.openai.com/v1/engines/text-similarity-ada-001/embeddings processing_ms=12 request_id=3d1101c793bf88fd8aa6febf57c53194 response_code=200\n",
      "2022-12-06 15:42:48,059 - openai - INFO - message='Request to OpenAI API' method=post path=https://api.openai.com/v1/engines/text-similarity-ada-001/embeddings\n",
      "2022-12-06 15:42:48,310 - openai - INFO - message='OpenAI API response' path=https://api.openai.com/v1/engines/text-similarity-ada-001/embeddings processing_ms=13 request_id=82217cda52c701e4c93be59afa29078c response_code=200\n",
      "2022-12-06 15:42:53,319 - openai - INFO - message='Request to OpenAI API' method=post path=https://api.openai.com/v1/engines/text-similarity-ada-001/embeddings\n",
      "2022-12-06 15:42:53,391 - openai - INFO - message='OpenAI API response' path=https://api.openai.com/v1/engines/text-similarity-ada-001/embeddings processing_ms=12 request_id=08b0eff7a0ca0869605d49216b55dddf response_code=200\n",
      "2022-12-06 15:42:58,401 - openai - INFO - message='Request to OpenAI API' method=post path=https://api.openai.com/v1/engines/text-similarity-ada-001/embeddings\n",
      "2022-12-06 15:42:58,502 - openai - INFO - message='OpenAI API response' path=https://api.openai.com/v1/engines/text-similarity-ada-001/embeddings processing_ms=12 request_id=d6396ca9c3225ff3e8df0002ee3fce2e response_code=200\n",
      "2022-12-06 15:43:03,509 - openai - INFO - message='Request to OpenAI API' method=post path=https://api.openai.com/v1/engines/text-similarity-ada-001/embeddings\n",
      "2022-12-06 15:43:03,674 - openai - INFO - message='OpenAI API response' path=https://api.openai.com/v1/engines/text-similarity-ada-001/embeddings processing_ms=14 request_id=4273456d37d5228465fbcb66da18f937 response_code=200\n",
      "2022-12-06 15:43:08,683 - openai - INFO - message='Request to OpenAI API' method=post path=https://api.openai.com/v1/engines/text-similarity-ada-001/embeddings\n",
      "2022-12-06 15:43:08,844 - openai - INFO - message='OpenAI API response' path=https://api.openai.com/v1/engines/text-similarity-ada-001/embeddings processing_ms=84 request_id=2527ccbe6a624818df01af3204d351d7 response_code=200\n",
      "2022-12-06 15:43:13,853 - openai - INFO - message='Request to OpenAI API' method=post path=https://api.openai.com/v1/engines/text-similarity-ada-001/embeddings\n",
      "2022-12-06 15:43:13,933 - openai - INFO - message='OpenAI API response' path=https://api.openai.com/v1/engines/text-similarity-ada-001/embeddings processing_ms=16 request_id=6f4b334c27d24099bd348730381ce375 response_code=200\n",
      "2022-12-06 15:43:18,936 - openai - INFO - message='Request to OpenAI API' method=post path=https://api.openai.com/v1/engines/text-similarity-ada-001/embeddings\n",
      "2022-12-06 15:43:19,013 - openai - INFO - message='OpenAI API response' path=https://api.openai.com/v1/engines/text-similarity-ada-001/embeddings processing_ms=15 request_id=e7a850b77873ffb9a823facf7b48adad response_code=200\n",
      "2022-12-06 15:43:24,019 - openai - INFO - message='Request to OpenAI API' method=post path=https://api.openai.com/v1/engines/text-similarity-ada-001/embeddings\n",
      "2022-12-06 15:43:24,104 - openai - INFO - message='OpenAI API response' path=https://api.openai.com/v1/engines/text-similarity-ada-001/embeddings processing_ms=11 request_id=d592fb55f84eb6e3d304d9d3c0488da0 response_code=200\n",
      "2022-12-06 15:43:29,109 - openai - INFO - message='Request to OpenAI API' method=post path=https://api.openai.com/v1/engines/text-similarity-ada-001/embeddings\n",
      "2022-12-06 15:43:29,180 - openai - INFO - message='OpenAI API response' path=https://api.openai.com/v1/engines/text-similarity-ada-001/embeddings processing_ms=12 request_id=ff4bd6d952352f4c818226beab585ab8 response_code=200\n",
      "2022-12-06 15:43:34,187 - openai - INFO - message='Request to OpenAI API' method=post path=https://api.openai.com/v1/engines/text-similarity-ada-001/embeddings\n",
      "2022-12-06 15:43:34,272 - openai - INFO - message='OpenAI API response' path=https://api.openai.com/v1/engines/text-similarity-ada-001/embeddings processing_ms=16 request_id=b20a565ef0e9ab36ffb5da93b592fb66 response_code=200\n",
      "2022-12-06 15:43:39,275 - openai - INFO - message='Request to OpenAI API' method=post path=https://api.openai.com/v1/engines/text-similarity-ada-001/embeddings\n",
      "2022-12-06 15:43:39,363 - openai - INFO - message='OpenAI API response' path=https://api.openai.com/v1/engines/text-similarity-ada-001/embeddings processing_ms=12 request_id=3bc671c9d355ac0502e9523c8d55eb5a response_code=200\n",
      "2022-12-06 15:43:44,375 - openai - INFO - message='Request to OpenAI API' method=post path=https://api.openai.com/v1/engines/text-similarity-ada-001/embeddings\n",
      "2022-12-06 15:43:44,456 - openai - INFO - message='OpenAI API response' path=https://api.openai.com/v1/engines/text-similarity-ada-001/embeddings processing_ms=12 request_id=d4b8b8af21d9f410c651876a87aed2fa response_code=200\n",
      "2022-12-06 15:43:49,458 - openai - INFO - message='Request to OpenAI API' method=post path=https://api.openai.com/v1/engines/text-similarity-ada-001/embeddings\n",
      "2022-12-06 15:43:49,617 - openai - INFO - message='OpenAI API response' path=https://api.openai.com/v1/engines/text-similarity-ada-001/embeddings processing_ms=12 request_id=01e33bf7f494e14a4687322496300580 response_code=200\n",
      "2022-12-06 15:43:54,621 - openai - INFO - message='Request to OpenAI API' method=post path=https://api.openai.com/v1/engines/text-similarity-ada-001/embeddings\n",
      "2022-12-06 15:43:54,717 - openai - INFO - message='OpenAI API response' path=https://api.openai.com/v1/engines/text-similarity-ada-001/embeddings processing_ms=13 request_id=32ca834f6ed687a94300dc5467fbe0c6 response_code=200\n",
      "2022-12-06 15:43:59,720 - openai - INFO - message='Request to OpenAI API' method=post path=https://api.openai.com/v1/engines/text-similarity-ada-001/embeddings\n",
      "2022-12-06 15:43:59,836 - openai - INFO - message='OpenAI API response' path=https://api.openai.com/v1/engines/text-similarity-ada-001/embeddings processing_ms=13 request_id=72d4e63337e41a85b559853a39d6680f response_code=200\n",
      "2022-12-06 15:44:04,844 - openai - INFO - message='Request to OpenAI API' method=post path=https://api.openai.com/v1/engines/text-similarity-ada-001/embeddings\n",
      "2022-12-06 15:44:04,939 - openai - INFO - message='OpenAI API response' path=https://api.openai.com/v1/engines/text-similarity-ada-001/embeddings processing_ms=29 request_id=f997de3a31019f34d7cea2dec9a3fdc7 response_code=200\n",
      "2022-12-06 15:44:09,950 - openai - INFO - message='Request to OpenAI API' method=post path=https://api.openai.com/v1/engines/text-similarity-ada-001/embeddings\n",
      "2022-12-06 15:44:10,121 - openai - INFO - message='OpenAI API response' path=https://api.openai.com/v1/engines/text-similarity-ada-001/embeddings processing_ms=73 request_id=9ed74074c19b76d2eebef14ccbd6412a response_code=200\n",
      "2022-12-06 15:44:15,133 - openai - INFO - message='Request to OpenAI API' method=post path=https://api.openai.com/v1/engines/text-similarity-ada-001/embeddings\n",
      "2022-12-06 15:44:15,213 - openai - INFO - message='OpenAI API response' path=https://api.openai.com/v1/engines/text-similarity-ada-001/embeddings processing_ms=13 request_id=f7b19a00a9087c5cf1a2637bbc9a7a55 response_code=200\n",
      "/var/folders/q7/4thf7xqn18nd2c17nvmcwbg40000gn/T/ipykernel_1175/4057349798.py:1: SettingWithCopyWarning: \n",
      "A value is trying to be set on a copy of a slice from a DataFrame.\n",
      "Try using .loc[row_indexer,col_indexer] = value instead\n",
      "\n",
      "See the caveats in the documentation: https://pandas.pydata.org/pandas-docs/stable/user_guide/indexing.html#returning-a-view-versus-a-copy\n",
      "  df_test[\"Embedding\"] = df_test[\"Original Text\"].apply(get_embedding)\n"
     ]
    }
   ],
   "source": [
    "df_test[\"Embedding\"] = df_test[\"Original Text\"].apply(get_embedding)"
   ]
  },
  {
   "cell_type": "code",
   "execution_count": 52,
   "metadata": {},
   "outputs": [],
   "source": [
    "df_test.to_csv('../data/ada-embedding.csv',index=False)"
   ]
  },
  {
   "cell_type": "code",
   "execution_count": 53,
   "metadata": {},
   "outputs": [],
   "source": [
    "num_clusters = 5\n",
    "model = KMeans(n_clusters=num_clusters)\n",
    "embeddings = list(df_test[\"Embedding\"])\n",
    "# Fit the embedding with kmeans clustering.\n",
    "model.fit(embeddings)\n",
    "# Get the cluster id assigned to each news headline.\n",
    "cluster_assignment = model.labels_"
   ]
  },
  {
   "cell_type": "code",
   "execution_count": 59,
   "metadata": {},
   "outputs": [
    {
     "name": "stdout",
     "output_type": "stream",
     "text": [
      "Purity socre for cluster  0  is:  1.000000000000 |   Mode label is: calibration\n",
      "Purity socre for cluster  1  is:  0.844444444444 |   Mode label is: audit inspection\n",
      "Purity socre for cluster  2  is:  0.931818181818 |   Mode label is: process & packaging validation\n",
      "Purity socre for cluster  3  is:  1.000000000000 |   Mode label is: md product cybersecurity\n",
      "Purity socre for cluster  4  is:  0.746031746032 |   Mode label is: medical device post market surveillance\n",
      "Average purity score over all clusters is:  0.9044588744588744\n",
      "\n"
     ]
    },
    {
     "data": {
      "application/vnd.plotly.v1+json": {
       "config": {
        "plotlyServerURL": "https://plot.ly"
       },
       "data": [
        {
         "customdata": [
          [
           "process & packaging validation",
           "Validation […] Process Validation Program […] \nCritical process parameters should be controlled and monitored during process validation studies. Process parameters unrelated to quality, such as variables controlled to minimize energy consumption or equipment use, need not be included in the process validation."
          ],
          [
           "process & packaging validation",
           "Processes and procedures should undergo periodic critical re-validation to ensure that they remain capable of achieving the intended results."
          ],
          [
           "process & packaging validation",
           "Processing Operations: Intermediate and Bulk Products […]\nCritical processes should be validated (see \"Validation\" in this Chapter)."
          ],
          [
           "process & packaging validation",
           "Validation […] Periodic Review of Validated Systems.\nSystems and processes should be periodically evaluated to verify that they are still operating in a valid manner. Where no significant changes have been made to the system or process, and a quality review confirms that the system or process is consistently producing material meeting its specifications, there is normally no need for revalidation."
          ],
          [
           "process & packaging validation",
           "For biotechnological/biological drug substances, the information provided in the dossier in support of process validation usually contains both commercial-scale process validation studies and small-scale studies. Process validation batches should be representative of the commercial process, taking into account the batch definition as detailed in the process description.\nThe contribution of data from small-scale studies to the overall validation package will depend upon demonstration that the small-scale model is an appropriate representation of the proposed commercial-scale. Data should be provided demonstrating that the model is scalable and representative of the proposed commercial process. Successful demonstration of the suitability of the small-scale model can enable manufacturers to propose process validation with reduced dependence on testing of commercial-scale batches. Data derived from commercial-scale batches should confirm results obtained from small-scale studies used to generate data in support of process validation. Scientific grounds, or reference to guidelines which do not require or specifically exclude such studies, can be an appropriate justification to conduct certain studies only at small- scale (e.g., viral removal).\nStudies should be conducted to demonstrate the ability of the process to remove product- related impurities, process-related impurities (ICH Q6B) and potential contaminants (such as viruses in processes using material from human or animal origin, see ICH Q5A). Studies carried out to demonstrate the lifetime of chromatography columns can include experimental studies carried out in small-scale models but should be confirmed during commercial-scale production.\nThe limit of in vitro cell age for commercial production should be assessed. ICH documents Q5B and Q5D provide further guidance for relevant products.\nWhen platform manufacturing experience is utilised, the suitability of the control strategy should be demonstrated and the drug substance manufacturing process should be appropriately validated at the time of marketing authorisation application. Usually, full scale validation studies should include data derived from the final manufacturing process and site(s) used to produce the product to be commercialised."
          ],
          [
           "process & packaging validation",
           "Drug product containers and closures. […] \n(c) Drug product containers and closures shall be clean and, where indicated by the nature of the drug, sterilized and processed to remove pyrogenic properties to assure that they are suitable for their intended use. Such depyrogenation processes shall be validated."
          ],
          [
           "process & packaging validation",
           "Validation […] Cleaning Validation […] \nCleaning procedures should normally be validated. In general, cleaning validation should be directed to situations or process steps where contamination or carryover of materials poses the greatest risk to API quality. For example, in early production it may be unnecessary to validate equipment cleaning procedures where residues are removed by subsequent purification steps."
          ],
          [
           "process & packaging validation",
           "Validation […]\nProcesses and procedures should undergo periodic critical re-validation to ensure that they remain capable of achieving the intended results."
          ],
          [
           "process & packaging validation",
           "Validation […] \nProcess revalidation may be triggered by a process change as part of the change-control system. In addition, because of the variability of processes, products and methods, process revalidation may be conducted at predetermined regular intervals according to risk considerations. A detailed review of all changes, trends and deviations occurring within a defined time period – for example, 1 year, based on the regular product quality review (PQR) – may indicate a need for process revalidation."
          ],
          [
           "process & packaging validation",
           "The basic requirements of Quality Control are that: […] \nTesting methods are validated or verified."
          ],
          [
           "process & packaging validation",
           "When any new manufacturing formula or method of preparation is adopted, steps should be taken to demonstrate its suitability for routine processing. The defined process, using the materials and equipment specified, should be shown to yield a product consistently of the required quality."
          ],
          [
           "process & packaging validation",
           "Production and Process Controls […] Process validation. […] \n(c) When changes or process deviations occur, the manufacturer shall review and evaluate the process and perform revalidation where appropriate. These activities shall be documented."
          ],
          [
           "process & packaging validation",
           "Validation […] Approaches to Process Validation […] \nProcess Validation (PV) is the documented evidence that the process, operated within established parameters, can perform effectively and reproducibly to produce an intermediate or API meeting its predetermined specifications and quality attributes."
          ],
          [
           "process & packaging validation",
           "GMP is concerned with both production and quality control. To meet GMP requirements, you must: […]\nValidate critical steps of manufacturing processes and key changes to the process."
          ],
          [
           "process & packaging validation",
           "The system of Quality Assurance should ensure that: […] \nQualifications and validations are carried out."
          ],
          [
           "process & packaging validation",
           "Validation […] \nThe integrity and specified hold times of containers used to store intermediate products should be validated unless such intermediate products are freshly prepared and used immediately."
          ],
          [
           "process & packaging validation",
           "Product Quality Review […] \nThe results of this review should be evaluated and an assessment made of whether corrective action or any revalidation should be undertaken. Reasons for such corrective action should be documented. Agreed corrective actions should be completed in a timely and effective manner."
          ],
          [
           "process & packaging validation",
           "Validation […]\nWhen any new manufacturing formula or method of preparation is adopted, steps should be taken to demonstrate its suitability for routine processing. The defined process, using the materials and equipment specified, should be shown to yield a product consistently of the required quality."
          ],
          [
           "process & packaging validation",
           "Validation […] Approaches to Process Validation […] \nBatches selected for retrospective validation should be representative of all batches made during the review period, including any batches that failed to meet specifications, and should be sufficient in number to demonstrate process consistency. Retained samples can be tested to obtain data to retrospectively validate the process."
          ],
          [
           "process & packaging validation",
           "The basic requirements of GMP are that: […] Critical steps of manufacturing processes and significant changes to the process are validated;"
          ],
          [
           "process & packaging validation",
           "Validation […] Process Validation Program […] \nProcess validation should confirm that the impurity profile for each API is within the limits specified. The impurity profile should be comparable to or better than historical data and, where applicable, the profile determined during process development or for batches used for pivotal clinical and toxicological studies."
          ],
          [
           "process & packaging validation",
           "Qualification and validation […] \nProcesses and procedures should be established on the basis of the results of the validation performed."
          ],
          [
           "process & packaging validation",
           "Validation […] \nAfter initial process validation studies have been finalized and routine production has begun, critical processes should be subject to monitoring and trending with the objective of assuring consistency and detecting any unexpected variability. The monitoring strategy should be defined, taking into consideration factors such as the inherent variability, complexity of quality attributes and heterogeneity of biological products. A system or systems for detecting unplanned departures from the process as designed should be in place to ensure that the process remains in a state of control. Collection and evaluation of information and data on the performance of the process will allow for detection of undesired process variability and will determine whether action should be taken to prevent, anticipate and/or correct problems so that the process remains under control."
          ],
          [
           "process & packaging validation",
           "Pharmaceutical quality system […] The PQS appropriate to the manufacture of pharmaceutical products should ensure that: […] \nall necessary controls on starting materials, intermediate products, and bulk products and other in-process controls, calibrations and validations are carried out;"
          ],
          [
           "process & packaging validation",
           "Qualification and validation […] \nAny aspect of operation, including significant changes to the premises, facilities, equipment or processes, which may affect the quality of the product, directly or indirectly, should be qualified and validated."
          ],
          [
           "process & packaging validation",
           "Specifications and testing procedures […] \nTesting procedures described in documents should be validated in the context of available facilities and equipment before they are adopted for routine testing."
          ],
          [
           "process & packaging validation",
           "Validation […] Process Validation Program […] \nThe number of process runs for validation should depend on the complexity of the process or the magnitude of the process change being considered. For prospective and concurrent validation, three consecutive successful production batches should be used as a guide, but there may be situations where additional process runs are warranted to prove consistency of the process (e.g., complex API processes or API processes with prolonged completion times). For retrospective validation, generally data from ten to thirty consecutive batches should be examined to assess process consistency, but fewer batches can be examined if justified."
          ],
          [
           "process & packaging validation",
           "The heads of Production, Quality Control and where relevant, Head of Quality Assurance or Head of Quality Unit, generally have some shared, or jointly exercised, responsibilities  […]. These may include, subject to any national regulations […]: \nProcess validation;"
          ],
          [
           "process & packaging validation",
           "Qualification and Validation […] \nQualification and validation should not be considered as a one time activity. After initial qualification and validation, requalification or revalidation should be carried out according to the product quality review. Critical manufacturing processes and operation procedures should be revalidated at defined intervals to ensure the intended outcome."
          ],
          [
           "process & packaging validation",
           "Validation […] Approaches to Process Validation […] \nThere are three approaches to validation. Prospective validation is the preferred approach, but there are exceptions where the other approaches can be used. These approaches and their applicability are listed below."
          ],
          [
           "process & packaging validation",
           "Validation […] Approaches to Process Validation […] \nConcurrent validation can be conducted when data from replicate production runs are unavailable because only a limited number of API batches have been produced, API batches are produced infrequently, or API batches are produced by a validated process that has been modified. Prior to the completion of concurrent validation, batches can be released and used in final drug product for commercial distribution based on thorough monitoring and testing of the API batches."
          ],
          [
           "process & packaging validation",
           "Validation […] Cleaning Validation […] \nValidation of cleaning procedures should reflect actual equipment usage patterns. If various APIs or intermediates are manufactured in the same equipment and the equipment is cleaned by the same process, a representative intermediate or API can be selected for cleaning validation. This selection should be based on the solubility and difficulty of cleaning and the calculation of residue limits based on potency, toxicity, and stability."
          ],
          [
           "process & packaging validation",
           "Qualification and Validation […] \nQualification or validation should be performed when there is a change in major factors influencing the product quality, including any change in starting materials, immediate packaging materials, production equipment and environment (or premises), manufacturing process or testing method, etc. Where necessary, the changes should be approved by drug regulatory departments."
          ],
          [
           "process & packaging validation",
           "Production and In-Process Controls […] Blending Batches of Intermediates or APIs […] \nWhere physical attributes of the API are critical (e.g., APIs intended for use in solid oral dosage forms or suspensions), blending operations should be validated to show homogeneity of the combined batch. Validation should include testing of critical attributes (e.g., particle size distribution, bulk density, and tap density) that may be affected by the blending process."
          ],
          [
           "process & packaging validation",
           "Validation […] \nBiological processes, handling of live materials and using campaign-based production, if applicable, are the major aspects of biological product manufacturing which require process and cleaning validation. The validation of such processes – given the typical variability of biological products, the possible use of harmful and toxic materials and the need for inactivation processes – plays an important role in demonstrating production consistency and in proving that the critical process parameters and product attributes are controlled. Where available, WHO guidance documents should be consulted on the validation of specific manufacturing methods (for example, virus removal or inactivation (21))."
          ],
          [
           "process & packaging validation",
           "Qualification and Validation […] \nThe premises, facilities, equipment and testing instruments should be qualified. The validated manufacturing process, operation procedures and testing methods should be used for production, operation and testing, and this validated state should be maintained."
          ],
          [
           "process & packaging validation",
           "Qualification and Validation […] \nBefore any new manufacturing formula or process is adopted, its suitability for routine production should be validated. The manufacturing process by using the defined starting materials and equipment, should consistently produce products suitable for their intended use and in accordance with the registration requirements."
          ],
          [
           "process & packaging validation",
           "Validation […] \nAll critical biological processes (including inoculation, multiplication, fermentation, cell disruption, inactivation, purification, virus removal, removal of toxic and harmful additives, filtration, formulation and aseptic filling) are subject, as applicable, to process validation. Manufacturing control parameters to be validated may include specific addition sequences, mixing speeds, time and temperature controls, limits of light exposure and containment."
          ],
          [
           "process & packaging validation",
           "Production and Process Controls […] Control of microbiological contamination.\n(a) Appropriate written procedures, designed to prevent objectionable microorganisms in drug products not required to be sterile, shall be established and followed.\n(b) Appropriate written procedures, designed to prevent microbiological contamination of drug products purporting to be sterile, shall be established and followed. Such procedures shall include validation of all aseptic and sterilization processes."
          ],
          [
           "process & packaging validation",
           "Process validation is the documented evidence that the process, operated within established parameters, can perform effectively and reproducibly to produce a drug substance or intermediate meeting its predetermined specifications and quality attributes (ICH Q7).\nProcess validation can include the collection and evaluation of data, from the process design stage throughout production, that establish scientific evidence that a process is capable of consistently delivering a quality drug substance.\nThe drug substance manufacturing process should be validated before commercial distribution of resulting drug product. For biotechnological processes, or for aseptic processing and sterilisation process steps for drug substances, the data provided in support of process validation is included as part of the marketing application (3.2.S.2.5). For non-sterile chemical entity drug substance processes, results of process validation studies are not normally included in the dossier.\nGenerally, process validation includes the collection of data on an appropriate number of production batches (see ICH Q7, Section 12.5). The number of batches can depend on several factors including but not limited to: (1) the complexity of the process being validated; (2) the level of process variability; and (3) the amount of experimental data and/or process knowledge available on the specific process.\nAs an alternative to the traditional process validation, continuous process verification (ICH Q8) can be utilised in process validation protocols for the initial commercial production and also for manufacturing process changes for the continual improvement throughout the remainder of the product lifecycle."
          ],
          [
           "process & packaging validation",
           "Validation […] Approaches to Process Validation […] \nAn exception can be made for retrospective validation for well established processes that have been used without significant changes to API quality due to changes in raw materials, equipment, systems, facilities, or the production process. This validation approach may be used where:\n(1) Critical quality attributes and critical process parameters have been identified;\n(2) Appropriate in-process acceptance criteria and controls have been established;\n(3) There have not been significant process/product failures attributable to causes other than operator error or equipment failures unrelated to equipment suitability; and\n(4) Impurity profiles have been established for the existing API."
          ],
          [
           "process & packaging validation",
           "Manufacturing control / Validation […] Evaluate critical processes and related procedures periodically to ensure they remain capable of achieving the intended results"
          ],
          [
           "process & packaging validation",
           "Buildings and Facilities […] Water […] \nWhere water used in the process is treated by the manufacturer to achieve a defined quality, the treatment process should be validated and monitored with appropriate action limits."
          ]
         ],
         "hovertemplate": "true_label=%{customdata[0]}<br>component_1=%{x}<br>component_2=%{y}<br>Text=%{customdata[1]}<br>predicted_cluster=%{marker.color}<extra></extra>",
         "legendgroup": "process & packaging validation",
         "marker": {
          "color": [
           2,
           2,
           2,
           2,
           2,
           2,
           2,
           2,
           2,
           2,
           2,
           2,
           2,
           2,
           1,
           2,
           1,
           2,
           2,
           2,
           2,
           2,
           2,
           2,
           2,
           2,
           2,
           2,
           2,
           2,
           2,
           2,
           2,
           2,
           2,
           2,
           2,
           2,
           2,
           2,
           2,
           2,
           2
          ],
          "coloraxis": "coloraxis",
          "symbol": "circle"
         },
         "mode": "markers",
         "name": "process & packaging validation",
         "orientation": "v",
         "showlegend": true,
         "type": "scatter",
         "x": [
          -0.17248104832385755,
          -0.22079975389694578,
          -0.17731066048927865,
          -0.14080983406881986,
          0.08646517771505277,
          -0.048125785166216184,
          -0.12456529806692365,
          -0.2195859868700224,
          -0.06499148856162876,
          -0.20736393571107486,
          -0.14032459927768268,
          -0.11730153873979103,
          -0.14043694088932138,
          -0.1303764582485059,
          -0.17512914863427828,
          -0.16114435155797469,
          -0.07365736589492179,
          -0.1431047263725,
          -0.1317475283579028,
          -0.1546975077719404,
          -0.07428259613349396,
          -0.20702780611100494,
          -0.07583098697145996,
          -0.07234077707829623,
          -0.14504246268808715,
          -0.14455753528246693,
          -0.10062184244589512,
          -0.10068121740605805,
          -0.10267852480286893,
          -0.12246878387148467,
          -0.02907942773386298,
          -0.10191848589712432,
          -0.028987629958223668,
          -0.06707211145440256,
          -0.01203575938906819,
          -0.13764337099795942,
          -0.12090551533070529,
          -0.07081236086069503,
          -0.018290146979513384,
          0.037640824854129395,
          -0.061145676695350634,
          -0.1639441971510891,
          -0.12139058228029133
         ],
         "xaxis": "x",
         "y": [
          0.1366749132360151,
          0.06790386949092404,
          0.15095837099069462,
          0.0780942596202982,
          0.19475635493695023,
          0.1050817665697467,
          0.1619683149708196,
          0.07478302160398564,
          0.11660347537941895,
          0.06424177527439776,
          0.05996759611100999,
          0.0697718848595767,
          0.10165657858858855,
          0.08799152374412829,
          0.009501453783991812,
          0.0993328590690594,
          -0.056762844588790246,
          0.08896343515542267,
          0.11259300333271083,
          0.09739713417428177,
          0.1567069067575041,
          0.07888878850230939,
          0.11733946654923337,
          0.07415338351024318,
          0.09839313828754259,
          0.05456273215789953,
          0.19845638623026443,
          0.05132804635272363,
          0.08842393077398562,
          0.12241877025230366,
          0.19162309088400142,
          0.13269236311223773,
          0.10241900372270929,
          0.18028540218593211,
          0.1830240799733289,
          0.09015229386202746,
          0.08970968570980051,
          0.2039804194135009,
          0.11306322391007965,
          0.21138543332748205,
          0.1985634362333907,
          0.06367278382455098,
          0.10023235493546549
         ],
         "yaxis": "y"
        },
        {
         "customdata": [
          [
           "md product cybersecurity",
           "At EU level, the following legislative acts are relevant to the cybersecurity of medical devices or to operators dealing with protecting or processing of personal data stored in medical devices and might apply in parallel to the Medical Devices Regulations:\n- NIS Directive \n- GDPR (General Data Protection Regulation)\nThe NIS Directive provides legal measures to boost the overall level of cybersecurity in the EU by ensuring:\n- Member States preparedness by requiring them to be appropriately equipped, e.g. via a Computer Security Incident Response Team (CSIRT) and a competent national NIS authority, \n- Cooperation among all the Member States, by setting up a cooperation group, in order to support and facilitate strategic cooperation and the exchange of information among Member States. They will also need to set a CSIRT Network, in order to promote swift and effective operational cooperation on specific cybersecurity incidents and sharing information about risks, [...]"
          ],
          [
           "md product cybersecurity",
           "Secure Design and Manufacture [...] \nSafety, security and effectiveness are critical aspects in the design of security mechanisms for in vitro diagnostic medical devices and medical devices. Therefore, there is a clear requirement that these aspects need to be considered by the manufacturers from an early stage of development and manufacturing process and throughout the entire life cycle."
          ],
          [
           "md product cybersecurity",
           "Remediating and Reporting Cybersecurity Vulnerabilities [...]  \nFDA encourages efficient, timely and ongoing cybersecurity risk management for marketed devices by manufacturers. For cybersecurity routine updates and patches, the FDA will, typically, not need to conduct premarket review to clear or approve the medical device software changes. In addition, manufacturers should:\n· Adopt a coordinated vulnerability disclosure policy and practice that includes acknowledging receipt of the initial vulnerability report to the vulnerability submitter opportunities to reduce cybersecurity risks even when residual risk is acceptable;\n· Remediate cybersecurity vulnerabilities to reduce the risk of patient harm to an acceptable level;\n· Conduct appropriate software validation under 21 CFR 820.30(g) to assure that any implemented remediation effectively mitigates the target vulnerability without unintentionally creating exposure to other risks;\n· Properly document the methods and controls used in the design, manufacture, packaging, labeling, storage, installation and servicing of all finished devices as required by 21 CFR part 820;\n· Identify and implement compensating controls to adequately mitigate the cybersecurity vulnerability risk, especially when new device design controls may not be feasible or immediately practicable. In addition, manufacturers should consider the level of knowledge and expertise needed to properly implement the recommended control;\n· Provide users with relevant information on recommended device and compensating controls and residual cybersecurity risks so that they can take appropriate steps to mitigate the risk and make informed decisions regarding device use; and\n· Recognize that some changes made to strengthen device security might also significantly affect other device functionality (e.g., use of a different operating system) and assess the scope of change to determine if additional premarket or postmarket regulatory actions are appropriate."
          ],
          [
           "md product cybersecurity",
           "In order to monitor for vulnerabilities that may affect a given device, the manufacturer shouldmaintain a Software Bill of Materials (SBOM) to cross-reference for improved assessment of risk should a vulnerability be discovered. If a cyber security vulnerability is identified through monitoring activities, the manufacturer should work with the source (where appropriate) to understand the issue and conduct a risk assessment. The outcome of all cyber security monitoring must be documented as part of ongoing risk management, regardless of the level of risk that the activity identifies."
          ],
          [
           "md product cybersecurity",
           "Intended use and intended operational environment of use [...] \nManufacturers determine design inputs associated with cybersecurity requirements to ensure safety and effectiveness of products against cybersecurity risks and threats. These cybersecurity requirements should be considered in accordance with the nature of the device, including the device type and intended communication technologies usage. In specific circumstances, and depending on the device type, intended use and intended operational environment, the manufacturer may decide (based on a safety and security risk assessment) to implement less strict security controls."
          ],
          [
           "md product cybersecurity",
           "Cybersecurity Functions [...] Detect, Respond, Recover \n· Implement features that allow for security compromises to be detected, recognized, logged, timed, and acted upon during normal use;\n· Develop and provide information to the end user concerning appropriate actions to take upon detection of a cybersecurity event;\n· Implement device features that protect critical functionality, even when the device’s cybersecurity has been compromised;\n· Provide methods for retention and recovery of device configuration by an authenticated privileged user.\nManufactureres may elect to provide an alternative method or approach, with appropriate justification."
          ],
          [
           "md product cybersecurity",
           "Documentation [...] \nAccording to Annex II of the Medical Devices Regulations, documentation shall contain information for the demonstration of conformity with the general safety and performance requirements set out in Medical Devices Regulations Annex I. These include security requirements to ensure safety and effectiveness of products against security risks and threats (see Chapter 2.3 of this guidance), and shall comprise a justification, validation and verification of the solutions adopted to meet those requirements (e.g. methods and results of security testing described in Chapter 3.7 of this guidance). In addition, the technical documentation needs to be updated with information raised through the manufacturers post market surveillance system related to handling and remediation of cybersecurity incidents and vulnerabilities (see Chapter 6 of the present guidance and Medical Devices Regulations Annex III)."
          ],
          [
           "md product cybersecurity",
           "The application of standards is one way to demonstrate that medical devices are compliant withthe Essential Principles, although their use is not mandated by the TGA. Medical devices that have cyber security risk/s are highly variable in their components and operate in a variety of environments, resulting in many relevant standards. The matrix below (Table 2) presents a summary of standards recognised as being suitable to meet regulatory requirements for cybersecurity of medical devices, alongside the relevant Essential Principle that may be demonstrated. Alongside relevant standards, other risk management strategies can be adopted if they are generally acknowledge state of the art."
          ],
          [
           "md product cybersecurity",
           "Secure Design and Manufacture [...] Verification/ Validation [...] \nMDR Annex I Section 17.2 and IVDR Annex I Section 16.2 require for devices that incorporate software or for software that are devices in themselves, that the software shall be developed and manufactured in accordance with the state of the art taking into account the principles of the development life cycle, risk management, including information security, verification and validation."
          ],
          [
           "md product cybersecurity",
           "The TGA has a risk-based approach to the regulation of medical devices. The level of scrutiny by the TGA of a device before it is placed on the ARTG and supplied in Australia depends on the riskposed by the device. The lowest risk medical devices, Class 1 devices, are not assessed by the TGA prior to inclusion on the ARTG. For all classes of medical devices, evidence is required to be made available when requested by the TGA to demonstrate that medical device risk, including cyber security risk is being managed by appropriate quality management systems and risk management frameworks. The regulations specify that some applications are subject to mandatory application audits, with other types of applications subject to non-mandatory application audits."
          ],
          [
           "md product cybersecurity",
           "It is essential that manufacturers proactively monitor, identify and address vulnerabilities and exploits as part of their post‐market management because cybersecurity risks to medical devices are continuously evolving. In their pre‐market licence application m manufacturers should demonstrate a plan for ongoing monitoring of and response to emerging cybersecurity threats to their device. This plan should apply throughout the expected service life.  \nConsiderations in monitoring and responding to emerging risks can include:\n- Post‐market vigilance: A plan to track, assess, and respond to newly discovered vulnerabilities.\n- Patching: A plan to update the software to maintain the safety and effectiveness of the device either regularly, or in response to an identified vulnerability.\n- Vulnerability Disclosure: A formalized process for obtaining cybersecurity vulnerability information, assessing vulnerabilities, developing mitigation and remediation strategies, and disclosing the existence of vulnerabilities and mitigation or remediation approaches to various stakeholders.\n- Information sharing: Participation in Information Sharing Analysis Organizations (ISAOs) or Information Sharing and Analysis Centres (ISACs) that promote the communication and sharing of updated information about security threats and vulnerabilities.\nAs part of the post‐market vigilance strategy, manufacturers should have a process for assessing the exploitability of a cybersecurity vulnerability. In some cases, estimating the probability of a cybersecurity exploit may be challenging due to factors such as the complexity of the exploit, the availability of the exploit, and exploit toolkits. In the absence of data on the probability of the occurrence of harm, conventional medical device risk management approaches suggest using a “reasonable worst‐case estimate” or an analysis of exploitability.\nWhile these approaches are acceptable, manufacturers should consider using a cybersecurity vulnerability assessment tool or similar scoring system for rating vulnerabilities and determining the need and urgency of the response. "
          ],
          [
           "md product cybersecurity",
           "Policy Statements [...] \nRisk management is required for all medical devices throughout their lifecycle. Manufacturers should incorporate cybersecurity into the risk management process for every device that consists of or contains software. Manufacturers are also encouraged to develop and maintain a framework for managing cybersecurity risks throughout their organizations.\n\nAll cybersecurity risk control measures should be successfully verified and validated against the device’s design requirements and/or design specifications. Manufacturers should be able to trace all verification and validation activities back to the device’s design requirements and/or design specifications."
          ],
          [
           "md product cybersecurity",
           "Safety and Effectiveness or Performance Studies [...] Maintenance Plan\nA summary of the device’s maintenance plan should be included. The summary should describe the post‐market process(es) by which the manufacturer intends to ensure the continued safety and effectiveness of the device throughout its life‐cycle. As described in Section 2.2 of this guidance document, these planned processes may include: post‐market vigilance, patching, vulnerability disclosure policies and information sharing."
          ],
          [
           "md product cybersecurity",
           "Cybersecurity Documentation \nThe type of documentation the Agency recommends you submit in your premarket submission is summarized in this section. These recommendations are predicated on your effective implementation and management of a quality system in accordance with the Quality System Regulation, including Design Controls.\nIn the premarket submission, manufacturers should provide the following information related to the cybersecurity of their medical device:\n1. Hazard analysis, mitigations, and design considerations pertaining to intentional and unintentional cybersecurity risks associated with your device, including:\n- A specific list of all cybersecurity risks that were considered in the design of your device;\n- A specific list and justification for all cybersecurity controls that were established for your device.\n2. A traceability matrix that links your actual cybersecurity controls to the cybersecurity risks that were considered;\n3. A summary describing the plan for providing validated software updates and patches as needed throughout the lifecycle of the medical device to continue to assure its safety and effectiveness. The FDA typically will not need to review or approve medical device software changes made solely to strengthen cybersecurity.\n4. A summary describing controls that are in place to assure that the medical device software will maintain its integrity (e.g. remain free of malware) from the point of origin to the point at which that device leaves the control of the manufacturer; and\n5. Device instructions for use and product specifications related to recommended cybersecurity controls appropriate for the intended use environment (e.g. anti-virus software, use of firewall)."
          ],
          [
           "md product cybersecurity",
           "Uncontrolled Risk to Safety and Essential Performance [...] \nThe manufacturer actively participates as a member of an ISAO that shares vulnerabilities and threats that impact medical devices, such as NH-ISAC (see section IX) and provides the ISAO with any customer communications upon notification of its customers;"
          ],
          [
           "md product cybersecurity",
           "Medical devices to be suitable for intended purpose\n• Has consideration been given to the conditions under which the device is intended to be connected? Are there known cyber security vulnerabilities or risks that can impact the intended performance ofthe device? For example, is a communication protocol or third partycomponent used by the device known to be vulnerable to certain attacks?\n• Does the device’s intended purpose stay validated when the network/network components are updated?"
          ],
          [
           "md product cybersecurity",
           "In alignment with a TPLC strategy and as part of a sponsor’s post-market obligations, ongoingmonitoring and surveillance of safety and performance is required, including monitoring forcyber security issues. This approach to monitoring cyber security intelligence and information should be clearly outlined during the development of the medical device. [...]"
          ],
          [
           "md product cybersecurity",
           "Medical Device Cybersecurity Strategy [...] Secure Design [...] \nManufacturers should consider cybersecurity early in the product life‐cycle when design requirements are being developed. This includes cybersecurity risks and controls when making design choices; and design choices that maximize device cybersecurity while not excessivelyaffecting other safety‐related aspects of the medical device (e.g., usability).  \n\nDesign inputs captured in a requirement specification should include those related to cybersecurity. Addressing cybersecurity risks at the design stage can mitigate the  cybersecurity risks that could contribute to: a failure of the medical device in delivering therapy, a breach in the confidentiality, a compromise in the integrity and availability of the medical device data or intentional unauthorized access to the medical device and/or the network. Where applicable, these cybersecurity requirements should be cross‐referenced to specific device cybersecurity hazards if the requirements are mitigations to identified hazards. The manufacturer should also consider some design controls that allow the device to detect, resist, respond and recover from cybersecurity attacks."
          ],
          [
           "md product cybersecurity",
           "IEC 82304-1 Health software - Part 1: general requirements for product safety. Covers entire lifecycle including design, development, validation, installation, maintenance, and disposal of health software products. Covers safety and security of health software products designed to operate on general computing platforms and intended to be placed on the market without dedicated hardware."
          ],
          [
           "md product cybersecurity",
           "Premarket Considerations \nThe FDA guidance document titled “Content of Premarket Submissions for Management of Cybersecurity in Medical Devices” (http://www.fda.gov/downloads/MedicalDevices/DeviceRegulationandGuidance/GuidanceDocuments/UCM356190.pdf) clarifies recommendations for manufacturers to address cybersecurity during the design and development of the medical device, as this can result in more robust and efficient mitigation of patient risks. Manufacturers should establish design inputs for their device related to cybersecurity, and establish a cybersecurity vulnerability and management approach as part of the software validation and risk analysis that is required by 21 CFR 820.30(g). The approach should appropriately address the following elements:\n· Identification of assets, threats, and vulnerabilities;\n· Assessment of the impact of threats and vulnerabilities on device functionality and end users/patients;\n· Assessment of the likelihood of a threat and of a vulnerability being exploited;\n· Determination of risk levels and suitable mitigation strategies;\n· Assessment of residual risk and risk acceptance criteria."
          ],
          [
           "md product cybersecurity",
           "Manufacturers are required to assess which course of action to take prior to making updates to medical devices (including to software). Such a proposed change may require an associated recall action, e.g., a safety alert, routine update, submission of an adverse event report, or a device recall.\nChanges to software that do not have implications for safety, quality, performance orpresentation generally do not require any form of recall action; however, the manufacturershould consider whether its certifying body should be notified of the change.\nIf sponsors or manufacturers are unclear as to whether a software update requires a type ofrecall or non-recall action, they should contact the Australian Recall Coordinator for advice inthe first instance.\nManufacturers and sponsors are required to update risk management systems following therollout of updates to medical devices."
          ],
          [
           "md product cybersecurity",
           "Secure by design […] \nPractice 7 Security update management: The processes specified by this practice are used to ensure that security updates and security patches associated with the product are tested for regressions and made available to product users in a timely manner."
          ],
          [
           "md product cybersecurity",
           "All medical devices that include software are susceptible to cyber security risks. Manufacturers of medical devices must demonstrates how cyber security risk has been minimised during the design, development, manufacturing, and supply of a medical device, and how post-market requirements will be satisfied. These activities are critical to reduce the likelihood of cyber-security vulnerability being exploited leading to unacceptable risk to a patient, and for the management of emerging and ongoing cyber security risk and they should be documented in a manufacturer’s quality management system."
          ],
          [
           "md product cybersecurity",
           "Secure by design […] \nPractice 1 Security management: The purpose of the security management practice is to ensure that the security-related activities are adequately planned, documented and executed throughout the product's lifecycle"
          ],
          [
           "md product cybersecurity",
           "Lifecycle Aspects [...] \nDuring the support lifetime of the device, the manufacturer should put in place a process to gather post-market information with respect to the security of the device (see also Chapter 6). This process should take into account:\n1. Security incidents directly related to medical device software\n2. Security Vulnerabilities that are related to the medical device hardware/software and the 3rd party hardware/software used with the medical device.\n3. Changes in the threat landscape, including interoperability aspects\n\nThe manufacturer should evaluate the information thus gathered, evaluate the associated security and safety risk and take appropriate measures that control the risk associated with such security incidents or vulnerabilities. Measures may include:\n- Information to operators of medical devices on the identified risk and possible mitigations in the operating environment\n- Quick fixes, e.g. network configuration changes\n- Medical device software updates\n- 3rd party software updates or patches."
          ],
          [
           "md product cybersecurity",
           "Medical Device Cybersecurity Strategy [...] Verification and Validation Testing  [...] \nAll cybersecurity risk control measures should be successfully verified and validated against design specifications and/or design requirements. Manufacturers should be able to trace all verification and validation activities back to design specifications and/or design requirements.  \nTesting should include verification and validation of the functions, features and design elements that have been implemented to mitigate identified cybersecurity hazards. Health Canada recommends the UL 2900‐1:2017 and UL 2900‐2‐1:2018 standards for guidance on cybersecurity testing. \nThe following table outlines the types of testing manufacturers may consider during the software verification and validation process."
          ],
          [
           "md product cybersecurity",
           "Medical Device Cybersecurity Strategy [...] Device Specific Risk Management  [...]\nRisk management is required for a medical device throughout its life‐cycle. Manufacturers should incorporate medical device cybersecurity into each device’s risk management process, and should develop and maintain an organizational framework for managing cybersecurity risks.  \n\nSound risk management principles, as described in ISO 14971‐07:2007 Medical devices – Application of risk management (ISO 14971), should be incorporated throughout the life‐cycle of a medical device. Health Canada recommends manufacturers extend these risk management principles to cybersecurity with additional considerations.\n\nGenerally, a manufacturer should:\n- identify any cybersecurity hazard\n- estimate and evaluate the associated risks\n- control those risks to an acceptable level\n- monitor the effectiveness of the risk controls\nAs shown in Figure 1, there are cybersecurity risks that may have an impact on the safety or effectiveness of the medical device. \nA cybersecurity risk that reduces effectiveness, negatively affects clinical operations, or results in diagnostic or therapeutic errors should be considered in the medical device’s risk management process. This consideration is reflected in AAMI TIR57:2016 Principles for medical device security – Risk management which suggests that the risks associated with the cybersecurity of a device can include direct and indirect patient harms (as described in ISO 14971)."
          ],
          [
           "md product cybersecurity",
           "General Principles \nManufacturers should develop a set of cybersecurity controls to assure medical device cybersecurity and maintain medical device functionality and safety.\nFDA recognizes that medical device security is a shared responsibility between stakeholders, including health care facilities, patients, providers, and manufacturers of medical devices. Failure to maintain cybersecurity can result in compromised device functionality, loss of data (medical or personal) availability or integrity, or exposure of other connected devices or networks to security threats. This in turn may have the potential to result in patient illness, injury, or death.\nManufacturers should address cybersecurity during the design and development of the medical device, as this can result in more robust and efficient mitigation of patient risks. Manufacturers should establish design inputs for their device related to cybersecurity, and establish a cybersecurity vulnerability and management approach as part of the software validation and risk analysis that is required by 21 CFR 820.30(g). The approach should appropriately address the following elements:\n· Identification of assets, threats, and vulnerabilities;\n· Assessment of the impact of threats and vulnerabilities on device functionality and end users/patients;\n· Assessment of the likelihood of a threat and of a vulnerability being exploited;\n· Determination of risk levels and suitable mitigation strategies;\n· Assessment of residual risk and risk acceptance criteria."
          ],
          [
           "md product cybersecurity",
           "Cyber threat information sharing is an important component for a safe and secure digital ecosystem. Such an information sharing system provides parties along the supply chain, but especially the manufacturer and sponsor, with the capability to identify threats, assess associated risks, and share best practice approaches to addressing these. Information empowers organisations with knowledge to monitor threats and respond accordingly.\nIn Australia, general cyber security threat information sharing and monitoring can be facilitated through CERT Australia (as part of the Australian Cyber Security Centre). Other Australian options for medical device organisations to formally share information on cyber security threats are currently limited; however, the TGA encourages informal networks of manufacturers to share information on threats and recognises the value of information from international organisations (e.g. health focused Information Sharing and Analysis Organizations (ISAOs) in the USA)."
          ],
          [
           "md product cybersecurity",
           "Secure by design […] \nPractice 5 Security verification and validation testing: The processes specified by this practice are used to document the security testing required to ensure that all the security requirements have been met for the product and that security of the product is maintained when the product is used as intended. Security testing should be aligned to other product test activities, and can be performed at various times by various personnel during the total security lifecycle based on the type of testing and the development model used by the vendor."
          ],
          [
           "md product cybersecurity",
           "Postmarket Considerations [...] \nBecause cybersecurity risks to medical devices are continually evolving, it is not possible to completely mitigate risks through premarket controls alone. Therefore, it is essential that manufacturers implement comprehensive cybersecurity risk management programs and documentation consistent with the Quality System Regulation (21 CFR part 820), including but not limited to complaint handling (21 CFR 820.198), quality audit (21 CFR 820.22), corrective and preventive action (21 CFR 820.100), software validation and risk analysis (21 CFR 820.30(g)) and servicing (21 CFR 820.200)."
          ],
          [
           "md product cybersecurity",
           "As with other risks, if cyber security risk is not effectively minimised or managed throughout thelife of the device, it can lead to issues including: a medical device failing to deliver its therapeutic benefit, a breach in the confidentiality, integrity and availability of medical device data, ormalicious unauthorised access to the medical device and the network it operates on. Underpinning a TPLC approach is the ongoing application and updating of quality managementsystems including:\n• risk management procedures\n• change management procedures\n• design procedures\n• complaint management procedures"
          ],
          [
           "md product cybersecurity",
           "Minimum IT Requirements [...] General Security Requirements for operating environment [...] \nTo ensure that the security posture of the operating environment and of the device itself remain at a suitable level, appropriate provisions regarding patch management should be in place, such as:\n- The operating environment should support patching without compromising interoperability/compatibility\n- The operator should have appropriate patch management processes to ensure that security patches for medical devices are deployed in a timely manner\n- The operator should have appropriate patch management processes to ensure that the operating environment (e.g. operating systems, applications) is up-to-date in terms of security"
          ],
          [
           "md product cybersecurity",
           "ISO/IEC 29147 Information technology — Security techniques —Vulnerability disclosure: Details the methods a vendor should use for the disclosure of potential vulnerabilities in products and online services."
          ],
          [
           "md product cybersecurity",
           "Remediating and Reporting Cybersecurity Vulnerabilities [...]  \nBased on the vulnerability assessment described in the previous section, the exploitability of an identified vulnerability and its severity of patient harm can help determine the risk of patient harm and can be categorized as either \"controlled\" (acceptable residual risk) or \"uncontrolled\" (unacceptable residual risk). When determining how to manage a cybersecurity vulnerability, manufacturers should incorporate already implemented compensating controls and risk mitigations into their risk assessment."
          ],
          [
           "md product cybersecurity",
           "Secure by design […] \nPractice 6 Management of security-related issues: The processes specified by this practice are used for handling security-related issues of a product."
          ],
          [
           "md product cybersecurity",
           "Secure by design […] \nPractice 2 Specification of security requirements: The processes specified by this practice are used to identify the security capabilities that are required for appropriate protection of confidentiality, integrity and availability of data, function and services of the medical device along with the specified product security context. Security capabilities can include such items as authentication, authorisation, encryption, auditing and other security capabilities a product needs to include. The product security context can include items such as physical security level, protection of external interfaces via a firewall, etc. These security requirements can be defined at the product-level or they may supplement product-level requirements."
          ],
          [
           "md product cybersecurity",
           "Reasonably forseeable misuse [...] \nMedical device manufacturers should ensure that a medical device is designed and manufactured in a way that ensures that the risks associated with reasonably foreseeable environmental conditions are removed or minimised(8). This may include the possibility to perform a device update (outside the context of a field safety corrective action) through, for example delivering patches to ensure the continued security of the device.\n(8) MDR Art.7, Annex I, Chapter 1, Section 4"
          ],
          [
           "md product cybersecurity",
           "IEC 80002(series) Medical device software: Provides guidance on the application of ISO 14971 to medical device software, methods for validation of software for medical devices including any softwareused in device design, testing, component acceptance, manufacturing, labelling, packaging, distribution andcomplaint handling or to automate any other aspect of a medical device quality system."
          ]
         ],
         "hovertemplate": "true_label=%{customdata[0]}<br>component_1=%{x}<br>component_2=%{y}<br>Text=%{customdata[1]}<br>predicted_cluster=%{marker.color}<extra></extra>",
         "legendgroup": "md product cybersecurity",
         "marker": {
          "color": [
           3,
           3,
           3,
           3,
           3,
           3,
           4,
           3,
           3,
           3,
           3,
           3,
           4,
           3,
           3,
           3,
           3,
           3,
           3,
           3,
           3,
           1,
           3,
           1,
           3,
           3,
           3,
           3,
           3,
           2,
           3,
           3,
           3,
           3,
           3,
           1,
           3,
           3,
           3
          ],
          "coloraxis": "coloraxis",
          "symbol": "diamond"
         },
         "mode": "markers",
         "name": "md product cybersecurity",
         "orientation": "v",
         "showlegend": true,
         "type": "scatter",
         "x": [
          0.21738997340182348,
          0.05271574985019458,
          0.23178892422755368,
          0.12865118955718322,
          0.1342070459290006,
          0.1108282077514764,
          0.17939477281573676,
          0.1776977003492936,
          0.08595193072148813,
          0.1644867812072143,
          0.2639755687689344,
          0.14859730521997072,
          0.13763295502280648,
          0.23696608408925418,
          0.13831410712036799,
          0.13529001485043463,
          0.1118418271807366,
          0.21234404981049462,
          0.0863283926914035,
          0.2549205314708066,
          0.22699563371953263,
          -0.02989087844415846,
          0.18493319615367,
          -0.08332974202445283,
          0.2313628448589863,
          0.1344965667948256,
          0.23457129176205047,
          0.21856950882625084,
          0.2424882443904448,
          -0.024773532821056203,
          0.17824604133999958,
          0.1640434112906724,
          0.07984846262396034,
          0.045995536043009114,
          0.15218090426516506,
          -0.07604829663845138,
          0.09841279250199372,
          0.16168970242503922,
          0.09542249631980027
         ],
         "xaxis": "x",
         "y": [
          0.06140262634612634,
          0.13023265615314272,
          0.10398816869642573,
          0.04395231939066328,
          0.12958754045391824,
          0.08004761225126764,
          0.026189867756105645,
          0.14396086837481276,
          0.1197433010291978,
          0.05915301015141724,
          0.08368252472920999,
          0.1152133888202526,
          -0.008434201474296323,
          0.08819742567801313,
          0.024382083578002606,
          0.14198440494280137,
          0.0021288866938894225,
          0.16724734120651394,
          0.08343028442819038,
          0.12016868132470401,
          0.04668749128770893,
          0.08017009458228395,
          0.1012353349992906,
          0.031535952799349,
          0.11397456012457884,
          0.1395756333133768,
          0.1327016359299496,
          0.13665397641487692,
          0.09037850515260684,
          0.11485425349536016,
          0.09860564075552383,
          0.13080139711473668,
          0.09583543262885641,
          0.03508201808251655,
          0.10397278920920788,
          0.06733079578863184,
          0.14163673874901156,
          0.06942518145065635,
          0.07550860159612442
         ],
         "yaxis": "y"
        },
        {
         "customdata": [
          [
           "audit inspection",
           "Contract Manufacture and Analysis […] The Contract Giver […] \nThe contract giver is responsible for assessing the contract acceptor, via on-site audit of the conditions, technical levels and quality management status, to confirm its competence to carry out the contracted operations, and to ensure the compliance with the Provisions."
          ],
          [
           "audit inspection",
           "Production quality assurance procedures [...] Implementation and assessment of production quality management system\n(1) The manufacturer of a medical device must:\n   (a) implement a quality management system for the production and final inspection of the kind of device; and\n   (b) arrange for assessment of the system by the Secretary.\n(2) For the purpose of enabling the assessment to be carried out, the manufacturer must have available, in writing, the following information and undertakings:\n   (a) the name and business address of the manufacturer;\n   (b) details of each manufacturing site where the system is to be applied;\n   (c) all relevant information about the kinds of medical devices to which the system is to be applied;\n   (d) the documentation in relation to the system;\n   (e) an undertaking by the manufacturer to continue to comply with the requirements of the system after assessment;\n   (f) an undertaking by the manufacturer to ensure that the system is at all times adequate and efficacious;\n   (g) for a kind of device in relation to which the type examination procedures have been applied—evidence that the device conforms to the approved type and a copy of the technical documentation required under subclause 2.3(3) of the type examination procedures for the approved type;\n   (h) for a kind of device to which the declaration of conformity (not requiring assessment by Secretary) procedures have been applied—a copy of the technical documentation prepared under clause 6.4 of those procedures for that kind of device;\n   (i) an undertaking by the manufacturer to notify the Secretary, or the person in relation to whom the kind of device is included in the Register, of any information of the kind mentioned in subparagraph 4.4(3)(c)(i) or (ii) that the manufacturer becomes aware of in relation to the kind of medical device."
          ],
          [
           "audit inspection",
           "Personnel matters, premises, equipment, documentation, production, quality control, distribution of the medicinal products, arrangements for dealing with complaints and recalls, and self inspection, should be examined at intervals following a pre-arranged programme in order to verify their conformity with the principles of Quality Assurance."
          ],
          [
           "audit inspection",
           "Self Inspection and Quality Audits […] Self Inspection Items […] \nWritten procedure should be established for self-inspection.\nSole Paragraph. The procedure may include questionnaires on GMP requirements covering at least the following aspects:\nI – Personnel;\nII – Facilities, including locker rooms;\nIII – Maintenance of buildings and equipment;\nIV – Storage of raw materials, packaging materials, intermediate products and finished products;\nV – Equipments;\nVI – Production and in process controls;\nVII – Quality control;\nVIII – Documentation;\nIX – Sanitation and hygiene;\nX – Software validation and revalidation;\nXI – Calibration of instruments or measurement systems;\nXII – Recall procedures; \nXIII – Claims management; \nXIV – Control labels;\nXV – Results of previous self-inspections and any corrective actions taken;\nXVI – Computer systems relevant to Good Manufacturing Practices;\nXVII – Transportation of drugs and intermediates and\nXVIII – Waste management."
          ],
          [
           "audit inspection",
           "Quality audits shall be conducted by trained persons, according to audit procedures established, with no direct responsibility for the matters being audited."
          ],
          [
           "audit inspection",
           "Internal audit […] The organization shall:\na) plan, establish, implement and maintain an audit programme(s) including the frequency, methods, responsibilities, planning requirements and reporting, which shall take into consideration the importance of the processes concerned, changes affecting the organization, and the results of previous audits;\nb) define the audit criteria and scope for each audit;\nc) select auditors and conduct audits to ensure objectivity and the impartiality of the audit process;\nd) ensure that the results of the audits are reported to relevant management;\ne) take appropriate correction and corrective actions without undue delay;\nf) retain documented information as evidence of the implementation of the audit programme and the audit results.\nNOTE See ISO 19011 for guidance."
          ],
          [
           "audit inspection",
           "Quality Control and Quality Assurance […] Supplier Assessment and Approval […] \n The on-site quality audit should verify the authenticity of the supplier’s qualification certificates and certificates of analysis, and verify the testing conditions. In order to fully assess the quality assurance system of the suppliers, its personnel and organization , premises, facilities, equipment, materials management, manufacturing process procedures, production management, as well as the equipment, instruments and documentation management, etc., of the quality control laboratories should be checked. An On-site audit report should be prepared."
          ],
          [
           "audit inspection",
           "A Pharmaceutical Quality System appropriate for the manufacture of medicinal products should ensure that: […] There is a process for self-inspection and/or quality audit, which regularly appraises the effectiveness and applicability of the Pharmaceutical Quality System."
          ],
          [
           "audit inspection",
           "Internal Audits (Self Inspection) […] \nIn order to verify compliance with the principles of GMP for APIs, regular internal audits should be performed in accordance with an approved schedule."
          ],
          [
           "audit inspection",
           "An internal audit is a tool which is designed to monitor the implementation and the status of these cosmetic Good Manufacturing Practices and, if necessary, to propose corrective actions."
          ],
          [
           "audit inspection",
           "Examination of design of Class 4 IVD medical device, Class 4 in-house IVD medical device, Class AIMD medical device or Class III medical device [...]\nFor the purpose of enabling an examination to be carried out under subclause (4), the manufacturer must have available, in writing, details of any consequential changes to the documentation in relation to the design of the device mentioned in paragraph 1.4(5)(c) of this Schedule.\nNote: This clause need not be applied to:\n(a) a Class IIb medical device—see Division 3.2, paragraphs 3.7(1)(a) and (2)(a); or\n(b) a Class 3 IVD medical device—see Division 3.2, paragraph 3.7A(a); or\n(c) a Class IIa medical device—see Division 3.2, paragraphs 3.8(1)(a) and (2)(a); or\n(d) a Class 2 IVD medical device—see Division 3.2, paragraph 3.8A(a)."
          ],
          [
           "audit inspection",
           "The system of Quality Assurance should ensure that: […] \nSelf-inspection is regularly carried out to appraise the  effectiveness and applicability of the Quality Assurance  system, according to the procedures."
          ],
          [
           "audit inspection",
           "Market surveillance activities […] The Member States shall review and assess the functioning of their market surveillance activities. Such reviews and assessments shall be carried out at least every four years and the results thereof shall be communicated to the other Member States and the Commission. Each Member State shall make a summary of the results accessible to the public by means of the electronic system referred to in Article 100."
          ],
          [
           "audit inspection",
           "Product quality assurance procedures [...] Information to be given to authorised person.\n(1) If requested to do so by an authorised person, the manufacturer of a medical device must:\n  (a) give to the Secretary any of the following information in relation to the quality management system or the kinds of medical device to which the system is applied:\n     (i) a copy of the documentation mentioned in subclause 5.4(5) of this Schedule;\n     (ii) the quality records in relation to the final inspection and testing of the kinds of medical device to which the system is applied (for example, inspection reports, test data, calibration data, information about the qualifications of staff); and\n  (b) arrange for tests specified by the authorised person to be carried out for the purpose of checking whether the quality management system is operating effectively.\n(2) If any inspections or tests are carried out by an authorised person in relation to the manufacturer’s premises, or medical devices manufactured by the manufacturer, the manufacturer may ask the authorised person to give to the manufacturer a report stating the findings of the inspections or tests."
          ],
          [
           "audit inspection",
           "Implementation and assessment of product quality management system […]\nFor the purpose of enabling the assessment to be carried out, the manufacturer must have available, in writing, the following information and undertakings:\n(a) the name and business address of the manufacturer;\n(b) details of each manufacturing site where the system is to be applied;\n(c) all relevant information about the kinds of medical devices to which the system is to be applied;\n(d) the documentation in relation to the system;\n(e) an undertaking by the manufacturer to continue to comply with the requirements of the system after assessment;\n(f) an undertaking by the manufacturer to ensure that the system is at all times adequate and efficacious;\n(g) for a kind of device in relation to which the type examination procedures have been applied—evidence that the device conforms to the approved type and the technical documentation required under subclause 2.3(3) of the type examination procedures for the device;\n(h) for a kind of device to which the declaration of conformity (not requiring assessment by Secretary) procedures have been applied—a copy of the technical documentation prepared under clause 6.4 of those procedures for that kind of device;\n(i) an undertaking by the manufacturer to notify the Secretary, or the person in relation to whom the kind of device is included in the Register, of any information of the kind mentioned in subparagraph 5.4(3)(c)(i) or (ii) that the manufacturer becomes aware of in relation to the kind of medical device"
          ],
          [
           "audit inspection",
           "Self Inspections […] \nAll self inspections should be recorded. Reports should be prepared at the completion of self-inspections, and all the observations made during the inspections, conclusions of evaluation, and proposals for corrective and preventative actions should at least be included. Self inspection status should be reported to the senior management of the manufacturer."
          ],
          [
           "audit inspection",
           "Self Inspections […] Principle […] \nSelf inspections should be organized periodically by the quality management department to monitor the implementation of the Provisions, evaluate whether the manufacturer is in compliance with them, and to propose necessary corrective and preventive actions."
          ],
          [
           "audit inspection",
           "Examination of type […] The manufacturer must make available to the Secretary or the Australian conformity assessment body for examination:\n(a) a sample of the type; and\n(b) on request from the Secretary, additional samples of the type."
          ],
          [
           "audit inspection",
           "Self Inspection […] \nSelf inspections should be conducted in an independent and detailed way by designated competent person(s) from the company. Independent audits by external experts may also be useful."
          ],
          [
           "audit inspection",
           "Potential Applications for Quality Risk Management […] Auditing/Inspection.\nTo define the frequency and scope of audits, both internal and external, taking into account factors such as:\n• Existing legal requirements;\n• Overall compliance status and history of the company or facility;\n• Robustness of a company’s quality risk management activities;\n• Complexity of the site;\n• Complexity of the manufacturing process;\n• Complexity of the product and its therapeutic significance;\n• Number and significance of quality defects (e.g., recall);\n• Results of previous audits/inspections;\n• Major changes of building, equipment, processes, key personnel;\n• Experience with manufacturing of a product (e.g., frequency, volume, number of batches);\n• Test results of official control laboratories."
          ],
          [
           "audit inspection",
           "Self-inspections […] The manufacturer, etc. shall have the person designated beforehand conduct the following duties in accordance with the documented procedure, etc.\n(1) To conduct the self-inspections periodically on the manufacturing control and quality control of the products in their manufacturing site,\n(2) To report in writing the results of the self-inspections to the manufacturing manager, and\n(3) To establish and maintain records of results of the self-inspections."
          ],
          [
           "audit inspection",
           "Self inspections should be conducted in order to monitor the implementation and compliance with Good Manufacturing Practice principles and to propose necessary corrective measures."
          ],
          [
           "audit inspection",
           "Key Personnel […] The Technical Responsible must also ensure the implementation of other activities including the following: \nI – Implementation and establishment of quality system;\nII – Development of the company's quality manual;\nIII – Self-inspections;\nIV – External audits (audits of suppliers) and\nV – Validation programs."
          ],
          [
           "audit inspection",
           "Self Inspection and Quality Audits […] Supplier Qualification Audits […] \nBefore suppliers are included in the list of qualified suppliers, these should be evaluated following previously defined procedure or program.\n§ 1 The assessment should include meeting legal requirements, as well as consider the history and nature of the supplier of materials to be supplied.\n§ 2 When necessary to carry out audits, they must demonstrate the ability of the supplier to meet the standards of GMP."
          ],
          [
           "audit inspection",
           "Examination of type […] If the type is intended by the manufacturer to be connected to another medical device, the manufacturer must, on request from the Secretary or the Australian conformity assessment body, make available to the Secretary or the Australian conformity assessment body, or arrange for the Secretary or the Australian conformity assessment body to have access to, a sample of the device."
          ],
          [
           "audit inspection",
           "Self Inspections […] \nSelf inspections should be conducted in an independent, systematic, and all inclusive way by the designated person(s) of the manufacturer. Independent quality audits by external experts are also acceptable."
          ],
          [
           "audit inspection",
           "Internal audit […] Approach […] \nSpecially designated competent personnel should conduct internal audits in an independent and detailed manner, regularly or on demand."
          ],
          [
           "audit inspection",
           "lnternal audit follow-up should confirm the satisfactory completion or implementation of corrective action."
          ],
          [
           "audit inspection",
           "Frequency of self-inspection.\nThe frequency with which self-inspections are conducted may depend on company requirements but should preferably be at least once a year. The frequency should be stated in the procedure."
          ],
          [
           "audit inspection",
           "Self-inspections […] The manufacturer, etc. shall take necessary actions in case where improvements are necessary for correcting the manufacturing control and quality control based on the results of the self-inspections specified in Item (1) of preceding Paragraph 1, and to establish and maintain records of such actions."
          ],
          [
           "audit inspection",
           "Quality Audit. […] Those responsible for the audited areas shall be notified on non-conformities identified."
          ],
          [
           "audit inspection",
           "Self Inspection […] Principle […]\nSelf inspections should be conducted in order to monitor the implementation and compliance with Good Manufacturing Practice principles and to propose necessary corrective measures."
          ],
          [
           "audit inspection",
           "Self inspections should be conducted in an independent and detailed way by designated competent person(s) from the company. Independent audits by external experts may also be useful."
          ],
          [
           "audit inspection",
           "The manufacturer and, where different, marketing authorisation holder should evaluate the results of the review and an assessment made as to whether corrective and preventive action or any revalidation should be undertaken, under the Pharmaceutical Quality System. There should be management procedures for the ongoing management and review of these actions and the effectiveness of these procedures verified during self-inspection.   Quality reviews may be grouped by product type, e.g. solid dosage forms, liquid dosage forms, sterile products, etc. where scientifically justified.\n\nWhere the marketing authorisation holder is not the manufacturer, there should be a technical agreement in place between the various parties that defines their respective responsibilities in producing the product quality review."
          ],
          [
           "audit inspection",
           "Self Inspection and Quality Audits […] Self Inspection Frequency.\nThe frequency with which self-inspections are conducted must be established in a procedure.\nSole Paragraph. The frequency may depend on the characteristics of the company and should be preferably annually."
          ],
          [
           "audit inspection",
           "Product quality assurance procedures […]\nThe conformity assessment procedures set out in this Part provide for the manufacturer of a kind of medical device:\n(a) to:\n   (i) implement a product quality management system for the final inspection and testing of the kind of device; and\n   (ii) arrange for assessment of the system by the Secretary; and\n(b) to allow the Secretary to monitor the operation of, and carry out inspections of, the system; and\n(c) to make a declaration of conformity in relation to the kind of device; and\n(d) to:\n   (i) notify the Secretary of any change to the system, or to the kinds of devices to which the system is to be applied; and\n   (ii) arrange for assessment of any such change by the Secretary; and\n(e) to establish and keep up-to-date a post-market monitoring, reporting and corrective action system.\nNote: See Division 3.2 in relation to the kinds of medical devices to which these conformity assessment procedures may be applied."
          ],
          [
           "audit inspection",
           "Conformity assessment procedures [...] Full quality assurance procedures [...] \n(1) If requested to do so by an authorised person, the manufacturer of a kind of medical device must:\n  (a) give to the Secretary the following information in relation to the quality management system or the kinds of medical device to which the system is applied:\n     (i) a copy of the documentation mentioned in subclause 1.4(5) of this Schedule;\n    (ii) data in relation to the design of the kinds of medical device (for example, the results of any analysis of the device, calculations, tests);\n    (iii) data in relation to the manufacture of the kinds of medical device (for example, inspection reports, test data, calibration data, information about the qualifications of staff); and\n  (b) arrange for tests specified by the authorised person to be carried out for the purpose of checking whether the quality management system is operating effectively.\n(2) If any inspections or tests are carried out by an authorised person in relation to the manufacturer’s premises, or medical devices produced by the manufacturer, the manufacturer may ask the authorised person to give to the manufacturer a report stating the findings of the inspections or tests."
          ],
          [
           "audit inspection",
           "Self-inspection […] Follow-up action.\nThere should be an effective follow-up programme. The company management should evaluate both the self-inspection report and the corrective actions as necessary."
          ],
          [
           "audit inspection",
           "Verification of conformity [...]\nFor the purpose of enabling the examination and testing to be carried out, the manufacturer must have available, in writing, the following information and undertakings:\n(a) the name and business address of the manufacturer;\n(b) the documentation describing the manufacturing process to be used to manufacture the kind of device;\n(c) a description of the procedures that have been, or will be, implemented to ensure that all devices of that kind manufactured by the manufacturer will be uniform;\n(d) an undertaking to implement those procedures to ensure that all devices of that kind manufactured by the manufacturer will be uniform;\n(e) an undertaking by the manufacturer to notify the Secretary, or the person in relation to whom the kind of device is included in the Register, of any information of the kind mentioned in subparagraph 3.4(2)(c)(i) or (ii) that the manufacturer becomes aware of in relation to the kind of medical device;\n(f) for a kind of device in relation to which the type examination procedures have been applied—evidence that the device conforms to the approved type and a copy of the technical documentation required under subclause 2.3(3) of the type examination procedures for the approved type;\n(g) for a kind of device to which the declaration of conformity (not requiring assessment by Secretary) procedures have been applied—a copy of the technical documentation prepared under clause 6.4 of those procedures for that kind of device."
          ],
          [
           "audit inspection",
           "Self Inspection and Quality Audits […] \nThe self-inspection must evaluate GMP compliance by the manufacturer in all its aspects.\n§ 1 The self-inspection program should be designed to detect any deviation in the implementation of GMP and to recommend necessary corrective actions.\n§ 2 The self-inspections should be performed routinely and, moreover, can be performed on special occasions, such as in the case of recalls, repeated product rejections or before an inspection to be performed by a health authority.\n§ 3 The staff responsible for self-inspection should be able to assess the implementation of GMP objectively.\n§ 4 All recommendations for corrective actions must be implemented.\n§ 5 The self-inspection procedure must be documented and there should be an effective monitoring program."
          ],
          [
           "audit inspection",
           "Internal Audits (Self Inspection) […] \nAudit findings and corrective actions should be documented and brought to the attention of responsible management of the firm. Agreed corrective actions should be completed in a timely and effective manner."
          ],
          [
           "audit inspection",
           "Self-inspection report. A report should be made at the completion of a self-inspection. The report should include: \n(a) self-inspection results;\n(b) evaluation and conclusions;\n(c) recommended corrective actions."
          ],
          [
           "audit inspection",
           "All self inspections should be recorded. Reports should contain all the observations made during the inspections and, where applicable, proposals for corrective measures. Statements on the actions subsequently taken should also be recorded."
          ],
          [
           "audit inspection",
           "Production quality assurance procedures [...]  Information to be given to authorised person [...] \n(1) If requested to do so by an authorised person, the manufacturer of a medical device must:\n  (a) give to the Secretary the following information in relation to the quality management system or the kinds of medical device to which the system is applied:\n     (i) a copy of the documentation mentioned in subclause 4.4(5) of this Schedule;\n     (ii) data in relation to the production of the kinds of medical device (for example, inspection reports, test data, calibration data, information about the qualifications of staff); and\n  (b) arrange for tests specified by the authorised person to be carried out for the purpose of checking whether the quality management system is operating effectively.\n(2) If any inspections or tests are carried out by an authorised person under this clause, the manufacturer may ask the authorised person to give to the manufacturer a report stating the findings of the inspections or tests."
          ],
          [
           "audit inspection",
           "Self Inspections […] \nA plan should be available for self inspections, and periodical inspections should be conducted on organization and personnel, premises, facilities, equipment, materials and  products, qualification and validation, documentation management, production management, quality control and quality assurance, contract manufacture and analysis, product distribution and recalls, and etc."
          ],
          [
           "audit inspection",
           "Internal audit […] Approach […] \nAll observations made during the internal audit should be evaluated and shared with appropriate management."
          ],
          [
           "audit inspection",
           "Self Inspection […] \nPersonnel matters, premises, equipment, documentation, production, quality control, distribution of the medicinal products, arrangements for dealing with complaints and recalls, and self inspection, should be examined at intervals following a pre-arranged programme in order to verify their conformity with the principles of Quality Assurance."
          ],
          [
           "audit inspection",
           "Self Inspection and Quality Audits […] Self Inspection Report.\nA report should be prepared after the completion of a self-inspection, which should include:\nI – The self-inspection results;\nII – Evaluation and conclusions and \nIII – Recommended corrective actions."
          ],
          [
           "audit inspection",
           "Verification of conformity [...]\nThe manufacturer must make available to the Secretary or the Australian conformity assessment body for examination and testing:\n(a) for a kind of device in relation to which the type examination procedures have been applied:\n   (i) each medical device that is to be verified in relation to the approved type; or\n   (ii) each medical device selected by the Secretary on a statistical basis from a uniform batch of devices that are to be verified in relation to the approved type; and\n(b) for a kind of device to which the declaration of conformity (not requiring assessment by Secretary) procedures have been applied:\n   (i) each medical device of that kind to which those procedures have been applied; or\n   (ii) each medical device selected by the Secretary on a statistical basis from a uniform batch of devices of that kind to which those procedures have been applied."
          ],
          [
           "audit inspection",
           "Personnel […] The responsibilities of the responsible person include: […] \nensuring that self-inspections are performed at appropriate regular intervals following a prearranged programme and necessary corrective measures are put in place; […]"
          ],
          [
           "audit inspection",
           "Self-inspection, quality audits and suppliers’ audits and approval […] \nPrinciple. The purpose of self-inspection is to evaluate the manufacturer’s compliance with GMP in all aspects of production and QC. The self-inspection programme should be designed to detect any shortcomings in the implementation of GMP and to recommend the necessary corrective actions. Self-inspections should be performed routinely, and may be, in addition, performed on special occasions, e.g. in the case of product recalls or repeated rejections, or when an inspection by the health authorities is announced. The team responsible for self-inspection should consist of personnel who can evaluate the implementation of GMP objectively. All recommendations for corrective action should be implemented. The procedure for self-inspection should be documented, and there should be an effective follow-up programme."
          ],
          [
           "audit inspection",
           "Self Inspection […] \nAll self inspections should be recorded. Reports should contain all the observations made during the inspections and, where applicable, proposals for corrective measures. Statements on the actions subsequently taken should also be recorded."
          ]
         ],
         "hovertemplate": "true_label=%{customdata[0]}<br>component_1=%{x}<br>component_2=%{y}<br>Text=%{customdata[1]}<br>predicted_cluster=%{marker.color}<extra></extra>",
         "legendgroup": "audit inspection",
         "marker": {
          "color": [
           1,
           4,
           1,
           1,
           1,
           1,
           1,
           1,
           1,
           1,
           4,
           1,
           4,
           4,
           4,
           1,
           1,
           4,
           1,
           2,
           1,
           1,
           1,
           1,
           4,
           1,
           1,
           1,
           1,
           1,
           1,
           1,
           1,
           4,
           1,
           4,
           4,
           1,
           4,
           1,
           1,
           1,
           1,
           4,
           1,
           1,
           1,
           1,
           4,
           1,
           1,
           1
          ],
          "coloraxis": "coloraxis",
          "symbol": "square"
         },
         "mode": "markers",
         "name": "audit inspection",
         "orientation": "v",
         "showlegend": true,
         "type": "scatter",
         "x": [
          -0.07699467000146439,
          0.17860310049016262,
          -0.08617734681262787,
          -0.037811391149416604,
          -0.19549933011071882,
          -0.06962987086393183,
          -0.08990199998630889,
          -0.077721551653722,
          -0.15394043857011178,
          -0.10098129011299377,
          0.19242675588789596,
          -0.15200207870888363,
          0.05027928992813411,
          0.1538627959703707,
          0.1740369315288173,
          -0.052757265028651704,
          -0.07740089908329152,
          0.004738929860631777,
          -0.15186435392202324,
          -0.015274534090418736,
          -0.025929648934204644,
          -0.11227810973868202,
          -0.09619047806877201,
          -0.07891064275601564,
          0.10838137142590835,
          -0.13014116402905465,
          -0.16481766471267334,
          -0.1928715240862822,
          -0.1263238862497535,
          -0.038997009940503265,
          -0.15347225646047405,
          -0.10839794990702824,
          -0.15482986421999842,
          0.059824758115565736,
          -0.1302574827287095,
          0.15486470652701104,
          0.13107399384728158,
          -0.13547761989285875,
          0.15866952278097482,
          0.0001451943421333555,
          -0.13583739816139304,
          -0.09985080318041469,
          -0.11886097700769495,
          0.15149807898995343,
          -0.09566537831544908,
          -0.17100273291690612,
          -0.09296540087723104,
          -0.11266742406407931,
          0.12267569662265694,
          -0.12644108605348783,
          -0.013214290697739871,
          -0.11700801662376938
         ],
         "xaxis": "x",
         "y": [
          -0.04362481099979285,
          -0.025533789596416105,
          -0.03789594688503362,
          -0.015312473337437401,
          -0.08887410440642213,
          -0.06089858498571827,
          -0.011566111412896367,
          0.0001291899655852625,
          -0.07310746611705818,
          -0.08835519644363411,
          -0.0009636830508655918,
          -0.06623284148505644,
          -0.16764297438686362,
          -0.06709626579896177,
          -0.029246283515077715,
          -0.17876278665679687,
          -0.13844768067124194,
          -0.09425015993806385,
          -0.1312686494216793,
          0.07011186962885754,
          -0.13311584775005203,
          -0.10006471997342034,
          -0.034332094194252726,
          -0.03503061888833659,
          -0.05148297333513613,
          -0.11106396860124791,
          -0.1161990036364565,
          -0.11807190721090774,
          -0.1320308365206153,
          -0.10550713022340352,
          -0.11227360606426612,
          -0.0956255923399125,
          -0.1268404222435806,
          0.010274843787279936,
          -0.1324648509424621,
          -0.02692784148673828,
          -0.07001420983615421,
          -0.14635529576872658,
          -0.03272253219844205,
          -0.09282284981698594,
          -0.13014732021283235,
          -0.2007904848445359,
          -0.20383270225841307,
          -0.0620865072113775,
          -0.08167315738231028,
          -0.10438431594353181,
          -0.07675870634604968,
          -0.17195035963218386,
          0.001116205675903341,
          -0.10737731009942166,
          -0.07872955270943903,
          -0.20465744467206842
         ],
         "yaxis": "y"
        },
        {
         "customdata": [
          [
           "medical device post market surveillance",
           "The PSUR should be a “self-standing” document providing a general overview of all PMS activities and data for the device and a comprehensive executive summary on safety and performance data.\nThe aim of the PSUR is not to duplicate all data and reports generated by the PMS Plan: it should summarize all results and conclusions generated after the implementation of PMSP.  The manufacturer need to specify the relevant information and section of the different reports\nand provide a summary of the data collected, their evaluation and conclusion as well as the actions taken where appropriate."
          ],
          [
           "medical device post market surveillance",
           "Post-Market Clinical Follow-Up [...] The manufacturer shall analyse the findings of the PMCF and document the results in a PMCF evaluation report that shall be part of the clinical evaluation report and the technical documentation."
          ],
          [
           "medical device post market surveillance",
           "Serious Risk of Injury to Human Health […] \n(1) Despite subsection 61.2(2), if the holder of a therapeutic product authorization issued in respect of a medical device is the manufacturer, they may permit the importer of the device to submit the information required under that subsection on the manufacturer’s behalf if the information that the manufacturer and the importer must submit is identical.\n(2) The manufacturer shall advise the Minister in writing if the manufacturer has permitted the importer to submit the information on the manufacturer’s behalf."
          ],
          [
           "medical device post market surveillance",
           "Summary Report […] \n(1) The holder of a medical device licence shall maintain records of the summary reports and the information on the basis of which those reports were prepared.\n(2) The licensee shall retain the records for seven years after the day on which they were created."
          ],
          [
           "medical device post market surveillance",
           "Post-Market Clinical Follow-Up [...] The PMCF plan shall include at least: \n(a) the general methods and procedures of the PMCF to be applied, such as gathering of clinical experience gained, feedback from users, screening of scientific literature and of other sources of clinical data;\n(b) the specific methods and procedures of PMCF to be applied, such as evaluation of suitable registers or PMCF studies;\n(c) a rationale for the appropriateness of the methods and procedures referred to in points (a) and (b);\n(d) a reference to the relevant parts of the clinical evaluation report referred to in Section 4 and to the risk management referred to in Section 3 of Annex I;\n(e) the specific objectives to be addressed by the PMCF;\n(f)  an evaluation of the clinical data relating to equivalent or similar devices;\n(g) reference to any relevant CS, harmonised standards when used by the manufacturer, and relevant guidance on PMCF; and\n(h) a detailed and adequately justified time schedule for PMCF activities (e.g. analysis of PMCF data and reporting) to be undertaken by the manufacturer."
          ],
          [
           "medical device post market surveillance",
           "The manufacturer shall analyse the findings of the PMPF and document the results in a PMPF evaluation report\nthat shall update the performance evaluation report and be part of the technical documentation."
          ],
          [
           "medical device post market surveillance",
           "Data gathered by the manufacturer's post-market surveillance system shall in particular be used:\n(a) to update the benefit-risk determination and to improve the risk management as referred to in Chapter I of Annex I;\n(b) to update the design and manufacturing information, the instructions for use and the labelling;\n(c) to update the performance evaluation;\n(d) to update the summary of safety and performance referred to in Article 29;\n(e) for the identification of needs for preventive, corrective or field safety corrective action;\n(f) for the identification of options to improve the usability, performance and safety of the device;\n(g) when relevant, to contribute to the post-market surveillance of other devices; and\n(h) to detect and report trends in accordance with Article 83.\nThe technical documentation shall be updated accordingly."
          ],
          [
           "medical device post market surveillance",
           "Post-Market Clinical Follow-Up [...] The PMCF plan shall specify the methods and procedures for proactively collecting and evaluating clinical data with the aim of: \n(a) confirming the safety and performance of the device throughout its expected lifetime,\n(b) identifying previously unknown side-effects and monitoring the identified side-effects and contraindications, \n(c) identifying and analysing emergent risks on the basis of factual evidence,\n(d) ensuring the continued acceptability of the benefit-risk ratio referred to in Sections 1 and 9 of Annex I, and\n(e) identifying possible systematic misuse or off-label use of the device, with a view to verifying that the intended purpose is correct."
          ],
          [
           "medical device post market surveillance",
           "The post-market surveillance system referred to in Article 78 shall be based on a post-market surveillance plan, the requirements for which are set out in Section 1 of Annex III. The post-market surveillance plan shall be part of the technical documentation specified in Annex II. "
          ],
          [
           "medical device post market surveillance",
           "Post-Market Clinical Follow-Up [...] PMCF shall be understood to be a continuous process that updates the clinical evaluation referred to in Article 61 and Part A of this Annex and shall be addressed in the manufacturer's post-market surveillance plan. When conducting PMCF, the manufacturer shall proactively collect and evaluate clinical data from the use in or on humans of a device which bears the CE marking and is placed on the market or put into service within its intended purpose as referred to in the relevant conformity assessment procedure, with the aim of confirming the safety and performance throughout the expected lifetime of the device, of ensuring the continued acceptability of identified risks and of detecting emerging risks on the basis of factual evidence."
          ],
          [
           "medical device post market surveillance",
           "Summary Report […] \n(1) The Minister may, for the purposes of determining whether a medical device meets the applicable requirements of sections 10 to 20, request that the holder of a medical device licence issued in respect of the device submit, on or before the day specified in the request, any of the following:\n (a) summary reports; or\n (b) information on the basis of which summary reports were prepared.\n(2) The licensee shall submit to the Minister the summary reports or information, or both, that the Minister requests not later than the day specified in the request."
          ],
          [
           "medical device post market surveillance",
           "The PMPF plan shall include at least:\n(a) the general methods and procedures of the PMPF to be applied, such as gathering of clinical experience\ngained, feedback from users, screening of scientific literature and of other sources of performance or\nscientific data;\n(b) the specific methods and procedures of PMPF to be applied, such as ring trials and other quality assurance\nactivities, epidemiological studies, evaluation of suitable patient or disease registers, genetic databanks or\npost-market clinical performance studies;\n(c) a rationale for the appropriateness of the methods and procedures referred to in points (a) and (b);\n(d) a reference to the relevant parts of the performance evaluation report referred to in Section 1.3 of this\nAnnex and to the risk management referred to in Section 3 of Annex I;\n(e) the specific objectives to be addressed by the PMPF; \n(f) an evaluation of the performance data relating to equivalent or similar devices, and the current state of the\nart;\n(g) reference to any relevant CS, harmonised standards when used by the manufacturer, and relevant guidance\non PMPF, and;\n(h) a detailed and adequately justified time schedule for PMPF activities, such as analysis of PMPF data and\nreporting, to be undertaken by the manufacturer. "
          ],
          [
           "medical device post market surveillance",
           "Requirements of manufacturing system [...]\nThe manufacturer of a medical device of a kind mentioned in subclause (1) must ensure that the process used to manufacture the device includes post-marketing requirements under which the manufacturer is required:\n(a) to systematically review experience gained in the post-production phase in relation to medical devices of that kind; and\n(b) to implement appropriate means to apply any necessary corrective action in relation to the design or production of such devices; and\n(c) to notify the Secretary, or the person in relation to whom the kind of device is included in the Register, as soon as practicable after becoming aware of:\n   (i) information relating to:\n      (A) any malfunction or deterioration in the characteristics or performance of the kind of device; or\n      (B) any inadequacy in the design, production, labelling, instructions for use or advertising materials of the kind of device; or\n      (C) any use in accordance with, or contrary to, the use intended by the manufacturer of the kind of device;\nthat might lead, or might have led, to the death of a patient or a user of the device, or to a serious deterioration in his or her state of health; or\n   (ii) information relating to any technical or medical reason for a malfunction or deterioration of a kind mentioned in subparagraph (i) that has led the manufacturer to take steps to recall devices of that kind that have been distributed.\nNote: See also paragraph 41FN(3)(d) and section 41MP of the Act in relation to the requirement to give certain information about a medical device to the Secretary."
          ],
          [
           "medical device post market surveillance",
           "Technical Documentation [...] Pre-clinical and clinical data [...]  \n(d) the PMCF plan and PMCF evaluation report referred to in Part B of Annex XIV or a justification why a PMCF is not applicable."
          ],
          [
           "medical device post market surveillance",
           "PMPF shall be understood to be a continuous process that updates the performance evaluation referred to in\nArticle 56 and Part A of this Annex and shall be specifically addressed in the manufacturer's post-market\nsurveillance plan. When conducting PMPF, the manufacturer shall proactively collect and evaluate performance\nand relevant scientific data from the use of a device which bears the CE marking and is placed on the market or\nput into service within its intended purpose as referred to in the relevant conformity assessment procedure, with the aim of confirming the safety, performance and scientific validity throughout the expected lifetime of thedevice, of ensuring the continued acceptability of the benefit-risk ratio and of detecting emerging risks on the basis of factual evidence. "
          ],
          [
           "medical device post market surveillance",
           "Devices for special purposes […] \nCustom-made devices shall be accompanied by the statement referred to in Section 1 of Annex XIII, which shall be made available to the particular patient or user identified by name, an acronym or a numerical code.\nMember States may require that the manufacturer of a custom-made device submit to the competent authority a list of such devices which have been made available in their territory."
          ],
          [
           "medical device post market surveillance",
           "Post-market surveillance system of the manufacturer […] For each device, manufacturers shall plan, establish, document, implement, maintain and update a post-market surveillance system in a manner that is proportionate to the risk class and appropriate for the type of device. That system shall be an integral part of the manufacturer's quality management system referred to in Article 10(9)."
          ],
          [
           "medical device post market surveillance",
           "The performance evaluation and its documentation shall be updated throughout the life cycle of the device\nconcerned with data obtained from implementation of the manufacturer's PMPF plan in accordance with Part B of Annex XIII and the post-market surveillance plan referred to in Article 79.\nThe performance evaluation report for class C and D devices shall be updated when necessary, but at least annually, with the data referred to in the first subparagraph. The summary of safety and performance referred to in Article 29(1) shall be updated as soon as possible, where necessary"
          ],
          [
           "medical device post market surveillance",
           "The conclusions of the PMPF evaluation report shall be taken into account for the performance evaluation\nreferred to in Article 56 and Part A of this Annex and in the risk management referred to in Section 3 of Annex\nI. If, through the PMPF, the need for preventive and/or corrective measures has been identified, the manufacturer shall implement them."
          ],
          [
           "medical device post market surveillance",
           "Post-market surveillance plan. The post-market surveillance system referred to in Article 83 shall be based on a post-market surveillance plan, the requirements for which are set out in Section 1.1 of Annex III. For devices other than custom-made devices, the postmarket surveillance plan shall be part of the technical documentation specified in Annex II."
          ],
          [
           "medical device post market surveillance",
           "The technical documentation on post-market surveillance to be drawn up by the manufacturer in accordance with Articles 78 to 81 shall be presented in a clear, organised, readily searchable and unambiguous manner and shall include in particular the elements described in this Annex.\n1. The post-market surveillance plan drawn up in accordance with Article 79.\nThe manufacturer shall prove in a post-market surveillance plan that it complies with the obligation referred to in\nArticle 78.\n(b) The post-market surveillance plan shall cover at least:\n— a proactive and systematic process to collect any information referred to in point (a). The process shall allow\na correct characterisation of the performance of the devices and shall also allow a comparison to be made\nbetween the device and similar products available on the market;\n— effective and appropriate methods and processes to assess the collected data;\n— suitable indicators and threshold values that shall be used in the continuous reassessment of the benefit-risk\nanalysis and of the risk management as referred to in Section 3 of Annex I;\n— effective and appropriate methods and tools to investigate complaints and analyse market-related experience collected in the field;\n— methods and protocols to manage the events subject to the trend report as provided for in Article 83,\nincluding the methods and protocols to be used to establish any statistically significant increase in the\nfrequency or severity of incidents as well as the observation period;\n— methods and protocols to communicate effectively with competent authorities, notified bodies, economic\noperators and users;\n— reference to procedures to fulfil the manufacturers obligations laid down in Articles 78, 79 and 81;\n— systematic procedures to identify and initiate appropriate measures including corrective actions;\n— effective tools to trace and identify devices for which corrective actions might be necessary; and\n— a PMPF plan as referred to in Part B of Annex XIII, or a justification as to why a PMPF is not applicable."
          ],
          [
           "medical device post market surveillance",
           "The PMPF plan shall specify the methods and procedures for proactively collecting and evaluating safety,\nperformance and scientific data with the aim of:\n(a) confirming the safety and performance of the device throughout its expected lifetime,\n(b) identifying previously unknown risks or limits to performance and contra-indications,\n(c) identifying and analysing emergent risks on the basis of factual evidence,\n(d) ensuring the continued acceptability of the clinical evidence and of the benefit-risk ratio referred to in\nSections 1 and 8 of Chapter I of Annex I, and\n(e) identifying possible systematic misuse."
          ],
          [
           "medical device post market surveillance",
           "If PMPF is not deemed appropriate for a specific device then a justification shall be provided and documented\nwithin the performance evaluation report."
          ],
          [
           "medical device post market surveillance",
           "Manufacturers of class C and class D devices shall prepare a periodic safety update report (‘PSUR’) for each device and where relevant for each category or group of devices summarising the results and conclusions of the analyses of the post-market surveillance data gathered as a result of the post-market surveillance plan referred to in Article 79 together with a rationale and description of any preventive and corrective actions taken. Throughout the lifetime of the device concerned, that PSUR shall set out: (a) the conclusions of the benefit-risk determination; (b) the main findings of the PMPF; and (c) the volume of sales of the device and an estimate of the size and other characteristics of the population using the device and, where practicable, the usage frequency of the device. Manufacturers of class C and D devices shall update the PSUR at least annually. That PSUR shall be part of the technical documentation as specified in Annexes II and III."
          ],
          [
           "medical device post market surveillance",
           "Manufacturers of devices, made available on the Union market, other than devices for performance study, shall report, to the relevant competent authorities, in accordance with Articles 87(5) and (7), the following:\n(a) any serious incident involving devices made available on the Union market, except expected erroneous results which are clearly documented and quantified in the product information and in the technical documentation and are subject to trend reporting pursuant to Article 83;\n(b) any field safety corrective action in respect of devices made available on the Union market, including any field safety corrective action undertaken in a third country in relation to a device which is also legally made available on the Union market, if the reason for the field safety corrective action is not limited to the device made available in the third country.\nThe reports referred to in the first subparagraph shall be submitted through the electronic system referred to in\nArticle 87. "
          ],
          [
           "medical device post market surveillance",
           "Periodic safety update report […] Manufacturers of class IIa, class IIb and class III devices shall prepare a periodic safety update report (‘PSUR’) for each device and where relevant for each category or group of devices summarising the results and conclusions of the analyses of the post-market surveillance data gathered as a result of the post-market surveillance plan referred to in Article 84 together with a rationale and description of any preventive and corrective actions taken. Throughout the lifetime of the device concerned, that PSUR shall set out:\n(a) the conclusions of the benefit-risk determination; \n(b) the main findings of the PMCF; and\n(c) the volume of sales of the device and an estimate evaluation of the size and other characteristics of the population using the device and, where practicable, the usage frequency of the device.\n\nManufacturers of class IIb and class III devices shall update the PSUR at least annually. That PSUR shall, except in the case of custom-made devices, be part of the technical documentation as specified in Annexes II and III.\nManufacturers of class IIa devices shall update the PSUR when necessary and at least every two years. That PSUR shall, except in the case of custom-made devices, be part of the technical documentation as specified in Annexes II and III.\nFor custom-made devices, the PSUR shall be part of the documentation referred to in Section 2 of Annex XIII."
          ],
          [
           "medical device post market surveillance",
           "The technical documentation on post-market surveillance to be drawn up by the manufacturer in accordance with\nArticles 83 to 86 shall be presented in a clear, organised, readily searchable and unambiguous manner and shall include\nin particular the elements described in this Annex.\n1.1. The post-market surveillance plan drawn up in accordance with Article 84.The manufacturer shall prove in a post-market surveillance plan that it complies with the obligation referred to in Article 83.\n(a) The post-market surveillance plan shall address the collection and utilization of available information, in\nparticular:\n— information concerning serious incidents, including information from PSURs, and field safety corrective\nactions;\n— records referring to non-serious incidents and data on any undesirable side-effects;\n— information from trend reporting;\n— relevant specialist or technical literature, databases and/or registers;\n— information, including feedbacks and complaints, provided by users, distributors and importers; and\n— publicly available information about similar medical devices."
          ],
          [
           "medical device post market surveillance",
           "Post-market surveillance system of the manufacturer […] If, in the course of the post-market surveillance, a need for preventive or corrective action or both is identified, the manufacturer shall implement the appropriate measures and inform the competent authorities concerned and, where applicable, the notified body. Where a serious incident is identified or a field safety corrective action is implemented, it shall be reported in accordance with Article 87."
          ],
          [
           "medical device post market surveillance",
           "Incident Reporting […] \n(1) Despite subsection 59(1) or (1.1), the manufacturer of a medical device may permit the importer of the device to prepare and submit the preliminary and final reports on the manufacturer’s behalf if the information that the manufacturer and the importer must include is identical.\n(2) The manufacturer shall advise the Minister in writing if the manufacturer has permitted the importer to prepare and submit the reports on the manufacturer’s behalf."
          ],
          [
           "medical device post market surveillance",
           "Post-Market Clinical Follow-Up [...] The conclusions of the PMCF evaluation report shall be taken into account for the clinical evaluation referred to in Article 61 and Part A of this Annex and in the risk management referred to in Section 3 of Annex I. If, through the PMCF, the need for preventive and/or corrective measures has been identified, the manufacturer shall implement them."
          ],
          [
           "medical device post market surveillance",
           "Feedback\nAs one of the measurements of the effectiveness of the quality management system, the organization shall gather and monitor information relating to whether the organization has met customer requirements. The methods for obtaining and using this information shall be documented.\nThe organization shall document procedures for the feedback process. This feedback process shall include provisions to gather data from production as well as post-production activities.\n\nThe information gathered in the feedback process shall serve as potential input into risk management for monitoring and maintaining the product requirements as well as the product realization or improvement processes.\n\nIf applicable regulatory requirements require the organization to gain specific experience from post-production activities, the review of this experience shall form part of the feedback process."
          ],
          [
           "medical device post market surveillance",
           "Confirmation of conformity with relevant general safety and performance requirements set out in Annex I, in\nparticular those concerning the performance characteristics referred to in Chapter I and Section 9 of Annex I, under the normal conditions of the intended use of the device, and the evaluation of the interference(s) and cross-reaction(s) and of the acceptability of the benefit-risk ratio referred to in Sections 1 and 8 of Annex I, shall be based on scientific validity, analytical and clinical performance data providing sufficient clinical evidence, including where applicable relevant data as referred to in Annex III.\nThe manufacturer shall specify and justify the level of the clinical evidence necessary to demonstrate conformity with the relevant general safety and performance requirements. That level of clinical evidence shall be appropriate in view of the characteristics of the device and its intended purpose.\nTo that end, manufacturers shall plan, conduct and document a performance evaluation in accordance with this Article and with Part A of Annex XIII. "
          ],
          [
           "medical device post market surveillance",
           "Post-Market Clinical Follow-Up [...] PMCF shall be performed pursuant to a documented method laid down in a PMCF plan."
          ],
          [
           "medical device post market surveillance",
           "‘economic operator’ means a manufacturer, an authorised representative, an importer, a distributor or the person referred to in Article 22(1) and 22(3);"
          ],
          [
           "medical device post market surveillance",
           "Post-market surveillance report. Manufacturers of class I devices shall prepare a post-market surveillance report summarising the results and conclusions of the analyses of the post-market surveillance data gathered as a result of the post-market surveillance plan referred to in Article 84 together with a rationale and description of any preventive and corrective actions taken. The report shall be updated when necessary and made available to the competent authority upon request."
          ],
          [
           "medical device post market surveillance",
           "Requirements of quality management system […]\nThe system must include post-marketing requirements under which the manufacturer of a medical device to which the system is applied is required:\n(a) to systematically review experience gained, post-production, in relation to medical devices of that kind; and\n(b) to implement appropriate means to apply any necessary corrective action in relation to the design or production of such devices; and\n(c) to notify the Secretary, or the person in relation to whom the kind of device is included in the Register, as soon as practicable after becoming aware of:\n   (i) information relating to:\n      (A) any malfunction or deterioration in the characteristics or performance of the kind of device; or\n      (B) any inadequacy in the design, production, labelling or instructions for use of the kind of device, or in the advertising material for the kind of device; or\n      (C) any use in accordance with, or contrary to, the use intended by the manufacturer of the kind of device;\nthat might lead, or might have led, to the death of a patient or a user of the device, or to a serious deterioration in his or her state of health; or\n   (ii) information relating to any technical or medical reason for a malfunction or deterioration of a kind mentioned in subparagraph (i) that has led the manufacturer to take steps to recall devices of that kind that have been distributed."
          ],
          [
           "medical device post market surveillance",
           "Manufacturers of class A and B devices shall prepare a post-market surveillance report summarising the results and conclusions of the analyses of the post-market surveillance data gathered as a result of the post-market surveillance plan referred to in Article 79 together with a rationale and description of any preventive and corrective actions taken. The report shall be updated when necessary and made available to the notified body and the competent authority upon request. "
          ],
          [
           "medical device post market surveillance",
           "Declaration of conformity (not requiring assessment by Secretary) procedures […] Post-marketing system\n(1) The manufacturer of a medical device to which technical documentation prepared under clause 6.4 of this Schedule applies must establish, and keep up-to-date, a post-marketing system that complies with subclause (2) for use in relation to devices of that kind.\n(2) A post-marketing system complies with this subclause in relation to a medical device if the system requires the manufacturer of the device:\n   (a) to systematically review experience gained in the post-production phase in relation to medical devices of that kind; and\n   (b) to implement appropriate means to apply any necessary corrective action in relation to the design or production of such devices; and\n   (c) to notify the Secretary, or the person in relation to whom the kind of device is included in the Register, as soon as practicable after becoming aware of:\n     (i) information relating to:\n        (A) any malfunction or deterioration in the characteristics or performance of the kind of device; or\n        (B) any inadequacy in the design, production, labelling, instructions for use or advertising materials of the kind of device; or\n        (C) any use in accordance with, or contrary to, the use intended by the manufacturer of the kind of device;\nthat might lead, or might have led, to the death of a patient or a user of the device, or to a serious deterioration in his or her state of health; or\n     (ii) information relating to any technical or medical reason for a malfunction or deterioration of a kind mentioned in subparagraph (i) that has led the manufacturer to take steps to recall devices of that kind that have been distributed.\nNote: See also paragraph 41FN(3)(d) and section 41MP of the Act in relation to the requirement to give certain information about a medical device to the Secretary."
          ],
          [
           "medical device post market surveillance",
           "Incident Reporting […] \n(1) After the preliminary report is made in accordance with section 60, a final report shall be submitted to the Minister in accordance with the timetable established under paragraph 60(2)(h).\n(2) The final report shall contain the following information:\n (a) a description of the incident, including the number of persons who have experienced a serious deterioration in the state of their health or who have died;\n (b) a detailed explanation of the cause of the incident and a justification for the actions taken in respect of the incident; and\n (c) any actions taken as a result of the investigation, which may include\n (i) increased post-market surveillance of the device,\n (ii) corrective and preventive action respecting the design and manufacture of the device, and\n (iii) recall of the device."
          ],
          [
           "medical device post market surveillance",
           "The post-market surveillance system shall be suited to actively and systematically gathering, recording and\nanalysing relevant data on the quality, performance and safety of a device throughout its entire lifetime, and to drawing the necessary conclusions and to determining, implementing and monitoring any preventive and corrective actions."
          ],
          [
           "medical device post market surveillance",
           "Clinical evaluation […] The clinical evaluation and its documentation shall be updated throughout the life cycle of the device concerned with clinical data obtained from the implementation of the manufacturer's PMCF plan in accordance with Part B of Annex XIV and the post-market surveillance plan referred to in Article 84.\nFor class III devices and implantable devices, the PMCF evaluation report and, if indicated, the summary of safety and clinical performance referred to in Article 32 shall be updated at least annually with such data."
          ],
          [
           "medical device post market surveillance",
           "The technical documentation on post-market surveillance to be drawn up by the manufacturer in accordance with Articles 78 to 81 shall be presented in a clear, organised, readily searchable and unambiguous manner and shall include in particular the elements described in this Annex.\n1. The post-market surveillance plan drawn up in accordance with Article 79.\nThe manufacturer shall prove in a post-market surveillance plan that it complies with the obligation referred to in\nArticle 78.\n(a) The post-market surveillance plan shall address the collection and utilisation of available information, in\nparticular:\n— information concerning serious incidents, including information from PSURs, and field safety corrective\nactions,\n— records referring to non-serious incidents and data on any undesirable side-effects,\n— information from trend reporting,\n— relevant specialist or technical literature, databases and/or registers,\n— information, including feedbacks and complaints, provided by users, distributors and importers, and\n— publicly-available information about similar medical devices. "
          ],
          [
           "medical device post market surveillance",
           "Periodic safety update report […] For class III devices or implantable devices, manufacturers shall submit PSURs by means of the electronic system referred to in Article 92 to the notified body involved in the conformity assessment in accordance with Article 52. The notified body shall review the report and add its evaluation to that electronic system with details of any action taken. Such PSURs and the evaluation by the notified body shall be made available to competent authorities through that electronic system."
          ],
          [
           "medical device post market surveillance",
           "Incident Reporting […] \n(1) The manufacturer and the importer of a medical device shall each make a preliminary and a final report to the Minister concerning any incident that comes to their attention occurring in Canada that involves the device if\n (a) the device is sold in Canada; and\n (b) the incident\n (i) is related to a failure of the device or a deterioration in its effectiveness or any inadequacy in its labelling or in its directions for use, and\n (ii) has led to the death or a serious deterioration in the state of health of a patient, user or other person, or could do so were the incident to recur.\n(1.1) Subject to subsection (2), the manufacturer and the importer of a Class I medical device shall each make a preliminary and a final report to the Minister concerning any incident that comes to their attention occurring outside Canada that involves the device if the conditions in paragraphs (1)(a) and (b) are met.\n(2) The requirement to report an incident that occurs outside Canada does not apply unless the manufacturer has indicated, to a regulatory agency of the country in which the incident occurred, the manufacturer’s intention to take corrective action, or unless the regulatory agency has required the manufacturer to take corrective action."
          ],
          [
           "medical device post market surveillance",
           "If, in the course of the post-market surveillance, a need for preventive or corrective action or both is identified, the\nmanufacturer shall implement the appropriate measures and inform the competent authorities concerned and, where\napplicable, the notified body. Where a serious incident is identified or a field safety corrective action is implemented, it\nshall be reported in accordance with Article 82. "
          ],
          [
           "medical device post market surveillance",
           "Devices shall be divided into classes I, IIa, IIb and III, taking into account the intended purpose of the devices and their inherent risks. Classification shall be carried out in accordance with Annex VIII. "
          ],
          [
           "medical device post market surveillance",
           "Medical Devices Registration and Filing […]  \nArticle 20 The medical device registrant and filling person shall be obligated to:\n(I) Establish a quality management system suitable for products and maintain its effective operation;\n(II) Develop the plans for post-marketing study and risk control plan and ensure the effective implementation thereof;\n(III) Carry out adverse event monitoring and re-evaluation according to law;\n(IV) Establish and implement product traceability and recall systems;\n(V) Other obligations specified by the drug regulatory authority directly under the State Council.\nThe domestic enterprise legal persons designated by overseas medical device registrant or filling person shall assist the registrant or filling person to fulfill the obligations prescribed in the preceding paragraph."
          ],
          [
           "medical device post market surveillance",
           "For each device manufacturers shall plan, establish, document, implement, maintain and update a post-market surveillance system in a manner that is proportionate to the risk class and appropriate for the type of device. That system shall be an integral part of the manufacturer's quality management system referred to in Article 10(8)."
          ]
         ],
         "hovertemplate": "true_label=%{customdata[0]}<br>component_1=%{x}<br>component_2=%{y}<br>Text=%{customdata[1]}<br>predicted_cluster=%{marker.color}<extra></extra>",
         "legendgroup": "medical device post market surveillance",
         "marker": {
          "color": [
           4,
           4,
           4,
           4,
           4,
           4,
           4,
           4,
           4,
           4,
           4,
           4,
           4,
           4,
           4,
           4,
           4,
           4,
           4,
           4,
           4,
           4,
           4,
           4,
           4,
           4,
           4,
           4,
           4,
           4,
           1,
           4,
           4,
           4,
           4,
           4,
           4,
           4,
           4,
           4,
           4,
           4,
           4,
           4,
           4,
           4,
           4,
           4
          ],
          "coloraxis": "coloraxis",
          "symbol": "x"
         },
         "mode": "markers",
         "name": "medical device post market surveillance",
         "orientation": "v",
         "showlegend": true,
         "type": "scatter",
         "x": [
          0.11039469821458162,
          0.0497830399523534,
          0.19715986086972542,
          0.05697032683534902,
          0.15106111702164607,
          0.008585371076611887,
          0.21635533602386167,
          0.15360341880583886,
          0.04946571758647873,
          0.16662964671963,
          0.1784561209857333,
          0.14376004545548873,
          0.24216186609598964,
          -0.010535372853483008,
          0.14977500239486147,
          0.1586519523811713,
          0.1089398504109871,
          0.1386357097676022,
          0.07475193903955939,
          0.12779277367867464,
          0.19097187466214416,
          0.10037310721353164,
          -0.02397271571727427,
          0.24101781867509336,
          0.20301945728285137,
          0.24371695497854173,
          0.21325095082885415,
          0.13451400138904693,
          0.18762546413966213,
          0.13205360350829062,
          -0.00038403449130684986,
          0.14607241557344697,
          -0.04134789887925827,
          -0.03785902115842795,
          0.16468665708453759,
          0.1857190486067133,
          0.16579084463730417,
          0.2351863916622098,
          0.19643983376134144,
          0.02742030021569839,
          0.14891032113819816,
          0.21270822276334317,
          0.1405558798071354,
          0.2355593282011114,
          0.1241732580820945,
          0.02838281830806115,
          0.15192291088743606,
          0.1032572545858465
         ],
         "xaxis": "x",
         "y": [
          -0.10015297746991507,
          -0.11652338737950096,
          -0.016861696545228653,
          -0.09951211276230369,
          -0.011587477234415158,
          -0.15316665840084898,
          -0.026554324148286915,
          -0.0016523003425852273,
          -0.15137852553461945,
          -0.014398145664005765,
          -0.12299630790169443,
          -0.011213054583249654,
          -0.034960485062956626,
          -0.02041666939996931,
          -0.03355234130727228,
          -0.02287384496298426,
          -0.0811396641055107,
          -0.10144399342700906,
          -0.09143720568540334,
          -0.12472844209299543,
          -0.11416716711468423,
          -0.013978921176266246,
          -0.085120994404821,
          -0.10059733758056331,
          -0.07086540905843906,
          -0.10242957732270128,
          -0.11684827211865377,
          -0.12379313476879017,
          -0.09541745574868915,
          -0.0766510203302278,
          -0.018054523776428105,
          0.02162441702743741,
          -0.0801997177470116,
          -0.06482440521759375,
          -0.17269739660998798,
          -0.03552426252734182,
          -0.1466590202958808,
          -0.06969237798896243,
          -0.10051818996137486,
          -0.10232956525140277,
          -0.0682925048269836,
          -0.11266688655967878,
          -0.09978508959113602,
          -0.08997321405635583,
          -0.13421672212639477,
          -0.010274125637050166,
          -0.034385939582835326,
          -0.07215067652396749
         ],
         "yaxis": "y"
        },
        {
         "customdata": [
          [
           "calibration",
           "Equipment […] Manufacturers shall establish usage records of inspection instruments and equipment, including the usage, calibration, maintenance and repair, etc."
          ],
          [
           "calibration",
           "Quality Control and Quality Assurance […] Management of Quality Control Laboratories […] \nDocumentation in the quality control laboratories should be in accordance with the principles in Chapter 8 and meet the following requirements: […] \nThe quality control laboratories should at least have the following detailed documents:\n 1) Specifications;\n 2) Sampling operation procedures and records;\n 3) Testing operation procedures and records (including testing records or laboratory notebooks);\n 4) Testing reports or certificates;\n 5) Operation procedures, records and reports of environmental monitoring, where required;\n 6) Validation reports and records of testing methods, where applicable;\n 7) Operation procedures and records of the calibration of instruments, and use, cleaning and maintenance of equipment."
          ],
          [
           "calibration",
           "The monitor shall perform routine on-site monitoring visits to verify that […] maintenance and calibration of the equipment relevant to the assessment of the clinical investigation is appropriately performed and documented, where applicable,"
          ],
          [
           "calibration",
           "Quality Control […] Manufacturers shall establish quality control procedure specifying requirements for product inspection department, personnel and operation, and requirements for the use and calibration of inspection instruments and equipment as well as product release procedure."
          ],
          [
           "calibration",
           "Calibration of equipment should be traceable to a national or international measurement standard. Appropriate alarm systems should be in place to provide alerts when there are excursions from pre-defined storage conditions. Alarm levels should be appropriately set and alarms should be regularly tested to ensure adequate functionality."
          ],
          [
           "calibration",
           "You must calibrate instruments and controls you use in manufacturing or testing a component or dietary supplement. You must calibrate:\n(1) Before first use; and \n(2) At the frequency specified in writing by the manufacturer of the instrument and control; or \n(3) At routine intervals or as otherwise necessary to ensure the accuracy and precision of the instrument and control. "
          ],
          [
           "calibration",
           "Equipment […] Calibration […] \nAutomated or electronic equipment used in production, packaging and storage should be regularly calibrated and checked according to procedures, in order to ensure their proper functioning. Calibration and checks should be recorded accordingly."
          ],
          [
           "calibration",
           "Monitoring and measuring resources […] Measurement traceability.\nWhen measurement traceability is a requirement, or is considered by the organization to be an essential part of providing confidence in the validity of measurement results, measuring equipment shall be: \na) calibrated or verified, or both, at specified intervals, or prior to use, against measurement standards traceable to international or national measurement standards; when no such standards exist, the basis used for calibration or verification shall be retained as documented information;\nb) identified in order to determine their status;\nc) safeguarded from adjustments, damage or deterioration that would invalidate the calibration\nstatus and subsequent measurement results.\nThe organization shall determine if the validity of previous measurement results has been adversely affected when measuring equipment is found to be unfit for its intended purpose, and shall take appropriate action as necessary."
          ],
          [
           "calibration",
           "Supplementary Provisions […] Glossary […] \nCalibration: The set of operations which establish, under specified conditions, the relationship between values indicated by a measuring, recording or controlling instrument or system (especially weighing), or values represented by a material measure, and the corresponding known values of a reference standard."
          ],
          [
           "calibration",
           "The manufacturer, etc. shall have the quality department conduct appropriately as planned the following duties concerned with quality control of the products in accordance with the documented procedure, etc. […]\nTo conduct periodical maintenance of the facilities and equipment for the testing and to establish and maintain records of the maintenance, and to calibrate appropriately the measuring equipment and to establish and maintain records of the calibration, […]"
          ],
          [
           "calibration",
           "Equipment used to control or to monitor the environment where the medicinal products are stored should be calibrated at defined intervals based on a risk and reliability assessment."
          ],
          [
           "calibration",
           "You must repair or replace instruments or controls that cannot be adjusted to agree with the reference standard."
          ],
          [
           "calibration",
           "Records and Reports […] Laboratory records. […] \n(d) Complete records shall be maintained of the periodic calibration of laboratory instruments, apparatus, gauges, and recording devices required by §211.160(b)(4)."
          ],
          [
           "calibration",
           "Process Equipment […] Calibration […] \nRecords of these calibrations should be maintained."
          ],
          [
           "calibration",
           "Quality control operations for equipment, instruments, and controls must include:\n(a) Reviewing and approving all processes for calibrating instruments and controls; \n(b) Periodically reviewing all records for calibration of instruments and controls; \n(c) Periodically reviewing all records for calibrations, inspections, and checks of automated, mechanical, or electronic equipment; and \n(d) Reviewing and approving controls to ensure that automated, mechanical, or electronic equipment functions in accordance with its intended use. "
          ],
          [
           "calibration",
           "Procedures and records […]\nLogbooks should be kept for major or critical analytical testing, production equipment, and areas where product has been processed. They should be used to record in chronological order, as appropriate, any use of the area, equipment/method, calibrations, maintenance, cleaning or repair operations, including the dates and identity of people who carried these operations out."
          ],
          [
           "calibration",
           "Process and Production Controls […] Inspection, measurement and testing equipment. […]\nCalibration records. Each manufacturer shall insure the maintenance of calibration records, including dates, measurements obtained, employee in charge of this task, and the next date for this operation. Records shall be maintained by the manufacturer and shall be available for the personnel using this equipment and for those responsible for calibrating it."
          ],
          [
           "calibration",
           "Equipment […] Calibration […] \nWeighing and measuring equipment, gauges, recording and control equipment which are not calibrated or beyond the shelf life or inaccurate should not be used."
          ],
          [
           "calibration",
           "Processing operations […] \nMeasuring, weighing, recording, and control equipment and instruments should be serviced and calibrated at prespecified intervals and records maintained. To ensure satisfactory functioning, instruments should be checked daily or prior to use for performing analytical tests. The date of calibration and servicing and the date when recalibration is due should be clearly indicated on a label attached to the instrument."
          ],
          [
           "calibration",
           "Equipment and Utensils […] You must make and keep the following records: […] \nWritten records of calibrations, inspections, and checks of automated, mechanical, and electronic equipment; […]"
          ],
          [
           "calibration",
           "Process Equipment […] Calibration […] \nThe current calibration status of critical equipment should be known and verifiable."
          ],
          [
           "calibration",
           "Process and Production Controls […] Inspection, measurement and testing equipment. […]\nCalibration standards. Each manufacturer shall establish and maintain calibration standards for measurement equipment that are traceable to the official national or international standards. If there is no applicable standard available, the manufacturer shall establish and maintain its own standard."
          ],
          [
           "calibration",
           "The manufacturer, etc. shall have the manufacturing department appropriately conduct the following duties concerned with manufacturing control in accordance with the documented procedure, etc. […]\nTo conduct periodical maintenance of the buildings and facilities and to establish and maintain records of the maintenance, and to calibrate. appropriately the measuring equipment and to establish and maintain records of the calibration, […]"
          ],
          [
           "calibration",
           "Equipment […] Calibration […] \nKey weighing, measuring equipment, gauges, recording and control equipment used in production and testing should be calibrated to ensure that data readout is accurate and reliable."
          ],
          [
           "calibration",
           "Equipment […] Calibration […] \nCalibration should be done with standard measuring instruments meeting regulatory requirements. Calibration records should include the name, code, calibration validity date and number of accreditation certificate to ensure their traceability."
          ],
          [
           "calibration",
           "SOPs should be available for each instrument and piece of equipment (e.g. use, calibration, cleaning, maintenance) and placed in close proximity to the equipment."
          ],
          [
           "calibration",
           "Equipment […] Calibration […] \nIf results of calibration are out-of-acceptance criteria, measuring instruments should be appropriately identified and removed from service."
          ],
          [
           "calibration",
           "Equipment […] Calibration […] \nWeighing and measuring equipment, gauges, recording and control equipment should be clearly labeled to indicate the calibration validity date."
          ],
          [
           "calibration",
           "Glossary […] \ncalibration. The set of operations that establish, under specified conditions, the relationship between values indicated by an instrument or system for measuring (especially weighing), recording, and controlling, or the values represented by a material measure, and the corresponding known values of areference standard. Limits for acceptance of the results of measuring shouldbe established."
          ],
          [
           "calibration",
           "Procedures and Records / Other […]\nLogbooks should be kept for major or  critical analytical testing, production equipment, and areas where product has been processed. They should be used to record in chronological order, as appropriate, any use of the area, equipment/method, calibrations, maintenance, cleaning or  repair  operations, including the dates and identity of people who carried these operations out."
          ],
          [
           "calibration",
           "Process Equipment […] Calibration […] \nEquipment calibrations should be performed using standards traceable to certified standards, if existing."
          ],
          [
           "calibration",
           "Equipment and Utensils […] You must make and keep the following records: […] \nWritten procedures for fulfilling the requirements of this subpart, including written procedures for:\n(i) Calibrating instruments and controls that you use in manufacturing or testing a component or dietary supplement; \n(ii) Calibrating, inspecting, and checking automated, mechanical, and electronic equipment; and \n(iii) Maintaining, cleaning, and sanitizing, as necessary, all equipment, utensils, and any other contact surfaces that are used to manufacture, package, label, or hold components or dietary supplements; […]"
          ],
          [
           "calibration",
           "Equipment […] Calibration […] \nWeighing and measuring equipment, gauges, recording and control equipment and all instruments used in production and testing should be calibrated and checked at defined intervals according to the operation procedures and calibration plans, and related records should be retained. Calibration should cover the range used in production and testing."
          ],
          [
           "calibration",
           "Equipment […] Manufacturers shall be equipped with appropriate measuring instruments, of which the measuring range and precision shall meet operating requirements, the expiry date of calibration indicated, and the corresponding records maintained."
          ],
          [
           "calibration",
           "Requirements of product quality management system [...] \nThe documentation of the system must include adequate information in relation to the following matters:\n(a) the manufacturer’s quality objectives;\n(b) the organisation of the manufacturer’s business, including, in particular, a description of the following:\n  (i) the organisational structure of the business;\n  (ii) the responsibilities of managerial staff and their authority in relation to the quality of the medical devices manufactured by the manufacturer;\n  (iii) the methods of monitoring whether the system is operating effectively, in particular, whether the desired quality of product is being achieved and how products that fail to meet the desired quality are controlled;\n(c) the examinations and tests to be carried out after manufacture, including, in particular, information about:\n  (i) the frequency with which the examinations and tests are to be carried out; and\n  (ii) the equipment (including the traceability of the calibration of the equipment) to be used to carry out the examinations and tests;\n(d) the quality records to be kept, including, for example, records in relation to inspections, tests, calibration of equipment and qualifications of staff."
          ],
          [
           "calibration",
           "Process Equipment […] Calibration […] \nInstruments that do not meet calibration criteria should not be used."
          ]
         ],
         "hovertemplate": "true_label=%{customdata[0]}<br>component_1=%{x}<br>component_2=%{y}<br>Text=%{customdata[1]}<br>predicted_cluster=%{marker.color}<extra></extra>",
         "legendgroup": "calibration",
         "marker": {
          "color": [
           0,
           2,
           0,
           1,
           0,
           0,
           0,
           0,
           0,
           0,
           0,
           0,
           0,
           0,
           0,
           0,
           0,
           0,
           0,
           0,
           0,
           0,
           0,
           0,
           0,
           0,
           0,
           0,
           0,
           0,
           0,
           0,
           0,
           0,
           4,
           0
          ],
          "coloraxis": "coloraxis",
          "symbol": "cross"
         },
         "mode": "markers",
         "name": "calibration",
         "orientation": "v",
         "showlegend": true,
         "type": "scatter",
         "x": [
          -0.11043763229580807,
          -0.06360676735584893,
          -0.10404396928632739,
          -0.10261885242834083,
          -0.120610432036392,
          -0.07620771000666365,
          -0.16372184148795532,
          -0.07529917797091445,
          -0.12380872259407674,
          -0.0698555496097662,
          -0.10648533101649273,
          -0.15482683518916102,
          -0.11674534855894154,
          -0.22593806847532893,
          -0.1167514515125799,
          -0.13196074935106508,
          -0.1010667648828495,
          -0.17140887105970706,
          -0.14893439694366611,
          -0.15013164091045716,
          -0.19503289620852862,
          -0.10016595626706476,
          -0.07268153002997153,
          -0.19207309978018966,
          -0.14775083003968678,
          -0.16451889129345482,
          -0.18584666389993768,
          -0.17527185689799346,
          -0.1360101042283271,
          -0.12457501195898801,
          -0.2147644124975393,
          -0.04608019077797759,
          -0.16533409729420676,
          -0.10837435678591677,
          0.06683422873345667,
          -0.20270452618362508
         ],
         "xaxis": "x",
         "y": [
          -0.08618773940845717,
          0.03478473362215728,
          -0.07296721994709772,
          -0.04034151146303044,
          -0.014830841125218559,
          0.01085089995769627,
          -0.016122691114357286,
          0.029914163620452582,
          0.02806199999320913,
          -0.033067562342115484,
          0.035129408934218,
          -0.03262103328667581,
          -0.0754008439937782,
          -0.01868363765221568,
          -0.002510761869195589,
          0.016157263556129495,
          -0.010286737418405004,
          0.02893683269817081,
          0.004642474294506313,
          -0.055069627590117395,
          0.01264971804897453,
          0.012302781772299218,
          -0.032824145321513135,
          0.0232102319927892,
          -0.009838480150319627,
          -0.024204588067092577,
          -0.0010489642011791674,
          -0.014189021386614624,
          0.05803638429806314,
          0.01611258342583141,
          0.025774882288597915,
          0.003167260977264698,
          0.011871400623820073,
          -0.04278791115786624,
          0.00168693923751382,
          0.04433563465899254
         ],
         "yaxis": "y"
        }
       ],
       "layout": {
        "coloraxis": {
         "colorbar": {
          "title": {
           "text": "predicted_cluster"
          }
         },
         "colorscale": [
          [
           0,
           "#0d0887"
          ],
          [
           0.1111111111111111,
           "#46039f"
          ],
          [
           0.2222222222222222,
           "#7201a8"
          ],
          [
           0.3333333333333333,
           "#9c179e"
          ],
          [
           0.4444444444444444,
           "#bd3786"
          ],
          [
           0.5555555555555556,
           "#d8576b"
          ],
          [
           0.6666666666666666,
           "#ed7953"
          ],
          [
           0.7777777777777778,
           "#fb9f3a"
          ],
          [
           0.8888888888888888,
           "#fdca26"
          ],
          [
           1,
           "#f0f921"
          ]
         ]
        },
        "legend": {
         "orientation": "h",
         "title": {
          "text": "true_label"
         },
         "tracegroupgap": 0
        },
        "margin": {
         "t": 60
        },
        "template": {
         "data": {
          "bar": [
           {
            "error_x": {
             "color": "#2a3f5f"
            },
            "error_y": {
             "color": "#2a3f5f"
            },
            "marker": {
             "line": {
              "color": "#E5ECF6",
              "width": 0.5
             },
             "pattern": {
              "fillmode": "overlay",
              "size": 10,
              "solidity": 0.2
             }
            },
            "type": "bar"
           }
          ],
          "barpolar": [
           {
            "marker": {
             "line": {
              "color": "#E5ECF6",
              "width": 0.5
             },
             "pattern": {
              "fillmode": "overlay",
              "size": 10,
              "solidity": 0.2
             }
            },
            "type": "barpolar"
           }
          ],
          "carpet": [
           {
            "aaxis": {
             "endlinecolor": "#2a3f5f",
             "gridcolor": "white",
             "linecolor": "white",
             "minorgridcolor": "white",
             "startlinecolor": "#2a3f5f"
            },
            "baxis": {
             "endlinecolor": "#2a3f5f",
             "gridcolor": "white",
             "linecolor": "white",
             "minorgridcolor": "white",
             "startlinecolor": "#2a3f5f"
            },
            "type": "carpet"
           }
          ],
          "choropleth": [
           {
            "colorbar": {
             "outlinewidth": 0,
             "ticks": ""
            },
            "type": "choropleth"
           }
          ],
          "contour": [
           {
            "colorbar": {
             "outlinewidth": 0,
             "ticks": ""
            },
            "colorscale": [
             [
              0,
              "#0d0887"
             ],
             [
              0.1111111111111111,
              "#46039f"
             ],
             [
              0.2222222222222222,
              "#7201a8"
             ],
             [
              0.3333333333333333,
              "#9c179e"
             ],
             [
              0.4444444444444444,
              "#bd3786"
             ],
             [
              0.5555555555555556,
              "#d8576b"
             ],
             [
              0.6666666666666666,
              "#ed7953"
             ],
             [
              0.7777777777777778,
              "#fb9f3a"
             ],
             [
              0.8888888888888888,
              "#fdca26"
             ],
             [
              1,
              "#f0f921"
             ]
            ],
            "type": "contour"
           }
          ],
          "contourcarpet": [
           {
            "colorbar": {
             "outlinewidth": 0,
             "ticks": ""
            },
            "type": "contourcarpet"
           }
          ],
          "heatmap": [
           {
            "colorbar": {
             "outlinewidth": 0,
             "ticks": ""
            },
            "colorscale": [
             [
              0,
              "#0d0887"
             ],
             [
              0.1111111111111111,
              "#46039f"
             ],
             [
              0.2222222222222222,
              "#7201a8"
             ],
             [
              0.3333333333333333,
              "#9c179e"
             ],
             [
              0.4444444444444444,
              "#bd3786"
             ],
             [
              0.5555555555555556,
              "#d8576b"
             ],
             [
              0.6666666666666666,
              "#ed7953"
             ],
             [
              0.7777777777777778,
              "#fb9f3a"
             ],
             [
              0.8888888888888888,
              "#fdca26"
             ],
             [
              1,
              "#f0f921"
             ]
            ],
            "type": "heatmap"
           }
          ],
          "heatmapgl": [
           {
            "colorbar": {
             "outlinewidth": 0,
             "ticks": ""
            },
            "colorscale": [
             [
              0,
              "#0d0887"
             ],
             [
              0.1111111111111111,
              "#46039f"
             ],
             [
              0.2222222222222222,
              "#7201a8"
             ],
             [
              0.3333333333333333,
              "#9c179e"
             ],
             [
              0.4444444444444444,
              "#bd3786"
             ],
             [
              0.5555555555555556,
              "#d8576b"
             ],
             [
              0.6666666666666666,
              "#ed7953"
             ],
             [
              0.7777777777777778,
              "#fb9f3a"
             ],
             [
              0.8888888888888888,
              "#fdca26"
             ],
             [
              1,
              "#f0f921"
             ]
            ],
            "type": "heatmapgl"
           }
          ],
          "histogram": [
           {
            "marker": {
             "pattern": {
              "fillmode": "overlay",
              "size": 10,
              "solidity": 0.2
             }
            },
            "type": "histogram"
           }
          ],
          "histogram2d": [
           {
            "colorbar": {
             "outlinewidth": 0,
             "ticks": ""
            },
            "colorscale": [
             [
              0,
              "#0d0887"
             ],
             [
              0.1111111111111111,
              "#46039f"
             ],
             [
              0.2222222222222222,
              "#7201a8"
             ],
             [
              0.3333333333333333,
              "#9c179e"
             ],
             [
              0.4444444444444444,
              "#bd3786"
             ],
             [
              0.5555555555555556,
              "#d8576b"
             ],
             [
              0.6666666666666666,
              "#ed7953"
             ],
             [
              0.7777777777777778,
              "#fb9f3a"
             ],
             [
              0.8888888888888888,
              "#fdca26"
             ],
             [
              1,
              "#f0f921"
             ]
            ],
            "type": "histogram2d"
           }
          ],
          "histogram2dcontour": [
           {
            "colorbar": {
             "outlinewidth": 0,
             "ticks": ""
            },
            "colorscale": [
             [
              0,
              "#0d0887"
             ],
             [
              0.1111111111111111,
              "#46039f"
             ],
             [
              0.2222222222222222,
              "#7201a8"
             ],
             [
              0.3333333333333333,
              "#9c179e"
             ],
             [
              0.4444444444444444,
              "#bd3786"
             ],
             [
              0.5555555555555556,
              "#d8576b"
             ],
             [
              0.6666666666666666,
              "#ed7953"
             ],
             [
              0.7777777777777778,
              "#fb9f3a"
             ],
             [
              0.8888888888888888,
              "#fdca26"
             ],
             [
              1,
              "#f0f921"
             ]
            ],
            "type": "histogram2dcontour"
           }
          ],
          "mesh3d": [
           {
            "colorbar": {
             "outlinewidth": 0,
             "ticks": ""
            },
            "type": "mesh3d"
           }
          ],
          "parcoords": [
           {
            "line": {
             "colorbar": {
              "outlinewidth": 0,
              "ticks": ""
             }
            },
            "type": "parcoords"
           }
          ],
          "pie": [
           {
            "automargin": true,
            "type": "pie"
           }
          ],
          "scatter": [
           {
            "fillpattern": {
             "fillmode": "overlay",
             "size": 10,
             "solidity": 0.2
            },
            "type": "scatter"
           }
          ],
          "scatter3d": [
           {
            "line": {
             "colorbar": {
              "outlinewidth": 0,
              "ticks": ""
             }
            },
            "marker": {
             "colorbar": {
              "outlinewidth": 0,
              "ticks": ""
             }
            },
            "type": "scatter3d"
           }
          ],
          "scattercarpet": [
           {
            "marker": {
             "colorbar": {
              "outlinewidth": 0,
              "ticks": ""
             }
            },
            "type": "scattercarpet"
           }
          ],
          "scattergeo": [
           {
            "marker": {
             "colorbar": {
              "outlinewidth": 0,
              "ticks": ""
             }
            },
            "type": "scattergeo"
           }
          ],
          "scattergl": [
           {
            "marker": {
             "colorbar": {
              "outlinewidth": 0,
              "ticks": ""
             }
            },
            "type": "scattergl"
           }
          ],
          "scattermapbox": [
           {
            "marker": {
             "colorbar": {
              "outlinewidth": 0,
              "ticks": ""
             }
            },
            "type": "scattermapbox"
           }
          ],
          "scatterpolar": [
           {
            "marker": {
             "colorbar": {
              "outlinewidth": 0,
              "ticks": ""
             }
            },
            "type": "scatterpolar"
           }
          ],
          "scatterpolargl": [
           {
            "marker": {
             "colorbar": {
              "outlinewidth": 0,
              "ticks": ""
             }
            },
            "type": "scatterpolargl"
           }
          ],
          "scatterternary": [
           {
            "marker": {
             "colorbar": {
              "outlinewidth": 0,
              "ticks": ""
             }
            },
            "type": "scatterternary"
           }
          ],
          "surface": [
           {
            "colorbar": {
             "outlinewidth": 0,
             "ticks": ""
            },
            "colorscale": [
             [
              0,
              "#0d0887"
             ],
             [
              0.1111111111111111,
              "#46039f"
             ],
             [
              0.2222222222222222,
              "#7201a8"
             ],
             [
              0.3333333333333333,
              "#9c179e"
             ],
             [
              0.4444444444444444,
              "#bd3786"
             ],
             [
              0.5555555555555556,
              "#d8576b"
             ],
             [
              0.6666666666666666,
              "#ed7953"
             ],
             [
              0.7777777777777778,
              "#fb9f3a"
             ],
             [
              0.8888888888888888,
              "#fdca26"
             ],
             [
              1,
              "#f0f921"
             ]
            ],
            "type": "surface"
           }
          ],
          "table": [
           {
            "cells": {
             "fill": {
              "color": "#EBF0F8"
             },
             "line": {
              "color": "white"
             }
            },
            "header": {
             "fill": {
              "color": "#C8D4E3"
             },
             "line": {
              "color": "white"
             }
            },
            "type": "table"
           }
          ]
         },
         "layout": {
          "annotationdefaults": {
           "arrowcolor": "#2a3f5f",
           "arrowhead": 0,
           "arrowwidth": 1
          },
          "autotypenumbers": "strict",
          "coloraxis": {
           "colorbar": {
            "outlinewidth": 0,
            "ticks": ""
           }
          },
          "colorscale": {
           "diverging": [
            [
             0,
             "#8e0152"
            ],
            [
             0.1,
             "#c51b7d"
            ],
            [
             0.2,
             "#de77ae"
            ],
            [
             0.3,
             "#f1b6da"
            ],
            [
             0.4,
             "#fde0ef"
            ],
            [
             0.5,
             "#f7f7f7"
            ],
            [
             0.6,
             "#e6f5d0"
            ],
            [
             0.7,
             "#b8e186"
            ],
            [
             0.8,
             "#7fbc41"
            ],
            [
             0.9,
             "#4d9221"
            ],
            [
             1,
             "#276419"
            ]
           ],
           "sequential": [
            [
             0,
             "#0d0887"
            ],
            [
             0.1111111111111111,
             "#46039f"
            ],
            [
             0.2222222222222222,
             "#7201a8"
            ],
            [
             0.3333333333333333,
             "#9c179e"
            ],
            [
             0.4444444444444444,
             "#bd3786"
            ],
            [
             0.5555555555555556,
             "#d8576b"
            ],
            [
             0.6666666666666666,
             "#ed7953"
            ],
            [
             0.7777777777777778,
             "#fb9f3a"
            ],
            [
             0.8888888888888888,
             "#fdca26"
            ],
            [
             1,
             "#f0f921"
            ]
           ],
           "sequentialminus": [
            [
             0,
             "#0d0887"
            ],
            [
             0.1111111111111111,
             "#46039f"
            ],
            [
             0.2222222222222222,
             "#7201a8"
            ],
            [
             0.3333333333333333,
             "#9c179e"
            ],
            [
             0.4444444444444444,
             "#bd3786"
            ],
            [
             0.5555555555555556,
             "#d8576b"
            ],
            [
             0.6666666666666666,
             "#ed7953"
            ],
            [
             0.7777777777777778,
             "#fb9f3a"
            ],
            [
             0.8888888888888888,
             "#fdca26"
            ],
            [
             1,
             "#f0f921"
            ]
           ]
          },
          "colorway": [
           "#636efa",
           "#EF553B",
           "#00cc96",
           "#ab63fa",
           "#FFA15A",
           "#19d3f3",
           "#FF6692",
           "#B6E880",
           "#FF97FF",
           "#FECB52"
          ],
          "font": {
           "color": "#2a3f5f"
          },
          "geo": {
           "bgcolor": "white",
           "lakecolor": "white",
           "landcolor": "#E5ECF6",
           "showlakes": true,
           "showland": true,
           "subunitcolor": "white"
          },
          "hoverlabel": {
           "align": "left"
          },
          "hovermode": "closest",
          "mapbox": {
           "style": "light"
          },
          "paper_bgcolor": "white",
          "plot_bgcolor": "#E5ECF6",
          "polar": {
           "angularaxis": {
            "gridcolor": "white",
            "linecolor": "white",
            "ticks": ""
           },
           "bgcolor": "#E5ECF6",
           "radialaxis": {
            "gridcolor": "white",
            "linecolor": "white",
            "ticks": ""
           }
          },
          "scene": {
           "xaxis": {
            "backgroundcolor": "#E5ECF6",
            "gridcolor": "white",
            "gridwidth": 2,
            "linecolor": "white",
            "showbackground": true,
            "ticks": "",
            "zerolinecolor": "white"
           },
           "yaxis": {
            "backgroundcolor": "#E5ECF6",
            "gridcolor": "white",
            "gridwidth": 2,
            "linecolor": "white",
            "showbackground": true,
            "ticks": "",
            "zerolinecolor": "white"
           },
           "zaxis": {
            "backgroundcolor": "#E5ECF6",
            "gridcolor": "white",
            "gridwidth": 2,
            "linecolor": "white",
            "showbackground": true,
            "ticks": "",
            "zerolinecolor": "white"
           }
          },
          "shapedefaults": {
           "line": {
            "color": "#2a3f5f"
           }
          },
          "ternary": {
           "aaxis": {
            "gridcolor": "white",
            "linecolor": "white",
            "ticks": ""
           },
           "baxis": {
            "gridcolor": "white",
            "linecolor": "white",
            "ticks": ""
           },
           "bgcolor": "#E5ECF6",
           "caxis": {
            "gridcolor": "white",
            "linecolor": "white",
            "ticks": ""
           }
          },
          "title": {
           "x": 0.05
          },
          "xaxis": {
           "automargin": true,
           "gridcolor": "white",
           "linecolor": "white",
           "ticks": "",
           "title": {
            "standoff": 15
           },
           "zerolinecolor": "white",
           "zerolinewidth": 2
          },
          "yaxis": {
           "automargin": true,
           "gridcolor": "white",
           "linecolor": "white",
           "ticks": "",
           "title": {
            "standoff": 15
           },
           "zerolinecolor": "white",
           "zerolinewidth": 2
          }
         }
        },
        "uniformtext": {
         "mode": "hide"
        },
        "xaxis": {
         "anchor": "y",
         "domain": [
          0,
          1
         ],
         "title": {
          "text": "component_1"
         }
        },
        "yaxis": {
         "anchor": "x",
         "domain": [
          0,
          1
         ],
         "title": {
          "text": "component_2"
         }
        }
       }
      }
     },
     "metadata": {},
     "output_type": "display_data"
    }
   ],
   "source": [
    "clusters = list(cluster_assignment)\n",
    "strings = df_test[\"Original Text\"].tolist()\n",
    "labels = df_test['single_label'].tolist()\n",
    "strings = ['(True label: ' + labels[i] + ')' + strings[i] for i in range(len(labels))] \n",
    "purity_score(labels, clusters, num_clusters)\n",
    "print()\n",
    "pca_components_3d = pca_components_from_embeddings(embeddings, n_components=3)\n",
    "pca_components_2d = pca_components_from_embeddings(embeddings, n_components=2)\n",
    "  \n",
    "pcadf = pd.DataFrame(pca_components_2d, \n",
    "  columns=[\"component_1\", \"component_2\"],\n",
    ")\n",
    "pcadf[\"predicted_cluster\"] = clusters \n",
    "pcadf[\"true_label\"] = labels\n",
    "pcadf[\"Text\"] = df_test[\"Original Text\"]\n",
    "\n",
    "fig = px.scatter(pcadf, y=\"component_2\", x=\"component_1\", color=\"predicted_cluster\",\n",
    "                 symbol=\"true_label\", hover_data=[\"true_label\", \"Text\"])\n",
    "fig.update_layout(uniformtext_mode='hide')\n",
    "fig.update_layout(legend_orientation=\"h\")\n",
    "fig.show()"
   ]
  }
 ],
 "metadata": {
  "kernelspec": {
   "display_name": "Python 3.9.13 ('capstone')",
   "language": "python",
   "name": "python3"
  },
  "language_info": {
   "codemirror_mode": {
    "name": "ipython",
    "version": 3
   },
   "file_extension": ".py",
   "mimetype": "text/x-python",
   "name": "python",
   "nbconvert_exporter": "python",
   "pygments_lexer": "ipython3",
   "version": "3.9.13"
  },
  "orig_nbformat": 4,
  "vscode": {
   "interpreter": {
    "hash": "ee1a7fc9c2398deab6680f494ca0525dc0a0c65e86127a532db75e551d9f860a"
   }
  }
 },
 "nbformat": 4,
 "nbformat_minor": 2
}
