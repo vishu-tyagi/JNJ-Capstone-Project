{
  "cells": [
    {
      "cell_type": "code",
      "execution_count": null,
      "metadata": {
        "id": "laMwoAVmS0Eu"
      },
      "outputs": [
        {
          "ename": "",
          "evalue": "",
          "output_type": "error",
          "traceback": [
            "\u001b[1;31mFailed to start the Kernel. \n",
            "\u001b[1;31mUnhandled error. \n",
            "\u001b[1;31mView Jupyter <a href='command:jupyter.viewOutput'>log</a> for further details."
          ]
        }
      ],
      "source": [
        "import os\n",
        "from pathlib import Path\n",
        "import logging\n",
        "import multiprocessing\n",
        "\n",
        "import numpy as np\n",
        "import pandas as pd\n",
        "import matplotlib.pyplot as plt\n",
        "import seaborn as sns\n",
        "from sklearn.model_selection import train_test_split\n",
        "\n",
        "import torch\n",
        "import torch.nn as nn\n",
        "from torch.utils.data import (Dataset, DataLoader)\n",
        "from transformers import (\n",
        "    AutoConfig,\n",
        "    AutoTokenizer,\n",
        "    AutoModel,\n",
        "    AdamW,\n",
        "    get_linear_schedule_with_warmup\n",
        ")\n",
        "\n",
        "from capstone.config import CapstoneConfig\n",
        "from capstone.data_access import DataClass\n",
        "from capstone.features import Features\n",
        "from capstone.evaluation import CustomEvaluation\n",
        "from capstone.utils.constants import (\n",
        "    TEXT,\n",
        "    TARGET,\n",
        "    ORIGINAL_TEXT,\n",
        "    SPLIT,\n",
        "    DEVELOP,\n",
        "    TEST\n",
        ")\n",
        "\n",
        "sns.set_style(\"darkgrid\")\n",
        "PARENT_PATH = Path(os.getcwd()).parent.absolute()\n",
        "device = \"cuda\" if torch.cuda.is_available() else \"cpu\"\n",
        "\n",
        "FORMAT = \"%(asctime)s - %(name)s - %(levelname)s - %(message)s\"\n",
        "logging.basicConfig(format=FORMAT, level=logging.INFO)"
      ]
    },
    {
      "cell_type": "code",
      "execution_count": null,
      "metadata": {
        "colab": {
          "base_uri": "https://localhost:8080/",
          "height": 143
        },
        "id": "9kTNc3Kaad61",
        "outputId": "b3aceaf5-73b2-444c-9ba7-326029434549"
      },
      "outputs": [
        {
          "ename": "",
          "evalue": "",
          "output_type": "error",
          "traceback": [
            "\u001b[1;31mFailed to start the Kernel. \n",
            "\u001b[1;31mUnhandled error. \n",
            "\u001b[1;31mView Jupyter <a href='command:jupyter.viewOutput'>log</a> for further details."
          ]
        }
      ],
      "source": [
        "config = CapstoneConfig()\n",
        "config.CURRENT_PATH = PARENT_PATH\n",
        "\n",
        "data = DataClass(config)\n",
        "df = data.build()\n",
        "df.head(3)"
      ]
    },
    {
      "cell_type": "code",
      "execution_count": null,
      "metadata": {
        "colab": {
          "base_uri": "https://localhost:8080/",
          "height": 532
        },
        "id": "__HBkG7Naw1r",
        "outputId": "a52fa6e8-0774-487d-90b7-62a213737142"
      },
      "outputs": [
        {
          "ename": "",
          "evalue": "",
          "output_type": "error",
          "traceback": [
            "\u001b[1;31mFailed to start the Kernel. \n",
            "\u001b[1;31mUnhandled error. \n",
            "\u001b[1;31mView Jupyter <a href='command:jupyter.viewOutput'>log</a> for further details."
          ]
        }
      ],
      "source": [
        "features = Features(config)\n",
        "df_features = features.build(df)\n",
        "\n",
        "df_features.head(3)"
      ]
    },
    {
      "cell_type": "code",
      "execution_count": null,
      "metadata": {
        "id": "88XGmmUXbWsv"
      },
      "outputs": [
        {
          "ename": "",
          "evalue": "",
          "output_type": "error",
          "traceback": [
            "\u001b[1;31mFailed to start the Kernel. \n",
            "\u001b[1;31mUnhandled error. \n",
            "\u001b[1;31mView Jupyter <a href='command:jupyter.viewOutput'>log</a> for further details."
          ]
        }
      ],
      "source": [
        "dev = df_features[df_features[SPLIT].isin([DEVELOP])].copy()\n",
        "dev.reset_index(drop=True, inplace=True)\n",
        "Y_dev = dev[features.mlb.classes_].copy()\n",
        "\n",
        "test = df_features[df_features[SPLIT].isin([TEST])].copy()\n",
        "test.reset_index(drop=True, inplace=True)\n",
        "Y_test = test[features.mlb.classes_].copy()"
      ]
    },
    {
      "cell_type": "code",
      "execution_count": null,
      "metadata": {
        "colab": {
          "base_uri": "https://localhost:8080/",
          "height": 344
        },
        "id": "5iJfT2JRkRJJ",
        "outputId": "c908f803-eb06-4938-a96b-5ca6532405d6"
      },
      "outputs": [
        {
          "ename": "",
          "evalue": "",
          "output_type": "error",
          "traceback": [
            "\u001b[1;31mFailed to start the Kernel. \n",
            "\u001b[1;31mUnhandled error. \n",
            "\u001b[1;31mView Jupyter <a href='command:jupyter.viewOutput'>log</a> for further details."
          ]
        }
      ],
      "source": [
        "# plt.figure(figsize=(6, 3))\n",
        "fig, ax = plt.subplots(1, 2, figsize=(16, 6), constrained_layout=True)\n",
        "Y_dev.sum(axis=0).plot.bar(ax=ax[0])\n",
        "Y_test.sum(axis=0).plot.bar(ax=ax[1])\n",
        "ax[0].set_title(\"Development\")\n",
        "ax[1].set_title(\"Test\");"
      ]
    },
    {
      "cell_type": "code",
      "execution_count": null,
      "metadata": {
        "id": "SV3uyJxHLM01"
      },
      "outputs": [
        {
          "ename": "",
          "evalue": "",
          "output_type": "error",
          "traceback": [
            "\u001b[1;31mFailed to start the Kernel. \n",
            "\u001b[1;31mUnhandled error. \n",
            "\u001b[1;31mView Jupyter <a href='command:jupyter.viewOutput'>log</a> for further details."
          ]
        }
      ],
      "source": [
        "train, val, _, _ = train_test_split(\n",
        "    dev, dev[features.mlb.classes_].to_numpy(), test_size=.1, shuffle=True, random_state=64\n",
        ")\n",
        "train.reset_index(drop=True, inplace=True)\n",
        "val.reset_index(drop=True, inplace=True)\n",
        "\n",
        "Y_train = train[features.mlb.classes_].copy()\n",
        "Y_val = val[features.mlb.classes_].copy()"
      ]
    },
    {
      "cell_type": "code",
      "execution_count": null,
      "metadata": {
        "colab": {
          "base_uri": "https://localhost:8080/",
          "height": 344
        },
        "id": "vynn8c-gLROq",
        "outputId": "94e6820d-19f8-4b78-c3e7-9854eead9698"
      },
      "outputs": [
        {
          "ename": "",
          "evalue": "",
          "output_type": "error",
          "traceback": [
            "\u001b[1;31mFailed to start the Kernel. \n",
            "\u001b[1;31mUnhandled error. \n",
            "\u001b[1;31mView Jupyter <a href='command:jupyter.viewOutput'>log</a> for further details."
          ]
        }
      ],
      "source": [
        "# plt.figure(figsize=(6, 3))\n",
        "fig, ax = plt.subplots(1, 2, figsize=(16, 6), constrained_layout=True)\n",
        "Y_train.sum(axis=0).plot.bar(ax=ax[0])\n",
        "Y_val.sum(axis=0).plot.bar(ax=ax[1])\n",
        "ax[0].set_title(\"Train\") \n",
        "ax[1].set_title(\"Val\");"
      ]
    },
    {
      "cell_type": "code",
      "execution_count": null,
      "metadata": {
        "id": "m4AfpCYUay-t"
      },
      "outputs": [
        {
          "ename": "",
          "evalue": "",
          "output_type": "error",
          "traceback": [
            "\u001b[1;31mFailed to start the Kernel. \n",
            "\u001b[1;31mUnhandled error. \n",
            "\u001b[1;31mView Jupyter <a href='command:jupyter.viewOutput'>log</a> for further details."
          ]
        }
      ],
      "source": [
        "class JJDataset(Dataset):\n",
        "    def __init__(\n",
        "        self,\n",
        "        df: pd.DataFrame,\n",
        "        features: Features,\n",
        "        tokenizer: AutoTokenizer,\n",
        "        max_length: int = 128\n",
        "    ):\n",
        "        self.df = df\n",
        "        self.features = features\n",
        "        self.tokenizer = tokenizer\n",
        "        self.max_length = max_length\n",
        "\n",
        "    def __len__(self):\n",
        "        return len(self.df)\n",
        "\n",
        "    def __getitem__(self, index: int):\n",
        "        row = self.df.iloc[index]\n",
        "        text = row[ORIGINAL_TEXT]\n",
        "        target = row[self.features.mlb.classes_]\n",
        "        inputs = self.tokenizer.encode_plus(\n",
        "            text,\n",
        "            add_special_tokens=True,\n",
        "            max_length=self.max_length,\n",
        "            padding=\"max_length\",\n",
        "            truncation=True,\n",
        "            return_attention_mask=True,\n",
        "            return_token_type_ids=True,\n",
        "            return_tensors='pt'\n",
        "        )\n",
        "        return {\n",
        "            \"input_ids\": inputs[\"input_ids\"].flatten(),\n",
        "            \"attention_mask\": inputs[\"attention_mask\"].flatten(),\n",
        "            \"token_type_ids\": inputs[\"token_type_ids\"].flatten(),\n",
        "            \"target\": torch.FloatTensor(target)\n",
        "        }"
      ]
    },
    {
      "cell_type": "code",
      "execution_count": null,
      "metadata": {},
      "outputs": [
        {
          "ename": "",
          "evalue": "",
          "output_type": "error",
          "traceback": [
            "\u001b[1;31mFailed to start the Kernel. \n",
            "\u001b[1;31mUnhandled error. \n",
            "\u001b[1;31mView Jupyter <a href='command:jupyter.viewOutput'>log</a> for further details."
          ]
        }
      ],
      "source": [
        "class Model(nn.Module):\n",
        "    def __init__(self, transformer):\n",
        "        super().__init__()\n",
        "        self.l1 = transformer\n",
        "        self.l2 = nn.Dropout(0.3)\n",
        "        self.l3 = nn.Linear(self.l1.config.hidden_size, len(features.mlb.classes_))\n",
        "\n",
        "    def forward(self, input_ids, attention_mask, token_type_ids):\n",
        "        out = self.l1(input_ids, attention_mask=attention_mask, token_type_ids=token_type_ids)\n",
        "        out = self.l2(out[0][:, -1, :])\n",
        "        out = self.l3(out)\n",
        "        return out"
      ]
    },
    {
      "cell_type": "code",
      "execution_count": null,
      "metadata": {
        "id": "LsMIaBs2JGrO"
      },
      "outputs": [
        {
          "ename": "",
          "evalue": "",
          "output_type": "error",
          "traceback": [
            "\u001b[1;31mFailed to start the Kernel. \n",
            "\u001b[1;31mUnhandled error. \n",
            "\u001b[1;31mView Jupyter <a href='command:jupyter.viewOutput'>log</a> for further details."
          ]
        }
      ],
      "source": [
        "MODEL_NAME = 'gpt2-medium'\n",
        "\n",
        "tokenizer = AutoTokenizer.from_pretrained(MODEL_NAME)\n",
        "tokenizer.padding_side = \"left\"\n",
        "tokenizer.pad_token = tokenizer.eos_token\n",
        "\n",
        "transformer_config = AutoConfig.from_pretrained(pretrained_model_name_or_path=MODEL_NAME)\n",
        "transformer = AutoModel.from_pretrained(pretrained_model_name_or_path=MODEL_NAME, config=transformer_config)\n",
        "transformer.resize_token_embeddings(len(tokenizer))\n",
        "transformer.config.pad_token_id = transformer.config.eos_token_id"
      ]
    },
    {
      "cell_type": "code",
      "execution_count": null,
      "metadata": {
        "colab": {
          "base_uri": "https://localhost:8080/",
          "height": 265
        },
        "id": "9LVUzsvzcOR6",
        "outputId": "f9fb7654-6b9b-462b-b7fa-e44c77bcfd02"
      },
      "outputs": [
        {
          "ename": "",
          "evalue": "",
          "output_type": "error",
          "traceback": [
            "\u001b[1;31mFailed to start the Kernel. \n",
            "\u001b[1;31mUnhandled error. \n",
            "\u001b[1;31mView Jupyter <a href='command:jupyter.viewOutput'>log</a> for further details."
          ]
        }
      ],
      "source": [
        "plt.figure(figsize=(4,3))\n",
        "token_counts = []\n",
        "for _, row in train.iterrows():\n",
        "    tokens = tokenizer.encode(\n",
        "        row[ORIGINAL_TEXT],\n",
        "        max_length=512,\n",
        "        truncation=True\n",
        "    )\n",
        "    token_counts.append(len(tokens))\n",
        "\n",
        "sns.histplot(token_counts)\n",
        "plt.xlabel(\"# Tokens\")\n",
        "plt.ylabel(\"# Regulations\")\n",
        "plt.xlim([0, 512]);"
      ]
    },
    {
      "cell_type": "code",
      "execution_count": null,
      "metadata": {
        "id": "eiXNzlMwn2ny"
      },
      "outputs": [
        {
          "ename": "",
          "evalue": "",
          "output_type": "error",
          "traceback": [
            "\u001b[1;31mFailed to start the Kernel. \n",
            "\u001b[1;31mUnhandled error. \n",
            "\u001b[1;31mView Jupyter <a href='command:jupyter.viewOutput'>log</a> for further details."
          ]
        }
      ],
      "source": [
        "MAX_TOKEN_COUNT = 256\n",
        "TRAIN_BATCH_SIZE = 4\n",
        "VALID_BATCH_SIZE = 4\n",
        "NUM_WORKERS = 0\n",
        "\n",
        "train_dataset = JJDataset(\n",
        "    df=train,\n",
        "    features=features,\n",
        "    tokenizer=tokenizer,\n",
        "    max_length=MAX_TOKEN_COUNT\n",
        ")\n",
        "valid_dataset = JJDataset(\n",
        "    df=val,\n",
        "    features=features,\n",
        "    tokenizer=tokenizer,\n",
        "    max_length=MAX_TOKEN_COUNT\n",
        ")\n",
        "train_loader = DataLoader(train_dataset, shuffle=True, batch_size=TRAIN_BATCH_SIZE, num_workers=NUM_WORKERS)\n",
        "valid_loader = DataLoader(valid_dataset, shuffle=False, batch_size=VALID_BATCH_SIZE, num_workers=NUM_WORKERS)"
      ]
    },
    {
      "cell_type": "code",
      "execution_count": null,
      "metadata": {},
      "outputs": [
        {
          "ename": "",
          "evalue": "",
          "output_type": "error",
          "traceback": [
            "\u001b[1;31mFailed to start the Kernel. \n",
            "\u001b[1;31mUnhandled error. \n",
            "\u001b[1;31mView Jupyter <a href='command:jupyter.viewOutput'>log</a> for further details."
          ]
        }
      ],
      "source": [
        "EPOCHS = 15\n",
        "LEARNING_RATE = 5e-5\n",
        "TOTAL_STEPS = len(train_loader) * EPOCHS\n",
        "\n",
        "model = Model(transformer=transformer)\n",
        "\n",
        "criterion = nn.BCEWithLogitsLoss()\n",
        "optimizer = torch.optim.AdamW(model.parameters(), lr=LEARNING_RATE, eps=1e-8)\n",
        "scheduler = get_linear_schedule_with_warmup(optimizer, num_warmup_steps=0, num_training_steps=TOTAL_STEPS)\n",
        "\n",
        "saved_models_path = os.path.join(data.current_path, \"saved_models\")"
      ]
    },
    {
      "cell_type": "code",
      "execution_count": 14,
      "metadata": {
        "colab": {
          "base_uri": "https://localhost:8080/"
        },
        "id": "nahbgVQUWexc",
        "outputId": "3e946e02-143f-4783-fc0c-4925d94ee1ff"
      },
      "outputs": [
        {
          "name": "stdout",
          "output_type": "stream",
          "text": [
            " EPOCH:1/50 - Training Loss: 0.1804978081898898, Validation Loss: 0.13436993117305054\n",
            " EPOCH:2/50 - Training Loss: 0.12225784467216388, Validation Loss: 0.09232506125994112\n",
            " EPOCH:3/50 - Training Loss: 0.0815999687507691, Validation Loss: 0.06888677110231814\n",
            " EPOCH:4/50 - Training Loss: 0.05750787112869073, Validation Loss: 0.05852328695292617\n",
            " EPOCH:5/50 - Training Loss: 0.04282136333172603, Validation Loss: 0.0523328513667073\n",
            " EPOCH:6/50 - Training Loss: 0.03362419880049294, Validation Loss: 0.059249678682857035\n"
          ]
        },
        {
          "ename": "RuntimeError",
          "evalue": "[enforce fail at inline_container.cc:325] . unexpected pos 501927040 vs 501926932",
          "output_type": "error",
          "traceback": [
            "\u001b[0;31m---------------------------------------------------------------------------\u001b[0m",
            "\u001b[0;31mRuntimeError\u001b[0m                              Traceback (most recent call last)",
            "File \u001b[0;32m~/miniconda3/envs/capstone/lib/python3.9/site-packages/torch/serialization.py:423\u001b[0m, in \u001b[0;36msave\u001b[0;34m(obj, f, pickle_module, pickle_protocol, _use_new_zipfile_serialization)\u001b[0m\n\u001b[1;32m    422\u001b[0m \u001b[39mwith\u001b[39;00m _open_zipfile_writer(f) \u001b[39mas\u001b[39;00m opened_zipfile:\n\u001b[0;32m--> 423\u001b[0m     _save(obj, opened_zipfile, pickle_module, pickle_protocol)\n\u001b[1;32m    424\u001b[0m     \u001b[39mreturn\u001b[39;00m\n",
            "File \u001b[0;32m~/miniconda3/envs/capstone/lib/python3.9/site-packages/torch/serialization.py:650\u001b[0m, in \u001b[0;36m_save\u001b[0;34m(obj, zip_file, pickle_module, pickle_protocol)\u001b[0m\n\u001b[1;32m    649\u001b[0m num_bytes \u001b[39m=\u001b[39m storage\u001b[39m.\u001b[39mnbytes()\n\u001b[0;32m--> 650\u001b[0m zip_file\u001b[39m.\u001b[39;49mwrite_record(name, storage\u001b[39m.\u001b[39;49mdata_ptr(), num_bytes)\n",
            "\u001b[0;31mRuntimeError\u001b[0m: [enforce fail at inline_container.cc:445] . PytorchStreamWriter failed writing file data/174: file write failed",
            "\nDuring handling of the above exception, another exception occurred:\n",
            "\u001b[0;31mRuntimeError\u001b[0m                              Traceback (most recent call last)",
            "Cell \u001b[0;32mIn [14], line 71\u001b[0m\n\u001b[1;32m     69\u001b[0m state \u001b[39m=\u001b[39m \u001b[39mf\u001b[39m\u001b[39m\"\u001b[39m\u001b[39mepoch_\u001b[39m\u001b[39m{\u001b[39;00mepoch\u001b[39m+\u001b[39m\u001b[39m1\u001b[39m\u001b[39m:\u001b[39;00m\u001b[39m03\u001b[39m\u001b[39m}\u001b[39;00m\u001b[39m.pth\u001b[39m\u001b[39m\"\u001b[39m\n\u001b[1;32m     70\u001b[0m state_dict_path \u001b[39m=\u001b[39m os\u001b[39m.\u001b[39mpath\u001b[39m.\u001b[39mjoin(saved_models_path, state)\n\u001b[0;32m---> 71\u001b[0m torch\u001b[39m.\u001b[39;49msave(model\u001b[39m.\u001b[39;49mstate_dict(), state_dict_path)\n",
            "File \u001b[0;32m~/miniconda3/envs/capstone/lib/python3.9/site-packages/torch/serialization.py:424\u001b[0m, in \u001b[0;36msave\u001b[0;34m(obj, f, pickle_module, pickle_protocol, _use_new_zipfile_serialization)\u001b[0m\n\u001b[1;32m    422\u001b[0m     \u001b[39mwith\u001b[39;00m _open_zipfile_writer(f) \u001b[39mas\u001b[39;00m opened_zipfile:\n\u001b[1;32m    423\u001b[0m         _save(obj, opened_zipfile, pickle_module, pickle_protocol)\n\u001b[0;32m--> 424\u001b[0m         \u001b[39mreturn\u001b[39;00m\n\u001b[1;32m    425\u001b[0m \u001b[39melse\u001b[39;00m:\n\u001b[1;32m    426\u001b[0m     \u001b[39mwith\u001b[39;00m _open_file_like(f, \u001b[39m'\u001b[39m\u001b[39mwb\u001b[39m\u001b[39m'\u001b[39m) \u001b[39mas\u001b[39;00m opened_file:\n",
            "File \u001b[0;32m~/miniconda3/envs/capstone/lib/python3.9/site-packages/torch/serialization.py:290\u001b[0m, in \u001b[0;36m_open_zipfile_writer_file.__exit__\u001b[0;34m(self, *args)\u001b[0m\n\u001b[1;32m    289\u001b[0m \u001b[39mdef\u001b[39;00m \u001b[39m__exit__\u001b[39m(\u001b[39mself\u001b[39m, \u001b[39m*\u001b[39margs) \u001b[39m-\u001b[39m\u001b[39m>\u001b[39m \u001b[39mNone\u001b[39;00m:\n\u001b[0;32m--> 290\u001b[0m     \u001b[39mself\u001b[39;49m\u001b[39m.\u001b[39;49mfile_like\u001b[39m.\u001b[39;49mwrite_end_of_file()\n",
            "\u001b[0;31mRuntimeError\u001b[0m: [enforce fail at inline_container.cc:325] . unexpected pos 501927040 vs 501926932"
          ]
        },
        {
          "ename": "",
          "evalue": "",
          "output_type": "error",
          "traceback": [
            "\u001b[1;31mThe Kernel crashed while executing code in the the current cell or a previous cell. Please review the code in the cell(s) to identify a possible cause of the failure. Click <a href='https://aka.ms/vscodeJupyterKernelCrash'>here</a> for more info. View Jupyter <a href='command:jupyter.viewOutput'>log</a> for further details."
          ]
        }
      ],
      "source": [
        "# Move model to device\n",
        "model.to(device)\n",
        "# Lists to keep the losses and evaluation scores at the end of each epoch\n",
        "train_loss, valid_loss = list(), list()\n",
        "for epoch in range(EPOCHS):\n",
        "    # Dummy lists to keep the losses and evaluation scores at the end of each iteration\n",
        "    # (one batch forward and backward process)\n",
        "    train_batch_loss, valid_batch_loss = list(), list()\n",
        "    # Training mode\n",
        "    model.train()\n",
        "    for i, item in enumerate(train_loader):\n",
        "        # Move input to device\n",
        "        input_ids = item[\"input_ids\"].to(device, dtype=torch.long)\n",
        "        attention_mask = item[\"attention_mask\"].to(device, dtype=torch.long)\n",
        "        token_type_ids = item[\"token_type_ids\"].to(device, dtype=torch.long)\n",
        "        target = item[\"target\"].to(device, dtype=torch.float)\n",
        "        # Forward pass\n",
        "        out = model(input_ids, attention_mask, token_type_ids)\n",
        "        # Calculate loss\n",
        "        loss = criterion(out, target)\n",
        "        # Reset gradients\n",
        "        optimizer.zero_grad()\n",
        "        # Backward pass (backpropogation)\n",
        "        loss.backward()\n",
        "        # Prevent exploding gradients\n",
        "        nn.utils.clip_grad_norm_(model.parameters(), 1.0)\n",
        "        # Update weights\n",
        "        optimizer.step()\n",
        "        # Scheduler step\n",
        "        scheduler.step()\n",
        "        # Collect loss and evaluation scores\n",
        "        train_batch_loss.append(loss.item())\n",
        "        message = \\\n",
        "            f\"EPOCH:{epoch+1}/{EPOCHS}, \" + \\\n",
        "            f\"step:{i+1}/{len(train_loader)}, \" + \\\n",
        "            f\"loss={loss.item()}\"\n",
        "        print(\"\\r\", message, end=\"\")\n",
        "    # Take the average of iteration losses and evaluation scores\n",
        "    # and append it to the epoch losses list\n",
        "    train_loss.append(np.array(train_batch_loss).mean())\n",
        "    # Evaluation mode\n",
        "    model.eval()\n",
        "    with torch.no_grad():\n",
        "        for i, item in enumerate(valid_loader):\n",
        "            # Move input to device\n",
        "            input_ids = item[\"input_ids\"].to(device, dtype=torch.long)\n",
        "            attention_mask = item[\"attention_mask\"].to(device, dtype=torch.long)\n",
        "            token_type_ids = item[\"token_type_ids\"].to(device, dtype=torch.long)\n",
        "            target = item[\"target\"].to(device, dtype=torch.float)\n",
        "            # Forward pass\n",
        "            out = model(input_ids, attention_mask, token_type_ids)\n",
        "            # Calculate loss\n",
        "            loss = criterion(out, target)\n",
        "            valid_batch_loss.append(loss.item())\n",
        "            message = \\\n",
        "                f\"EPOCH:{epoch+1}/{EPOCHS}, \" + \\\n",
        "                f\"step:{i+1}/{len(valid_loader)}, \" + \\\n",
        "                f\"loss={loss.item()}\"\n",
        "            print(\"\\r\", message, end=\"\")\n",
        "    # Take the average of iteration losses and evaluation scores\n",
        "    # and append it to the epoch losses list\n",
        "    valid_loss.append(np.array(valid_batch_loss).mean())\n",
        "    message = \\\n",
        "        f\"EPOCH:{epoch+1}/{EPOCHS} - \" + \\\n",
        "        f\"Training Loss: {train_loss[-1]}, \" + \\\n",
        "        f\"Validation Loss: {valid_loss[-1]}\"\n",
        "    print(\"\\r\", message)\n",
        "    # Save model\n",
        "    state = f\"epoch_{epoch+1:03}.pth\"\n",
        "    state_dict_path = os.path.join(saved_models_path, state)\n",
        "    torch.save(model.state_dict(), state_dict_path)\n"
      ]
    },
    {
      "cell_type": "code",
      "execution_count": 17,
      "metadata": {
        "colab": {
          "base_uri": "https://localhost:8080/"
        },
        "id": "8uJ6kV7L-8ET",
        "outputId": "a88caf2f-f0e7-4b8e-da66-b2f1663e3af7"
      },
      "outputs": [
        {
          "name": "stdout",
          "output_type": "stream",
          "text": [
            "Best epoch: 8\n"
          ]
        }
      ],
      "source": [
        "best_epoch = np.argmin(valid_loss) + 1\n",
        "print(f\"Best epoch: {best_epoch}\")\n",
        "state = f\"epoch_{best_epoch:03}.pth\"\n",
        "state_dict_path = os.path.join(saved_models_path, state)\n",
        "state_dict = torch.load(state_dict_path)\n",
        "model.load_state_dict(state_dict)\n",
        "model.to(device)\n",
        "model.eval();"
      ]
    },
    {
      "cell_type": "code",
      "execution_count": 18,
      "metadata": {
        "colab": {
          "base_uri": "https://localhost:8080/",
          "height": 404
        },
        "id": "APhYJdy98go-",
        "outputId": "c08cc664-1167-4c19-bb5d-3d8bf9f27f34"
      },
      "outputs": [
        {
          "ename": "ValueError",
          "evalue": "x and y must have same first dimension, but have shapes (30,) and (10,)",
          "output_type": "error",
          "traceback": [
            "\u001b[0;31m---------------------------------------------------------------------------\u001b[0m",
            "\u001b[0;31mValueError\u001b[0m                                Traceback (most recent call last)",
            "Cell \u001b[0;32mIn [18], line 2\u001b[0m\n\u001b[1;32m      1\u001b[0m fig \u001b[39m=\u001b[39m plt\u001b[39m.\u001b[39mfigure(figsize\u001b[39m=\u001b[39m(\u001b[39m8\u001b[39m, \u001b[39m6\u001b[39m))\n\u001b[0;32m----> 2\u001b[0m plt\u001b[39m.\u001b[39;49mplot(\u001b[39mrange\u001b[39;49m(\u001b[39m1\u001b[39;49m, EPOCHS\u001b[39m+\u001b[39;49m\u001b[39m1\u001b[39;49m), train_loss, label\u001b[39m=\u001b[39;49m\u001b[39m\"\u001b[39;49m\u001b[39mTrain Loss\u001b[39;49m\u001b[39m\"\u001b[39;49m, color\u001b[39m=\u001b[39;49m\u001b[39m\"\u001b[39;49m\u001b[39morange\u001b[39;49m\u001b[39m\"\u001b[39;49m)\n\u001b[1;32m      3\u001b[0m plt\u001b[39m.\u001b[39mplot(\u001b[39mrange\u001b[39m(\u001b[39m1\u001b[39m, EPOCHS\u001b[39m+\u001b[39m\u001b[39m1\u001b[39m), valid_loss, label\u001b[39m=\u001b[39m\u001b[39m\"\u001b[39m\u001b[39mValidation Loss\u001b[39m\u001b[39m\"\u001b[39m, color\u001b[39m=\u001b[39m\u001b[39m\"\u001b[39m\u001b[39mblue\u001b[39m\u001b[39m\"\u001b[39m)\n\u001b[1;32m      4\u001b[0m plt\u001b[39m.\u001b[39maxvline(x\u001b[39m=\u001b[39mbest_epoch, label\u001b[39m=\u001b[39m\u001b[39m\"\u001b[39m\u001b[39mBest Epoch\u001b[39m\u001b[39m\"\u001b[39m, color\u001b[39m=\u001b[39m\u001b[39m\"\u001b[39m\u001b[39mdarkgreen\u001b[39m\u001b[39m\"\u001b[39m, linestyle\u001b[39m=\u001b[39m\u001b[39m\"\u001b[39m\u001b[39mdashdot\u001b[39m\u001b[39m\"\u001b[39m)\n",
            "File \u001b[0;32m~/miniconda3/envs/capstone/lib/python3.9/site-packages/matplotlib/pyplot.py:2767\u001b[0m, in \u001b[0;36mplot\u001b[0;34m(scalex, scaley, data, *args, **kwargs)\u001b[0m\n\u001b[1;32m   2765\u001b[0m \u001b[39m@_copy_docstring_and_deprecators\u001b[39m(Axes\u001b[39m.\u001b[39mplot)\n\u001b[1;32m   2766\u001b[0m \u001b[39mdef\u001b[39;00m \u001b[39mplot\u001b[39m(\u001b[39m*\u001b[39margs, scalex\u001b[39m=\u001b[39m\u001b[39mTrue\u001b[39;00m, scaley\u001b[39m=\u001b[39m\u001b[39mTrue\u001b[39;00m, data\u001b[39m=\u001b[39m\u001b[39mNone\u001b[39;00m, \u001b[39m*\u001b[39m\u001b[39m*\u001b[39mkwargs):\n\u001b[0;32m-> 2767\u001b[0m     \u001b[39mreturn\u001b[39;00m gca()\u001b[39m.\u001b[39;49mplot(\n\u001b[1;32m   2768\u001b[0m         \u001b[39m*\u001b[39;49margs, scalex\u001b[39m=\u001b[39;49mscalex, scaley\u001b[39m=\u001b[39;49mscaley,\n\u001b[1;32m   2769\u001b[0m         \u001b[39m*\u001b[39;49m\u001b[39m*\u001b[39;49m({\u001b[39m\"\u001b[39;49m\u001b[39mdata\u001b[39;49m\u001b[39m\"\u001b[39;49m: data} \u001b[39mif\u001b[39;49;00m data \u001b[39mis\u001b[39;49;00m \u001b[39mnot\u001b[39;49;00m \u001b[39mNone\u001b[39;49;00m \u001b[39melse\u001b[39;49;00m {}), \u001b[39m*\u001b[39;49m\u001b[39m*\u001b[39;49mkwargs)\n",
            "File \u001b[0;32m~/miniconda3/envs/capstone/lib/python3.9/site-packages/matplotlib/axes/_axes.py:1635\u001b[0m, in \u001b[0;36mAxes.plot\u001b[0;34m(self, scalex, scaley, data, *args, **kwargs)\u001b[0m\n\u001b[1;32m   1393\u001b[0m \u001b[39m\"\"\"\u001b[39;00m\n\u001b[1;32m   1394\u001b[0m \u001b[39mPlot y versus x as lines and/or markers.\u001b[39;00m\n\u001b[1;32m   1395\u001b[0m \n\u001b[0;32m   (...)\u001b[0m\n\u001b[1;32m   1632\u001b[0m \u001b[39m(``'green'``) or hex strings (``'#008000'``).\u001b[39;00m\n\u001b[1;32m   1633\u001b[0m \u001b[39m\"\"\"\u001b[39;00m\n\u001b[1;32m   1634\u001b[0m kwargs \u001b[39m=\u001b[39m cbook\u001b[39m.\u001b[39mnormalize_kwargs(kwargs, mlines\u001b[39m.\u001b[39mLine2D)\n\u001b[0;32m-> 1635\u001b[0m lines \u001b[39m=\u001b[39m [\u001b[39m*\u001b[39m\u001b[39mself\u001b[39m\u001b[39m.\u001b[39m_get_lines(\u001b[39m*\u001b[39margs, data\u001b[39m=\u001b[39mdata, \u001b[39m*\u001b[39m\u001b[39m*\u001b[39mkwargs)]\n\u001b[1;32m   1636\u001b[0m \u001b[39mfor\u001b[39;00m line \u001b[39min\u001b[39;00m lines:\n\u001b[1;32m   1637\u001b[0m     \u001b[39mself\u001b[39m\u001b[39m.\u001b[39madd_line(line)\n",
            "File \u001b[0;32m~/miniconda3/envs/capstone/lib/python3.9/site-packages/matplotlib/axes/_base.py:312\u001b[0m, in \u001b[0;36m_process_plot_var_args.__call__\u001b[0;34m(self, data, *args, **kwargs)\u001b[0m\n\u001b[1;32m    310\u001b[0m     this \u001b[39m+\u001b[39m\u001b[39m=\u001b[39m args[\u001b[39m0\u001b[39m],\n\u001b[1;32m    311\u001b[0m     args \u001b[39m=\u001b[39m args[\u001b[39m1\u001b[39m:]\n\u001b[0;32m--> 312\u001b[0m \u001b[39myield from\u001b[39;00m \u001b[39mself\u001b[39;49m\u001b[39m.\u001b[39;49m_plot_args(this, kwargs)\n",
            "File \u001b[0;32m~/miniconda3/envs/capstone/lib/python3.9/site-packages/matplotlib/axes/_base.py:498\u001b[0m, in \u001b[0;36m_process_plot_var_args._plot_args\u001b[0;34m(self, tup, kwargs, return_kwargs)\u001b[0m\n\u001b[1;32m    495\u001b[0m     \u001b[39mself\u001b[39m\u001b[39m.\u001b[39maxes\u001b[39m.\u001b[39myaxis\u001b[39m.\u001b[39mupdate_units(y)\n\u001b[1;32m    497\u001b[0m \u001b[39mif\u001b[39;00m x\u001b[39m.\u001b[39mshape[\u001b[39m0\u001b[39m] \u001b[39m!=\u001b[39m y\u001b[39m.\u001b[39mshape[\u001b[39m0\u001b[39m]:\n\u001b[0;32m--> 498\u001b[0m     \u001b[39mraise\u001b[39;00m \u001b[39mValueError\u001b[39;00m(\u001b[39mf\u001b[39m\u001b[39m\"\u001b[39m\u001b[39mx and y must have same first dimension, but \u001b[39m\u001b[39m\"\u001b[39m\n\u001b[1;32m    499\u001b[0m                      \u001b[39mf\u001b[39m\u001b[39m\"\u001b[39m\u001b[39mhave shapes \u001b[39m\u001b[39m{\u001b[39;00mx\u001b[39m.\u001b[39mshape\u001b[39m}\u001b[39;00m\u001b[39m and \u001b[39m\u001b[39m{\u001b[39;00my\u001b[39m.\u001b[39mshape\u001b[39m}\u001b[39;00m\u001b[39m\"\u001b[39m)\n\u001b[1;32m    500\u001b[0m \u001b[39mif\u001b[39;00m x\u001b[39m.\u001b[39mndim \u001b[39m>\u001b[39m \u001b[39m2\u001b[39m \u001b[39mor\u001b[39;00m y\u001b[39m.\u001b[39mndim \u001b[39m>\u001b[39m \u001b[39m2\u001b[39m:\n\u001b[1;32m    501\u001b[0m     \u001b[39mraise\u001b[39;00m \u001b[39mValueError\u001b[39;00m(\u001b[39mf\u001b[39m\u001b[39m\"\u001b[39m\u001b[39mx and y can be no greater than 2D, but have \u001b[39m\u001b[39m\"\u001b[39m\n\u001b[1;32m    502\u001b[0m                      \u001b[39mf\u001b[39m\u001b[39m\"\u001b[39m\u001b[39mshapes \u001b[39m\u001b[39m{\u001b[39;00mx\u001b[39m.\u001b[39mshape\u001b[39m}\u001b[39;00m\u001b[39m and \u001b[39m\u001b[39m{\u001b[39;00my\u001b[39m.\u001b[39mshape\u001b[39m}\u001b[39;00m\u001b[39m\"\u001b[39m)\n",
            "\u001b[0;31mValueError\u001b[0m: x and y must have same first dimension, but have shapes (30,) and (10,)"
          ]
        },
        {
          "data": {
            "image/png": "[encoded data removed]",
            "text/plain": [
              "<Figure size 800x600 with 1 Axes>"
            ]
          },
          "metadata": {},
          "output_type": "display_data"
        }
      ],
      "source": [
        "fig = plt.figure(figsize=(8, 6))\n",
        "plt.plot(range(1, EPOCHS+1), train_loss, label=\"Train Loss\", color=\"orange\")\n",
        "plt.plot(range(1, EPOCHS+1), valid_loss, label=\"Validation Loss\", color=\"blue\")\n",
        "plt.axvline(x=best_epoch, label=\"Best Epoch\", color=\"darkgreen\", linestyle=\"dashdot\")\n",
        "plt.xlabel(\"Epoch\")\n",
        "plt.ylabel(f\"Loss\")\n",
        "plt.title(f\"Best Epoch: {best_epoch}\")\n",
        "plt.legend(loc=\"upper right\");"
      ]
    },
    {
      "cell_type": "code",
      "execution_count": 20,
      "metadata": {
        "id": "4HQdzIGgGTod"
      },
      "outputs": [],
      "source": [
        "valid_dataset = JJDataset(\n",
        "    df=val,\n",
        "    features=features,\n",
        "    tokenizer=tokenizer,\n",
        "    max_length=MAX_TOKEN_COUNT\n",
        ")\n",
        "\n",
        "valid_loader = DataLoader(valid_dataset, shuffle=False, batch_size=1, num_workers=NUM_WORKERS)\n",
        "\n",
        "y_true = []\n",
        "y_pred_probab = []\n",
        "\n",
        "with torch.no_grad():\n",
        "    for i, item in enumerate(valid_loader):\n",
        "        input_ids = item[\"input_ids\"].to(device, dtype=torch.long)\n",
        "        attention_mask = item[\"attention_mask\"].to(device, dtype=torch.long)\n",
        "        token_type_ids = item[\"token_type_ids\"].to(device, dtype=torch.long)\n",
        "        target = item[\"target\"].to(device, dtype=torch.float)\n",
        "\n",
        "        out = model(input_ids, attention_mask, token_type_ids)\n",
        "        out = torch.sigmoid(out)\n",
        "\n",
        "        y_true.append(target.to(\"cpu\").numpy().reshape(-1,))\n",
        "        y_pred_probab.append(out.to(\"cpu\").numpy().reshape(-1,))"
      ]
    },
    {
      "cell_type": "code",
      "execution_count": 21,
      "metadata": {
        "id": "DRcGexlBDJKl"
      },
      "outputs": [],
      "source": [
        "y_true_val = np.array(y_true).astype(int)\n",
        "y_pred_probab_val = np.array(y_pred_probab)"
      ]
    },
    {
      "cell_type": "code",
      "execution_count": 22,
      "metadata": {
        "id": "BzAx1OHAJB1d"
      },
      "outputs": [],
      "source": [
        "eval = CustomEvaluation()"
      ]
    },
    {
      "cell_type": "code",
      "execution_count": 23,
      "metadata": {
        "id": "ikQ0ClaOCtmO"
      },
      "outputs": [],
      "source": [
        "thresholds = eval.threshold_discovery(y_true_val, y_pred_probab_val)"
      ]
    },
    {
      "cell_type": "code",
      "execution_count": 24,
      "metadata": {
        "colab": {
          "base_uri": "https://localhost:8080/"
        },
        "id": "r14216kzDKI1",
        "outputId": "f75ef1b6-a508-4b41-b14b-df1f61d3bbf6"
      },
      "outputs": [
        {
          "data": {
            "text/plain": [
              "Hamming Loss    0.014783\n",
              "Accuracy        0.643478\n",
              "Precision       0.818371\n",
              "Recall          0.861643\n",
              "F1 Score        0.818312\n",
              "F2 Score        0.837113\n",
              "dtype: float64"
            ]
          },
          "execution_count": 24,
          "metadata": {},
          "output_type": "execute_result"
        }
      ],
      "source": [
        "y_pred_val = np.where(y_pred_probab_val > thresholds, 1, 0)\n",
        "\n",
        "eval.compute_sample_wise_metrics(y_true=y_true_val, y_pred=y_pred_val)"
      ]
    },
    {
      "cell_type": "code",
      "execution_count": 25,
      "metadata": {},
      "outputs": [
        {
          "data": {
            "text/plain": [
              "Hamming Loss    0.015217\n",
              "Accuracy        0.657971\n",
              "Precision       0.809213\n",
              "Recall          0.772995\n",
              "F1 Score        0.776293\n",
              "F2 Score        0.771464\n",
              "dtype: float64"
            ]
          },
          "execution_count": 25,
          "metadata": {},
          "output_type": "execute_result"
        }
      ],
      "source": [
        "eval.compute_sample_wise_metrics(y_true=y_true_val, y_pred=np.where(y_pred_probab_val > .5, 1, 0))"
      ]
    },
    {
      "cell_type": "code",
      "execution_count": 26,
      "metadata": {
        "id": "QcvmuQlkD5yQ"
      },
      "outputs": [],
      "source": [
        "test_dataset = JJDataset(\n",
        "    df=test,\n",
        "    features=features,\n",
        "    tokenizer=tokenizer,\n",
        "    max_length=MAX_TOKEN_COUNT\n",
        ")\n",
        "\n",
        "test_loader = DataLoader(test_dataset, shuffle=False, batch_size=1, num_workers=NUM_WORKERS)\n",
        "\n",
        "y_true = []\n",
        "y_pred_probab = []\n",
        "\n",
        "with torch.no_grad():\n",
        "    for i, item in enumerate(test_loader):\n",
        "        input_ids = item[\"input_ids\"].to(device, dtype=torch.long)\n",
        "        attention_mask = item[\"attention_mask\"].to(device, dtype=torch.long)\n",
        "        token_type_ids = item[\"token_type_ids\"].to(device, dtype=torch.long)\n",
        "        target = item[\"target\"].to(device, dtype=torch.float)\n",
        "\n",
        "        out = model(input_ids, attention_mask, token_type_ids)\n",
        "        out = torch.sigmoid(out)\n",
        "\n",
        "        y_true.append(target.to(\"cpu\").numpy().reshape(-1,))\n",
        "        y_pred_probab.append(out.to(\"cpu\").numpy().reshape(-1,))"
      ]
    },
    {
      "cell_type": "code",
      "execution_count": 27,
      "metadata": {
        "id": "OlptVK4NEBHx"
      },
      "outputs": [],
      "source": [
        "y_true_test = np.array(y_true).astype(int)\n",
        "y_pred_probab_test = np.array(y_pred_probab)\n",
        "y_pred_test = np.where(y_pred_probab_test > thresholds, 1, 0)"
      ]
    },
    {
      "cell_type": "code",
      "execution_count": 28,
      "metadata": {
        "colab": {
          "base_uri": "https://localhost:8080/"
        },
        "id": "51pi0Zzldlwy",
        "outputId": "3278d0ba-d4a3-4017-b753-762785610c1d"
      },
      "outputs": [
        {
          "data": {
            "text/plain": [
              "Hamming Loss    0.017839\n",
              "Accuracy        0.601562\n",
              "Precision       0.786285\n",
              "Recall          0.852378\n",
              "F1 Score        0.791794\n",
              "F2 Score        0.818155\n",
              "dtype: float64"
            ]
          },
          "execution_count": 28,
          "metadata": {},
          "output_type": "execute_result"
        }
      ],
      "source": [
        "eval.compute_sample_wise_metrics(y_true=y_true_test, y_pred=y_pred_test)"
      ]
    },
    {
      "cell_type": "code",
      "execution_count": 29,
      "metadata": {},
      "outputs": [
        {
          "data": {
            "text/plain": [
              "Hamming Loss    0.014583\n",
              "Accuracy        0.671875\n",
              "Precision       0.812500\n",
              "Recall          0.803029\n",
              "F1 Score        0.790828\n",
              "F2 Score        0.793571\n",
              "dtype: float64"
            ]
          },
          "execution_count": 29,
          "metadata": {},
          "output_type": "execute_result"
        }
      ],
      "source": [
        "eval.compute_sample_wise_metrics(y_true=y_true_test, y_pred=np.where(y_pred_probab_test > .5, 1, 0))"
      ]
    },
    {
      "cell_type": "code",
      "execution_count": 28,
      "metadata": {
        "colab": {
          "base_uri": "https://localhost:8080/",
          "height": 1000
        },
        "id": "kmSA88W489J-",
        "outputId": "5476949d-d9e4-45b3-c207-70274a0e718d"
      },
      "outputs": [
        {
          "data": {
            "text/html": [
              "\n",
              "  <div id=\"df-81c05216-3ce4-4f9f-95fc-07b500e8e169\">\n",
              "    <div class=\"colab-df-container\">\n",
              "      <div>\n",
              "<style scoped>\n",
              "    .dataframe tbody tr th:only-of-type {\n",
              "        vertical-align: middle;\n",
              "    }\n",
              "\n",
              "    .dataframe tbody tr th {\n",
              "        vertical-align: top;\n",
              "    }\n",
              "\n",
              "    .dataframe thead th {\n",
              "        text-align: right;\n",
              "    }\n",
              "</style>\n",
              "<table border=\"1\" class=\"dataframe\">\n",
              "  <thead>\n",
              "    <tr style=\"text-align: right;\">\n",
              "      <th></th>\n",
              "      <th>Precision</th>\n",
              "      <th>Recall</th>\n",
              "      <th>F1 Score</th>\n",
              "      <th>F2 Score</th>\n",
              "      <th>Development Samples</th>\n",
              "      <th>Test Samples</th>\n",
              "    </tr>\n",
              "  </thead>\n",
              "  <tbody>\n",
              "    <tr>\n",
              "      <th>audit inspection</th>\n",
              "      <td>0.800000</td>\n",
              "      <td>0.888889</td>\n",
              "      <td>0.842105</td>\n",
              "      <td>0.869565</td>\n",
              "      <td>86</td>\n",
              "      <td>9</td>\n",
              "    </tr>\n",
              "    <tr>\n",
              "      <th>calibration</th>\n",
              "      <td>0.800000</td>\n",
              "      <td>0.666667</td>\n",
              "      <td>0.727273</td>\n",
              "      <td>0.689655</td>\n",
              "      <td>78</td>\n",
              "      <td>6</td>\n",
              "    </tr>\n",
              "    <tr>\n",
              "      <th>capa</th>\n",
              "      <td>0.760000</td>\n",
              "      <td>0.950000</td>\n",
              "      <td>0.844444</td>\n",
              "      <td>0.904762</td>\n",
              "      <td>202</td>\n",
              "      <td>20</td>\n",
              "    </tr>\n",
              "    <tr>\n",
              "      <th>change controls</th>\n",
              "      <td>0.666667</td>\n",
              "      <td>0.888889</td>\n",
              "      <td>0.761905</td>\n",
              "      <td>0.833333</td>\n",
              "      <td>71</td>\n",
              "      <td>9</td>\n",
              "    </tr>\n",
              "    <tr>\n",
              "      <th>clinical research</th>\n",
              "      <td>0.931034</td>\n",
              "      <td>0.931034</td>\n",
              "      <td>0.931034</td>\n",
              "      <td>0.931034</td>\n",
              "      <td>269</td>\n",
              "      <td>29</td>\n",
              "    </tr>\n",
              "    <tr>\n",
              "      <th>controled substances</th>\n",
              "      <td>1.000000</td>\n",
              "      <td>0.833333</td>\n",
              "      <td>0.909091</td>\n",
              "      <td>0.862069</td>\n",
              "      <td>40</td>\n",
              "      <td>6</td>\n",
              "    </tr>\n",
              "    <tr>\n",
              "      <th>csv</th>\n",
              "      <td>0.250000</td>\n",
              "      <td>0.333333</td>\n",
              "      <td>0.285714</td>\n",
              "      <td>0.312500</td>\n",
              "      <td>37</td>\n",
              "      <td>3</td>\n",
              "    </tr>\n",
              "    <tr>\n",
              "      <th>data management</th>\n",
              "      <td>0.722222</td>\n",
              "      <td>1.000000</td>\n",
              "      <td>0.838710</td>\n",
              "      <td>0.928571</td>\n",
              "      <td>150</td>\n",
              "      <td>13</td>\n",
              "    </tr>\n",
              "    <tr>\n",
              "      <th>design controls</th>\n",
              "      <td>0.692308</td>\n",
              "      <td>0.818182</td>\n",
              "      <td>0.750000</td>\n",
              "      <td>0.789474</td>\n",
              "      <td>132</td>\n",
              "      <td>11</td>\n",
              "    </tr>\n",
              "    <tr>\n",
              "      <th>documentation management</th>\n",
              "      <td>0.833333</td>\n",
              "      <td>0.769231</td>\n",
              "      <td>0.800000</td>\n",
              "      <td>0.781250</td>\n",
              "      <td>117</td>\n",
              "      <td>13</td>\n",
              "    </tr>\n",
              "    <tr>\n",
              "      <th>facilities</th>\n",
              "      <td>0.884615</td>\n",
              "      <td>0.884615</td>\n",
              "      <td>0.884615</td>\n",
              "      <td>0.884615</td>\n",
              "      <td>244</td>\n",
              "      <td>26</td>\n",
              "    </tr>\n",
              "    <tr>\n",
              "      <th>handling</th>\n",
              "      <td>0.777778</td>\n",
              "      <td>0.583333</td>\n",
              "      <td>0.666667</td>\n",
              "      <td>0.614035</td>\n",
              "      <td>99</td>\n",
              "      <td>12</td>\n",
              "    </tr>\n",
              "    <tr>\n",
              "      <th>identification and traceability</th>\n",
              "      <td>1.000000</td>\n",
              "      <td>0.400000</td>\n",
              "      <td>0.571429</td>\n",
              "      <td>0.454545</td>\n",
              "      <td>30</td>\n",
              "      <td>5</td>\n",
              "    </tr>\n",
              "    <tr>\n",
              "      <th>labeling and packaging operations</th>\n",
              "      <td>0.742857</td>\n",
              "      <td>1.000000</td>\n",
              "      <td>0.852459</td>\n",
              "      <td>0.935252</td>\n",
              "      <td>223</td>\n",
              "      <td>26</td>\n",
              "    </tr>\n",
              "    <tr>\n",
              "      <th>laboratory controls</th>\n",
              "      <td>0.571429</td>\n",
              "      <td>0.857143</td>\n",
              "      <td>0.685714</td>\n",
              "      <td>0.779221</td>\n",
              "      <td>143</td>\n",
              "      <td>14</td>\n",
              "    </tr>\n",
              "    <tr>\n",
              "      <th>material and product controls</th>\n",
              "      <td>0.730769</td>\n",
              "      <td>0.826087</td>\n",
              "      <td>0.775510</td>\n",
              "      <td>0.805085</td>\n",
              "      <td>195</td>\n",
              "      <td>23</td>\n",
              "    </tr>\n",
              "    <tr>\n",
              "      <th>md product cybersecurity</th>\n",
              "      <td>1.000000</td>\n",
              "      <td>0.750000</td>\n",
              "      <td>0.857143</td>\n",
              "      <td>0.789474</td>\n",
              "      <td>37</td>\n",
              "      <td>4</td>\n",
              "    </tr>\n",
              "    <tr>\n",
              "      <th>medical device post market surveillance</th>\n",
              "      <td>0.857143</td>\n",
              "      <td>0.857143</td>\n",
              "      <td>0.857143</td>\n",
              "      <td>0.857143</td>\n",
              "      <td>61</td>\n",
              "      <td>7</td>\n",
              "    </tr>\n",
              "    <tr>\n",
              "      <th>nc</th>\n",
              "      <td>0.791667</td>\n",
              "      <td>0.950000</td>\n",
              "      <td>0.863636</td>\n",
              "      <td>0.913462</td>\n",
              "      <td>202</td>\n",
              "      <td>20</td>\n",
              "    </tr>\n",
              "    <tr>\n",
              "      <th>new product quality planning</th>\n",
              "      <td>1.000000</td>\n",
              "      <td>1.000000</td>\n",
              "      <td>1.000000</td>\n",
              "      <td>1.000000</td>\n",
              "      <td>53</td>\n",
              "      <td>2</td>\n",
              "    </tr>\n",
              "    <tr>\n",
              "      <th>non clinical research</th>\n",
              "      <td>0.947368</td>\n",
              "      <td>1.000000</td>\n",
              "      <td>0.972973</td>\n",
              "      <td>0.989011</td>\n",
              "      <td>177</td>\n",
              "      <td>18</td>\n",
              "    </tr>\n",
              "    <tr>\n",
              "      <th>packaging operations</th>\n",
              "      <td>0.000000</td>\n",
              "      <td>0.000000</td>\n",
              "      <td>0.000000</td>\n",
              "      <td>0.000000</td>\n",
              "      <td>59</td>\n",
              "      <td>5</td>\n",
              "    </tr>\n",
              "    <tr>\n",
              "      <th>process &amp; packaging validation</th>\n",
              "      <td>0.625000</td>\n",
              "      <td>0.714286</td>\n",
              "      <td>0.666667</td>\n",
              "      <td>0.694444</td>\n",
              "      <td>88</td>\n",
              "      <td>7</td>\n",
              "    </tr>\n",
              "    <tr>\n",
              "      <th>product returns</th>\n",
              "      <td>1.000000</td>\n",
              "      <td>0.500000</td>\n",
              "      <td>0.666667</td>\n",
              "      <td>0.555556</td>\n",
              "      <td>55</td>\n",
              "      <td>6</td>\n",
              "    </tr>\n",
              "    <tr>\n",
              "      <th>production process controls</th>\n",
              "      <td>0.888889</td>\n",
              "      <td>0.786885</td>\n",
              "      <td>0.834783</td>\n",
              "      <td>0.805369</td>\n",
              "      <td>441</td>\n",
              "      <td>61</td>\n",
              "    </tr>\n",
              "    <tr>\n",
              "      <th>purchasing controls</th>\n",
              "      <td>0.875000</td>\n",
              "      <td>0.875000</td>\n",
              "      <td>0.875000</td>\n",
              "      <td>0.875000</td>\n",
              "      <td>176</td>\n",
              "      <td>16</td>\n",
              "    </tr>\n",
              "    <tr>\n",
              "      <th>qrb</th>\n",
              "      <td>1.000000</td>\n",
              "      <td>1.000000</td>\n",
              "      <td>1.000000</td>\n",
              "      <td>1.000000</td>\n",
              "      <td>64</td>\n",
              "      <td>6</td>\n",
              "    </tr>\n",
              "    <tr>\n",
              "      <th>qsmr</th>\n",
              "      <td>0.800000</td>\n",
              "      <td>0.800000</td>\n",
              "      <td>0.800000</td>\n",
              "      <td>0.800000</td>\n",
              "      <td>33</td>\n",
              "      <td>5</td>\n",
              "    </tr>\n",
              "    <tr>\n",
              "      <th>quality management</th>\n",
              "      <td>0.760000</td>\n",
              "      <td>0.950000</td>\n",
              "      <td>0.844444</td>\n",
              "      <td>0.904762</td>\n",
              "      <td>173</td>\n",
              "      <td>20</td>\n",
              "    </tr>\n",
              "    <tr>\n",
              "      <th>quality planning</th>\n",
              "      <td>0.333333</td>\n",
              "      <td>1.000000</td>\n",
              "      <td>0.500000</td>\n",
              "      <td>0.714286</td>\n",
              "      <td>59</td>\n",
              "      <td>3</td>\n",
              "    </tr>\n",
              "    <tr>\n",
              "      <th>rca</th>\n",
              "      <td>0.791667</td>\n",
              "      <td>0.950000</td>\n",
              "      <td>0.863636</td>\n",
              "      <td>0.913462</td>\n",
              "      <td>202</td>\n",
              "      <td>20</td>\n",
              "    </tr>\n",
              "    <tr>\n",
              "      <th>risk management</th>\n",
              "      <td>0.583333</td>\n",
              "      <td>0.608696</td>\n",
              "      <td>0.595745</td>\n",
              "      <td>0.603448</td>\n",
              "      <td>180</td>\n",
              "      <td>23</td>\n",
              "    </tr>\n",
              "    <tr>\n",
              "      <th>samd</th>\n",
              "      <td>0.428571</td>\n",
              "      <td>0.666667</td>\n",
              "      <td>0.521739</td>\n",
              "      <td>0.600000</td>\n",
              "      <td>75</td>\n",
              "      <td>9</td>\n",
              "    </tr>\n",
              "    <tr>\n",
              "      <th>stability programs</th>\n",
              "      <td>0.846154</td>\n",
              "      <td>1.000000</td>\n",
              "      <td>0.916667</td>\n",
              "      <td>0.964912</td>\n",
              "      <td>113</td>\n",
              "      <td>11</td>\n",
              "    </tr>\n",
              "    <tr>\n",
              "      <th>storage and distribution</th>\n",
              "      <td>0.777778</td>\n",
              "      <td>0.583333</td>\n",
              "      <td>0.666667</td>\n",
              "      <td>0.614035</td>\n",
              "      <td>99</td>\n",
              "      <td>12</td>\n",
              "    </tr>\n",
              "    <tr>\n",
              "      <th>training</th>\n",
              "      <td>0.823529</td>\n",
              "      <td>0.823529</td>\n",
              "      <td>0.823529</td>\n",
              "      <td>0.823529</td>\n",
              "      <td>100</td>\n",
              "      <td>17</td>\n",
              "    </tr>\n",
              "    <tr>\n",
              "      <th>udi and serialization</th>\n",
              "      <td>0.777778</td>\n",
              "      <td>0.700000</td>\n",
              "      <td>0.736842</td>\n",
              "      <td>0.714286</td>\n",
              "      <td>80</td>\n",
              "      <td>10</td>\n",
              "    </tr>\n",
              "    <tr>\n",
              "      <th>utilities and equipment</th>\n",
              "      <td>0.884615</td>\n",
              "      <td>0.884615</td>\n",
              "      <td>0.884615</td>\n",
              "      <td>0.884615</td>\n",
              "      <td>244</td>\n",
              "      <td>26</td>\n",
              "    </tr>\n",
              "    <tr>\n",
              "      <th>vigilance</th>\n",
              "      <td>0.700000</td>\n",
              "      <td>1.000000</td>\n",
              "      <td>0.823529</td>\n",
              "      <td>0.921053</td>\n",
              "      <td>71</td>\n",
              "      <td>7</td>\n",
              "    </tr>\n",
              "    <tr>\n",
              "      <th>vmp</th>\n",
              "      <td>0.750000</td>\n",
              "      <td>1.000000</td>\n",
              "      <td>0.857143</td>\n",
              "      <td>0.937500</td>\n",
              "      <td>48</td>\n",
              "      <td>9</td>\n",
              "    </tr>\n",
              "  </tbody>\n",
              "</table>\n",
              "</div>\n",
              "      <button class=\"colab-df-convert\" onclick=\"convertToInteractive('df-81c05216-3ce4-4f9f-95fc-07b500e8e169')\"\n",
              "              title=\"Convert this dataframe to an interactive table.\"\n",
              "              style=\"display:none;\">\n",
              "        \n",
              "  <svg xmlns=\"http://www.w3.org/2000/svg\" height=\"24px\"viewBox=\"0 0 24 24\"\n",
              "       width=\"24px\">\n",
              "    <path d=\"M0 0h24v24H0V0z\" fill=\"none\"/>\n",
              "    <path d=\"M18.56 5.44l.94 2.06.94-2.06 2.06-.94-2.06-.94-.94-2.06-.94 2.06-2.06.94zm-11 1L8.5 8.5l.94-2.06 2.06-.94-2.06-.94L8.5 2.5l-.94 2.06-2.06.94zm10 10l.94 2.06.94-2.06 2.06-.94-2.06-.94-.94-2.06-.94 2.06-2.06.94z\"/><path d=\"M17.41 7.96l-1.37-1.37c-.4-.4-.92-.59-1.43-.59-.52 0-1.04.2-1.43.59L10.3 9.45l-7.72 7.72c-.78.78-.78 2.05 0 2.83L4 21.41c.39.39.9.59 1.41.59.51 0 1.02-.2 1.41-.59l7.78-7.78 2.81-2.81c.8-.78.8-2.07 0-2.86zM5.41 20L4 18.59l7.72-7.72 1.47 1.35L5.41 20z\"/>\n",
              "  </svg>\n",
              "      </button>\n",
              "      \n",
              "  <style>\n",
              "    .colab-df-container {\n",
              "      display:flex;\n",
              "      flex-wrap:wrap;\n",
              "      gap: 12px;\n",
              "    }\n",
              "\n",
              "    .colab-df-convert {\n",
              "      background-color: #E8F0FE;\n",
              "      border: none;\n",
              "      border-radius: 50%;\n",
              "      cursor: pointer;\n",
              "      display: none;\n",
              "      fill: #1967D2;\n",
              "      height: 32px;\n",
              "      padding: 0 0 0 0;\n",
              "      width: 32px;\n",
              "    }\n",
              "\n",
              "    .colab-df-convert:hover {\n",
              "      background-color: #E2EBFA;\n",
              "      box-shadow: 0px 1px 2px rgba(60, 64, 67, 0.3), 0px 1px 3px 1px rgba(60, 64, 67, 0.15);\n",
              "      fill: #174EA6;\n",
              "    }\n",
              "\n",
              "    [theme=dark] .colab-df-convert {\n",
              "      background-color: #3B4455;\n",
              "      fill: #D2E3FC;\n",
              "    }\n",
              "\n",
              "    [theme=dark] .colab-df-convert:hover {\n",
              "      background-color: #434B5C;\n",
              "      box-shadow: 0px 1px 3px 1px rgba(0, 0, 0, 0.15);\n",
              "      filter: drop-shadow(0px 1px 2px rgba(0, 0, 0, 0.3));\n",
              "      fill: #FFFFFF;\n",
              "    }\n",
              "  </style>\n",
              "\n",
              "      <script>\n",
              "        const buttonEl =\n",
              "          document.querySelector('#df-81c05216-3ce4-4f9f-95fc-07b500e8e169 button.colab-df-convert');\n",
              "        buttonEl.style.display =\n",
              "          google.colab.kernel.accessAllowed ? 'block' : 'none';\n",
              "\n",
              "        async function convertToInteractive(key) {\n",
              "          const element = document.querySelector('#df-81c05216-3ce4-4f9f-95fc-07b500e8e169');\n",
              "          const dataTable =\n",
              "            await google.colab.kernel.invokeFunction('convertToInteractive',\n",
              "                                                     [key], {});\n",
              "          if (!dataTable) return;\n",
              "\n",
              "          const docLinkHtml = 'Like what you see? Visit the ' +\n",
              "            '<a target=\"_blank\" href=https://colab.research.google.com/notebooks/data_table.ipynb>data table notebook</a>'\n",
              "            + ' to learn more about interactive tables.';\n",
              "          element.innerHTML = '';\n",
              "          dataTable['output_type'] = 'display_data';\n",
              "          await google.colab.output.renderOutput(dataTable, element);\n",
              "          const docLink = document.createElement('div');\n",
              "          docLink.innerHTML = docLinkHtml;\n",
              "          element.appendChild(docLink);\n",
              "        }\n",
              "      </script>\n",
              "    </div>\n",
              "  </div>\n",
              "  "
            ],
            "text/plain": [
              "                                         Precision    Recall  F1 Score  \\\n",
              "audit inspection                          0.800000  0.888889  0.842105   \n",
              "calibration                               0.800000  0.666667  0.727273   \n",
              "capa                                      0.760000  0.950000  0.844444   \n",
              "change controls                           0.666667  0.888889  0.761905   \n",
              "clinical research                         0.931034  0.931034  0.931034   \n",
              "controled substances                      1.000000  0.833333  0.909091   \n",
              "csv                                       0.250000  0.333333  0.285714   \n",
              "data management                           0.722222  1.000000  0.838710   \n",
              "design controls                           0.692308  0.818182  0.750000   \n",
              "documentation management                  0.833333  0.769231  0.800000   \n",
              "facilities                                0.884615  0.884615  0.884615   \n",
              "handling                                  0.777778  0.583333  0.666667   \n",
              "identification and traceability           1.000000  0.400000  0.571429   \n",
              "labeling and packaging operations         0.742857  1.000000  0.852459   \n",
              "laboratory controls                       0.571429  0.857143  0.685714   \n",
              "material and product controls             0.730769  0.826087  0.775510   \n",
              "md product cybersecurity                  1.000000  0.750000  0.857143   \n",
              "medical device post market surveillance   0.857143  0.857143  0.857143   \n",
              "nc                                        0.791667  0.950000  0.863636   \n",
              "new product quality planning              1.000000  1.000000  1.000000   \n",
              "non clinical research                     0.947368  1.000000  0.972973   \n",
              "packaging operations                      0.000000  0.000000  0.000000   \n",
              "process & packaging validation            0.625000  0.714286  0.666667   \n",
              "product returns                           1.000000  0.500000  0.666667   \n",
              "production process controls               0.888889  0.786885  0.834783   \n",
              "purchasing controls                       0.875000  0.875000  0.875000   \n",
              "qrb                                       1.000000  1.000000  1.000000   \n",
              "qsmr                                      0.800000  0.800000  0.800000   \n",
              "quality management                        0.760000  0.950000  0.844444   \n",
              "quality planning                          0.333333  1.000000  0.500000   \n",
              "rca                                       0.791667  0.950000  0.863636   \n",
              "risk management                           0.583333  0.608696  0.595745   \n",
              "samd                                      0.428571  0.666667  0.521739   \n",
              "stability programs                        0.846154  1.000000  0.916667   \n",
              "storage and distribution                  0.777778  0.583333  0.666667   \n",
              "training                                  0.823529  0.823529  0.823529   \n",
              "udi and serialization                     0.777778  0.700000  0.736842   \n",
              "utilities and equipment                   0.884615  0.884615  0.884615   \n",
              "vigilance                                 0.700000  1.000000  0.823529   \n",
              "vmp                                       0.750000  1.000000  0.857143   \n",
              "\n",
              "                                         F2 Score  Development Samples  \\\n",
              "audit inspection                         0.869565                   86   \n",
              "calibration                              0.689655                   78   \n",
              "capa                                     0.904762                  202   \n",
              "change controls                          0.833333                   71   \n",
              "clinical research                        0.931034                  269   \n",
              "controled substances                     0.862069                   40   \n",
              "csv                                      0.312500                   37   \n",
              "data management                          0.928571                  150   \n",
              "design controls                          0.789474                  132   \n",
              "documentation management                 0.781250                  117   \n",
              "facilities                               0.884615                  244   \n",
              "handling                                 0.614035                   99   \n",
              "identification and traceability          0.454545                   30   \n",
              "labeling and packaging operations        0.935252                  223   \n",
              "laboratory controls                      0.779221                  143   \n",
              "material and product controls            0.805085                  195   \n",
              "md product cybersecurity                 0.789474                   37   \n",
              "medical device post market surveillance  0.857143                   61   \n",
              "nc                                       0.913462                  202   \n",
              "new product quality planning             1.000000                   53   \n",
              "non clinical research                    0.989011                  177   \n",
              "packaging operations                     0.000000                   59   \n",
              "process & packaging validation           0.694444                   88   \n",
              "product returns                          0.555556                   55   \n",
              "production process controls              0.805369                  441   \n",
              "purchasing controls                      0.875000                  176   \n",
              "qrb                                      1.000000                   64   \n",
              "qsmr                                     0.800000                   33   \n",
              "quality management                       0.904762                  173   \n",
              "quality planning                         0.714286                   59   \n",
              "rca                                      0.913462                  202   \n",
              "risk management                          0.603448                  180   \n",
              "samd                                     0.600000                   75   \n",
              "stability programs                       0.964912                  113   \n",
              "storage and distribution                 0.614035                   99   \n",
              "training                                 0.823529                  100   \n",
              "udi and serialization                    0.714286                   80   \n",
              "utilities and equipment                  0.884615                  244   \n",
              "vigilance                                0.921053                   71   \n",
              "vmp                                      0.937500                   48   \n",
              "\n",
              "                                         Test Samples  \n",
              "audit inspection                                    9  \n",
              "calibration                                         6  \n",
              "capa                                               20  \n",
              "change controls                                     9  \n",
              "clinical research                                  29  \n",
              "controled substances                                6  \n",
              "csv                                                 3  \n",
              "data management                                    13  \n",
              "design controls                                    11  \n",
              "documentation management                           13  \n",
              "facilities                                         26  \n",
              "handling                                           12  \n",
              "identification and traceability                     5  \n",
              "labeling and packaging operations                  26  \n",
              "laboratory controls                                14  \n",
              "material and product controls                      23  \n",
              "md product cybersecurity                            4  \n",
              "medical device post market surveillance             7  \n",
              "nc                                                 20  \n",
              "new product quality planning                        2  \n",
              "non clinical research                              18  \n",
              "packaging operations                                5  \n",
              "process & packaging validation                      7  \n",
              "product returns                                     6  \n",
              "production process controls                        61  \n",
              "purchasing controls                                16  \n",
              "qrb                                                 6  \n",
              "qsmr                                                5  \n",
              "quality management                                 20  \n",
              "quality planning                                    3  \n",
              "rca                                                20  \n",
              "risk management                                    23  \n",
              "samd                                                9  \n",
              "stability programs                                 11  \n",
              "storage and distribution                           12  \n",
              "training                                           17  \n",
              "udi and serialization                              10  \n",
              "utilities and equipment                            26  \n",
              "vigilance                                           7  \n",
              "vmp                                                 9  "
            ]
          },
          "execution_count": 28,
          "metadata": {},
          "output_type": "execute_result"
        }
      ],
      "source": [
        "eval.compute_label_wise_metrics(\n",
        "    y_true=y_true_test,\n",
        "    y_pred=y_pred_test,\n",
        "    labels=features.mlb.classes_,\n",
        "    dev_samples=Y_dev.to_numpy().sum(axis=0).tolist()\n",
        ")"
      ]
    },
    {
      "cell_type": "code",
      "execution_count": 28,
      "metadata": {
        "id": "oJbB0f6EsC6i"
      },
      "outputs": [],
      "source": []
    }
  ],
  "metadata": {
    "accelerator": "GPU",
    "colab": {
      "collapsed_sections": [],
      "provenance": []
    },
    "gpuClass": "standard",
    "kernelspec": {
      "display_name": "Python 3 (ipykernel)",
      "language": "python",
      "name": "python3"
    },
    "language_info": {
      "codemirror_mode": {
        "name": "ipython",
        "version": 3
      },
      "file_extension": ".py",
      "mimetype": "text/x-python",
      "name": "python",
      "nbconvert_exporter": "python",
      "pygments_lexer": "ipython3",
      "version": "3.9.13"
    }
  },
  "nbformat": 4,
  "nbformat_minor": 0
}
