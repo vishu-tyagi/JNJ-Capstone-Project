{
 "cells": [
  {
   "cell_type": "code",
   "execution_count": 2,
   "metadata": {},
   "outputs": [],
   "source": [
    "import os\n",
    "from pathlib import Path\n",
    "PARENT_PATH = Path(os.getcwd()).parent.absolute()\n",
    "\n",
    "from capstone.config import CapstoneConfig\n",
    "from capstone.data_access import DataClass"
   ]
  },
  {
   "cell_type": "code",
   "execution_count": 3,
   "metadata": {},
   "outputs": [],
   "source": [
    "config = CapstoneConfig()\n",
    "config.CURRENT_PATH = PARENT_PATH\n",
    "\n",
    "data = DataClass(config)"
   ]
  },
  {
   "cell_type": "code",
   "execution_count": 5,
   "metadata": {},
   "outputs": [],
   "source": [
    "import pandas as pd\n",
    "df = pd.read_excel(os.path.join(data.data_path, \"Regulatory Requirements.xlsx\"))"
   ]
  },
  {
   "cell_type": "code",
   "execution_count": 6,
   "metadata": {},
   "outputs": [
    {
     "data": {
      "text/html": [
       "<div>\n",
       "<style scoped>\n",
       "    .dataframe tbody tr th:only-of-type {\n",
       "        vertical-align: middle;\n",
       "    }\n",
       "\n",
       "    .dataframe tbody tr th {\n",
       "        vertical-align: top;\n",
       "    }\n",
       "\n",
       "    .dataframe thead th {\n",
       "        text-align: right;\n",
       "    }\n",
       "</style>\n",
       "<table border=\"1\" class=\"dataframe\">\n",
       "  <thead>\n",
       "    <tr style=\"text-align: right;\">\n",
       "      <th></th>\n",
       "      <th>Unnamed: 0</th>\n",
       "      <th>Unnamed: 1</th>\n",
       "      <th>Unnamed: 2</th>\n",
       "    </tr>\n",
       "  </thead>\n",
       "  <tbody>\n",
       "    <tr>\n",
       "      <th>0</th>\n",
       "      <td>NaN</td>\n",
       "      <td>NaN</td>\n",
       "      <td>NaN</td>\n",
       "    </tr>\n",
       "    <tr>\n",
       "      <th>1</th>\n",
       "      <td>Count of id</td>\n",
       "      <td>Column Labels</td>\n",
       "      <td>NaN</td>\n",
       "    </tr>\n",
       "    <tr>\n",
       "      <th>2</th>\n",
       "      <td>Row Labels</td>\n",
       "      <td>Mapped to a standard</td>\n",
       "      <td>No mapping</td>\n",
       "    </tr>\n",
       "    <tr>\n",
       "      <th>3</th>\n",
       "      <td>Production Process Controls</td>\n",
       "      <td>389</td>\n",
       "      <td>NaN</td>\n",
       "    </tr>\n",
       "    <tr>\n",
       "      <th>4</th>\n",
       "      <td>Clinical Research</td>\n",
       "      <td>257</td>\n",
       "      <td>NaN</td>\n",
       "    </tr>\n",
       "    <tr>\n",
       "      <th>...</th>\n",
       "      <td>...</td>\n",
       "      <td>...</td>\n",
       "      <td>...</td>\n",
       "    </tr>\n",
       "    <tr>\n",
       "      <th>354</th>\n",
       "      <td>Quality Planning, \\nChange Control, \\nMaterial...</td>\n",
       "      <td>1</td>\n",
       "      <td>NaN</td>\n",
       "    </tr>\n",
       "    <tr>\n",
       "      <th>355</th>\n",
       "      <td>Quality Planning, \\nChange Control, \\nMaterial...</td>\n",
       "      <td>1</td>\n",
       "      <td>NaN</td>\n",
       "    </tr>\n",
       "    <tr>\n",
       "      <th>356</th>\n",
       "      <td>Quality Planning, \\nClinical Research</td>\n",
       "      <td>1</td>\n",
       "      <td>NaN</td>\n",
       "    </tr>\n",
       "    <tr>\n",
       "      <th>357</th>\n",
       "      <td>(blank)</td>\n",
       "      <td>NaN</td>\n",
       "      <td>6326</td>\n",
       "    </tr>\n",
       "    <tr>\n",
       "      <th>358</th>\n",
       "      <td>Grand Total</td>\n",
       "      <td>3906</td>\n",
       "      <td>6326</td>\n",
       "    </tr>\n",
       "  </tbody>\n",
       "</table>\n",
       "<p>359 rows × 3 columns</p>\n",
       "</div>"
      ],
      "text/plain": [
       "                                            Unnamed: 0            Unnamed: 1  \\\n",
       "0                                                  NaN                   NaN   \n",
       "1                                          Count of id         Column Labels   \n",
       "2                                           Row Labels  Mapped to a standard   \n",
       "3                          Production Process Controls                   389   \n",
       "4                                    Clinical Research                   257   \n",
       "..                                                 ...                   ...   \n",
       "354  Quality Planning, \\nChange Control, \\nMaterial...                     1   \n",
       "355  Quality Planning, \\nChange Control, \\nMaterial...                     1   \n",
       "356              Quality Planning, \\nClinical Research                     1   \n",
       "357                                            (blank)                   NaN   \n",
       "358                                        Grand Total                  3906   \n",
       "\n",
       "     Unnamed: 2  \n",
       "0           NaN  \n",
       "1           NaN  \n",
       "2    No mapping  \n",
       "3           NaN  \n",
       "4           NaN  \n",
       "..          ...  \n",
       "354         NaN  \n",
       "355         NaN  \n",
       "356         NaN  \n",
       "357        6326  \n",
       "358        6326  \n",
       "\n",
       "[359 rows x 3 columns]"
      ]
     },
     "execution_count": 6,
     "metadata": {},
     "output_type": "execute_result"
    }
   ],
   "source": [
    "df"
   ]
  }
 ],
 "metadata": {
  "kernelspec": {
   "display_name": "Python 3.9.13 ('capstone')",
   "language": "python",
   "name": "python3"
  },
  "language_info": {
   "codemirror_mode": {
    "name": "ipython",
    "version": 3
   },
   "file_extension": ".py",
   "mimetype": "text/x-python",
   "name": "python",
   "nbconvert_exporter": "python",
   "pygments_lexer": "ipython3",
   "version": "3.9.13"
  },
  "orig_nbformat": 4,
  "vscode": {
   "interpreter": {
    "hash": "ee1a7fc9c2398deab6680f494ca0525dc0a0c65e86127a532db75e551d9f860a"
   }
  }
 },
 "nbformat": 4,
 "nbformat_minor": 2
}
