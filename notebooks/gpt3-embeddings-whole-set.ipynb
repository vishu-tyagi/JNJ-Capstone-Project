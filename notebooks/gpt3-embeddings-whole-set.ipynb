{
 "cells": [
  {
   "cell_type": "code",
   "execution_count": 17,
   "metadata": {},
   "outputs": [
    {
     "name": "stdout",
     "output_type": "stream",
     "text": [
      "The autoreload extension is already loaded. To reload it, use:\n",
      "  %reload_ext autoreload\n"
     ]
    }
   ],
   "source": [
    "%load_ext autoreload\n",
    "%autoreload 2"
   ]
  },
  {
   "cell_type": "code",
   "execution_count": 18,
   "metadata": {},
   "outputs": [],
   "source": [
    "import os\n",
    "import random\n",
    "from pathlib import Path\n",
    "import logging\n",
    "from tqdm import tqdm\n",
    "\n",
    "import pprint\n",
    "import hdbscan\n",
    "import numpy as np\n",
    "import pandas as pd\n",
    "import matplotlib.pyplot as plt\n",
    "import seaborn as sns\n",
    "import plotly.express as px\n",
    "from sklearn.cluster import KMeans\n",
    "from sklearn.manifold import TSNE\n",
    "\n",
    "from capstone.config import CapstoneConfig\n",
    "from capstone.data_access import DataClass\n",
    "from capstone.features import Features\n",
    "from capstone.evaluation import CustomEvaluation\n",
    "from capstone.utils.constants import (\n",
    "    TEXT,\n",
    "    TARGET,\n",
    "    ORIGINAL_TEXT,\n",
    "    SPLIT,\n",
    "    DEVELOP,\n",
    "    TEST,\n",
    "    PREDICTION,\n",
    "    SAVED_MODELS,\n",
    "    CLUSTER,\n",
    "    REDUCED_DIMS,\n",
    "    TARGET_NUMERIC\n",
    ")\n",
    "\n",
    "pp = pprint.PrettyPrinter(depth=4)\n",
    "sns.set_style(\"darkgrid\")\n",
    "PARENT_PATH = Path(os.getcwd()).parent.absolute()\n",
    "FORMAT = \"%(asctime)s - %(name)s - %(levelname)s - %(message)s\"\n",
    "logging.basicConfig(format=FORMAT, level=logging.INFO)\n",
    "\n",
    "seed = 666\n",
    "random.seed(seed)\n",
    "np.random.seed(seed);"
   ]
  },
  {
   "cell_type": "markdown",
   "metadata": {},
   "source": [
    "Load data"
   ]
  },
  {
   "cell_type": "code",
   "execution_count": 19,
   "metadata": {},
   "outputs": [
    {
     "data": {
      "text/html": [
       "<div>\n",
       "<style scoped>\n",
       "    .dataframe tbody tr th:only-of-type {\n",
       "        vertical-align: middle;\n",
       "    }\n",
       "\n",
       "    .dataframe tbody tr th {\n",
       "        vertical-align: top;\n",
       "    }\n",
       "\n",
       "    .dataframe thead th {\n",
       "        text-align: right;\n",
       "    }\n",
       "</style>\n",
       "<table border=\"1\" class=\"dataframe\">\n",
       "  <thead>\n",
       "    <tr style=\"text-align: right;\">\n",
       "      <th></th>\n",
       "      <th>Text</th>\n",
       "      <th>Standard mapping?</th>\n",
       "    </tr>\n",
       "  </thead>\n",
       "  <tbody>\n",
       "    <tr>\n",
       "      <th>0</th>\n",
       "      <td>General Quality System Requirements […] Manage...</td>\n",
       "      <td>[quality management, quality planning]</td>\n",
       "    </tr>\n",
       "    <tr>\n",
       "      <th>1</th>\n",
       "      <td>General Quality System Requirements […] Manage...</td>\n",
       "      <td>[quality management]</td>\n",
       "    </tr>\n",
       "    <tr>\n",
       "      <th>2</th>\n",
       "      <td>General Quality System Requirements […] Manage...</td>\n",
       "      <td>[quality management]</td>\n",
       "    </tr>\n",
       "  </tbody>\n",
       "</table>\n",
       "</div>"
      ],
      "text/plain": [
       "                                                Text  \\\n",
       "0  General Quality System Requirements […] Manage...   \n",
       "1  General Quality System Requirements […] Manage...   \n",
       "2  General Quality System Requirements […] Manage...   \n",
       "\n",
       "                        Standard mapping?  \n",
       "0  [quality management, quality planning]  \n",
       "1                    [quality management]  \n",
       "2                    [quality management]  "
      ]
     },
     "execution_count": 19,
     "metadata": {},
     "output_type": "execute_result"
    }
   ],
   "source": [
    "config = CapstoneConfig()\n",
    "config.CURRENT_PATH = PARENT_PATH\n",
    "\n",
    "data = DataClass(config)\n",
    "df = data.build()\n",
    "df.head(3)"
   ]
  },
  {
   "cell_type": "code",
   "execution_count": 20,
   "metadata": {},
   "outputs": [
    {
     "name": "stderr",
     "output_type": "stream",
     "text": [
      "2022-12-16 16:39:32,574 - capstone.utils.utils - INFO - func:clean took: 1.83 sec\n",
      "2022-12-16 16:39:33,180 - capstone.utils.utils - INFO - func:fit took: 2.44 sec\n",
      "2022-12-16 16:39:34,971 - capstone.utils.utils - INFO - func:clean took: 1.79 sec\n",
      "2022-12-16 16:39:35,251 - capstone.utils.utils - INFO - func:transform took: 2.07 sec\n",
      "2022-12-16 16:39:35,252 - capstone.utils.utils - INFO - func:fit_transform took: 4.51 sec\n",
      "2022-12-16 16:39:35,483 - capstone.utils.utils - INFO - func:clean took: 0.23 sec\n",
      "2022-12-16 16:39:35,519 - capstone.utils.utils - INFO - func:transform took: 0.27 sec\n",
      "2022-12-16 16:39:35,552 - capstone.utils.utils - INFO - func:build took: 4.83 sec\n"
     ]
    },
    {
     "data": {
      "text/html": [
       "<div>\n",
       "<style scoped>\n",
       "    .dataframe tbody tr th:only-of-type {\n",
       "        vertical-align: middle;\n",
       "    }\n",
       "\n",
       "    .dataframe tbody tr th {\n",
       "        vertical-align: top;\n",
       "    }\n",
       "\n",
       "    .dataframe thead th {\n",
       "        text-align: right;\n",
       "    }\n",
       "</style>\n",
       "<table border=\"1\" class=\"dataframe\">\n",
       "  <thead>\n",
       "    <tr style=\"text-align: right;\">\n",
       "      <th></th>\n",
       "      <th>Text</th>\n",
       "      <th>Standard mapping?</th>\n",
       "      <th>Original Text</th>\n",
       "      <th>audit inspection</th>\n",
       "      <th>calibration</th>\n",
       "      <th>capa</th>\n",
       "      <th>change controls</th>\n",
       "      <th>clinical research</th>\n",
       "      <th>controled substances</th>\n",
       "      <th>csv</th>\n",
       "      <th>...</th>\n",
       "      <th>word__unit generally</th>\n",
       "      <th>word__unit generally shared</th>\n",
       "      <th>word__use device</th>\n",
       "      <th>word__used manufacture</th>\n",
       "      <th>word__used production</th>\n",
       "      <th>word__validation study</th>\n",
       "      <th>word__way ensures</th>\n",
       "      <th>word__wholesale distributor</th>\n",
       "      <th>word__written procedure</th>\n",
       "      <th>Split</th>\n",
       "    </tr>\n",
       "  </thead>\n",
       "  <tbody>\n",
       "    <tr>\n",
       "      <th>0</th>\n",
       "      <td>good practice quality control qc responsibilit...</td>\n",
       "      <td>[laboratory controls, stability programs]</td>\n",
       "      <td>Good practices in quality control […] Other QC...</td>\n",
       "      <td>0</td>\n",
       "      <td>0</td>\n",
       "      <td>0</td>\n",
       "      <td>0</td>\n",
       "      <td>0</td>\n",
       "      <td>0</td>\n",
       "      <td>0</td>\n",
       "      <td>...</td>\n",
       "      <td>0.0</td>\n",
       "      <td>0.0</td>\n",
       "      <td>0.0</td>\n",
       "      <td>0.0</td>\n",
       "      <td>0.0</td>\n",
       "      <td>0.000000</td>\n",
       "      <td>0.0</td>\n",
       "      <td>0.0</td>\n",
       "      <td>0.439675</td>\n",
       "      <td>Development</td>\n",
       "    </tr>\n",
       "    <tr>\n",
       "      <th>1</th>\n",
       "      <td>good practice quality control basic requiremen...</td>\n",
       "      <td>[capa, nc, rca]</td>\n",
       "      <td>Good practices in quality control […] The basi...</td>\n",
       "      <td>0</td>\n",
       "      <td>0</td>\n",
       "      <td>1</td>\n",
       "      <td>0</td>\n",
       "      <td>0</td>\n",
       "      <td>0</td>\n",
       "      <td>0</td>\n",
       "      <td>...</td>\n",
       "      <td>0.0</td>\n",
       "      <td>0.0</td>\n",
       "      <td>0.0</td>\n",
       "      <td>0.0</td>\n",
       "      <td>0.0</td>\n",
       "      <td>0.000000</td>\n",
       "      <td>0.0</td>\n",
       "      <td>0.0</td>\n",
       "      <td>0.000000</td>\n",
       "      <td>Development</td>\n",
       "    </tr>\n",
       "    <tr>\n",
       "      <th>2</th>\n",
       "      <td>validation process validation program critical...</td>\n",
       "      <td>[process &amp; packaging validation]</td>\n",
       "      <td>Validation […] Process Validation Program […] ...</td>\n",
       "      <td>0</td>\n",
       "      <td>0</td>\n",
       "      <td>0</td>\n",
       "      <td>0</td>\n",
       "      <td>0</td>\n",
       "      <td>0</td>\n",
       "      <td>0</td>\n",
       "      <td>...</td>\n",
       "      <td>0.0</td>\n",
       "      <td>0.0</td>\n",
       "      <td>0.0</td>\n",
       "      <td>0.0</td>\n",
       "      <td>0.0</td>\n",
       "      <td>0.285952</td>\n",
       "      <td>0.0</td>\n",
       "      <td>0.0</td>\n",
       "      <td>0.000000</td>\n",
       "      <td>Development</td>\n",
       "    </tr>\n",
       "  </tbody>\n",
       "</table>\n",
       "<p>3 rows × 551 columns</p>\n",
       "</div>"
      ],
      "text/plain": [
       "                                                Text  \\\n",
       "0  good practice quality control qc responsibilit...   \n",
       "1  good practice quality control basic requiremen...   \n",
       "2  validation process validation program critical...   \n",
       "\n",
       "                           Standard mapping?  \\\n",
       "0  [laboratory controls, stability programs]   \n",
       "1                            [capa, nc, rca]   \n",
       "2           [process & packaging validation]   \n",
       "\n",
       "                                       Original Text  audit inspection  \\\n",
       "0  Good practices in quality control […] Other QC...                 0   \n",
       "1  Good practices in quality control […] The basi...                 0   \n",
       "2  Validation […] Process Validation Program […] ...                 0   \n",
       "\n",
       "   calibration  capa  change controls  clinical research  \\\n",
       "0            0     0                0                  0   \n",
       "1            0     1                0                  0   \n",
       "2            0     0                0                  0   \n",
       "\n",
       "   controled substances  csv  ...  word__unit generally  \\\n",
       "0                     0    0  ...                   0.0   \n",
       "1                     0    0  ...                   0.0   \n",
       "2                     0    0  ...                   0.0   \n",
       "\n",
       "   word__unit generally shared  word__use device  word__used manufacture  \\\n",
       "0                          0.0               0.0                     0.0   \n",
       "1                          0.0               0.0                     0.0   \n",
       "2                          0.0               0.0                     0.0   \n",
       "\n",
       "   word__used production  word__validation study  word__way ensures  \\\n",
       "0                    0.0                0.000000                0.0   \n",
       "1                    0.0                0.000000                0.0   \n",
       "2                    0.0                0.285952                0.0   \n",
       "\n",
       "   word__wholesale distributor  word__written procedure        Split  \n",
       "0                          0.0                 0.439675  Development  \n",
       "1                          0.0                 0.000000  Development  \n",
       "2                          0.0                 0.000000  Development  \n",
       "\n",
       "[3 rows x 551 columns]"
      ]
     },
     "execution_count": 20,
     "metadata": {},
     "output_type": "execute_result"
    }
   ],
   "source": [
    "features = Features(config)\n",
    "df_features = features.build(df)\n",
    "\n",
    "df_features.head(3)"
   ]
  },
  {
   "cell_type": "code",
   "execution_count": 21,
   "metadata": {},
   "outputs": [],
   "source": [
    "# Reduce to test dataset\n",
    "# df_features = df_features[df_features[SPLIT].isin([TEST])]\n",
    "# Reduce to single-topic regulations\n",
    "df_features = df_features[df_features[TARGET].apply(lambda x: len(x)) == 1].copy()\n",
    "df_features.reset_index(drop=True, inplace=True)"
   ]
  },
  {
   "cell_type": "code",
   "execution_count": 22,
   "metadata": {},
   "outputs": [],
   "source": [
    "# Custom evaluation class\n",
    "eval = CustomEvaluation()"
   ]
  },
  {
   "cell_type": "markdown",
   "metadata": {},
   "source": [
    "Topics to choose from for clustering\n",
    "\n",
    "We want to remove those topics having count less than some threshold"
   ]
  },
  {
   "cell_type": "code",
   "execution_count": 23,
   "metadata": {},
   "outputs": [
    {
     "data": {
      "text/plain": [
       "production process controls                388\n",
       "clinical research                          257\n",
       "labeling and packaging operations          225\n",
       "non clinical research                      174\n",
       "data management                            148\n",
       "purchasing controls                        144\n",
       "material and product controls              139\n",
       "risk management                            119\n",
       "quality management                          99\n",
       "design controls                             92\n",
       "laboratory controls                         87\n",
       "documentation management                    81\n",
       "stability programs                          81\n",
       "udi and serialization                       68\n",
       "vigilance                                   66\n",
       "qrb                                         59\n",
       "training                                    54\n",
       "samd                                        54\n",
       "audit inspection                            52\n",
       "medical device post market surveillance     48\n",
       "controled substances                        46\n",
       "process & packaging validation              43\n",
       "change controls                             41\n",
       "md product cybersecurity                    39\n",
       "new product quality planning                36\n",
       "calibration                                 36\n",
       "product returns                             35\n",
       "vmp                                         24\n",
       "csv                                         19\n",
       "identification and traceability             18\n",
       "quality planning                            12\n",
       "qsmr                                         3\n",
       "Name: Standard mapping?, dtype: int64"
      ]
     },
     "execution_count": 23,
     "metadata": {},
     "output_type": "execute_result"
    }
   ],
   "source": [
    "df_features[TARGET].apply(lambda x: x[0]).value_counts()"
   ]
  },
  {
   "cell_type": "markdown",
   "metadata": {},
   "source": [
    "Set the `threshold` and filter out topics having counts less than `threshold`"
   ]
  },
  {
   "cell_type": "code",
   "execution_count": 24,
   "metadata": {},
   "outputs": [
    {
     "name": "stdout",
     "output_type": "stream",
     "text": [
      "# Topics: 8\n"
     ]
    }
   ],
   "source": [
    "value_counts = dict(df_features[TARGET].apply(lambda x: x[0]).value_counts())\n",
    "\n",
    "lower_bound = 40\n",
    "upper_bound = 60\n",
    "keep_topics = {label for label in value_counts if value_counts[label] >= lower_bound and value_counts[label] <= upper_bound}\n",
    "print(f\"# Topics: {len(keep_topics)}\")\n",
    "\n",
    "for topic in keep_topics:\n",
    "    assert topic in features.mlb.classes_\n",
    "\n",
    "def ifkeep(target, keep_topics):\n",
    "    for y in target:\n",
    "        if y not in keep_topics:\n",
    "            return False\n",
    "    return True\n",
    "\n",
    "filter = df_features[TARGET].apply(ifkeep, keep_topics=keep_topics)"
   ]
  },
  {
   "cell_type": "markdown",
   "metadata": {},
   "source": [
    "# Evaluate Embeddings"
   ]
  },
  {
   "cell_type": "markdown",
   "metadata": {},
   "source": [
    "## Model 1. Ada"
   ]
  },
  {
   "cell_type": "markdown",
   "metadata": {},
   "source": [
    "Get embeddings"
   ]
  },
  {
   "cell_type": "code",
   "execution_count": 25,
   "metadata": {},
   "outputs": [
    {
     "data": {
      "text/plain": [
       "(2787, 1024)"
      ]
     },
     "execution_count": 25,
     "metadata": {},
     "output_type": "execute_result"
    }
   ],
   "source": [
    "EMBEDDINGS = \"embeddings\"\n",
    "\n",
    "embeddings_path = os.path.join(data.reports_path, \"ada-embeddings.pkl\")\n",
    "embeddings = pd.read_pickle(embeddings_path)\n",
    "\n",
    "embeddings = pd.DataFrame(embeddings.items(), columns=[ORIGINAL_TEXT, EMBEDDINGS])\n",
    "embeddings[ORIGINAL_TEXT] = embeddings[ORIGINAL_TEXT].apply(lambda x: x[0])\n",
    "\n",
    "embeddings = pd.merge(df_features, embeddings, on=ORIGINAL_TEXT)\n",
    "\n",
    "regulations = embeddings[ORIGINAL_TEXT].values\n",
    "y_true = np.argmax(embeddings[features.mlb.classes_].to_numpy(), axis=1)\n",
    "embeddings = np.stack(embeddings[EMBEDDINGS].values)\n",
    "\n",
    "embeddings.shape"
   ]
  },
  {
   "cell_type": "markdown",
   "metadata": {},
   "source": [
    "#### k-Means (Floyd)"
   ]
  },
  {
   "cell_type": "code",
   "execution_count": 26,
   "metadata": {},
   "outputs": [
    {
     "data": {
      "image/png": "[encoded data removed]",
      "text/plain": [
       "<Figure size 1200x600 with 2 Axes>"
      ]
     },
     "metadata": {},
     "output_type": "display_data"
    }
   ],
   "source": [
    "k_values=list(range(len(keep_topics)//2, len(keep_topics)+5))\n",
    "distortions, inertias = \\\n",
    "    eval.elbow_method(embeddings=embeddings[filter], k_values=k_values)\n",
    "\n",
    "fig, ax = plt.subplots(1, 2, figsize=(12,6), constrained_layout=True)\n",
    "ax[0].plot(k_values, distortions, 'bx-')\n",
    "ax[0].set_xlabel('k')\n",
    "ax[0].set_ylabel('Distortion')\n",
    "ax[0].set_title('Elbow Method (Distortion)')\n",
    "ax[1].plot(k_values, inertias, 'bx-')\n",
    "ax[1].set_xlabel('k')\n",
    "ax[1].set_ylabel('Inertia')\n",
    "ax[1].set_title('Elbow Method (Inertia)')\n",
    "fig.suptitle(\"Ada - k-Means (Floyd)\");"
   ]
  },
  {
   "cell_type": "markdown",
   "metadata": {},
   "source": [
    "Purity Scores"
   ]
  },
  {
   "cell_type": "code",
   "execution_count": 27,
   "metadata": {},
   "outputs": [
    {
     "data": {
      "text/html": [
       "<div>\n",
       "<style scoped>\n",
       "    .dataframe tbody tr th:only-of-type {\n",
       "        vertical-align: middle;\n",
       "    }\n",
       "\n",
       "    .dataframe tbody tr th {\n",
       "        vertical-align: top;\n",
       "    }\n",
       "\n",
       "    .dataframe thead th {\n",
       "        text-align: right;\n",
       "    }\n",
       "</style>\n",
       "<table border=\"1\" class=\"dataframe\">\n",
       "  <thead>\n",
       "    <tr style=\"text-align: right;\">\n",
       "      <th></th>\n",
       "      <th>First Majority</th>\n",
       "      <th>Second Majority</th>\n",
       "      <th>Assigned Cluster</th>\n",
       "    </tr>\n",
       "  </thead>\n",
       "  <tbody>\n",
       "    <tr>\n",
       "      <th>0</th>\n",
       "      <td>(audit inspection, 0.925)</td>\n",
       "      <td>(medical device post market surveillance, 0.025)</td>\n",
       "      <td>1</td>\n",
       "    </tr>\n",
       "    <tr>\n",
       "      <th>1</th>\n",
       "      <td>(change controls, 0.851)</td>\n",
       "      <td>(process &amp; packaging validation, 0.0638)</td>\n",
       "      <td>6</td>\n",
       "    </tr>\n",
       "    <tr>\n",
       "      <th>2</th>\n",
       "      <td>(controled substances, 0.978)</td>\n",
       "      <td>(qrb, 0.0222)</td>\n",
       "      <td>4</td>\n",
       "    </tr>\n",
       "    <tr>\n",
       "      <th>3</th>\n",
       "      <td>(medical device post market surveillance, 0.694)</td>\n",
       "      <td>(audit inspection, 0.21)</td>\n",
       "      <td>7</td>\n",
       "    </tr>\n",
       "    <tr>\n",
       "      <th>4</th>\n",
       "      <td>(process &amp; packaging validation, 0.947)</td>\n",
       "      <td>(qrb, 0.0263)</td>\n",
       "      <td>2</td>\n",
       "    </tr>\n",
       "    <tr>\n",
       "      <th>5</th>\n",
       "      <td>(qrb, 0.981)</td>\n",
       "      <td>(controled substances, 0.0185)</td>\n",
       "      <td>0</td>\n",
       "    </tr>\n",
       "    <tr>\n",
       "      <th>6</th>\n",
       "      <td>(samd, 0.962)</td>\n",
       "      <td>(medical device post market surveillance, 0.0192)</td>\n",
       "      <td>5</td>\n",
       "    </tr>\n",
       "    <tr>\n",
       "      <th>7</th>\n",
       "      <td>(training, 0.864)</td>\n",
       "      <td>(process &amp; packaging validation, 0.0508)</td>\n",
       "      <td>3</td>\n",
       "    </tr>\n",
       "  </tbody>\n",
       "</table>\n",
       "</div>"
      ],
      "text/plain": [
       "                                     First Majority  \\\n",
       "0                         (audit inspection, 0.925)   \n",
       "1                          (change controls, 0.851)   \n",
       "2                     (controled substances, 0.978)   \n",
       "3  (medical device post market surveillance, 0.694)   \n",
       "4           (process & packaging validation, 0.947)   \n",
       "5                                      (qrb, 0.981)   \n",
       "6                                     (samd, 0.962)   \n",
       "7                                 (training, 0.864)   \n",
       "\n",
       "                                     Second Majority  Assigned Cluster  \n",
       "0   (medical device post market surveillance, 0.025)                 1  \n",
       "1           (process & packaging validation, 0.0638)                 6  \n",
       "2                                      (qrb, 0.0222)                 4  \n",
       "3                           (audit inspection, 0.21)                 7  \n",
       "4                                      (qrb, 0.0263)                 2  \n",
       "5                     (controled substances, 0.0185)                 0  \n",
       "6  (medical device post market surveillance, 0.0192)                 5  \n",
       "7           (process & packaging validation, 0.0508)                 3  "
      ]
     },
     "execution_count": 27,
     "metadata": {},
     "output_type": "execute_result"
    }
   ],
   "source": [
    "k = len(keep_topics)\n",
    "clusters = KMeans(n_clusters=k, random_state=0).fit(embeddings[filter])\n",
    "\n",
    "purity_scores, missing, multiple = \\\n",
    "    eval.compute_purity_scores(\n",
    "        clusters=clusters.labels_,\n",
    "        y_true=y_true[filter],\n",
    "        topics=keep_topics,\n",
    "        features=features\n",
    "    )\n",
    "purity_scores"
   ]
  },
  {
   "cell_type": "markdown",
   "metadata": {},
   "source": [
    "Check for missing/repeating topics"
   ]
  },
  {
   "cell_type": "code",
   "execution_count": 28,
   "metadata": {},
   "outputs": [
    {
     "name": "stdout",
     "output_type": "stream",
     "text": [
      "\tMissing:\n",
      "No missing topics\n",
      "\n",
      "\tMultiple:\n",
      "No repeating topics\n"
     ]
    }
   ],
   "source": [
    "print(\"\\tMissing:\")\n",
    "if not len(missing):\n",
    "    print(\"No missing topics\")\n",
    "else:\n",
    "    pp.pprint(missing)\n",
    "\n",
    "print(\"\\n\\tMultiple:\")\n",
    "if not len(multiple):\n",
    "    print(\"No repeating topics\")\n",
    "else:\n",
    "    pp.pprint(multiple)"
   ]
  },
  {
   "cell_type": "markdown",
   "metadata": {},
   "source": [
    "Visualize"
   ]
  },
  {
   "cell_type": "code",
   "execution_count": 29,
   "metadata": {},
   "outputs": [
    {
     "data": {
      "application/vnd.plotly.v1+json": {
       "config": {
        "plotlyServerURL": "https://plot.ly"
       },
       "data": [
        {
         "customdata": [
          [
           "Validation […] Process Validation Program […]  Critical process parameters should be controlled and<br>monitored during process validation studies. Process parameters unrelated to quality, such as<br>variables controlled to minimize energy consumption or equipment use, need not be included in the<br>process validation.",
           "process & packaging validation"
          ],
          [
           "Processes and procedures should undergo periodic critical re-validation to ensure that they remain<br>capable of achieving the intended results.",
           "process & packaging validation"
          ],
          [
           "Processing Operations: Intermediate and Bulk Products […] Critical processes should be validated<br>(see \"Validation\" in this Chapter).",
           "process & packaging validation"
          ],
          [
           "Validation […] Periodic Review of Validated Systems. Systems and processes should be periodically<br>evaluated to verify that they are still operating in a valid manner. Where no significant changes<br>have been made to the system or process, and a quality review confirms that the system or process is<br>consistently producing material meeting its specifications, there is normally no need for<br>revalidation.",
           "process & packaging validation"
          ],
          [
           "For biotechnological/biological drug substances, the information provided in the dossier in support<br>of process validation usually contains both commercial-scale process validation studies and small-<br>scale studies. Process validation batches should be representative of the commercial process, taking<br>into account the batch definition as detailed in the process description. The contribution of data<br>from small-scale studies to the overall validation package will depend upon demonstration that the<br>small-scale model is an appropriate representation of the proposed commercial-scale. Data should be<br>provided demonstrating that the model is scalable and representative of the proposed commercial<br>process. Successful demonstration of the suitability of the small-scale model can enable<br>manufacturers to propose process validation with reduced dependence on testing of commercial-scale<br>batches. Data derived from commercial-scale batches should confirm results obtained from small-scale<br>studies used to generate data in support of process validation. Scientific grounds, or reference to<br>guidelines which do not require or specifically exclude such studies, can be an appropriate<br>justification to conduct certain studies only at small- scale (e.g., viral removal). Studies should<br>be conducted to demonstrate the ability of the process to remove product- related impurities,<br>process-related impurities (ICH Q6B) and potential contaminants (such as viruses in processes using<br>material from human or animal origin, see ICH Q5A). Studies carried out to demonstrate the lifetime<br>of chromatography columns can include experimental studies carried out in small-scale models but<br>should be confirmed during commercial-scale production. The limit of in vitro cell age for<br>commercial production should be assessed. ICH documents Q5B and Q5D provide further guidance for<br>relevant products. When platform manufacturing experience is utilised, the suitability of the<br>control strategy should be demonstrated and the drug substance manufacturing process should be<br>appropriately validated at the time of marketing authorisation application. Usually, full scale<br>validation studies should include data derived from the final manufacturing process and site(s) used<br>to produce the product to be commercialised.",
           "process & packaging validation"
          ],
          [
           "Drug product containers and closures. […]  (c) Drug product containers and closures shall be clean<br>and, where indicated by the nature of the drug, sterilized and processed to remove pyrogenic<br>properties to assure that they are suitable for their intended use. Such depyrogenation processes<br>shall be validated.",
           "process & packaging validation"
          ],
          [
           "Validation […] Cleaning Validation […]  Cleaning procedures should normally be validated. In<br>general, cleaning validation should be directed to situations or process steps where contamination<br>or carryover of materials poses the greatest risk to API quality. For example, in early production<br>it may be unnecessary to validate equipment cleaning procedures where residues are removed by<br>subsequent purification steps.",
           "process & packaging validation"
          ],
          [
           "Validation […] Processes and procedures should undergo periodic critical re-validation to ensure<br>that they remain capable of achieving the intended results.",
           "process & packaging validation"
          ],
          [
           "Validation […]  Process revalidation may be triggered by a process change as part of the change-<br>control system. In addition, because of the variability of processes, products and methods, process<br>revalidation may be conducted at predetermined regular intervals according to risk considerations. A<br>detailed review of all changes, trends and deviations occurring within a defined time period – for<br>example, 1 year, based on the regular product quality review (PQR) – may indicate a need for process<br>revalidation.",
           "process & packaging validation"
          ],
          [
           "The basic requirements of Quality Control are that: […]  Testing methods are validated or verified.",
           "process & packaging validation"
          ],
          [
           "When any new manufacturing formula or method of preparation is adopted, steps should be taken to<br>demonstrate its suitability for routine processing. The defined process, using the materials and<br>equipment specified, should be shown to yield a product consistently of the required quality.",
           "process & packaging validation"
          ],
          [
           "Production and Process Controls […] Process validation. […]  (c) When changes or process deviations<br>occur, the manufacturer shall review and evaluate the process and perform revalidation where<br>appropriate. These activities shall be documented.",
           "process & packaging validation"
          ],
          [
           "Validation […] Approaches to Process Validation […]  Process Validation (PV) is the documented<br>evidence that the process, operated within established parameters, can perform effectively and<br>reproducibly to produce an intermediate or API meeting its predetermined specifications and quality<br>attributes.",
           "process & packaging validation"
          ],
          [
           "GMP is concerned with both production and quality control. To meet GMP requirements, you must: […]<br>Validate critical steps of manufacturing processes and key changes to the process.",
           "process & packaging validation"
          ],
          [
           "The system of Quality Assurance should ensure that: […]  Qualifications and validations are carried<br>out.",
           "process & packaging validation"
          ],
          [
           "Validation […]  The integrity and specified hold times of containers used to store intermediate<br>products should be validated unless such intermediate products are freshly prepared and used<br>immediately.",
           "process & packaging validation"
          ],
          [
           "Product Quality Review […]  The results of this review should be evaluated and an assessment made of<br>whether corrective action or any revalidation should be undertaken. Reasons for such corrective<br>action should be documented. Agreed corrective actions should be completed in a timely and effective<br>manner.",
           "process & packaging validation"
          ],
          [
           "Validation […] When any new manufacturing formula or method of preparation is adopted, steps should<br>be taken to demonstrate its suitability for routine processing. The defined process, using the<br>materials and equipment specified, should be shown to yield a product consistently of the required<br>quality.",
           "process & packaging validation"
          ],
          [
           "Validation […] Approaches to Process Validation […]  Batches selected for retrospective validation<br>should be representative of all batches made during the review period, including any batches that<br>failed to meet specifications, and should be sufficient in number to demonstrate process<br>consistency. Retained samples can be tested to obtain data to retrospectively validate the process.",
           "process & packaging validation"
          ],
          [
           "The basic requirements of GMP are that: […] Critical steps of manufacturing processes and<br>significant changes to the process are validated;",
           "process & packaging validation"
          ],
          [
           "Validation […] Process Validation Program […]  Process validation should confirm that the impurity<br>profile for each API is within the limits specified. The impurity profile should be comparable to or<br>better than historical data and, where applicable, the profile determined during process development<br>or for batches used for pivotal clinical and toxicological studies.",
           "process & packaging validation"
          ],
          [
           "Qualification and validation […]  Processes and procedures should be established on the basis of the<br>results of the validation performed.",
           "process & packaging validation"
          ],
          [
           "Validation […]  After initial process validation studies have been finalized and routine production<br>has begun, critical processes should be subject to monitoring and trending with the objective of<br>assuring consistency and detecting any unexpected variability. The monitoring strategy should be<br>defined, taking into consideration factors such as the inherent variability, complexity of quality<br>attributes and heterogeneity of biological products. A system or systems for detecting unplanned<br>departures from the process as designed should be in place to ensure that the process remains in a<br>state of control. Collection and evaluation of information and data on the performance of the<br>process will allow for detection of undesired process variability and will determine whether action<br>should be taken to prevent, anticipate and/or correct problems so that the process remains under<br>control.",
           "process & packaging validation"
          ],
          [
           "Pharmaceutical quality system […] The PQS appropriate to the manufacture of pharmaceutical products<br>should ensure that: […]  all necessary controls on starting materials, intermediate products, and<br>bulk products and other in-process controls, calibrations and validations are carried out;",
           "process & packaging validation"
          ],
          [
           "Qualification and validation […]  Any aspect of operation, including significant changes to the<br>premises, facilities, equipment or processes, which may affect the quality of the product, directly<br>or indirectly, should be qualified and validated.",
           "process & packaging validation"
          ],
          [
           "Specifications and testing procedures […]  Testing procedures described in documents should be<br>validated in the context of available facilities and equipment before they are adopted for routine<br>testing.",
           "process & packaging validation"
          ],
          [
           "Validation […] Process Validation Program […]  The number of process runs for validation should<br>depend on the complexity of the process or the magnitude of the process change being considered. For<br>prospective and concurrent validation, three consecutive successful production batches should be<br>used as a guide, but there may be situations where additional process runs are warranted to prove<br>consistency of the process (e.g., complex API processes or API processes with prolonged completion<br>times). For retrospective validation, generally data from ten to thirty consecutive batches should<br>be examined to assess process consistency, but fewer batches can be examined if justified.",
           "process & packaging validation"
          ],
          [
           "The heads of Production, Quality Control and where relevant, Head of Quality Assurance or Head of<br>Quality Unit, generally have some shared, or jointly exercised, responsibilities  […]. These may<br>include, subject to any national regulations […]:  Process validation;",
           "process & packaging validation"
          ],
          [
           "Qualification and Validation […]  Qualification and validation should not be considered as a one<br>time activity. After initial qualification and validation, requalification or revalidation should be<br>carried out according to the product quality review. Critical manufacturing processes and operation<br>procedures should be revalidated at defined intervals to ensure the intended outcome.",
           "process & packaging validation"
          ],
          [
           "Validation […] Approaches to Process Validation […]  There are three approaches to validation.<br>Prospective validation is the preferred approach, but there are exceptions where the other<br>approaches can be used. These approaches and their applicability are listed below.",
           "process & packaging validation"
          ],
          [
           "Validation […] Approaches to Process Validation […]  Concurrent validation can be conducted when<br>data from replicate production runs are unavailable because only a limited number of API batches<br>have been produced, API batches are produced infrequently, or API batches are produced by a<br>validated process that has been modified. Prior to the completion of concurrent validation, batches<br>can be released and used in final drug product for commercial distribution based on thorough<br>monitoring and testing of the API batches.",
           "process & packaging validation"
          ],
          [
           "Validation […] Cleaning Validation […]  Validation of cleaning procedures should reflect actual<br>equipment usage patterns. If various APIs or intermediates are manufactured in the same equipment<br>and the equipment is cleaned by the same process, a representative intermediate or API can be<br>selected for cleaning validation. This selection should be based on the solubility and difficulty of<br>cleaning and the calculation of residue limits based on potency, toxicity, and stability.",
           "process & packaging validation"
          ],
          [
           "Qualification and Validation […]  Qualification or validation should be performed when there is a<br>change in major factors influencing the product quality, including any change in starting materials,<br>immediate packaging materials, production equipment and environment (or premises), manufacturing<br>process or testing method, etc. Where necessary, the changes should be approved by drug regulatory<br>departments.",
           "process & packaging validation"
          ],
          [
           "Production and In-Process Controls […] Blending Batches of Intermediates or APIs […]  Where physical<br>attributes of the API are critical (e.g., APIs intended for use in solid oral dosage forms or<br>suspensions), blending operations should be validated to show homogeneity of the combined batch.<br>Validation should include testing of critical attributes (e.g., particle size distribution, bulk<br>density, and tap density) that may be affected by the blending process.",
           "process & packaging validation"
          ],
          [
           "Validation […]  Biological processes, handling of live materials and using campaign-based<br>production, if applicable, are the major aspects of biological product manufacturing which require<br>process and cleaning validation. The validation of such processes – given the typical variability of<br>biological products, the possible use of harmful and toxic materials and the need for inactivation<br>processes – plays an important role in demonstrating production consistency and in proving that the<br>critical process parameters and product attributes are controlled. Where available, WHO guidance<br>documents should be consulted on the validation of specific manufacturing methods (for example,<br>virus removal or inactivation (21)).",
           "process & packaging validation"
          ],
          [
           "Qualification and Validation […]  The premises, facilities, equipment and testing instruments should<br>be qualified. The validated manufacturing process, operation procedures and testing methods should<br>be used for production, operation and testing, and this validated state should be maintained.",
           "process & packaging validation"
          ],
          [
           "Qualification and Validation […]  Before any new manufacturing formula or process is adopted, its<br>suitability for routine production should be validated. The manufacturing process by using the<br>defined starting materials and equipment, should consistently produce products suitable for their<br>intended use and in accordance with the registration requirements.",
           "process & packaging validation"
          ],
          [
           "Validation […]  All critical biological processes (including inoculation, multiplication,<br>fermentation, cell disruption, inactivation, purification, virus removal, removal of toxic and<br>harmful additives, filtration, formulation and aseptic filling) are subject, as applicable, to<br>process validation. Manufacturing control parameters to be validated may include specific addition<br>sequences, mixing speeds, time and temperature controls, limits of light exposure and containment.",
           "process & packaging validation"
          ],
          [
           "Production and Process Controls […] Control of microbiological contamination. (a) Appropriate<br>written procedures, designed to prevent objectionable microorganisms in drug products not required<br>to be sterile, shall be established and followed. (b) Appropriate written procedures, designed to<br>prevent microbiological contamination of drug products purporting to be sterile, shall be<br>established and followed. Such procedures shall include validation of all aseptic and sterilization<br>processes.",
           "process & packaging validation"
          ],
          [
           "Process validation is the documented evidence that the process, operated within established<br>parameters, can perform effectively and reproducibly to produce a drug substance or intermediate<br>meeting its predetermined specifications and quality attributes (ICH Q7). Process validation can<br>include the collection and evaluation of data, from the process design stage throughout production,<br>that establish scientific evidence that a process is capable of consistently delivering a quality<br>drug substance. The drug substance manufacturing process should be validated before commercial<br>distribution of resulting drug product. For biotechnological processes, or for aseptic processing<br>and sterilisation process steps for drug substances, the data provided in support of process<br>validation is included as part of the marketing application (3.2.S.2.5). For non-sterile chemical<br>entity drug substance processes, results of process validation studies are not normally included in<br>the dossier. Generally, process validation includes the collection of data on an appropriate number<br>of production batches (see ICH Q7, Section 12.5). The number of batches can depend on several<br>factors including but not limited to: (1) the complexity of the process being validated; (2) the<br>level of process variability; and (3) the amount of experimental data and/or process knowledge<br>available on the specific process. As an alternative to the traditional process validation,<br>continuous process verification (ICH Q8) can be utilised in process validation protocols for the<br>initial commercial production and also for manufacturing process changes for the continual<br>improvement throughout the remainder of the product lifecycle.",
           "process & packaging validation"
          ],
          [
           "Validation […] Approaches to Process Validation […]  An exception can be made for retrospective<br>validation for well established processes that have been used without significant changes to API<br>quality due to changes in raw materials, equipment, systems, facilities, or the production process.<br>This validation approach may be used where: (1) Critical quality attributes and critical process<br>parameters have been identified; (2) Appropriate in-process acceptance criteria and controls have<br>been established; (3) There have not been significant process/product failures attributable to<br>causes other than operator error or equipment failures unrelated to equipment suitability; and (4)<br>Impurity profiles have been established for the existing API.",
           "process & packaging validation"
          ],
          [
           "Manufacturing control / Validation […] Evaluate critical processes and related procedures<br>periodically to ensure they remain capable of achieving the intended results",
           "process & packaging validation"
          ],
          [
           "Buildings and Facilities […] Water […]  Where water used in the process is treated by the<br>manufacturer to achieve a defined quality, the treatment process should be validated and monitored<br>with appropriate action limits.",
           "process & packaging validation"
          ]
         ],
         "hovertemplate": "Standard mapping?=%{customdata[1]}<br>reduced_x=%{x}<br>reduced_y=%{y}<br>Original Text=%{customdata[0]}<br>Assigned Cluster=%{marker.color}<extra></extra>",
         "legendgroup": "process & packaging validation",
         "marker": {
          "color": [
           2,
           2,
           2,
           2,
           2,
           2,
           2,
           2,
           2,
           2,
           2,
           2,
           2,
           6,
           3,
           2,
           1,
           2,
           2,
           2,
           2,
           2,
           2,
           3,
           6,
           2,
           2,
           3,
           2,
           2,
           2,
           2,
           6,
           2,
           2,
           2,
           2,
           2,
           2,
           2,
           2,
           2,
           2
          ],
          "coloraxis": "coloraxis",
          "symbol": "circle"
         },
         "mode": "markers",
         "name": "process & packaging validation",
         "orientation": "v",
         "showlegend": true,
         "type": "scatter",
         "x": [
          -12.750701904296875,
          -8.545467376708984,
          -11.010662078857422,
          -9.505017280578613,
          -12.77294635772705,
          -8.23145866394043,
          -16.65899085998535,
          -8.882112503051758,
          -10.724602699279785,
          -12.086780548095703,
          -14.569149017333984,
          -9.185746192932129,
          -14.347055435180664,
          -13.45467758178711,
          -11.020011901855469,
          -16.229080200195312,
          6.552865028381348,
          -14.410676956176758,
          -13.819236755371094,
          -13.438801765441895,
          -14.594489097595215,
          -11.314355850219727,
          -12.009842872619629,
          -9.21216106414795,
          -10.88939094543457,
          -12.513755798339844,
          -14.73086166381836,
          1.8279671669006348,
          -11.23548698425293,
          -17.330177307128906,
          -14.998174667358398,
          -16.57127571105957,
          -4.886147975921631,
          -12.826838493347168,
          -11.154528617858887,
          -12.52021598815918,
          -13.0787935256958,
          -11.677648544311523,
          -8.414353370666504,
          -12.82928466796875,
          -16.124038696289062,
          -9.135282516479492,
          -13.9222993850708
         ],
         "xaxis": "x",
         "y": [
          -21.940908432006836,
          -21.495357513427734,
          -20.01213836669922,
          -23.077220916748047,
          -29.32585906982422,
          2.5308115482330322,
          -22.48415184020996,
          -21.365671157836914,
          -22.773540496826172,
          -12.868038177490234,
          -20.07996940612793,
          -19.340797424316406,
          -22.646020889282227,
          -14.919797897338867,
          -12.6087007522583,
          -19.46949577331543,
          -3.8071398735046387,
          -20.19554328918457,
          -24.179229736328125,
          -14.980217933654785,
          -23.76088523864746,
          -18.906118392944336,
          -23.12638282775879,
          -9.673579216003418,
          -17.134546279907227,
          -17.509641647338867,
          -25.42547607421875,
          -13.165677070617676,
          -21.324052810668945,
          -25.31104278564453,
          -26.015974044799805,
          -22.62458038330078,
          -12.502016067504883,
          -26.27880096435547,
          -25.97887420654297,
          -18.211198806762695,
          -19.726055145263672,
          -25.747987747192383,
          2.1139063835144043,
          -29.14148712158203,
          -24.68395233154297,
          -20.109846115112305,
          -17.608810424804688
         ],
         "yaxis": "y"
        },
        {
         "customdata": [
          [
           "The MANUFACTURER shall apply a RISK MANAGEMENT PROCESS complying with ISO 14971.",
           "samd"
          ],
          [
           "The MANUFACTURER shall establish a software development plan (or plans) for conducting the<br>ACTIVITIES of the software development PROCESS appropriate to the scope, magnitude, and software<br>safety classifications of the SOFTWARE SYSTEM to be developed.  The  sOFTWARE  DEVELOPMENT  LIFE<br>CYCLE MODEL shall either be fully defined or be referenced in the plan  (or  plans).  The  plan<br>shall address the following: a) the PROCESSES to be used in the development of the SOFTWARE SYSTEM<br>(see Note 4); b) the DELIVERABLES (includes documentation) of the ACTIVITIES and TASKS; c)<br>TRACEABILITY  between SYSTEM  requirements, software requirements, SOFTWARE  SYSTEM  test, and RISK<br>CONTROL measures implemented in software; d) software  configuration  and  change  management,<br>including   SOUP   CONFIGURATION   ITEMS   and software used to support development; and e) software<br>problem resolution for handling problems detected in the medical device software, deliverables and<br>activities at each stage of the life cycle  [Class A, B, C] NOTE 1 The SOFTWARE DEVELOPMENT LIFE<br>CYCLE MODEL can identify different elements (PROCESSES, ACTIVITIES, TASKS and DELIVERABLES) for<br>different SOFTWARE ITEMS according to the software safety classification of each SOFTWARE ITEM of<br>the SOFTWARE SYSTEM. NOTE 2 These ACTIVITIES and TASKS can overlap or interact and can be performed<br>iteratively or recursively. It is not the intent to imply that a specific life cycle model should be<br>used. NOTE 3 Other PROCESSES are described in this standard separately from the development PROCESS.<br>This does not imply that they must be implemented as separate ACTIVITIES and TASKS. The ACTIVITIES<br>and TASKS of the other PROCESSES can be integrated into the development PROCESS. NOTE 4  The<br>software development plan can reference existing PROCESSES or define new ones. NOTE 5  The software<br>development plan may be integrated in an overall SYSTEM development plan.",
           "samd"
          ],
          [
           "The items to be controlled shall include tools, items or settings, used to develop the MEDICAL<br>DEVICE SOFTWARE, which could impact the MEDICAL DEVICE SOFTWARE. [Class B, C] NOTE 1   Examples of<br>such items include compiler/assembler versions, make files, batch files, and specific environment<br>settings.  NOTE 2   See Clause 8",
           "samd"
          ],
          [
           "Each problem report shall be evaluated to determine how it affects the safety of medical device<br>software released for intended use (see 9.2) and whether a change to that software is needed to<br>address the problem. [Class A, B, C]",
           "samd"
          ],
          [
           "The manufacturer shall change configuration items identified to be controlled according to 8.1 only<br>in response to an approved change request. [Class A, B, C] NOTE 1  The  decision  to  approve  a<br>CHANGE  REQUEST  can  be  integral  to  the  change  control  PROCESS or part of another PROCESS.<br>This subclause only requires that approval of a change precede its implementation. NOTE 2  Different<br>acceptance processes can be used for change requests at different stages of the life cycle, as<br>stated in plans, see 5.1.1 d) and 6.1 e).",
           "samd"
          ],
          [
           "SOUP software of unknown provenance (acronym) software item that is already developed and generally<br>available and that has not been developed for the purpose of being incorporated into the medical<br>device (also known as “off-the-shelf software”) or software item previously developed for which<br>adequate records of the development processes are not available NOTE   A medical device software<br>system in itself cannot be claimed to be SOUP.",
           "samd"
          ],
          [
           "If failure or unexpected results from SOUP is a potential cause of the SOFTWARE ITEM contributing to<br>a hazardous situation, the MANUFACTURER  shall EVALUATE as a minimum any ANOMALY list published by<br>the supplier of the SOUP item relevant to the VERSION of the SOUP item used in the MEDICAL DEVICE to<br>determine if any of the known ANOMALIES result in a sequence of events that could result in  a<br>hazardous situation.  [Class B, C]",
           "samd"
          ],
          [
           "The MANUFACTURER of MEDICAL DEVICE SOFTWARE shall demonstrate the ability to  provide  MEDICAL<br>DEVICE SOFTWARE that consistently meets customer requirements and applicable regulatory<br>requirements. NOTE 1  Demonstration of this ability can be by the use of a quality management system<br>that complies with: - ISO 13485; or - a national quality management system standard; or - a quality<br>management system required by national regulation. NOTE 2  Guidance for applying quality management<br>system requirements to software can be found in ISO/IEC 90003.",
           "samd"
          ],
          [
           "The MANUFACTURER shall document TRACEABILITY of software HAZARDS as appropriate: a) from the<br>hazardous situation to the SOFTWARE ITEM; b) from the SOFTWARE ITEM to the specific software cause;<br>c) from the software cause to the RISK CONTROL measure; and d) from the RISK CONTROL measure to the<br>VERIFICATION of the RISK CONTROL measure. [Class B, C] NOTE   See ISO 14971 – RISK MANAGEMENT<br>report.",
           "samd"
          ],
          [
           "The  manufacturer  shall  plan  to  place  configuration  items  under  configuration  management<br>control before they are verified. [Class B, C]",
           "samd"
          ],
          [
           "As  appropriate  to  the  MEDICAL  DEVICE  SOFTWARE,  the  MANUFACTURER  shall  include  in  the<br>software requirements:  e) SECURITY requirements;",
           "samd"
          ],
          [
           "The MANUFACTURER  shall perform relevant RISK  MANAGEMENT  ACTIVITIES  defined in  7.1,  7.2 and<br>7.3 based on these analyses. [Class B, C]",
           "samd"
          ],
          [
           "If a SOFTWARE ITEM is identified as SOUP, the MANUFACTURER shall specify functional and performance<br>requirements for the SOUP item that are necessary for its intended use. [Class B, C]",
           "samd"
          ],
          [
           "The MANUFACTURER  shall analyse changes to the software, including changes to SOUP, to determine<br>whether the software modification could interfere with existing RISK CONTROL measures. [Class B, C]",
           "samd"
          ],
          [
           "The manufacturer shall establish a scheme for the unique identification of configuration items and<br>their versions to be controlled according to the development and configuration planning specified in<br>5.1. [Class A, B, C]",
           "samd"
          ],
          [
           "Software risks can never be totally eliminated so SaMD manufacturers should continually monitor<br>customer issues to maintain the safety level. A monitoring process should include ways to capture<br>customer feedback, e.g., through inquiries, complaints, market studies, focus groups, servicing,<br>etc. The inherent nature of software including SaMD allows for efficient methods to understand and<br>capture user experiences. It is recommended that SaMD manufacturers utilize these feedback<br>techniques to understand failure modes and perform analysis to address safety situations. It is also<br>recommended that SaMD manufacturers extend their monitoring to automatically detect errors of the<br>software or system, i.e., discover and recover from an error before a failure can occur. General<br>considerations associated with the monitoring of SaMD include: 1. Due to its non-physical nature, a<br>SaMD may be duplicated and numerous copies and widely spread, often outside the control of the<br>manufacturer. 2. Often an update made available by the manufacturer is left to the user of the SaMD<br>to install. Manufacturers should make sure that appropriate mitigations address any risks that arise<br>from the existence of different versions of the SaMD on the market. 3. Incident investigations<br>should consider any specific case or combination of use cases that may have contributed to the<br>failure and as appropriate manufacturers should consider accident reconstruction principles, e.g.,<br>data logging, black box recorder, etc.",
           "samd"
          ],
          [
           "(d) a risk assessment comprising an analysis and evaluation of the risks, and the risk reduction<br>measures adopted to satisfy the applicable requirements of sections 10 to 20;",
           "samd"
          ],
          [
           "In addition to the analysis required by Clause 9, the manufacturer shall analyse each change request<br>for its effect on the organization, medical device software released for intended use, and systems<br>with which it interfaces. [Class A, B, C]",
           "samd"
          ],
          [
           "As  appropriate  to  the  MEDICAL  DEVICE  SOFTWARE,  the  MANUFACTURER  shall  include  in  the<br>software requirements:  f) user interface requirements implemented by software; NOTE 4  Examples<br>include those related to: – support for manual operations, – human-equipment interactions, –<br>constraints on personnel, and – areas needing concentrated human attention. NOTE 5   Information<br>regarding usability engineering requirements can be found in IEC 62366-1 [21] among others (e.g.,<br>IEC 60601-1-6 [3])",
           "samd"
          ],
          [
           "The MANUFACTURER shall include or reference in the software development plan information about the<br>documents to be produced during the software development life cycle. For each identified document or<br>type of document the following information shall be included or referenced: a) title, name or naming<br>convention; b) purpose; c) [Text deleted] d)  procedures and responsibilities for development,<br>review, approval and modification.  [Class A, B, C]  NOTE See Clause 8 for consideration of<br>configuration management of documentation.",
           "samd"
          ],
          [
           "As  appropriate  to  the  MEDICAL  DEVICE  SOFTWARE,  the  MANUFACTURER  shall  include  in  the<br>software requirements:  a) functional and capability requirements; NOTE 1  Examples include: –<br>performance (e.g., purpose of software, timing requirements), – physical characteristics (e.g., code<br>language, platform, operating system), – computing environment (e.g., hardware, memory size,<br>processing unit, time zone, network infrastructure) under which the software is to perform, and –<br>need for compatibility with upgrades or multiple SOUP or other device versions.",
           "samd"
          ],
          [
           "The manufacturer shall identify the approved change requests that affect released medical device<br>software. As required by local regulation, the MANUFACTURER shall inform users and regulators about:<br>a) any problem in released medical device software and the consequences of continued unchanged use;<br>and b) the nature of any available changes to released medical device software and how to obtain<br>and install the changes. [Class A, B, C]",
           "samd"
          ],
          [
           "The  MANUFACTURER   shall  analyse  changes  to  the  MEDICAL  DEVICE  SOFTWARE   (including  SOUP)<br>to determine whether: a) additional potential causes are introduced contributing to a hazardous<br>situation; and b) additional software RISK CONTROL measures are required. [Class A, B, C]",
           "samd"
          ],
          [
           "The MANUFACTURER shall: a) investigate the problem and if possible identify the causes; b) EVALUATE<br>the problem’s relevance to SAFETY using the software RISK MANAGEMENT PROCESS  (Clause 7); c)<br>document the outcome of the investigation and evaluation; and d) create a CHANGE REQUEST(S) for<br>actions needed to correct the problem, or document the rationale for taking no action. [Class A, B,<br>C] NOTE   A  problem  does  not  have to  be  corrected  for the MANUFACTURER  to comply with the<br>software problem resolution PROCESS, provided that the problem is not relevant to SAFETY.",
           "samd"
          ],
          [
           "The MANUFACTURER shall include or reference in the software development plan: a) standards, b)<br>methods, and c) tools associated with the development of SOFTWARE ITEMS of class C. [Class C]",
           "samd"
          ],
          [
           "The implementation of each risk control measure documented in 7.2 shall be verified, and this<br>verification shall be documented. The manufacturer shall review the risk control measure and<br>determine if it could result in a new hazardous situation. [Class B, C]",
           "samd"
          ],
          [
           "The manufacturer shall evaluate and approve change requests which modify released medical device<br>software. [Class A, B, C]",
           "samd"
          ],
          [
           "The MANUFACTURER shall verify resolutions to determine whether: a) problem has been resolved and the<br>PROBLEM REPORT has been closed; b) adverse trends have been reversed; c) change requests have been<br>implemented in the appropriate medical device software and activities; and d) additional problems<br>have been introduced.  [Class A, B, C]",
           "samd"
          ],
          [
           "For each SOUP CONFIGURATION ITEM being used, including standard libraries, the MANUFACTURER shall<br>document: a) the title, b) the MANUFACTURER, and c) the unique SOUP designator [Class A, B, C] NOTE<br>The  unique  SOUP  designator  could  be,  for  example,  a  VERSION,  a  release  date,  a  patch<br>number  or  an  upgrade designation.",
           "samd"
          ],
          [
           "As  appropriate  to  the  MEDICAL  DEVICE  SOFTWARE,  the  MANUFACTURER  shall  include  in  the<br>software requirements:  i) requirements related to methods of operation and maintenance;",
           "samd"
          ],
          [
           "The  MANUFACTURER   shall  establish  a  software  maintenance  plan  (or  plans)  for  conducting<br>the ACTIVITIES and TASKS of the maintenance PROCESS.  The plan shall address the following: a)<br>procedures for: – receiving, – documenting, – evaluating, – resolving and – tracking feedback<br>arising after release of the MEDICAL DEVICE SOFTWARE; b) criteria for determining whether feedback<br>is considered to be a problem; c) use of the software RISK MANAGEMENT PROCESS; d) use of the<br>software problem resolution PROCESS for analysing and resolving problems arising after release of<br>the MEDICAL DEVICE SOFTWARE; e)  use of the software configuration management process (Clause H8)<br>for managing modifications to the existing software system; and f) procedures to EVALUATE and<br>implement: – upgrades, – bug fixes, – patches and – obsolescence of SOUP. [Class A, B, C]",
           "samd"
          ],
          [
           "When  present  in  the  design,  the  MANUFACTURER   shall  include  additional  acceptance<br>criteria  as appropriate for: a) proper event sequence; b) data and control flow; c) planned<br>resource allocation; d) fault handling (error definition, isolation, and recovery); e)<br>initialisation of variables; f) self-diagnostics; g) memory management and memory overflows; and h)<br>boundary conditions.  [Class C]",
           "samd"
          ],
          [
           "The  MANUFACTURER   shall  include  or  reference  in  the  software  development  plan  the<br>following VERIFICATION information: a) DELIVERABLES requiring VERIFICATION; b) the required<br>VERIFICATION TASKS for each life cycle ACTIVITY; c) milestones at which the DELIVERABLES are<br>VERIFIED; and d) the acceptance criteria for VERIFICATION of the DELIVERABLES.  [Class A, B, C]",
           "samd"
          ],
          [
           "The manufacturer shall establish procedures to ensure that the  released  medical  device software<br>can be reliably delivered to the point of use without corruption or unauthorised change. These<br>procedures shall address the production and handling of media containing the medical device software<br>including  as  appropriate: – replication, – media labelling, – packaging, – protection, – storage,<br>and – delivery. [Class A, B, C]",
           "samd"
          ],
          [
           "The MANUFACTURER  shall include or reference in the software development plan, a plan to integrate<br>the SOFTWARE ITEMS (including SOUP) and perform testing during integration. [Class B, C] NOTE 1   It<br>is acceptable to combine integration testing and software system testing into a single plan and set<br>of activities.  NOTE 2  See 5.6.",
           "samd"
          ],
          [
           "Feedback shall be documented and evaluated  to determine whether a problem exists in a released<br>medical device software. Any such problem shall be recorded as a problem report (see Clause 9).<br>Problem reports shall include actual or potential adverse events, and deviations from<br>specifications. [Class A, B, C]",
           "samd"
          ],
          [
           "The  MANUFACTURER  shall  identify  SOFTWARE  ITEMS  that  could  contribute  to  a  hazardous<br>situation identified in the MEDICAL DEVICE RISK ANALYSIS ACTIVITY of ISO 14971 (see 4.2). [Class B,<br>C] NOTE   The hazardous situation could be the direct result of software failure or the result of<br>the failure of a RISK CONTROL measure that is implemented in software.",
           "samd"
          ],
          [
           "The MANUFACTURER shall implement the change as specified in the CHANGE REQUEST. The MANUFACTURER<br>shall identify and perform any ACTIVITY that needs to be repeated as a result of the change,<br>including changes to the software safety classification of SOFTWARE SYSTEMS and SOFTWARE ITEMS.<br>[Class A, B, C] NOTE This subclause states how the change should be implemented to achieve adequate<br>change control. It does not imply that the implementation is an integral part of the change control<br>PROCESS. Implementation should use planned PROCESSES, see  5.1.1 e) and  6.1 e).",
           "samd"
          ],
          [
           "The MANUFACTURER shall identify potential causes of the SOFTWARE ITEM identified above contributing<br>to a hazardous situation. The MANUFACTURER shall consider potential causes including, as<br>appropriate: a) incorrect or incomplete specification of functionality; b) software defects in the<br>identified SOFTWARE ITEM functionality; c) failure or unexpected results from SOUP; d) hardware<br>failures or other software defects that could result in unpredictable software operation; and e)<br>reasonably foreseeable misuse.  [Class B, C]",
           "samd"
          ],
          [
           "If a SOFTWARE ITEM is identified as SOUP, the MANUFACTURER shall specify the SYSTEM hardware and<br>software necessary to support the proper operation of the SOUP item. [Class B, C] NOTE Examples<br>include  processor type  and  speed,  memory type  and  size, SYSTEM software  type,  communication<br>and display software requirements.",
           "samd"
          ],
          [
           "The objective of planning is to provide a roadmap to be followed during the product development<br>lifecycle. This comes from the quality principle that better results can be achieved by following a<br>methodical and rigorous plan for managing projects such as a plan-do-check-act approach. Product<br>planning includes the definition of phases, activities, responsibilities, and resources needed for<br>developing the SaMD. It is important to understand that planning is not static - it needs to be<br>updated when new information is gathered or milestones are reached. IMDRF/SaMD WG/N12 identifies<br>that for SaMD, a thorough understanding of the sociotechnical  environment (clinical perspective),<br>and the technology and system environment (software perspective) is important in planning, as<br>inadequate considerations could lead to incorrect, inaccurate, and/or delayed diagnoses and<br>treatments. The implementation of SaMD lifecycle processes should adequately be informed and<br>tailored for the type of SaMD as identified in IMDRF/SaMD WG/N12.  Example: Both companies carry out<br>product planning to decide which operating systems best suited their SaMD application. The larger<br>Magna company has chosen to build its application to work on the top five mobile phone operating<br>systems as the company has the resources to develop on multiple platforms. While the smaller Parva<br>has chosen to develop for the platform that is currently the market leader due to the company’s<br>constraints of resources. For both Parva and Magna, this planning phase can allow each company to<br>take deliberate approaches to the assignment of resources. The concepts presented in this section<br>relate to clauses 5.4, 7.1, and 7.3.1 in ISO 13485:2003.",
           "samd"
          ],
          [
           "The MANUFACTURER shall include or reference in the software development plan, a plan to conduct the<br>ACTIVITIES and TASKS of the software RISK MANAGEMENT PROCESS, including the management of RISKS<br>relating to SOUP. [Class A, B, C]  NOTE   See Clause 7.",
           "samd"
          ],
          [
           "The manufacturer shall document the version of the medical device software that is being released.<br>[Class A, B, C]",
           "samd"
          ],
          [
           "The manufacturer shall monitor feedback on medical device software released for intended use. [Class<br>A, B, C]",
           "samd"
          ],
          [
           "The MANUFACTURER shall archive: a)  the medical device software and configuration items; and b)<br>the documentation for  at  least  a  period  of  time  determined  as  the  longer  of:  the  life<br>time  of  the medical device software as defined by the manufacturer or a time specified by relevant<br>regulatory requirements; [Class A, B, C]",
           "samd"
          ],
          [
           "The MANUFACTURER shall document the set of CONFIGURATION ITEMS and their VERSIONS that comprise the<br>SOFTWARE SYSTEM configuration. [Class A, B, C]",
           "samd"
          ],
          [
           "For each case  documented  in  the  risk  management  file where  a  software  item  could<br>contribute to a hazardous situation, the manufacturer shall define and document risk control<br>measures in accordance with ISO 14971 [Class B, C] NOTE  The risk control measures can be<br>implemented in hardware, software, the working environment or user instruction",
           "samd"
          ],
          [
           "The MANUFACTURER shall include or reference software configuration management information in the<br>software development plan. The software configuration management information shall include or<br>reference: a) the classes, types, categories or lists of items to be controlled; b) the software<br>configuration management ACTIVITIES and TASKS; c)  the organization(s) responsible for performing<br>software configuration management activities; d) their relationship with other organizations, such<br>as software development or maintenance; e) when the items are to be placed under configuration<br>control; and f) when the problem resolution PROCESS is to be used.  [Class A, B, C] NOTE    See<br>Clause 8.",
           "samd"
          ],
          [
           "Information security may be defined as the preservation of confidentiality, integrity and<br>availability of information. NOTE:  Incorrect management or transmission of information by an SaMD<br>can lead to incorrect or delayed diagnosis or treatment. SaMD may be affected by particular factors<br>relating to information security that may affect the integrity, availability, or accessibility of<br>information output from the SaMD needed for correct diagnosis or treatment: • SaMD are typically<br>used by a variety of users with different access needs, e.g., restricted access or varying<br>information security requirements • Platforms where a SaMD is installed typically runs many other<br>software applications. • SaMD are typically connected to the Internet, networks, databases, or<br>servers with varying information security requirements. Considerations for the manufacturer when<br>identifying implications for safety and performance of SaMD: • The SaMD information security and<br>privacy control requirements may need to be balanced with the need for timely information<br>availability. • Information security requires the identification and implementation of safe (and<br>formalized) ways to store, convert and/or transmit data. • The design should use appropriate control<br>measures to address data integrity when common information is accessed by multiple applications and<br>users. • Manufacturers should make it feasible for users to safely implement information security<br>updates. • The protection of sensitive information requires support for sufficient access control<br>and appropriate restriction to system settings and assets for important data. • The design should<br>address possible adverse system interactions with the inclusion of appropriate resilience and<br>robustness measures. • Instructions for users related to information security should include how to<br>safely:   o Install SaMD in appropriate operating environments (e.g., OS, integration of other<br>software);   o Manage authentication mechanisms; and   o Update security software/spyware, operating<br>environments, and other systems and applications, etc.",
           "samd"
          ],
          [
           "The MANUFACTURER shall approve and implement all CHANGE REQUESTS, observing the requirements of the<br>change control PROCESS (see 8.2). [Class A, B, C]",
           "samd"
          ],
          [
           "The MANUFACTURER  shall document in the RISK  MANAGEMENT  FILE  potential causes of the SOFTWARE<br>ITEM contributing to a hazardous situation (see ISO 14971). [Class B, C]",
           "samd"
          ],
          [
           "If  a  RISK  CONTROL  measure  is  implemented  as  part  of  the  functions  of  a  SOFTWARE  ITEM,<br>the MANUFACTURER shall: a) include the RISK CONTROL measure in the software requirements; b) assign<br>to each software item that contributes to the implementation of a risk control measure a software<br>safety class based on the risk that the risk control measure is controlling (see 4.3 a)); and c)<br>develop the SOFTWARE ITEM in accordance with Clause 5. [Class B, C] NOTE This requirement provides<br>additional detail for RISK CONTROL requirements of ISO 14971",
           "samd"
          ],
          [
           "The MANUFACTURER  shall use the software problem resolution  PROCESS  (see Clause  9) to address<br>PROBLEM REPORTS. [Class A, B, C] NOTE A problem could show that a software system or software item<br>has not been placed in the correct software safety class. The problem resolution process can suggest<br>changes of the software safety class. When the process has been completed, any change of safety<br>class in the software system or its software items should be made known and documented.",
           "samd"
          ],
          [
           "The MANUFACTURER shall include or reference in the software development plan a procedure for: a)<br>identifying   categories   of   defects   that   may   be   introduced   based   on   the   selected<br>programming technology that are relevant to their SOFTWARE SYSTEM; and b) documenting   evidence<br>that   demonstrates   that   these   defects   do   not   contribute   to unacceptable RISK. NOTE<br>See Annex B of IEC TR 80002-1:2009 for examples of categories of defects or causes contributing to<br>HAZARDOUS SITUATIONS.  [Class B, C]",
           "samd"
          ]
         ],
         "hovertemplate": "Standard mapping?=%{customdata[1]}<br>reduced_x=%{x}<br>reduced_y=%{y}<br>Original Text=%{customdata[0]}<br>Assigned Cluster=%{marker.color}<extra></extra>",
         "legendgroup": "samd",
         "marker": {
          "color": [
           5,
           5,
           5,
           5,
           5,
           5,
           5,
           5,
           5,
           5,
           5,
           5,
           5,
           5,
           5,
           7,
           6,
           5,
           5,
           5,
           5,
           5,
           5,
           5,
           5,
           5,
           5,
           5,
           5,
           5,
           5,
           5,
           5,
           5,
           5,
           5,
           5,
           5,
           5,
           5,
           7,
           5,
           5,
           5,
           5,
           5,
           5,
           5,
           7,
           5,
           5,
           5,
           5,
           5
          ],
          "coloraxis": "coloraxis",
          "symbol": "diamond"
         },
         "mode": "markers",
         "name": "samd",
         "orientation": "v",
         "showlegend": true,
         "type": "scatter",
         "x": [
          -0.3704446852207184,
          -1.5026921033859253,
          2.2635979652404785,
          8.49517822265625,
          3.875638484954834,
          7.074589252471924,
          6.141992568969727,
          4.594398021697998,
          3.6429688930511475,
          0.8198999762535095,
          2.008592128753662,
          0.45580658316612244,
          6.061896324157715,
          5.663786888122559,
          0.8386132717132568,
          2.7624595165252686,
          -0.8095763921737671,
          7.105363845825195,
          3.342930316925049,
          1.0607328414916992,
          3.6701531410217285,
          8.67957878112793,
          5.767874240875244,
          7.568236351013184,
          0.6092225313186646,
          4.098289489746094,
          6.917815685272217,
          8.078567504882812,
          4.7579474449157715,
          2.2107768058776855,
          2.979414939880371,
          0.39657503366470337,
          0.13905613124370575,
          8.821402549743652,
          -0.8503600358963013,
          9.242279052734375,
          4.76693058013916,
          4.156179428100586,
          5.3731489181518555,
          6.055272102355957,
          -2.7007806301116943,
          0.7389153242111206,
          6.831210136413574,
          7.195683479309082,
          7.734635353088379,
          2.2295546531677246,
          3.384533405303955,
          1.4926036596298218,
          2.7447164058685303,
          3.171386480331421,
          4.044682025909424,
          2.601262331008911,
          7.996589183807373,
          3.0877649784088135
         ],
         "xaxis": "x",
         "y": [
          26.316864013671875,
          31.365869522094727,
          33.506324768066406,
          25.917110443115234,
          23.114011764526367,
          34.79719161987305,
          30.73912811279297,
          36.42641067504883,
          28.695627212524414,
          23.70427703857422,
          36.423500061035156,
          26.826711654663086,
          32.937110900878906,
          28.087182998657227,
          23.378610610961914,
          14.509134292602539,
          20.216835021972656,
          25.566022872924805,
          36.08143997192383,
          30.71854019165039,
          35.66365051269531,
          24.291982650756836,
          28.783180236816406,
          29.163183212280273,
          29.503276824951172,
          26.2889347076416,
          24.726308822631836,
          27.652957916259766,
          32.90431594848633,
          36.36491775512695,
          31.288307189941406,
          32.32609558105469,
          30.701133728027344,
          23.161283493041992,
          29.577268600463867,
          26.24405860900879,
          29.478111267089844,
          24.020517349243164,
          30.312477111816406,
          33.219764709472656,
          31.863372802734375,
          28.2852783203125,
          23.778465270996094,
          24.3912353515625,
          22.384042739868164,
          26.016042709350586,
          27.39117431640625,
          30.97577476501465,
          14.523331642150879,
          24.155580520629883,
          28.101879119873047,
          28.220794677734375,
          29.077022552490234,
          29.888980865478516
         ],
         "yaxis": "y"
        },
        {
         "customdata": [
          [
           "Contract Manufacture and Analysis […] The Contract Giver […]  The contract giver is responsible for<br>assessing the contract acceptor, via on-site audit of the conditions, technical levels and quality<br>management status, to confirm its competence to carry out the contracted operations, and to ensure<br>the compliance with the Provisions.",
           "audit inspection"
          ],
          [
           "Production quality assurance procedures [...] Implementation and assessment of production quality<br>management system (1) The manufacturer of a medical device must:    (a) implement a quality<br>management system for the production and final inspection of the kind of device; and    (b) arrange<br>for assessment of the system by the Secretary. (2) For the purpose of enabling the assessment to be<br>carried out, the manufacturer must have available, in writing, the following information and<br>undertakings:    (a) the name and business address of the manufacturer;    (b) details of each<br>manufacturing site where the system is to be applied;    (c) all relevant information about the<br>kinds of medical devices to which the system is to be applied;    (d) the documentation in relation<br>to the system;    (e) an undertaking by the manufacturer to continue to comply with the requirements<br>of the system after assessment;    (f) an undertaking by the manufacturer to ensure that the system<br>is at all times adequate and efficacious;    (g) for a kind of device in relation to which the type<br>examination procedures have been applied—evidence that the device conforms to the approved type and<br>a copy of the technical documentation required under subclause 2.3(3) of the type examination<br>procedures for the approved type;    (h) for a kind of device to which the declaration of conformity<br>(not requiring assessment by Secretary) procedures have been applied—a copy of the technical<br>documentation prepared under clause 6.4 of those procedures for that kind of device;    (i) an<br>undertaking by the manufacturer to notify the Secretary, or the person in relation to whom the kind<br>of device is included in the Register, of any information of the kind mentioned in subparagraph<br>4.4(3)(c)(i) or (ii) that the manufacturer becomes aware of in relation to the kind of medical<br>device.",
           "audit inspection"
          ],
          [
           "Personnel matters, premises, equipment, documentation, production, quality control, distribution of<br>the medicinal products, arrangements for dealing with complaints and recalls, and self inspection,<br>should be examined at intervals following a pre-arranged programme in order to verify their<br>conformity with the principles of Quality Assurance.",
           "audit inspection"
          ],
          [
           "Self Inspection and Quality Audits […] Self Inspection Items […]  Written procedure should be<br>established for self-inspection. Sole Paragraph. The procedure may include questionnaires on GMP<br>requirements covering at least the following aspects: I – Personnel; II – Facilities, including<br>locker rooms; III – Maintenance of buildings and equipment; IV – Storage of raw materials, packaging<br>materials, intermediate products and finished products; V – Equipments; VI – Production and in<br>process controls; VII – Quality control; VIII – Documentation; IX – Sanitation and hygiene; X –<br>Software validation and revalidation; XI – Calibration of instruments or measurement systems; XII –<br>Recall procedures;  XIII – Claims management;  XIV – Control labels; XV – Results of previous self-<br>inspections and any corrective actions taken; XVI – Computer systems relevant to Good Manufacturing<br>Practices; XVII – Transportation of drugs and intermediates and XVIII – Waste management.",
           "audit inspection"
          ],
          [
           "Quality audits shall be conducted by trained persons, according to audit procedures established,<br>with no direct responsibility for the matters being audited.",
           "audit inspection"
          ],
          [
           "Internal audit […] The organization shall: a) plan, establish, implement and maintain an audit<br>programme(s) including the frequency, methods, responsibilities, planning requirements and<br>reporting, which shall take into consideration the importance of the processes concerned, changes<br>affecting the organization, and the results of previous audits; b) define the audit criteria and<br>scope for each audit; c) select auditors and conduct audits to ensure objectivity and the<br>impartiality of the audit process; d) ensure that the results of the audits are reported to relevant<br>management; e) take appropriate correction and corrective actions without undue delay; f) retain<br>documented information as evidence of the implementation of the audit programme and the audit<br>results. NOTE See ISO 19011 for guidance.",
           "audit inspection"
          ],
          [
           "Quality Control and Quality Assurance […] Supplier Assessment and Approval […]   The on-site quality<br>audit should verify the authenticity of the supplier’s qualification certificates and certificates<br>of analysis, and verify the testing conditions. In order to fully assess the quality assurance<br>system of the suppliers, its personnel and organization , premises, facilities, equipment, materials<br>management, manufacturing process procedures, production management, as well as the equipment,<br>instruments and documentation management, etc., of the quality control laboratories should be<br>checked. An On-site audit report should be prepared.",
           "audit inspection"
          ],
          [
           "A Pharmaceutical Quality System appropriate for the manufacture of medicinal products should ensure<br>that: […] There is a process for self-inspection and/or quality audit, which regularly appraises the<br>effectiveness and applicability of the Pharmaceutical Quality System.",
           "audit inspection"
          ],
          [
           "Internal Audits (Self Inspection) […]  In order to verify compliance with the principles of GMP for<br>APIs, regular internal audits should be performed in accordance with an approved schedule.",
           "audit inspection"
          ],
          [
           "An internal audit is a tool which is designed to monitor the implementation and the status of these<br>cosmetic Good Manufacturing Practices and, if necessary, to propose corrective actions.",
           "audit inspection"
          ],
          [
           "Examination of design of Class 4 IVD medical device, Class 4 in-house IVD medical device, Class AIMD<br>medical device or Class III medical device [...] For the purpose of enabling an examination to be<br>carried out under subclause (4), the manufacturer must have available, in writing, details of any<br>consequential changes to the documentation in relation to the design of the device mentioned in<br>paragraph 1.4(5)(c) of this Schedule. Note: This clause need not be applied to: (a) a Class IIb<br>medical device—see Division 3.2, paragraphs 3.7(1)(a) and (2)(a); or (b) a Class 3 IVD medical<br>device—see Division 3.2, paragraph 3.7A(a); or (c) a Class IIa medical device—see Division 3.2,<br>paragraphs 3.8(1)(a) and (2)(a); or (d) a Class 2 IVD medical device—see Division 3.2, paragraph<br>3.8A(a).",
           "audit inspection"
          ],
          [
           "The system of Quality Assurance should ensure that: […]  Self-inspection is regularly carried out to<br>appraise the  effectiveness and applicability of the Quality Assurance  system, according to the<br>procedures.",
           "audit inspection"
          ],
          [
           "Market surveillance activities […] The Member States shall review and assess the functioning of<br>their market surveillance activities. Such reviews and assessments shall be carried out at least<br>every four years and the results thereof shall be communicated to the other Member States and the<br>Commission. Each Member State shall make a summary of the results accessible to the public by means<br>of the electronic system referred to in Article 100.",
           "audit inspection"
          ],
          [
           "Product quality assurance procedures [...] Information to be given to authorised person. (1) If<br>requested to do so by an authorised person, the manufacturer of a medical device must:   (a) give to<br>the Secretary any of the following information in relation to the quality management system or the<br>kinds of medical device to which the system is applied:      (i) a copy of the documentation<br>mentioned in subclause 5.4(5) of this Schedule;      (ii) the quality records in relation to the<br>final inspection and testing of the kinds of medical device to which the system is applied (for<br>example, inspection reports, test data, calibration data, information about the qualifications of<br>staff); and   (b) arrange for tests specified by the authorised person to be carried out for the<br>purpose of checking whether the quality management system is operating effectively. (2) If any<br>inspections or tests are carried out by an authorised person in relation to the manufacturer’s<br>premises, or medical devices manufactured by the manufacturer, the manufacturer may ask the<br>authorised person to give to the manufacturer a report stating the findings of the inspections or<br>tests.",
           "audit inspection"
          ],
          [
           "Implementation and assessment of product quality management system […] For the purpose of enabling<br>the assessment to be carried out, the manufacturer must have available, in writing, the following<br>information and undertakings: (a) the name and business address of the manufacturer; (b) details of<br>each manufacturing site where the system is to be applied; (c) all relevant information about the<br>kinds of medical devices to which the system is to be applied; (d) the documentation in relation to<br>the system; (e) an undertaking by the manufacturer to continue to comply with the requirements of<br>the system after assessment; (f) an undertaking by the manufacturer to ensure that the system is at<br>all times adequate and efficacious; (g) for a kind of device in relation to which the type<br>examination procedures have been applied—evidence that the device conforms to the approved type and<br>the technical documentation required under subclause 2.3(3) of the type examination procedures for<br>the device; (h) for a kind of device to which the declaration of conformity (not requiring<br>assessment by Secretary) procedures have been applied—a copy of the technical documentation prepared<br>under clause 6.4 of those procedures for that kind of device; (i) an undertaking by the manufacturer<br>to notify the Secretary, or the person in relation to whom the kind of device is included in the<br>Register, of any information of the kind mentioned in subparagraph 5.4(3)(c)(i) or (ii) that the<br>manufacturer becomes aware of in relation to the kind of medical device",
           "audit inspection"
          ],
          [
           "Self Inspections […]  All self inspections should be recorded. Reports should be prepared at the<br>completion of self-inspections, and all the observations made during the inspections, conclusions of<br>evaluation, and proposals for corrective and preventative actions should at least be included. Self<br>inspection status should be reported to the senior management of the manufacturer.",
           "audit inspection"
          ],
          [
           "Self Inspections […] Principle […]  Self inspections should be organized periodically by the quality<br>management department to monitor the implementation of the Provisions, evaluate whether the<br>manufacturer is in compliance with them, and to propose necessary corrective and preventive actions.",
           "audit inspection"
          ],
          [
           "Examination of type […] The manufacturer must make available to the Secretary or the Australian<br>conformity assessment body for examination: (a) a sample of the type; and (b) on request from the<br>Secretary, additional samples of the type.",
           "audit inspection"
          ],
          [
           "Self Inspection […]  Self inspections should be conducted in an independent and detailed way by<br>designated competent person(s) from the company. Independent audits by external experts may also be<br>useful.",
           "audit inspection"
          ],
          [
           "Potential Applications for Quality Risk Management […] Auditing/Inspection. To define the frequency<br>and scope of audits, both internal and external, taking into account factors such as: • Existing<br>legal requirements; • Overall compliance status and history of the company or facility; • Robustness<br>of a company’s quality risk management activities; • Complexity of the site; • Complexity of the<br>manufacturing process; • Complexity of the product and its therapeutic significance; • Number and<br>significance of quality defects (e.g., recall); • Results of previous audits/inspections; • Major<br>changes of building, equipment, processes, key personnel; • Experience with manufacturing of a<br>product (e.g., frequency, volume, number of batches); • Test results of official control<br>laboratories.",
           "audit inspection"
          ],
          [
           "Self-inspections […] The manufacturer, etc. shall have the person designated beforehand conduct the<br>following duties in accordance with the documented procedure, etc. (1) To conduct the self-<br>inspections periodically on the manufacturing control and quality control of the products in their<br>manufacturing site, (2) To report in writing the results of the self-inspections to the<br>manufacturing manager, and (3) To establish and maintain records of results of the self-inspections.",
           "audit inspection"
          ],
          [
           "Self inspections should be conducted in order to monitor the implementation and compliance with Good<br>Manufacturing Practice principles and to propose necessary corrective measures.",
           "audit inspection"
          ],
          [
           "Key Personnel […] The Technical Responsible must also ensure the implementation of other activities<br>including the following:  I – Implementation and establishment of quality system; II – Development<br>of the company's quality manual; III – Self-inspections; IV – External audits (audits of suppliers)<br>and V – Validation programs.",
           "audit inspection"
          ],
          [
           "Self Inspection and Quality Audits […] Supplier Qualification Audits […]  Before suppliers are<br>included in the list of qualified suppliers, these should be evaluated following previously defined<br>procedure or program. § 1 The assessment should include meeting legal requirements, as well as<br>consider the history and nature of the supplier of materials to be supplied. § 2 When necessary to<br>carry out audits, they must demonstrate the ability of the supplier to meet the standards of GMP.",
           "audit inspection"
          ],
          [
           "Examination of type […] If the type is intended by the manufacturer to be connected to another<br>medical device, the manufacturer must, on request from the Secretary or the Australian conformity<br>assessment body, make available to the Secretary or the Australian conformity assessment body, or<br>arrange for the Secretary or the Australian conformity assessment body to have access to, a sample<br>of the device.",
           "audit inspection"
          ],
          [
           "Self Inspections […]  Self inspections should be conducted in an independent, systematic, and all<br>inclusive way by the designated person(s) of the manufacturer. Independent quality audits by<br>external experts are also acceptable.",
           "audit inspection"
          ],
          [
           "Internal audit […] Approach […]  Specially designated competent personnel should conduct internal<br>audits in an independent and detailed manner, regularly or on demand.",
           "audit inspection"
          ],
          [
           "lnternal audit follow-up should confirm the satisfactory completion or implementation of corrective<br>action.",
           "audit inspection"
          ],
          [
           "Frequency of self-inspection. The frequency with which self-inspections are conducted may depend on<br>company requirements but should preferably be at least once a year. The frequency should be stated<br>in the procedure.",
           "audit inspection"
          ],
          [
           "Self-inspections […] The manufacturer, etc. shall take necessary actions in case where improvements<br>are necessary for correcting the manufacturing control and quality control based on the results of<br>the self-inspections specified in Item (1) of preceding Paragraph 1, and to establish and maintain<br>records of such actions.",
           "audit inspection"
          ],
          [
           "Quality Audit. […] Those responsible for the audited areas shall be notified on non-conformities<br>identified.",
           "audit inspection"
          ],
          [
           "Self Inspection […] Principle […] Self inspections should be conducted in order to monitor the<br>implementation and compliance with Good Manufacturing Practice principles and to propose necessary<br>corrective measures.",
           "audit inspection"
          ],
          [
           "Self inspections should be conducted in an independent and detailed way by designated competent<br>person(s) from the company. Independent audits by external experts may also be useful.",
           "audit inspection"
          ],
          [
           "The manufacturer and, where different, marketing authorisation holder should evaluate the results of<br>the review and an assessment made as to whether corrective and preventive action or any revalidation<br>should be undertaken, under the Pharmaceutical Quality System. There should be management procedures<br>for the ongoing management and review of these actions and the effectiveness of these procedures<br>verified during self-inspection.   Quality reviews may be grouped by product type, e.g. solid dosage<br>forms, liquid dosage forms, sterile products, etc. where scientifically justified.  Where the<br>marketing authorisation holder is not the manufacturer, there should be a technical agreement in<br>place between the various parties that defines their respective responsibilities in producing the<br>product quality review.",
           "audit inspection"
          ],
          [
           "Self Inspection and Quality Audits […] Self Inspection Frequency. The frequency with which self-<br>inspections are conducted must be established in a procedure. Sole Paragraph. The frequency may<br>depend on the characteristics of the company and should be preferably annually.",
           "audit inspection"
          ],
          [
           "Product quality assurance procedures […] The conformity assessment procedures set out in this Part<br>provide for the manufacturer of a kind of medical device: (a) to:    (i) implement a product quality<br>management system for the final inspection and testing of the kind of device; and    (ii) arrange<br>for assessment of the system by the Secretary; and (b) to allow the Secretary to monitor the<br>operation of, and carry out inspections of, the system; and (c) to make a declaration of conformity<br>in relation to the kind of device; and (d) to:    (i) notify the Secretary of any change to the<br>system, or to the kinds of devices to which the system is to be applied; and    (ii) arrange for<br>assessment of any such change by the Secretary; and (e) to establish and keep up-to-date a post-<br>market monitoring, reporting and corrective action system. Note: See Division 3.2 in relation to the<br>kinds of medical devices to which these conformity assessment procedures may be applied.",
           "audit inspection"
          ],
          [
           "Conformity assessment procedures [...] Full quality assurance procedures [...]  (1) If requested to<br>do so by an authorised person, the manufacturer of a kind of medical device must:   (a) give to the<br>Secretary the following information in relation to the quality management system or the kinds of<br>medical device to which the system is applied:      (i) a copy of the documentation mentioned in<br>subclause 1.4(5) of this Schedule;     (ii) data in relation to the design of the kinds of medical<br>device (for example, the results of any analysis of the device, calculations, tests);     (iii) data<br>in relation to the manufacture of the kinds of medical device (for example, inspection reports, test<br>data, calibration data, information about the qualifications of staff); and   (b) arrange for tests<br>specified by the authorised person to be carried out for the purpose of checking whether the quality<br>management system is operating effectively. (2) If any inspections or tests are carried out by an<br>authorised person in relation to the manufacturer’s premises, or medical devices produced by the<br>manufacturer, the manufacturer may ask the authorised person to give to the manufacturer a report<br>stating the findings of the inspections or tests.",
           "audit inspection"
          ],
          [
           "Self-inspection […] Follow-up action. There should be an effective follow-up programme. The company<br>management should evaluate both the self-inspection report and the corrective actions as necessary.",
           "audit inspection"
          ],
          [
           "Verification of conformity [...] For the purpose of enabling the examination and testing to be<br>carried out, the manufacturer must have available, in writing, the following information and<br>undertakings: (a) the name and business address of the manufacturer; (b) the documentation<br>describing the manufacturing process to be used to manufacture the kind of device; (c) a description<br>of the procedures that have been, or will be, implemented to ensure that all devices of that kind<br>manufactured by the manufacturer will be uniform; (d) an undertaking to implement those procedures<br>to ensure that all devices of that kind manufactured by the manufacturer will be uniform; (e) an<br>undertaking by the manufacturer to notify the Secretary, or the person in relation to whom the kind<br>of device is included in the Register, of any information of the kind mentioned in subparagraph<br>3.4(2)(c)(i) or (ii) that the manufacturer becomes aware of in relation to the kind of medical<br>device; (f) for a kind of device in relation to which the type examination procedures have been<br>applied—evidence that the device conforms to the approved type and a copy of the technical<br>documentation required under subclause 2.3(3) of the type examination procedures for the approved<br>type; (g) for a kind of device to which the declaration of conformity (not requiring assessment by<br>Secretary) procedures have been applied—a copy of the technical documentation prepared under clause<br>6.4 of those procedures for that kind of device.",
           "audit inspection"
          ],
          [
           "Self Inspection and Quality Audits […]  The self-inspection must evaluate GMP compliance by the<br>manufacturer in all its aspects. § 1 The self-inspection program should be designed to detect any<br>deviation in the implementation of GMP and to recommend necessary corrective actions. § 2 The self-<br>inspections should be performed routinely and, moreover, can be performed on special occasions, such<br>as in the case of recalls, repeated product rejections or before an inspection to be performed by a<br>health authority. § 3 The staff responsible for self-inspection should be able to assess the<br>implementation of GMP objectively. § 4 All recommendations for corrective actions must be<br>implemented. § 5 The self-inspection procedure must be documented and there should be an effective<br>monitoring program.",
           "audit inspection"
          ],
          [
           "Internal Audits (Self Inspection) […]  Audit findings and corrective actions should be documented<br>and brought to the attention of responsible management of the firm. Agreed corrective actions should<br>be completed in a timely and effective manner.",
           "audit inspection"
          ],
          [
           "Self-inspection report. A report should be made at the completion of a self-inspection. The report<br>should include:  (a) self-inspection results; (b) evaluation and conclusions; (c) recommended<br>corrective actions.",
           "audit inspection"
          ],
          [
           "All self inspections should be recorded. Reports should contain all the observations made during the<br>inspections and, where applicable, proposals for corrective measures. Statements on the actions<br>subsequently taken should also be recorded.",
           "audit inspection"
          ],
          [
           "Production quality assurance procedures [...]  Information to be given to authorised person [...]<br>(1) If requested to do so by an authorised person, the manufacturer of a medical device must:   (a)<br>give to the Secretary the following information in relation to the quality management system or the<br>kinds of medical device to which the system is applied:      (i) a copy of the documentation<br>mentioned in subclause 4.4(5) of this Schedule;      (ii) data in relation to the production of the<br>kinds of medical device (for example, inspection reports, test data, calibration data, information<br>about the qualifications of staff); and   (b) arrange for tests specified by the authorised person<br>to be carried out for the purpose of checking whether the quality management system is operating<br>effectively. (2) If any inspections or tests are carried out by an authorised person under this<br>clause, the manufacturer may ask the authorised person to give to the manufacturer a report stating<br>the findings of the inspections or tests.",
           "audit inspection"
          ],
          [
           "Self Inspections […]  A plan should be available for self inspections, and periodical inspections<br>should be conducted on organization and personnel, premises, facilities, equipment, materials and<br> products, qualification and validation, documentation management, production management, quality<br>control and quality assurance, contract manufacture and analysis, product distribution and recalls,<br>and etc.",
           "audit inspection"
          ],
          [
           "Internal audit […] Approach […]  All observations made during the internal audit should be evaluated<br>and shared with appropriate management.",
           "audit inspection"
          ],
          [
           "Self Inspection […]  Personnel matters, premises, equipment, documentation, production, quality<br>control, distribution of the medicinal products, arrangements for dealing with complaints and<br>recalls, and self inspection, should be examined at intervals following a pre-arranged programme in<br>order to verify their conformity with the principles of Quality Assurance.",
           "audit inspection"
          ],
          [
           "Self Inspection and Quality Audits […] Self Inspection Report. A report should be prepared after the<br>completion of a self-inspection, which should include: I – The self-inspection results; II –<br>Evaluation and conclusions and  III – Recommended corrective actions.",
           "audit inspection"
          ],
          [
           "Verification of conformity [...] The manufacturer must make available to the Secretary or the<br>Australian conformity assessment body for examination and testing: (a) for a kind of device in<br>relation to which the type examination procedures have been applied:    (i) each medical device that<br>is to be verified in relation to the approved type; or    (ii) each medical device selected by the<br>Secretary on a statistical basis from a uniform batch of devices that are to be verified in relation<br>to the approved type; and (b) for a kind of device to which the declaration of conformity (not<br>requiring assessment by Secretary) procedures have been applied:    (i) each medical device of that<br>kind to which those procedures have been applied; or    (ii) each medical device selected by the<br>Secretary on a statistical basis from a uniform batch of devices of that kind to which those<br>procedures have been applied.",
           "audit inspection"
          ],
          [
           "Personnel […] The responsibilities of the responsible person include: […]  ensuring that self-<br>inspections are performed at appropriate regular intervals following a prearranged programme and<br>necessary corrective measures are put in place; […]",
           "audit inspection"
          ],
          [
           "Self-inspection, quality audits and suppliers’ audits and approval […]  Principle. The purpose of<br>self-inspection is to evaluate the manufacturer’s compliance with GMP in all aspects of production<br>and QC. The self-inspection programme should be designed to detect any shortcomings in the<br>implementation of GMP and to recommend the necessary corrective actions. Self-inspections should be<br>performed routinely, and may be, in addition, performed on special occasions, e.g. in the case of<br>product recalls or repeated rejections, or when an inspection by the health authorities is<br>announced. The team responsible for self-inspection should consist of personnel who can evaluate the<br>implementation of GMP objectively. All recommendations for corrective action should be implemented.<br>The procedure for self-inspection should be documented, and there should be an effective follow-up<br>programme.",
           "audit inspection"
          ],
          [
           "Self Inspection […]  All self inspections should be recorded. Reports should contain all the<br>observations made during the inspections and, where applicable, proposals for corrective measures.<br>Statements on the actions subsequently taken should also be recorded.",
           "audit inspection"
          ]
         ],
         "hovertemplate": "Standard mapping?=%{customdata[1]}<br>reduced_x=%{x}<br>reduced_y=%{y}<br>Original Text=%{customdata[0]}<br>Assigned Cluster=%{marker.color}<extra></extra>",
         "legendgroup": "audit inspection",
         "marker": {
          "color": [
           1,
           7,
           1,
           1,
           1,
           1,
           1,
           1,
           1,
           1,
           7,
           1,
           7,
           7,
           7,
           1,
           1,
           7,
           1,
           1,
           1,
           1,
           3,
           1,
           7,
           1,
           1,
           1,
           1,
           1,
           1,
           1,
           1,
           7,
           1,
           7,
           7,
           1,
           7,
           1,
           1,
           1,
           1,
           7,
           1,
           1,
           1,
           1,
           7,
           3,
           1,
           1
          ],
          "coloraxis": "coloraxis",
          "symbol": "square"
         },
         "mode": "markers",
         "name": "audit inspection",
         "orientation": "v",
         "showlegend": true,
         "type": "scatter",
         "x": [
          -3.6312344074249268,
          13.58581256866455,
          0.33081021904945374,
          1.9017413854599,
          -1.6584570407867432,
          -1.831568956375122,
          -2.2137625217437744,
          -8.74866771697998,
          -0.37368470430374146,
          0.45736464858055115,
          14.848710060119629,
          -10.37250804901123,
          25.41301727294922,
          12.961136817932129,
          13.169620513916016,
          5.514112949371338,
          2.2350618839263916,
          9.130084991455078,
          0.22195883095264435,
          -1.9060596227645874,
          3.7209904193878174,
          1.5699669122695923,
          -5.287237167358398,
          -1.479964017868042,
          9.408385276794434,
          1.0194165706634521,
          -0.4749051630496979,
          2.4354777336120605,
          4.49336051940918,
          4.164554595947266,
          -1.9309122562408447,
          1.6931874752044678,
          0.06566827744245529,
          3.5445523262023926,
          4.367086887359619,
          14.329120635986328,
          12.733583450317383,
          2.7593278884887695,
          12.292152404785156,
          3.2640151977539062,
          1.363267183303833,
          4.396112442016602,
          6.4410529136657715,
          13.358219146728516,
          1.5843629837036133,
          0.1562873125076294,
          0.5226032137870789,
          4.061329364776611,
          11.317334175109863,
          -15.742033004760742,
          3.3242647647857666,
          6.156423568725586
         ],
         "xaxis": "x",
         "y": [
          -4.402984619140625,
          12.005934715270996,
          -4.78892707824707,
          -5.552304744720459,
          3.4665656089782715,
          -0.7399857044219971,
          -4.773681640625,
          -10.449881553649902,
          0.4745017886161804,
          -0.7398112416267395,
          14.233420372009277,
          -12.26857852935791,
          12.18941593170166,
          14.195999145507812,
          11.881062507629395,
          -0.6138947010040283,
          -2.2516093254089355,
          13.543246269226074,
          4.0457987785339355,
          -8.88477897644043,
          -2.7114362716674805,
          -1.2059992551803589,
          -2.8636276721954346,
          -4.103222370147705,
          13.70142650604248,
          4.1250433921813965,
          2.443934440612793,
          2.054419994354248,
          4.720832347869873,
          -2.1934311389923096,
          2.239001512527466,
          -1.3959745168685913,
          4.3345842361450195,
          -8.483048439025879,
          4.597046375274658,
          12.554043769836426,
          13.57435131072998,
          0.456554651260376,
          11.994830131530762,
          -4.735775470733643,
          1.3147776126861572,
          0.7720575332641602,
          0.23665261268615723,
          13.990486145019531,
          -3.376598834991455,
          1.761441707611084,
          -4.535214424133301,
          0.40655791759490967,
          12.318882942199707,
          -6.554864883422852,
          -4.8336615562438965,
          0.11247323453426361
         ],
         "yaxis": "y"
        },
        {
         "customdata": [
          [
           "Complaints, Quality Defects and Product Recalls […] Investigation and Decision-making […] Quality<br>defects should be reported in a timely manner by the manufacturer to the marketing authorisation<br>holder/sponsor and all concerned Competent Authorities in cases where the quality defect may result<br>in the recall of the product or in an abnormal restriction in the supply of the product.",
           "qrb"
          ],
          [
           "Product Distribution and Recalls […] Recalls […]  The effectiveness of the product recall system<br>should be evaluated regularly.",
           "qrb"
          ],
          [
           "When a quality defect investigation is initiated, procedures should be in place to address at least<br>the following: […] The decision-making process that is to be used concerning the potential need for<br>risk-reducing actions to be taken in the distribution network, such as batch or product recalls, or<br>other actions.",
           "qrb"
          ],
          [
           "Product recalls […]  Principle. There should be a system to recall from the market, promptly and<br>effectively, products known or suspected to be defective.",
           "qrb"
          ],
          [
           "Article 72 In the event that any medical device inspection & evaluation institution or any medical<br>device related adverse events monitoring institution fails in performing their duties according to<br>these Regulations and results in serious errors, the Food and Drug Administration Department of the<br>people’s government above the level of county shall instruct them for corrections, issue notice of<br>criticism and give warning; in case of grave consequence, the person(s) in charge and other persons<br>directly responsible should be demoted, dismissed or expelled.",
           "qrb"
          ],
          [
           "It should also be considered whether the proposed recall action may affect different markets in<br>different ways, and if this is the case, appropriate market- specific risk-reducing actions should<br>be developed and discussed with the concerned Competent Authorities. Taking account of its<br>therapeutic use the risk of shortage of a medicinal product which has no authorised alternative<br>should be considered before deciding on a risk-reducing action such as a recall. Any decisions not<br>to execute a risk-reducing action which would otherwise be required should be agreed with the<br>Competent Authority in advance.",
           "qrb"
          ],
          [
           "The progress of the recall process should be recorded until closure and a final report issued,<br>including a reconciliation between the delivered and recovered quantities of the concerned<br>products/batches.",
           "qrb"
          ],
          [
           "Complaints, Quality Defects and Product Recalls […] Personnel and Organisation […] The use of inter-<br>disciplinary teams should be considered, including appropriately trained Quality Management<br>personnel.",
           "qrb"
          ],
          [
           "The sponsor should:  (a) Take steps to ensure that the investigational product(s) are stable over<br>the period of use. (b) Maintain sufficient quantities of the investigational product(s) used in the<br>trials to reconfirm specifications, should this become necessary, and maintain records of batch<br>sample analyses and characteristics. To the extent stability permits, samples should be retained<br>either until the analyses of the trial data are complete or as required by the applicable regulatory<br>requirement(s), whichever represents the longer retention period.",
           "qrb"
          ],
          [
           "Health hazard evaluation and recall classification  (a) An evaluation of the health hazard presented<br>by a product being recalled or considered for recall will be conducted by an ad hoc committee of<br>Food and Drug Administration scientists and will take into account, but need not be limited to, the<br>following factors:   (1) Whether any disease or injuries have already occurred from the use of the<br>product.   (2) Whether any existing conditions could contribute to a clinical situation that could<br>expose humans or animals to a health hazard. Any conclusion shall be supported as completely as<br>possible by scientific documentation and/or statements that the conclusion is the opinion of the<br>individual(s) making the health hazard determination.   (3) Assessment of hazard to various segments<br>of the population, e.g., children, surgical patients, pets, livestock, etc., who are expected to be<br>exposed to the product being considered, with particular attention paid to the hazard to those<br>individuals who may be at greatest risk.   (4) Assessment of the degree of seriousness of the health<br>hazard to which the populations at risk would be exposed.   (5) Assessment of the likelihood of<br>occurrence of the hazard.   (6) Assessment of the consequences (immediate or long-range) of<br>occurrence of the hazard. (b) On the basis of this determination, the Food and Drug Administration<br>will assign the recall a classification, i.e., Class I, Class II, or Class III, to indicate the<br>relative degree of health hazard of the product being recalled or considered for recall.",
           "qrb"
          ],
          [
           "Production […]  Where adverse donor (human or animal) health information becomes available after<br>procurement and/or processing, and this information relates to product quality, then appropriate<br>measures should be taken – including product recall, if applicable.",
           "qrb"
          ],
          [
           "Complaints and recalls […] Principle […]  When a product recall decision is made, appropriate steps<br>should be taken to complete the recall within the scope of these guidelines and to implement<br>corrective action.",
           "qrb"
          ],
          [
           "Product recalls […]  The authorized person should be responsible for the execution and coordination<br>of recalls. He or she should have sufficient staff to handle all aspects of the recalls with the<br>appropriate degree of urgency.",
           "qrb"
          ],
          [
           "Complaints, Quality Defects and Product Recalls […] Personnel and Organisation […] Appropriately<br>trained and experienced personnel should be responsible for managing complaint and quality defect<br>investigations and for deciding the measures to be taken to manage any potential risk(s) presented<br>by those issues, including recalls. These persons should be independent of the sales and marketing<br>organisation, unless otherwise justified. If these persons do not include the Qualified Person<br>involved in the certification for release of the concerned batch or batches, the latter should be<br>made formally aware of any investigations, any risk-reducing actions and any recall operations, in a<br>timely manner.",
           "qrb"
          ],
          [
           "Medicinal product recalls. The effectiveness of the arrangements for product recall should be<br>evaluated regularly (at least annually). Recall operations should be capable of being initiated<br>promptly and at any time. The distributor must follow the instructions of a recall message, which<br>should be approved, if required, by the competent authorities. Any recall operation should be<br>recorded at the time it is carried out. Records should be made readily available to the competent<br>authorities. The distribution records should be readily accessible to the person(s) responsible for<br>the recall, and should contain sufficient information on distributors and directly supplied<br>customers (with addresses, phone and/or fax numbers inside and outside working hours, batch numbers<br>at least for medicinal products bearing safety features as required by legislation and quantities<br>delivered), including those for exported products and medicinal product samples. The progress of the<br>recall process should be recorded for a final report.",
           "qrb"
          ],
          [
           "Definitions [...] Stock recovery means a firm's removal or correction of a product that has not been<br>marketed or that has not left the direct control of the firm, i.e., the product is located on<br>premises owned by, or under the control of, the firm and no portion of the lot has been released for<br>sale or use.",
           "qrb"
          ],
          [
           "Complaints, Quality Defects and Product Recalls […] Product Recalls and other potential risk-<br>reducing actions […] The effectiveness of the arrangements in place for recalls should be<br>periodically evaluated to confirm that they remain robust and fit for use. Such evaluations should<br>extend to both within office-hour situations as well as out-of-office hour situations and, when<br>performing such evaluations, consideration should be given as to whether mock-recall actions should<br>be performed. This evaluation should be documented and justified.",
           "qrb"
          ],
          [
           "Complaints, Quality Defects and Product Recalls […] Product Recalls and other potential risk-<br>reducing actions […] In the case of investigational medicinal products, all trial sites should be<br>identified and the countries of destination should be indicated. In the case of an investigational<br>medicinal product for which a marketing authorisation has been issued, the manufacturer of the<br>investigational medicinal product should, in cooperation with the sponsor, inform the marketing<br>authorisation holder of any quality defect that could be related to the authorised medicinal<br>product. The sponsor should implement a procedure for the rapid unblinding of blinded products,<br>where this is necessary for a prompt recall. The sponsor should ensure that the procedure discloses<br>the identity of the blinded product only in so far as is necessary.",
           "qrb"
          ],
          [
           "Product recalls […]  The appropriate authorities should be notified of recalls which could have an<br>impact upon consumer safety.",
           "qrb"
          ],
          [
           "Recall strategy [...] General [...]  A recall strategy that takes into account the following factors<br>will be developed by the agency for a Food and Drug Administration-requested recall and by the<br>recalling firm for a firm-initiated recall to suit the individual circumstances of the particular<br>recall: (i) Results of health hazard evaluation. (ii) Ease in identifying the product. (iii) Degree<br>to which the product's deficiency is obvious to the consumer or user. (iv) Degree to which the<br>product remains unused in the market-place. (v) Continued availability of essential products.",
           "qrb"
          ],
          [
           "Product recalls […]  There should be established written procedures, which are regularly reviewed<br>and updated, for the organization of any recall activity. Recall operations should be capable of<br>being initiated promptly down to the required level in the distribution chain.",
           "qrb"
          ],
          [
           "Product Recall […] The records of batch distribution should be readily available and should contain<br>sufficient information on distributors and direct customers, including products exported, samples<br>for clinical trials and medical samples, in order to allow an effective recall.",
           "qrb"
          ],
          [
           "Product recalls […]  Recalled products should be identified and stored separately in a secure area<br>while awaiting a decision.",
           "qrb"
          ],
          [
           "The effectiveness of the arrangements in place for recalls should be periodically evaluated to<br>confirm that they remain robust and fit for use. Such evaluations should extend to both within<br>office-hour situations as well as out-of-office hour situations and, when performing such<br>evaluations, consideration should be given as to whether mock-recall actions should be performed.<br>This evaluation should be documented and justified.",
           "qrb"
          ],
          [
           "Complaints, Quality Defects and Product Recalls […] Procedures for handling and investigating<br>complaints including possible quality defects […] When a quality defect investigation is initiated,<br>procedures should be in place to address at least the following: […] The assessment of the impact<br>that any recall action may have on the availability of the medicinal product to patients/animals in<br>any affected market, and the need to notify the relevant authorities of such impact.",
           "qrb"
          ],
          [
           "Complaints, Quality Defects and Product Recalls […] Investigation and Decision-making […] The<br>decisions that are made during and following quality defect investigations should reflect the level<br>of risk that is presented by the quality defect as well as the seriousness of any non-compliance<br>with respect to the requirements of the marketing authorisation/product specification file or GMP.<br>Such decisions should be timely to ensure that patient and animal safety is maintained, in a way<br>that is commensurate with the level of risk that is presented by those issues.",
           "qrb"
          ],
          [
           "Product Recall […] Procedures should be established for the organization of any recall activity.<br>Sole Paragraph. The company should be able to start any recall immediately throughout the<br>distribution chain.",
           "qrb"
          ],
          [
           "Corrective and preventive actions. […]  Each manufacturer shall establish and maintain procedures<br>to: Determine product recalls and other field actions that are relevant for products already<br>distributed.",
           "qrb"
          ],
          [
           "Product recalls […]  An instruction should be included in the written procedures to store recalled<br>products in a secure segregated area while their fate is decided.",
           "qrb"
          ],
          [
           "Product Recall […] A system that withdraw immediately and effectively products that have quality<br>deviations or that are under suspicion from the market, according to specific health legislation in<br>force.",
           "qrb"
          ],
          [
           "There should be established written procedures, regularly reviewed and updated when necessary, in<br>order to undertake any recall activity or implement any other risk-reducing actions.",
           "qrb"
          ],
          [
           "Product Recall […] All relevant health authorities in countries to which the product has been sent,<br>shall be promptly informed of any intention of collecting product that bears or is suspected of<br>quality deviation.",
           "qrb"
          ],
          [
           "In the case of investigational medicinal products, all trial sites should be identified and the<br>countries of destination should be indicated. In the case of an investigational medicinal product<br>for which a marketing authorisation has been issued, the manufacturer of the investigational<br>medicinal product should, in cooperation with the sponsor, inform the marketing authorisation holder<br>of any quality defect that could be related to the authorised medicinal product. The sponsor should<br>implement a procedure for the rapid unblinding of blinded products, where this is necessary for a<br>prompt recall. The sponsor should ensure that the procedure discloses the identity of the blinded<br>product only in so far as is necessary.",
           "qrb"
          ],
          [
           "Complaints, Quality Defects and Product Recalls […] Product Recalls and other potential risk-<br>reducing actions […] Recall operations should be capable of being initiated promptly and at any<br>time. In certain cases recall operations may need to be initiated to protect public or animal health<br>prior to establishing the root cause(s) and full extent of the quality defect",
           "qrb"
          ],
          [
           "Product recalls […]  Product recall operations should be capable of being initiated promptly and in<br>a timely manner.",
           "qrb"
          ],
          [
           "Product recalls […]  The product recall process should be periodically evaluated.",
           "qrb"
          ],
          [
           "Complaints, Quality Defects and Product Recalls […] Product Recalls and other potential risk-<br>reducing actions […] The progress of the recall process should be recorded until closure and a final<br>report issued, including a reconciliation between the delivered and recovered quantities of the<br>concerned products/batches.",
           "qrb"
          ],
          [
           "Complaints, Quality Defects and Product Recalls […] Product Recalls and other potential risk-<br>reducing actions […] It should also be considered whether the proposed recall action may affect<br>different markets in different ways, and if this is the case, appropriate market-specific risk-<br>reducing actions should be developed and discussed with the concerned competent authorities. Taking<br>account of its therapeutic use the risk of shortage of a medicinal product which has no authorised<br>alternative should be considered before deciding on a risk-reducing action such as a recall. Any<br>decisions not to execute a risk-reducing action which would otherwise be required should be agreed<br>with the competent authority in advance.",
           "qrb"
          ],
          [
           "Product Recall […] The progress of the recall process must be monitored and recorded. §1 The records<br>shall include the product disposal. §2 A final report must be issued including a reconciliation<br>between the product amounts collected and distributed, according to the current health regulation.",
           "qrb"
          ],
          [
           "Article 66 In any of the following circumstances, the Food and Drug Administration Department of the<br>people's government above the level of county should instruct the applicant to make correction and<br>confiscate their medical devices illegally manufactured, operated or used; in case the value of the<br>medical device illegally manufactured, operated or used is less than RMB 10,000, a penalty above RMB<br>20,000 but less than RMB 50,000 should be imposed additionally; in case that the value of goods is<br>more than RMB 10,000, a penalty more than 5 times but less than 10 times of the value of the goods<br>should be imposed additionally; in case of gross violation, the medical device manufacturing and<br>operating enterprises should be instructed to suspend production or business until the Medical<br>Device Registration Certificate, the Medical Device Manufacturing Permit and the Medical Device<br>Operation Permit are revoked by the original issuing authority: (a) Manufacture, operate and use any<br>medical devices that do not comply with the compulsory standard, or does not comply with technical<br>requirements already submitted for registration or notification; (b) The medical device<br>manufacturing enterprise fails to organize production according to the technical requirements<br>submitted for registration or notification, or fails in establishing the Quality Assurance System<br>and keeping it in effective operation according to the provisions of these Regulations; (c) Operate<br>and use the medical device without conformity certificate, or is expired, invalid and obsolete, or<br>use any medical device that have not been lawfully registered; (d) Refuse to recall or suspend<br>operation even after the Food and Drug Administration Department instructs them to implement recall<br>or suspend operation according to the provisions of these Regulations; (e) Entrust any enterprises<br>that do not meet the requirements of these Regulations to manufacture any medical device, or fail in<br>managing the manufacturing behaviors of the entrusted party.",
           "qrb"
          ],
          [
           "In addition to recalls, there are other potential risk-reducing actions that may be considered in<br>order to manage the risks presented by quality defects. Such actions may include the issuance of<br>cautionary communications to healthcare professionals in relation to their use of a batch that is<br>potentially defective. These should be considered on a case-by-case basis and discussed with the<br>concerned Competent Authorities.",
           "qrb"
          ],
          [
           "Complaints, Quality Defects and Product Recalls […] Procedures for handling and investigating<br>complaints including possible quality defects […] When a quality defect investigation is initiated,<br>procedures should be in place to address at least the following: […] The decision-making process<br>that is to be used concerning the potential need for risk-reducing actions to be taken in the<br>distribution network, such as batch or product recalls, or other actions.",
           "qrb"
          ],
          [
           "Product recalls […]  The authorized personnel should coordinate the recall process.",
           "qrb"
          ],
          [
           "Complaints, Quality Defects and Product Recalls […] Product Recalls and other potential risk-<br>reducing actions […] Recalled products should be identified and stored separately in a secure area<br>while awaiting a decision on their fate. A formal disposition of all recalled batches should be made<br>and documented. The rationale for any decision to rework recalled products should be documented and<br>discussed with the relevant competent authority. The extent of shelf-life remaining for any reworked<br>batches that are being considered for placement onto the market should also be considered.",
           "qrb"
          ],
          [
           "Recalled products should be identified and stored separately in a secure area while awaiting a<br>decision on their fate. A formal disposition of all recalled batches should be made and documented.<br>The rationale for any decision to rework recalled products should be documented and discussed with<br>the relevant Competent Authority. The extent of shelf-life remaining for any reworked batches that<br>are being considered for placement onto the market should also be considered.",
           "qrb"
          ],
          [
           "The batch/product distribution records should be readily available to the persons responsible for<br>recalls, and should contain sufficient information on wholesalers and directly supplied customers<br>(with addresses, phone and/or fax numbers inside and outside working hours, batches and amounts<br>delivered), including those for exported products and medical samples.",
           "qrb"
          ],
          [
           "Product Recall […] There must be a written procedure that describes the storage of recalled products<br>collected in a separate and secure area, while deciding on their destination.",
           "qrb"
          ],
          [
           "All concerned Competent Authorities should be informed in advance in cases where products are<br>intended to be recalled. For very serious issues (i.e. those with the potential to seriously impact<br>upon patient or animal health), rapid risk- reducing actions (such as a product recall) may have to<br>be taken in advance of notifying the Competent Authorities. Wherever possible, attempts should be<br>made to agree these in advance of their execution with the concerned Competent Authorities",
           "qrb"
          ],
          [
           "The sponsor should: (a) Ensure timely delivery of investigational product(s) to the investigator(s).<br>(b) Maintain records that document shipment, receipt, disposition, return, and destruction of the<br>investigational product(s) (see 8. Essential Documents for the Conduct of a Clinical Trial). (c)<br>Maintain a system for retrieving investigational products and documenting this retrieval (e.g., for<br>deficient product recall, reclaim after trial completion, expired product reclaim). (d) Maintain a<br>system for the disposition of unused investigational product(s) and for the documentation of this<br>disposition.",
           "qrb"
          ],
          [
           "Complaints, Quality Defects and Product Recalls […] Product Recalls and other potential risk-<br>reducing actions […] After a product has been placed on the market, any retrieval of it from the<br>distribution network as a result of a quality defect should be regarded and managed as a recall.<br>(This provision does not apply to the retrieval (or return) of samples of the product from the<br>distribution network to facilitate an investigation into a quality defect issue/report.)",
           "qrb"
          ],
          [
           "Product Recall […] The effectiveness of the recall measures must be tested and evaluated<br>periodically.",
           "qrb"
          ],
          [
           "Recall operations should be capable of being initiated promptly and at any time. In certain cases<br>recall operations may need to be initiated to protect public or animal health prior to establishing<br>the root cause(s) and full extent of the quality defect",
           "qrb"
          ],
          [
           "After a product has been placed on the market, any retrieval of it from the distribution network as<br>a result of a quality defect should be regarded and managed as a recall. (This provision does not<br>apply to the retrieval (or return) of samples of the product from the distribution network to<br>facilitate an investigation into a quality defect issue/report.)",
           "qrb"
          ],
          [
           "Product recalls […]  All competent authorities of all countries to which a given product has been<br>distributed should be promptly informed of any intention to recall the product because it is, or is<br>suspected of being, defective.",
           "qrb"
          ],
          [
           "Consideration should be given following consultation with the concerned Competent Authorities, as to<br>how far into the distribution network a recall action should extend, taking into account the<br>potential risk to public or animal health and any impact that the proposed recall action may have.<br>The Competent Authorities should also be informed in situations in which no recall action is being<br>proposed for a defective batch because the batch has expired (such as with short shelf-life<br>products.)",
           "qrb"
          ],
          [
           "Complaints, Quality Defects and Product Recalls […] Product Recalls and other potential risk-<br>reducing actions […] The batch/product distribution records should be readily available to the<br>persons responsible for recalls, and should contain sufficient information on wholesalers and<br>directly supplied customers (with addresses, phone and/or fax numbers inside and outside working<br>hours, batches and amounts delivered), including those for exported products and medical samples.",
           "qrb"
          ],
          [
           "Product recalls […]  The progress of the recall process should be monitored and recorded. Records<br>should include the disposition of the product. A final report should be issued, including a<br>reconciliation between the delivered and recovered quantities of the products.",
           "qrb"
          ],
          [
           "Definitions [...] Stock recovery means the correction or removal of a device that has not been<br>marketed or that has not left the direct control of the manufacturer, i.e., the device is located on<br>the premises owned, or under the control of, the manufacturer, and no portion of the lot, model,<br>code, or other relevant unit involved in the corrective or removal action has been released for sale<br>or use.",
           "qrb"
          ],
          [
           "Product recalls […]  The effectiveness of the arrangements for recalls should be tested and<br>evaluated from time to time.",
           "qrb"
          ]
         ],
         "hovertemplate": "Standard mapping?=%{customdata[1]}<br>reduced_x=%{x}<br>reduced_y=%{y}<br>Original Text=%{customdata[0]}<br>Assigned Cluster=%{marker.color}<extra></extra>",
         "legendgroup": "qrb",
         "marker": {
          "color": [
           0,
           0,
           0,
           0,
           0,
           0,
           0,
           3,
           2,
           0,
           0,
           0,
           0,
           0,
           0,
           0,
           0,
           0,
           0,
           0,
           0,
           0,
           0,
           1,
           0,
           0,
           0,
           0,
           0,
           0,
           0,
           0,
           7,
           0,
           0,
           0,
           0,
           0,
           0,
           4,
           0,
           0,
           0,
           0,
           0,
           0,
           0,
           0,
           7,
           0,
           0,
           0,
           0,
           0,
           0,
           0,
           0,
           0,
           0
          ],
          "coloraxis": "coloraxis",
          "symbol": "x"
         },
         "mode": "markers",
         "name": "qrb",
         "orientation": "v",
         "showlegend": true,
         "type": "scatter",
         "x": [
          14.595599174499512,
          14.901276588439941,
          13.067517280578613,
          15.43689250946045,
          11.697529792785645,
          21.985897064208984,
          17.03278923034668,
          10.929301261901855,
          13.633378982543945,
          21.50275993347168,
          15.787496566772461,
          13.971063613891602,
          12.20195198059082,
          12.253081321716309,
          13.540928840637207,
          24.76255989074707,
          8.526005744934082,
          15.702770233154297,
          14.748929977416992,
          21.071945190429688,
          11.91512680053711,
          14.1801176071167,
          18.963953018188477,
          8.290754318237305,
          13.828843116760254,
          14.654545783996582,
          12.661584854125977,
          12.834609985351562,
          18.729167938232422,
          16.58006477355957,
          10.914770126342773,
          16.062068939208984,
          15.699268341064453,
          17.582256317138672,
          14.001442909240723,
          13.933662414550781,
          15.97068977355957,
          21.706438064575195,
          16.385488510131836,
          11.707561492919922,
          20.222824096679688,
          13.304061889648438,
          13.054896354675293,
          18.62515640258789,
          18.827157974243164,
          13.397504806518555,
          19.260854721069336,
          20.116836547851562,
          13.798335075378418,
          16.247892379760742,
          14.958951950073242,
          17.88964080810547,
          16.741165161132812,
          15.652705192565918,
          20.599952697753906,
          13.694925308227539,
          16.255125045776367,
          24.770692825317383,
          14.55127239227295
         ],
         "xaxis": "x",
         "y": [
          -8.597699165344238,
          -17.60997200012207,
          -10.444595336914062,
          -15.864115715026855,
          6.349306106567383,
          -9.491101264953613,
          -6.177818775177002,
          -9.0208740234375,
          0.9168847799301147,
          -6.199826240539551,
          -11.044487953186035,
          -12.562921524047852,
          -16.314970016479492,
          -8.560256958007812,
          -4.6448211669921875,
          -15.453773498535156,
          -10.226868629455566,
          -1.8476665019989014,
          -14.81823444366455,
          -6.738645076751709,
          -14.238466262817383,
          -5.990368366241455,
          -16.39998435974121,
          -10.292635917663574,
          -8.955687522888184,
          -9.73299503326416,
          -14.599896430969238,
          -12.554617881774902,
          -16.823806762695312,
          -15.395113945007324,
          -14.160512924194336,
          -13.673829078674316,
          -1.6988234519958496,
          -11.71977710723877,
          -15.677472114562988,
          -18.701889038085938,
          -7.263881206512451,
          -9.32091236114502,
          -5.2154669761657715,
          6.545613765716553,
          -9.700387001037598,
          -9.598785400390625,
          -16.613922119140625,
          -8.343644142150879,
          -8.241676330566406,
          -6.1041340827941895,
          -17.240339279174805,
          -11.673890113830566,
          1.0165348052978516,
          -9.101874351501465,
          -18.643842697143555,
          -12.16390609741211,
          -9.286730766296387,
          -13.824462890625,
          -11.18486499786377,
          -6.820867538452148,
          -5.979776382446289,
          -15.440145492553711,
          -18.108478546142578
         ],
         "yaxis": "y"
        },
        {
         "customdata": [
          [
           "Personnel […] The establishment and the maintenance of a quality assurance system and manufacturing<br>of drugs depend on people who perform them. § 1 There must be sufficient qualified personnel to<br>perform all activities for which the manufacturer is responsible. § 2 All individual<br>responsibilities must be established in documents formally approved and must be clearly understood<br>by all involved.",
           "training"
          ],
          [
           "Documentation […]  Records should be made or completed when any action is taken and in such a way<br>that all significant activities concerning the manufacture of pharmaceutical products are traceable.<br>Records should be retained for at least one year after the expiry date of the finished product.",
           "training"
          ],
          [
           "Training. The manufacturer, etc. shall have the person designated beforehand conduct the following<br>duties in accordance with the documented procedure, etc. (1) To implement as planned the training<br>necessary for conducting the manufacturing control and quality control for the personnel engaged in<br>the manufacturing and quality control duties of the products, (2) To report in writing the progress<br>of the training to the manufacturing manager, and (3) To establish and maintain records of the<br>implementation of the training.",
           "training"
          ],
          [
           "Key Personnel […] The heads of Production, Quality Control and where relevant, Head of Quality<br>Assurance or Head of Quality Unit, generally have some shared, or jointly exercised,<br>responsibilities  […]. These may include, subject to any national regulations […]:  Training;",
           "training"
          ],
          [
           "Training […] Personnel should receive initial and continuing training relevant to their role, based<br>on written procedures and in accordance with a written training programme. The responsible person<br>should also maintain their competence in GDP through regular training.",
           "training"
          ],
          [
           "Personnel […] Training […]  Training and skills Personnel involved in production, control, storage<br>and shipment should have skills based on relevant training and experience acquired, or any<br>combination thereof, that are appropriate to their responsibilities and activities.",
           "training"
          ],
          [
           "Personnel […] Organization […] Number of people The company should have an adequate number of<br>properly trained personnel with regards to the defined activities in these guidelines.",
           "training"
          ],
          [
           "Quality Control and Quality Assurance […] Management of Quality Control Laboratories […]  The head<br>of quality control should have appropriate qualifications and experience in managing laboratories<br>and can manage one or more control laboratories within the same manufacturer.",
           "training"
          ],
          [
           "Personnel […] Training […]  The manufacturer should provide training for all the personnel whose<br>duties take them into production and storage areas or into control laboratories (including the<br>technical, maintenance and cleaning personnel), and for other personnel whose activities could<br>affect the quality of the product.",
           "training"
          ],
          [
           "Monitoring and measuring resources […] The organization shall determine and provide the resources<br>needed to ensure valid and reliable results when monitoring or measuring is used to verify the<br>conformity of products and services to requirements. The organization shall ensure that the<br>resources provided: a) are suitable for the specific type of monitoring and measurement activities<br>being undertaken; b) are maintained to ensure their continuing fitness for their purpose. The<br>organization shall retain appropriate documented information as evidence of fitness for purpose of<br>the monitoring and measurement resources.",
           "training"
          ],
          [
           "The basic requirements of GMP are that: […] Procedures are carried out correctly and operators are<br>trained to do so;",
           "training"
          ],
          [
           "Key personnel responsible for supervising the production and quality unit(s) for pharmaceutical<br>products should possess the qualifications of a scientific education and practical experience<br>required by national legislation. Their education should include the study of an appropriate<br>combination of: (a) chemistry (analytical or organic) or biochemistry; (b) chemical engineering; (c)<br>microbiology; (d) pharmaceutical sciences and technology; (e) pharmacology and toxicology;  (f)<br>physiology; (g) other related sciences. They should also have adequate practical experience in the<br>manufacture and QA of pharmaceutical products. In order to gain such experience, a preparatory<br>period may be required, during which they should perform their duties under professional guidance.<br>The scientific education and practical experience of experts should be such as to enable them to<br>exercise independent professional judgement, based on the application of scientific principles and<br>understanding to the practical problems encountered in the manufacture and QC of pharmaceutical<br>products.",
           "training"
          ],
          [
           "Training […]  Training should be provided for all personnel in production and quality activities.<br>The content of the training should be appropriate to the responsibilities assigned to them. Besides<br>the training on the theory and practice of the Provisions, there should be training on relevant laws<br>and regulations, and job related responsibilities and skills. The practical effectiveness of the<br>training should be periodically assessed.",
           "training"
          ],
          [
           "Training […] The manufacturer should provide training in accordance with a written programme for all<br>personnel whose duties take them into manufacturing areas or into control laboratories (including<br>the technical, maintenance and cleaning personnel) and for other personnel as required.",
           "training"
          ],
          [
           "Personnel […] The responsibilities of the responsible person include: […]  ensuring that initial and<br>continuous training programmes are implemented and maintained; […]",
           "training"
          ],
          [
           "Selection of clinical personnel. Prior to commencement of the clinical investigation, the sponsor<br>shall a) define, establish and allocate all the roles and responsibilities related to the clinical<br>investigation in one or more written agreements, as defined in 5.9, b) select appropriately<br>qualified principal investigators, as outlined in 5.8 and 9.2, c) select a coordinating<br>investigator, if appropriate, as in the case of a multicentre investigation, d) receive disclosures<br>of conflict of interest from principal investigators and investigators, where required by national<br>regulations, e) ensure the members of the investigation site team and their designated<br>authorization(s) are identified in a log with details, as defined in 6.2, f) designate or appoint<br>one or more monitors, or otherwise assume the responsibilities of the monitor(s), and g) ensure<br>documentation of training, experience and scientific or clinical knowledge for all the relevant<br>parties involved in order to adequately conduct the clinical investigation, including training, on<br>1) the use of the investigational device(s),   2) device accountability procedures (see 6.9),   3)<br>IB,   4) CIP,   5) CRFs and instructions for completion,   6) the written informed consent form and<br>process as well as other written information provided to subjects, and   7) sponsor's written<br>procedures, this International Standard and any applicable regulatory requirements; h) ensure that,<br>in multicentre investigations, all investigators and all other parties involved are given<br>instructions on uniformly assessing and documenting clinical and laboratory findings, i) ensure that<br>any clinical-investigation-related activities of sponsor representative(s) at the investigation<br>site(s) are described in the CIP and the informed consent form, and that these activities occur in<br>such a way that they do not bias the data integrity, NOTE Individuals such as field engineers or<br>sales representatives who will provide technical expertise in the implementation of the clinical<br>investigation, are examples of sponsor representatives. j) consider the need for a DMC and, if<br>appropriate, establish the committee.",
           "training"
          ],
          [
           "Potential Applications for Quality Risk Management […] Training and education. To determine the<br>appropriateness of initial and/or ongoing training sessions based on education, experience and<br>working habits of staff, as well as on a periodic assessment of previous training (e.g., its<br>effectiveness); To identify the training, experience, qualifications and physical abilities that<br>allow personnel to perform an operation reliably and with no adverse impact on the quality of the<br>product.",
           "training"
          ],
          [
           "Personnel […]  The manufacturer should have an adequate number of personnel with the necessary<br>qualifications and practical experience. The responsibilities placed on any one individual should<br>not be so extensive as to present any risk to quality.",
           "training"
          ],
          [
           "Training […] The concept of QA and all the measures which aid its understanding and implementation<br>should be fully discussed during the training sessions.",
           "training"
          ],
          [
           "The basic requirements of Quality Control are that: […]  Adequate facilities, equipment, instruments<br>and trained personnel are resourced, to ensure the related quality control activities are done<br>effectively and reliably.",
           "training"
          ],
          [
           "Key Personnel […] Qualified Person […]  Qualification: The Qualified Person should, at a minimum,<br>possess a college degree in pharmaceutical or relevant specialties (or with an intermediate<br>professional technique certificate or a pharmacist’s license), with at least five years of practical<br>experience in pharmaceutical production and quality management, with work experience in in-process<br>control and quality testing. The Qualified Person should possess necessary theoretical knowledge in<br>relevant specialties, be trained in product release so as to fulfill its responsibilities<br>independently.",
           "training"
          ],
          [
           "Personnel Qualifications […]  The responsibilities of all personnel engaged in the manufacture of<br>intermediates and APIs should be specified in writing.",
           "training"
          ],
          [
           "Personnel […] The manufacturer, etc. shall ensure sufficiently the personnel who have competence for<br>appropriately conducting the manufacturing and quality control duties.",
           "training"
          ],
          [
           "Personnel […]  All personnel should be aware of the principles of GMP that affect them and receive<br>initial and continuing training, including hygiene instruction, relevant to their needs. All<br>personnel should be motivated to support the establishment and maintenance of high quality<br>standards.",
           "training"
          ],
          [
           "Good manufacturing practices for pharmaceutical products […] Under GMP: […] all necessary resources<br>are provided, including: (i) sufficient and appropriately qualified and trained personnel, (ii)<br>adequate premises and space, (iii) suitable equipment and services, (iv) appropriate materials,<br>containers and labels, (v) approved procedures and instructions, (vi) suitable storage and<br>transport, (vii) adequate personnel, laboratories and equipment for in-process controls;",
           "training"
          ],
          [
           "Training […] A record of all training should be kept, and the effectiveness of training should be<br>periodically assessed and documented.",
           "training"
          ],
          [
           "Personnel […] Training […] The pharmaceutical quality system and all the measures capable of<br>improving its understanding and implementation should be fully discussed during the training<br>sessions.",
           "training"
          ],
          [
           "Key Personnel […] The head of production management […]  Qualification: The head of production<br>management should, at a minimum, possess a college degree in pharmaceutical or relevant specialties<br>(or with an intermediate professional technique certificate or a pharmacist’s license), with at<br>least three years of practical experience in pharmaceutical production and quality management, among<br>which at least one year in production management, with necessary training relating to the products<br>being manufactured.",
           "training"
          ],
          [
           "Personnel […]  Training in cleaning and disinfection procedures, hygiene and microbiology should<br>emphasize the risk of microbial and adventitious contamination and the nature of the target<br>microorganisms and growth media routinely used.",
           "training"
          ],
          [
           "Training […] Besides basic training on the theory and practice of GMP, newly recruited personnel<br>should receive training appropriate to the duties assigned to them. Continuing training should also<br>be given, and its practical effectiveness periodically assessed. Approved training programmes should<br>be available. Training records should be kept.",
           "training"
          ],
          [
           "Prevention of Cross-Contamination in Production […] The outcome of the Quality Risk Management<br>process should be the basis for determining the extent of technical and organisational measures<br>required to control risks for cross-contamination. These could include, but are not limited to, the<br>following: […] Organisational Measures […] Supervision of working behaviour to ensure training<br>effectiveness and compliance with the relevant procedural controls.",
           "training"
          ],
          [
           "Personnel (including those concerned with cleaning, maintenance or quality control) employed in<br>areas where biological active substances and products are manufactured and tested should receive<br>training, and periodic retraining, specific to the products manufactured to their work, including<br>any specific security measures to protect product, personnel and the environment.",
           "training"
          ],
          [
           "Organization and Personnel […] Personnel qualifications […]  (a) Each person engaged in the<br>manufacture, processing, packing, or holding of a drug product shall have education, training, and<br>experience, or any combination thereof, to enable that person to perform the assigned functions.<br>Training shall be in the particular operations that the employee performs and in current good<br>manufacturing practice (including the current good manufacturing practice regulations in this<br>chapter and written procedures required by these regulations) as they relate to the employee’s<br>functions. Training in current good manufacturing practice shall be conducted by qualified<br>individuals on a continuing basis and with sufficient frequency to assure that employees remain<br>familiar with CGMP requirements applicable to them.",
           "training"
          ],
          [
           "(b) Personnel. Personnel shall have capabilities commensurate with their assigned functions, a<br>thorough understanding of the manufacturing operations which they perform, the necessary training<br>and experience relating to individual products, and adequate information concerning the application<br>of the pertinent provisions of this subchapter to their respective functions. Personnel shall<br>include such professionally trained persons as are necessary to insure the competent performance of<br>all manufacturing processes.",
           "training"
          ],
          [
           "Good manufacturing practices for pharmaceutical products […] Under GMP: […] procedures are carried<br>out correctly and personnel are trained to do so;",
           "training"
          ],
          [
           "Personnel […] The manufacturer, etc. shall appropriately assign responsible persons who have<br>competence for conducting the manufacturing and quality control duties properly and efficiently<br>(hereinafter simply referred to as \"responsible persons\") according to the organisation, size, type<br>of the duties, etc. of the manufacturing site.",
           "training"
          ],
          [
           "Personnel […] The manufacturer must have an adequate number of staff with the necessary<br>qualifications and experience. Sole Paragraph. The responsibilities assigned to any employee should<br>not be so extensive as to present risks to product quality.",
           "training"
          ],
          [
           "Organization and Personnel […] Personnel qualifications […]  (b) Each person responsible for<br>supervising the manufacture, processing, packing, or holding of a drug product shall have the<br>education, training, and experience, or any combination thereof, to perform assigned functions in<br>such a manner as to provide assurance that the drug product has the safety, identity, strength,<br>quality, and purity that it purports or is represented to possess.",
           "training"
          ],
          [
           "Quality System Requirements […] Personnel. […]  (b) Training. Each manufacturer shall establish<br>procedures for identifying training needs and ensure that all personnel are trained to adequately<br>perform their assigned responsibilities. Training shall be documented. (1) As part of their<br>training, personnel shall be made aware of device defects which may occur from the improper<br>performance of their specific jobs. (2) Personnel who perform verification and validation activities<br>shall be made aware of defects and errors that may be encountered as part of their job functions.",
           "training"
          ],
          [
           "The GMP determine that: […] Employees should be trained to correctly perform the procedures;",
           "training"
          ],
          [
           "Personnel Qualifications […] You must have qualified employees who manufacture, package, label, or<br>hold dietary supplements.",
           "training"
          ],
          [
           "Organization and Personnel […] Personnel qualifications […]  (c) There shall be an adequate number<br>of qualified personnel to perform and supervise the manufacture, processing, packing, or holding of<br>each drug product.",
           "training"
          ],
          [
           "Personnel […] Records […] (a) You must make and keep records required under this subpart B in<br>accordance with subpart P of this part. (b)  You must make and keep the following records: (1)<br>Written procedures for fulfilling the requirements of this subpart B; and  (2) Documentation of<br>training, including the date of the training, the type of training, and the person(s) trained.",
           "training"
          ],
          [
           "Quality System Requirements […] Personnel. […]  (a) General. Each manufacturer shall have sufficient<br>personnel with the necessary education, background, training, and experience to assure that all<br>activities required by this part are correctly performed.",
           "training"
          ],
          [
           "Personnel Qualifications […]  Training should be regularly conducted by qualified individuals and<br>should cover, at a minimum, the particular operations that the employee performs and GMP as it<br>relates to the employee's functions. Records of training should be maintained. Training should be<br>periodically assessed.",
           "training"
          ],
          [
           "Key Personnel […] The head of quality management […]  Qualification: The head of the quality<br>management should, at a minimum, possess a college degree in pharmaceutical or relevant specialties<br>(or with an intermediate professional technique certificate or a pharmacist’s license), with at<br>least five years of practical experience in pharmaceutical production and quality management, among<br>which at least one year in quality management, with necessary training relating to the products<br>being manufactured.",
           "training"
          ],
          [
           "The basic requirements of production and quality control are that: […]  Operators are trained to<br>carry out procedures correctly.",
           "training"
          ],
          [
           "Personnel […] Principle […]  Persons involved in the implementation of the activities described in<br>these guidelines should have appropriate training to produce, control and store products with a<br>defined quality.",
           "training"
          ],
          [
           "Documentation […] The documents must be written, reviewed, approved and distributed only by<br>designated persons.  Sole Paragraph. They must meet all manufacturing steps authorized by the<br>record.",
           "training"
          ],
          [
           "Key Personnel […] The head of production management […]  Main responsibilities:  1) To ensure that<br>products are produced and stored according to approved master manufacturing documents in order to<br>obtain the required quality;  2) To ensure strict implementation of the procedures relating to<br>production operations;  3) To ensure that the batch records of processing and packaging are<br>evaluated and signed by a designated person before they are sent to the quality management<br>department;  4) To ensure that the premises and equipment are maintained and serviced to function in<br>a sound operating state;  5) To ensure that the necessary validations are done;  6) To ensure that<br>required initial and continuing training of personnel in production is carried out and adapted<br>according to need.",
           "training"
          ],
          [
           "Personnel Qualifications […] Each person engaged in manufacturing, packaging, labeling, or holding,<br>or in performing any quality control operations, must have the education, training, or experience to<br>perform the person’s assigned functions.",
           "training"
          ],
          [
           "Training […] All personnel involved in wholesale distribution activities should be trained on the<br>requirements of GDP. They should have the appropriate competence and experience prior to commencing<br>their tasks.",
           "training"
          ],
          [
           "Assessment by Member States […] Member States shall ensure that the assessment is done jointly by an<br>appropriate number of persons who collectively have the necessary qualifications and experience.",
           "training"
          ],
          [
           "Personnel Qualifications […]  There should be an adequate number of personnel qualified by<br>appropriate education, training and/or experience to perform and supervise the manufacture of<br>intermediates and APIs.",
           "training"
          ]
         ],
         "hovertemplate": "Standard mapping?=%{customdata[1]}<br>reduced_x=%{x}<br>reduced_y=%{y}<br>Original Text=%{customdata[0]}<br>Assigned Cluster=%{marker.color}<extra></extra>",
         "legendgroup": "training",
         "marker": {
          "color": [
           3,
           3,
           3,
           3,
           3,
           3,
           3,
           3,
           3,
           2,
           3,
           3,
           3,
           3,
           3,
           7,
           3,
           3,
           3,
           3,
           3,
           3,
           3,
           3,
           3,
           3,
           3,
           3,
           3,
           3,
           6,
           3,
           3,
           3,
           3,
           3,
           3,
           3,
           3,
           3,
           3,
           3,
           3,
           3,
           3,
           3,
           3,
           3,
           3,
           3,
           3,
           3,
           3,
           3
          ],
          "coloraxis": "coloraxis",
          "symbol": "cross"
         },
         "mode": "markers",
         "name": "training",
         "orientation": "v",
         "showlegend": true,
         "type": "scatter",
         "x": [
          -10.88049030303955,
          -6.102826118469238,
          -8.073296546936035,
          1.8561242818832397,
          -17.516326904296875,
          -15.867020606994629,
          -13.98570728302002,
          -5.530616760253906,
          -15.324214935302734,
          -3.761348009109497,
          -14.295031547546387,
          4.255274772644043,
          -18.510393142700195,
          -15.610559463500977,
          -15.933728218078613,
          15.584196090698242,
          -0.6580663919448853,
          -12.26307487487793,
          -20.503437042236328,
          -12.530436515808105,
          3.6964526176452637,
          -12.912402153015137,
          -11.630973815917969,
          -17.87577247619629,
          -16.497175216674805,
          -20.35556983947754,
          -20.37681007385254,
          3.7162184715270996,
          -18.09223175048828,
          -19.083980560302734,
          -0.10570927709341049,
          -16.654253005981445,
          -12.365679740905762,
          -13.52856159210205,
          -16.197999954223633,
          -10.93156909942627,
          -11.808995246887207,
          -11.885149955749512,
          -14.724844932556152,
          -14.999488830566406,
          -11.009331703186035,
          -12.060940742492676,
          -15.603713035583496,
          -13.379167556762695,
          -18.42779541015625,
          3.5251500606536865,
          -13.42431354522705,
          -14.502470016479492,
          -11.43521785736084,
          -5.686944484710693,
          -12.045494079589844,
          -16.757707595825195,
          3.5481772422790527,
          -13.051445007324219
         ],
         "xaxis": "x",
         "y": [
          0.541450560092926,
          5.508225917816162,
          -1.052643060684204,
          -13.101001739501953,
          -4.760012149810791,
          -3.857297420501709,
          -4.71016263961792,
          -9.573512077331543,
          -2.3887994289398193,
          -6.410991668701172,
          -9.877774238586426,
          -18.095218658447266,
          -3.932555675506592,
          -2.240624189376831,
          -6.148159980773926,
          2.860438108444214,
          -9.173084259033203,
          -4.371581077575684,
          -7.8545966148376465,
          -10.405950546264648,
          -17.188182830810547,
          -6.018970012664795,
          -3.2726504802703857,
          -2.466970443725586,
          -11.301767349243164,
          -4.871348857879639,
          -7.777774333953857,
          -16.337574005126953,
          -1.1273283958435059,
          -4.595193386077881,
          -10.233166694641113,
          -1.2023082971572876,
          1.5078072547912598,
          -1.0700982809066772,
          -11.214902877807617,
          -3.1805124282836914,
          -4.734746932983398,
          1.082956314086914,
          -0.3501245379447937,
          -9.3217191696167,
          -1.2449992895126343,
          0.38064301013946533,
          1.071753740310669,
          -2.161745548248291,
          -5.167074203491211,
          -16.646211624145508,
          -10.20640754699707,
          -3.8431363105773926,
          -6.641447067260742,
          -2.3717546463012695,
          -1.5798770189285278,
          -3.9874207973480225,
          -11.177102088928223,
          -3.5629806518554688
         ],
         "yaxis": "y"
        },
        {
         "customdata": [
          [
           "Quality Control and Quality Assurance […] Change Control […]  Operation procedures should be<br>established to define the request, assessment, review, approval and implementation of changes in<br>starting materials, packaging materials, specifications, testing methods, operation procedures,<br>premises, facilities, equipment, instruments, manufacturing process and computer software. The<br>quality management department should assign a designated person to take charge of the change<br>control.",
           "change controls"
          ],
          [
           "Specific processes or variations to the standard process may be required for the following types of<br>changes: […]  Temporary Changes. These are changes which are planned to be in place for a limited<br>period (as defined by the regulated company ). Any such changes may introduce new or increased risk<br>which should be assessed and managed. Particular attention should be paid to the reversal of<br>temporary changes to ensure that they are 'rolled back' and properly reviewed through the formal<br>change management process before being made permanent.",
           "change controls"
          ],
          [
           "Computerised Systems […] Change and Configuration Management […] Any changes to a computerised<br>system including system configurations should only be made in a controlled manner in accordance with<br>a defined procedure.",
           "change controls"
          ],
          [
           "Quality Control and Quality Assurance […] Change Control […]   The manufacturer should establish a<br>change control system to evaluate and manage all changes which could have an impact on product<br>quality. Any change requiring approval from the drug regulatory department should only be applied<br>after obtaining the approval.",
           "change controls"
          ],
          [
           "Potential Applications for Quality Risk Management […] Change management / change control. To manage<br>Changes based on knowledge and information accumulated in pharmaceutical development and during<br>manufacturing. To evaluate the impact of the changes on the availability of the final product; To<br>evaluate the impact on product quality of changes to the facility, equipment, material,<br>manufacturing process or technical transfers; To determine appropriate actions preceding the<br>implementation of a change, e.g., additional testing, (re)qualification, (re)validation or<br>communication with regulators.",
           "change controls"
          ],
          [
           "Control of changes. The organization shall review and control changes for production or service<br>provision, to the extent necessary to ensure continuing conformity with requirements. The<br>organization shall retain documented information describing the results of the review of changes,<br>the person(s) authorizing the change, and any necessary actions arising from the review.",
           "change controls"
          ],
          [
           "Change Control […] The company should establish a management system changes in order to keep under<br>control the changes that will impact on qualified equipment and systems, as well as processes and<br>procedures already validated, may or may not influence the quality of manufactured products.",
           "change controls"
          ],
          [
           "Revalidation after Changes […] The extent of revalidation depends on the nature and significance of<br>the change.",
           "change controls"
          ],
          [
           "Quality system […] A change control system should be in place. This system should incorporate<br>quality risk management principles, and be proportionate and effective.",
           "change controls"
          ],
          [
           "Change Control […]  Written procedures should provide for the identification, documentation,<br>appropriate review, and approval of changes in raw materials, specifications, analytical methods,<br>facilities, support systems, equipment (including computer hardware), processing steps, labelling<br>and packaging materials, and computer software.",
           "change controls"
          ],
          [
           "Quality Control and Quality Assurance […] Change Control […]  Change that may affect the product<br>quality is proposed by an application department, steps should be taken to do assessment, and then<br>establish an implementation plan with defined responsibilities, followed by its final review and<br>approval by the quality management department. The implementation of change should be fully<br>recorded.",
           "change controls"
          ],
          [
           "Changes to requirements for products and services. The organization shall ensure that relevant<br>documented information is amended, and that relevant persons are made aware of the changed<br>requirements, when the requirements for products and services are changed.",
           "change controls"
          ],
          [
           "The need for requalification after changes should be considered by the change control procedure.",
           "change controls"
          ],
          [
           "Change Control […]  After the change has been implemented, there should be an evaluation of the<br>first batches produced or tested under the change.",
           "change controls"
          ],
          [
           "Change Control […] The procedure should describe the actions to be taken, including the need and<br>extent of qualification or validation to be performed.",
           "change controls"
          ],
          [
           "Qualification and Validation […] Change control […] Supporting data, e.g. copies of documents,<br>should be reviewed to confirm that the impact of the change has been demonstrated prior to final<br>approval.",
           "change controls"
          ],
          [
           "Revalidation after Changes […] The changes should not adversely affect product quality or process<br>characteristics.",
           "change controls"
          ],
          [
           "Qualification and Validation […] Change control […] Changes should be authorised and approved by the<br>responsible persons or relevant functional personnel in accordance with the pharmaceutical quality<br>system.",
           "change controls"
          ],
          [
           "All arrangements for the outsourced activities including any proposed changes in technical or other<br>arrangements should be in accordance with regulations in force, and the Marketing Authorisation for<br>the product concerned, where applicable.",
           "change controls"
          ],
          [
           "Production and/or Analysis Contract […]  All conditions established on the contract of production<br>and/or analysis, including any proposed change in the technical conditions or of other nature, must<br>comply with product registration.",
           "change controls"
          ],
          [
           "The need for revalidation after changes should be considered by the change control procedure.",
           "change controls"
          ],
          [
           "Qualification and Validation […] Change control […] Where design space is used, the impact on<br>changes to the design space should be considered against the registered design space within the<br>marketing authorisation and the need for any regulatory actions assessed.",
           "change controls"
          ],
          [
           "Change Control […]  Any proposals for GMP relevant changes should be drafted, reviewed, and approved<br>by the appropriate organisational units, and reviewed and approved by the quality unit(s).",
           "change controls"
          ],
          [
           "Revalidation after change should be performed when the change may affect the process, procedure,<br>product quality and/or product characteristics. Sole Paragraph. Revalidation should be considered as<br>particle of the change control procedure.",
           "change controls"
          ],
          [
           "Qualification and Validation […] Change control […] Following implementation, and, where<br>appropriate, an evaluation of the effectiveness of change should be carried out to confirm that the<br>change has been successful.",
           "change controls"
          ],
          [
           "Change control […]  Changes that could affect the quality of product should be approved and<br>performed by authorized personnel on the basis of sufficient data.",
           "change controls"
          ],
          [
           "For any automated, mechanical, or electronic equipment that you use to manufacture, package, label,<br>or hold a dietary supplement, you must: […]  Establish and use appropriate controls for automated,<br>mechanical, and electronic equipment (including software for a computer controlled process) to<br>ensure that any changes to the manufacturing, packaging, labeling, holding, or other operations are<br>approved by quality control personnel and instituted only by authorized personnel; and […]",
           "change controls"
          ],
          [
           "Change Control […] The changes must be formally requested, documented and approved before<br>implementation. Records must be maintained.",
           "change controls"
          ],
          [
           "Medicinal Products Derived from Human Blood or Plasma […] Quality Management […]  A formal change<br>control system should be in place to plan, evaluate and document all changes that may affect the<br>quality or safety of the products, or traceability. The potential impact of proposed changes should<br>be evaluated. The need for additional testing and validation, especially viral inactivation and<br>removal steps, should be determined.",
           "change controls"
          ],
          [
           "Change Control. The manufacturer, etc. shall, in case where any change will be made in the<br>manufacturing procedure, etc. which could affect the quality of the products, have the person<br>designated beforehand conduct the following duties in accordance with the documented procedure, etc.<br>(1) To evaluate effects on the quality of the products due to such change, to be approved by the<br>quality department with respect to the change being made based on the results of the evaluation, and<br>to establish and maintain records of the evaluation and approval, and (2) To revise relevant<br>documents, to train the personnel and to take other necessary actions in case where any change is<br>made upon approval of the quality department specified in the provision of preceding Item (1).",
           "change controls"
          ],
          [
           "Materials Management […] General Controls […]  Changing the source of supply of critical raw<br>materials should be treated according to Section 13, Change Control.",
           "change controls"
          ],
          [
           "A Pharmaceutical Quality System appropriate for the manufacture of medicinal products should ensure<br>that: […] Arrangements are in place for the prospective evaluation of planned changes and their<br>approval prior to implementation taking into account regulatory notification and approval where<br>required;",
           "change controls"
          ],
          [
           "Specific processes or variations to the standard process may be required for the following types of<br>changes: […]  Like-for-like replacements. These changes can be controlled by maintenance procedures<br>designed to control materials usage and record system history. Like-for-like is not always easy to<br>assess and consideration should be given to their impact. See Appendix 07.",
           "change controls"
          ],
          [
           "Outsourced Activities […] All arrangements for the outsourced activities including any proposed<br>changes in technical or other arrangements should be in accordance with regulations in force, and<br>the Marketing Authorisation for the product concerned, where applicable.",
           "change controls"
          ],
          [
           "Change Control […]  A formal change control system should be established to evaluate all changes<br>that may affect the production and control of the intermediate or API.",
           "change controls"
          ],
          [
           "Quality Control and Quality Assurance […] Change Control […]  When changes involve key quality<br>factors such as starting materials, immediate packaging materials, manufacturing process, major<br>equipment, etc., the quality of at least the first three batches produced after the change should be<br>evaluated. If the change has potential impact on the shelf life, stability studies should also be<br>conducted.",
           "change controls"
          ],
          [
           "Operating principles […]  Change management should, on a periodic basis, take into account the<br>effects, including cumulative effects of changes (e.g. to the process) on the quality, safety and<br>efficacy of the finished product.",
           "change controls"
          ],
          [
           "Computerized Information System […] Changes to systems or programs should be conducted in accordance<br>with procedures and methodologies of systems development. §1 The procedures should define the<br>validation, verification, approval and implementation of change. §2 Any amendment must be recorded<br>and implemented only with the consent of the person responsible for part of the system involved. §3<br>Any significant changes must be validated.",
           "change controls"
          ],
          [
           "Qualification and Validation […] Change control […] Written procedures should be in place to<br>describe the actions to be taken if a planned change is proposed to a starting material, product<br>component, process, equipment, premises, product range, method of production or testing, batch size,<br>design space or any other change during the lifecycle that may affect product quality or<br>reproducibility.",
           "change controls"
          ],
          [
           "Qualification and Validation […] Change control […] The control of change is an important part of<br>knowledge management and should be handled within the pharmaceutical quality system.",
           "change controls"
          ],
          [
           "There should be periodic requalification, as well as requalification after changes (such as changes<br>in utilities, systems, equipment, maintenance and displacements).",
           "change controls"
          ]
         ],
         "hovertemplate": "Standard mapping?=%{customdata[1]}<br>reduced_x=%{x}<br>reduced_y=%{y}<br>Original Text=%{customdata[0]}<br>Assigned Cluster=%{marker.color}<extra></extra>",
         "legendgroup": "change controls",
         "marker": {
          "color": [
           6,
           6,
           6,
           6,
           6,
           6,
           6,
           6,
           6,
           6,
           6,
           6,
           6,
           6,
           6,
           6,
           6,
           6,
           6,
           6,
           6,
           6,
           6,
           6,
           6,
           6,
           3,
           6,
           6,
           6,
           6,
           6,
           6,
           6,
           6,
           6,
           6,
           6,
           6,
           6,
           6
          ],
          "coloraxis": "coloraxis",
          "symbol": "circle"
         },
         "mode": "markers",
         "name": "change controls",
         "orientation": "v",
         "showlegend": true,
         "type": "scatter",
         "x": [
          -3.3476924896240234,
          -0.7804456353187561,
          -17.88079261779785,
          -4.742577075958252,
          -2.354877233505249,
          -2.902217388153076,
          -4.311334609985352,
          -2.5913305282592773,
          -8.686225891113281,
          -4.661524772644043,
          -3.0482687950134277,
          -1.819217324256897,
          -4.4735636711120605,
          -4.518120765686035,
          -7.284925937652588,
          -5.95466947555542,
          -1.3845938444137573,
          -6.739426136016846,
          -7.298681735992432,
          -8.480117797851562,
          -4.175865173339844,
          -5.098354339599609,
          -7.287837028503418,
          -1.3440864086151123,
          -5.764946460723877,
          -5.912047863006592,
          -6.805286884307861,
          -6.315280437469482,
          -3.974652051925659,
          -1.4138303995132446,
          -5.738989353179932,
          -8.220928192138672,
          -0.5386757850646973,
          -7.340124130249023,
          -4.965775012969971,
          -2.370720624923706,
          -2.7275993824005127,
          -17.799489974975586,
          -3.991758346557617,
          -6.9116644859313965,
          -6.0623393058776855
         ],
         "xaxis": "x",
         "y": [
          -12.536666870117188,
          -18.915193557739258,
          -15.112322807312012,
          -11.702982902526855,
          -10.111344337463379,
          -16.02341079711914,
          -15.585709571838379,
          -24.397497177124023,
          -13.974444389343262,
          -14.163536071777344,
          -12.24893856048584,
          -16.137989044189453,
          -23.332107543945312,
          -17.94516372680664,
          -17.380285263061523,
          -18.397123336791992,
          -23.776901245117188,
          -12.719015121459961,
          -5.808565139770508,
          -6.306750297546387,
          -23.407901763916016,
          -19.929805755615234,
          -15.558923721313477,
          -23.321056365966797,
          -18.738725662231445,
          -15.816605567932129,
          -8.32953929901123,
          -17.313453674316406,
          -10.70573902130127,
          -12.322422981262207,
          -14.233207702636719,
          -10.417739868164062,
          -19.50734519958496,
          -5.82240629196167,
          -16.495864868164062,
          -13.601438522338867,
          -18.23116683959961,
          -15.33870792388916,
          -13.833014488220215,
          -12.494668006896973,
          -23.277381896972656
         ],
         "yaxis": "y"
        },
        {
         "customdata": [
          [
           "The PSUR should be a “self-standing” document providing a general overview of all PMS activities and<br>data for the device and a comprehensive executive summary on safety and performance data. The aim of<br>the PSUR is not to duplicate all data and reports generated by the PMS Plan: it should summarize all<br>results and conclusions generated after the implementation of PMSP.  The manufacturer need to<br>specify the relevant information and section of the different reports and provide a summary of the<br>data collected, their evaluation and conclusion as well as the actions taken where appropriate.",
           "medical device post market surveillance"
          ],
          [
           "Post-Market Clinical Follow-Up [...] The manufacturer shall analyse the findings of the PMCF and<br>document the results in a PMCF evaluation report that shall be part of the clinical evaluation<br>report and the technical documentation.",
           "medical device post market surveillance"
          ],
          [
           "Serious Risk of Injury to Human Health […]  (1) Despite subsection 61.2(2), if the holder of a<br>therapeutic product authorization issued in respect of a medical device is the manufacturer, they<br>may permit the importer of the device to submit the information required under that subsection on<br>the manufacturer’s behalf if the information that the manufacturer and the importer must submit is<br>identical. (2) The manufacturer shall advise the Minister in writing if the manufacturer has<br>permitted the importer to submit the information on the manufacturer’s behalf.",
           "medical device post market surveillance"
          ],
          [
           "Summary Report […]  (1) The holder of a medical device licence shall maintain records of the summary<br>reports and the information on the basis of which those reports were prepared. (2) The licensee<br>shall retain the records for seven years after the day on which they were created.",
           "medical device post market surveillance"
          ],
          [
           "Post-Market Clinical Follow-Up [...] The PMCF plan shall include at least:  (a) the general methods<br>and procedures of the PMCF to be applied, such as gathering of clinical experience gained, feedback<br>from users, screening of scientific literature and of other sources of clinical data; (b) the<br>specific methods and procedures of PMCF to be applied, such as evaluation of suitable registers or<br>PMCF studies; (c) a rationale for the appropriateness of the methods and procedures referred to in<br>points (a) and (b); (d) a reference to the relevant parts of the clinical evaluation report referred<br>to in Section 4 and to the risk management referred to in Section 3 of Annex I; (e) the specific<br>objectives to be addressed by the PMCF; (f)  an evaluation of the clinical data relating to<br>equivalent or similar devices; (g) reference to any relevant CS, harmonised standards when used by<br>the manufacturer, and relevant guidance on PMCF; and (h) a detailed and adequately justified time<br>schedule for PMCF activities (e.g. analysis of PMCF data and reporting) to be undertaken by the<br>manufacturer.",
           "medical device post market surveillance"
          ],
          [
           "The manufacturer shall analyse the findings of the PMPF and document the results in a PMPF<br>evaluation report that shall update the performance evaluation report and be part of the technical<br>documentation.",
           "medical device post market surveillance"
          ],
          [
           "Data gathered by the manufacturer's post-market surveillance system shall in particular be used: (a)<br>to update the benefit-risk determination and to improve the risk management as referred to in<br>Chapter I of Annex I; (b) to update the design and manufacturing information, the instructions for<br>use and the labelling; (c) to update the performance evaluation; (d) to update the summary of safety<br>and performance referred to in Article 29; (e) for the identification of needs for preventive,<br>corrective or field safety corrective action; (f) for the identification of options to improve the<br>usability, performance and safety of the device; (g) when relevant, to contribute to the post-market<br>surveillance of other devices; and (h) to detect and report trends in accordance with Article 83.<br>The technical documentation shall be updated accordingly.",
           "medical device post market surveillance"
          ],
          [
           "Post-Market Clinical Follow-Up [...] The PMCF plan shall specify the methods and procedures for<br>proactively collecting and evaluating clinical data with the aim of:  (a) confirming the safety and<br>performance of the device throughout its expected lifetime, (b) identifying previously unknown side-<br>effects and monitoring the identified side-effects and contraindications,  (c) identifying and<br>analysing emergent risks on the basis of factual evidence, (d) ensuring the continued acceptability<br>of the benefit-risk ratio referred to in Sections 1 and 9 of Annex I, and (e) identifying possible<br>systematic misuse or off-label use of the device, with a view to verifying that the intended purpose<br>is correct.",
           "medical device post market surveillance"
          ],
          [
           "The post-market surveillance system referred to in Article 78 shall be based on a post-market<br>surveillance plan, the requirements for which are set out in Section 1 of Annex III. The post-market<br>surveillance plan shall be part of the technical documentation specified in Annex II.",
           "medical device post market surveillance"
          ],
          [
           "Post-Market Clinical Follow-Up [...] PMCF shall be understood to be a continuous process that<br>updates the clinical evaluation referred to in Article 61 and Part A of this Annex and shall be<br>addressed in the manufacturer's post-market surveillance plan. When conducting PMCF, the<br>manufacturer shall proactively collect and evaluate clinical data from the use in or on humans of a<br>device which bears the CE marking and is placed on the market or put into service within its<br>intended purpose as referred to in the relevant conformity assessment procedure, with the aim of<br>confirming the safety and performance throughout the expected lifetime of the device, of ensuring<br>the continued acceptability of identified risks and of detecting emerging risks on the basis of<br>factual evidence.",
           "medical device post market surveillance"
          ],
          [
           "Summary Report […]  (1) The Minister may, for the purposes of determining whether a medical device<br>meets the applicable requirements of sections 10 to 20, request that the holder of a medical device<br>licence issued in respect of the device submit, on or before the day specified in the request, any<br>of the following:  (a) summary reports; or  (b) information on the basis of which summary reports<br>were prepared. (2) The licensee shall submit to the Minister the summary reports or information, or<br>both, that the Minister requests not later than the day specified in the request.",
           "medical device post market surveillance"
          ],
          [
           "The PMPF plan shall include at least: (a) the general methods and procedures of the PMPF to be<br>applied, such as gathering of clinical experience gained, feedback from users, screening of<br>scientific literature and of other sources of performance or scientific data; (b) the specific<br>methods and procedures of PMPF to be applied, such as ring trials and other quality assurance<br>activities, epidemiological studies, evaluation of suitable patient or disease registers, genetic<br>databanks or post-market clinical performance studies; (c) a rationale for the appropriateness of<br>the methods and procedures referred to in points (a) and (b); (d) a reference to the relevant parts<br>of the performance evaluation report referred to in Section 1.3 of this Annex and to the risk<br>management referred to in Section 3 of Annex I; (e) the specific objectives to be addressed by the<br>PMPF;  (f) an evaluation of the performance data relating to equivalent or similar devices, and the<br>current state of the art; (g) reference to any relevant CS, harmonised standards when used by the<br>manufacturer, and relevant guidance on PMPF, and; (h) a detailed and adequately justified time<br>schedule for PMPF activities, such as analysis of PMPF data and reporting, to be undertaken by the<br>manufacturer.",
           "medical device post market surveillance"
          ],
          [
           "Requirements of manufacturing system [...] The manufacturer of a medical device of a kind mentioned<br>in subclause (1) must ensure that the process used to manufacture the device includes post-marketing<br>requirements under which the manufacturer is required: (a) to systematically review experience<br>gained in the post-production phase in relation to medical devices of that kind; and (b) to<br>implement appropriate means to apply any necessary corrective action in relation to the design or<br>production of such devices; and (c) to notify the Secretary, or the person in relation to whom the<br>kind of device is included in the Register, as soon as practicable after becoming aware of:    (i)<br>information relating to:       (A) any malfunction or deterioration in the characteristics or<br>performance of the kind of device; or       (B) any inadequacy in the design, production, labelling,<br>instructions for use or advertising materials of the kind of device; or       (C) any use in<br>accordance with, or contrary to, the use intended by the manufacturer of the kind of device; that<br>might lead, or might have led, to the death of a patient or a user of the device, or to a serious<br>deterioration in his or her state of health; or    (ii) information relating to any technical or<br>medical reason for a malfunction or deterioration of a kind mentioned in subparagraph (i) that has<br>led the manufacturer to take steps to recall devices of that kind that have been distributed. Note:<br>See also paragraph 41FN(3)(d) and section 41MP of the Act in relation to the requirement to give<br>certain information about a medical device to the Secretary.",
           "medical device post market surveillance"
          ],
          [
           "Technical Documentation [...] Pre-clinical and clinical data [...]   (d) the PMCF plan and PMCF<br>evaluation report referred to in Part B of Annex XIV or a justification why a PMCF is not<br>applicable.",
           "medical device post market surveillance"
          ],
          [
           "PMPF shall be understood to be a continuous process that updates the performance evaluation referred<br>to in Article 56 and Part A of this Annex and shall be specifically addressed in the manufacturer's<br>post-market surveillance plan. When conducting PMPF, the manufacturer shall proactively collect and<br>evaluate performance and relevant scientific data from the use of a device which bears the CE<br>marking and is placed on the market or put into service within its intended purpose as referred to<br>in the relevant conformity assessment procedure, with the aim of confirming the safety, performance<br>and scientific validity throughout the expected lifetime of thedevice, of ensuring the continued<br>acceptability of the benefit-risk ratio and of detecting emerging risks on the basis of factual<br>evidence.",
           "medical device post market surveillance"
          ],
          [
           "Devices for special purposes […]  Custom-made devices shall be accompanied by the statement referred<br>to in Section 1 of Annex XIII, which shall be made available to the particular patient or user<br>identified by name, an acronym or a numerical code. Member States may require that the manufacturer<br>of a custom-made device submit to the competent authority a list of such devices which have been<br>made available in their territory.",
           "medical device post market surveillance"
          ],
          [
           "Post-market surveillance system of the manufacturer […] For each device, manufacturers shall plan,<br>establish, document, implement, maintain and update a post-market surveillance system in a manner<br>that is proportionate to the risk class and appropriate for the type of device. That system shall be<br>an integral part of the manufacturer's quality management system referred to in Article 10(9).",
           "medical device post market surveillance"
          ],
          [
           "The performance evaluation and its documentation shall be updated throughout the life cycle of the<br>device concerned with data obtained from implementation of the manufacturer's PMPF plan in<br>accordance with Part B of Annex XIII and the post-market surveillance plan referred to in Article<br>79. The performance evaluation report for class C and D devices shall be updated when necessary, but<br>at least annually, with the data referred to in the first subparagraph. The summary of safety and<br>performance referred to in Article 29(1) shall be updated as soon as possible, where necessary",
           "medical device post market surveillance"
          ],
          [
           "The conclusions of the PMPF evaluation report shall be taken into account for the performance<br>evaluation referred to in Article 56 and Part A of this Annex and in the risk management referred to<br>in Section 3 of Annex I. If, through the PMPF, the need for preventive and/or corrective measures<br>has been identified, the manufacturer shall implement them.",
           "medical device post market surveillance"
          ],
          [
           "Post-market surveillance plan. The post-market surveillance system referred to in Article 83 shall<br>be based on a post-market surveillance plan, the requirements for which are set out in Section 1.1<br>of Annex III. For devices other than custom-made devices, the postmarket surveillance plan shall be<br>part of the technical documentation specified in Annex II.",
           "medical device post market surveillance"
          ],
          [
           "The technical documentation on post-market surveillance to be drawn up by the manufacturer in<br>accordance with Articles 78 to 81 shall be presented in a clear, organised, readily searchable and<br>unambiguous manner and shall include in particular the elements described in this Annex. 1. The<br>post-market surveillance plan drawn up in accordance with Article 79. The manufacturer shall prove<br>in a post-market surveillance plan that it complies with the obligation referred to in Article 78.<br>(b) The post-market surveillance plan shall cover at least: — a proactive and systematic process to<br>collect any information referred to in point (a). The process shall allow a correct characterisation<br>of the performance of the devices and shall also allow a comparison to be made between the device<br>and similar products available on the market; — effective and appropriate methods and processes to<br>assess the collected data; — suitable indicators and threshold values that shall be used in the<br>continuous reassessment of the benefit-risk analysis and of the risk management as referred to in<br>Section 3 of Annex I; — effective and appropriate methods and tools to investigate complaints and<br>analyse market-related experience collected in the field; — methods and protocols to manage the<br>events subject to the trend report as provided for in Article 83, including the methods and<br>protocols to be used to establish any statistically significant increase in the frequency or<br>severity of incidents as well as the observation period; — methods and protocols to communicate<br>effectively with competent authorities, notified bodies, economic operators and users; — reference<br>to procedures to fulfil the manufacturers obligations laid down in Articles 78, 79 and 81; —<br>systematic procedures to identify and initiate appropriate measures including corrective actions; —<br>effective tools to trace and identify devices for which corrective actions might be necessary; and —<br>a PMPF plan as referred to in Part B of Annex XIII, or a justification as to why a PMPF is not<br>applicable.",
           "medical device post market surveillance"
          ],
          [
           "The PMPF plan shall specify the methods and procedures for proactively collecting and evaluating<br>safety, performance and scientific data with the aim of: (a) confirming the safety and performance<br>of the device throughout its expected lifetime, (b) identifying previously unknown risks or limits<br>to performance and contra-indications, (c) identifying and analysing emergent risks on the basis of<br>factual evidence, (d) ensuring the continued acceptability of the clinical evidence and of the<br>benefit-risk ratio referred to in Sections 1 and 8 of Chapter I of Annex I, and (e) identifying<br>possible systematic misuse.",
           "medical device post market surveillance"
          ],
          [
           "If PMPF is not deemed appropriate for a specific device then a justification shall be provided and<br>documented within the performance evaluation report.",
           "medical device post market surveillance"
          ],
          [
           "Manufacturers of class C and class D devices shall prepare a periodic safety update report (‘PSUR’)<br>for each device and where relevant for each category or group of devices summarising the results and<br>conclusions of the analyses of the post-market surveillance data gathered as a result of the post-<br>market surveillance plan referred to in Article 79 together with a rationale and description of any<br>preventive and corrective actions taken. Throughout the lifetime of the device concerned, that PSUR<br>shall set out: (a) the conclusions of the benefit-risk determination; (b) the main findings of the<br>PMPF; and (c) the volume of sales of the device and an estimate of the size and other<br>characteristics of the population using the device and, where practicable, the usage frequency of<br>the device. Manufacturers of class C and D devices shall update the PSUR at least annually. That<br>PSUR shall be part of the technical documentation as specified in Annexes II and III.",
           "medical device post market surveillance"
          ],
          [
           "Manufacturers of devices, made available on the Union market, other than devices for performance<br>study, shall report, to the relevant competent authorities, in accordance with Articles 87(5) and<br>(7), the following: (a) any serious incident involving devices made available on the Union market,<br>except expected erroneous results which are clearly documented and quantified in the product<br>information and in the technical documentation and are subject to trend reporting pursuant to<br>Article 83; (b) any field safety corrective action in respect of devices made available on the Union<br>market, including any field safety corrective action undertaken in a third country in relation to a<br>device which is also legally made available on the Union market, if the reason for the field safety<br>corrective action is not limited to the device made available in the third country. The reports<br>referred to in the first subparagraph shall be submitted through the electronic system referred to<br>in Article 87.",
           "medical device post market surveillance"
          ],
          [
           "Periodic safety update report […] Manufacturers of class IIa, class IIb and class III devices shall<br>prepare a periodic safety update report (‘PSUR’) for each device and where relevant for each<br>category or group of devices summarising the results and conclusions of the analyses of the post-<br>market surveillance data gathered as a result of the post-market surveillance plan referred to in<br>Article 84 together with a rationale and description of any preventive and corrective actions taken.<br>Throughout the lifetime of the device concerned, that PSUR shall set out: (a) the conclusions of the<br>benefit-risk determination;  (b) the main findings of the PMCF; and (c) the volume of sales of the<br>device and an estimate evaluation of the size and other characteristics of the population using the<br>device and, where practicable, the usage frequency of the device.  Manufacturers of class IIb and<br>class III devices shall update the PSUR at least annually. That PSUR shall, except in the case of<br>custom-made devices, be part of the technical documentation as specified in Annexes II and III.<br>Manufacturers of class IIa devices shall update the PSUR when necessary and at least every two<br>years. That PSUR shall, except in the case of custom-made devices, be part of the technical<br>documentation as specified in Annexes II and III. For custom-made devices, the PSUR shall be part of<br>the documentation referred to in Section 2 of Annex XIII.",
           "medical device post market surveillance"
          ],
          [
           "The technical documentation on post-market surveillance to be drawn up by the manufacturer in<br>accordance with Articles 83 to 86 shall be presented in a clear, organised, readily searchable and<br>unambiguous manner and shall include in particular the elements described in this Annex. 1.1. The<br>post-market surveillance plan drawn up in accordance with Article 84.The manufacturer shall prove in<br>a post-market surveillance plan that it complies with the obligation referred to in Article 83. (a)<br>The post-market surveillance plan shall address the collection and utilization of available<br>information, in particular: — information concerning serious incidents, including information from<br>PSURs, and field safety corrective actions; — records referring to non-serious incidents and data on<br>any undesirable side-effects; — information from trend reporting; — relevant specialist or technical<br>literature, databases and/or registers; — information, including feedbacks and complaints, provided<br>by users, distributors and importers; and — publicly available information about similar medical<br>devices.",
           "medical device post market surveillance"
          ],
          [
           "Post-market surveillance system of the manufacturer […] If, in the course of the post-market<br>surveillance, a need for preventive or corrective action or both is identified, the manufacturer<br>shall implement the appropriate measures and inform the competent authorities concerned and, where<br>applicable, the notified body. Where a serious incident is identified or a field safety corrective<br>action is implemented, it shall be reported in accordance with Article 87.",
           "medical device post market surveillance"
          ],
          [
           "Incident Reporting […]  (1) Despite subsection 59(1) or (1.1), the manufacturer of a medical device<br>may permit the importer of the device to prepare and submit the preliminary and final reports on the<br>manufacturer’s behalf if the information that the manufacturer and the importer must include is<br>identical. (2) The manufacturer shall advise the Minister in writing if the manufacturer has<br>permitted the importer to prepare and submit the reports on the manufacturer’s behalf.",
           "medical device post market surveillance"
          ],
          [
           "Post-Market Clinical Follow-Up [...] The conclusions of the PMCF evaluation report shall be taken<br>into account for the clinical evaluation referred to in Article 61 and Part A of this Annex and in<br>the risk management referred to in Section 3 of Annex I. If, through the PMCF, the need for<br>preventive and/or corrective measures has been identified, the manufacturer shall implement them.",
           "medical device post market surveillance"
          ],
          [
           "Feedback As one of the measurements of the effectiveness of the quality management system, the<br>organization shall gather and monitor information relating to whether the organization has met<br>customer requirements. The methods for obtaining and using this information shall be documented. The<br>organization shall document procedures for the feedback process. This feedback process shall include<br>provisions to gather data from production as well as post-production activities.  The information<br>gathered in the feedback process shall serve as potential input into risk management for monitoring<br>and maintaining the product requirements as well as the product realization or improvement<br>processes.  If applicable regulatory requirements require the organization to gain specific<br>experience from post-production activities, the review of this experience shall form part of the<br>feedback process.",
           "medical device post market surveillance"
          ],
          [
           "Confirmation of conformity with relevant general safety and performance requirements set out in<br>Annex I, in particular those concerning the performance characteristics referred to in Chapter I and<br>Section 9 of Annex I, under the normal conditions of the intended use of the device, and the<br>evaluation of the interference(s) and cross-reaction(s) and of the acceptability of the benefit-risk<br>ratio referred to in Sections 1 and 8 of Annex I, shall be based on scientific validity, analytical<br>and clinical performance data providing sufficient clinical evidence, including where applicable<br>relevant data as referred to in Annex III. The manufacturer shall specify and justify the level of<br>the clinical evidence necessary to demonstrate conformity with the relevant general safety and<br>performance requirements. That level of clinical evidence shall be appropriate in view of the<br>characteristics of the device and its intended purpose. To that end, manufacturers shall plan,<br>conduct and document a performance evaluation in accordance with this Article and with Part A of<br>Annex XIII.",
           "medical device post market surveillance"
          ],
          [
           "Post-Market Clinical Follow-Up [...] PMCF shall be performed pursuant to a documented method laid<br>down in a PMCF plan.",
           "medical device post market surveillance"
          ],
          [
           "‘economic operator’ means a manufacturer, an authorised representative, an importer, a distributor<br>or the person referred to in Article 22(1) and 22(3);",
           "medical device post market surveillance"
          ],
          [
           "Post-market surveillance report. Manufacturers of class I devices shall prepare a post-market<br>surveillance report summarising the results and conclusions of the analyses of the post-market<br>surveillance data gathered as a result of the post-market surveillance plan referred to in Article<br>84 together with a rationale and description of any preventive and corrective actions taken. The<br>report shall be updated when necessary and made available to the competent authority upon request.",
           "medical device post market surveillance"
          ],
          [
           "Requirements of quality management system […] The system must include post-marketing requirements<br>under which the manufacturer of a medical device to which the system is applied is required: (a) to<br>systematically review experience gained, post-production, in relation to medical devices of that<br>kind; and (b) to implement appropriate means to apply any necessary corrective action in relation to<br>the design or production of such devices; and (c) to notify the Secretary, or the person in relation<br>to whom the kind of device is included in the Register, as soon as practicable after becoming aware<br>of:    (i) information relating to:       (A) any malfunction or deterioration in the<br>characteristics or performance of the kind of device; or       (B) any inadequacy in the design,<br>production, labelling or instructions for use of the kind of device, or in the advertising material<br>for the kind of device; or       (C) any use in accordance with, or contrary to, the use intended by<br>the manufacturer of the kind of device; that might lead, or might have led, to the death of a<br>patient or a user of the device, or to a serious deterioration in his or her state of health; or<br>(ii) information relating to any technical or medical reason for a malfunction or deterioration of a<br>kind mentioned in subparagraph (i) that has led the manufacturer to take steps to recall devices of<br>that kind that have been distributed.",
           "medical device post market surveillance"
          ],
          [
           "Manufacturers of class A and B devices shall prepare a post-market surveillance report summarising<br>the results and conclusions of the analyses of the post-market surveillance data gathered as a<br>result of the post-market surveillance plan referred to in Article 79 together with a rationale and<br>description of any preventive and corrective actions taken. The report shall be updated when<br>necessary and made available to the notified body and the competent authority upon request.",
           "medical device post market surveillance"
          ],
          [
           "Declaration of conformity (not requiring assessment by Secretary) procedures […] Post-marketing<br>system (1) The manufacturer of a medical device to which technical documentation prepared under<br>clause 6.4 of this Schedule applies must establish, and keep up-to-date, a post-marketing system<br>that complies with subclause (2) for use in relation to devices of that kind. (2) A post-marketing<br>system complies with this subclause in relation to a medical device if the system requires the<br>manufacturer of the device:    (a) to systematically review experience gained in the post-production<br>phase in relation to medical devices of that kind; and    (b) to implement appropriate means to<br>apply any necessary corrective action in relation to the design or production of such devices; and<br>(c) to notify the Secretary, or the person in relation to whom the kind of device is included in the<br>Register, as soon as practicable after becoming aware of:      (i) information relating to:<br>(A) any malfunction or deterioration in the characteristics or performance of the kind of device; or<br>(B) any inadequacy in the design, production, labelling, instructions for use or advertising<br>materials of the kind of device; or         (C) any use in accordance with, or contrary to, the use<br>intended by the manufacturer of the kind of device; that might lead, or might have led, to the death<br>of a patient or a user of the device, or to a serious deterioration in his or her state of health;<br>or      (ii) information relating to any technical or medical reason for a malfunction or<br>deterioration of a kind mentioned in subparagraph (i) that has led the manufacturer to take steps to<br>recall devices of that kind that have been distributed. Note: See also paragraph 41FN(3)(d) and<br>section 41MP of the Act in relation to the requirement to give certain information about a medical<br>device to the Secretary.",
           "medical device post market surveillance"
          ],
          [
           "Incident Reporting […]  (1) After the preliminary report is made in accordance with section 60, a<br>final report shall be submitted to the Minister in accordance with the timetable established under<br>paragraph 60(2)(h). (2) The final report shall contain the following information:  (a) a description<br>of the incident, including the number of persons who have experienced a serious deterioration in the<br>state of their health or who have died;  (b) a detailed explanation of the cause of the incident and<br>a justification for the actions taken in respect of the incident; and  (c) any actions taken as a<br>result of the investigation, which may include  (i) increased post-market surveillance of the<br>device,  (ii) corrective and preventive action respecting the design and manufacture of the device,<br>and  (iii) recall of the device.",
           "medical device post market surveillance"
          ],
          [
           "The post-market surveillance system shall be suited to actively and systematically gathering,<br>recording and analysing relevant data on the quality, performance and safety of a device throughout<br>its entire lifetime, and to drawing the necessary conclusions and to determining, implementing and<br>monitoring any preventive and corrective actions.",
           "medical device post market surveillance"
          ],
          [
           "Clinical evaluation […] The clinical evaluation and its documentation shall be updated throughout<br>the life cycle of the device concerned with clinical data obtained from the implementation of the<br>manufacturer's PMCF plan in accordance with Part B of Annex XIV and the post-market surveillance<br>plan referred to in Article 84. For class III devices and implantable devices, the PMCF evaluation<br>report and, if indicated, the summary of safety and clinical performance referred to in Article 32<br>shall be updated at least annually with such data.",
           "medical device post market surveillance"
          ],
          [
           "The technical documentation on post-market surveillance to be drawn up by the manufacturer in<br>accordance with Articles 78 to 81 shall be presented in a clear, organised, readily searchable and<br>unambiguous manner and shall include in particular the elements described in this Annex. 1. The<br>post-market surveillance plan drawn up in accordance with Article 79. The manufacturer shall prove<br>in a post-market surveillance plan that it complies with the obligation referred to in Article 78.<br>(a) The post-market surveillance plan shall address the collection and utilisation of available<br>information, in particular: — information concerning serious incidents, including information from<br>PSURs, and field safety corrective actions, — records referring to non-serious incidents and data on<br>any undesirable side-effects, — information from trend reporting, — relevant specialist or technical<br>literature, databases and/or registers, — information, including feedbacks and complaints, provided<br>by users, distributors and importers, and — publicly-available information about similar medical<br>devices.",
           "medical device post market surveillance"
          ],
          [
           "Periodic safety update report […] For class III devices or implantable devices, manufacturers shall<br>submit PSURs by means of the electronic system referred to in Article 92 to the notified body<br>involved in the conformity assessment in accordance with Article 52. The notified body shall review<br>the report and add its evaluation to that electronic system with details of any action taken. Such<br>PSURs and the evaluation by the notified body shall be made available to competent authorities<br>through that electronic system.",
           "medical device post market surveillance"
          ],
          [
           "Incident Reporting […]  (1) The manufacturer and the importer of a medical device shall each make a<br>preliminary and a final report to the Minister concerning any incident that comes to their attention<br>occurring in Canada that involves the device if  (a) the device is sold in Canada; and  (b) the<br>incident  (i) is related to a failure of the device or a deterioration in its effectiveness or any<br>inadequacy in its labelling or in its directions for use, and  (ii) has led to the death or a<br>serious deterioration in the state of health of a patient, user or other person, or could do so were<br>the incident to recur. (1.1) Subject to subsection (2), the manufacturer and the importer of a Class<br>I medical device shall each make a preliminary and a final report to the Minister concerning any<br>incident that comes to their attention occurring outside Canada that involves the device if the<br>conditions in paragraphs (1)(a) and (b) are met. (2) The requirement to report an incident that<br>occurs outside Canada does not apply unless the manufacturer has indicated, to a regulatory agency<br>of the country in which the incident occurred, the manufacturer’s intention to take corrective<br>action, or unless the regulatory agency has required the manufacturer to take corrective action.",
           "medical device post market surveillance"
          ],
          [
           "If, in the course of the post-market surveillance, a need for preventive or corrective action or<br>both is identified, the manufacturer shall implement the appropriate measures and inform the<br>competent authorities concerned and, where applicable, the notified body. Where a serious incident<br>is identified or a field safety corrective action is implemented, it shall be reported in accordance<br>with Article 82.",
           "medical device post market surveillance"
          ],
          [
           "Devices shall be divided into classes I, IIa, IIb and III, taking into account the intended purpose<br>of the devices and their inherent risks. Classification shall be carried out in accordance with<br>Annex VIII.",
           "medical device post market surveillance"
          ],
          [
           "Medical Devices Registration and Filing […]   Article 20 The medical device registrant and filling<br>person shall be obligated to: (I) Establish a quality management system suitable for products and<br>maintain its effective operation; (II) Develop the plans for post-marketing study and risk control<br>plan and ensure the effective implementation thereof; (III) Carry out adverse event monitoring and<br>re-evaluation according to law; (IV) Establish and implement product traceability and recall<br>systems; (V) Other obligations specified by the drug regulatory authority directly under the State<br>Council. The domestic enterprise legal persons designated by overseas medical device registrant or<br>filling person shall assist the registrant or filling person to fulfill the obligations prescribed<br>in the preceding paragraph.",
           "medical device post market surveillance"
          ],
          [
           "For each device manufacturers shall plan, establish, document, implement, maintain and update a<br>post-market surveillance system in a manner that is proportionate to the risk class and appropriate<br>for the type of device. That system shall be an integral part of the manufacturer's quality<br>management system referred to in Article 10(8).",
           "medical device post market surveillance"
          ]
         ],
         "hovertemplate": "Standard mapping?=%{customdata[1]}<br>reduced_x=%{x}<br>reduced_y=%{y}<br>Original Text=%{customdata[0]}<br>Assigned Cluster=%{marker.color}<extra></extra>",
         "legendgroup": "medical device post market surveillance",
         "marker": {
          "color": [
           7,
           7,
           7,
           7,
           7,
           7,
           7,
           7,
           7,
           7,
           7,
           7,
           7,
           6,
           7,
           7,
           7,
           7,
           7,
           7,
           7,
           7,
           7,
           7,
           7,
           7,
           7,
           7,
           7,
           7,
           1,
           7,
           6,
           3,
           7,
           7,
           7,
           7,
           7,
           7,
           7,
           7,
           7,
           7,
           7,
           5,
           7,
           7
          ],
          "coloraxis": "coloraxis",
          "symbol": "diamond"
         },
         "mode": "markers",
         "name": "medical device post market surveillance",
         "orientation": "v",
         "showlegend": true,
         "type": "scatter",
         "x": [
          18.979026794433594,
          21.98745346069336,
          15.281927108764648,
          13.0919771194458,
          18.451190948486328,
          22.94489097595215,
          21.899499893188477,
          19.92835235595703,
          27.43729019165039,
          21.07826805114746,
          13.767091751098633,
          18.09573745727539,
          16.62830352783203,
          21.486194610595703,
          21.120643615722656,
          10.3607759475708,
          27.057844161987305,
          21.54789924621582,
          23.35512351989746,
          27.441242218017578,
          22.985200881958008,
          19.429567337036133,
          23.600021362304688,
          20.94660758972168,
          20.171472549438477,
          20.79164695739746,
          22.065202713012695,
          25.226346969604492,
          15.140605926513672,
          22.79680824279785,
          -2.7962706089019775,
          16.466896057128906,
          21.105993270874023,
          -9.52802562713623,
          24.224063873291016,
          16.96585464477539,
          24.016359329223633,
          15.948430061340332,
          17.992965698242188,
          26.099794387817383,
          21.546436309814453,
          22.225492477416992,
          22.804229736328125,
          17.421674728393555,
          25.256410598754883,
          0.4603974521160126,
          13.88294792175293,
          27.242952346801758
         ],
         "xaxis": "x",
         "y": [
          8.180228233337402,
          3.0200726985931396,
          17.156435012817383,
          18.812843322753906,
          4.922072887420654,
          2.7694249153137207,
          11.271392822265625,
          5.412012577056885,
          12.22978687286377,
          5.96695613861084,
          17.982418060302734,
          5.277722358703613,
          12.72665786743164,
          1.631475806236267,
          6.537130355834961,
          15.479667663574219,
          9.679234504699707,
          8.537093162536621,
          5.014113426208496,
          12.039658546447754,
          13.603256225585938,
          6.273436546325684,
          1.8664077520370483,
          10.114632606506348,
          14.247276306152344,
          10.191210746765137,
          13.5269193649292,
          7.5851826667785645,
          17.142080307006836,
          4.941866397857666,
          -6.8657732009887695,
          9.525334358215332,
          2.6857552528381348,
          -3.461951971054077,
          10.747709274291992,
          12.452377319335938,
          10.662744522094727,
          12.392144203186035,
          15.117178916931152,
          10.498738288879395,
          8.147066116333008,
          13.617749214172363,
          9.638795852661133,
          15.703478813171387,
          7.419257640838623,
          21.44623565673828,
          10.26993179321289,
          9.556683540344238
         ],
         "yaxis": "y"
        },
        {
         "customdata": [
          [
           "Registrant disposal  […] (b) Non-practitioner inventory. Any registrant that is a non-practitioner<br>in lawful possession of a controlled substance in its inventory that desires to dispose of that<br>substance shall do so in one of the following ways: […]",
           "controled substances"
          ],
          [
           "Persons required to keep records and file reports [...]  Each regulated person who engages in a<br>regulated transaction involving a listed chemical, a tableting machine, or an encapsulating machine<br>shall keep a record of the transaction as specified by §1310.04 and file reports as specified by<br>§1310.05. [...]",
           "controled substances"
          ],
          [
           "Illicit activities by employees  It is the position of DEA that employees who possess, sell, use or<br>divert controlled substances will subject themselves not only to State or Federal prosecution for<br>any illicit activity, but shall also immediately become the subject of independent action regarding<br>their continued employment. The employer will assess the seriousness of the employee's violation,<br>the position of responsibility held by the employee, past record of employment, etc., in determining<br>whether to suspend, transfer, terminate or take other action against the employee.",
           "controled substances"
          ],
          [
           "Reports [...]  Each regulated person must report to the Special Agent in Charge of the DEA<br>Divisional Office for the area in which the regulated person making the report is located any<br>unusual or excessive loss or disappearance of a listed chemical under the control of the regulated<br>person. [...]",
           "controled substances"
          ],
          [
           "Information to be Furnished by Parties to the Secretary-General [...]  1. The Parties shall furnish<br>to the Secretary-General such information as the Commission may request as being necessary for the<br>performance of its functions, and in particular: (a) An annual report on the working of the<br>Convention within each of their territories; (b) The text of all laws and regulations from time to<br>time promulgated in order to give effect to this Convention; (c) Such particulars as the Commission<br>shall determine concerning cases of illicit traffic, including particulars of each case of illicit<br>traffic discovered which may be of importance, because of the light thrown on the source from which<br>drugs are obtained for the illicit traffic, or because of quantities involved or the method employed<br>by illicit traffickers; and (d) The names and addresses of the governmental authorities empowered to<br>issue export and import authorizations or certificates.",
           "controled substances"
          ],
          [
           "Destruction procedures [...]  The destruction of any controlled substance shall be in accordance<br>with the following requirements: (a) Transfer to a person registered or authorized to accept<br>controlled substances for the purpose of destruction. If the controlled substances are transferred<br>to a person registered or authorized to accept the controlled substances for the purpose of<br>destruction, two employees of the transferring registrant shall load and unload or observe the<br>loading and unloading of any controlled substances until transfer is complete. (b) Transport to a<br>registered location. If the controlled substances are transported by a registrant to a registered<br>location for subsequent destruction, the following procedures shall be followed:  [...]",
           "controled substances"
          ],
          [
           "Procurement quotas [...]  (a) In order to determine the estimated needs for, and to insure an<br>adequate and uninterrupted supply of, basic classes of controlled substances listed in Schedules I<br>and II (except raw opium being imported by the registrant pursuant to an import permit) the<br>Administrator shall issue procurement quotas authorizing persons to procure and use quantities of<br>each basic class of such substances for the purpose of manufacturing such class into dosage forms or<br>into other substances.",
           "controled substances"
          ],
          [
           "Limitation of Use to Medical and Scientific Purposes […]  2. Each Party shall, except as provided in<br>article 4, limit by such measures as it considers appropriate the manufacture, export, import,<br>distribution and stocks of, trade in, and use and possession of, substances in Schedules II, III and<br>IV to medical and scientific purposes.",
           "controled substances"
          ],
          [
           "General security requirements [...]  (b) In evaluating the effectiveness of security controls and<br>procedures, the Administrator shall consider the following factors: (1) The type, form, and quantity<br>of List I chemicals handled; (2) The location of the premises and the relationship such location<br>bears on the security needs; (3) The type of building construction comprising the facility and the<br>general characteristics of the building or buildings; (4) The availability of electronic detection<br>and alarm systems; (5) The extent of unsupervised public access to the facility; (6) The adequacy of<br>supervision over employees having access to List I chemicals; (7) The procedures for handling<br>business guests, visitors, maintenance personnel, and nonemployee service personnel in areas where<br>List I chemicals are processed or stored; and (8) The adequacy of the registrant's or applicant's<br>systems for monitoring the receipt, distribution, and disposition of List I chemicals in its<br>operations.",
           "controled substances"
          ],
          [
           "Statistical Returns To Be Furnished to the Board [...]  1. The Parties shall furnish to the Board<br>for each of their territories, in the manner and form prescribed by the Board, statistical returns<br>on forms supplied by it in respect of the following matters: (a) Production or manufacture of drugs;<br>(b) Utilization of drugs for the manufacture of other drugs, of preparations in Schedule III and of<br>substances not covered by this Convention, and utilization of poppy straw for the manufacture of<br>drugs; (c) Consumption of drugs; (d) Imports and exports of drugs and poppy straw; (e) Seizures of<br>drugs and disposal thereof; (f) Stocks of drugs as at 31 December of the year to which the returns<br>relate;  (g) Ascertainable area of cultivation of opium poppy.",
           "controled substances"
          ],
          [
           "Employee responsibility to report drug diversion  Reports of drug diversion by fellow employees is<br>not only a necessary part of an overall employee security program but also serves the public<br>interest at large. It is, therefore, the position of DEA that an employee who has knowledge of drug<br>diversion from his employer by a fellow employee has an obligation to report such information to a<br>responsible security official of the employer. The employer shall treat such information as<br>confidential and shall take all reasonable steps to protect the confidentiality of the information<br>and the identity of the employee furnishing information. A failure to report information of drug<br>diversion will be considered in determining the feasibility of continuing to allow an employee to<br>work in a drug security area. The employer shall inform all employees concerning this policy.",
           "controled substances"
          ],
          [
           "Qualification of customers […] Wholesale distributors should monitor their transactions and<br>investigate any irregularity in the sales patterns of narcotics, psychotropic substances or other<br>dangerous substances. Unusual sales patterns that may constitute diversion or misuse of medicinal<br>product should be investigated and reported to competent authorities where necessary. Steps should<br>be taken to ensure fulfilment of any public service obligation imposed upon them.",
           "controled substances"
          ],
          [
           "Application for registration; time for application; expiration date; registration for independent<br>activities; application forms, fees, contents and signature; coincident activities [...]  (a) Any<br>person who is required to be registered and who is not so registered may apply for registration at<br>any time. No person required to be registered shall engage in any activity for which registration is<br>required until the application for registration is granted and a Certificate of Registration is<br>issued by the Administrator to such person. (b) Any person who is registered may apply to be<br>reregistered not more than 60 days before the expiration date of his/her registration, except that a<br>bulk manufacturer of Schedule I or II controlled substances or an importer of Schedule I or II<br>controlled substances may apply to be reregistered no more than 120 days before the expiration date<br>of their registration.",
           "controled substances"
          ],
          [
           "Maintenance of records and inventories [...]  (a) Except as provided in paragraphs (a)(1) and (a)(2)<br>of this section, every inventory and other records required to be kept under this part must be kept<br>by the registrant and be available, for at least 2 years from the date of such inventory or records,<br>for inspection and copying by authorized employees of the Administration. (1) Financial and shipping<br>records (such as invoices and packing slips but not executed order forms subject to §§1305.17 and<br>1305.27 of this chapter) may be kept at a central location, rather than at the registered location,<br>if the registrant has notified the Administration of his intention to keep central records. Written<br>notification must be submitted by registered or certified mail, return receipt requested, in<br>triplicate, to the Special Agent in Charge of the Administration in the area in which the registrant<br>is located. Unless the registrant is informed by the Special Agent in Charge that permission to keep<br>central records is denied, the registrant may maintain central records commencing 14 days after<br>receipt of his notification by the Special Agent in Charge. All notifications must include the<br>following: i) The nature of the records to be kept centrally. (ii) The exact location where the<br>records will be kept. (iii) The name, address, DEA registration number and type of DEA registration<br>of the registrant whose records are being maintained centrally. (iv) Whether central records will be<br>maintained in a manual, or computer readable, form.",
           "controled substances"
          ],
          [
           "Loss reporting [...]  (a) Each regulated person must report to the Special Agent in Charge of the<br>DEA Divisional Office for the area in which the regulated person making the report is located, any<br>unusual or excessive loss or disappearance of a scheduled listed chemical product under the control<br>of the regulated person. The regulated person responsible for reporting a loss in-transit is the<br>supplier.",
           "controled substances"
          ],
          [
           "Modification in registration [...]  (a) Any registrant may apply to modify his/her registration to<br>authorize the handling of additional controlled substances or to change his/her name or address by<br>submitting a written request to the Registration Unit, Drug Enforcement Administration. See the<br>Table of DEA Mailing Addresses in § 1321.01 of this chapter for the current mailing address.<br>Additionally, such a request may be submitted on-line at www.DEAdiversion.usdoj.gov.  (1) The<br>request shall contain: [...]  (2) If the registrant is seeking to handle additional controlled<br>substances listed in Schedule I for the purpose of research or instructional activities, the<br>registrant shall attach three copies of a research protocol describing each research project<br>involving the additional substances, or two copies of a statement describing the nature, extent, and<br>duration of such instructional activities, as appropriate.",
           "controled substances"
          ],
          [
           "Employee responsibility to report diversion [...]  Reports of listed chemical diversion by fellow<br>employees is not only a necessary part of an overall employee security program but also serves the<br>public interest at large. It is, therefore, the position of DEA that an employee who has knowledge<br>of diversion from his employer by a fellow employee has an obligation to report such information to<br>a responsible security official of the employer. The employer shall treat such information as<br>confidential and shall take all reasonable steps to protect the confidentiality of the information<br>and the identity of the employee furnishing information. A failure to report information of chemical<br>diversion will be considered in determining the feasibility of continuing to allow an employee to<br>work in an area with access to chemicals. The employer shall inform all employees concerning this<br>policy.",
           "controled substances"
          ],
          [
           "Physical security controls for non-practitioners; compounders for narcotic treatment programs;<br>manufacturing and compounding areas. [...]  All manufacturing activities (including processing,<br>packaging and labeling) involving controlled substances listed in any schedule and all activities of<br>compounders shall be conducted in accordance with the following: (a) All in-process substances shall<br>be returned to the controlled substances storage area at the termination of the process [...] (b)<br>Manufacturing activities with controlled substances shall be conducted in an area or areas of<br>clearly defined limited access which is under surveillance by an employee or employees designated in<br>writing as responsible for the area. [...] (c) During the production of controlled substances, the<br>manufacturing areas shall be accessible to only those employees required for efficient operation.<br>When it is necessary for employee maintenance personnel, nonemployee maintenance personnel, business<br>guests, or visitors to be present in or pass through manufacturing areas during production of<br>controlled substances, the registrant shall provide for adequate observation of the area by an<br>employee specifically authorized in writing.",
           "controled substances"
          ],
          [
           "Provisions Relating to International Trade […]  1.(a) Every Party permitting the export or import of<br>substances in Schedule I or II shall require a separate import or export authorization, on a form to<br>be established by the Commission, to be obtained for each such export or import whether it consists<br>of one or more substances.",
           "controled substances"
          ],
          [
           "The total of the quantities of each drug manufactured and imported by any country or territory in<br>any one year shall not exceed the sum of the following: (a) The quantity consumed, within the limit<br>of the relevant estimate, for medical and scientific purposes; (b) The quantity used, within the<br>limit of the relevant estimate, for the manufacture of other drugs, of preparations in Schedule III,<br>and of substances not covered by this Convention; (c) The quantity exported; (d) The quantity added<br>to the stock for the purpose of bringing that stock up to the level specified in the relevant<br>estimate; and (e) The quantity acquired within the limit of the relevant estimate for special<br>purposes.",
           "controled substances"
          ],
          [
           "Estimates of Drug Requirements [...]  1. The Parties shall furnish to the Board each year for each<br>of their territories, in the manner and form prescribed by the Board, estimates on forms supplied by<br>it in respect of the following matters: (a) Quantities of drugs to be consumed for medical and<br>scientific purposes; (b) Quantities of drugs to be utilized for the manufacture of other drugs, of<br>preparations in Schedule III, and of substances not covered by this Convention; (c) Stocks of drugs<br>to be held as at 31 December of the year to which the estimates relate; (d) Quantities of drugs<br>necessary for addition to special stocks; (e) The area (in hectares) and the geographical location<br>of land to be used for the cultivation of the opium poppy; (f) Approximate quantity of opium to be<br>produced; (g) The number of industrial establishments which will manufacture synthetic drugs; and<br>(g) The quantities of synthetic drugs to be manufactured by each of the establishments referred to<br>in the preceding subparagraph.",
           "controled substances"
          ],
          [
           "Preservation of DEA Forms 222. [...]  (c) DEA Forms 222 must be maintained separately from all other<br>records of the registrant. DEA Forms 222 are required to be kept available for inspection for a<br>period of two years. If a purchaser has several registered locations, the purchaser must retain a<br>copy of the executed DEA Form 222 and any attached statements or other related documents [...]",
           "controled substances"
          ],
          [
           "Records […]  1. The Parties shall require that, in respect of substances in Schedule I, manufactures<br>and all other persons authorized under article 7 to trade in and distribute those substances keep<br>records, as may be determined by each Party, showing details of the quantities manufactured, the<br>quantities held in stock, and, for each acquisition and disposal, details of the quantity, date,<br>supplier and recipient. 2. The Parties shall require that, in respect of substances in Schedules II<br>and III, manufacturers, wholesale distributors, exporters and importers keep records, as may be<br>determined by each Party, showing details of the quantities manufactured and, for each acquisition<br>and disposal, details of the quantity, date, supplier and recipient.",
           "controled substances"
          ],
          [
           "Persons required to register [...]  (a) Unless exempted by law [...], the following persons must<br>annually obtain a registration specific to the List I chemicals to be handled: (1) Every person who<br>manufactures or imports or proposes to manufacture or import a List I chemical or a drug product<br>containing ephedrine, pseudoephedrine, or phenylpropanolamine. (2) Every person who distributes or<br>exports or proposes to distribute or export any List I chemical, [...]",
           "controled substances"
          ],
          [
           "Manufacture [...] 1. The Parties shall require that the manufacture of drugs be under licence except<br>where such manufacture is carried out by a State enterprise or State enterprises. 2. The Parties<br>shall: (a) Control all persons and enterprises carrying on or engaged in the manufacture of drugs;<br>(b) Control under licence the establishments and premises in which such manufacture may take place;<br>and (c) Require that licensed manufacturers of drugs obtain periodical permits specifying the kinds<br>and amounts of drugs which they shall be entitled to manufacture. A periodical permit, hoewever,<br>need not be required for preparations. 3. The Parties shall prevent the accumulation, in the<br>possession of drug manufacturers, of quantities of drugs and poppy straw in excess of those required<br>for the normal conduct of business, having regard to the prevailing market conditions",
           "controled substances"
          ],
          [
           "Licenses […]  2. The Parties shall: […]  (c) Provide that security measures be taken with regard to<br>such establishments and premises in order to prevent theft or other diversion of stocks.",
           "controled substances"
          ],
          [
           "Security Requirements generally [...]  (a) All applicants and registrants shall provide effective<br>controls and procedures to guard against theft and diversion of controlled substances... (b)<br>Substantial compliance with the standards set forth in Secs. 1301.72-1301.76 may be deemed<br>sufficient by the Administrator after evaluation of the overall security system and needs of the<br>applicant or registrant. In evaluating the overall security system of a registrant or applicant, the<br>Administrator may consider any of the following factors as he may deem relevant to the need for<br>strict compliance with security requirements: (1) The type of activity conducted (e.g., processing<br>of bulk chemicals, preparing dosage forms, packaging, labeling, cooperative buying, etc.); (2) The<br>type and form of controlled substances handled (e.g., bulk liquids or dosage units, usable powders<br>or nonusable powders); (3) The quantity of controlled substances handled; (4) The location of the<br>premises and the relationship such location bears on security needs; (5) The type of building<br>construction comprising the facility and the general characteristics of the building or buildings;<br>(6) The type of vault, safe, and secure enclosures or other storage system (e.g., automatic storage<br>and retrieval system) used; (7) The type of closures on vaults, safes, and secure enclosures; (8)<br>The adequacy of key control systems and/or combination lock control systems; (9) The adequacy of<br>electric detection and alarm systems, if any including use of supervised transmittal lines and<br>standby power sources; (10) The extent of unsupervised public access to the facility, including the<br>presence and characteristics of perimeter fencing, if any; (11) The adequacy of supervision over<br>employees having access to manufacturing and storage areas; (12) The procedures for handling<br>business guests, visitors, maintenance personnel, and nonemployee service personnel; (13) The<br>availability of local police protection or of the registrant's or applicant's security personnel;<br>(14) The adequacy of the registrant's or applicant's system for monitoring the receipt, manufacture,<br>distribution, and disposition of controlled substances in its operations; and (15) The applicability<br>of the security requirements contained in all Federal, State, and local laws and regulations<br>governing the management of waste. (15) The applicability of the security requirements contained in<br>all Federal, State, and local laws and regulations governing the management of waste.",
           "controled substances"
          ],
          [
           "Other security controls for non-practitioners; narcotic treatment programs and compounders for<br>narcotic treatment programs. [...]  (c) The registrant must notify the Field Division Office of the<br>Administration in his or her area, in writing, of any theft or significant loss of any controlled<br>substances within one business day of discovery of the theft or loss. [...]",
           "controled substances"
          ],
          [
           "Requirement of authorization to import [...]  No person shall import, or cause to be imported, into<br>the customs territory of the United States from any place outside thereof (but within the United<br>States), or into the United States from any place outside thereof, any controlled substances listed<br>in Schedule I or II, or any narcotic controlled substance listed in Schedule III, IV, or V, or any<br>non-narcotic controlled substance listed in Schedule III which the Administrator has specifically<br>designated by regulation in §1312.30 or any non-narcotic controlled substance listed in Schedule IV<br>or V which is also listed in Schedule I or II of the Convention on Psychotropic Substances, 1971,<br>unless and until such person is properly registered under the Act (or, in accordance with part 1301<br>of this chapter, exempt from registration) and the Administration has issued him or her a permit to<br>do so in accordance with §1312.13.",
           "controled substances"
          ],
          [
           "Sources of information for employee checks.  DEA recommends that inquiries concerning employees'<br>criminal records be made as follows: Local inquiries. Inquiries should be made by name, date and<br>place of birth, and other identifying information, to local courts and law enforcement agencies for<br>records of pending charges and convictions. Local practice may require such inquiries to be made in<br>person, rather than by mail, and a copy of an authorization from the employee may be required by<br>certain law enforcement agencies. DEA inquiries. Inquiries supplying identifying information should<br>also be furnished to DEA Field Division Offices along with written consent from the concerned<br>individual for a check of DEA files for records of convictions. The Regional check will result in a<br>national check being made by the Field Division Office.",
           "controled substances"
          ],
          [
           "Special Provistions Relating to International Trade [...]  1. The Parties shall not knowingly permit<br>the export of drugs to any country or territory except: (a) In accordance with the laws and<br>regulations of that country or territory; and (b) Within the limits of the total of the estimates<br>for that country or territory, as defined in paragraph 2 of article 19, with the addition of the<br>amounts intended to be re-exported. 2. The Parties shall exercise in free ports and zones the same<br>supervision and control as in other parts of their territories, provided, however, that they may<br>apply more drastic measures. 3. The Parties shall: (a) Control under licence the import and export<br>of drugs except where such import or export is carried out by a State enterprise or enterprises; (b)<br>Control all persons and enterprises carrying on or engaged in such import or export. 4. (a) Every<br>Party permitting the import or export of drugs shall require a separate import or export<br>authorization to be obtained for each such import or export whether it consists of one or more<br>drugs.",
           "controled substances"
          ],
          [
           "Definitions […] The term \"controlled substance\" means a drug or other substance, or immediate<br>precursor, included in schedule I, II, III, IV, or V of part B of this subchapter.",
           "controled substances"
          ],
          [
           "Measures of supervision and Inspection [...] The parties shall require: (b) That governmental<br>authorities, manufacturers, traders, scientists, scientific institutions and hospitals keep such<br>records as will show the quantities of each drug manufactured and of each individual acquisition and<br>disposal of drugs. Such records shall respectively be preserved for a period of not less than two<br>years. Where counterfoil books (article 30, paragraph 2 (b)) of official prescriptions are used,<br>such books including the counterfoils shall also be kept for a period of not less than two years.",
           "controled substances"
          ],
          [
           "Transportation […] Products requiring special conditions […] In relation to deliveries containing<br>medicinal products requiring special conditions such as narcotics or psychotropic substances, the<br>wholesale distributor should maintain a safe and secure supply chain for these products in<br>accordance with requirements laid down by the Member States concerned. There should be additional<br>control systems in place for delivery of these products. There should be a protocol to address the<br>occurrence of any theft.",
           "controled substances"
          ],
          [
           "Inventory requirements [...]  (a) General requirements. Each inventory shall contain a complete and<br>accurate record of all controlled substances on hand on the date the inventory is taken, and shall<br>be maintained in written, typewritten, or printed form at the registered location. [...] (c)<br>Biennial inventory date. After the initial inventory is taken, the registrant shall take a new<br>inventory of all stocks of controlled substances on hand at least every two years. The biennial<br>inventory may be taken on any date which is within two years of the previous biennial inventory<br>date.",
           "controled substances"
          ],
          [
           "Aggregate production quotas [...]  (a) The Administrator shall determine the total quantity of each<br>basic class of controlled substance listed in Schedule I or II necessary to be manufactured during<br>the following calendar year to provide for the estimated medical, scientific, research and<br>industrial needs of the United States, for lawful export requirements, and for the establishment and<br>maintenance of reserve stocks.",
           "controled substances"
          ],
          [
           "Other security controls for non-practitioners; narcotic treatment programs and compounders for<br>narcotic treatment programs. [...]  (b) The registrant shall design and operate a system to disclose<br>to the registrant suspicious orders of controlled substances. The registrant shall inform the Field<br>Division Office of the Administration in his area of suspicious orders when discovered by the<br>registrant. Suspicious orders include orders of unusual size, orders deviating substantially from a<br>normal pattern, and orders of unusual frequency.",
           "controled substances"
          ],
          [
           "Physical security controls for non-practitioners; narcotic treatment programs and compounders for<br>narcotic treatment programs; storage areas. [...]  (a) Schedules I and II. Raw material, bulk<br>materials awaiting further processing, finished products which are controlled substances listed in<br>Schedule I or II (except GHB that is manufactured or distributed in accordance with an exemption<br>under section 505(i) of the Federal Food Drug and Cosmetic Act which shall be subject to the<br>requirements of paragraph (b) of this section), and sealed mail-back packages and inner liners<br>acquired in accordance with part 1317 of this chapter, shall be stored in the following secured<br>areas [...] (b) Schedules III, IV and V. Raw material, bulk materials awaiting further processing,<br>and finished products which are controlled substances listed in Schedules III, IV, and V, and GHB<br>when it is manufactured or distributed in accordance with an exemption under section 505(i) of the<br>FFDCA, shall be stored in the following secure storage areas: [...] (c) Multiple storage areas.<br>Where several types or classes of controlled substances are handled separately by the registrant or<br>applicant for different purposes (e.g., returned goods, or goods in process), the controlled<br>substances may be stored separately, provided that each storage area complies with the requirements<br>set forth in this section.",
           "controled substances"
          ],
          [
           "Administration of the Estimate System [...]  1. The Board shall fix the date or dates by which, and<br>the manner in which, the estimates as provided in article 19 shall be furnished and shall prescribe<br>the forms therefor. 2. The Board shall, in respect of countries and territories to which this<br>Convention does not apply, request the Governments concerned to furnish estimates in accordance with<br>the provisions of this Convention. 3. If any State fails to furnish estimates in respect of any of<br>its territories by the date specified, the Board shall, as far as possible, establish the estimates.<br>The Board in establishing such estimates shall to the extent practicable do so in co-operation with<br>the Government concerned.",
           "controled substances"
          ],
          [
           "Trade and Distribution [...]  1. (a) The Parties shall require that the trade in and distribution of<br>drugs be under licence except where such trade or distribution is carried out by a State enterprise<br>or State enterprises. (b) The Parties shall: (i) Control all persons and enterprises carrying on or<br>engaged in the trade in or distribution of drugs; (ii) Control under licence the establishments and<br>premises in which such trade or distribution may take place. The requirement of licensing need not<br>apply to preparations. (c) The provisions of subparagraphs (a) and (b) relating to licensing need<br>not apply to persons duly authorized to perform and while performing therapeutic or scientific<br>functions.",
           "controled substances"
          ],
          [
           "Employee screening procedures [...]  It is the position of DEA that the obtaining of certain<br>information by non-practitioners is vital to fairly assess the likelihood of an employee committing<br>a drug security breach. The need to know this information is a matter of business necessity,<br>essential to overall controlled substances security. In this regard, it is believed that conviction<br>of crimes and unauthorized use of controlled substances are activities that are proper subjects for<br>inquiry. [...]",
           "controled substances"
          ],
          [
           "Materials and Equipment […]  The Parties shall take such measures as they deem appropriate to<br>prevent trade in and the diversion of materials and equipment for illicit production or manufacture<br>of narcotic drugs and psychotropic substances and shall co-operate to this end.",
           "controled substances"
          ],
          [
           "Any term used in this part shall have the definition set forth in section 102 of the Act (21 U.S.C.<br>802) or part 1300 of this chapter. [62 FR 13945, Mar. 24, 1997]",
           "controled substances"
          ],
          [
           "Persons required to register; requirement of modification of registration authorizing activity as an<br>online pharmacy [...]  (a) Every person who manufactures, distributes, dispenses, imports, or<br>exports any controlled substance or who proposes to engage in the manufacture, distribution,<br>dispensing, importation or exportation of any controlled substance shall obtain a registration<br>unless exempted by law or pursuant to §§1301.22 through 1301.26.  [...]",
           "controled substances"
          ],
          [
           "Security requirements generally [...]  (c) When physical security controls become inadequate as a<br>result of a controlled substance being transferred to a different schedule, or as a result of a<br>noncontrolled substance being listed on any schedule, or as a result of a significant increase in<br>the quantity of controlled substances in the possession of the registrant during normal business<br>operations, the physical security controls shall be expanded and extended accordingly. [...]",
           "controled substances"
          ],
          [
           "Requirement of authorization to export [...]  No person shall in any manner export, or cause to be<br>exported, from the United States any controlled substance listed in Schedule I or II, or any<br>narcotic controlled substance listed in Schedule III or IV, or any non-narcotic controlled substance<br>in Schedule III which the Administrator has specifically designated by regulation in §1312.30 or any<br>non-narcotic controlled substance in Schedule IV or V which is also listed in Schedule I or II of<br>the Convention on Psychotropic Substances, 1971, unless and until such person is properly registered<br>under the Act (or, in accordance with part 1301 of this chapter, exempt from registration) and the<br>Administrator has issued him or her a permit to do so in accordance with §1312.23.",
           "controled substances"
          ]
         ],
         "hovertemplate": "Standard mapping?=%{customdata[1]}<br>reduced_x=%{x}<br>reduced_y=%{y}<br>Original Text=%{customdata[0]}<br>Assigned Cluster=%{marker.color}<extra></extra>",
         "legendgroup": "controled substances",
         "marker": {
          "color": [
           4,
           4,
           4,
           4,
           4,
           4,
           4,
           4,
           4,
           4,
           4,
           0,
           4,
           4,
           4,
           4,
           4,
           4,
           4,
           4,
           4,
           4,
           4,
           4,
           4,
           4,
           4,
           4,
           4,
           4,
           4,
           4,
           4,
           4,
           4,
           4,
           4,
           4,
           4,
           4,
           4,
           4,
           5,
           4,
           4,
           4
          ],
          "coloraxis": "coloraxis",
          "symbol": "square"
         },
         "mode": "markers",
         "name": "controled substances",
         "orientation": "v",
         "showlegend": true,
         "type": "scatter",
         "x": [
          -12.771442413330078,
          -14.660223960876465,
          -12.582392692565918,
          -12.750182151794434,
          -22.657211303710938,
          -12.526934623718262,
          -21.02416229248047,
          -19.335376739501953,
          -6.74031925201416,
          -22.31690788269043,
          -11.851531982421875,
          10.41429328918457,
          -14.337186813354492,
          -16.944189071655273,
          -12.680279731750488,
          -13.489374160766602,
          -11.880962371826172,
          -9.946471214294434,
          -18.80801773071289,
          -21.202260971069336,
          -22.21623420715332,
          -17.34633445739746,
          -19.146738052368164,
          -15.359578132629395,
          -17.600643157958984,
          -17.122486114501953,
          -6.898377895355225,
          -10.436263084411621,
          -15.708259582519531,
          -10.390605926513672,
          -17.907489776611328,
          -20.727598190307617,
          -18.197431564331055,
          9.93990707397461,
          -17.441267013549805,
          -21.175872802734375,
          -10.322633743286133,
          -9.809160232543945,
          -23.630325317382812,
          -17.399938583374023,
          -11.314136505126953,
          -17.455883026123047,
          -21.239023208618164,
          -14.788450241088867,
          -9.103290557861328,
          -15.660089492797852
         ],
         "xaxis": "x",
         "y": [
          11.397696495056152,
          15.689519882202148,
          6.428985595703125,
          16.614795684814453,
          13.28201961517334,
          10.471318244934082,
          8.884041786193848,
          10.598087310791016,
          10.247899055480957,
          12.187704086303711,
          5.551315784454346,
          -5.22689962387085,
          12.52929401397705,
          17.305034637451172,
          16.661252975463867,
          13.857906341552734,
          5.5342793464660645,
          10.444375038146973,
          11.683879852294922,
          10.721097946166992,
          11.791598320007324,
          16.732946395874023,
          13.19502067565918,
          14.367101669311523,
          9.591672897338867,
          6.829771518707275,
          10.322206497192383,
          13.274508476257324,
          12.15212631225586,
          7.1782636642456055,
          10.498064994812012,
          6.916003227233887,
          15.268927574157715,
          -4.8669657707214355,
          15.335896492004395,
          9.098380088806152,
          13.154836654663086,
          10.635808944702148,
          13.164767265319824,
          9.682595252990723,
          6.526825904846191,
          7.699977397918701,
          5.901925086975098,
          13.911373138427734,
          12.037105560302734,
          12.143726348876953
         ],
         "yaxis": "y"
        }
       ],
       "layout": {
        "coloraxis": {
         "colorbar": {
          "title": {
           "text": "Assigned Cluster"
          }
         },
         "colorscale": [
          [
           0,
           "#0d0887"
          ],
          [
           0.1111111111111111,
           "#46039f"
          ],
          [
           0.2222222222222222,
           "#7201a8"
          ],
          [
           0.3333333333333333,
           "#9c179e"
          ],
          [
           0.4444444444444444,
           "#bd3786"
          ],
          [
           0.5555555555555556,
           "#d8576b"
          ],
          [
           0.6666666666666666,
           "#ed7953"
          ],
          [
           0.7777777777777778,
           "#fb9f3a"
          ],
          [
           0.8888888888888888,
           "#fdca26"
          ],
          [
           1,
           "#f0f921"
          ]
         ]
        },
        "legend": {
         "orientation": "h",
         "title": {
          "text": "Standard mapping?"
         },
         "tracegroupgap": 0
        },
        "template": {
         "data": {
          "bar": [
           {
            "error_x": {
             "color": "#2a3f5f"
            },
            "error_y": {
             "color": "#2a3f5f"
            },
            "marker": {
             "line": {
              "color": "#E5ECF6",
              "width": 0.5
             },
             "pattern": {
              "fillmode": "overlay",
              "size": 10,
              "solidity": 0.2
             }
            },
            "type": "bar"
           }
          ],
          "barpolar": [
           {
            "marker": {
             "line": {
              "color": "#E5ECF6",
              "width": 0.5
             },
             "pattern": {
              "fillmode": "overlay",
              "size": 10,
              "solidity": 0.2
             }
            },
            "type": "barpolar"
           }
          ],
          "carpet": [
           {
            "aaxis": {
             "endlinecolor": "#2a3f5f",
             "gridcolor": "white",
             "linecolor": "white",
             "minorgridcolor": "white",
             "startlinecolor": "#2a3f5f"
            },
            "baxis": {
             "endlinecolor": "#2a3f5f",
             "gridcolor": "white",
             "linecolor": "white",
             "minorgridcolor": "white",
             "startlinecolor": "#2a3f5f"
            },
            "type": "carpet"
           }
          ],
          "choropleth": [
           {
            "colorbar": {
             "outlinewidth": 0,
             "ticks": ""
            },
            "type": "choropleth"
           }
          ],
          "contour": [
           {
            "colorbar": {
             "outlinewidth": 0,
             "ticks": ""
            },
            "colorscale": [
             [
              0,
              "#0d0887"
             ],
             [
              0.1111111111111111,
              "#46039f"
             ],
             [
              0.2222222222222222,
              "#7201a8"
             ],
             [
              0.3333333333333333,
              "#9c179e"
             ],
             [
              0.4444444444444444,
              "#bd3786"
             ],
             [
              0.5555555555555556,
              "#d8576b"
             ],
             [
              0.6666666666666666,
              "#ed7953"
             ],
             [
              0.7777777777777778,
              "#fb9f3a"
             ],
             [
              0.8888888888888888,
              "#fdca26"
             ],
             [
              1,
              "#f0f921"
             ]
            ],
            "type": "contour"
           }
          ],
          "contourcarpet": [
           {
            "colorbar": {
             "outlinewidth": 0,
             "ticks": ""
            },
            "type": "contourcarpet"
           }
          ],
          "heatmap": [
           {
            "colorbar": {
             "outlinewidth": 0,
             "ticks": ""
            },
            "colorscale": [
             [
              0,
              "#0d0887"
             ],
             [
              0.1111111111111111,
              "#46039f"
             ],
             [
              0.2222222222222222,
              "#7201a8"
             ],
             [
              0.3333333333333333,
              "#9c179e"
             ],
             [
              0.4444444444444444,
              "#bd3786"
             ],
             [
              0.5555555555555556,
              "#d8576b"
             ],
             [
              0.6666666666666666,
              "#ed7953"
             ],
             [
              0.7777777777777778,
              "#fb9f3a"
             ],
             [
              0.8888888888888888,
              "#fdca26"
             ],
             [
              1,
              "#f0f921"
             ]
            ],
            "type": "heatmap"
           }
          ],
          "heatmapgl": [
           {
            "colorbar": {
             "outlinewidth": 0,
             "ticks": ""
            },
            "colorscale": [
             [
              0,
              "#0d0887"
             ],
             [
              0.1111111111111111,
              "#46039f"
             ],
             [
              0.2222222222222222,
              "#7201a8"
             ],
             [
              0.3333333333333333,
              "#9c179e"
             ],
             [
              0.4444444444444444,
              "#bd3786"
             ],
             [
              0.5555555555555556,
              "#d8576b"
             ],
             [
              0.6666666666666666,
              "#ed7953"
             ],
             [
              0.7777777777777778,
              "#fb9f3a"
             ],
             [
              0.8888888888888888,
              "#fdca26"
             ],
             [
              1,
              "#f0f921"
             ]
            ],
            "type": "heatmapgl"
           }
          ],
          "histogram": [
           {
            "marker": {
             "pattern": {
              "fillmode": "overlay",
              "size": 10,
              "solidity": 0.2
             }
            },
            "type": "histogram"
           }
          ],
          "histogram2d": [
           {
            "colorbar": {
             "outlinewidth": 0,
             "ticks": ""
            },
            "colorscale": [
             [
              0,
              "#0d0887"
             ],
             [
              0.1111111111111111,
              "#46039f"
             ],
             [
              0.2222222222222222,
              "#7201a8"
             ],
             [
              0.3333333333333333,
              "#9c179e"
             ],
             [
              0.4444444444444444,
              "#bd3786"
             ],
             [
              0.5555555555555556,
              "#d8576b"
             ],
             [
              0.6666666666666666,
              "#ed7953"
             ],
             [
              0.7777777777777778,
              "#fb9f3a"
             ],
             [
              0.8888888888888888,
              "#fdca26"
             ],
             [
              1,
              "#f0f921"
             ]
            ],
            "type": "histogram2d"
           }
          ],
          "histogram2dcontour": [
           {
            "colorbar": {
             "outlinewidth": 0,
             "ticks": ""
            },
            "colorscale": [
             [
              0,
              "#0d0887"
             ],
             [
              0.1111111111111111,
              "#46039f"
             ],
             [
              0.2222222222222222,
              "#7201a8"
             ],
             [
              0.3333333333333333,
              "#9c179e"
             ],
             [
              0.4444444444444444,
              "#bd3786"
             ],
             [
              0.5555555555555556,
              "#d8576b"
             ],
             [
              0.6666666666666666,
              "#ed7953"
             ],
             [
              0.7777777777777778,
              "#fb9f3a"
             ],
             [
              0.8888888888888888,
              "#fdca26"
             ],
             [
              1,
              "#f0f921"
             ]
            ],
            "type": "histogram2dcontour"
           }
          ],
          "mesh3d": [
           {
            "colorbar": {
             "outlinewidth": 0,
             "ticks": ""
            },
            "type": "mesh3d"
           }
          ],
          "parcoords": [
           {
            "line": {
             "colorbar": {
              "outlinewidth": 0,
              "ticks": ""
             }
            },
            "type": "parcoords"
           }
          ],
          "pie": [
           {
            "automargin": true,
            "type": "pie"
           }
          ],
          "scatter": [
           {
            "fillpattern": {
             "fillmode": "overlay",
             "size": 10,
             "solidity": 0.2
            },
            "type": "scatter"
           }
          ],
          "scatter3d": [
           {
            "line": {
             "colorbar": {
              "outlinewidth": 0,
              "ticks": ""
             }
            },
            "marker": {
             "colorbar": {
              "outlinewidth": 0,
              "ticks": ""
             }
            },
            "type": "scatter3d"
           }
          ],
          "scattercarpet": [
           {
            "marker": {
             "colorbar": {
              "outlinewidth": 0,
              "ticks": ""
             }
            },
            "type": "scattercarpet"
           }
          ],
          "scattergeo": [
           {
            "marker": {
             "colorbar": {
              "outlinewidth": 0,
              "ticks": ""
             }
            },
            "type": "scattergeo"
           }
          ],
          "scattergl": [
           {
            "marker": {
             "colorbar": {
              "outlinewidth": 0,
              "ticks": ""
             }
            },
            "type": "scattergl"
           }
          ],
          "scattermapbox": [
           {
            "marker": {
             "colorbar": {
              "outlinewidth": 0,
              "ticks": ""
             }
            },
            "type": "scattermapbox"
           }
          ],
          "scatterpolar": [
           {
            "marker": {
             "colorbar": {
              "outlinewidth": 0,
              "ticks": ""
             }
            },
            "type": "scatterpolar"
           }
          ],
          "scatterpolargl": [
           {
            "marker": {
             "colorbar": {
              "outlinewidth": 0,
              "ticks": ""
             }
            },
            "type": "scatterpolargl"
           }
          ],
          "scatterternary": [
           {
            "marker": {
             "colorbar": {
              "outlinewidth": 0,
              "ticks": ""
             }
            },
            "type": "scatterternary"
           }
          ],
          "surface": [
           {
            "colorbar": {
             "outlinewidth": 0,
             "ticks": ""
            },
            "colorscale": [
             [
              0,
              "#0d0887"
             ],
             [
              0.1111111111111111,
              "#46039f"
             ],
             [
              0.2222222222222222,
              "#7201a8"
             ],
             [
              0.3333333333333333,
              "#9c179e"
             ],
             [
              0.4444444444444444,
              "#bd3786"
             ],
             [
              0.5555555555555556,
              "#d8576b"
             ],
             [
              0.6666666666666666,
              "#ed7953"
             ],
             [
              0.7777777777777778,
              "#fb9f3a"
             ],
             [
              0.8888888888888888,
              "#fdca26"
             ],
             [
              1,
              "#f0f921"
             ]
            ],
            "type": "surface"
           }
          ],
          "table": [
           {
            "cells": {
             "fill": {
              "color": "#EBF0F8"
             },
             "line": {
              "color": "white"
             }
            },
            "header": {
             "fill": {
              "color": "#C8D4E3"
             },
             "line": {
              "color": "white"
             }
            },
            "type": "table"
           }
          ]
         },
         "layout": {
          "annotationdefaults": {
           "arrowcolor": "#2a3f5f",
           "arrowhead": 0,
           "arrowwidth": 1
          },
          "autotypenumbers": "strict",
          "coloraxis": {
           "colorbar": {
            "outlinewidth": 0,
            "ticks": ""
           }
          },
          "colorscale": {
           "diverging": [
            [
             0,
             "#8e0152"
            ],
            [
             0.1,
             "#c51b7d"
            ],
            [
             0.2,
             "#de77ae"
            ],
            [
             0.3,
             "#f1b6da"
            ],
            [
             0.4,
             "#fde0ef"
            ],
            [
             0.5,
             "#f7f7f7"
            ],
            [
             0.6,
             "#e6f5d0"
            ],
            [
             0.7,
             "#b8e186"
            ],
            [
             0.8,
             "#7fbc41"
            ],
            [
             0.9,
             "#4d9221"
            ],
            [
             1,
             "#276419"
            ]
           ],
           "sequential": [
            [
             0,
             "#0d0887"
            ],
            [
             0.1111111111111111,
             "#46039f"
            ],
            [
             0.2222222222222222,
             "#7201a8"
            ],
            [
             0.3333333333333333,
             "#9c179e"
            ],
            [
             0.4444444444444444,
             "#bd3786"
            ],
            [
             0.5555555555555556,
             "#d8576b"
            ],
            [
             0.6666666666666666,
             "#ed7953"
            ],
            [
             0.7777777777777778,
             "#fb9f3a"
            ],
            [
             0.8888888888888888,
             "#fdca26"
            ],
            [
             1,
             "#f0f921"
            ]
           ],
           "sequentialminus": [
            [
             0,
             "#0d0887"
            ],
            [
             0.1111111111111111,
             "#46039f"
            ],
            [
             0.2222222222222222,
             "#7201a8"
            ],
            [
             0.3333333333333333,
             "#9c179e"
            ],
            [
             0.4444444444444444,
             "#bd3786"
            ],
            [
             0.5555555555555556,
             "#d8576b"
            ],
            [
             0.6666666666666666,
             "#ed7953"
            ],
            [
             0.7777777777777778,
             "#fb9f3a"
            ],
            [
             0.8888888888888888,
             "#fdca26"
            ],
            [
             1,
             "#f0f921"
            ]
           ]
          },
          "colorway": [
           "#636efa",
           "#EF553B",
           "#00cc96",
           "#ab63fa",
           "#FFA15A",
           "#19d3f3",
           "#FF6692",
           "#B6E880",
           "#FF97FF",
           "#FECB52"
          ],
          "font": {
           "color": "#2a3f5f"
          },
          "geo": {
           "bgcolor": "white",
           "lakecolor": "white",
           "landcolor": "#E5ECF6",
           "showlakes": true,
           "showland": true,
           "subunitcolor": "white"
          },
          "hoverlabel": {
           "align": "left"
          },
          "hovermode": "closest",
          "mapbox": {
           "style": "light"
          },
          "paper_bgcolor": "white",
          "plot_bgcolor": "#E5ECF6",
          "polar": {
           "angularaxis": {
            "gridcolor": "white",
            "linecolor": "white",
            "ticks": ""
           },
           "bgcolor": "#E5ECF6",
           "radialaxis": {
            "gridcolor": "white",
            "linecolor": "white",
            "ticks": ""
           }
          },
          "scene": {
           "xaxis": {
            "backgroundcolor": "#E5ECF6",
            "gridcolor": "white",
            "gridwidth": 2,
            "linecolor": "white",
            "showbackground": true,
            "ticks": "",
            "zerolinecolor": "white"
           },
           "yaxis": {
            "backgroundcolor": "#E5ECF6",
            "gridcolor": "white",
            "gridwidth": 2,
            "linecolor": "white",
            "showbackground": true,
            "ticks": "",
            "zerolinecolor": "white"
           },
           "zaxis": {
            "backgroundcolor": "#E5ECF6",
            "gridcolor": "white",
            "gridwidth": 2,
            "linecolor": "white",
            "showbackground": true,
            "ticks": "",
            "zerolinecolor": "white"
           }
          },
          "shapedefaults": {
           "line": {
            "color": "#2a3f5f"
           }
          },
          "ternary": {
           "aaxis": {
            "gridcolor": "white",
            "linecolor": "white",
            "ticks": ""
           },
           "baxis": {
            "gridcolor": "white",
            "linecolor": "white",
            "ticks": ""
           },
           "bgcolor": "#E5ECF6",
           "caxis": {
            "gridcolor": "white",
            "linecolor": "white",
            "ticks": ""
           }
          },
          "title": {
           "x": 0.05
          },
          "xaxis": {
           "automargin": true,
           "gridcolor": "white",
           "linecolor": "white",
           "ticks": "",
           "title": {
            "standoff": 15
           },
           "zerolinecolor": "white",
           "zerolinewidth": 2
          },
          "yaxis": {
           "automargin": true,
           "gridcolor": "white",
           "linecolor": "white",
           "ticks": "",
           "title": {
            "standoff": 15
           },
           "zerolinecolor": "white",
           "zerolinewidth": 2
          }
         }
        },
        "title": {
         "text": "Ada with K-Means and TSNE"
        },
        "uniformtext": {
         "mode": "hide"
        },
        "xaxis": {
         "anchor": "y",
         "domain": [
          0,
          1
         ],
         "title": {
          "text": "reduced_x"
         }
        },
        "yaxis": {
         "anchor": "x",
         "domain": [
          0,
          1
         ],
         "title": {
          "text": "reduced_y"
         }
        }
       }
      }
     },
     "metadata": {},
     "output_type": "display_data"
    }
   ],
   "source": [
    "EMBEDDINGS = [f\"llm_{i}\" for i in range(embeddings.shape[1])]\n",
    "\n",
    "embeddings_reduced = \\\n",
    "    TSNE(\n",
    "        n_components=2, init=\"random\", learning_rate=\"auto\", random_state=0\n",
    "    ).fit_transform(embeddings[filter])\n",
    "\n",
    "embeddings_df = pd.DataFrame(embeddings[filter], columns=EMBEDDINGS)\n",
    "embeddings_df[REDUCED_DIMS] = embeddings_reduced\n",
    "embeddings_df[CLUSTER] = clusters.labels_\n",
    "embeddings_df[TARGET] = [features.mlb.classes_[c] for c in y_true[filter]]\n",
    "embeddings_df[ORIGINAL_TEXT] = regulations[filter]\n",
    "embeddings_df[ORIGINAL_TEXT] = embeddings_df[ORIGINAL_TEXT].str.wrap(100)\n",
    "embeddings_df[ORIGINAL_TEXT] = embeddings_df[ORIGINAL_TEXT].str.replace(\"\\n\", \"<br>\")\n",
    "\n",
    "fig = px.scatter(\n",
    "    embeddings_df,\n",
    "    y=REDUCED_DIMS[1],\n",
    "    x=REDUCED_DIMS[0],\n",
    "    color=CLUSTER,\n",
    "    symbol=TARGET,\n",
    "    hover_data=[ORIGINAL_TEXT, TARGET],\n",
    "    title=\"Ada with K-Means and TSNE\"\n",
    ")\n",
    "fig.update_layout(uniformtext_mode=\"hide\")\n",
    "fig.update_layout(legend_orientation=\"h\")\n",
    "fig.show()"
   ]
  },
  {
   "cell_type": "markdown",
   "metadata": {},
   "source": [
    "#### Hierarchical Clustering"
   ]
  },
  {
   "cell_type": "markdown",
   "metadata": {},
   "source": [
    "Purity Scores"
   ]
  },
  {
   "cell_type": "code",
   "execution_count": 30,
   "metadata": {},
   "outputs": [
    {
     "data": {
      "text/html": [
       "<div>\n",
       "<style scoped>\n",
       "    .dataframe tbody tr th:only-of-type {\n",
       "        vertical-align: middle;\n",
       "    }\n",
       "\n",
       "    .dataframe tbody tr th {\n",
       "        vertical-align: top;\n",
       "    }\n",
       "\n",
       "    .dataframe thead th {\n",
       "        text-align: right;\n",
       "    }\n",
       "</style>\n",
       "<table border=\"1\" class=\"dataframe\">\n",
       "  <thead>\n",
       "    <tr style=\"text-align: right;\">\n",
       "      <th></th>\n",
       "      <th>First Majority</th>\n",
       "      <th>Second Majority</th>\n",
       "      <th>Assigned Cluster</th>\n",
       "    </tr>\n",
       "  </thead>\n",
       "  <tbody>\n",
       "    <tr>\n",
       "      <th>0</th>\n",
       "      <td>(audit inspection, 0.667)</td>\n",
       "      <td>(medical device post market surveillance, 0.333)</td>\n",
       "      <td>3</td>\n",
       "    </tr>\n",
       "    <tr>\n",
       "      <th>1</th>\n",
       "      <td>(audit inspection, 1.0)</td>\n",
       "      <td>(-1, 0.0)</td>\n",
       "      <td>19</td>\n",
       "    </tr>\n",
       "    <tr>\n",
       "      <th>2</th>\n",
       "      <td>(audit inspection, 0.5)</td>\n",
       "      <td>(training, 0.5)</td>\n",
       "      <td>21</td>\n",
       "    </tr>\n",
       "    <tr>\n",
       "      <th>3</th>\n",
       "      <td>(audit inspection, 1.0)</td>\n",
       "      <td>(-1, 0.0)</td>\n",
       "      <td>25</td>\n",
       "    </tr>\n",
       "    <tr>\n",
       "      <th>4</th>\n",
       "      <td>(audit inspection, 1.0)</td>\n",
       "      <td>(-1, 0.0)</td>\n",
       "      <td>26</td>\n",
       "    </tr>\n",
       "    <tr>\n",
       "      <th>5</th>\n",
       "      <td>(change controls, 1.0)</td>\n",
       "      <td>(-1, 0.0)</td>\n",
       "      <td>10</td>\n",
       "    </tr>\n",
       "    <tr>\n",
       "      <th>6</th>\n",
       "      <td>(change controls, 0.909)</td>\n",
       "      <td>(process &amp; packaging validation, 0.0909)</td>\n",
       "      <td>22</td>\n",
       "    </tr>\n",
       "    <tr>\n",
       "      <th>7</th>\n",
       "      <td>(controled substances, 1.0)</td>\n",
       "      <td>(-1, 0.0)</td>\n",
       "      <td>0</td>\n",
       "    </tr>\n",
       "    <tr>\n",
       "      <th>8</th>\n",
       "      <td>(controled substances, 1.0)</td>\n",
       "      <td>(-1, 0.0)</td>\n",
       "      <td>1</td>\n",
       "    </tr>\n",
       "    <tr>\n",
       "      <th>9</th>\n",
       "      <td>(controled substances, 1.0)</td>\n",
       "      <td>(-1, 0.0)</td>\n",
       "      <td>2</td>\n",
       "    </tr>\n",
       "    <tr>\n",
       "      <th>10</th>\n",
       "      <td>(controled substances, 1.0)</td>\n",
       "      <td>(-1, 0.0)</td>\n",
       "      <td>5</td>\n",
       "    </tr>\n",
       "    <tr>\n",
       "      <th>11</th>\n",
       "      <td>(medical device post market surveillance, 1.0)</td>\n",
       "      <td>(-1, 0.0)</td>\n",
       "      <td>4</td>\n",
       "    </tr>\n",
       "    <tr>\n",
       "      <th>12</th>\n",
       "      <td>(medical device post market surveillance, 1.0)</td>\n",
       "      <td>(-1, 0.0)</td>\n",
       "      <td>7</td>\n",
       "    </tr>\n",
       "    <tr>\n",
       "      <th>13</th>\n",
       "      <td>(medical device post market surveillance, 1.0)</td>\n",
       "      <td>(-1, 0.0)</td>\n",
       "      <td>8</td>\n",
       "    </tr>\n",
       "    <tr>\n",
       "      <th>14</th>\n",
       "      <td>(medical device post market surveillance, 1.0)</td>\n",
       "      <td>(-1, 0.0)</td>\n",
       "      <td>9</td>\n",
       "    </tr>\n",
       "    <tr>\n",
       "      <th>15</th>\n",
       "      <td>(process &amp; packaging validation, 1.0)</td>\n",
       "      <td>(-1, 0.0)</td>\n",
       "      <td>17</td>\n",
       "    </tr>\n",
       "    <tr>\n",
       "      <th>16</th>\n",
       "      <td>(process &amp; packaging validation, 0.786)</td>\n",
       "      <td>(audit inspection, 0.143)</td>\n",
       "      <td>23</td>\n",
       "    </tr>\n",
       "    <tr>\n",
       "      <th>17</th>\n",
       "      <td>(qrb, 1.0)</td>\n",
       "      <td>(-1, 0.0)</td>\n",
       "      <td>12</td>\n",
       "    </tr>\n",
       "    <tr>\n",
       "      <th>18</th>\n",
       "      <td>(qrb, 1.0)</td>\n",
       "      <td>(-1, 0.0)</td>\n",
       "      <td>13</td>\n",
       "    </tr>\n",
       "    <tr>\n",
       "      <th>19</th>\n",
       "      <td>(qrb, 1.0)</td>\n",
       "      <td>(-1, 0.0)</td>\n",
       "      <td>14</td>\n",
       "    </tr>\n",
       "    <tr>\n",
       "      <th>20</th>\n",
       "      <td>(qrb, 1.0)</td>\n",
       "      <td>(-1, 0.0)</td>\n",
       "      <td>15</td>\n",
       "    </tr>\n",
       "    <tr>\n",
       "      <th>21</th>\n",
       "      <td>(qrb, 1.0)</td>\n",
       "      <td>(-1, 0.0)</td>\n",
       "      <td>16</td>\n",
       "    </tr>\n",
       "    <tr>\n",
       "      <th>22</th>\n",
       "      <td>(samd, 1.0)</td>\n",
       "      <td>(-1, 0.0)</td>\n",
       "      <td>6</td>\n",
       "    </tr>\n",
       "    <tr>\n",
       "      <th>23</th>\n",
       "      <td>(samd, 1.0)</td>\n",
       "      <td>(-1, 0.0)</td>\n",
       "      <td>11</td>\n",
       "    </tr>\n",
       "    <tr>\n",
       "      <th>24</th>\n",
       "      <td>(training, 1.0)</td>\n",
       "      <td>(-1, 0.0)</td>\n",
       "      <td>18</td>\n",
       "    </tr>\n",
       "    <tr>\n",
       "      <th>25</th>\n",
       "      <td>(training, 1.0)</td>\n",
       "      <td>(-1, 0.0)</td>\n",
       "      <td>20</td>\n",
       "    </tr>\n",
       "    <tr>\n",
       "      <th>26</th>\n",
       "      <td>(training, 0.667)</td>\n",
       "      <td>(process &amp; packaging validation, 0.333)</td>\n",
       "      <td>24</td>\n",
       "    </tr>\n",
       "  </tbody>\n",
       "</table>\n",
       "</div>"
      ],
      "text/plain": [
       "                                    First Majority  \\\n",
       "0                        (audit inspection, 0.667)   \n",
       "1                          (audit inspection, 1.0)   \n",
       "2                          (audit inspection, 0.5)   \n",
       "3                          (audit inspection, 1.0)   \n",
       "4                          (audit inspection, 1.0)   \n",
       "5                           (change controls, 1.0)   \n",
       "6                         (change controls, 0.909)   \n",
       "7                      (controled substances, 1.0)   \n",
       "8                      (controled substances, 1.0)   \n",
       "9                      (controled substances, 1.0)   \n",
       "10                     (controled substances, 1.0)   \n",
       "11  (medical device post market surveillance, 1.0)   \n",
       "12  (medical device post market surveillance, 1.0)   \n",
       "13  (medical device post market surveillance, 1.0)   \n",
       "14  (medical device post market surveillance, 1.0)   \n",
       "15           (process & packaging validation, 1.0)   \n",
       "16         (process & packaging validation, 0.786)   \n",
       "17                                      (qrb, 1.0)   \n",
       "18                                      (qrb, 1.0)   \n",
       "19                                      (qrb, 1.0)   \n",
       "20                                      (qrb, 1.0)   \n",
       "21                                      (qrb, 1.0)   \n",
       "22                                     (samd, 1.0)   \n",
       "23                                     (samd, 1.0)   \n",
       "24                                 (training, 1.0)   \n",
       "25                                 (training, 1.0)   \n",
       "26                               (training, 0.667)   \n",
       "\n",
       "                                     Second Majority  Assigned Cluster  \n",
       "0   (medical device post market surveillance, 0.333)                 3  \n",
       "1                                          (-1, 0.0)                19  \n",
       "2                                    (training, 0.5)                21  \n",
       "3                                          (-1, 0.0)                25  \n",
       "4                                          (-1, 0.0)                26  \n",
       "5                                          (-1, 0.0)                10  \n",
       "6           (process & packaging validation, 0.0909)                22  \n",
       "7                                          (-1, 0.0)                 0  \n",
       "8                                          (-1, 0.0)                 1  \n",
       "9                                          (-1, 0.0)                 2  \n",
       "10                                         (-1, 0.0)                 5  \n",
       "11                                         (-1, 0.0)                 4  \n",
       "12                                         (-1, 0.0)                 7  \n",
       "13                                         (-1, 0.0)                 8  \n",
       "14                                         (-1, 0.0)                 9  \n",
       "15                                         (-1, 0.0)                17  \n",
       "16                         (audit inspection, 0.143)                23  \n",
       "17                                         (-1, 0.0)                12  \n",
       "18                                         (-1, 0.0)                13  \n",
       "19                                         (-1, 0.0)                14  \n",
       "20                                         (-1, 0.0)                15  \n",
       "21                                         (-1, 0.0)                16  \n",
       "22                                         (-1, 0.0)                 6  \n",
       "23                                         (-1, 0.0)                11  \n",
       "24                                         (-1, 0.0)                18  \n",
       "25                                         (-1, 0.0)                20  \n",
       "26           (process & packaging validation, 0.333)                24  "
      ]
     },
     "execution_count": 30,
     "metadata": {},
     "output_type": "execute_result"
    }
   ],
   "source": [
    "clusters = \\\n",
    "    hdbscan.HDBSCAN(\n",
    "        min_cluster_size=2,\n",
    "        metric=\"euclidean\",\n",
    "        cluster_selection_method=\"eom\"\n",
    "    ).fit(embeddings[filter])\n",
    "\n",
    "purity_scores, missing, multiple = \\\n",
    "    eval.compute_purity_scores(\n",
    "        clusters=clusters.labels_,\n",
    "        y_true=y_true[filter],\n",
    "        topics=keep_topics,\n",
    "        features=features\n",
    "    )\n",
    "purity_scores"
   ]
  },
  {
   "cell_type": "markdown",
   "metadata": {},
   "source": [
    "Check for missing/repeating topics"
   ]
  },
  {
   "cell_type": "code",
   "execution_count": 31,
   "metadata": {},
   "outputs": [
    {
     "name": "stdout",
     "output_type": "stream",
     "text": [
      "\tMissing:\n",
      "No missing topics\n",
      "\n",
      "\tMultiple:\n",
      "[('controled substances', 4),\n",
      " ('audit inspection', 5),\n",
      " ('medical device post market surveillance', 4),\n",
      " ('samd', 2),\n",
      " ('change controls', 2),\n",
      " ('qrb', 5),\n",
      " ('process & packaging validation', 2),\n",
      " ('training', 3)]\n",
      "\n",
      "Unclustered samples: 49.6%\n"
     ]
    }
   ],
   "source": [
    "print(\"\\tMissing:\")\n",
    "if not len(missing):\n",
    "    print(\"No missing topics\")\n",
    "else:\n",
    "    pp.pprint(missing)\n",
    "\n",
    "print(\"\\n\\tMultiple:\")\n",
    "if not len(multiple):\n",
    "    print(\"No repeating topics\")\n",
    "else:\n",
    "    pp.pprint(multiple)\n",
    "\n",
    "num_unclustered = sum(clusters.labels_==-1) / clusters.labels_.shape[0]\n",
    "print(f\"\\nUnclustered samples: {num_unclustered*100:.3}%\")"
   ]
  },
  {
   "cell_type": "markdown",
   "metadata": {},
   "source": [
    "Visualize"
   ]
  },
  {
   "cell_type": "code",
   "execution_count": 32,
   "metadata": {},
   "outputs": [
    {
     "data": {
      "application/vnd.plotly.v1+json": {
       "config": {
        "plotlyServerURL": "https://plot.ly"
       },
       "data": [
        {
         "customdata": [
          [
           "Validation […] Process Validation Program […]  Critical process parameters should be controlled and<br>monitored during process validation studies. Process parameters unrelated to quality, such as<br>variables controlled to minimize energy consumption or equipment use, need not be included in the<br>process validation.",
           "process & packaging validation"
          ],
          [
           "Processes and procedures should undergo periodic critical re-validation to ensure that they remain<br>capable of achieving the intended results.",
           "process & packaging validation"
          ],
          [
           "Processing Operations: Intermediate and Bulk Products […] Critical processes should be validated<br>(see \"Validation\" in this Chapter).",
           "process & packaging validation"
          ],
          [
           "Validation […] Periodic Review of Validated Systems. Systems and processes should be periodically<br>evaluated to verify that they are still operating in a valid manner. Where no significant changes<br>have been made to the system or process, and a quality review confirms that the system or process is<br>consistently producing material meeting its specifications, there is normally no need for<br>revalidation.",
           "process & packaging validation"
          ],
          [
           "For biotechnological/biological drug substances, the information provided in the dossier in support<br>of process validation usually contains both commercial-scale process validation studies and small-<br>scale studies. Process validation batches should be representative of the commercial process, taking<br>into account the batch definition as detailed in the process description. The contribution of data<br>from small-scale studies to the overall validation package will depend upon demonstration that the<br>small-scale model is an appropriate representation of the proposed commercial-scale. Data should be<br>provided demonstrating that the model is scalable and representative of the proposed commercial<br>process. Successful demonstration of the suitability of the small-scale model can enable<br>manufacturers to propose process validation with reduced dependence on testing of commercial-scale<br>batches. Data derived from commercial-scale batches should confirm results obtained from small-scale<br>studies used to generate data in support of process validation. Scientific grounds, or reference to<br>guidelines which do not require or specifically exclude such studies, can be an appropriate<br>justification to conduct certain studies only at small- scale (e.g., viral removal). Studies should<br>be conducted to demonstrate the ability of the process to remove product- related impurities,<br>process-related impurities (ICH Q6B) and potential contaminants (such as viruses in processes using<br>material from human or animal origin, see ICH Q5A). Studies carried out to demonstrate the lifetime<br>of chromatography columns can include experimental studies carried out in small-scale models but<br>should be confirmed during commercial-scale production. The limit of in vitro cell age for<br>commercial production should be assessed. ICH documents Q5B and Q5D provide further guidance for<br>relevant products. When platform manufacturing experience is utilised, the suitability of the<br>control strategy should be demonstrated and the drug substance manufacturing process should be<br>appropriately validated at the time of marketing authorisation application. Usually, full scale<br>validation studies should include data derived from the final manufacturing process and site(s) used<br>to produce the product to be commercialised.",
           "process & packaging validation"
          ],
          [
           "Drug product containers and closures. […]  (c) Drug product containers and closures shall be clean<br>and, where indicated by the nature of the drug, sterilized and processed to remove pyrogenic<br>properties to assure that they are suitable for their intended use. Such depyrogenation processes<br>shall be validated.",
           "process & packaging validation"
          ],
          [
           "Validation […] Cleaning Validation […]  Cleaning procedures should normally be validated. In<br>general, cleaning validation should be directed to situations or process steps where contamination<br>or carryover of materials poses the greatest risk to API quality. For example, in early production<br>it may be unnecessary to validate equipment cleaning procedures where residues are removed by<br>subsequent purification steps.",
           "process & packaging validation"
          ],
          [
           "Validation […] Processes and procedures should undergo periodic critical re-validation to ensure<br>that they remain capable of achieving the intended results.",
           "process & packaging validation"
          ],
          [
           "Validation […]  Process revalidation may be triggered by a process change as part of the change-<br>control system. In addition, because of the variability of processes, products and methods, process<br>revalidation may be conducted at predetermined regular intervals according to risk considerations. A<br>detailed review of all changes, trends and deviations occurring within a defined time period – for<br>example, 1 year, based on the regular product quality review (PQR) – may indicate a need for process<br>revalidation.",
           "process & packaging validation"
          ],
          [
           "The basic requirements of Quality Control are that: […]  Testing methods are validated or verified.",
           "process & packaging validation"
          ],
          [
           "When any new manufacturing formula or method of preparation is adopted, steps should be taken to<br>demonstrate its suitability for routine processing. The defined process, using the materials and<br>equipment specified, should be shown to yield a product consistently of the required quality.",
           "process & packaging validation"
          ],
          [
           "Production and Process Controls […] Process validation. […]  (c) When changes or process deviations<br>occur, the manufacturer shall review and evaluate the process and perform revalidation where<br>appropriate. These activities shall be documented.",
           "process & packaging validation"
          ],
          [
           "Validation […] Approaches to Process Validation […]  Process Validation (PV) is the documented<br>evidence that the process, operated within established parameters, can perform effectively and<br>reproducibly to produce an intermediate or API meeting its predetermined specifications and quality<br>attributes.",
           "process & packaging validation"
          ],
          [
           "GMP is concerned with both production and quality control. To meet GMP requirements, you must: […]<br>Validate critical steps of manufacturing processes and key changes to the process.",
           "process & packaging validation"
          ],
          [
           "The system of Quality Assurance should ensure that: […]  Qualifications and validations are carried<br>out.",
           "process & packaging validation"
          ],
          [
           "Validation […]  The integrity and specified hold times of containers used to store intermediate<br>products should be validated unless such intermediate products are freshly prepared and used<br>immediately.",
           "process & packaging validation"
          ],
          [
           "Product Quality Review […]  The results of this review should be evaluated and an assessment made of<br>whether corrective action or any revalidation should be undertaken. Reasons for such corrective<br>action should be documented. Agreed corrective actions should be completed in a timely and effective<br>manner.",
           "process & packaging validation"
          ],
          [
           "Validation […] When any new manufacturing formula or method of preparation is adopted, steps should<br>be taken to demonstrate its suitability for routine processing. The defined process, using the<br>materials and equipment specified, should be shown to yield a product consistently of the required<br>quality.",
           "process & packaging validation"
          ],
          [
           "Validation […] Approaches to Process Validation […]  Batches selected for retrospective validation<br>should be representative of all batches made during the review period, including any batches that<br>failed to meet specifications, and should be sufficient in number to demonstrate process<br>consistency. Retained samples can be tested to obtain data to retrospectively validate the process.",
           "process & packaging validation"
          ],
          [
           "The basic requirements of GMP are that: […] Critical steps of manufacturing processes and<br>significant changes to the process are validated;",
           "process & packaging validation"
          ],
          [
           "Validation […] Process Validation Program […]  Process validation should confirm that the impurity<br>profile for each API is within the limits specified. The impurity profile should be comparable to or<br>better than historical data and, where applicable, the profile determined during process development<br>or for batches used for pivotal clinical and toxicological studies.",
           "process & packaging validation"
          ],
          [
           "Qualification and validation […]  Processes and procedures should be established on the basis of the<br>results of the validation performed.",
           "process & packaging validation"
          ],
          [
           "Validation […]  After initial process validation studies have been finalized and routine production<br>has begun, critical processes should be subject to monitoring and trending with the objective of<br>assuring consistency and detecting any unexpected variability. The monitoring strategy should be<br>defined, taking into consideration factors such as the inherent variability, complexity of quality<br>attributes and heterogeneity of biological products. A system or systems for detecting unplanned<br>departures from the process as designed should be in place to ensure that the process remains in a<br>state of control. Collection and evaluation of information and data on the performance of the<br>process will allow for detection of undesired process variability and will determine whether action<br>should be taken to prevent, anticipate and/or correct problems so that the process remains under<br>control.",
           "process & packaging validation"
          ],
          [
           "Pharmaceutical quality system […] The PQS appropriate to the manufacture of pharmaceutical products<br>should ensure that: […]  all necessary controls on starting materials, intermediate products, and<br>bulk products and other in-process controls, calibrations and validations are carried out;",
           "process & packaging validation"
          ],
          [
           "Qualification and validation […]  Any aspect of operation, including significant changes to the<br>premises, facilities, equipment or processes, which may affect the quality of the product, directly<br>or indirectly, should be qualified and validated.",
           "process & packaging validation"
          ],
          [
           "Specifications and testing procedures […]  Testing procedures described in documents should be<br>validated in the context of available facilities and equipment before they are adopted for routine<br>testing.",
           "process & packaging validation"
          ],
          [
           "Validation […] Process Validation Program […]  The number of process runs for validation should<br>depend on the complexity of the process or the magnitude of the process change being considered. For<br>prospective and concurrent validation, three consecutive successful production batches should be<br>used as a guide, but there may be situations where additional process runs are warranted to prove<br>consistency of the process (e.g., complex API processes or API processes with prolonged completion<br>times). For retrospective validation, generally data from ten to thirty consecutive batches should<br>be examined to assess process consistency, but fewer batches can be examined if justified.",
           "process & packaging validation"
          ],
          [
           "The heads of Production, Quality Control and where relevant, Head of Quality Assurance or Head of<br>Quality Unit, generally have some shared, or jointly exercised, responsibilities  […]. These may<br>include, subject to any national regulations […]:  Process validation;",
           "process & packaging validation"
          ],
          [
           "Qualification and Validation […]  Qualification and validation should not be considered as a one<br>time activity. After initial qualification and validation, requalification or revalidation should be<br>carried out according to the product quality review. Critical manufacturing processes and operation<br>procedures should be revalidated at defined intervals to ensure the intended outcome.",
           "process & packaging validation"
          ],
          [
           "Validation […] Approaches to Process Validation […]  There are three approaches to validation.<br>Prospective validation is the preferred approach, but there are exceptions where the other<br>approaches can be used. These approaches and their applicability are listed below.",
           "process & packaging validation"
          ],
          [
           "Validation […] Approaches to Process Validation […]  Concurrent validation can be conducted when<br>data from replicate production runs are unavailable because only a limited number of API batches<br>have been produced, API batches are produced infrequently, or API batches are produced by a<br>validated process that has been modified. Prior to the completion of concurrent validation, batches<br>can be released and used in final drug product for commercial distribution based on thorough<br>monitoring and testing of the API batches.",
           "process & packaging validation"
          ],
          [
           "Validation […] Cleaning Validation […]  Validation of cleaning procedures should reflect actual<br>equipment usage patterns. If various APIs or intermediates are manufactured in the same equipment<br>and the equipment is cleaned by the same process, a representative intermediate or API can be<br>selected for cleaning validation. This selection should be based on the solubility and difficulty of<br>cleaning and the calculation of residue limits based on potency, toxicity, and stability.",
           "process & packaging validation"
          ],
          [
           "Qualification and Validation […]  Qualification or validation should be performed when there is a<br>change in major factors influencing the product quality, including any change in starting materials,<br>immediate packaging materials, production equipment and environment (or premises), manufacturing<br>process or testing method, etc. Where necessary, the changes should be approved by drug regulatory<br>departments.",
           "process & packaging validation"
          ],
          [
           "Production and In-Process Controls […] Blending Batches of Intermediates or APIs […]  Where physical<br>attributes of the API are critical (e.g., APIs intended for use in solid oral dosage forms or<br>suspensions), blending operations should be validated to show homogeneity of the combined batch.<br>Validation should include testing of critical attributes (e.g., particle size distribution, bulk<br>density, and tap density) that may be affected by the blending process.",
           "process & packaging validation"
          ],
          [
           "Validation […]  Biological processes, handling of live materials and using campaign-based<br>production, if applicable, are the major aspects of biological product manufacturing which require<br>process and cleaning validation. The validation of such processes – given the typical variability of<br>biological products, the possible use of harmful and toxic materials and the need for inactivation<br>processes – plays an important role in demonstrating production consistency and in proving that the<br>critical process parameters and product attributes are controlled. Where available, WHO guidance<br>documents should be consulted on the validation of specific manufacturing methods (for example,<br>virus removal or inactivation (21)).",
           "process & packaging validation"
          ],
          [
           "Qualification and Validation […]  The premises, facilities, equipment and testing instruments should<br>be qualified. The validated manufacturing process, operation procedures and testing methods should<br>be used for production, operation and testing, and this validated state should be maintained.",
           "process & packaging validation"
          ],
          [
           "Qualification and Validation […]  Before any new manufacturing formula or process is adopted, its<br>suitability for routine production should be validated. The manufacturing process by using the<br>defined starting materials and equipment, should consistently produce products suitable for their<br>intended use and in accordance with the registration requirements.",
           "process & packaging validation"
          ],
          [
           "Validation […]  All critical biological processes (including inoculation, multiplication,<br>fermentation, cell disruption, inactivation, purification, virus removal, removal of toxic and<br>harmful additives, filtration, formulation and aseptic filling) are subject, as applicable, to<br>process validation. Manufacturing control parameters to be validated may include specific addition<br>sequences, mixing speeds, time and temperature controls, limits of light exposure and containment.",
           "process & packaging validation"
          ],
          [
           "Production and Process Controls […] Control of microbiological contamination. (a) Appropriate<br>written procedures, designed to prevent objectionable microorganisms in drug products not required<br>to be sterile, shall be established and followed. (b) Appropriate written procedures, designed to<br>prevent microbiological contamination of drug products purporting to be sterile, shall be<br>established and followed. Such procedures shall include validation of all aseptic and sterilization<br>processes.",
           "process & packaging validation"
          ],
          [
           "Process validation is the documented evidence that the process, operated within established<br>parameters, can perform effectively and reproducibly to produce a drug substance or intermediate<br>meeting its predetermined specifications and quality attributes (ICH Q7). Process validation can<br>include the collection and evaluation of data, from the process design stage throughout production,<br>that establish scientific evidence that a process is capable of consistently delivering a quality<br>drug substance. The drug substance manufacturing process should be validated before commercial<br>distribution of resulting drug product. For biotechnological processes, or for aseptic processing<br>and sterilisation process steps for drug substances, the data provided in support of process<br>validation is included as part of the marketing application (3.2.S.2.5). For non-sterile chemical<br>entity drug substance processes, results of process validation studies are not normally included in<br>the dossier. Generally, process validation includes the collection of data on an appropriate number<br>of production batches (see ICH Q7, Section 12.5). The number of batches can depend on several<br>factors including but not limited to: (1) the complexity of the process being validated; (2) the<br>level of process variability; and (3) the amount of experimental data and/or process knowledge<br>available on the specific process. As an alternative to the traditional process validation,<br>continuous process verification (ICH Q8) can be utilised in process validation protocols for the<br>initial commercial production and also for manufacturing process changes for the continual<br>improvement throughout the remainder of the product lifecycle.",
           "process & packaging validation"
          ],
          [
           "Validation […] Approaches to Process Validation […]  An exception can be made for retrospective<br>validation for well established processes that have been used without significant changes to API<br>quality due to changes in raw materials, equipment, systems, facilities, or the production process.<br>This validation approach may be used where: (1) Critical quality attributes and critical process<br>parameters have been identified; (2) Appropriate in-process acceptance criteria and controls have<br>been established; (3) There have not been significant process/product failures attributable to<br>causes other than operator error or equipment failures unrelated to equipment suitability; and (4)<br>Impurity profiles have been established for the existing API.",
           "process & packaging validation"
          ],
          [
           "Manufacturing control / Validation […] Evaluate critical processes and related procedures<br>periodically to ensure they remain capable of achieving the intended results",
           "process & packaging validation"
          ],
          [
           "Buildings and Facilities […] Water […]  Where water used in the process is treated by the<br>manufacturer to achieve a defined quality, the treatment process should be validated and monitored<br>with appropriate action limits.",
           "process & packaging validation"
          ]
         ],
         "hovertemplate": "Standard mapping?=%{customdata[1]}<br>reduced_x=%{x}<br>reduced_y=%{y}<br>Original Text=%{customdata[0]}<br>Assigned Cluster=%{marker.color}<extra></extra>",
         "legendgroup": "process & packaging validation",
         "marker": {
          "color": [
           -1,
           23,
           -1,
           -1,
           -1,
           -1,
           -1,
           23,
           -1,
           24,
           23,
           -1,
           17,
           -1,
           23,
           -1,
           -1,
           23,
           -1,
           -1,
           17,
           23,
           -1,
           23,
           -1,
           -1,
           -1,
           -1,
           23,
           -1,
           -1,
           -1,
           22,
           -1,
           -1,
           23,
           23,
           -1,
           -1,
           -1,
           -1,
           23,
           -1
          ],
          "coloraxis": "coloraxis",
          "symbol": "circle"
         },
         "mode": "markers",
         "name": "process & packaging validation",
         "orientation": "v",
         "showlegend": true,
         "type": "scatter",
         "x": [
          -12.750701904296875,
          -8.545467376708984,
          -11.010662078857422,
          -9.505017280578613,
          -12.77294635772705,
          -8.23145866394043,
          -16.65899085998535,
          -8.882112503051758,
          -10.724602699279785,
          -12.086780548095703,
          -14.569149017333984,
          -9.185746192932129,
          -14.347055435180664,
          -13.45467758178711,
          -11.020011901855469,
          -16.229080200195312,
          6.552865028381348,
          -14.410676956176758,
          -13.819236755371094,
          -13.438801765441895,
          -14.594489097595215,
          -11.314355850219727,
          -12.009842872619629,
          -9.21216106414795,
          -10.88939094543457,
          -12.513755798339844,
          -14.73086166381836,
          1.8279671669006348,
          -11.23548698425293,
          -17.330177307128906,
          -14.998174667358398,
          -16.57127571105957,
          -4.886147975921631,
          -12.826838493347168,
          -11.154528617858887,
          -12.52021598815918,
          -13.0787935256958,
          -11.677648544311523,
          -8.414353370666504,
          -12.82928466796875,
          -16.124038696289062,
          -9.135282516479492,
          -13.9222993850708
         ],
         "xaxis": "x",
         "y": [
          -21.940908432006836,
          -21.495357513427734,
          -20.01213836669922,
          -23.077220916748047,
          -29.32585906982422,
          2.5308115482330322,
          -22.48415184020996,
          -21.365671157836914,
          -22.773540496826172,
          -12.868038177490234,
          -20.07996940612793,
          -19.340797424316406,
          -22.646020889282227,
          -14.919797897338867,
          -12.6087007522583,
          -19.46949577331543,
          -3.8071398735046387,
          -20.19554328918457,
          -24.179229736328125,
          -14.980217933654785,
          -23.76088523864746,
          -18.906118392944336,
          -23.12638282775879,
          -9.673579216003418,
          -17.134546279907227,
          -17.509641647338867,
          -25.42547607421875,
          -13.165677070617676,
          -21.324052810668945,
          -25.31104278564453,
          -26.015974044799805,
          -22.62458038330078,
          -12.502016067504883,
          -26.27880096435547,
          -25.97887420654297,
          -18.211198806762695,
          -19.726055145263672,
          -25.747987747192383,
          2.1139063835144043,
          -29.14148712158203,
          -24.68395233154297,
          -20.109846115112305,
          -17.608810424804688
         ],
         "yaxis": "y"
        },
        {
         "customdata": [
          [
           "The MANUFACTURER shall apply a RISK MANAGEMENT PROCESS complying with ISO 14971.",
           "samd"
          ],
          [
           "The MANUFACTURER shall establish a software development plan (or plans) for conducting the<br>ACTIVITIES of the software development PROCESS appropriate to the scope, magnitude, and software<br>safety classifications of the SOFTWARE SYSTEM to be developed.  The  sOFTWARE  DEVELOPMENT  LIFE<br>CYCLE MODEL shall either be fully defined or be referenced in the plan  (or  plans).  The  plan<br>shall address the following: a) the PROCESSES to be used in the development of the SOFTWARE SYSTEM<br>(see Note 4); b) the DELIVERABLES (includes documentation) of the ACTIVITIES and TASKS; c)<br>TRACEABILITY  between SYSTEM  requirements, software requirements, SOFTWARE  SYSTEM  test, and RISK<br>CONTROL measures implemented in software; d) software  configuration  and  change  management,<br>including   SOUP   CONFIGURATION   ITEMS   and software used to support development; and e) software<br>problem resolution for handling problems detected in the medical device software, deliverables and<br>activities at each stage of the life cycle  [Class A, B, C] NOTE 1 The SOFTWARE DEVELOPMENT LIFE<br>CYCLE MODEL can identify different elements (PROCESSES, ACTIVITIES, TASKS and DELIVERABLES) for<br>different SOFTWARE ITEMS according to the software safety classification of each SOFTWARE ITEM of<br>the SOFTWARE SYSTEM. NOTE 2 These ACTIVITIES and TASKS can overlap or interact and can be performed<br>iteratively or recursively. It is not the intent to imply that a specific life cycle model should be<br>used. NOTE 3 Other PROCESSES are described in this standard separately from the development PROCESS.<br>This does not imply that they must be implemented as separate ACTIVITIES and TASKS. The ACTIVITIES<br>and TASKS of the other PROCESSES can be integrated into the development PROCESS. NOTE 4  The<br>software development plan can reference existing PROCESSES or define new ones. NOTE 5  The software<br>development plan may be integrated in an overall SYSTEM development plan.",
           "samd"
          ],
          [
           "The items to be controlled shall include tools, items or settings, used to develop the MEDICAL<br>DEVICE SOFTWARE, which could impact the MEDICAL DEVICE SOFTWARE. [Class B, C] NOTE 1   Examples of<br>such items include compiler/assembler versions, make files, batch files, and specific environment<br>settings.  NOTE 2   See Clause 8",
           "samd"
          ],
          [
           "Each problem report shall be evaluated to determine how it affects the safety of medical device<br>software released for intended use (see 9.2) and whether a change to that software is needed to<br>address the problem. [Class A, B, C]",
           "samd"
          ],
          [
           "The manufacturer shall change configuration items identified to be controlled according to 8.1 only<br>in response to an approved change request. [Class A, B, C] NOTE 1  The  decision  to  approve  a<br>CHANGE  REQUEST  can  be  integral  to  the  change  control  PROCESS or part of another PROCESS.<br>This subclause only requires that approval of a change precede its implementation. NOTE 2  Different<br>acceptance processes can be used for change requests at different stages of the life cycle, as<br>stated in plans, see 5.1.1 d) and 6.1 e).",
           "samd"
          ],
          [
           "SOUP software of unknown provenance (acronym) software item that is already developed and generally<br>available and that has not been developed for the purpose of being incorporated into the medical<br>device (also known as “off-the-shelf software”) or software item previously developed for which<br>adequate records of the development processes are not available NOTE   A medical device software<br>system in itself cannot be claimed to be SOUP.",
           "samd"
          ],
          [
           "If failure or unexpected results from SOUP is a potential cause of the SOFTWARE ITEM contributing to<br>a hazardous situation, the MANUFACTURER  shall EVALUATE as a minimum any ANOMALY list published by<br>the supplier of the SOUP item relevant to the VERSION of the SOUP item used in the MEDICAL DEVICE to<br>determine if any of the known ANOMALIES result in a sequence of events that could result in  a<br>hazardous situation.  [Class B, C]",
           "samd"
          ],
          [
           "The MANUFACTURER of MEDICAL DEVICE SOFTWARE shall demonstrate the ability to  provide  MEDICAL<br>DEVICE SOFTWARE that consistently meets customer requirements and applicable regulatory<br>requirements. NOTE 1  Demonstration of this ability can be by the use of a quality management system<br>that complies with: - ISO 13485; or - a national quality management system standard; or - a quality<br>management system required by national regulation. NOTE 2  Guidance for applying quality management<br>system requirements to software can be found in ISO/IEC 90003.",
           "samd"
          ],
          [
           "The MANUFACTURER shall document TRACEABILITY of software HAZARDS as appropriate: a) from the<br>hazardous situation to the SOFTWARE ITEM; b) from the SOFTWARE ITEM to the specific software cause;<br>c) from the software cause to the RISK CONTROL measure; and d) from the RISK CONTROL measure to the<br>VERIFICATION of the RISK CONTROL measure. [Class B, C] NOTE   See ISO 14971 – RISK MANAGEMENT<br>report.",
           "samd"
          ],
          [
           "The  manufacturer  shall  plan  to  place  configuration  items  under  configuration  management<br>control before they are verified. [Class B, C]",
           "samd"
          ],
          [
           "As  appropriate  to  the  MEDICAL  DEVICE  SOFTWARE,  the  MANUFACTURER  shall  include  in  the<br>software requirements:  e) SECURITY requirements;",
           "samd"
          ],
          [
           "The MANUFACTURER  shall perform relevant RISK  MANAGEMENT  ACTIVITIES  defined in  7.1,  7.2 and<br>7.3 based on these analyses. [Class B, C]",
           "samd"
          ],
          [
           "If a SOFTWARE ITEM is identified as SOUP, the MANUFACTURER shall specify functional and performance<br>requirements for the SOUP item that are necessary for its intended use. [Class B, C]",
           "samd"
          ],
          [
           "The MANUFACTURER  shall analyse changes to the software, including changes to SOUP, to determine<br>whether the software modification could interfere with existing RISK CONTROL measures. [Class B, C]",
           "samd"
          ],
          [
           "The manufacturer shall establish a scheme for the unique identification of configuration items and<br>their versions to be controlled according to the development and configuration planning specified in<br>5.1. [Class A, B, C]",
           "samd"
          ],
          [
           "Software risks can never be totally eliminated so SaMD manufacturers should continually monitor<br>customer issues to maintain the safety level. A monitoring process should include ways to capture<br>customer feedback, e.g., through inquiries, complaints, market studies, focus groups, servicing,<br>etc. The inherent nature of software including SaMD allows for efficient methods to understand and<br>capture user experiences. It is recommended that SaMD manufacturers utilize these feedback<br>techniques to understand failure modes and perform analysis to address safety situations. It is also<br>recommended that SaMD manufacturers extend their monitoring to automatically detect errors of the<br>software or system, i.e., discover and recover from an error before a failure can occur. General<br>considerations associated with the monitoring of SaMD include: 1. Due to its non-physical nature, a<br>SaMD may be duplicated and numerous copies and widely spread, often outside the control of the<br>manufacturer. 2. Often an update made available by the manufacturer is left to the user of the SaMD<br>to install. Manufacturers should make sure that appropriate mitigations address any risks that arise<br>from the existence of different versions of the SaMD on the market. 3. Incident investigations<br>should consider any specific case or combination of use cases that may have contributed to the<br>failure and as appropriate manufacturers should consider accident reconstruction principles, e.g.,<br>data logging, black box recorder, etc.",
           "samd"
          ],
          [
           "(d) a risk assessment comprising an analysis and evaluation of the risks, and the risk reduction<br>measures adopted to satisfy the applicable requirements of sections 10 to 20;",
           "samd"
          ],
          [
           "In addition to the analysis required by Clause 9, the manufacturer shall analyse each change request<br>for its effect on the organization, medical device software released for intended use, and systems<br>with which it interfaces. [Class A, B, C]",
           "samd"
          ],
          [
           "As  appropriate  to  the  MEDICAL  DEVICE  SOFTWARE,  the  MANUFACTURER  shall  include  in  the<br>software requirements:  f) user interface requirements implemented by software; NOTE 4  Examples<br>include those related to: – support for manual operations, – human-equipment interactions, –<br>constraints on personnel, and – areas needing concentrated human attention. NOTE 5   Information<br>regarding usability engineering requirements can be found in IEC 62366-1 [21] among others (e.g.,<br>IEC 60601-1-6 [3])",
           "samd"
          ],
          [
           "The MANUFACTURER shall include or reference in the software development plan information about the<br>documents to be produced during the software development life cycle. For each identified document or<br>type of document the following information shall be included or referenced: a) title, name or naming<br>convention; b) purpose; c) [Text deleted] d)  procedures and responsibilities for development,<br>review, approval and modification.  [Class A, B, C]  NOTE See Clause 8 for consideration of<br>configuration management of documentation.",
           "samd"
          ],
          [
           "As  appropriate  to  the  MEDICAL  DEVICE  SOFTWARE,  the  MANUFACTURER  shall  include  in  the<br>software requirements:  a) functional and capability requirements; NOTE 1  Examples include: –<br>performance (e.g., purpose of software, timing requirements), – physical characteristics (e.g., code<br>language, platform, operating system), – computing environment (e.g., hardware, memory size,<br>processing unit, time zone, network infrastructure) under which the software is to perform, and –<br>need for compatibility with upgrades or multiple SOUP or other device versions.",
           "samd"
          ],
          [
           "The manufacturer shall identify the approved change requests that affect released medical device<br>software. As required by local regulation, the MANUFACTURER shall inform users and regulators about:<br>a) any problem in released medical device software and the consequences of continued unchanged use;<br>and b) the nature of any available changes to released medical device software and how to obtain<br>and install the changes. [Class A, B, C]",
           "samd"
          ],
          [
           "The  MANUFACTURER   shall  analyse  changes  to  the  MEDICAL  DEVICE  SOFTWARE   (including  SOUP)<br>to determine whether: a) additional potential causes are introduced contributing to a hazardous<br>situation; and b) additional software RISK CONTROL measures are required. [Class A, B, C]",
           "samd"
          ],
          [
           "The MANUFACTURER shall: a) investigate the problem and if possible identify the causes; b) EVALUATE<br>the problem’s relevance to SAFETY using the software RISK MANAGEMENT PROCESS  (Clause 7); c)<br>document the outcome of the investigation and evaluation; and d) create a CHANGE REQUEST(S) for<br>actions needed to correct the problem, or document the rationale for taking no action. [Class A, B,<br>C] NOTE   A  problem  does  not  have to  be  corrected  for the MANUFACTURER  to comply with the<br>software problem resolution PROCESS, provided that the problem is not relevant to SAFETY.",
           "samd"
          ],
          [
           "The MANUFACTURER shall include or reference in the software development plan: a) standards, b)<br>methods, and c) tools associated with the development of SOFTWARE ITEMS of class C. [Class C]",
           "samd"
          ],
          [
           "The implementation of each risk control measure documented in 7.2 shall be verified, and this<br>verification shall be documented. The manufacturer shall review the risk control measure and<br>determine if it could result in a new hazardous situation. [Class B, C]",
           "samd"
          ],
          [
           "The manufacturer shall evaluate and approve change requests which modify released medical device<br>software. [Class A, B, C]",
           "samd"
          ],
          [
           "The MANUFACTURER shall verify resolutions to determine whether: a) problem has been resolved and the<br>PROBLEM REPORT has been closed; b) adverse trends have been reversed; c) change requests have been<br>implemented in the appropriate medical device software and activities; and d) additional problems<br>have been introduced.  [Class A, B, C]",
           "samd"
          ],
          [
           "For each SOUP CONFIGURATION ITEM being used, including standard libraries, the MANUFACTURER shall<br>document: a) the title, b) the MANUFACTURER, and c) the unique SOUP designator [Class A, B, C] NOTE<br>The  unique  SOUP  designator  could  be,  for  example,  a  VERSION,  a  release  date,  a  patch<br>number  or  an  upgrade designation.",
           "samd"
          ],
          [
           "As  appropriate  to  the  MEDICAL  DEVICE  SOFTWARE,  the  MANUFACTURER  shall  include  in  the<br>software requirements:  i) requirements related to methods of operation and maintenance;",
           "samd"
          ],
          [
           "The  MANUFACTURER   shall  establish  a  software  maintenance  plan  (or  plans)  for  conducting<br>the ACTIVITIES and TASKS of the maintenance PROCESS.  The plan shall address the following: a)<br>procedures for: – receiving, – documenting, – evaluating, – resolving and – tracking feedback<br>arising after release of the MEDICAL DEVICE SOFTWARE; b) criteria for determining whether feedback<br>is considered to be a problem; c) use of the software RISK MANAGEMENT PROCESS; d) use of the<br>software problem resolution PROCESS for analysing and resolving problems arising after release of<br>the MEDICAL DEVICE SOFTWARE; e)  use of the software configuration management process (Clause H8)<br>for managing modifications to the existing software system; and f) procedures to EVALUATE and<br>implement: – upgrades, – bug fixes, – patches and – obsolescence of SOUP. [Class A, B, C]",
           "samd"
          ],
          [
           "When  present  in  the  design,  the  MANUFACTURER   shall  include  additional  acceptance<br>criteria  as appropriate for: a) proper event sequence; b) data and control flow; c) planned<br>resource allocation; d) fault handling (error definition, isolation, and recovery); e)<br>initialisation of variables; f) self-diagnostics; g) memory management and memory overflows; and h)<br>boundary conditions.  [Class C]",
           "samd"
          ],
          [
           "The  MANUFACTURER   shall  include  or  reference  in  the  software  development  plan  the<br>following VERIFICATION information: a) DELIVERABLES requiring VERIFICATION; b) the required<br>VERIFICATION TASKS for each life cycle ACTIVITY; c) milestones at which the DELIVERABLES are<br>VERIFIED; and d) the acceptance criteria for VERIFICATION of the DELIVERABLES.  [Class A, B, C]",
           "samd"
          ],
          [
           "The manufacturer shall establish procedures to ensure that the  released  medical  device software<br>can be reliably delivered to the point of use without corruption or unauthorised change. These<br>procedures shall address the production and handling of media containing the medical device software<br>including  as  appropriate: – replication, – media labelling, – packaging, – protection, – storage,<br>and – delivery. [Class A, B, C]",
           "samd"
          ],
          [
           "The MANUFACTURER  shall include or reference in the software development plan, a plan to integrate<br>the SOFTWARE ITEMS (including SOUP) and perform testing during integration. [Class B, C] NOTE 1   It<br>is acceptable to combine integration testing and software system testing into a single plan and set<br>of activities.  NOTE 2  See 5.6.",
           "samd"
          ],
          [
           "Feedback shall be documented and evaluated  to determine whether a problem exists in a released<br>medical device software. Any such problem shall be recorded as a problem report (see Clause 9).<br>Problem reports shall include actual or potential adverse events, and deviations from<br>specifications. [Class A, B, C]",
           "samd"
          ],
          [
           "The  MANUFACTURER  shall  identify  SOFTWARE  ITEMS  that  could  contribute  to  a  hazardous<br>situation identified in the MEDICAL DEVICE RISK ANALYSIS ACTIVITY of ISO 14971 (see 4.2). [Class B,<br>C] NOTE   The hazardous situation could be the direct result of software failure or the result of<br>the failure of a RISK CONTROL measure that is implemented in software.",
           "samd"
          ],
          [
           "The MANUFACTURER shall implement the change as specified in the CHANGE REQUEST. The MANUFACTURER<br>shall identify and perform any ACTIVITY that needs to be repeated as a result of the change,<br>including changes to the software safety classification of SOFTWARE SYSTEMS and SOFTWARE ITEMS.<br>[Class A, B, C] NOTE This subclause states how the change should be implemented to achieve adequate<br>change control. It does not imply that the implementation is an integral part of the change control<br>PROCESS. Implementation should use planned PROCESSES, see  5.1.1 e) and  6.1 e).",
           "samd"
          ],
          [
           "The MANUFACTURER shall identify potential causes of the SOFTWARE ITEM identified above contributing<br>to a hazardous situation. The MANUFACTURER shall consider potential causes including, as<br>appropriate: a) incorrect or incomplete specification of functionality; b) software defects in the<br>identified SOFTWARE ITEM functionality; c) failure or unexpected results from SOUP; d) hardware<br>failures or other software defects that could result in unpredictable software operation; and e)<br>reasonably foreseeable misuse.  [Class B, C]",
           "samd"
          ],
          [
           "If a SOFTWARE ITEM is identified as SOUP, the MANUFACTURER shall specify the SYSTEM hardware and<br>software necessary to support the proper operation of the SOUP item. [Class B, C] NOTE Examples<br>include  processor type  and  speed,  memory type  and  size, SYSTEM software  type,  communication<br>and display software requirements.",
           "samd"
          ],
          [
           "The objective of planning is to provide a roadmap to be followed during the product development<br>lifecycle. This comes from the quality principle that better results can be achieved by following a<br>methodical and rigorous plan for managing projects such as a plan-do-check-act approach. Product<br>planning includes the definition of phases, activities, responsibilities, and resources needed for<br>developing the SaMD. It is important to understand that planning is not static - it needs to be<br>updated when new information is gathered or milestones are reached. IMDRF/SaMD WG/N12 identifies<br>that for SaMD, a thorough understanding of the sociotechnical  environment (clinical perspective),<br>and the technology and system environment (software perspective) is important in planning, as<br>inadequate considerations could lead to incorrect, inaccurate, and/or delayed diagnoses and<br>treatments. The implementation of SaMD lifecycle processes should adequately be informed and<br>tailored for the type of SaMD as identified in IMDRF/SaMD WG/N12.  Example: Both companies carry out<br>product planning to decide which operating systems best suited their SaMD application. The larger<br>Magna company has chosen to build its application to work on the top five mobile phone operating<br>systems as the company has the resources to develop on multiple platforms. While the smaller Parva<br>has chosen to develop for the platform that is currently the market leader due to the company’s<br>constraints of resources. For both Parva and Magna, this planning phase can allow each company to<br>take deliberate approaches to the assignment of resources. The concepts presented in this section<br>relate to clauses 5.4, 7.1, and 7.3.1 in ISO 13485:2003.",
           "samd"
          ],
          [
           "The MANUFACTURER shall include or reference in the software development plan, a plan to conduct the<br>ACTIVITIES and TASKS of the software RISK MANAGEMENT PROCESS, including the management of RISKS<br>relating to SOUP. [Class A, B, C]  NOTE   See Clause 7.",
           "samd"
          ],
          [
           "The manufacturer shall document the version of the medical device software that is being released.<br>[Class A, B, C]",
           "samd"
          ],
          [
           "The manufacturer shall monitor feedback on medical device software released for intended use. [Class<br>A, B, C]",
           "samd"
          ],
          [
           "The MANUFACTURER shall archive: a)  the medical device software and configuration items; and b)<br>the documentation for  at  least  a  period  of  time  determined  as  the  longer  of:  the  life<br>time  of  the medical device software as defined by the manufacturer or a time specified by relevant<br>regulatory requirements; [Class A, B, C]",
           "samd"
          ],
          [
           "The MANUFACTURER shall document the set of CONFIGURATION ITEMS and their VERSIONS that comprise the<br>SOFTWARE SYSTEM configuration. [Class A, B, C]",
           "samd"
          ],
          [
           "For each case  documented  in  the  risk  management  file where  a  software  item  could<br>contribute to a hazardous situation, the manufacturer shall define and document risk control<br>measures in accordance with ISO 14971 [Class B, C] NOTE  The risk control measures can be<br>implemented in hardware, software, the working environment or user instruction",
           "samd"
          ],
          [
           "The MANUFACTURER shall include or reference software configuration management information in the<br>software development plan. The software configuration management information shall include or<br>reference: a) the classes, types, categories or lists of items to be controlled; b) the software<br>configuration management ACTIVITIES and TASKS; c)  the organization(s) responsible for performing<br>software configuration management activities; d) their relationship with other organizations, such<br>as software development or maintenance; e) when the items are to be placed under configuration<br>control; and f) when the problem resolution PROCESS is to be used.  [Class A, B, C] NOTE    See<br>Clause 8.",
           "samd"
          ],
          [
           "Information security may be defined as the preservation of confidentiality, integrity and<br>availability of information. NOTE:  Incorrect management or transmission of information by an SaMD<br>can lead to incorrect or delayed diagnosis or treatment. SaMD may be affected by particular factors<br>relating to information security that may affect the integrity, availability, or accessibility of<br>information output from the SaMD needed for correct diagnosis or treatment: • SaMD are typically<br>used by a variety of users with different access needs, e.g., restricted access or varying<br>information security requirements • Platforms where a SaMD is installed typically runs many other<br>software applications. • SaMD are typically connected to the Internet, networks, databases, or<br>servers with varying information security requirements. Considerations for the manufacturer when<br>identifying implications for safety and performance of SaMD: • The SaMD information security and<br>privacy control requirements may need to be balanced with the need for timely information<br>availability. • Information security requires the identification and implementation of safe (and<br>formalized) ways to store, convert and/or transmit data. • The design should use appropriate control<br>measures to address data integrity when common information is accessed by multiple applications and<br>users. • Manufacturers should make it feasible for users to safely implement information security<br>updates. • The protection of sensitive information requires support for sufficient access control<br>and appropriate restriction to system settings and assets for important data. • The design should<br>address possible adverse system interactions with the inclusion of appropriate resilience and<br>robustness measures. • Instructions for users related to information security should include how to<br>safely:   o Install SaMD in appropriate operating environments (e.g., OS, integration of other<br>software);   o Manage authentication mechanisms; and   o Update security software/spyware, operating<br>environments, and other systems and applications, etc.",
           "samd"
          ],
          [
           "The MANUFACTURER shall approve and implement all CHANGE REQUESTS, observing the requirements of the<br>change control PROCESS (see 8.2). [Class A, B, C]",
           "samd"
          ],
          [
           "The MANUFACTURER  shall document in the RISK  MANAGEMENT  FILE  potential causes of the SOFTWARE<br>ITEM contributing to a hazardous situation (see ISO 14971). [Class B, C]",
           "samd"
          ],
          [
           "If  a  RISK  CONTROL  measure  is  implemented  as  part  of  the  functions  of  a  SOFTWARE  ITEM,<br>the MANUFACTURER shall: a) include the RISK CONTROL measure in the software requirements; b) assign<br>to each software item that contributes to the implementation of a risk control measure a software<br>safety class based on the risk that the risk control measure is controlling (see 4.3 a)); and c)<br>develop the SOFTWARE ITEM in accordance with Clause 5. [Class B, C] NOTE This requirement provides<br>additional detail for RISK CONTROL requirements of ISO 14971",
           "samd"
          ],
          [
           "The MANUFACTURER  shall use the software problem resolution  PROCESS  (see Clause  9) to address<br>PROBLEM REPORTS. [Class A, B, C] NOTE A problem could show that a software system or software item<br>has not been placed in the correct software safety class. The problem resolution process can suggest<br>changes of the software safety class. When the process has been completed, any change of safety<br>class in the software system or its software items should be made known and documented.",
           "samd"
          ],
          [
           "The MANUFACTURER shall include or reference in the software development plan a procedure for: a)<br>identifying   categories   of   defects   that   may   be   introduced   based   on   the   selected<br>programming technology that are relevant to their SOFTWARE SYSTEM; and b) documenting   evidence<br>that   demonstrates   that   these   defects   do   not   contribute   to unacceptable RISK. NOTE<br>See Annex B of IEC TR 80002-1:2009 for examples of categories of defects or causes contributing to<br>HAZARDOUS SITUATIONS.  [Class B, C]",
           "samd"
          ]
         ],
         "hovertemplate": "Standard mapping?=%{customdata[1]}<br>reduced_x=%{x}<br>reduced_y=%{y}<br>Original Text=%{customdata[0]}<br>Assigned Cluster=%{marker.color}<extra></extra>",
         "legendgroup": "samd",
         "marker": {
          "color": [
           11,
           11,
           -1,
           11,
           -1,
           -1,
           11,
           -1,
           11,
           11,
           6,
           11,
           -1,
           11,
           11,
           -1,
           -1,
           11,
           6,
           11,
           6,
           11,
           11,
           11,
           11,
           -1,
           11,
           11,
           -1,
           6,
           11,
           -1,
           11,
           11,
           11,
           11,
           11,
           11,
           11,
           -1,
           -1,
           11,
           11,
           11,
           11,
           11,
           11,
           11,
           -1,
           11,
           11,
           11,
           11,
           11
          ],
          "coloraxis": "coloraxis",
          "symbol": "diamond"
         },
         "mode": "markers",
         "name": "samd",
         "orientation": "v",
         "showlegend": true,
         "type": "scatter",
         "x": [
          -0.3704446852207184,
          -1.5026921033859253,
          2.2635979652404785,
          8.49517822265625,
          3.875638484954834,
          7.074589252471924,
          6.141992568969727,
          4.594398021697998,
          3.6429688930511475,
          0.8198999762535095,
          2.008592128753662,
          0.45580658316612244,
          6.061896324157715,
          5.663786888122559,
          0.8386132717132568,
          2.7624595165252686,
          -0.8095763921737671,
          7.105363845825195,
          3.342930316925049,
          1.0607328414916992,
          3.6701531410217285,
          8.67957878112793,
          5.767874240875244,
          7.568236351013184,
          0.6092225313186646,
          4.098289489746094,
          6.917815685272217,
          8.078567504882812,
          4.7579474449157715,
          2.2107768058776855,
          2.979414939880371,
          0.39657503366470337,
          0.13905613124370575,
          8.821402549743652,
          -0.8503600358963013,
          9.242279052734375,
          4.76693058013916,
          4.156179428100586,
          5.3731489181518555,
          6.055272102355957,
          -2.7007806301116943,
          0.7389153242111206,
          6.831210136413574,
          7.195683479309082,
          7.734635353088379,
          2.2295546531677246,
          3.384533405303955,
          1.4926036596298218,
          2.7447164058685303,
          3.171386480331421,
          4.044682025909424,
          2.601262331008911,
          7.996589183807373,
          3.0877649784088135
         ],
         "xaxis": "x",
         "y": [
          26.316864013671875,
          31.365869522094727,
          33.506324768066406,
          25.917110443115234,
          23.114011764526367,
          34.79719161987305,
          30.73912811279297,
          36.42641067504883,
          28.695627212524414,
          23.70427703857422,
          36.423500061035156,
          26.826711654663086,
          32.937110900878906,
          28.087182998657227,
          23.378610610961914,
          14.509134292602539,
          20.216835021972656,
          25.566022872924805,
          36.08143997192383,
          30.71854019165039,
          35.66365051269531,
          24.291982650756836,
          28.783180236816406,
          29.163183212280273,
          29.503276824951172,
          26.2889347076416,
          24.726308822631836,
          27.652957916259766,
          32.90431594848633,
          36.36491775512695,
          31.288307189941406,
          32.32609558105469,
          30.701133728027344,
          23.161283493041992,
          29.577268600463867,
          26.24405860900879,
          29.478111267089844,
          24.020517349243164,
          30.312477111816406,
          33.219764709472656,
          31.863372802734375,
          28.2852783203125,
          23.778465270996094,
          24.3912353515625,
          22.384042739868164,
          26.016042709350586,
          27.39117431640625,
          30.97577476501465,
          14.523331642150879,
          24.155580520629883,
          28.101879119873047,
          28.220794677734375,
          29.077022552490234,
          29.888980865478516
         ],
         "yaxis": "y"
        },
        {
         "customdata": [
          [
           "Contract Manufacture and Analysis […] The Contract Giver […]  The contract giver is responsible for<br>assessing the contract acceptor, via on-site audit of the conditions, technical levels and quality<br>management status, to confirm its competence to carry out the contracted operations, and to ensure<br>the compliance with the Provisions.",
           "audit inspection"
          ],
          [
           "Production quality assurance procedures [...] Implementation and assessment of production quality<br>management system (1) The manufacturer of a medical device must:    (a) implement a quality<br>management system for the production and final inspection of the kind of device; and    (b) arrange<br>for assessment of the system by the Secretary. (2) For the purpose of enabling the assessment to be<br>carried out, the manufacturer must have available, in writing, the following information and<br>undertakings:    (a) the name and business address of the manufacturer;    (b) details of each<br>manufacturing site where the system is to be applied;    (c) all relevant information about the<br>kinds of medical devices to which the system is to be applied;    (d) the documentation in relation<br>to the system;    (e) an undertaking by the manufacturer to continue to comply with the requirements<br>of the system after assessment;    (f) an undertaking by the manufacturer to ensure that the system<br>is at all times adequate and efficacious;    (g) for a kind of device in relation to which the type<br>examination procedures have been applied—evidence that the device conforms to the approved type and<br>a copy of the technical documentation required under subclause 2.3(3) of the type examination<br>procedures for the approved type;    (h) for a kind of device to which the declaration of conformity<br>(not requiring assessment by Secretary) procedures have been applied—a copy of the technical<br>documentation prepared under clause 6.4 of those procedures for that kind of device;    (i) an<br>undertaking by the manufacturer to notify the Secretary, or the person in relation to whom the kind<br>of device is included in the Register, of any information of the kind mentioned in subparagraph<br>4.4(3)(c)(i) or (ii) that the manufacturer becomes aware of in relation to the kind of medical<br>device.",
           "audit inspection"
          ],
          [
           "Personnel matters, premises, equipment, documentation, production, quality control, distribution of<br>the medicinal products, arrangements for dealing with complaints and recalls, and self inspection,<br>should be examined at intervals following a pre-arranged programme in order to verify their<br>conformity with the principles of Quality Assurance.",
           "audit inspection"
          ],
          [
           "Self Inspection and Quality Audits […] Self Inspection Items […]  Written procedure should be<br>established for self-inspection. Sole Paragraph. The procedure may include questionnaires on GMP<br>requirements covering at least the following aspects: I – Personnel; II – Facilities, including<br>locker rooms; III – Maintenance of buildings and equipment; IV – Storage of raw materials, packaging<br>materials, intermediate products and finished products; V – Equipments; VI – Production and in<br>process controls; VII – Quality control; VIII – Documentation; IX – Sanitation and hygiene; X –<br>Software validation and revalidation; XI – Calibration of instruments or measurement systems; XII –<br>Recall procedures;  XIII – Claims management;  XIV – Control labels; XV – Results of previous self-<br>inspections and any corrective actions taken; XVI – Computer systems relevant to Good Manufacturing<br>Practices; XVII – Transportation of drugs and intermediates and XVIII – Waste management.",
           "audit inspection"
          ],
          [
           "Quality audits shall be conducted by trained persons, according to audit procedures established,<br>with no direct responsibility for the matters being audited.",
           "audit inspection"
          ],
          [
           "Internal audit […] The organization shall: a) plan, establish, implement and maintain an audit<br>programme(s) including the frequency, methods, responsibilities, planning requirements and<br>reporting, which shall take into consideration the importance of the processes concerned, changes<br>affecting the organization, and the results of previous audits; b) define the audit criteria and<br>scope for each audit; c) select auditors and conduct audits to ensure objectivity and the<br>impartiality of the audit process; d) ensure that the results of the audits are reported to relevant<br>management; e) take appropriate correction and corrective actions without undue delay; f) retain<br>documented information as evidence of the implementation of the audit programme and the audit<br>results. NOTE See ISO 19011 for guidance.",
           "audit inspection"
          ],
          [
           "Quality Control and Quality Assurance […] Supplier Assessment and Approval […]   The on-site quality<br>audit should verify the authenticity of the supplier’s qualification certificates and certificates<br>of analysis, and verify the testing conditions. In order to fully assess the quality assurance<br>system of the suppliers, its personnel and organization , premises, facilities, equipment, materials<br>management, manufacturing process procedures, production management, as well as the equipment,<br>instruments and documentation management, etc., of the quality control laboratories should be<br>checked. An On-site audit report should be prepared.",
           "audit inspection"
          ],
          [
           "A Pharmaceutical Quality System appropriate for the manufacture of medicinal products should ensure<br>that: […] There is a process for self-inspection and/or quality audit, which regularly appraises the<br>effectiveness and applicability of the Pharmaceutical Quality System.",
           "audit inspection"
          ],
          [
           "Internal Audits (Self Inspection) […]  In order to verify compliance with the principles of GMP for<br>APIs, regular internal audits should be performed in accordance with an approved schedule.",
           "audit inspection"
          ],
          [
           "An internal audit is a tool which is designed to monitor the implementation and the status of these<br>cosmetic Good Manufacturing Practices and, if necessary, to propose corrective actions.",
           "audit inspection"
          ],
          [
           "Examination of design of Class 4 IVD medical device, Class 4 in-house IVD medical device, Class AIMD<br>medical device or Class III medical device [...] For the purpose of enabling an examination to be<br>carried out under subclause (4), the manufacturer must have available, in writing, details of any<br>consequential changes to the documentation in relation to the design of the device mentioned in<br>paragraph 1.4(5)(c) of this Schedule. Note: This clause need not be applied to: (a) a Class IIb<br>medical device—see Division 3.2, paragraphs 3.7(1)(a) and (2)(a); or (b) a Class 3 IVD medical<br>device—see Division 3.2, paragraph 3.7A(a); or (c) a Class IIa medical device—see Division 3.2,<br>paragraphs 3.8(1)(a) and (2)(a); or (d) a Class 2 IVD medical device—see Division 3.2, paragraph<br>3.8A(a).",
           "audit inspection"
          ],
          [
           "The system of Quality Assurance should ensure that: […]  Self-inspection is regularly carried out to<br>appraise the  effectiveness and applicability of the Quality Assurance  system, according to the<br>procedures.",
           "audit inspection"
          ],
          [
           "Market surveillance activities […] The Member States shall review and assess the functioning of<br>their market surveillance activities. Such reviews and assessments shall be carried out at least<br>every four years and the results thereof shall be communicated to the other Member States and the<br>Commission. Each Member State shall make a summary of the results accessible to the public by means<br>of the electronic system referred to in Article 100.",
           "audit inspection"
          ],
          [
           "Product quality assurance procedures [...] Information to be given to authorised person. (1) If<br>requested to do so by an authorised person, the manufacturer of a medical device must:   (a) give to<br>the Secretary any of the following information in relation to the quality management system or the<br>kinds of medical device to which the system is applied:      (i) a copy of the documentation<br>mentioned in subclause 5.4(5) of this Schedule;      (ii) the quality records in relation to the<br>final inspection and testing of the kinds of medical device to which the system is applied (for<br>example, inspection reports, test data, calibration data, information about the qualifications of<br>staff); and   (b) arrange for tests specified by the authorised person to be carried out for the<br>purpose of checking whether the quality management system is operating effectively. (2) If any<br>inspections or tests are carried out by an authorised person in relation to the manufacturer’s<br>premises, or medical devices manufactured by the manufacturer, the manufacturer may ask the<br>authorised person to give to the manufacturer a report stating the findings of the inspections or<br>tests.",
           "audit inspection"
          ],
          [
           "Implementation and assessment of product quality management system […] For the purpose of enabling<br>the assessment to be carried out, the manufacturer must have available, in writing, the following<br>information and undertakings: (a) the name and business address of the manufacturer; (b) details of<br>each manufacturing site where the system is to be applied; (c) all relevant information about the<br>kinds of medical devices to which the system is to be applied; (d) the documentation in relation to<br>the system; (e) an undertaking by the manufacturer to continue to comply with the requirements of<br>the system after assessment; (f) an undertaking by the manufacturer to ensure that the system is at<br>all times adequate and efficacious; (g) for a kind of device in relation to which the type<br>examination procedures have been applied—evidence that the device conforms to the approved type and<br>the technical documentation required under subclause 2.3(3) of the type examination procedures for<br>the device; (h) for a kind of device to which the declaration of conformity (not requiring<br>assessment by Secretary) procedures have been applied—a copy of the technical documentation prepared<br>under clause 6.4 of those procedures for that kind of device; (i) an undertaking by the manufacturer<br>to notify the Secretary, or the person in relation to whom the kind of device is included in the<br>Register, of any information of the kind mentioned in subparagraph 5.4(3)(c)(i) or (ii) that the<br>manufacturer becomes aware of in relation to the kind of medical device",
           "audit inspection"
          ],
          [
           "Self Inspections […]  All self inspections should be recorded. Reports should be prepared at the<br>completion of self-inspections, and all the observations made during the inspections, conclusions of<br>evaluation, and proposals for corrective and preventative actions should at least be included. Self<br>inspection status should be reported to the senior management of the manufacturer.",
           "audit inspection"
          ],
          [
           "Self Inspections […] Principle […]  Self inspections should be organized periodically by the quality<br>management department to monitor the implementation of the Provisions, evaluate whether the<br>manufacturer is in compliance with them, and to propose necessary corrective and preventive actions.",
           "audit inspection"
          ],
          [
           "Examination of type […] The manufacturer must make available to the Secretary or the Australian<br>conformity assessment body for examination: (a) a sample of the type; and (b) on request from the<br>Secretary, additional samples of the type.",
           "audit inspection"
          ],
          [
           "Self Inspection […]  Self inspections should be conducted in an independent and detailed way by<br>designated competent person(s) from the company. Independent audits by external experts may also be<br>useful.",
           "audit inspection"
          ],
          [
           "Potential Applications for Quality Risk Management […] Auditing/Inspection. To define the frequency<br>and scope of audits, both internal and external, taking into account factors such as: • Existing<br>legal requirements; • Overall compliance status and history of the company or facility; • Robustness<br>of a company’s quality risk management activities; • Complexity of the site; • Complexity of the<br>manufacturing process; • Complexity of the product and its therapeutic significance; • Number and<br>significance of quality defects (e.g., recall); • Results of previous audits/inspections; • Major<br>changes of building, equipment, processes, key personnel; • Experience with manufacturing of a<br>product (e.g., frequency, volume, number of batches); • Test results of official control<br>laboratories.",
           "audit inspection"
          ],
          [
           "Self-inspections […] The manufacturer, etc. shall have the person designated beforehand conduct the<br>following duties in accordance with the documented procedure, etc. (1) To conduct the self-<br>inspections periodically on the manufacturing control and quality control of the products in their<br>manufacturing site, (2) To report in writing the results of the self-inspections to the<br>manufacturing manager, and (3) To establish and maintain records of results of the self-inspections.",
           "audit inspection"
          ],
          [
           "Self inspections should be conducted in order to monitor the implementation and compliance with Good<br>Manufacturing Practice principles and to propose necessary corrective measures.",
           "audit inspection"
          ],
          [
           "Key Personnel […] The Technical Responsible must also ensure the implementation of other activities<br>including the following:  I – Implementation and establishment of quality system; II – Development<br>of the company's quality manual; III – Self-inspections; IV – External audits (audits of suppliers)<br>and V – Validation programs.",
           "audit inspection"
          ],
          [
           "Self Inspection and Quality Audits […] Supplier Qualification Audits […]  Before suppliers are<br>included in the list of qualified suppliers, these should be evaluated following previously defined<br>procedure or program. § 1 The assessment should include meeting legal requirements, as well as<br>consider the history and nature of the supplier of materials to be supplied. § 2 When necessary to<br>carry out audits, they must demonstrate the ability of the supplier to meet the standards of GMP.",
           "audit inspection"
          ],
          [
           "Examination of type […] If the type is intended by the manufacturer to be connected to another<br>medical device, the manufacturer must, on request from the Secretary or the Australian conformity<br>assessment body, make available to the Secretary or the Australian conformity assessment body, or<br>arrange for the Secretary or the Australian conformity assessment body to have access to, a sample<br>of the device.",
           "audit inspection"
          ],
          [
           "Self Inspections […]  Self inspections should be conducted in an independent, systematic, and all<br>inclusive way by the designated person(s) of the manufacturer. Independent quality audits by<br>external experts are also acceptable.",
           "audit inspection"
          ],
          [
           "Internal audit […] Approach […]  Specially designated competent personnel should conduct internal<br>audits in an independent and detailed manner, regularly or on demand.",
           "audit inspection"
          ],
          [
           "lnternal audit follow-up should confirm the satisfactory completion or implementation of corrective<br>action.",
           "audit inspection"
          ],
          [
           "Frequency of self-inspection. The frequency with which self-inspections are conducted may depend on<br>company requirements but should preferably be at least once a year. The frequency should be stated<br>in the procedure.",
           "audit inspection"
          ],
          [
           "Self-inspections […] The manufacturer, etc. shall take necessary actions in case where improvements<br>are necessary for correcting the manufacturing control and quality control based on the results of<br>the self-inspections specified in Item (1) of preceding Paragraph 1, and to establish and maintain<br>records of such actions.",
           "audit inspection"
          ],
          [
           "Quality Audit. […] Those responsible for the audited areas shall be notified on non-conformities<br>identified.",
           "audit inspection"
          ],
          [
           "Self Inspection […] Principle […] Self inspections should be conducted in order to monitor the<br>implementation and compliance with Good Manufacturing Practice principles and to propose necessary<br>corrective measures.",
           "audit inspection"
          ],
          [
           "Self inspections should be conducted in an independent and detailed way by designated competent<br>person(s) from the company. Independent audits by external experts may also be useful.",
           "audit inspection"
          ],
          [
           "The manufacturer and, where different, marketing authorisation holder should evaluate the results of<br>the review and an assessment made as to whether corrective and preventive action or any revalidation<br>should be undertaken, under the Pharmaceutical Quality System. There should be management procedures<br>for the ongoing management and review of these actions and the effectiveness of these procedures<br>verified during self-inspection.   Quality reviews may be grouped by product type, e.g. solid dosage<br>forms, liquid dosage forms, sterile products, etc. where scientifically justified.  Where the<br>marketing authorisation holder is not the manufacturer, there should be a technical agreement in<br>place between the various parties that defines their respective responsibilities in producing the<br>product quality review.",
           "audit inspection"
          ],
          [
           "Self Inspection and Quality Audits […] Self Inspection Frequency. The frequency with which self-<br>inspections are conducted must be established in a procedure. Sole Paragraph. The frequency may<br>depend on the characteristics of the company and should be preferably annually.",
           "audit inspection"
          ],
          [
           "Product quality assurance procedures […] The conformity assessment procedures set out in this Part<br>provide for the manufacturer of a kind of medical device: (a) to:    (i) implement a product quality<br>management system for the final inspection and testing of the kind of device; and    (ii) arrange<br>for assessment of the system by the Secretary; and (b) to allow the Secretary to monitor the<br>operation of, and carry out inspections of, the system; and (c) to make a declaration of conformity<br>in relation to the kind of device; and (d) to:    (i) notify the Secretary of any change to the<br>system, or to the kinds of devices to which the system is to be applied; and    (ii) arrange for<br>assessment of any such change by the Secretary; and (e) to establish and keep up-to-date a post-<br>market monitoring, reporting and corrective action system. Note: See Division 3.2 in relation to the<br>kinds of medical devices to which these conformity assessment procedures may be applied.",
           "audit inspection"
          ],
          [
           "Conformity assessment procedures [...] Full quality assurance procedures [...]  (1) If requested to<br>do so by an authorised person, the manufacturer of a kind of medical device must:   (a) give to the<br>Secretary the following information in relation to the quality management system or the kinds of<br>medical device to which the system is applied:      (i) a copy of the documentation mentioned in<br>subclause 1.4(5) of this Schedule;     (ii) data in relation to the design of the kinds of medical<br>device (for example, the results of any analysis of the device, calculations, tests);     (iii) data<br>in relation to the manufacture of the kinds of medical device (for example, inspection reports, test<br>data, calibration data, information about the qualifications of staff); and   (b) arrange for tests<br>specified by the authorised person to be carried out for the purpose of checking whether the quality<br>management system is operating effectively. (2) If any inspections or tests are carried out by an<br>authorised person in relation to the manufacturer’s premises, or medical devices produced by the<br>manufacturer, the manufacturer may ask the authorised person to give to the manufacturer a report<br>stating the findings of the inspections or tests.",
           "audit inspection"
          ],
          [
           "Self-inspection […] Follow-up action. There should be an effective follow-up programme. The company<br>management should evaluate both the self-inspection report and the corrective actions as necessary.",
           "audit inspection"
          ],
          [
           "Verification of conformity [...] For the purpose of enabling the examination and testing to be<br>carried out, the manufacturer must have available, in writing, the following information and<br>undertakings: (a) the name and business address of the manufacturer; (b) the documentation<br>describing the manufacturing process to be used to manufacture the kind of device; (c) a description<br>of the procedures that have been, or will be, implemented to ensure that all devices of that kind<br>manufactured by the manufacturer will be uniform; (d) an undertaking to implement those procedures<br>to ensure that all devices of that kind manufactured by the manufacturer will be uniform; (e) an<br>undertaking by the manufacturer to notify the Secretary, or the person in relation to whom the kind<br>of device is included in the Register, of any information of the kind mentioned in subparagraph<br>3.4(2)(c)(i) or (ii) that the manufacturer becomes aware of in relation to the kind of medical<br>device; (f) for a kind of device in relation to which the type examination procedures have been<br>applied—evidence that the device conforms to the approved type and a copy of the technical<br>documentation required under subclause 2.3(3) of the type examination procedures for the approved<br>type; (g) for a kind of device to which the declaration of conformity (not requiring assessment by<br>Secretary) procedures have been applied—a copy of the technical documentation prepared under clause<br>6.4 of those procedures for that kind of device.",
           "audit inspection"
          ],
          [
           "Self Inspection and Quality Audits […]  The self-inspection must evaluate GMP compliance by the<br>manufacturer in all its aspects. § 1 The self-inspection program should be designed to detect any<br>deviation in the implementation of GMP and to recommend necessary corrective actions. § 2 The self-<br>inspections should be performed routinely and, moreover, can be performed on special occasions, such<br>as in the case of recalls, repeated product rejections or before an inspection to be performed by a<br>health authority. § 3 The staff responsible for self-inspection should be able to assess the<br>implementation of GMP objectively. § 4 All recommendations for corrective actions must be<br>implemented. § 5 The self-inspection procedure must be documented and there should be an effective<br>monitoring program.",
           "audit inspection"
          ],
          [
           "Internal Audits (Self Inspection) […]  Audit findings and corrective actions should be documented<br>and brought to the attention of responsible management of the firm. Agreed corrective actions should<br>be completed in a timely and effective manner.",
           "audit inspection"
          ],
          [
           "Self-inspection report. A report should be made at the completion of a self-inspection. The report<br>should include:  (a) self-inspection results; (b) evaluation and conclusions; (c) recommended<br>corrective actions.",
           "audit inspection"
          ],
          [
           "All self inspections should be recorded. Reports should contain all the observations made during the<br>inspections and, where applicable, proposals for corrective measures. Statements on the actions<br>subsequently taken should also be recorded.",
           "audit inspection"
          ],
          [
           "Production quality assurance procedures [...]  Information to be given to authorised person [...]<br>(1) If requested to do so by an authorised person, the manufacturer of a medical device must:   (a)<br>give to the Secretary the following information in relation to the quality management system or the<br>kinds of medical device to which the system is applied:      (i) a copy of the documentation<br>mentioned in subclause 4.4(5) of this Schedule;      (ii) data in relation to the production of the<br>kinds of medical device (for example, inspection reports, test data, calibration data, information<br>about the qualifications of staff); and   (b) arrange for tests specified by the authorised person<br>to be carried out for the purpose of checking whether the quality management system is operating<br>effectively. (2) If any inspections or tests are carried out by an authorised person under this<br>clause, the manufacturer may ask the authorised person to give to the manufacturer a report stating<br>the findings of the inspections or tests.",
           "audit inspection"
          ],
          [
           "Self Inspections […]  A plan should be available for self inspections, and periodical inspections<br>should be conducted on organization and personnel, premises, facilities, equipment, materials and<br> products, qualification and validation, documentation management, production management, quality<br>control and quality assurance, contract manufacture and analysis, product distribution and recalls,<br>and etc.",
           "audit inspection"
          ],
          [
           "Internal audit […] Approach […]  All observations made during the internal audit should be evaluated<br>and shared with appropriate management.",
           "audit inspection"
          ],
          [
           "Self Inspection […]  Personnel matters, premises, equipment, documentation, production, quality<br>control, distribution of the medicinal products, arrangements for dealing with complaints and<br>recalls, and self inspection, should be examined at intervals following a pre-arranged programme in<br>order to verify their conformity with the principles of Quality Assurance.",
           "audit inspection"
          ],
          [
           "Self Inspection and Quality Audits […] Self Inspection Report. A report should be prepared after the<br>completion of a self-inspection, which should include: I – The self-inspection results; II –<br>Evaluation and conclusions and  III – Recommended corrective actions.",
           "audit inspection"
          ],
          [
           "Verification of conformity [...] The manufacturer must make available to the Secretary or the<br>Australian conformity assessment body for examination and testing: (a) for a kind of device in<br>relation to which the type examination procedures have been applied:    (i) each medical device that<br>is to be verified in relation to the approved type; or    (ii) each medical device selected by the<br>Secretary on a statistical basis from a uniform batch of devices that are to be verified in relation<br>to the approved type; and (b) for a kind of device to which the declaration of conformity (not<br>requiring assessment by Secretary) procedures have been applied:    (i) each medical device of that<br>kind to which those procedures have been applied; or    (ii) each medical device selected by the<br>Secretary on a statistical basis from a uniform batch of devices of that kind to which those<br>procedures have been applied.",
           "audit inspection"
          ],
          [
           "Personnel […] The responsibilities of the responsible person include: […]  ensuring that self-<br>inspections are performed at appropriate regular intervals following a prearranged programme and<br>necessary corrective measures are put in place; […]",
           "audit inspection"
          ],
          [
           "Self-inspection, quality audits and suppliers’ audits and approval […]  Principle. The purpose of<br>self-inspection is to evaluate the manufacturer’s compliance with GMP in all aspects of production<br>and QC. The self-inspection programme should be designed to detect any shortcomings in the<br>implementation of GMP and to recommend the necessary corrective actions. Self-inspections should be<br>performed routinely, and may be, in addition, performed on special occasions, e.g. in the case of<br>product recalls or repeated rejections, or when an inspection by the health authorities is<br>announced. The team responsible for self-inspection should consist of personnel who can evaluate the<br>implementation of GMP objectively. All recommendations for corrective action should be implemented.<br>The procedure for self-inspection should be documented, and there should be an effective follow-up<br>programme.",
           "audit inspection"
          ],
          [
           "Self Inspection […]  All self inspections should be recorded. Reports should contain all the<br>observations made during the inspections and, where applicable, proposals for corrective measures.<br>Statements on the actions subsequently taken should also be recorded.",
           "audit inspection"
          ]
         ],
         "hovertemplate": "Standard mapping?=%{customdata[1]}<br>reduced_x=%{x}<br>reduced_y=%{y}<br>Original Text=%{customdata[0]}<br>Assigned Cluster=%{marker.color}<extra></extra>",
         "legendgroup": "audit inspection",
         "marker": {
          "color": [
           -1,
           3,
           -1,
           -1,
           -1,
           -1,
           -1,
           23,
           -1,
           -1,
           -1,
           23,
           -1,
           3,
           3,
           26,
           25,
           3,
           19,
           -1,
           21,
           25,
           -1,
           -1,
           3,
           19,
           19,
           -1,
           -1,
           -1,
           -1,
           25,
           19,
           -1,
           -1,
           3,
           3,
           -1,
           3,
           -1,
           -1,
           -1,
           26,
           3,
           25,
           19,
           25,
           26,
           3,
           -1,
           -1,
           26
          ],
          "coloraxis": "coloraxis",
          "symbol": "square"
         },
         "mode": "markers",
         "name": "audit inspection",
         "orientation": "v",
         "showlegend": true,
         "type": "scatter",
         "x": [
          -3.6312344074249268,
          13.58581256866455,
          0.33081021904945374,
          1.9017413854599,
          -1.6584570407867432,
          -1.831568956375122,
          -2.2137625217437744,
          -8.74866771697998,
          -0.37368470430374146,
          0.45736464858055115,
          14.848710060119629,
          -10.37250804901123,
          25.41301727294922,
          12.961136817932129,
          13.169620513916016,
          5.514112949371338,
          2.2350618839263916,
          9.130084991455078,
          0.22195883095264435,
          -1.9060596227645874,
          3.7209904193878174,
          1.5699669122695923,
          -5.287237167358398,
          -1.479964017868042,
          9.408385276794434,
          1.0194165706634521,
          -0.4749051630496979,
          2.4354777336120605,
          4.49336051940918,
          4.164554595947266,
          -1.9309122562408447,
          1.6931874752044678,
          0.06566827744245529,
          3.5445523262023926,
          4.367086887359619,
          14.329120635986328,
          12.733583450317383,
          2.7593278884887695,
          12.292152404785156,
          3.2640151977539062,
          1.363267183303833,
          4.396112442016602,
          6.4410529136657715,
          13.358219146728516,
          1.5843629837036133,
          0.1562873125076294,
          0.5226032137870789,
          4.061329364776611,
          11.317334175109863,
          -15.742033004760742,
          3.3242647647857666,
          6.156423568725586
         ],
         "xaxis": "x",
         "y": [
          -4.402984619140625,
          12.005934715270996,
          -4.78892707824707,
          -5.552304744720459,
          3.4665656089782715,
          -0.7399857044219971,
          -4.773681640625,
          -10.449881553649902,
          0.4745017886161804,
          -0.7398112416267395,
          14.233420372009277,
          -12.26857852935791,
          12.18941593170166,
          14.195999145507812,
          11.881062507629395,
          -0.6138947010040283,
          -2.2516093254089355,
          13.543246269226074,
          4.0457987785339355,
          -8.88477897644043,
          -2.7114362716674805,
          -1.2059992551803589,
          -2.8636276721954346,
          -4.103222370147705,
          13.70142650604248,
          4.1250433921813965,
          2.443934440612793,
          2.054419994354248,
          4.720832347869873,
          -2.1934311389923096,
          2.239001512527466,
          -1.3959745168685913,
          4.3345842361450195,
          -8.483048439025879,
          4.597046375274658,
          12.554043769836426,
          13.57435131072998,
          0.456554651260376,
          11.994830131530762,
          -4.735775470733643,
          1.3147776126861572,
          0.7720575332641602,
          0.23665261268615723,
          13.990486145019531,
          -3.376598834991455,
          1.761441707611084,
          -4.535214424133301,
          0.40655791759490967,
          12.318882942199707,
          -6.554864883422852,
          -4.8336615562438965,
          0.11247323453426361
         ],
         "yaxis": "y"
        },
        {
         "customdata": [
          [
           "Complaints, Quality Defects and Product Recalls […] Investigation and Decision-making […] Quality<br>defects should be reported in a timely manner by the manufacturer to the marketing authorisation<br>holder/sponsor and all concerned Competent Authorities in cases where the quality defect may result<br>in the recall of the product or in an abnormal restriction in the supply of the product.",
           "qrb"
          ],
          [
           "Product Distribution and Recalls […] Recalls […]  The effectiveness of the product recall system<br>should be evaluated regularly.",
           "qrb"
          ],
          [
           "When a quality defect investigation is initiated, procedures should be in place to address at least<br>the following: […] The decision-making process that is to be used concerning the potential need for<br>risk-reducing actions to be taken in the distribution network, such as batch or product recalls, or<br>other actions.",
           "qrb"
          ],
          [
           "Product recalls […]  Principle. There should be a system to recall from the market, promptly and<br>effectively, products known or suspected to be defective.",
           "qrb"
          ],
          [
           "Article 72 In the event that any medical device inspection & evaluation institution or any medical<br>device related adverse events monitoring institution fails in performing their duties according to<br>these Regulations and results in serious errors, the Food and Drug Administration Department of the<br>people’s government above the level of county shall instruct them for corrections, issue notice of<br>criticism and give warning; in case of grave consequence, the person(s) in charge and other persons<br>directly responsible should be demoted, dismissed or expelled.",
           "qrb"
          ],
          [
           "It should also be considered whether the proposed recall action may affect different markets in<br>different ways, and if this is the case, appropriate market- specific risk-reducing actions should<br>be developed and discussed with the concerned Competent Authorities. Taking account of its<br>therapeutic use the risk of shortage of a medicinal product which has no authorised alternative<br>should be considered before deciding on a risk-reducing action such as a recall. Any decisions not<br>to execute a risk-reducing action which would otherwise be required should be agreed with the<br>Competent Authority in advance.",
           "qrb"
          ],
          [
           "The progress of the recall process should be recorded until closure and a final report issued,<br>including a reconciliation between the delivered and recovered quantities of the concerned<br>products/batches.",
           "qrb"
          ],
          [
           "Complaints, Quality Defects and Product Recalls […] Personnel and Organisation […] The use of inter-<br>disciplinary teams should be considered, including appropriately trained Quality Management<br>personnel.",
           "qrb"
          ],
          [
           "The sponsor should:  (a) Take steps to ensure that the investigational product(s) are stable over<br>the period of use. (b) Maintain sufficient quantities of the investigational product(s) used in the<br>trials to reconfirm specifications, should this become necessary, and maintain records of batch<br>sample analyses and characteristics. To the extent stability permits, samples should be retained<br>either until the analyses of the trial data are complete or as required by the applicable regulatory<br>requirement(s), whichever represents the longer retention period.",
           "qrb"
          ],
          [
           "Health hazard evaluation and recall classification  (a) An evaluation of the health hazard presented<br>by a product being recalled or considered for recall will be conducted by an ad hoc committee of<br>Food and Drug Administration scientists and will take into account, but need not be limited to, the<br>following factors:   (1) Whether any disease or injuries have already occurred from the use of the<br>product.   (2) Whether any existing conditions could contribute to a clinical situation that could<br>expose humans or animals to a health hazard. Any conclusion shall be supported as completely as<br>possible by scientific documentation and/or statements that the conclusion is the opinion of the<br>individual(s) making the health hazard determination.   (3) Assessment of hazard to various segments<br>of the population, e.g., children, surgical patients, pets, livestock, etc., who are expected to be<br>exposed to the product being considered, with particular attention paid to the hazard to those<br>individuals who may be at greatest risk.   (4) Assessment of the degree of seriousness of the health<br>hazard to which the populations at risk would be exposed.   (5) Assessment of the likelihood of<br>occurrence of the hazard.   (6) Assessment of the consequences (immediate or long-range) of<br>occurrence of the hazard. (b) On the basis of this determination, the Food and Drug Administration<br>will assign the recall a classification, i.e., Class I, Class II, or Class III, to indicate the<br>relative degree of health hazard of the product being recalled or considered for recall.",
           "qrb"
          ],
          [
           "Production […]  Where adverse donor (human or animal) health information becomes available after<br>procurement and/or processing, and this information relates to product quality, then appropriate<br>measures should be taken – including product recall, if applicable.",
           "qrb"
          ],
          [
           "Complaints and recalls […] Principle […]  When a product recall decision is made, appropriate steps<br>should be taken to complete the recall within the scope of these guidelines and to implement<br>corrective action.",
           "qrb"
          ],
          [
           "Product recalls […]  The authorized person should be responsible for the execution and coordination<br>of recalls. He or she should have sufficient staff to handle all aspects of the recalls with the<br>appropriate degree of urgency.",
           "qrb"
          ],
          [
           "Complaints, Quality Defects and Product Recalls […] Personnel and Organisation […] Appropriately<br>trained and experienced personnel should be responsible for managing complaint and quality defect<br>investigations and for deciding the measures to be taken to manage any potential risk(s) presented<br>by those issues, including recalls. These persons should be independent of the sales and marketing<br>organisation, unless otherwise justified. If these persons do not include the Qualified Person<br>involved in the certification for release of the concerned batch or batches, the latter should be<br>made formally aware of any investigations, any risk-reducing actions and any recall operations, in a<br>timely manner.",
           "qrb"
          ],
          [
           "Medicinal product recalls. The effectiveness of the arrangements for product recall should be<br>evaluated regularly (at least annually). Recall operations should be capable of being initiated<br>promptly and at any time. The distributor must follow the instructions of a recall message, which<br>should be approved, if required, by the competent authorities. Any recall operation should be<br>recorded at the time it is carried out. Records should be made readily available to the competent<br>authorities. The distribution records should be readily accessible to the person(s) responsible for<br>the recall, and should contain sufficient information on distributors and directly supplied<br>customers (with addresses, phone and/or fax numbers inside and outside working hours, batch numbers<br>at least for medicinal products bearing safety features as required by legislation and quantities<br>delivered), including those for exported products and medicinal product samples. The progress of the<br>recall process should be recorded for a final report.",
           "qrb"
          ],
          [
           "Definitions [...] Stock recovery means a firm's removal or correction of a product that has not been<br>marketed or that has not left the direct control of the firm, i.e., the product is located on<br>premises owned by, or under the control of, the firm and no portion of the lot has been released for<br>sale or use.",
           "qrb"
          ],
          [
           "Complaints, Quality Defects and Product Recalls […] Product Recalls and other potential risk-<br>reducing actions […] The effectiveness of the arrangements in place for recalls should be<br>periodically evaluated to confirm that they remain robust and fit for use. Such evaluations should<br>extend to both within office-hour situations as well as out-of-office hour situations and, when<br>performing such evaluations, consideration should be given as to whether mock-recall actions should<br>be performed. This evaluation should be documented and justified.",
           "qrb"
          ],
          [
           "Complaints, Quality Defects and Product Recalls […] Product Recalls and other potential risk-<br>reducing actions […] In the case of investigational medicinal products, all trial sites should be<br>identified and the countries of destination should be indicated. In the case of an investigational<br>medicinal product for which a marketing authorisation has been issued, the manufacturer of the<br>investigational medicinal product should, in cooperation with the sponsor, inform the marketing<br>authorisation holder of any quality defect that could be related to the authorised medicinal<br>product. The sponsor should implement a procedure for the rapid unblinding of blinded products,<br>where this is necessary for a prompt recall. The sponsor should ensure that the procedure discloses<br>the identity of the blinded product only in so far as is necessary.",
           "qrb"
          ],
          [
           "Product recalls […]  The appropriate authorities should be notified of recalls which could have an<br>impact upon consumer safety.",
           "qrb"
          ],
          [
           "Recall strategy [...] General [...]  A recall strategy that takes into account the following factors<br>will be developed by the agency for a Food and Drug Administration-requested recall and by the<br>recalling firm for a firm-initiated recall to suit the individual circumstances of the particular<br>recall: (i) Results of health hazard evaluation. (ii) Ease in identifying the product. (iii) Degree<br>to which the product's deficiency is obvious to the consumer or user. (iv) Degree to which the<br>product remains unused in the market-place. (v) Continued availability of essential products.",
           "qrb"
          ],
          [
           "Product recalls […]  There should be established written procedures, which are regularly reviewed<br>and updated, for the organization of any recall activity. Recall operations should be capable of<br>being initiated promptly down to the required level in the distribution chain.",
           "qrb"
          ],
          [
           "Product Recall […] The records of batch distribution should be readily available and should contain<br>sufficient information on distributors and direct customers, including products exported, samples<br>for clinical trials and medical samples, in order to allow an effective recall.",
           "qrb"
          ],
          [
           "Product recalls […]  Recalled products should be identified and stored separately in a secure area<br>while awaiting a decision.",
           "qrb"
          ],
          [
           "The effectiveness of the arrangements in place for recalls should be periodically evaluated to<br>confirm that they remain robust and fit for use. Such evaluations should extend to both within<br>office-hour situations as well as out-of-office hour situations and, when performing such<br>evaluations, consideration should be given as to whether mock-recall actions should be performed.<br>This evaluation should be documented and justified.",
           "qrb"
          ],
          [
           "Complaints, Quality Defects and Product Recalls […] Procedures for handling and investigating<br>complaints including possible quality defects […] When a quality defect investigation is initiated,<br>procedures should be in place to address at least the following: […] The assessment of the impact<br>that any recall action may have on the availability of the medicinal product to patients/animals in<br>any affected market, and the need to notify the relevant authorities of such impact.",
           "qrb"
          ],
          [
           "Complaints, Quality Defects and Product Recalls […] Investigation and Decision-making […] The<br>decisions that are made during and following quality defect investigations should reflect the level<br>of risk that is presented by the quality defect as well as the seriousness of any non-compliance<br>with respect to the requirements of the marketing authorisation/product specification file or GMP.<br>Such decisions should be timely to ensure that patient and animal safety is maintained, in a way<br>that is commensurate with the level of risk that is presented by those issues.",
           "qrb"
          ],
          [
           "Product Recall […] Procedures should be established for the organization of any recall activity.<br>Sole Paragraph. The company should be able to start any recall immediately throughout the<br>distribution chain.",
           "qrb"
          ],
          [
           "Corrective and preventive actions. […]  Each manufacturer shall establish and maintain procedures<br>to: Determine product recalls and other field actions that are relevant for products already<br>distributed.",
           "qrb"
          ],
          [
           "Product recalls […]  An instruction should be included in the written procedures to store recalled<br>products in a secure segregated area while their fate is decided.",
           "qrb"
          ],
          [
           "Product Recall […] A system that withdraw immediately and effectively products that have quality<br>deviations or that are under suspicion from the market, according to specific health legislation in<br>force.",
           "qrb"
          ],
          [
           "There should be established written procedures, regularly reviewed and updated when necessary, in<br>order to undertake any recall activity or implement any other risk-reducing actions.",
           "qrb"
          ],
          [
           "Product Recall […] All relevant health authorities in countries to which the product has been sent,<br>shall be promptly informed of any intention of collecting product that bears or is suspected of<br>quality deviation.",
           "qrb"
          ],
          [
           "In the case of investigational medicinal products, all trial sites should be identified and the<br>countries of destination should be indicated. In the case of an investigational medicinal product<br>for which a marketing authorisation has been issued, the manufacturer of the investigational<br>medicinal product should, in cooperation with the sponsor, inform the marketing authorisation holder<br>of any quality defect that could be related to the authorised medicinal product. The sponsor should<br>implement a procedure for the rapid unblinding of blinded products, where this is necessary for a<br>prompt recall. The sponsor should ensure that the procedure discloses the identity of the blinded<br>product only in so far as is necessary.",
           "qrb"
          ],
          [
           "Complaints, Quality Defects and Product Recalls […] Product Recalls and other potential risk-<br>reducing actions […] Recall operations should be capable of being initiated promptly and at any<br>time. In certain cases recall operations may need to be initiated to protect public or animal health<br>prior to establishing the root cause(s) and full extent of the quality defect",
           "qrb"
          ],
          [
           "Product recalls […]  Product recall operations should be capable of being initiated promptly and in<br>a timely manner.",
           "qrb"
          ],
          [
           "Product recalls […]  The product recall process should be periodically evaluated.",
           "qrb"
          ],
          [
           "Complaints, Quality Defects and Product Recalls […] Product Recalls and other potential risk-<br>reducing actions […] The progress of the recall process should be recorded until closure and a final<br>report issued, including a reconciliation between the delivered and recovered quantities of the<br>concerned products/batches.",
           "qrb"
          ],
          [
           "Complaints, Quality Defects and Product Recalls […] Product Recalls and other potential risk-<br>reducing actions […] It should also be considered whether the proposed recall action may affect<br>different markets in different ways, and if this is the case, appropriate market-specific risk-<br>reducing actions should be developed and discussed with the concerned competent authorities. Taking<br>account of its therapeutic use the risk of shortage of a medicinal product which has no authorised<br>alternative should be considered before deciding on a risk-reducing action such as a recall. Any<br>decisions not to execute a risk-reducing action which would otherwise be required should be agreed<br>with the competent authority in advance.",
           "qrb"
          ],
          [
           "Product Recall […] The progress of the recall process must be monitored and recorded. §1 The records<br>shall include the product disposal. §2 A final report must be issued including a reconciliation<br>between the product amounts collected and distributed, according to the current health regulation.",
           "qrb"
          ],
          [
           "Article 66 In any of the following circumstances, the Food and Drug Administration Department of the<br>people's government above the level of county should instruct the applicant to make correction and<br>confiscate their medical devices illegally manufactured, operated or used; in case the value of the<br>medical device illegally manufactured, operated or used is less than RMB 10,000, a penalty above RMB<br>20,000 but less than RMB 50,000 should be imposed additionally; in case that the value of goods is<br>more than RMB 10,000, a penalty more than 5 times but less than 10 times of the value of the goods<br>should be imposed additionally; in case of gross violation, the medical device manufacturing and<br>operating enterprises should be instructed to suspend production or business until the Medical<br>Device Registration Certificate, the Medical Device Manufacturing Permit and the Medical Device<br>Operation Permit are revoked by the original issuing authority: (a) Manufacture, operate and use any<br>medical devices that do not comply with the compulsory standard, or does not comply with technical<br>requirements already submitted for registration or notification; (b) The medical device<br>manufacturing enterprise fails to organize production according to the technical requirements<br>submitted for registration or notification, or fails in establishing the Quality Assurance System<br>and keeping it in effective operation according to the provisions of these Regulations; (c) Operate<br>and use the medical device without conformity certificate, or is expired, invalid and obsolete, or<br>use any medical device that have not been lawfully registered; (d) Refuse to recall or suspend<br>operation even after the Food and Drug Administration Department instructs them to implement recall<br>or suspend operation according to the provisions of these Regulations; (e) Entrust any enterprises<br>that do not meet the requirements of these Regulations to manufacture any medical device, or fail in<br>managing the manufacturing behaviors of the entrusted party.",
           "qrb"
          ],
          [
           "In addition to recalls, there are other potential risk-reducing actions that may be considered in<br>order to manage the risks presented by quality defects. Such actions may include the issuance of<br>cautionary communications to healthcare professionals in relation to their use of a batch that is<br>potentially defective. These should be considered on a case-by-case basis and discussed with the<br>concerned Competent Authorities.",
           "qrb"
          ],
          [
           "Complaints, Quality Defects and Product Recalls […] Procedures for handling and investigating<br>complaints including possible quality defects […] When a quality defect investigation is initiated,<br>procedures should be in place to address at least the following: […] The decision-making process<br>that is to be used concerning the potential need for risk-reducing actions to be taken in the<br>distribution network, such as batch or product recalls, or other actions.",
           "qrb"
          ],
          [
           "Product recalls […]  The authorized personnel should coordinate the recall process.",
           "qrb"
          ],
          [
           "Complaints, Quality Defects and Product Recalls […] Product Recalls and other potential risk-<br>reducing actions […] Recalled products should be identified and stored separately in a secure area<br>while awaiting a decision on their fate. A formal disposition of all recalled batches should be made<br>and documented. The rationale for any decision to rework recalled products should be documented and<br>discussed with the relevant competent authority. The extent of shelf-life remaining for any reworked<br>batches that are being considered for placement onto the market should also be considered.",
           "qrb"
          ],
          [
           "Recalled products should be identified and stored separately in a secure area while awaiting a<br>decision on their fate. A formal disposition of all recalled batches should be made and documented.<br>The rationale for any decision to rework recalled products should be documented and discussed with<br>the relevant Competent Authority. The extent of shelf-life remaining for any reworked batches that<br>are being considered for placement onto the market should also be considered.",
           "qrb"
          ],
          [
           "The batch/product distribution records should be readily available to the persons responsible for<br>recalls, and should contain sufficient information on wholesalers and directly supplied customers<br>(with addresses, phone and/or fax numbers inside and outside working hours, batches and amounts<br>delivered), including those for exported products and medical samples.",
           "qrb"
          ],
          [
           "Product Recall […] There must be a written procedure that describes the storage of recalled products<br>collected in a separate and secure area, while deciding on their destination.",
           "qrb"
          ],
          [
           "All concerned Competent Authorities should be informed in advance in cases where products are<br>intended to be recalled. For very serious issues (i.e. those with the potential to seriously impact<br>upon patient or animal health), rapid risk- reducing actions (such as a product recall) may have to<br>be taken in advance of notifying the Competent Authorities. Wherever possible, attempts should be<br>made to agree these in advance of their execution with the concerned Competent Authorities",
           "qrb"
          ],
          [
           "The sponsor should: (a) Ensure timely delivery of investigational product(s) to the investigator(s).<br>(b) Maintain records that document shipment, receipt, disposition, return, and destruction of the<br>investigational product(s) (see 8. Essential Documents for the Conduct of a Clinical Trial). (c)<br>Maintain a system for retrieving investigational products and documenting this retrieval (e.g., for<br>deficient product recall, reclaim after trial completion, expired product reclaim). (d) Maintain a<br>system for the disposition of unused investigational product(s) and for the documentation of this<br>disposition.",
           "qrb"
          ],
          [
           "Complaints, Quality Defects and Product Recalls […] Product Recalls and other potential risk-<br>reducing actions […] After a product has been placed on the market, any retrieval of it from the<br>distribution network as a result of a quality defect should be regarded and managed as a recall.<br>(This provision does not apply to the retrieval (or return) of samples of the product from the<br>distribution network to facilitate an investigation into a quality defect issue/report.)",
           "qrb"
          ],
          [
           "Product Recall […] The effectiveness of the recall measures must be tested and evaluated<br>periodically.",
           "qrb"
          ],
          [
           "Recall operations should be capable of being initiated promptly and at any time. In certain cases<br>recall operations may need to be initiated to protect public or animal health prior to establishing<br>the root cause(s) and full extent of the quality defect",
           "qrb"
          ],
          [
           "After a product has been placed on the market, any retrieval of it from the distribution network as<br>a result of a quality defect should be regarded and managed as a recall. (This provision does not<br>apply to the retrieval (or return) of samples of the product from the distribution network to<br>facilitate an investigation into a quality defect issue/report.)",
           "qrb"
          ],
          [
           "Product recalls […]  All competent authorities of all countries to which a given product has been<br>distributed should be promptly informed of any intention to recall the product because it is, or is<br>suspected of being, defective.",
           "qrb"
          ],
          [
           "Consideration should be given following consultation with the concerned Competent Authorities, as to<br>how far into the distribution network a recall action should extend, taking into account the<br>potential risk to public or animal health and any impact that the proposed recall action may have.<br>The Competent Authorities should also be informed in situations in which no recall action is being<br>proposed for a defective batch because the batch has expired (such as with short shelf-life<br>products.)",
           "qrb"
          ],
          [
           "Complaints, Quality Defects and Product Recalls […] Product Recalls and other potential risk-<br>reducing actions […] The batch/product distribution records should be readily available to the<br>persons responsible for recalls, and should contain sufficient information on wholesalers and<br>directly supplied customers (with addresses, phone and/or fax numbers inside and outside working<br>hours, batches and amounts delivered), including those for exported products and medical samples.",
           "qrb"
          ],
          [
           "Product recalls […]  The progress of the recall process should be monitored and recorded. Records<br>should include the disposition of the product. A final report should be issued, including a<br>reconciliation between the delivered and recovered quantities of the products.",
           "qrb"
          ],
          [
           "Definitions [...] Stock recovery means the correction or removal of a device that has not been<br>marketed or that has not left the direct control of the manufacturer, i.e., the device is located on<br>the premises owned, or under the control of, the manufacturer, and no portion of the lot, model,<br>code, or other relevant unit involved in the corrective or removal action has been released for sale<br>or use.",
           "qrb"
          ],
          [
           "Product recalls […]  The effectiveness of the arrangements for recalls should be tested and<br>evaluated from time to time.",
           "qrb"
          ]
         ],
         "hovertemplate": "Standard mapping?=%{customdata[1]}<br>reduced_x=%{x}<br>reduced_y=%{y}<br>Original Text=%{customdata[0]}<br>Assigned Cluster=%{marker.color}<extra></extra>",
         "legendgroup": "qrb",
         "marker": {
          "color": [
           13,
           16,
           -1,
           16,
           -1,
           -1,
           13,
           -1,
           -1,
           -1,
           -1,
           13,
           -1,
           13,
           -1,
           -1,
           -1,
           -1,
           14,
           -1,
           15,
           13,
           12,
           -1,
           13,
           13,
           -1,
           -1,
           12,
           -1,
           -1,
           -1,
           -1,
           13,
           15,
           16,
           13,
           -1,
           13,
           -1,
           -1,
           13,
           14,
           13,
           -1,
           13,
           12,
           -1,
           -1,
           13,
           16,
           -1,
           -1,
           14,
           -1,
           13,
           13,
           -1,
           16
          ],
          "coloraxis": "coloraxis",
          "symbol": "x"
         },
         "mode": "markers",
         "name": "qrb",
         "orientation": "v",
         "showlegend": true,
         "type": "scatter",
         "x": [
          14.595599174499512,
          14.901276588439941,
          13.067517280578613,
          15.43689250946045,
          11.697529792785645,
          21.985897064208984,
          17.03278923034668,
          10.929301261901855,
          13.633378982543945,
          21.50275993347168,
          15.787496566772461,
          13.971063613891602,
          12.20195198059082,
          12.253081321716309,
          13.540928840637207,
          24.76255989074707,
          8.526005744934082,
          15.702770233154297,
          14.748929977416992,
          21.071945190429688,
          11.91512680053711,
          14.1801176071167,
          18.963953018188477,
          8.290754318237305,
          13.828843116760254,
          14.654545783996582,
          12.661584854125977,
          12.834609985351562,
          18.729167938232422,
          16.58006477355957,
          10.914770126342773,
          16.062068939208984,
          15.699268341064453,
          17.582256317138672,
          14.001442909240723,
          13.933662414550781,
          15.97068977355957,
          21.706438064575195,
          16.385488510131836,
          11.707561492919922,
          20.222824096679688,
          13.304061889648438,
          13.054896354675293,
          18.62515640258789,
          18.827157974243164,
          13.397504806518555,
          19.260854721069336,
          20.116836547851562,
          13.798335075378418,
          16.247892379760742,
          14.958951950073242,
          17.88964080810547,
          16.741165161132812,
          15.652705192565918,
          20.599952697753906,
          13.694925308227539,
          16.255125045776367,
          24.770692825317383,
          14.55127239227295
         ],
         "xaxis": "x",
         "y": [
          -8.597699165344238,
          -17.60997200012207,
          -10.444595336914062,
          -15.864115715026855,
          6.349306106567383,
          -9.491101264953613,
          -6.177818775177002,
          -9.0208740234375,
          0.9168847799301147,
          -6.199826240539551,
          -11.044487953186035,
          -12.562921524047852,
          -16.314970016479492,
          -8.560256958007812,
          -4.6448211669921875,
          -15.453773498535156,
          -10.226868629455566,
          -1.8476665019989014,
          -14.81823444366455,
          -6.738645076751709,
          -14.238466262817383,
          -5.990368366241455,
          -16.39998435974121,
          -10.292635917663574,
          -8.955687522888184,
          -9.73299503326416,
          -14.599896430969238,
          -12.554617881774902,
          -16.823806762695312,
          -15.395113945007324,
          -14.160512924194336,
          -13.673829078674316,
          -1.6988234519958496,
          -11.71977710723877,
          -15.677472114562988,
          -18.701889038085938,
          -7.263881206512451,
          -9.32091236114502,
          -5.2154669761657715,
          6.545613765716553,
          -9.700387001037598,
          -9.598785400390625,
          -16.613922119140625,
          -8.343644142150879,
          -8.241676330566406,
          -6.1041340827941895,
          -17.240339279174805,
          -11.673890113830566,
          1.0165348052978516,
          -9.101874351501465,
          -18.643842697143555,
          -12.16390609741211,
          -9.286730766296387,
          -13.824462890625,
          -11.18486499786377,
          -6.820867538452148,
          -5.979776382446289,
          -15.440145492553711,
          -18.108478546142578
         ],
         "yaxis": "y"
        },
        {
         "customdata": [
          [
           "Personnel […] The establishment and the maintenance of a quality assurance system and manufacturing<br>of drugs depend on people who perform them. § 1 There must be sufficient qualified personnel to<br>perform all activities for which the manufacturer is responsible. § 2 All individual<br>responsibilities must be established in documents formally approved and must be clearly understood<br>by all involved.",
           "training"
          ],
          [
           "Documentation […]  Records should be made or completed when any action is taken and in such a way<br>that all significant activities concerning the manufacture of pharmaceutical products are traceable.<br>Records should be retained for at least one year after the expiry date of the finished product.",
           "training"
          ],
          [
           "Training. The manufacturer, etc. shall have the person designated beforehand conduct the following<br>duties in accordance with the documented procedure, etc. (1) To implement as planned the training<br>necessary for conducting the manufacturing control and quality control for the personnel engaged in<br>the manufacturing and quality control duties of the products, (2) To report in writing the progress<br>of the training to the manufacturing manager, and (3) To establish and maintain records of the<br>implementation of the training.",
           "training"
          ],
          [
           "Key Personnel […] The heads of Production, Quality Control and where relevant, Head of Quality<br>Assurance or Head of Quality Unit, generally have some shared, or jointly exercised,<br>responsibilities  […]. These may include, subject to any national regulations […]:  Training;",
           "training"
          ],
          [
           "Training […] Personnel should receive initial and continuing training relevant to their role, based<br>on written procedures and in accordance with a written training programme. The responsible person<br>should also maintain their competence in GDP through regular training.",
           "training"
          ],
          [
           "Personnel […] Training […]  Training and skills Personnel involved in production, control, storage<br>and shipment should have skills based on relevant training and experience acquired, or any<br>combination thereof, that are appropriate to their responsibilities and activities.",
           "training"
          ],
          [
           "Personnel […] Organization […] Number of people The company should have an adequate number of<br>properly trained personnel with regards to the defined activities in these guidelines.",
           "training"
          ],
          [
           "Quality Control and Quality Assurance […] Management of Quality Control Laboratories […]  The head<br>of quality control should have appropriate qualifications and experience in managing laboratories<br>and can manage one or more control laboratories within the same manufacturer.",
           "training"
          ],
          [
           "Personnel […] Training […]  The manufacturer should provide training for all the personnel whose<br>duties take them into production and storage areas or into control laboratories (including the<br>technical, maintenance and cleaning personnel), and for other personnel whose activities could<br>affect the quality of the product.",
           "training"
          ],
          [
           "Monitoring and measuring resources […] The organization shall determine and provide the resources<br>needed to ensure valid and reliable results when monitoring or measuring is used to verify the<br>conformity of products and services to requirements. The organization shall ensure that the<br>resources provided: a) are suitable for the specific type of monitoring and measurement activities<br>being undertaken; b) are maintained to ensure their continuing fitness for their purpose. The<br>organization shall retain appropriate documented information as evidence of fitness for purpose of<br>the monitoring and measurement resources.",
           "training"
          ],
          [
           "The basic requirements of GMP are that: […] Procedures are carried out correctly and operators are<br>trained to do so;",
           "training"
          ],
          [
           "Key personnel responsible for supervising the production and quality unit(s) for pharmaceutical<br>products should possess the qualifications of a scientific education and practical experience<br>required by national legislation. Their education should include the study of an appropriate<br>combination of: (a) chemistry (analytical or organic) or biochemistry; (b) chemical engineering; (c)<br>microbiology; (d) pharmaceutical sciences and technology; (e) pharmacology and toxicology;  (f)<br>physiology; (g) other related sciences. They should also have adequate practical experience in the<br>manufacture and QA of pharmaceutical products. In order to gain such experience, a preparatory<br>period may be required, during which they should perform their duties under professional guidance.<br>The scientific education and practical experience of experts should be such as to enable them to<br>exercise independent professional judgement, based on the application of scientific principles and<br>understanding to the practical problems encountered in the manufacture and QC of pharmaceutical<br>products.",
           "training"
          ],
          [
           "Training […]  Training should be provided for all personnel in production and quality activities.<br>The content of the training should be appropriate to the responsibilities assigned to them. Besides<br>the training on the theory and practice of the Provisions, there should be training on relevant laws<br>and regulations, and job related responsibilities and skills. The practical effectiveness of the<br>training should be periodically assessed.",
           "training"
          ],
          [
           "Training […] The manufacturer should provide training in accordance with a written programme for all<br>personnel whose duties take them into manufacturing areas or into control laboratories (including<br>the technical, maintenance and cleaning personnel) and for other personnel as required.",
           "training"
          ],
          [
           "Personnel […] The responsibilities of the responsible person include: […]  ensuring that initial and<br>continuous training programmes are implemented and maintained; […]",
           "training"
          ],
          [
           "Selection of clinical personnel. Prior to commencement of the clinical investigation, the sponsor<br>shall a) define, establish and allocate all the roles and responsibilities related to the clinical<br>investigation in one or more written agreements, as defined in 5.9, b) select appropriately<br>qualified principal investigators, as outlined in 5.8 and 9.2, c) select a coordinating<br>investigator, if appropriate, as in the case of a multicentre investigation, d) receive disclosures<br>of conflict of interest from principal investigators and investigators, where required by national<br>regulations, e) ensure the members of the investigation site team and their designated<br>authorization(s) are identified in a log with details, as defined in 6.2, f) designate or appoint<br>one or more monitors, or otherwise assume the responsibilities of the monitor(s), and g) ensure<br>documentation of training, experience and scientific or clinical knowledge for all the relevant<br>parties involved in order to adequately conduct the clinical investigation, including training, on<br>1) the use of the investigational device(s),   2) device accountability procedures (see 6.9),   3)<br>IB,   4) CIP,   5) CRFs and instructions for completion,   6) the written informed consent form and<br>process as well as other written information provided to subjects, and   7) sponsor's written<br>procedures, this International Standard and any applicable regulatory requirements; h) ensure that,<br>in multicentre investigations, all investigators and all other parties involved are given<br>instructions on uniformly assessing and documenting clinical and laboratory findings, i) ensure that<br>any clinical-investigation-related activities of sponsor representative(s) at the investigation<br>site(s) are described in the CIP and the informed consent form, and that these activities occur in<br>such a way that they do not bias the data integrity, NOTE Individuals such as field engineers or<br>sales representatives who will provide technical expertise in the implementation of the clinical<br>investigation, are examples of sponsor representatives. j) consider the need for a DMC and, if<br>appropriate, establish the committee.",
           "training"
          ],
          [
           "Potential Applications for Quality Risk Management […] Training and education. To determine the<br>appropriateness of initial and/or ongoing training sessions based on education, experience and<br>working habits of staff, as well as on a periodic assessment of previous training (e.g., its<br>effectiveness); To identify the training, experience, qualifications and physical abilities that<br>allow personnel to perform an operation reliably and with no adverse impact on the quality of the<br>product.",
           "training"
          ],
          [
           "Personnel […]  The manufacturer should have an adequate number of personnel with the necessary<br>qualifications and practical experience. The responsibilities placed on any one individual should<br>not be so extensive as to present any risk to quality.",
           "training"
          ],
          [
           "Training […] The concept of QA and all the measures which aid its understanding and implementation<br>should be fully discussed during the training sessions.",
           "training"
          ],
          [
           "The basic requirements of Quality Control are that: […]  Adequate facilities, equipment, instruments<br>and trained personnel are resourced, to ensure the related quality control activities are done<br>effectively and reliably.",
           "training"
          ],
          [
           "Key Personnel […] Qualified Person […]  Qualification: The Qualified Person should, at a minimum,<br>possess a college degree in pharmaceutical or relevant specialties (or with an intermediate<br>professional technique certificate or a pharmacist’s license), with at least five years of practical<br>experience in pharmaceutical production and quality management, with work experience in in-process<br>control and quality testing. The Qualified Person should possess necessary theoretical knowledge in<br>relevant specialties, be trained in product release so as to fulfill its responsibilities<br>independently.",
           "training"
          ],
          [
           "Personnel Qualifications […]  The responsibilities of all personnel engaged in the manufacture of<br>intermediates and APIs should be specified in writing.",
           "training"
          ],
          [
           "Personnel […] The manufacturer, etc. shall ensure sufficiently the personnel who have competence for<br>appropriately conducting the manufacturing and quality control duties.",
           "training"
          ],
          [
           "Personnel […]  All personnel should be aware of the principles of GMP that affect them and receive<br>initial and continuing training, including hygiene instruction, relevant to their needs. All<br>personnel should be motivated to support the establishment and maintenance of high quality<br>standards.",
           "training"
          ],
          [
           "Good manufacturing practices for pharmaceutical products […] Under GMP: […] all necessary resources<br>are provided, including: (i) sufficient and appropriately qualified and trained personnel, (ii)<br>adequate premises and space, (iii) suitable equipment and services, (iv) appropriate materials,<br>containers and labels, (v) approved procedures and instructions, (vi) suitable storage and<br>transport, (vii) adequate personnel, laboratories and equipment for in-process controls;",
           "training"
          ],
          [
           "Training […] A record of all training should be kept, and the effectiveness of training should be<br>periodically assessed and documented.",
           "training"
          ],
          [
           "Personnel […] Training […] The pharmaceutical quality system and all the measures capable of<br>improving its understanding and implementation should be fully discussed during the training<br>sessions.",
           "training"
          ],
          [
           "Key Personnel […] The head of production management […]  Qualification: The head of production<br>management should, at a minimum, possess a college degree in pharmaceutical or relevant specialties<br>(or with an intermediate professional technique certificate or a pharmacist’s license), with at<br>least three years of practical experience in pharmaceutical production and quality management, among<br>which at least one year in production management, with necessary training relating to the products<br>being manufactured.",
           "training"
          ],
          [
           "Personnel […]  Training in cleaning and disinfection procedures, hygiene and microbiology should<br>emphasize the risk of microbial and adventitious contamination and the nature of the target<br>microorganisms and growth media routinely used.",
           "training"
          ],
          [
           "Training […] Besides basic training on the theory and practice of GMP, newly recruited personnel<br>should receive training appropriate to the duties assigned to them. Continuing training should also<br>be given, and its practical effectiveness periodically assessed. Approved training programmes should<br>be available. Training records should be kept.",
           "training"
          ],
          [
           "Prevention of Cross-Contamination in Production […] The outcome of the Quality Risk Management<br>process should be the basis for determining the extent of technical and organisational measures<br>required to control risks for cross-contamination. These could include, but are not limited to, the<br>following: […] Organisational Measures […] Supervision of working behaviour to ensure training<br>effectiveness and compliance with the relevant procedural controls.",
           "training"
          ],
          [
           "Personnel (including those concerned with cleaning, maintenance or quality control) employed in<br>areas where biological active substances and products are manufactured and tested should receive<br>training, and periodic retraining, specific to the products manufactured to their work, including<br>any specific security measures to protect product, personnel and the environment.",
           "training"
          ],
          [
           "Organization and Personnel […] Personnel qualifications […]  (a) Each person engaged in the<br>manufacture, processing, packing, or holding of a drug product shall have education, training, and<br>experience, or any combination thereof, to enable that person to perform the assigned functions.<br>Training shall be in the particular operations that the employee performs and in current good<br>manufacturing practice (including the current good manufacturing practice regulations in this<br>chapter and written procedures required by these regulations) as they relate to the employee’s<br>functions. Training in current good manufacturing practice shall be conducted by qualified<br>individuals on a continuing basis and with sufficient frequency to assure that employees remain<br>familiar with CGMP requirements applicable to them.",
           "training"
          ],
          [
           "(b) Personnel. Personnel shall have capabilities commensurate with their assigned functions, a<br>thorough understanding of the manufacturing operations which they perform, the necessary training<br>and experience relating to individual products, and adequate information concerning the application<br>of the pertinent provisions of this subchapter to their respective functions. Personnel shall<br>include such professionally trained persons as are necessary to insure the competent performance of<br>all manufacturing processes.",
           "training"
          ],
          [
           "Good manufacturing practices for pharmaceutical products […] Under GMP: […] procedures are carried<br>out correctly and personnel are trained to do so;",
           "training"
          ],
          [
           "Personnel […] The manufacturer, etc. shall appropriately assign responsible persons who have<br>competence for conducting the manufacturing and quality control duties properly and efficiently<br>(hereinafter simply referred to as \"responsible persons\") according to the organisation, size, type<br>of the duties, etc. of the manufacturing site.",
           "training"
          ],
          [
           "Personnel […] The manufacturer must have an adequate number of staff with the necessary<br>qualifications and experience. Sole Paragraph. The responsibilities assigned to any employee should<br>not be so extensive as to present risks to product quality.",
           "training"
          ],
          [
           "Organization and Personnel […] Personnel qualifications […]  (b) Each person responsible for<br>supervising the manufacture, processing, packing, or holding of a drug product shall have the<br>education, training, and experience, or any combination thereof, to perform assigned functions in<br>such a manner as to provide assurance that the drug product has the safety, identity, strength,<br>quality, and purity that it purports or is represented to possess.",
           "training"
          ],
          [
           "Quality System Requirements […] Personnel. […]  (b) Training. Each manufacturer shall establish<br>procedures for identifying training needs and ensure that all personnel are trained to adequately<br>perform their assigned responsibilities. Training shall be documented. (1) As part of their<br>training, personnel shall be made aware of device defects which may occur from the improper<br>performance of their specific jobs. (2) Personnel who perform verification and validation activities<br>shall be made aware of defects and errors that may be encountered as part of their job functions.",
           "training"
          ],
          [
           "The GMP determine that: […] Employees should be trained to correctly perform the procedures;",
           "training"
          ],
          [
           "Personnel Qualifications […] You must have qualified employees who manufacture, package, label, or<br>hold dietary supplements.",
           "training"
          ],
          [
           "Organization and Personnel […] Personnel qualifications […]  (c) There shall be an adequate number<br>of qualified personnel to perform and supervise the manufacture, processing, packing, or holding of<br>each drug product.",
           "training"
          ],
          [
           "Personnel […] Records […] (a) You must make and keep records required under this subpart B in<br>accordance with subpart P of this part. (b)  You must make and keep the following records: (1)<br>Written procedures for fulfilling the requirements of this subpart B; and  (2) Documentation of<br>training, including the date of the training, the type of training, and the person(s) trained.",
           "training"
          ],
          [
           "Quality System Requirements […] Personnel. […]  (a) General. Each manufacturer shall have sufficient<br>personnel with the necessary education, background, training, and experience to assure that all<br>activities required by this part are correctly performed.",
           "training"
          ],
          [
           "Personnel Qualifications […]  Training should be regularly conducted by qualified individuals and<br>should cover, at a minimum, the particular operations that the employee performs and GMP as it<br>relates to the employee's functions. Records of training should be maintained. Training should be<br>periodically assessed.",
           "training"
          ],
          [
           "Key Personnel […] The head of quality management […]  Qualification: The head of the quality<br>management should, at a minimum, possess a college degree in pharmaceutical or relevant specialties<br>(or with an intermediate professional technique certificate or a pharmacist’s license), with at<br>least five years of practical experience in pharmaceutical production and quality management, among<br>which at least one year in quality management, with necessary training relating to the products<br>being manufactured.",
           "training"
          ],
          [
           "The basic requirements of production and quality control are that: […]  Operators are trained to<br>carry out procedures correctly.",
           "training"
          ],
          [
           "Personnel […] Principle […]  Persons involved in the implementation of the activities described in<br>these guidelines should have appropriate training to produce, control and store products with a<br>defined quality.",
           "training"
          ],
          [
           "Documentation […] The documents must be written, reviewed, approved and distributed only by<br>designated persons.  Sole Paragraph. They must meet all manufacturing steps authorized by the<br>record.",
           "training"
          ],
          [
           "Key Personnel […] The head of production management […]  Main responsibilities:  1) To ensure that<br>products are produced and stored according to approved master manufacturing documents in order to<br>obtain the required quality;  2) To ensure strict implementation of the procedures relating to<br>production operations;  3) To ensure that the batch records of processing and packaging are<br>evaluated and signed by a designated person before they are sent to the quality management<br>department;  4) To ensure that the premises and equipment are maintained and serviced to function in<br>a sound operating state;  5) To ensure that the necessary validations are done;  6) To ensure that<br>required initial and continuing training of personnel in production is carried out and adapted<br>according to need.",
           "training"
          ],
          [
           "Personnel Qualifications […] Each person engaged in manufacturing, packaging, labeling, or holding,<br>or in performing any quality control operations, must have the education, training, or experience to<br>perform the person’s assigned functions.",
           "training"
          ],
          [
           "Training […] All personnel involved in wholesale distribution activities should be trained on the<br>requirements of GDP. They should have the appropriate competence and experience prior to commencing<br>their tasks.",
           "training"
          ],
          [
           "Assessment by Member States […] Member States shall ensure that the assessment is done jointly by an<br>appropriate number of persons who collectively have the necessary qualifications and experience.",
           "training"
          ],
          [
           "Personnel Qualifications […]  There should be an adequate number of personnel qualified by<br>appropriate education, training and/or experience to perform and supervise the manufacture of<br>intermediates and APIs.",
           "training"
          ]
         ],
         "hovertemplate": "Standard mapping?=%{customdata[1]}<br>reduced_x=%{x}<br>reduced_y=%{y}<br>Original Text=%{customdata[0]}<br>Assigned Cluster=%{marker.color}<extra></extra>",
         "legendgroup": "training",
         "marker": {
          "color": [
           20,
           -1,
           21,
           -1,
           20,
           20,
           20,
           -1,
           20,
           -1,
           24,
           -1,
           20,
           20,
           20,
           -1,
           -1,
           20,
           -1,
           -1,
           18,
           -1,
           20,
           -1,
           -1,
           -1,
           -1,
           18,
           -1,
           20,
           -1,
           -1,
           20,
           20,
           -1,
           20,
           20,
           20,
           -1,
           -1,
           -1,
           20,
           -1,
           20,
           20,
           18,
           24,
           20,
           -1,
           -1,
           20,
           20,
           -1,
           20
          ],
          "coloraxis": "coloraxis",
          "symbol": "cross"
         },
         "mode": "markers",
         "name": "training",
         "orientation": "v",
         "showlegend": true,
         "type": "scatter",
         "x": [
          -10.88049030303955,
          -6.102826118469238,
          -8.073296546936035,
          1.8561242818832397,
          -17.516326904296875,
          -15.867020606994629,
          -13.98570728302002,
          -5.530616760253906,
          -15.324214935302734,
          -3.761348009109497,
          -14.295031547546387,
          4.255274772644043,
          -18.510393142700195,
          -15.610559463500977,
          -15.933728218078613,
          15.584196090698242,
          -0.6580663919448853,
          -12.26307487487793,
          -20.503437042236328,
          -12.530436515808105,
          3.6964526176452637,
          -12.912402153015137,
          -11.630973815917969,
          -17.87577247619629,
          -16.497175216674805,
          -20.35556983947754,
          -20.37681007385254,
          3.7162184715270996,
          -18.09223175048828,
          -19.083980560302734,
          -0.10570927709341049,
          -16.654253005981445,
          -12.365679740905762,
          -13.52856159210205,
          -16.197999954223633,
          -10.93156909942627,
          -11.808995246887207,
          -11.885149955749512,
          -14.724844932556152,
          -14.999488830566406,
          -11.009331703186035,
          -12.060940742492676,
          -15.603713035583496,
          -13.379167556762695,
          -18.42779541015625,
          3.5251500606536865,
          -13.42431354522705,
          -14.502470016479492,
          -11.43521785736084,
          -5.686944484710693,
          -12.045494079589844,
          -16.757707595825195,
          3.5481772422790527,
          -13.051445007324219
         ],
         "xaxis": "x",
         "y": [
          0.541450560092926,
          5.508225917816162,
          -1.052643060684204,
          -13.101001739501953,
          -4.760012149810791,
          -3.857297420501709,
          -4.71016263961792,
          -9.573512077331543,
          -2.3887994289398193,
          -6.410991668701172,
          -9.877774238586426,
          -18.095218658447266,
          -3.932555675506592,
          -2.240624189376831,
          -6.148159980773926,
          2.860438108444214,
          -9.173084259033203,
          -4.371581077575684,
          -7.8545966148376465,
          -10.405950546264648,
          -17.188182830810547,
          -6.018970012664795,
          -3.2726504802703857,
          -2.466970443725586,
          -11.301767349243164,
          -4.871348857879639,
          -7.777774333953857,
          -16.337574005126953,
          -1.1273283958435059,
          -4.595193386077881,
          -10.233166694641113,
          -1.2023082971572876,
          1.5078072547912598,
          -1.0700982809066772,
          -11.214902877807617,
          -3.1805124282836914,
          -4.734746932983398,
          1.082956314086914,
          -0.3501245379447937,
          -9.3217191696167,
          -1.2449992895126343,
          0.38064301013946533,
          1.071753740310669,
          -2.161745548248291,
          -5.167074203491211,
          -16.646211624145508,
          -10.20640754699707,
          -3.8431363105773926,
          -6.641447067260742,
          -2.3717546463012695,
          -1.5798770189285278,
          -3.9874207973480225,
          -11.177102088928223,
          -3.5629806518554688
         ],
         "yaxis": "y"
        },
        {
         "customdata": [
          [
           "Quality Control and Quality Assurance […] Change Control […]  Operation procedures should be<br>established to define the request, assessment, review, approval and implementation of changes in<br>starting materials, packaging materials, specifications, testing methods, operation procedures,<br>premises, facilities, equipment, instruments, manufacturing process and computer software. The<br>quality management department should assign a designated person to take charge of the change<br>control.",
           "change controls"
          ],
          [
           "Specific processes or variations to the standard process may be required for the following types of<br>changes: […]  Temporary Changes. These are changes which are planned to be in place for a limited<br>period (as defined by the regulated company ). Any such changes may introduce new or increased risk<br>which should be assessed and managed. Particular attention should be paid to the reversal of<br>temporary changes to ensure that they are 'rolled back' and properly reviewed through the formal<br>change management process before being made permanent.",
           "change controls"
          ],
          [
           "Computerised Systems […] Change and Configuration Management […] Any changes to a computerised<br>system including system configurations should only be made in a controlled manner in accordance with<br>a defined procedure.",
           "change controls"
          ],
          [
           "Quality Control and Quality Assurance […] Change Control […]   The manufacturer should establish a<br>change control system to evaluate and manage all changes which could have an impact on product<br>quality. Any change requiring approval from the drug regulatory department should only be applied<br>after obtaining the approval.",
           "change controls"
          ],
          [
           "Potential Applications for Quality Risk Management […] Change management / change control. To manage<br>Changes based on knowledge and information accumulated in pharmaceutical development and during<br>manufacturing. To evaluate the impact of the changes on the availability of the final product; To<br>evaluate the impact on product quality of changes to the facility, equipment, material,<br>manufacturing process or technical transfers; To determine appropriate actions preceding the<br>implementation of a change, e.g., additional testing, (re)qualification, (re)validation or<br>communication with regulators.",
           "change controls"
          ],
          [
           "Control of changes. The organization shall review and control changes for production or service<br>provision, to the extent necessary to ensure continuing conformity with requirements. The<br>organization shall retain documented information describing the results of the review of changes,<br>the person(s) authorizing the change, and any necessary actions arising from the review.",
           "change controls"
          ],
          [
           "Change Control […] The company should establish a management system changes in order to keep under<br>control the changes that will impact on qualified equipment and systems, as well as processes and<br>procedures already validated, may or may not influence the quality of manufactured products.",
           "change controls"
          ],
          [
           "Revalidation after Changes […] The extent of revalidation depends on the nature and significance of<br>the change.",
           "change controls"
          ],
          [
           "Quality system […] A change control system should be in place. This system should incorporate<br>quality risk management principles, and be proportionate and effective.",
           "change controls"
          ],
          [
           "Change Control […]  Written procedures should provide for the identification, documentation,<br>appropriate review, and approval of changes in raw materials, specifications, analytical methods,<br>facilities, support systems, equipment (including computer hardware), processing steps, labelling<br>and packaging materials, and computer software.",
           "change controls"
          ],
          [
           "Quality Control and Quality Assurance […] Change Control […]  Change that may affect the product<br>quality is proposed by an application department, steps should be taken to do assessment, and then<br>establish an implementation plan with defined responsibilities, followed by its final review and<br>approval by the quality management department. The implementation of change should be fully<br>recorded.",
           "change controls"
          ],
          [
           "Changes to requirements for products and services. The organization shall ensure that relevant<br>documented information is amended, and that relevant persons are made aware of the changed<br>requirements, when the requirements for products and services are changed.",
           "change controls"
          ],
          [
           "The need for requalification after changes should be considered by the change control procedure.",
           "change controls"
          ],
          [
           "Change Control […]  After the change has been implemented, there should be an evaluation of the<br>first batches produced or tested under the change.",
           "change controls"
          ],
          [
           "Change Control […] The procedure should describe the actions to be taken, including the need and<br>extent of qualification or validation to be performed.",
           "change controls"
          ],
          [
           "Qualification and Validation […] Change control […] Supporting data, e.g. copies of documents,<br>should be reviewed to confirm that the impact of the change has been demonstrated prior to final<br>approval.",
           "change controls"
          ],
          [
           "Revalidation after Changes […] The changes should not adversely affect product quality or process<br>characteristics.",
           "change controls"
          ],
          [
           "Qualification and Validation […] Change control […] Changes should be authorised and approved by the<br>responsible persons or relevant functional personnel in accordance with the pharmaceutical quality<br>system.",
           "change controls"
          ],
          [
           "All arrangements for the outsourced activities including any proposed changes in technical or other<br>arrangements should be in accordance with regulations in force, and the Marketing Authorisation for<br>the product concerned, where applicable.",
           "change controls"
          ],
          [
           "Production and/or Analysis Contract […]  All conditions established on the contract of production<br>and/or analysis, including any proposed change in the technical conditions or of other nature, must<br>comply with product registration.",
           "change controls"
          ],
          [
           "The need for revalidation after changes should be considered by the change control procedure.",
           "change controls"
          ],
          [
           "Qualification and Validation […] Change control […] Where design space is used, the impact on<br>changes to the design space should be considered against the registered design space within the<br>marketing authorisation and the need for any regulatory actions assessed.",
           "change controls"
          ],
          [
           "Change Control […]  Any proposals for GMP relevant changes should be drafted, reviewed, and approved<br>by the appropriate organisational units, and reviewed and approved by the quality unit(s).",
           "change controls"
          ],
          [
           "Revalidation after change should be performed when the change may affect the process, procedure,<br>product quality and/or product characteristics. Sole Paragraph. Revalidation should be considered as<br>particle of the change control procedure.",
           "change controls"
          ],
          [
           "Qualification and Validation […] Change control […] Following implementation, and, where<br>appropriate, an evaluation of the effectiveness of change should be carried out to confirm that the<br>change has been successful.",
           "change controls"
          ],
          [
           "Change control […]  Changes that could affect the quality of product should be approved and<br>performed by authorized personnel on the basis of sufficient data.",
           "change controls"
          ],
          [
           "For any automated, mechanical, or electronic equipment that you use to manufacture, package, label,<br>or hold a dietary supplement, you must: […]  Establish and use appropriate controls for automated,<br>mechanical, and electronic equipment (including software for a computer controlled process) to<br>ensure that any changes to the manufacturing, packaging, labeling, holding, or other operations are<br>approved by quality control personnel and instituted only by authorized personnel; and […]",
           "change controls"
          ],
          [
           "Change Control […] The changes must be formally requested, documented and approved before<br>implementation. Records must be maintained.",
           "change controls"
          ],
          [
           "Medicinal Products Derived from Human Blood or Plasma […] Quality Management […]  A formal change<br>control system should be in place to plan, evaluate and document all changes that may affect the<br>quality or safety of the products, or traceability. The potential impact of proposed changes should<br>be evaluated. The need for additional testing and validation, especially viral inactivation and<br>removal steps, should be determined.",
           "change controls"
          ],
          [
           "Change Control. The manufacturer, etc. shall, in case where any change will be made in the<br>manufacturing procedure, etc. which could affect the quality of the products, have the person<br>designated beforehand conduct the following duties in accordance with the documented procedure, etc.<br>(1) To evaluate effects on the quality of the products due to such change, to be approved by the<br>quality department with respect to the change being made based on the results of the evaluation, and<br>to establish and maintain records of the evaluation and approval, and (2) To revise relevant<br>documents, to train the personnel and to take other necessary actions in case where any change is<br>made upon approval of the quality department specified in the provision of preceding Item (1).",
           "change controls"
          ],
          [
           "Materials Management […] General Controls […]  Changing the source of supply of critical raw<br>materials should be treated according to Section 13, Change Control.",
           "change controls"
          ],
          [
           "A Pharmaceutical Quality System appropriate for the manufacture of medicinal products should ensure<br>that: […] Arrangements are in place for the prospective evaluation of planned changes and their<br>approval prior to implementation taking into account regulatory notification and approval where<br>required;",
           "change controls"
          ],
          [
           "Specific processes or variations to the standard process may be required for the following types of<br>changes: […]  Like-for-like replacements. These changes can be controlled by maintenance procedures<br>designed to control materials usage and record system history. Like-for-like is not always easy to<br>assess and consideration should be given to their impact. See Appendix 07.",
           "change controls"
          ],
          [
           "Outsourced Activities […] All arrangements for the outsourced activities including any proposed<br>changes in technical or other arrangements should be in accordance with regulations in force, and<br>the Marketing Authorisation for the product concerned, where applicable.",
           "change controls"
          ],
          [
           "Change Control […]  A formal change control system should be established to evaluate all changes<br>that may affect the production and control of the intermediate or API.",
           "change controls"
          ],
          [
           "Quality Control and Quality Assurance […] Change Control […]  When changes involve key quality<br>factors such as starting materials, immediate packaging materials, manufacturing process, major<br>equipment, etc., the quality of at least the first three batches produced after the change should be<br>evaluated. If the change has potential impact on the shelf life, stability studies should also be<br>conducted.",
           "change controls"
          ],
          [
           "Operating principles […]  Change management should, on a periodic basis, take into account the<br>effects, including cumulative effects of changes (e.g. to the process) on the quality, safety and<br>efficacy of the finished product.",
           "change controls"
          ],
          [
           "Computerized Information System […] Changes to systems or programs should be conducted in accordance<br>with procedures and methodologies of systems development. §1 The procedures should define the<br>validation, verification, approval and implementation of change. §2 Any amendment must be recorded<br>and implemented only with the consent of the person responsible for part of the system involved. §3<br>Any significant changes must be validated.",
           "change controls"
          ],
          [
           "Qualification and Validation […] Change control […] Written procedures should be in place to<br>describe the actions to be taken if a planned change is proposed to a starting material, product<br>component, process, equipment, premises, product range, method of production or testing, batch size,<br>design space or any other change during the lifecycle that may affect product quality or<br>reproducibility.",
           "change controls"
          ],
          [
           "Qualification and Validation […] Change control […] The control of change is an important part of<br>knowledge management and should be handled within the pharmaceutical quality system.",
           "change controls"
          ],
          [
           "There should be periodic requalification, as well as requalification after changes (such as changes<br>in utilities, systems, equipment, maintenance and displacements).",
           "change controls"
          ]
         ],
         "hovertemplate": "Standard mapping?=%{customdata[1]}<br>reduced_x=%{x}<br>reduced_y=%{y}<br>Original Text=%{customdata[0]}<br>Assigned Cluster=%{marker.color}<extra></extra>",
         "legendgroup": "change controls",
         "marker": {
          "color": [
           22,
           -1,
           -1,
           22,
           -1,
           -1,
           22,
           -1,
           -1,
           22,
           22,
           -1,
           -1,
           -1,
           -1,
           -1,
           -1,
           22,
           10,
           10,
           -1,
           -1,
           -1,
           -1,
           -1,
           22,
           -1,
           -1,
           -1,
           -1,
           -1,
           23,
           -1,
           10,
           22,
           -1,
           -1,
           -1,
           22,
           22,
           -1
          ],
          "coloraxis": "coloraxis",
          "symbol": "circle"
         },
         "mode": "markers",
         "name": "change controls",
         "orientation": "v",
         "showlegend": true,
         "type": "scatter",
         "x": [
          -3.3476924896240234,
          -0.7804456353187561,
          -17.88079261779785,
          -4.742577075958252,
          -2.354877233505249,
          -2.902217388153076,
          -4.311334609985352,
          -2.5913305282592773,
          -8.686225891113281,
          -4.661524772644043,
          -3.0482687950134277,
          -1.819217324256897,
          -4.4735636711120605,
          -4.518120765686035,
          -7.284925937652588,
          -5.95466947555542,
          -1.3845938444137573,
          -6.739426136016846,
          -7.298681735992432,
          -8.480117797851562,
          -4.175865173339844,
          -5.098354339599609,
          -7.287837028503418,
          -1.3440864086151123,
          -5.764946460723877,
          -5.912047863006592,
          -6.805286884307861,
          -6.315280437469482,
          -3.974652051925659,
          -1.4138303995132446,
          -5.738989353179932,
          -8.220928192138672,
          -0.5386757850646973,
          -7.340124130249023,
          -4.965775012969971,
          -2.370720624923706,
          -2.7275993824005127,
          -17.799489974975586,
          -3.991758346557617,
          -6.9116644859313965,
          -6.0623393058776855
         ],
         "xaxis": "x",
         "y": [
          -12.536666870117188,
          -18.915193557739258,
          -15.112322807312012,
          -11.702982902526855,
          -10.111344337463379,
          -16.02341079711914,
          -15.585709571838379,
          -24.397497177124023,
          -13.974444389343262,
          -14.163536071777344,
          -12.24893856048584,
          -16.137989044189453,
          -23.332107543945312,
          -17.94516372680664,
          -17.380285263061523,
          -18.397123336791992,
          -23.776901245117188,
          -12.719015121459961,
          -5.808565139770508,
          -6.306750297546387,
          -23.407901763916016,
          -19.929805755615234,
          -15.558923721313477,
          -23.321056365966797,
          -18.738725662231445,
          -15.816605567932129,
          -8.32953929901123,
          -17.313453674316406,
          -10.70573902130127,
          -12.322422981262207,
          -14.233207702636719,
          -10.417739868164062,
          -19.50734519958496,
          -5.82240629196167,
          -16.495864868164062,
          -13.601438522338867,
          -18.23116683959961,
          -15.33870792388916,
          -13.833014488220215,
          -12.494668006896973,
          -23.277381896972656
         ],
         "yaxis": "y"
        },
        {
         "customdata": [
          [
           "The PSUR should be a “self-standing” document providing a general overview of all PMS activities and<br>data for the device and a comprehensive executive summary on safety and performance data. The aim of<br>the PSUR is not to duplicate all data and reports generated by the PMS Plan: it should summarize all<br>results and conclusions generated after the implementation of PMSP.  The manufacturer need to<br>specify the relevant information and section of the different reports and provide a summary of the<br>data collected, their evaluation and conclusion as well as the actions taken where appropriate.",
           "medical device post market surveillance"
          ],
          [
           "Post-Market Clinical Follow-Up [...] The manufacturer shall analyse the findings of the PMCF and<br>document the results in a PMCF evaluation report that shall be part of the clinical evaluation<br>report and the technical documentation.",
           "medical device post market surveillance"
          ],
          [
           "Serious Risk of Injury to Human Health […]  (1) Despite subsection 61.2(2), if the holder of a<br>therapeutic product authorization issued in respect of a medical device is the manufacturer, they<br>may permit the importer of the device to submit the information required under that subsection on<br>the manufacturer’s behalf if the information that the manufacturer and the importer must submit is<br>identical. (2) The manufacturer shall advise the Minister in writing if the manufacturer has<br>permitted the importer to submit the information on the manufacturer’s behalf.",
           "medical device post market surveillance"
          ],
          [
           "Summary Report […]  (1) The holder of a medical device licence shall maintain records of the summary<br>reports and the information on the basis of which those reports were prepared. (2) The licensee<br>shall retain the records for seven years after the day on which they were created.",
           "medical device post market surveillance"
          ],
          [
           "Post-Market Clinical Follow-Up [...] The PMCF plan shall include at least:  (a) the general methods<br>and procedures of the PMCF to be applied, such as gathering of clinical experience gained, feedback<br>from users, screening of scientific literature and of other sources of clinical data; (b) the<br>specific methods and procedures of PMCF to be applied, such as evaluation of suitable registers or<br>PMCF studies; (c) a rationale for the appropriateness of the methods and procedures referred to in<br>points (a) and (b); (d) a reference to the relevant parts of the clinical evaluation report referred<br>to in Section 4 and to the risk management referred to in Section 3 of Annex I; (e) the specific<br>objectives to be addressed by the PMCF; (f)  an evaluation of the clinical data relating to<br>equivalent or similar devices; (g) reference to any relevant CS, harmonised standards when used by<br>the manufacturer, and relevant guidance on PMCF; and (h) a detailed and adequately justified time<br>schedule for PMCF activities (e.g. analysis of PMCF data and reporting) to be undertaken by the<br>manufacturer.",
           "medical device post market surveillance"
          ],
          [
           "The manufacturer shall analyse the findings of the PMPF and document the results in a PMPF<br>evaluation report that shall update the performance evaluation report and be part of the technical<br>documentation.",
           "medical device post market surveillance"
          ],
          [
           "Data gathered by the manufacturer's post-market surveillance system shall in particular be used: (a)<br>to update the benefit-risk determination and to improve the risk management as referred to in<br>Chapter I of Annex I; (b) to update the design and manufacturing information, the instructions for<br>use and the labelling; (c) to update the performance evaluation; (d) to update the summary of safety<br>and performance referred to in Article 29; (e) for the identification of needs for preventive,<br>corrective or field safety corrective action; (f) for the identification of options to improve the<br>usability, performance and safety of the device; (g) when relevant, to contribute to the post-market<br>surveillance of other devices; and (h) to detect and report trends in accordance with Article 83.<br>The technical documentation shall be updated accordingly.",
           "medical device post market surveillance"
          ],
          [
           "Post-Market Clinical Follow-Up [...] The PMCF plan shall specify the methods and procedures for<br>proactively collecting and evaluating clinical data with the aim of:  (a) confirming the safety and<br>performance of the device throughout its expected lifetime, (b) identifying previously unknown side-<br>effects and monitoring the identified side-effects and contraindications,  (c) identifying and<br>analysing emergent risks on the basis of factual evidence, (d) ensuring the continued acceptability<br>of the benefit-risk ratio referred to in Sections 1 and 9 of Annex I, and (e) identifying possible<br>systematic misuse or off-label use of the device, with a view to verifying that the intended purpose<br>is correct.",
           "medical device post market surveillance"
          ],
          [
           "The post-market surveillance system referred to in Article 78 shall be based on a post-market<br>surveillance plan, the requirements for which are set out in Section 1 of Annex III. The post-market<br>surveillance plan shall be part of the technical documentation specified in Annex II.",
           "medical device post market surveillance"
          ],
          [
           "Post-Market Clinical Follow-Up [...] PMCF shall be understood to be a continuous process that<br>updates the clinical evaluation referred to in Article 61 and Part A of this Annex and shall be<br>addressed in the manufacturer's post-market surveillance plan. When conducting PMCF, the<br>manufacturer shall proactively collect and evaluate clinical data from the use in or on humans of a<br>device which bears the CE marking and is placed on the market or put into service within its<br>intended purpose as referred to in the relevant conformity assessment procedure, with the aim of<br>confirming the safety and performance throughout the expected lifetime of the device, of ensuring<br>the continued acceptability of identified risks and of detecting emerging risks on the basis of<br>factual evidence.",
           "medical device post market surveillance"
          ],
          [
           "Summary Report […]  (1) The Minister may, for the purposes of determining whether a medical device<br>meets the applicable requirements of sections 10 to 20, request that the holder of a medical device<br>licence issued in respect of the device submit, on or before the day specified in the request, any<br>of the following:  (a) summary reports; or  (b) information on the basis of which summary reports<br>were prepared. (2) The licensee shall submit to the Minister the summary reports or information, or<br>both, that the Minister requests not later than the day specified in the request.",
           "medical device post market surveillance"
          ],
          [
           "The PMPF plan shall include at least: (a) the general methods and procedures of the PMPF to be<br>applied, such as gathering of clinical experience gained, feedback from users, screening of<br>scientific literature and of other sources of performance or scientific data; (b) the specific<br>methods and procedures of PMPF to be applied, such as ring trials and other quality assurance<br>activities, epidemiological studies, evaluation of suitable patient or disease registers, genetic<br>databanks or post-market clinical performance studies; (c) a rationale for the appropriateness of<br>the methods and procedures referred to in points (a) and (b); (d) a reference to the relevant parts<br>of the performance evaluation report referred to in Section 1.3 of this Annex and to the risk<br>management referred to in Section 3 of Annex I; (e) the specific objectives to be addressed by the<br>PMPF;  (f) an evaluation of the performance data relating to equivalent or similar devices, and the<br>current state of the art; (g) reference to any relevant CS, harmonised standards when used by the<br>manufacturer, and relevant guidance on PMPF, and; (h) a detailed and adequately justified time<br>schedule for PMPF activities, such as analysis of PMPF data and reporting, to be undertaken by the<br>manufacturer.",
           "medical device post market surveillance"
          ],
          [
           "Requirements of manufacturing system [...] The manufacturer of a medical device of a kind mentioned<br>in subclause (1) must ensure that the process used to manufacture the device includes post-marketing<br>requirements under which the manufacturer is required: (a) to systematically review experience<br>gained in the post-production phase in relation to medical devices of that kind; and (b) to<br>implement appropriate means to apply any necessary corrective action in relation to the design or<br>production of such devices; and (c) to notify the Secretary, or the person in relation to whom the<br>kind of device is included in the Register, as soon as practicable after becoming aware of:    (i)<br>information relating to:       (A) any malfunction or deterioration in the characteristics or<br>performance of the kind of device; or       (B) any inadequacy in the design, production, labelling,<br>instructions for use or advertising materials of the kind of device; or       (C) any use in<br>accordance with, or contrary to, the use intended by the manufacturer of the kind of device; that<br>might lead, or might have led, to the death of a patient or a user of the device, or to a serious<br>deterioration in his or her state of health; or    (ii) information relating to any technical or<br>medical reason for a malfunction or deterioration of a kind mentioned in subparagraph (i) that has<br>led the manufacturer to take steps to recall devices of that kind that have been distributed. Note:<br>See also paragraph 41FN(3)(d) and section 41MP of the Act in relation to the requirement to give<br>certain information about a medical device to the Secretary.",
           "medical device post market surveillance"
          ],
          [
           "Technical Documentation [...] Pre-clinical and clinical data [...]   (d) the PMCF plan and PMCF<br>evaluation report referred to in Part B of Annex XIV or a justification why a PMCF is not<br>applicable.",
           "medical device post market surveillance"
          ],
          [
           "PMPF shall be understood to be a continuous process that updates the performance evaluation referred<br>to in Article 56 and Part A of this Annex and shall be specifically addressed in the manufacturer's<br>post-market surveillance plan. When conducting PMPF, the manufacturer shall proactively collect and<br>evaluate performance and relevant scientific data from the use of a device which bears the CE<br>marking and is placed on the market or put into service within its intended purpose as referred to<br>in the relevant conformity assessment procedure, with the aim of confirming the safety, performance<br>and scientific validity throughout the expected lifetime of thedevice, of ensuring the continued<br>acceptability of the benefit-risk ratio and of detecting emerging risks on the basis of factual<br>evidence.",
           "medical device post market surveillance"
          ],
          [
           "Devices for special purposes […]  Custom-made devices shall be accompanied by the statement referred<br>to in Section 1 of Annex XIII, which shall be made available to the particular patient or user<br>identified by name, an acronym or a numerical code. Member States may require that the manufacturer<br>of a custom-made device submit to the competent authority a list of such devices which have been<br>made available in their territory.",
           "medical device post market surveillance"
          ],
          [
           "Post-market surveillance system of the manufacturer […] For each device, manufacturers shall plan,<br>establish, document, implement, maintain and update a post-market surveillance system in a manner<br>that is proportionate to the risk class and appropriate for the type of device. That system shall be<br>an integral part of the manufacturer's quality management system referred to in Article 10(9).",
           "medical device post market surveillance"
          ],
          [
           "The performance evaluation and its documentation shall be updated throughout the life cycle of the<br>device concerned with data obtained from implementation of the manufacturer's PMPF plan in<br>accordance with Part B of Annex XIII and the post-market surveillance plan referred to in Article<br>79. The performance evaluation report for class C and D devices shall be updated when necessary, but<br>at least annually, with the data referred to in the first subparagraph. The summary of safety and<br>performance referred to in Article 29(1) shall be updated as soon as possible, where necessary",
           "medical device post market surveillance"
          ],
          [
           "The conclusions of the PMPF evaluation report shall be taken into account for the performance<br>evaluation referred to in Article 56 and Part A of this Annex and in the risk management referred to<br>in Section 3 of Annex I. If, through the PMPF, the need for preventive and/or corrective measures<br>has been identified, the manufacturer shall implement them.",
           "medical device post market surveillance"
          ],
          [
           "Post-market surveillance plan. The post-market surveillance system referred to in Article 83 shall<br>be based on a post-market surveillance plan, the requirements for which are set out in Section 1.1<br>of Annex III. For devices other than custom-made devices, the postmarket surveillance plan shall be<br>part of the technical documentation specified in Annex II.",
           "medical device post market surveillance"
          ],
          [
           "The technical documentation on post-market surveillance to be drawn up by the manufacturer in<br>accordance with Articles 78 to 81 shall be presented in a clear, organised, readily searchable and<br>unambiguous manner and shall include in particular the elements described in this Annex. 1. The<br>post-market surveillance plan drawn up in accordance with Article 79. The manufacturer shall prove<br>in a post-market surveillance plan that it complies with the obligation referred to in Article 78.<br>(b) The post-market surveillance plan shall cover at least: — a proactive and systematic process to<br>collect any information referred to in point (a). The process shall allow a correct characterisation<br>of the performance of the devices and shall also allow a comparison to be made between the device<br>and similar products available on the market; — effective and appropriate methods and processes to<br>assess the collected data; — suitable indicators and threshold values that shall be used in the<br>continuous reassessment of the benefit-risk analysis and of the risk management as referred to in<br>Section 3 of Annex I; — effective and appropriate methods and tools to investigate complaints and<br>analyse market-related experience collected in the field; — methods and protocols to manage the<br>events subject to the trend report as provided for in Article 83, including the methods and<br>protocols to be used to establish any statistically significant increase in the frequency or<br>severity of incidents as well as the observation period; — methods and protocols to communicate<br>effectively with competent authorities, notified bodies, economic operators and users; — reference<br>to procedures to fulfil the manufacturers obligations laid down in Articles 78, 79 and 81; —<br>systematic procedures to identify and initiate appropriate measures including corrective actions; —<br>effective tools to trace and identify devices for which corrective actions might be necessary; and —<br>a PMPF plan as referred to in Part B of Annex XIII, or a justification as to why a PMPF is not<br>applicable.",
           "medical device post market surveillance"
          ],
          [
           "The PMPF plan shall specify the methods and procedures for proactively collecting and evaluating<br>safety, performance and scientific data with the aim of: (a) confirming the safety and performance<br>of the device throughout its expected lifetime, (b) identifying previously unknown risks or limits<br>to performance and contra-indications, (c) identifying and analysing emergent risks on the basis of<br>factual evidence, (d) ensuring the continued acceptability of the clinical evidence and of the<br>benefit-risk ratio referred to in Sections 1 and 8 of Chapter I of Annex I, and (e) identifying<br>possible systematic misuse.",
           "medical device post market surveillance"
          ],
          [
           "If PMPF is not deemed appropriate for a specific device then a justification shall be provided and<br>documented within the performance evaluation report.",
           "medical device post market surveillance"
          ],
          [
           "Manufacturers of class C and class D devices shall prepare a periodic safety update report (‘PSUR’)<br>for each device and where relevant for each category or group of devices summarising the results and<br>conclusions of the analyses of the post-market surveillance data gathered as a result of the post-<br>market surveillance plan referred to in Article 79 together with a rationale and description of any<br>preventive and corrective actions taken. Throughout the lifetime of the device concerned, that PSUR<br>shall set out: (a) the conclusions of the benefit-risk determination; (b) the main findings of the<br>PMPF; and (c) the volume of sales of the device and an estimate of the size and other<br>characteristics of the population using the device and, where practicable, the usage frequency of<br>the device. Manufacturers of class C and D devices shall update the PSUR at least annually. That<br>PSUR shall be part of the technical documentation as specified in Annexes II and III.",
           "medical device post market surveillance"
          ],
          [
           "Manufacturers of devices, made available on the Union market, other than devices for performance<br>study, shall report, to the relevant competent authorities, in accordance with Articles 87(5) and<br>(7), the following: (a) any serious incident involving devices made available on the Union market,<br>except expected erroneous results which are clearly documented and quantified in the product<br>information and in the technical documentation and are subject to trend reporting pursuant to<br>Article 83; (b) any field safety corrective action in respect of devices made available on the Union<br>market, including any field safety corrective action undertaken in a third country in relation to a<br>device which is also legally made available on the Union market, if the reason for the field safety<br>corrective action is not limited to the device made available in the third country. The reports<br>referred to in the first subparagraph shall be submitted through the electronic system referred to<br>in Article 87.",
           "medical device post market surveillance"
          ],
          [
           "Periodic safety update report […] Manufacturers of class IIa, class IIb and class III devices shall<br>prepare a periodic safety update report (‘PSUR’) for each device and where relevant for each<br>category or group of devices summarising the results and conclusions of the analyses of the post-<br>market surveillance data gathered as a result of the post-market surveillance plan referred to in<br>Article 84 together with a rationale and description of any preventive and corrective actions taken.<br>Throughout the lifetime of the device concerned, that PSUR shall set out: (a) the conclusions of the<br>benefit-risk determination;  (b) the main findings of the PMCF; and (c) the volume of sales of the<br>device and an estimate evaluation of the size and other characteristics of the population using the<br>device and, where practicable, the usage frequency of the device.  Manufacturers of class IIb and<br>class III devices shall update the PSUR at least annually. That PSUR shall, except in the case of<br>custom-made devices, be part of the technical documentation as specified in Annexes II and III.<br>Manufacturers of class IIa devices shall update the PSUR when necessary and at least every two<br>years. That PSUR shall, except in the case of custom-made devices, be part of the technical<br>documentation as specified in Annexes II and III. For custom-made devices, the PSUR shall be part of<br>the documentation referred to in Section 2 of Annex XIII.",
           "medical device post market surveillance"
          ],
          [
           "The technical documentation on post-market surveillance to be drawn up by the manufacturer in<br>accordance with Articles 83 to 86 shall be presented in a clear, organised, readily searchable and<br>unambiguous manner and shall include in particular the elements described in this Annex. 1.1. The<br>post-market surveillance plan drawn up in accordance with Article 84.The manufacturer shall prove in<br>a post-market surveillance plan that it complies with the obligation referred to in Article 83. (a)<br>The post-market surveillance plan shall address the collection and utilization of available<br>information, in particular: — information concerning serious incidents, including information from<br>PSURs, and field safety corrective actions; — records referring to non-serious incidents and data on<br>any undesirable side-effects; — information from trend reporting; — relevant specialist or technical<br>literature, databases and/or registers; — information, including feedbacks and complaints, provided<br>by users, distributors and importers; and — publicly available information about similar medical<br>devices.",
           "medical device post market surveillance"
          ],
          [
           "Post-market surveillance system of the manufacturer […] If, in the course of the post-market<br>surveillance, a need for preventive or corrective action or both is identified, the manufacturer<br>shall implement the appropriate measures and inform the competent authorities concerned and, where<br>applicable, the notified body. Where a serious incident is identified or a field safety corrective<br>action is implemented, it shall be reported in accordance with Article 87.",
           "medical device post market surveillance"
          ],
          [
           "Incident Reporting […]  (1) Despite subsection 59(1) or (1.1), the manufacturer of a medical device<br>may permit the importer of the device to prepare and submit the preliminary and final reports on the<br>manufacturer’s behalf if the information that the manufacturer and the importer must include is<br>identical. (2) The manufacturer shall advise the Minister in writing if the manufacturer has<br>permitted the importer to prepare and submit the reports on the manufacturer’s behalf.",
           "medical device post market surveillance"
          ],
          [
           "Post-Market Clinical Follow-Up [...] The conclusions of the PMCF evaluation report shall be taken<br>into account for the clinical evaluation referred to in Article 61 and Part A of this Annex and in<br>the risk management referred to in Section 3 of Annex I. If, through the PMCF, the need for<br>preventive and/or corrective measures has been identified, the manufacturer shall implement them.",
           "medical device post market surveillance"
          ],
          [
           "Feedback As one of the measurements of the effectiveness of the quality management system, the<br>organization shall gather and monitor information relating to whether the organization has met<br>customer requirements. The methods for obtaining and using this information shall be documented. The<br>organization shall document procedures for the feedback process. This feedback process shall include<br>provisions to gather data from production as well as post-production activities.  The information<br>gathered in the feedback process shall serve as potential input into risk management for monitoring<br>and maintaining the product requirements as well as the product realization or improvement<br>processes.  If applicable regulatory requirements require the organization to gain specific<br>experience from post-production activities, the review of this experience shall form part of the<br>feedback process.",
           "medical device post market surveillance"
          ],
          [
           "Confirmation of conformity with relevant general safety and performance requirements set out in<br>Annex I, in particular those concerning the performance characteristics referred to in Chapter I and<br>Section 9 of Annex I, under the normal conditions of the intended use of the device, and the<br>evaluation of the interference(s) and cross-reaction(s) and of the acceptability of the benefit-risk<br>ratio referred to in Sections 1 and 8 of Annex I, shall be based on scientific validity, analytical<br>and clinical performance data providing sufficient clinical evidence, including where applicable<br>relevant data as referred to in Annex III. The manufacturer shall specify and justify the level of<br>the clinical evidence necessary to demonstrate conformity with the relevant general safety and<br>performance requirements. That level of clinical evidence shall be appropriate in view of the<br>characteristics of the device and its intended purpose. To that end, manufacturers shall plan,<br>conduct and document a performance evaluation in accordance with this Article and with Part A of<br>Annex XIII.",
           "medical device post market surveillance"
          ],
          [
           "Post-Market Clinical Follow-Up [...] PMCF shall be performed pursuant to a documented method laid<br>down in a PMCF plan.",
           "medical device post market surveillance"
          ],
          [
           "‘economic operator’ means a manufacturer, an authorised representative, an importer, a distributor<br>or the person referred to in Article 22(1) and 22(3);",
           "medical device post market surveillance"
          ],
          [
           "Post-market surveillance report. Manufacturers of class I devices shall prepare a post-market<br>surveillance report summarising the results and conclusions of the analyses of the post-market<br>surveillance data gathered as a result of the post-market surveillance plan referred to in Article<br>84 together with a rationale and description of any preventive and corrective actions taken. The<br>report shall be updated when necessary and made available to the competent authority upon request.",
           "medical device post market surveillance"
          ],
          [
           "Requirements of quality management system […] The system must include post-marketing requirements<br>under which the manufacturer of a medical device to which the system is applied is required: (a) to<br>systematically review experience gained, post-production, in relation to medical devices of that<br>kind; and (b) to implement appropriate means to apply any necessary corrective action in relation to<br>the design or production of such devices; and (c) to notify the Secretary, or the person in relation<br>to whom the kind of device is included in the Register, as soon as practicable after becoming aware<br>of:    (i) information relating to:       (A) any malfunction or deterioration in the<br>characteristics or performance of the kind of device; or       (B) any inadequacy in the design,<br>production, labelling or instructions for use of the kind of device, or in the advertising material<br>for the kind of device; or       (C) any use in accordance with, or contrary to, the use intended by<br>the manufacturer of the kind of device; that might lead, or might have led, to the death of a<br>patient or a user of the device, or to a serious deterioration in his or her state of health; or<br>(ii) information relating to any technical or medical reason for a malfunction or deterioration of a<br>kind mentioned in subparagraph (i) that has led the manufacturer to take steps to recall devices of<br>that kind that have been distributed.",
           "medical device post market surveillance"
          ],
          [
           "Manufacturers of class A and B devices shall prepare a post-market surveillance report summarising<br>the results and conclusions of the analyses of the post-market surveillance data gathered as a<br>result of the post-market surveillance plan referred to in Article 79 together with a rationale and<br>description of any preventive and corrective actions taken. The report shall be updated when<br>necessary and made available to the notified body and the competent authority upon request.",
           "medical device post market surveillance"
          ],
          [
           "Declaration of conformity (not requiring assessment by Secretary) procedures […] Post-marketing<br>system (1) The manufacturer of a medical device to which technical documentation prepared under<br>clause 6.4 of this Schedule applies must establish, and keep up-to-date, a post-marketing system<br>that complies with subclause (2) for use in relation to devices of that kind. (2) A post-marketing<br>system complies with this subclause in relation to a medical device if the system requires the<br>manufacturer of the device:    (a) to systematically review experience gained in the post-production<br>phase in relation to medical devices of that kind; and    (b) to implement appropriate means to<br>apply any necessary corrective action in relation to the design or production of such devices; and<br>(c) to notify the Secretary, or the person in relation to whom the kind of device is included in the<br>Register, as soon as practicable after becoming aware of:      (i) information relating to:<br>(A) any malfunction or deterioration in the characteristics or performance of the kind of device; or<br>(B) any inadequacy in the design, production, labelling, instructions for use or advertising<br>materials of the kind of device; or         (C) any use in accordance with, or contrary to, the use<br>intended by the manufacturer of the kind of device; that might lead, or might have led, to the death<br>of a patient or a user of the device, or to a serious deterioration in his or her state of health;<br>or      (ii) information relating to any technical or medical reason for a malfunction or<br>deterioration of a kind mentioned in subparagraph (i) that has led the manufacturer to take steps to<br>recall devices of that kind that have been distributed. Note: See also paragraph 41FN(3)(d) and<br>section 41MP of the Act in relation to the requirement to give certain information about a medical<br>device to the Secretary.",
           "medical device post market surveillance"
          ],
          [
           "Incident Reporting […]  (1) After the preliminary report is made in accordance with section 60, a<br>final report shall be submitted to the Minister in accordance with the timetable established under<br>paragraph 60(2)(h). (2) The final report shall contain the following information:  (a) a description<br>of the incident, including the number of persons who have experienced a serious deterioration in the<br>state of their health or who have died;  (b) a detailed explanation of the cause of the incident and<br>a justification for the actions taken in respect of the incident; and  (c) any actions taken as a<br>result of the investigation, which may include  (i) increased post-market surveillance of the<br>device,  (ii) corrective and preventive action respecting the design and manufacture of the device,<br>and  (iii) recall of the device.",
           "medical device post market surveillance"
          ],
          [
           "The post-market surveillance system shall be suited to actively and systematically gathering,<br>recording and analysing relevant data on the quality, performance and safety of a device throughout<br>its entire lifetime, and to drawing the necessary conclusions and to determining, implementing and<br>monitoring any preventive and corrective actions.",
           "medical device post market surveillance"
          ],
          [
           "Clinical evaluation […] The clinical evaluation and its documentation shall be updated throughout<br>the life cycle of the device concerned with clinical data obtained from the implementation of the<br>manufacturer's PMCF plan in accordance with Part B of Annex XIV and the post-market surveillance<br>plan referred to in Article 84. For class III devices and implantable devices, the PMCF evaluation<br>report and, if indicated, the summary of safety and clinical performance referred to in Article 32<br>shall be updated at least annually with such data.",
           "medical device post market surveillance"
          ],
          [
           "The technical documentation on post-market surveillance to be drawn up by the manufacturer in<br>accordance with Articles 78 to 81 shall be presented in a clear, organised, readily searchable and<br>unambiguous manner and shall include in particular the elements described in this Annex. 1. The<br>post-market surveillance plan drawn up in accordance with Article 79. The manufacturer shall prove<br>in a post-market surveillance plan that it complies with the obligation referred to in Article 78.<br>(a) The post-market surveillance plan shall address the collection and utilisation of available<br>information, in particular: — information concerning serious incidents, including information from<br>PSURs, and field safety corrective actions, — records referring to non-serious incidents and data on<br>any undesirable side-effects, — information from trend reporting, — relevant specialist or technical<br>literature, databases and/or registers, — information, including feedbacks and complaints, provided<br>by users, distributors and importers, and — publicly-available information about similar medical<br>devices.",
           "medical device post market surveillance"
          ],
          [
           "Periodic safety update report […] For class III devices or implantable devices, manufacturers shall<br>submit PSURs by means of the electronic system referred to in Article 92 to the notified body<br>involved in the conformity assessment in accordance with Article 52. The notified body shall review<br>the report and add its evaluation to that electronic system with details of any action taken. Such<br>PSURs and the evaluation by the notified body shall be made available to competent authorities<br>through that electronic system.",
           "medical device post market surveillance"
          ],
          [
           "Incident Reporting […]  (1) The manufacturer and the importer of a medical device shall each make a<br>preliminary and a final report to the Minister concerning any incident that comes to their attention<br>occurring in Canada that involves the device if  (a) the device is sold in Canada; and  (b) the<br>incident  (i) is related to a failure of the device or a deterioration in its effectiveness or any<br>inadequacy in its labelling or in its directions for use, and  (ii) has led to the death or a<br>serious deterioration in the state of health of a patient, user or other person, or could do so were<br>the incident to recur. (1.1) Subject to subsection (2), the manufacturer and the importer of a Class<br>I medical device shall each make a preliminary and a final report to the Minister concerning any<br>incident that comes to their attention occurring outside Canada that involves the device if the<br>conditions in paragraphs (1)(a) and (b) are met. (2) The requirement to report an incident that<br>occurs outside Canada does not apply unless the manufacturer has indicated, to a regulatory agency<br>of the country in which the incident occurred, the manufacturer’s intention to take corrective<br>action, or unless the regulatory agency has required the manufacturer to take corrective action.",
           "medical device post market surveillance"
          ],
          [
           "If, in the course of the post-market surveillance, a need for preventive or corrective action or<br>both is identified, the manufacturer shall implement the appropriate measures and inform the<br>competent authorities concerned and, where applicable, the notified body. Where a serious incident<br>is identified or a field safety corrective action is implemented, it shall be reported in accordance<br>with Article 82.",
           "medical device post market surveillance"
          ],
          [
           "Devices shall be divided into classes I, IIa, IIb and III, taking into account the intended purpose<br>of the devices and their inherent risks. Classification shall be carried out in accordance with<br>Annex VIII.",
           "medical device post market surveillance"
          ],
          [
           "Medical Devices Registration and Filing […]   Article 20 The medical device registrant and filling<br>person shall be obligated to: (I) Establish a quality management system suitable for products and<br>maintain its effective operation; (II) Develop the plans for post-marketing study and risk control<br>plan and ensure the effective implementation thereof; (III) Carry out adverse event monitoring and<br>re-evaluation according to law; (IV) Establish and implement product traceability and recall<br>systems; (V) Other obligations specified by the drug regulatory authority directly under the State<br>Council. The domestic enterprise legal persons designated by overseas medical device registrant or<br>filling person shall assist the registrant or filling person to fulfill the obligations prescribed<br>in the preceding paragraph.",
           "medical device post market surveillance"
          ],
          [
           "For each device manufacturers shall plan, establish, document, implement, maintain and update a<br>post-market surveillance system in a manner that is proportionate to the risk class and appropriate<br>for the type of device. That system shall be an integral part of the manufacturer's quality<br>management system referred to in Article 10(8).",
           "medical device post market surveillance"
          ]
         ],
         "hovertemplate": "Standard mapping?=%{customdata[1]}<br>reduced_x=%{x}<br>reduced_y=%{y}<br>Original Text=%{customdata[0]}<br>Assigned Cluster=%{marker.color}<extra></extra>",
         "legendgroup": "medical device post market surveillance",
         "marker": {
          "color": [
           -1,
           9,
           -1,
           -1,
           9,
           -1,
           -1,
           9,
           -1,
           9,
           -1,
           9,
           3,
           -1,
           9,
           -1,
           8,
           9,
           -1,
           8,
           7,
           9,
           -1,
           9,
           -1,
           -1,
           7,
           8,
           4,
           9,
           -1,
           3,
           -1,
           -1,
           8,
           3,
           8,
           3,
           4,
           -1,
           9,
           7,
           -1,
           4,
           8,
           -1,
           3,
           -1
          ],
          "coloraxis": "coloraxis",
          "symbol": "diamond"
         },
         "mode": "markers",
         "name": "medical device post market surveillance",
         "orientation": "v",
         "showlegend": true,
         "type": "scatter",
         "x": [
          18.979026794433594,
          21.98745346069336,
          15.281927108764648,
          13.0919771194458,
          18.451190948486328,
          22.94489097595215,
          21.899499893188477,
          19.92835235595703,
          27.43729019165039,
          21.07826805114746,
          13.767091751098633,
          18.09573745727539,
          16.62830352783203,
          21.486194610595703,
          21.120643615722656,
          10.3607759475708,
          27.057844161987305,
          21.54789924621582,
          23.35512351989746,
          27.441242218017578,
          22.985200881958008,
          19.429567337036133,
          23.600021362304688,
          20.94660758972168,
          20.171472549438477,
          20.79164695739746,
          22.065202713012695,
          25.226346969604492,
          15.140605926513672,
          22.79680824279785,
          -2.7962706089019775,
          16.466896057128906,
          21.105993270874023,
          -9.52802562713623,
          24.224063873291016,
          16.96585464477539,
          24.016359329223633,
          15.948430061340332,
          17.992965698242188,
          26.099794387817383,
          21.546436309814453,
          22.225492477416992,
          22.804229736328125,
          17.421674728393555,
          25.256410598754883,
          0.4603974521160126,
          13.88294792175293,
          27.242952346801758
         ],
         "xaxis": "x",
         "y": [
          8.180228233337402,
          3.0200726985931396,
          17.156435012817383,
          18.812843322753906,
          4.922072887420654,
          2.7694249153137207,
          11.271392822265625,
          5.412012577056885,
          12.22978687286377,
          5.96695613861084,
          17.982418060302734,
          5.277722358703613,
          12.72665786743164,
          1.631475806236267,
          6.537130355834961,
          15.479667663574219,
          9.679234504699707,
          8.537093162536621,
          5.014113426208496,
          12.039658546447754,
          13.603256225585938,
          6.273436546325684,
          1.8664077520370483,
          10.114632606506348,
          14.247276306152344,
          10.191210746765137,
          13.5269193649292,
          7.5851826667785645,
          17.142080307006836,
          4.941866397857666,
          -6.8657732009887695,
          9.525334358215332,
          2.6857552528381348,
          -3.461951971054077,
          10.747709274291992,
          12.452377319335938,
          10.662744522094727,
          12.392144203186035,
          15.117178916931152,
          10.498738288879395,
          8.147066116333008,
          13.617749214172363,
          9.638795852661133,
          15.703478813171387,
          7.419257640838623,
          21.44623565673828,
          10.26993179321289,
          9.556683540344238
         ],
         "yaxis": "y"
        },
        {
         "customdata": [
          [
           "Registrant disposal  […] (b) Non-practitioner inventory. Any registrant that is a non-practitioner<br>in lawful possession of a controlled substance in its inventory that desires to dispose of that<br>substance shall do so in one of the following ways: […]",
           "controled substances"
          ],
          [
           "Persons required to keep records and file reports [...]  Each regulated person who engages in a<br>regulated transaction involving a listed chemical, a tableting machine, or an encapsulating machine<br>shall keep a record of the transaction as specified by §1310.04 and file reports as specified by<br>§1310.05. [...]",
           "controled substances"
          ],
          [
           "Illicit activities by employees  It is the position of DEA that employees who possess, sell, use or<br>divert controlled substances will subject themselves not only to State or Federal prosecution for<br>any illicit activity, but shall also immediately become the subject of independent action regarding<br>their continued employment. The employer will assess the seriousness of the employee's violation,<br>the position of responsibility held by the employee, past record of employment, etc., in determining<br>whether to suspend, transfer, terminate or take other action against the employee.",
           "controled substances"
          ],
          [
           "Reports [...]  Each regulated person must report to the Special Agent in Charge of the DEA<br>Divisional Office for the area in which the regulated person making the report is located any<br>unusual or excessive loss or disappearance of a listed chemical under the control of the regulated<br>person. [...]",
           "controled substances"
          ],
          [
           "Information to be Furnished by Parties to the Secretary-General [...]  1. The Parties shall furnish<br>to the Secretary-General such information as the Commission may request as being necessary for the<br>performance of its functions, and in particular: (a) An annual report on the working of the<br>Convention within each of their territories; (b) The text of all laws and regulations from time to<br>time promulgated in order to give effect to this Convention; (c) Such particulars as the Commission<br>shall determine concerning cases of illicit traffic, including particulars of each case of illicit<br>traffic discovered which may be of importance, because of the light thrown on the source from which<br>drugs are obtained for the illicit traffic, or because of quantities involved or the method employed<br>by illicit traffickers; and (d) The names and addresses of the governmental authorities empowered to<br>issue export and import authorizations or certificates.",
           "controled substances"
          ],
          [
           "Destruction procedures [...]  The destruction of any controlled substance shall be in accordance<br>with the following requirements: (a) Transfer to a person registered or authorized to accept<br>controlled substances for the purpose of destruction. If the controlled substances are transferred<br>to a person registered or authorized to accept the controlled substances for the purpose of<br>destruction, two employees of the transferring registrant shall load and unload or observe the<br>loading and unloading of any controlled substances until transfer is complete. (b) Transport to a<br>registered location. If the controlled substances are transported by a registrant to a registered<br>location for subsequent destruction, the following procedures shall be followed:  [...]",
           "controled substances"
          ],
          [
           "Procurement quotas [...]  (a) In order to determine the estimated needs for, and to insure an<br>adequate and uninterrupted supply of, basic classes of controlled substances listed in Schedules I<br>and II (except raw opium being imported by the registrant pursuant to an import permit) the<br>Administrator shall issue procurement quotas authorizing persons to procure and use quantities of<br>each basic class of such substances for the purpose of manufacturing such class into dosage forms or<br>into other substances.",
           "controled substances"
          ],
          [
           "Limitation of Use to Medical and Scientific Purposes […]  2. Each Party shall, except as provided in<br>article 4, limit by such measures as it considers appropriate the manufacture, export, import,<br>distribution and stocks of, trade in, and use and possession of, substances in Schedules II, III and<br>IV to medical and scientific purposes.",
           "controled substances"
          ],
          [
           "General security requirements [...]  (b) In evaluating the effectiveness of security controls and<br>procedures, the Administrator shall consider the following factors: (1) The type, form, and quantity<br>of List I chemicals handled; (2) The location of the premises and the relationship such location<br>bears on the security needs; (3) The type of building construction comprising the facility and the<br>general characteristics of the building or buildings; (4) The availability of electronic detection<br>and alarm systems; (5) The extent of unsupervised public access to the facility; (6) The adequacy of<br>supervision over employees having access to List I chemicals; (7) The procedures for handling<br>business guests, visitors, maintenance personnel, and nonemployee service personnel in areas where<br>List I chemicals are processed or stored; and (8) The adequacy of the registrant's or applicant's<br>systems for monitoring the receipt, distribution, and disposition of List I chemicals in its<br>operations.",
           "controled substances"
          ],
          [
           "Statistical Returns To Be Furnished to the Board [...]  1. The Parties shall furnish to the Board<br>for each of their territories, in the manner and form prescribed by the Board, statistical returns<br>on forms supplied by it in respect of the following matters: (a) Production or manufacture of drugs;<br>(b) Utilization of drugs for the manufacture of other drugs, of preparations in Schedule III and of<br>substances not covered by this Convention, and utilization of poppy straw for the manufacture of<br>drugs; (c) Consumption of drugs; (d) Imports and exports of drugs and poppy straw; (e) Seizures of<br>drugs and disposal thereof; (f) Stocks of drugs as at 31 December of the year to which the returns<br>relate;  (g) Ascertainable area of cultivation of opium poppy.",
           "controled substances"
          ],
          [
           "Employee responsibility to report drug diversion  Reports of drug diversion by fellow employees is<br>not only a necessary part of an overall employee security program but also serves the public<br>interest at large. It is, therefore, the position of DEA that an employee who has knowledge of drug<br>diversion from his employer by a fellow employee has an obligation to report such information to a<br>responsible security official of the employer. The employer shall treat such information as<br>confidential and shall take all reasonable steps to protect the confidentiality of the information<br>and the identity of the employee furnishing information. A failure to report information of drug<br>diversion will be considered in determining the feasibility of continuing to allow an employee to<br>work in a drug security area. The employer shall inform all employees concerning this policy.",
           "controled substances"
          ],
          [
           "Qualification of customers […] Wholesale distributors should monitor their transactions and<br>investigate any irregularity in the sales patterns of narcotics, psychotropic substances or other<br>dangerous substances. Unusual sales patterns that may constitute diversion or misuse of medicinal<br>product should be investigated and reported to competent authorities where necessary. Steps should<br>be taken to ensure fulfilment of any public service obligation imposed upon them.",
           "controled substances"
          ],
          [
           "Application for registration; time for application; expiration date; registration for independent<br>activities; application forms, fees, contents and signature; coincident activities [...]  (a) Any<br>person who is required to be registered and who is not so registered may apply for registration at<br>any time. No person required to be registered shall engage in any activity for which registration is<br>required until the application for registration is granted and a Certificate of Registration is<br>issued by the Administrator to such person. (b) Any person who is registered may apply to be<br>reregistered not more than 60 days before the expiration date of his/her registration, except that a<br>bulk manufacturer of Schedule I or II controlled substances or an importer of Schedule I or II<br>controlled substances may apply to be reregistered no more than 120 days before the expiration date<br>of their registration.",
           "controled substances"
          ],
          [
           "Maintenance of records and inventories [...]  (a) Except as provided in paragraphs (a)(1) and (a)(2)<br>of this section, every inventory and other records required to be kept under this part must be kept<br>by the registrant and be available, for at least 2 years from the date of such inventory or records,<br>for inspection and copying by authorized employees of the Administration. (1) Financial and shipping<br>records (such as invoices and packing slips but not executed order forms subject to §§1305.17 and<br>1305.27 of this chapter) may be kept at a central location, rather than at the registered location,<br>if the registrant has notified the Administration of his intention to keep central records. Written<br>notification must be submitted by registered or certified mail, return receipt requested, in<br>triplicate, to the Special Agent in Charge of the Administration in the area in which the registrant<br>is located. Unless the registrant is informed by the Special Agent in Charge that permission to keep<br>central records is denied, the registrant may maintain central records commencing 14 days after<br>receipt of his notification by the Special Agent in Charge. All notifications must include the<br>following: i) The nature of the records to be kept centrally. (ii) The exact location where the<br>records will be kept. (iii) The name, address, DEA registration number and type of DEA registration<br>of the registrant whose records are being maintained centrally. (iv) Whether central records will be<br>maintained in a manual, or computer readable, form.",
           "controled substances"
          ],
          [
           "Loss reporting [...]  (a) Each regulated person must report to the Special Agent in Charge of the<br>DEA Divisional Office for the area in which the regulated person making the report is located, any<br>unusual or excessive loss or disappearance of a scheduled listed chemical product under the control<br>of the regulated person. The regulated person responsible for reporting a loss in-transit is the<br>supplier.",
           "controled substances"
          ],
          [
           "Modification in registration [...]  (a) Any registrant may apply to modify his/her registration to<br>authorize the handling of additional controlled substances or to change his/her name or address by<br>submitting a written request to the Registration Unit, Drug Enforcement Administration. See the<br>Table of DEA Mailing Addresses in § 1321.01 of this chapter for the current mailing address.<br>Additionally, such a request may be submitted on-line at www.DEAdiversion.usdoj.gov.  (1) The<br>request shall contain: [...]  (2) If the registrant is seeking to handle additional controlled<br>substances listed in Schedule I for the purpose of research or instructional activities, the<br>registrant shall attach three copies of a research protocol describing each research project<br>involving the additional substances, or two copies of a statement describing the nature, extent, and<br>duration of such instructional activities, as appropriate.",
           "controled substances"
          ],
          [
           "Employee responsibility to report diversion [...]  Reports of listed chemical diversion by fellow<br>employees is not only a necessary part of an overall employee security program but also serves the<br>public interest at large. It is, therefore, the position of DEA that an employee who has knowledge<br>of diversion from his employer by a fellow employee has an obligation to report such information to<br>a responsible security official of the employer. The employer shall treat such information as<br>confidential and shall take all reasonable steps to protect the confidentiality of the information<br>and the identity of the employee furnishing information. A failure to report information of chemical<br>diversion will be considered in determining the feasibility of continuing to allow an employee to<br>work in an area with access to chemicals. The employer shall inform all employees concerning this<br>policy.",
           "controled substances"
          ],
          [
           "Physical security controls for non-practitioners; compounders for narcotic treatment programs;<br>manufacturing and compounding areas. [...]  All manufacturing activities (including processing,<br>packaging and labeling) involving controlled substances listed in any schedule and all activities of<br>compounders shall be conducted in accordance with the following: (a) All in-process substances shall<br>be returned to the controlled substances storage area at the termination of the process [...] (b)<br>Manufacturing activities with controlled substances shall be conducted in an area or areas of<br>clearly defined limited access which is under surveillance by an employee or employees designated in<br>writing as responsible for the area. [...] (c) During the production of controlled substances, the<br>manufacturing areas shall be accessible to only those employees required for efficient operation.<br>When it is necessary for employee maintenance personnel, nonemployee maintenance personnel, business<br>guests, or visitors to be present in or pass through manufacturing areas during production of<br>controlled substances, the registrant shall provide for adequate observation of the area by an<br>employee specifically authorized in writing.",
           "controled substances"
          ],
          [
           "Provisions Relating to International Trade […]  1.(a) Every Party permitting the export or import of<br>substances in Schedule I or II shall require a separate import or export authorization, on a form to<br>be established by the Commission, to be obtained for each such export or import whether it consists<br>of one or more substances.",
           "controled substances"
          ],
          [
           "The total of the quantities of each drug manufactured and imported by any country or territory in<br>any one year shall not exceed the sum of the following: (a) The quantity consumed, within the limit<br>of the relevant estimate, for medical and scientific purposes; (b) The quantity used, within the<br>limit of the relevant estimate, for the manufacture of other drugs, of preparations in Schedule III,<br>and of substances not covered by this Convention; (c) The quantity exported; (d) The quantity added<br>to the stock for the purpose of bringing that stock up to the level specified in the relevant<br>estimate; and (e) The quantity acquired within the limit of the relevant estimate for special<br>purposes.",
           "controled substances"
          ],
          [
           "Estimates of Drug Requirements [...]  1. The Parties shall furnish to the Board each year for each<br>of their territories, in the manner and form prescribed by the Board, estimates on forms supplied by<br>it in respect of the following matters: (a) Quantities of drugs to be consumed for medical and<br>scientific purposes; (b) Quantities of drugs to be utilized for the manufacture of other drugs, of<br>preparations in Schedule III, and of substances not covered by this Convention; (c) Stocks of drugs<br>to be held as at 31 December of the year to which the estimates relate; (d) Quantities of drugs<br>necessary for addition to special stocks; (e) The area (in hectares) and the geographical location<br>of land to be used for the cultivation of the opium poppy; (f) Approximate quantity of opium to be<br>produced; (g) The number of industrial establishments which will manufacture synthetic drugs; and<br>(g) The quantities of synthetic drugs to be manufactured by each of the establishments referred to<br>in the preceding subparagraph.",
           "controled substances"
          ],
          [
           "Preservation of DEA Forms 222. [...]  (c) DEA Forms 222 must be maintained separately from all other<br>records of the registrant. DEA Forms 222 are required to be kept available for inspection for a<br>period of two years. If a purchaser has several registered locations, the purchaser must retain a<br>copy of the executed DEA Form 222 and any attached statements or other related documents [...]",
           "controled substances"
          ],
          [
           "Records […]  1. The Parties shall require that, in respect of substances in Schedule I, manufactures<br>and all other persons authorized under article 7 to trade in and distribute those substances keep<br>records, as may be determined by each Party, showing details of the quantities manufactured, the<br>quantities held in stock, and, for each acquisition and disposal, details of the quantity, date,<br>supplier and recipient. 2. The Parties shall require that, in respect of substances in Schedules II<br>and III, manufacturers, wholesale distributors, exporters and importers keep records, as may be<br>determined by each Party, showing details of the quantities manufactured and, for each acquisition<br>and disposal, details of the quantity, date, supplier and recipient.",
           "controled substances"
          ],
          [
           "Persons required to register [...]  (a) Unless exempted by law [...], the following persons must<br>annually obtain a registration specific to the List I chemicals to be handled: (1) Every person who<br>manufactures or imports or proposes to manufacture or import a List I chemical or a drug product<br>containing ephedrine, pseudoephedrine, or phenylpropanolamine. (2) Every person who distributes or<br>exports or proposes to distribute or export any List I chemical, [...]",
           "controled substances"
          ],
          [
           "Manufacture [...] 1. The Parties shall require that the manufacture of drugs be under licence except<br>where such manufacture is carried out by a State enterprise or State enterprises. 2. The Parties<br>shall: (a) Control all persons and enterprises carrying on or engaged in the manufacture of drugs;<br>(b) Control under licence the establishments and premises in which such manufacture may take place;<br>and (c) Require that licensed manufacturers of drugs obtain periodical permits specifying the kinds<br>and amounts of drugs which they shall be entitled to manufacture. A periodical permit, hoewever,<br>need not be required for preparations. 3. The Parties shall prevent the accumulation, in the<br>possession of drug manufacturers, of quantities of drugs and poppy straw in excess of those required<br>for the normal conduct of business, having regard to the prevailing market conditions",
           "controled substances"
          ],
          [
           "Licenses […]  2. The Parties shall: […]  (c) Provide that security measures be taken with regard to<br>such establishments and premises in order to prevent theft or other diversion of stocks.",
           "controled substances"
          ],
          [
           "Security Requirements generally [...]  (a) All applicants and registrants shall provide effective<br>controls and procedures to guard against theft and diversion of controlled substances... (b)<br>Substantial compliance with the standards set forth in Secs. 1301.72-1301.76 may be deemed<br>sufficient by the Administrator after evaluation of the overall security system and needs of the<br>applicant or registrant. In evaluating the overall security system of a registrant or applicant, the<br>Administrator may consider any of the following factors as he may deem relevant to the need for<br>strict compliance with security requirements: (1) The type of activity conducted (e.g., processing<br>of bulk chemicals, preparing dosage forms, packaging, labeling, cooperative buying, etc.); (2) The<br>type and form of controlled substances handled (e.g., bulk liquids or dosage units, usable powders<br>or nonusable powders); (3) The quantity of controlled substances handled; (4) The location of the<br>premises and the relationship such location bears on security needs; (5) The type of building<br>construction comprising the facility and the general characteristics of the building or buildings;<br>(6) The type of vault, safe, and secure enclosures or other storage system (e.g., automatic storage<br>and retrieval system) used; (7) The type of closures on vaults, safes, and secure enclosures; (8)<br>The adequacy of key control systems and/or combination lock control systems; (9) The adequacy of<br>electric detection and alarm systems, if any including use of supervised transmittal lines and<br>standby power sources; (10) The extent of unsupervised public access to the facility, including the<br>presence and characteristics of perimeter fencing, if any; (11) The adequacy of supervision over<br>employees having access to manufacturing and storage areas; (12) The procedures for handling<br>business guests, visitors, maintenance personnel, and nonemployee service personnel; (13) The<br>availability of local police protection or of the registrant's or applicant's security personnel;<br>(14) The adequacy of the registrant's or applicant's system for monitoring the receipt, manufacture,<br>distribution, and disposition of controlled substances in its operations; and (15) The applicability<br>of the security requirements contained in all Federal, State, and local laws and regulations<br>governing the management of waste. (15) The applicability of the security requirements contained in<br>all Federal, State, and local laws and regulations governing the management of waste.",
           "controled substances"
          ],
          [
           "Other security controls for non-practitioners; narcotic treatment programs and compounders for<br>narcotic treatment programs. [...]  (c) The registrant must notify the Field Division Office of the<br>Administration in his or her area, in writing, of any theft or significant loss of any controlled<br>substances within one business day of discovery of the theft or loss. [...]",
           "controled substances"
          ],
          [
           "Requirement of authorization to import [...]  No person shall import, or cause to be imported, into<br>the customs territory of the United States from any place outside thereof (but within the United<br>States), or into the United States from any place outside thereof, any controlled substances listed<br>in Schedule I or II, or any narcotic controlled substance listed in Schedule III, IV, or V, or any<br>non-narcotic controlled substance listed in Schedule III which the Administrator has specifically<br>designated by regulation in §1312.30 or any non-narcotic controlled substance listed in Schedule IV<br>or V which is also listed in Schedule I or II of the Convention on Psychotropic Substances, 1971,<br>unless and until such person is properly registered under the Act (or, in accordance with part 1301<br>of this chapter, exempt from registration) and the Administration has issued him or her a permit to<br>do so in accordance with §1312.13.",
           "controled substances"
          ],
          [
           "Sources of information for employee checks.  DEA recommends that inquiries concerning employees'<br>criminal records be made as follows: Local inquiries. Inquiries should be made by name, date and<br>place of birth, and other identifying information, to local courts and law enforcement agencies for<br>records of pending charges and convictions. Local practice may require such inquiries to be made in<br>person, rather than by mail, and a copy of an authorization from the employee may be required by<br>certain law enforcement agencies. DEA inquiries. Inquiries supplying identifying information should<br>also be furnished to DEA Field Division Offices along with written consent from the concerned<br>individual for a check of DEA files for records of convictions. The Regional check will result in a<br>national check being made by the Field Division Office.",
           "controled substances"
          ],
          [
           "Special Provistions Relating to International Trade [...]  1. The Parties shall not knowingly permit<br>the export of drugs to any country or territory except: (a) In accordance with the laws and<br>regulations of that country or territory; and (b) Within the limits of the total of the estimates<br>for that country or territory, as defined in paragraph 2 of article 19, with the addition of the<br>amounts intended to be re-exported. 2. The Parties shall exercise in free ports and zones the same<br>supervision and control as in other parts of their territories, provided, however, that they may<br>apply more drastic measures. 3. The Parties shall: (a) Control under licence the import and export<br>of drugs except where such import or export is carried out by a State enterprise or enterprises; (b)<br>Control all persons and enterprises carrying on or engaged in such import or export. 4. (a) Every<br>Party permitting the import or export of drugs shall require a separate import or export<br>authorization to be obtained for each such import or export whether it consists of one or more<br>drugs.",
           "controled substances"
          ],
          [
           "Definitions […] The term \"controlled substance\" means a drug or other substance, or immediate<br>precursor, included in schedule I, II, III, IV, or V of part B of this subchapter.",
           "controled substances"
          ],
          [
           "Measures of supervision and Inspection [...] The parties shall require: (b) That governmental<br>authorities, manufacturers, traders, scientists, scientific institutions and hospitals keep such<br>records as will show the quantities of each drug manufactured and of each individual acquisition and<br>disposal of drugs. Such records shall respectively be preserved for a period of not less than two<br>years. Where counterfoil books (article 30, paragraph 2 (b)) of official prescriptions are used,<br>such books including the counterfoils shall also be kept for a period of not less than two years.",
           "controled substances"
          ],
          [
           "Transportation […] Products requiring special conditions […] In relation to deliveries containing<br>medicinal products requiring special conditions such as narcotics or psychotropic substances, the<br>wholesale distributor should maintain a safe and secure supply chain for these products in<br>accordance with requirements laid down by the Member States concerned. There should be additional<br>control systems in place for delivery of these products. There should be a protocol to address the<br>occurrence of any theft.",
           "controled substances"
          ],
          [
           "Inventory requirements [...]  (a) General requirements. Each inventory shall contain a complete and<br>accurate record of all controlled substances on hand on the date the inventory is taken, and shall<br>be maintained in written, typewritten, or printed form at the registered location. [...] (c)<br>Biennial inventory date. After the initial inventory is taken, the registrant shall take a new<br>inventory of all stocks of controlled substances on hand at least every two years. The biennial<br>inventory may be taken on any date which is within two years of the previous biennial inventory<br>date.",
           "controled substances"
          ],
          [
           "Aggregate production quotas [...]  (a) The Administrator shall determine the total quantity of each<br>basic class of controlled substance listed in Schedule I or II necessary to be manufactured during<br>the following calendar year to provide for the estimated medical, scientific, research and<br>industrial needs of the United States, for lawful export requirements, and for the establishment and<br>maintenance of reserve stocks.",
           "controled substances"
          ],
          [
           "Other security controls for non-practitioners; narcotic treatment programs and compounders for<br>narcotic treatment programs. [...]  (b) The registrant shall design and operate a system to disclose<br>to the registrant suspicious orders of controlled substances. The registrant shall inform the Field<br>Division Office of the Administration in his area of suspicious orders when discovered by the<br>registrant. Suspicious orders include orders of unusual size, orders deviating substantially from a<br>normal pattern, and orders of unusual frequency.",
           "controled substances"
          ],
          [
           "Physical security controls for non-practitioners; narcotic treatment programs and compounders for<br>narcotic treatment programs; storage areas. [...]  (a) Schedules I and II. Raw material, bulk<br>materials awaiting further processing, finished products which are controlled substances listed in<br>Schedule I or II (except GHB that is manufactured or distributed in accordance with an exemption<br>under section 505(i) of the Federal Food Drug and Cosmetic Act which shall be subject to the<br>requirements of paragraph (b) of this section), and sealed mail-back packages and inner liners<br>acquired in accordance with part 1317 of this chapter, shall be stored in the following secured<br>areas [...] (b) Schedules III, IV and V. Raw material, bulk materials awaiting further processing,<br>and finished products which are controlled substances listed in Schedules III, IV, and V, and GHB<br>when it is manufactured or distributed in accordance with an exemption under section 505(i) of the<br>FFDCA, shall be stored in the following secure storage areas: [...] (c) Multiple storage areas.<br>Where several types or classes of controlled substances are handled separately by the registrant or<br>applicant for different purposes (e.g., returned goods, or goods in process), the controlled<br>substances may be stored separately, provided that each storage area complies with the requirements<br>set forth in this section.",
           "controled substances"
          ],
          [
           "Administration of the Estimate System [...]  1. The Board shall fix the date or dates by which, and<br>the manner in which, the estimates as provided in article 19 shall be furnished and shall prescribe<br>the forms therefor. 2. The Board shall, in respect of countries and territories to which this<br>Convention does not apply, request the Governments concerned to furnish estimates in accordance with<br>the provisions of this Convention. 3. If any State fails to furnish estimates in respect of any of<br>its territories by the date specified, the Board shall, as far as possible, establish the estimates.<br>The Board in establishing such estimates shall to the extent practicable do so in co-operation with<br>the Government concerned.",
           "controled substances"
          ],
          [
           "Trade and Distribution [...]  1. (a) The Parties shall require that the trade in and distribution of<br>drugs be under licence except where such trade or distribution is carried out by a State enterprise<br>or State enterprises. (b) The Parties shall: (i) Control all persons and enterprises carrying on or<br>engaged in the trade in or distribution of drugs; (ii) Control under licence the establishments and<br>premises in which such trade or distribution may take place. The requirement of licensing need not<br>apply to preparations. (c) The provisions of subparagraphs (a) and (b) relating to licensing need<br>not apply to persons duly authorized to perform and while performing therapeutic or scientific<br>functions.",
           "controled substances"
          ],
          [
           "Employee screening procedures [...]  It is the position of DEA that the obtaining of certain<br>information by non-practitioners is vital to fairly assess the likelihood of an employee committing<br>a drug security breach. The need to know this information is a matter of business necessity,<br>essential to overall controlled substances security. In this regard, it is believed that conviction<br>of crimes and unauthorized use of controlled substances are activities that are proper subjects for<br>inquiry. [...]",
           "controled substances"
          ],
          [
           "Materials and Equipment […]  The Parties shall take such measures as they deem appropriate to<br>prevent trade in and the diversion of materials and equipment for illicit production or manufacture<br>of narcotic drugs and psychotropic substances and shall co-operate to this end.",
           "controled substances"
          ],
          [
           "Any term used in this part shall have the definition set forth in section 102 of the Act (21 U.S.C.<br>802) or part 1300 of this chapter. [62 FR 13945, Mar. 24, 1997]",
           "controled substances"
          ],
          [
           "Persons required to register; requirement of modification of registration authorizing activity as an<br>online pharmacy [...]  (a) Every person who manufactures, distributes, dispenses, imports, or<br>exports any controlled substance or who proposes to engage in the manufacture, distribution,<br>dispensing, importation or exportation of any controlled substance shall obtain a registration<br>unless exempted by law or pursuant to §§1301.22 through 1301.26.  [...]",
           "controled substances"
          ],
          [
           "Security requirements generally [...]  (c) When physical security controls become inadequate as a<br>result of a controlled substance being transferred to a different schedule, or as a result of a<br>noncontrolled substance being listed on any schedule, or as a result of a significant increase in<br>the quantity of controlled substances in the possession of the registrant during normal business<br>operations, the physical security controls shall be expanded and extended accordingly. [...]",
           "controled substances"
          ],
          [
           "Requirement of authorization to export [...]  No person shall in any manner export, or cause to be<br>exported, from the United States any controlled substance listed in Schedule I or II, or any<br>narcotic controlled substance listed in Schedule III or IV, or any non-narcotic controlled substance<br>in Schedule III which the Administrator has specifically designated by regulation in §1312.30 or any<br>non-narcotic controlled substance in Schedule IV or V which is also listed in Schedule I or II of<br>the Convention on Psychotropic Substances, 1971, unless and until such person is properly registered<br>under the Act (or, in accordance with part 1301 of this chapter, exempt from registration) and the<br>Administrator has issued him or her a permit to do so in accordance with §1312.23.",
           "controled substances"
          ]
         ],
         "hovertemplate": "Standard mapping?=%{customdata[1]}<br>reduced_x=%{x}<br>reduced_y=%{y}<br>Original Text=%{customdata[0]}<br>Assigned Cluster=%{marker.color}<extra></extra>",
         "legendgroup": "controled substances",
         "marker": {
          "color": [
           -1,
           1,
           0,
           1,
           -1,
           -1,
           -1,
           -1,
           -1,
           -1,
           0,
           -1,
           -1,
           -1,
           -1,
           -1,
           0,
           -1,
           -1,
           5,
           5,
           -1,
           -1,
           1,
           2,
           -1,
           -1,
           -1,
           1,
           -1,
           2,
           -1,
           -1,
           -1,
           1,
           5,
           -1,
           -1,
           -1,
           2,
           0,
           -1,
           -1,
           1,
           -1,
           1
          ],
          "coloraxis": "coloraxis",
          "symbol": "square"
         },
         "mode": "markers",
         "name": "controled substances",
         "orientation": "v",
         "showlegend": true,
         "type": "scatter",
         "x": [
          -12.771442413330078,
          -14.660223960876465,
          -12.582392692565918,
          -12.750182151794434,
          -22.657211303710938,
          -12.526934623718262,
          -21.02416229248047,
          -19.335376739501953,
          -6.74031925201416,
          -22.31690788269043,
          -11.851531982421875,
          10.41429328918457,
          -14.337186813354492,
          -16.944189071655273,
          -12.680279731750488,
          -13.489374160766602,
          -11.880962371826172,
          -9.946471214294434,
          -18.80801773071289,
          -21.202260971069336,
          -22.21623420715332,
          -17.34633445739746,
          -19.146738052368164,
          -15.359578132629395,
          -17.600643157958984,
          -17.122486114501953,
          -6.898377895355225,
          -10.436263084411621,
          -15.708259582519531,
          -10.390605926513672,
          -17.907489776611328,
          -20.727598190307617,
          -18.197431564331055,
          9.93990707397461,
          -17.441267013549805,
          -21.175872802734375,
          -10.322633743286133,
          -9.809160232543945,
          -23.630325317382812,
          -17.399938583374023,
          -11.314136505126953,
          -17.455883026123047,
          -21.239023208618164,
          -14.788450241088867,
          -9.103290557861328,
          -15.660089492797852
         ],
         "xaxis": "x",
         "y": [
          11.397696495056152,
          15.689519882202148,
          6.428985595703125,
          16.614795684814453,
          13.28201961517334,
          10.471318244934082,
          8.884041786193848,
          10.598087310791016,
          10.247899055480957,
          12.187704086303711,
          5.551315784454346,
          -5.22689962387085,
          12.52929401397705,
          17.305034637451172,
          16.661252975463867,
          13.857906341552734,
          5.5342793464660645,
          10.444375038146973,
          11.683879852294922,
          10.721097946166992,
          11.791598320007324,
          16.732946395874023,
          13.19502067565918,
          14.367101669311523,
          9.591672897338867,
          6.829771518707275,
          10.322206497192383,
          13.274508476257324,
          12.15212631225586,
          7.1782636642456055,
          10.498064994812012,
          6.916003227233887,
          15.268927574157715,
          -4.8669657707214355,
          15.335896492004395,
          9.098380088806152,
          13.154836654663086,
          10.635808944702148,
          13.164767265319824,
          9.682595252990723,
          6.526825904846191,
          7.699977397918701,
          5.901925086975098,
          13.911373138427734,
          12.037105560302734,
          12.143726348876953
         ],
         "yaxis": "y"
        }
       ],
       "layout": {
        "coloraxis": {
         "colorbar": {
          "title": {
           "text": "Assigned Cluster"
          }
         },
         "colorscale": [
          [
           0,
           "#0d0887"
          ],
          [
           0.1111111111111111,
           "#46039f"
          ],
          [
           0.2222222222222222,
           "#7201a8"
          ],
          [
           0.3333333333333333,
           "#9c179e"
          ],
          [
           0.4444444444444444,
           "#bd3786"
          ],
          [
           0.5555555555555556,
           "#d8576b"
          ],
          [
           0.6666666666666666,
           "#ed7953"
          ],
          [
           0.7777777777777778,
           "#fb9f3a"
          ],
          [
           0.8888888888888888,
           "#fdca26"
          ],
          [
           1,
           "#f0f921"
          ]
         ]
        },
        "legend": {
         "orientation": "h",
         "title": {
          "text": "Standard mapping?"
         },
         "tracegroupgap": 0
        },
        "template": {
         "data": {
          "bar": [
           {
            "error_x": {
             "color": "#2a3f5f"
            },
            "error_y": {
             "color": "#2a3f5f"
            },
            "marker": {
             "line": {
              "color": "#E5ECF6",
              "width": 0.5
             },
             "pattern": {
              "fillmode": "overlay",
              "size": 10,
              "solidity": 0.2
             }
            },
            "type": "bar"
           }
          ],
          "barpolar": [
           {
            "marker": {
             "line": {
              "color": "#E5ECF6",
              "width": 0.5
             },
             "pattern": {
              "fillmode": "overlay",
              "size": 10,
              "solidity": 0.2
             }
            },
            "type": "barpolar"
           }
          ],
          "carpet": [
           {
            "aaxis": {
             "endlinecolor": "#2a3f5f",
             "gridcolor": "white",
             "linecolor": "white",
             "minorgridcolor": "white",
             "startlinecolor": "#2a3f5f"
            },
            "baxis": {
             "endlinecolor": "#2a3f5f",
             "gridcolor": "white",
             "linecolor": "white",
             "minorgridcolor": "white",
             "startlinecolor": "#2a3f5f"
            },
            "type": "carpet"
           }
          ],
          "choropleth": [
           {
            "colorbar": {
             "outlinewidth": 0,
             "ticks": ""
            },
            "type": "choropleth"
           }
          ],
          "contour": [
           {
            "colorbar": {
             "outlinewidth": 0,
             "ticks": ""
            },
            "colorscale": [
             [
              0,
              "#0d0887"
             ],
             [
              0.1111111111111111,
              "#46039f"
             ],
             [
              0.2222222222222222,
              "#7201a8"
             ],
             [
              0.3333333333333333,
              "#9c179e"
             ],
             [
              0.4444444444444444,
              "#bd3786"
             ],
             [
              0.5555555555555556,
              "#d8576b"
             ],
             [
              0.6666666666666666,
              "#ed7953"
             ],
             [
              0.7777777777777778,
              "#fb9f3a"
             ],
             [
              0.8888888888888888,
              "#fdca26"
             ],
             [
              1,
              "#f0f921"
             ]
            ],
            "type": "contour"
           }
          ],
          "contourcarpet": [
           {
            "colorbar": {
             "outlinewidth": 0,
             "ticks": ""
            },
            "type": "contourcarpet"
           }
          ],
          "heatmap": [
           {
            "colorbar": {
             "outlinewidth": 0,
             "ticks": ""
            },
            "colorscale": [
             [
              0,
              "#0d0887"
             ],
             [
              0.1111111111111111,
              "#46039f"
             ],
             [
              0.2222222222222222,
              "#7201a8"
             ],
             [
              0.3333333333333333,
              "#9c179e"
             ],
             [
              0.4444444444444444,
              "#bd3786"
             ],
             [
              0.5555555555555556,
              "#d8576b"
             ],
             [
              0.6666666666666666,
              "#ed7953"
             ],
             [
              0.7777777777777778,
              "#fb9f3a"
             ],
             [
              0.8888888888888888,
              "#fdca26"
             ],
             [
              1,
              "#f0f921"
             ]
            ],
            "type": "heatmap"
           }
          ],
          "heatmapgl": [
           {
            "colorbar": {
             "outlinewidth": 0,
             "ticks": ""
            },
            "colorscale": [
             [
              0,
              "#0d0887"
             ],
             [
              0.1111111111111111,
              "#46039f"
             ],
             [
              0.2222222222222222,
              "#7201a8"
             ],
             [
              0.3333333333333333,
              "#9c179e"
             ],
             [
              0.4444444444444444,
              "#bd3786"
             ],
             [
              0.5555555555555556,
              "#d8576b"
             ],
             [
              0.6666666666666666,
              "#ed7953"
             ],
             [
              0.7777777777777778,
              "#fb9f3a"
             ],
             [
              0.8888888888888888,
              "#fdca26"
             ],
             [
              1,
              "#f0f921"
             ]
            ],
            "type": "heatmapgl"
           }
          ],
          "histogram": [
           {
            "marker": {
             "pattern": {
              "fillmode": "overlay",
              "size": 10,
              "solidity": 0.2
             }
            },
            "type": "histogram"
           }
          ],
          "histogram2d": [
           {
            "colorbar": {
             "outlinewidth": 0,
             "ticks": ""
            },
            "colorscale": [
             [
              0,
              "#0d0887"
             ],
             [
              0.1111111111111111,
              "#46039f"
             ],
             [
              0.2222222222222222,
              "#7201a8"
             ],
             [
              0.3333333333333333,
              "#9c179e"
             ],
             [
              0.4444444444444444,
              "#bd3786"
             ],
             [
              0.5555555555555556,
              "#d8576b"
             ],
             [
              0.6666666666666666,
              "#ed7953"
             ],
             [
              0.7777777777777778,
              "#fb9f3a"
             ],
             [
              0.8888888888888888,
              "#fdca26"
             ],
             [
              1,
              "#f0f921"
             ]
            ],
            "type": "histogram2d"
           }
          ],
          "histogram2dcontour": [
           {
            "colorbar": {
             "outlinewidth": 0,
             "ticks": ""
            },
            "colorscale": [
             [
              0,
              "#0d0887"
             ],
             [
              0.1111111111111111,
              "#46039f"
             ],
             [
              0.2222222222222222,
              "#7201a8"
             ],
             [
              0.3333333333333333,
              "#9c179e"
             ],
             [
              0.4444444444444444,
              "#bd3786"
             ],
             [
              0.5555555555555556,
              "#d8576b"
             ],
             [
              0.6666666666666666,
              "#ed7953"
             ],
             [
              0.7777777777777778,
              "#fb9f3a"
             ],
             [
              0.8888888888888888,
              "#fdca26"
             ],
             [
              1,
              "#f0f921"
             ]
            ],
            "type": "histogram2dcontour"
           }
          ],
          "mesh3d": [
           {
            "colorbar": {
             "outlinewidth": 0,
             "ticks": ""
            },
            "type": "mesh3d"
           }
          ],
          "parcoords": [
           {
            "line": {
             "colorbar": {
              "outlinewidth": 0,
              "ticks": ""
             }
            },
            "type": "parcoords"
           }
          ],
          "pie": [
           {
            "automargin": true,
            "type": "pie"
           }
          ],
          "scatter": [
           {
            "fillpattern": {
             "fillmode": "overlay",
             "size": 10,
             "solidity": 0.2
            },
            "type": "scatter"
           }
          ],
          "scatter3d": [
           {
            "line": {
             "colorbar": {
              "outlinewidth": 0,
              "ticks": ""
             }
            },
            "marker": {
             "colorbar": {
              "outlinewidth": 0,
              "ticks": ""
             }
            },
            "type": "scatter3d"
           }
          ],
          "scattercarpet": [
           {
            "marker": {
             "colorbar": {
              "outlinewidth": 0,
              "ticks": ""
             }
            },
            "type": "scattercarpet"
           }
          ],
          "scattergeo": [
           {
            "marker": {
             "colorbar": {
              "outlinewidth": 0,
              "ticks": ""
             }
            },
            "type": "scattergeo"
           }
          ],
          "scattergl": [
           {
            "marker": {
             "colorbar": {
              "outlinewidth": 0,
              "ticks": ""
             }
            },
            "type": "scattergl"
           }
          ],
          "scattermapbox": [
           {
            "marker": {
             "colorbar": {
              "outlinewidth": 0,
              "ticks": ""
             }
            },
            "type": "scattermapbox"
           }
          ],
          "scatterpolar": [
           {
            "marker": {
             "colorbar": {
              "outlinewidth": 0,
              "ticks": ""
             }
            },
            "type": "scatterpolar"
           }
          ],
          "scatterpolargl": [
           {
            "marker": {
             "colorbar": {
              "outlinewidth": 0,
              "ticks": ""
             }
            },
            "type": "scatterpolargl"
           }
          ],
          "scatterternary": [
           {
            "marker": {
             "colorbar": {
              "outlinewidth": 0,
              "ticks": ""
             }
            },
            "type": "scatterternary"
           }
          ],
          "surface": [
           {
            "colorbar": {
             "outlinewidth": 0,
             "ticks": ""
            },
            "colorscale": [
             [
              0,
              "#0d0887"
             ],
             [
              0.1111111111111111,
              "#46039f"
             ],
             [
              0.2222222222222222,
              "#7201a8"
             ],
             [
              0.3333333333333333,
              "#9c179e"
             ],
             [
              0.4444444444444444,
              "#bd3786"
             ],
             [
              0.5555555555555556,
              "#d8576b"
             ],
             [
              0.6666666666666666,
              "#ed7953"
             ],
             [
              0.7777777777777778,
              "#fb9f3a"
             ],
             [
              0.8888888888888888,
              "#fdca26"
             ],
             [
              1,
              "#f0f921"
             ]
            ],
            "type": "surface"
           }
          ],
          "table": [
           {
            "cells": {
             "fill": {
              "color": "#EBF0F8"
             },
             "line": {
              "color": "white"
             }
            },
            "header": {
             "fill": {
              "color": "#C8D4E3"
             },
             "line": {
              "color": "white"
             }
            },
            "type": "table"
           }
          ]
         },
         "layout": {
          "annotationdefaults": {
           "arrowcolor": "#2a3f5f",
           "arrowhead": 0,
           "arrowwidth": 1
          },
          "autotypenumbers": "strict",
          "coloraxis": {
           "colorbar": {
            "outlinewidth": 0,
            "ticks": ""
           }
          },
          "colorscale": {
           "diverging": [
            [
             0,
             "#8e0152"
            ],
            [
             0.1,
             "#c51b7d"
            ],
            [
             0.2,
             "#de77ae"
            ],
            [
             0.3,
             "#f1b6da"
            ],
            [
             0.4,
             "#fde0ef"
            ],
            [
             0.5,
             "#f7f7f7"
            ],
            [
             0.6,
             "#e6f5d0"
            ],
            [
             0.7,
             "#b8e186"
            ],
            [
             0.8,
             "#7fbc41"
            ],
            [
             0.9,
             "#4d9221"
            ],
            [
             1,
             "#276419"
            ]
           ],
           "sequential": [
            [
             0,
             "#0d0887"
            ],
            [
             0.1111111111111111,
             "#46039f"
            ],
            [
             0.2222222222222222,
             "#7201a8"
            ],
            [
             0.3333333333333333,
             "#9c179e"
            ],
            [
             0.4444444444444444,
             "#bd3786"
            ],
            [
             0.5555555555555556,
             "#d8576b"
            ],
            [
             0.6666666666666666,
             "#ed7953"
            ],
            [
             0.7777777777777778,
             "#fb9f3a"
            ],
            [
             0.8888888888888888,
             "#fdca26"
            ],
            [
             1,
             "#f0f921"
            ]
           ],
           "sequentialminus": [
            [
             0,
             "#0d0887"
            ],
            [
             0.1111111111111111,
             "#46039f"
            ],
            [
             0.2222222222222222,
             "#7201a8"
            ],
            [
             0.3333333333333333,
             "#9c179e"
            ],
            [
             0.4444444444444444,
             "#bd3786"
            ],
            [
             0.5555555555555556,
             "#d8576b"
            ],
            [
             0.6666666666666666,
             "#ed7953"
            ],
            [
             0.7777777777777778,
             "#fb9f3a"
            ],
            [
             0.8888888888888888,
             "#fdca26"
            ],
            [
             1,
             "#f0f921"
            ]
           ]
          },
          "colorway": [
           "#636efa",
           "#EF553B",
           "#00cc96",
           "#ab63fa",
           "#FFA15A",
           "#19d3f3",
           "#FF6692",
           "#B6E880",
           "#FF97FF",
           "#FECB52"
          ],
          "font": {
           "color": "#2a3f5f"
          },
          "geo": {
           "bgcolor": "white",
           "lakecolor": "white",
           "landcolor": "#E5ECF6",
           "showlakes": true,
           "showland": true,
           "subunitcolor": "white"
          },
          "hoverlabel": {
           "align": "left"
          },
          "hovermode": "closest",
          "mapbox": {
           "style": "light"
          },
          "paper_bgcolor": "white",
          "plot_bgcolor": "#E5ECF6",
          "polar": {
           "angularaxis": {
            "gridcolor": "white",
            "linecolor": "white",
            "ticks": ""
           },
           "bgcolor": "#E5ECF6",
           "radialaxis": {
            "gridcolor": "white",
            "linecolor": "white",
            "ticks": ""
           }
          },
          "scene": {
           "xaxis": {
            "backgroundcolor": "#E5ECF6",
            "gridcolor": "white",
            "gridwidth": 2,
            "linecolor": "white",
            "showbackground": true,
            "ticks": "",
            "zerolinecolor": "white"
           },
           "yaxis": {
            "backgroundcolor": "#E5ECF6",
            "gridcolor": "white",
            "gridwidth": 2,
            "linecolor": "white",
            "showbackground": true,
            "ticks": "",
            "zerolinecolor": "white"
           },
           "zaxis": {
            "backgroundcolor": "#E5ECF6",
            "gridcolor": "white",
            "gridwidth": 2,
            "linecolor": "white",
            "showbackground": true,
            "ticks": "",
            "zerolinecolor": "white"
           }
          },
          "shapedefaults": {
           "line": {
            "color": "#2a3f5f"
           }
          },
          "ternary": {
           "aaxis": {
            "gridcolor": "white",
            "linecolor": "white",
            "ticks": ""
           },
           "baxis": {
            "gridcolor": "white",
            "linecolor": "white",
            "ticks": ""
           },
           "bgcolor": "#E5ECF6",
           "caxis": {
            "gridcolor": "white",
            "linecolor": "white",
            "ticks": ""
           }
          },
          "title": {
           "x": 0.05
          },
          "xaxis": {
           "automargin": true,
           "gridcolor": "white",
           "linecolor": "white",
           "ticks": "",
           "title": {
            "standoff": 15
           },
           "zerolinecolor": "white",
           "zerolinewidth": 2
          },
          "yaxis": {
           "automargin": true,
           "gridcolor": "white",
           "linecolor": "white",
           "ticks": "",
           "title": {
            "standoff": 15
           },
           "zerolinecolor": "white",
           "zerolinewidth": 2
          }
         }
        },
        "title": {
         "text": "Ada - HDBSCAN and TSNE"
        },
        "uniformtext": {
         "mode": "hide"
        },
        "xaxis": {
         "anchor": "y",
         "domain": [
          0,
          1
         ],
         "title": {
          "text": "reduced_x"
         }
        },
        "yaxis": {
         "anchor": "x",
         "domain": [
          0,
          1
         ],
         "title": {
          "text": "reduced_y"
         }
        }
       }
      }
     },
     "metadata": {},
     "output_type": "display_data"
    }
   ],
   "source": [
    "embeddings_df[CLUSTER] = clusters.labels_\n",
    "\n",
    "fig = px.scatter(\n",
    "    embeddings_df,\n",
    "    y=REDUCED_DIMS[1],\n",
    "    x=REDUCED_DIMS[0],\n",
    "    color=CLUSTER,\n",
    "    symbol=TARGET,\n",
    "    hover_data=[ORIGINAL_TEXT, TARGET],\n",
    "    title=\"Ada - HDBSCAN and TSNE\"\n",
    ")\n",
    "fig.update_layout(uniformtext_mode=\"hide\")\n",
    "fig.update_layout(legend_orientation=\"h\")\n",
    "fig.show()"
   ]
  }
 ],
 "metadata": {
  "kernelspec": {
   "display_name": "Python 3.9.13 ('capstone')",
   "language": "python",
   "name": "python3"
  },
  "language_info": {
   "codemirror_mode": {
    "name": "ipython",
    "version": 3
   },
   "file_extension": ".py",
   "mimetype": "text/x-python",
   "name": "python",
   "nbconvert_exporter": "python",
   "pygments_lexer": "ipython3",
   "version": "3.9.13"
  },
  "orig_nbformat": 4,
  "vscode": {
   "interpreter": {
    "hash": "ee1a7fc9c2398deab6680f494ca0525dc0a0c65e86127a532db75e551d9f860a"
   }
  }
 },
 "nbformat": 4,
 "nbformat_minor": 2
}
