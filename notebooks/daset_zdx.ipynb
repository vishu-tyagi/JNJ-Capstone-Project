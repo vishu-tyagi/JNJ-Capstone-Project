{
 "cells": [
  {
   "cell_type": "code",
   "execution_count": 147,
   "metadata": {},
   "outputs": [],
   "source": [
    "import os\n",
    "from pathlib import Path\n",
    "import logging\n",
    "import itertools\n",
    "\n",
    "import numpy as np\n",
    "import pandas as pd\n",
    "import matplotlib\n",
    "import matplotlib.pyplot as plt\n",
    "import seaborn as sns\n",
    "\n",
    "import nltk\n",
    "from nltk.tokenize import word_tokenize\n",
    "from nltk.stem import WordNetLemmatizer, PorterStemmer\n",
    "from sklearn.preprocessing import MultiLabelBinarizer\n",
    "from sklearn.feature_extraction.text import CountVectorizer\n",
    "\n",
    "from capstone.config import CapstoneConfig\n",
    "from capstone.data_access import DataClass\n",
    "\n",
    "PARENT_PATH = Path(os.getcwd()).parent.absolute()\n",
    "FORMAT = \"%(asctime)s - %(name)s - %(levelname)s - %(message)s\"\n",
    "logging.basicConfig(format=FORMAT, level=logging.INFO)\n",
    "\n",
    "\n",
    "config = CapstoneConfig()\n",
    "config.CURRENT_PATH = PARENT_PATH\n",
    "data = DataClass(config)"
   ]
  },
  {
   "cell_type": "code",
   "execution_count": 148,
   "metadata": {},
   "outputs": [
    {
     "data": {
      "text/html": [
       "<div>\n",
       "<style scoped>\n",
       "    .dataframe tbody tr th:only-of-type {\n",
       "        vertical-align: middle;\n",
       "    }\n",
       "\n",
       "    .dataframe tbody tr th {\n",
       "        vertical-align: top;\n",
       "    }\n",
       "\n",
       "    .dataframe thead th {\n",
       "        text-align: right;\n",
       "    }\n",
       "</style>\n",
       "<table border=\"1\" class=\"dataframe\">\n",
       "  <thead>\n",
       "    <tr style=\"text-align: right;\">\n",
       "      <th></th>\n",
       "      <th>id</th>\n",
       "      <th>Regulation</th>\n",
       "      <th>Title / Chapter / Sub part</th>\n",
       "      <th>Chapter / Section</th>\n",
       "      <th>Article / Paragraph</th>\n",
       "      <th>Text</th>\n",
       "      <th>Date</th>\n",
       "      <th>Product Type</th>\n",
       "      <th>GxP</th>\n",
       "      <th>Regulatory Requirement Type</th>\n",
       "      <th>Full article reference</th>\n",
       "      <th>Mapped to a standard?</th>\n",
       "      <th>Standard mapping?</th>\n",
       "    </tr>\n",
       "  </thead>\n",
       "  <tbody>\n",
       "    <tr>\n",
       "      <th>0</th>\n",
       "      <td>1</td>\n",
       "      <td>Brazil ANVISA GMP MD</td>\n",
       "      <td>Chapter 2 General Quality System Requirements</td>\n",
       "      <td>2.1. General Provisions</td>\n",
       "      <td>2.1.1</td>\n",
       "      <td>General Quality System Requirements […] Genera...</td>\n",
       "      <td>2013-03-28 00:00:00</td>\n",
       "      <td>Medical Device</td>\n",
       "      <td>GMP</td>\n",
       "      <td>Core</td>\n",
       "      <td>Brazil ANVISA GMP MD 2.1.1</td>\n",
       "      <td>Mapped to a standard</td>\n",
       "      <td>Regulatory Standards Management</td>\n",
       "    </tr>\n",
       "    <tr>\n",
       "      <th>1</th>\n",
       "      <td>2</td>\n",
       "      <td>Brazil ANVISA GMP MD</td>\n",
       "      <td>Chapter 2 General Quality System Requirements</td>\n",
       "      <td>2.2. Management responsibility</td>\n",
       "      <td>2.2.1</td>\n",
       "      <td>General Quality System Requirements […] Manage...</td>\n",
       "      <td>2013-03-28 00:00:00</td>\n",
       "      <td>Medical Device</td>\n",
       "      <td>GMP</td>\n",
       "      <td>Core</td>\n",
       "      <td>Brazil ANVISA GMP MD 2.2.1</td>\n",
       "      <td>Mapped to a standard</td>\n",
       "      <td>Quality Planning, \\nQuality Management</td>\n",
       "    </tr>\n",
       "  </tbody>\n",
       "</table>\n",
       "</div>"
      ],
      "text/plain": [
       "   id            Regulation                     Title / Chapter / Sub part  \\\n",
       "0   1  Brazil ANVISA GMP MD  Chapter 2 General Quality System Requirements   \n",
       "1   2  Brazil ANVISA GMP MD  Chapter 2 General Quality System Requirements   \n",
       "\n",
       "                Chapter / Section Article / Paragraph  \\\n",
       "0         2.1. General Provisions               2.1.1   \n",
       "1  2.2. Management responsibility               2.2.1   \n",
       "\n",
       "                                                Text                 Date  \\\n",
       "0  General Quality System Requirements […] Genera...  2013-03-28 00:00:00   \n",
       "1  General Quality System Requirements […] Manage...  2013-03-28 00:00:00   \n",
       "\n",
       "     Product Type  GxP Regulatory Requirement Type  \\\n",
       "0  Medical Device  GMP                        Core   \n",
       "1  Medical Device  GMP                        Core   \n",
       "\n",
       "       Full article reference Mapped to a standard?  \\\n",
       "0  Brazil ANVISA GMP MD 2.1.1  Mapped to a standard   \n",
       "1  Brazil ANVISA GMP MD 2.2.1  Mapped to a standard   \n",
       "\n",
       "                        Standard mapping?  \n",
       "0         Regulatory Standards Management  \n",
       "1  Quality Planning, \\nQuality Management  "
      ]
     },
     "execution_count": 148,
     "metadata": {},
     "output_type": "execute_result"
    }
   ],
   "source": [
    "\n",
    "xls = pd.ExcelFile(os.path.join(data.data_path, \"Regulatory Requirements.xlsx\"))\n",
    "df = pd.read_excel(xls, \"Requirements List\")\n",
    "df.head(2)"
   ]
  },
  {
   "cell_type": "code",
   "execution_count": 149,
   "metadata": {},
   "outputs": [],
   "source": [
    "TEXT = \"Text\"\n",
    "TARGET = \"Standard mapping?\"\n",
    "REQUIREMENT = \"Regulatory Requirement Type\"\n",
    "IS_MAPPED = \"Mapped to a standard?\"\n",
    "IS_MAPPED_TRUE = \"Mapped to a standard\""
   ]
  },
  {
   "cell_type": "code",
   "execution_count": 150,
   "metadata": {},
   "outputs": [
    {
     "data": {
      "text/plain": [
       "Mapped to a standard?\n",
       "No mapping              6326\n",
       "Mapped to a standard    3906\n",
       "dtype: int64"
      ]
     },
     "execution_count": 150,
     "metadata": {},
     "output_type": "execute_result"
    }
   ],
   "source": [
    "df.value_counts(IS_MAPPED)"
   ]
  },
  {
   "cell_type": "code",
   "execution_count": 151,
   "metadata": {},
   "outputs": [
    {
     "data": {
      "text/plain": [
       "Core        6316\n",
       "Non-core    3067\n",
       "Obsolete     849\n",
       "Name: Regulatory Requirement Type, dtype: int64"
      ]
     },
     "execution_count": 151,
     "metadata": {},
     "output_type": "execute_result"
    }
   ],
   "source": [
    "requirement_map = {\n",
    "    \"Non-Core\": \"Non-core\",\n",
    "    \"Non-core\": \"Non-core\",\n",
    "    \"non-core\": \"Non-core\",\n",
    "    \"Core\": \"Core\",\n",
    "    \"Obsolete\": \"Obsolete\"\n",
    "}\n",
    "df[REQUIREMENT] = df[REQUIREMENT].map(requirement_map)\n",
    "df[REQUIREMENT].value_counts()"
   ]
  },
  {
   "cell_type": "code",
   "execution_count": 152,
   "metadata": {},
   "outputs": [
    {
     "data": {
      "text/plain": [
       "Text                 0\n",
       "Standard mapping?    0\n",
       "dtype: int64"
      ]
     },
     "execution_count": 152,
     "metadata": {},
     "output_type": "execute_result"
    }
   ],
   "source": [
    "df = df[df[IS_MAPPED].isin([IS_MAPPED_TRUE])].copy()\n",
    "df.reset_index(drop=True, inplace=True)\n",
    "# Keep only relevant columns\n",
    "temp = df[[TEXT, TARGET]].copy()\n",
    "temp.isna().sum()"
   ]
  },
  {
   "cell_type": "code",
   "execution_count": 153,
   "metadata": {},
   "outputs": [],
   "source": [
    "# Convert target column into list of labels\n",
    "temp[TARGET] = \\\n",
    "    temp[TARGET].str.lower() \\\n",
    "    .apply(lambda x: list(x.split(\"\\n\"))) \\\n",
    "    .apply(lambda x: [y.split(\",\") for y in x]) \\\n",
    "    .apply(lambda x: list(itertools.chain(*x))) \\\n",
    "    .apply(lambda x: [y.strip().replace(\"-\", \" \") for y in x if y.strip() != \"\"]).copy()"
   ]
  },
  {
   "cell_type": "code",
   "execution_count": 154,
   "metadata": {},
   "outputs": [],
   "source": [
    "stop_words = nltk.corpus.stopwords.words('english')\n",
    "stop_words.extend([\"shall\"])\n",
    "stemmer = PorterStemmer()\n",
    "lemmatizer = WordNetLemmatizer()\n",
    "## Clean text (regluations)\n",
    "# Conver to lower case\n",
    "temp[TEXT] = temp[TEXT].str.lower()\n",
    "# Remove HTML\n",
    "temp[TEXT] = temp[TEXT].str.replace(\"<[^<]+?>\", \" \", regex=True)\n",
    "# Remove symbols\n",
    "temp[TEXT] = temp[TEXT].str.replace(r\"[/(){}\\[\\]\\|@,;\\-]\", \" \", regex=True)\n",
    "# Remove punctuation\n",
    "temp[TEXT] = temp[TEXT].str.replace(r\"[^\\w\\s]\", \" \", regex=True)\n",
    "# Tokenize\n",
    "temp[TEXT] = temp[TEXT].apply(lambda x: word_tokenize(x))\n",
    "# Remove stopwords\n",
    "temp[TEXT] = temp[TEXT].apply(lambda x: [word for word in x if word not in stop_words])\n",
    "# Lemmatize\n",
    "temp[TEXT] = temp[TEXT].apply(lambda x: [lemmatizer.lemmatize(word) for word in x])\n",
    "# Join\n",
    "temp[TEXT] = temp[TEXT].apply(lambda x: \" \".join(x))"
   ]
  },
  {
   "cell_type": "code",
   "execution_count": 155,
   "metadata": {},
   "outputs": [],
   "source": [
    "for i in range(temp.shape[0]):\n",
    "    text = \"###\\n\"\n",
    "    text += temp[TEXT][i]\n",
    "    text += \"\\n\\nClassification:\\n\"\n",
    "    labels = list(temp[TARGET][i])\n",
    "    for j, label in enumerate(labels):\n",
    "        text = text + \"Class \" + str(j+1) + \": \" + label + \"\\n\"\n",
    "    text += \"###\"\n",
    "    temp.at[i,TEXT] = text\n",
    "    "
   ]
  },
  {
   "cell_type": "code",
   "execution_count": 156,
   "metadata": {},
   "outputs": [],
   "source": [
    "# list(temp[TARGET][2])"
   ]
  },
  {
   "cell_type": "code",
   "execution_count": 162,
   "metadata": {},
   "outputs": [
    {
     "name": "stdout",
     "output_type": "stream",
     "text": [
      "###\n",
      "general quality system requirement management responsibility resource personnel verification activity manufacturer establish function verification activity provide appropriate resource designates trained personnel perform activity verification\n",
      "\n",
      "Classification:\n",
      "Class 1: training\n",
      "Class 2: samd\n",
      "Class 3: quality management\n",
      "###\n",
      "['training', 'samd', 'quality management']\n"
     ]
    }
   ],
   "source": [
    "print(temp[TEXT][4])\n",
    "print(temp[TARGET][4])"
   ]
  },
  {
   "cell_type": "code",
   "execution_count": 163,
   "metadata": {},
   "outputs": [
    {
     "data": {
      "text/html": [
       "<div>\n",
       "<style scoped>\n",
       "    .dataframe tbody tr th:only-of-type {\n",
       "        vertical-align: middle;\n",
       "    }\n",
       "\n",
       "    .dataframe tbody tr th {\n",
       "        vertical-align: top;\n",
       "    }\n",
       "\n",
       "    .dataframe thead th {\n",
       "        text-align: right;\n",
       "    }\n",
       "</style>\n",
       "<table border=\"1\" class=\"dataframe\">\n",
       "  <thead>\n",
       "    <tr style=\"text-align: right;\">\n",
       "      <th></th>\n",
       "      <th>Text</th>\n",
       "      <th>Standard mapping?</th>\n",
       "    </tr>\n",
       "  </thead>\n",
       "  <tbody>\n",
       "    <tr>\n",
       "      <th>0</th>\n",
       "      <td>###\\ngeneral quality system requirement genera...</td>\n",
       "      <td>[regulatory standards management]</td>\n",
       "    </tr>\n",
       "    <tr>\n",
       "      <th>1</th>\n",
       "      <td>###\\ngeneral quality system requirement manage...</td>\n",
       "      <td>[quality planning, quality management]</td>\n",
       "    </tr>\n",
       "    <tr>\n",
       "      <th>2</th>\n",
       "      <td>###\\ngeneral quality system requirement manage...</td>\n",
       "      <td>[quality management]</td>\n",
       "    </tr>\n",
       "    <tr>\n",
       "      <th>3</th>\n",
       "      <td>###\\ngeneral quality system requirement manage...</td>\n",
       "      <td>[quality management]</td>\n",
       "    </tr>\n",
       "    <tr>\n",
       "      <th>4</th>\n",
       "      <td>###\\ngeneral quality system requirement manage...</td>\n",
       "      <td>[training, samd, quality management]</td>\n",
       "    </tr>\n",
       "    <tr>\n",
       "      <th>...</th>\n",
       "      <td>...</td>\n",
       "      <td>...</td>\n",
       "    </tr>\n",
       "    <tr>\n",
       "      <th>3901</th>\n",
       "      <td>###\\npost market surveillance system suited ac...</td>\n",
       "      <td>[medical device post market surveillance]</td>\n",
       "    </tr>\n",
       "    <tr>\n",
       "      <th>3902</th>\n",
       "      <td>###\\ndata gathered manufacturer post market su...</td>\n",
       "      <td>[medical device post market surveillance]</td>\n",
       "    </tr>\n",
       "    <tr>\n",
       "      <th>3903</th>\n",
       "      <td>###\\ncourse post market surveillance need prev...</td>\n",
       "      <td>[medical device post market surveillance]</td>\n",
       "    </tr>\n",
       "    <tr>\n",
       "      <th>3904</th>\n",
       "      <td>###\\neconomic operator mean manufacturer autho...</td>\n",
       "      <td>[medical device post market surveillance]</td>\n",
       "    </tr>\n",
       "    <tr>\n",
       "      <th>3905</th>\n",
       "      <td>###\\ndevice divided class iia iib iii taking a...</td>\n",
       "      <td>[medical device post market surveillance]</td>\n",
       "    </tr>\n",
       "  </tbody>\n",
       "</table>\n",
       "<p>3906 rows × 2 columns</p>\n",
       "</div>"
      ],
      "text/plain": [
       "                                                   Text  \\\n",
       "0     ###\\ngeneral quality system requirement genera...   \n",
       "1     ###\\ngeneral quality system requirement manage...   \n",
       "2     ###\\ngeneral quality system requirement manage...   \n",
       "3     ###\\ngeneral quality system requirement manage...   \n",
       "4     ###\\ngeneral quality system requirement manage...   \n",
       "...                                                 ...   \n",
       "3901  ###\\npost market surveillance system suited ac...   \n",
       "3902  ###\\ndata gathered manufacturer post market su...   \n",
       "3903  ###\\ncourse post market surveillance need prev...   \n",
       "3904  ###\\neconomic operator mean manufacturer autho...   \n",
       "3905  ###\\ndevice divided class iia iib iii taking a...   \n",
       "\n",
       "                              Standard mapping?  \n",
       "0             [regulatory standards management]  \n",
       "1        [quality planning, quality management]  \n",
       "2                          [quality management]  \n",
       "3                          [quality management]  \n",
       "4          [training, samd, quality management]  \n",
       "...                                         ...  \n",
       "3901  [medical device post market surveillance]  \n",
       "3902  [medical device post market surveillance]  \n",
       "3903  [medical device post market surveillance]  \n",
       "3904  [medical device post market surveillance]  \n",
       "3905  [medical device post market surveillance]  \n",
       "\n",
       "[3906 rows x 2 columns]"
      ]
     },
     "execution_count": 163,
     "metadata": {},
     "output_type": "execute_result"
    }
   ],
   "source": [
    "temp"
   ]
  },
  {
   "cell_type": "code",
   "execution_count": null,
   "metadata": {},
   "outputs": [],
   "source": [
    "# Output to CSV"
   ]
  }
 ],
 "metadata": {
  "kernelspec": {
   "display_name": "Python 3.9.13 ('capstone')",
   "language": "python",
   "name": "python3"
  },
  "language_info": {
   "codemirror_mode": {
    "name": "ipython",
    "version": 3
   },
   "file_extension": ".py",
   "mimetype": "text/x-python",
   "name": "python",
   "nbconvert_exporter": "python",
   "pygments_lexer": "ipython3",
   "version": "3.9.13"
  },
  "orig_nbformat": 4,
  "vscode": {
   "interpreter": {
    "hash": "ee1a7fc9c2398deab6680f494ca0525dc0a0c65e86127a532db75e551d9f860a"
   }
  }
 },
 "nbformat": 4,
 "nbformat_minor": 2
}
